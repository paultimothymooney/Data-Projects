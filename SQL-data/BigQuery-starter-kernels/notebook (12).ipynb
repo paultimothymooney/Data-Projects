{
  "cells": [
    {
      "metadata": {
        "_cell_guid": "307eb20a-56a5-43b9-832b-a76b338ad5e3",
        "_uuid": "de5c8ef6d5d0ee22ec7e55b629d1c1f08d2b8efd"
      },
      "cell_type": "markdown",
      "source": "**How to Query the World Bank: International Debt Data (BigQuery Dataset)**"
    },
    {
      "metadata": {
        "_cell_guid": "b1076dfc-b9ad-4769-8c92-a6c4dae69d19",
        "_uuid": "8f2839f25d086af736a60e9eeb907d3b93b6e0e5",
        "collapsed": true,
        "trusted": true
      },
      "cell_type": "code",
      "source": "import bq_helper\nfrom bq_helper import BigQueryHelper\n# https://www.kaggle.com/sohier/introduction-to-the-bq-helper-package\nwbid = bq_helper.BigQueryHelper(active_project=\"bigquery-public-data\",\n                                   dataset_name=\"world_bank_intl_debt\")",
      "execution_count": 1,
      "outputs": []
    },
    {
      "metadata": {
        "_cell_guid": "b0442c95-01fa-4688-9a30-718347933e0f",
        "_uuid": "a3415035b50ece1df93c6573539798b929a597f5",
        "trusted": true
      },
      "cell_type": "code",
      "source": "bq_assistant = BigQueryHelper(\"bigquery-public-data\", \"world_bank_intl_debt\")\nbq_assistant.list_tables()",
      "execution_count": 2,
      "outputs": [
        {
          "output_type": "execute_result",
          "execution_count": 2,
          "data": {
            "text/plain": "['country_series_definitions',\n 'country_summary',\n 'international_debt',\n 'series_summary',\n 'series_times']"
          },
          "metadata": {}
        }
      ]
    },
    {
      "metadata": {
        "_cell_guid": "a2805b6e-5e32-484c-b1c7-a7e3d364ef35",
        "_uuid": "f6d79a4aae694e0bc61d4dbc4724005d913b9248",
        "trusted": true
      },
      "cell_type": "code",
      "source": "bq_assistant.head(\"international_debt\", num_rows=15)",
      "execution_count": 3,
      "outputs": [
        {
          "output_type": "execute_result",
          "execution_count": 3,
          "data": {
            "text/plain": "   country_name country_code  \\\n0   Afghanistan          AFG   \n1   Afghanistan          AFG   \n2   Afghanistan          AFG   \n3   Afghanistan          AFG   \n4   Afghanistan          AFG   \n5   Afghanistan          AFG   \n6   Afghanistan          AFG   \n7   Afghanistan          AFG   \n8   Afghanistan          AFG   \n9   Afghanistan          AFG   \n10  Afghanistan          AFG   \n11  Afghanistan          AFG   \n12  Afghanistan          AFG   \n13  Afghanistan          AFG   \n14  Afghanistan          AFG   \n\n                                       indicator_name  indicator_code  year  \\\n0                   PPG, bilateral (DIS, current US$)  DT.DIS.BLAT.CD  2021   \n1   Interest payments on external debt, long-term ...  DT.INT.DLXF.CD  2020   \n2                PPG, multilateral (DIS, current US$)  DT.DIS.MLAT.CD  2017   \n3          PPG, official creditors (DIS, current US$)  DT.DIS.OFFT.CD  2018   \n4                   PPG, bilateral (INT, current US$)  DT.INT.BLAT.CD  2022   \n5                   PPG, bilateral (AMT, current US$)  DT.AMT.BLAT.CD  2022   \n6                PPG, multilateral (INT, current US$)  DT.INT.MLAT.CD  2022   \n7          PPG, official creditors (AMT, current US$)  DT.AMT.OFFT.CD  2022   \n8          PPG, official creditors (INT, current US$)  DT.INT.OFFT.CD  2020   \n9          PPG, official creditors (AMT, current US$)  DT.AMT.OFFT.CD  2018   \n10         PPG, official creditors (AMT, current US$)  DT.AMT.OFFT.CD  2023   \n11               PPG, multilateral (AMT, current US$)  DT.AMT.MLAT.CD  2019   \n12         PPG, official creditors (AMT, current US$)  DT.AMT.OFFT.CD  2020   \n13  Disbursements on external debt, long-term (DIS...  DT.DIS.DLXF.CD  2023   \n14         PPG, official creditors (INT, current US$)  DT.INT.OFFT.CD  2024   \n\n         value  \n0    1553000.0  \n1   45458000.0  \n2    8276000.0  \n3   15646000.0  \n4   27428000.0  \n5   56988000.0  \n6   10684000.0  \n7   94128000.0  \n8   45458000.0  \n9   93628000.0  \n10  94128000.0  \n11  37140000.0  \n12  94128000.0  \n13    491000.0  \n14  30754000.0  ",
            "text/html": "<div>\n<style scoped>\n    .dataframe tbody tr th:only-of-type {\n        vertical-align: middle;\n    }\n\n    .dataframe tbody tr th {\n        vertical-align: top;\n    }\n\n    .dataframe thead th {\n        text-align: right;\n    }\n</style>\n<table border=\"1\" class=\"dataframe\">\n  <thead>\n    <tr style=\"text-align: right;\">\n      <th></th>\n      <th>country_name</th>\n      <th>country_code</th>\n      <th>indicator_name</th>\n      <th>indicator_code</th>\n      <th>year</th>\n      <th>value</th>\n    </tr>\n  </thead>\n  <tbody>\n    <tr>\n      <th>0</th>\n      <td>Afghanistan</td>\n      <td>AFG</td>\n      <td>PPG, bilateral (DIS, current US$)</td>\n      <td>DT.DIS.BLAT.CD</td>\n      <td>2021</td>\n      <td>1553000.0</td>\n    </tr>\n    <tr>\n      <th>1</th>\n      <td>Afghanistan</td>\n      <td>AFG</td>\n      <td>Interest payments on external debt, long-term ...</td>\n      <td>DT.INT.DLXF.CD</td>\n      <td>2020</td>\n      <td>45458000.0</td>\n    </tr>\n    <tr>\n      <th>2</th>\n      <td>Afghanistan</td>\n      <td>AFG</td>\n      <td>PPG, multilateral (DIS, current US$)</td>\n      <td>DT.DIS.MLAT.CD</td>\n      <td>2017</td>\n      <td>8276000.0</td>\n    </tr>\n    <tr>\n      <th>3</th>\n      <td>Afghanistan</td>\n      <td>AFG</td>\n      <td>PPG, official creditors (DIS, current US$)</td>\n      <td>DT.DIS.OFFT.CD</td>\n      <td>2018</td>\n      <td>15646000.0</td>\n    </tr>\n    <tr>\n      <th>4</th>\n      <td>Afghanistan</td>\n      <td>AFG</td>\n      <td>PPG, bilateral (INT, current US$)</td>\n      <td>DT.INT.BLAT.CD</td>\n      <td>2022</td>\n      <td>27428000.0</td>\n    </tr>\n    <tr>\n      <th>5</th>\n      <td>Afghanistan</td>\n      <td>AFG</td>\n      <td>PPG, bilateral (AMT, current US$)</td>\n      <td>DT.AMT.BLAT.CD</td>\n      <td>2022</td>\n      <td>56988000.0</td>\n    </tr>\n    <tr>\n      <th>6</th>\n      <td>Afghanistan</td>\n      <td>AFG</td>\n      <td>PPG, multilateral (INT, current US$)</td>\n      <td>DT.INT.MLAT.CD</td>\n      <td>2022</td>\n      <td>10684000.0</td>\n    </tr>\n    <tr>\n      <th>7</th>\n      <td>Afghanistan</td>\n      <td>AFG</td>\n      <td>PPG, official creditors (AMT, current US$)</td>\n      <td>DT.AMT.OFFT.CD</td>\n      <td>2022</td>\n      <td>94128000.0</td>\n    </tr>\n    <tr>\n      <th>8</th>\n      <td>Afghanistan</td>\n      <td>AFG</td>\n      <td>PPG, official creditors (INT, current US$)</td>\n      <td>DT.INT.OFFT.CD</td>\n      <td>2020</td>\n      <td>45458000.0</td>\n    </tr>\n    <tr>\n      <th>9</th>\n      <td>Afghanistan</td>\n      <td>AFG</td>\n      <td>PPG, official creditors (AMT, current US$)</td>\n      <td>DT.AMT.OFFT.CD</td>\n      <td>2018</td>\n      <td>93628000.0</td>\n    </tr>\n    <tr>\n      <th>10</th>\n      <td>Afghanistan</td>\n      <td>AFG</td>\n      <td>PPG, official creditors (AMT, current US$)</td>\n      <td>DT.AMT.OFFT.CD</td>\n      <td>2023</td>\n      <td>94128000.0</td>\n    </tr>\n    <tr>\n      <th>11</th>\n      <td>Afghanistan</td>\n      <td>AFG</td>\n      <td>PPG, multilateral (AMT, current US$)</td>\n      <td>DT.AMT.MLAT.CD</td>\n      <td>2019</td>\n      <td>37140000.0</td>\n    </tr>\n    <tr>\n      <th>12</th>\n      <td>Afghanistan</td>\n      <td>AFG</td>\n      <td>PPG, official creditors (AMT, current US$)</td>\n      <td>DT.AMT.OFFT.CD</td>\n      <td>2020</td>\n      <td>94128000.0</td>\n    </tr>\n    <tr>\n      <th>13</th>\n      <td>Afghanistan</td>\n      <td>AFG</td>\n      <td>Disbursements on external debt, long-term (DIS...</td>\n      <td>DT.DIS.DLXF.CD</td>\n      <td>2023</td>\n      <td>491000.0</td>\n    </tr>\n    <tr>\n      <th>14</th>\n      <td>Afghanistan</td>\n      <td>AFG</td>\n      <td>PPG, official creditors (INT, current US$)</td>\n      <td>DT.INT.OFFT.CD</td>\n      <td>2024</td>\n      <td>30754000.0</td>\n    </tr>\n  </tbody>\n</table>\n</div>"
          },
          "metadata": {}
        }
      ]
    },
    {
      "metadata": {
        "_cell_guid": "87e3e8b9-e8c4-48fd-99d3-a77034d474bf",
        "_uuid": "bbb18e3c781e1ce11b83342cc42b46b4eb4f1a81",
        "trusted": true
      },
      "cell_type": "code",
      "source": "bq_assistant.table_schema(\"international_debt\")",
      "execution_count": 4,
      "outputs": [
        {
          "output_type": "execute_result",
          "execution_count": 4,
          "data": {
            "text/plain": "[SchemaField('country_name', 'STRING', 'NULLABLE', '', ()),\n SchemaField('country_code', 'STRING', 'NULLABLE', '', ()),\n SchemaField('indicator_name', 'STRING', 'NULLABLE', '', ()),\n SchemaField('indicator_code', 'STRING', 'NULLABLE', '', ()),\n SchemaField('year', 'INTEGER', 'NULLABLE', '', ()),\n SchemaField('value', 'FLOAT', 'NULLABLE', '', ())]"
          },
          "metadata": {}
        }
      ]
    },
    {
      "metadata": {
        "_cell_guid": "ec2e26b9-885e-4f12-8d20-2f8c494d6f3e",
        "_uuid": "8eeda9ae334f9bc0dc313635abee9c9c0d582f6c"
      },
      "cell_type": "markdown",
      "source": "What countries had the largest outstanding debt in 2016?\n"
    },
    {
      "metadata": {
        "_cell_guid": "ab7c4d65-3cc2-4192-992c-b030c33b2010",
        "_uuid": "f498dd0e54911bf273ae4a76fd6a2bdaebf96f15",
        "trusted": true
      },
      "cell_type": "code",
      "source": "query1 = \"\"\"\nSELECT\n  id.country_name,\n  id.value AS debt --format in DataStudio\nFROM (\n  SELECT\n    country_code,\n    region\n  FROM\n    `bigquery-public-data.world_bank_intl_debt.country_summary`\n  WHERE\n    region != \"\" ) cs --aggregated countries do not have a region\nINNER JOIN (\n  SELECT\n    country_code,\n    country_name,\n    value,\n    year\n  FROM\n    `bigquery-public-data.world_bank_intl_debt.international_debt`\n  WHERE\n    indicator_code = \"DT.DOD.PVLX.CD\"\n    AND year = 2016 ) id\nON\n  cs.country_code = id.country_code\nORDER BY\n  id.value DESC\n;\n        \"\"\"\nresponse1 = wbid.query_to_pandas_safe(query1)\nresponse1.head(50)",
      "execution_count": 5,
      "outputs": [
        {
          "output_type": "execute_result",
          "execution_count": 5,
          "data": {
            "text/plain": "          country_name          debt\n0               Mexico  2.990087e+11\n1   Russian Federation  2.004489e+11\n2            Indonesia  1.828286e+11\n3               Brazil  1.825803e+11\n4                India  1.657378e+11\n5                China  1.274301e+11\n6            Argentina  1.232277e+11\n7               Turkey  1.231449e+11\n8             Colombia  7.800229e+10\n9        Venezuela, RB  6.270904e+10\n10        South Africa  6.242701e+10\n11         Philippines  5.413114e+10\n12            Pakistan  4.939735e+10\n13             Ukraine  4.853501e+10\n14            Malaysia  4.554387e+10\n15             Vietnam  4.395460e+10\n16    Egypt, Arab Rep.  4.200246e+10\n17             Romania  3.786989e+10\n18             Morocco  3.153997e+10\n19             Lebanon  3.152587e+10\n20              Angola  2.961244e+10\n21           Sri Lanka  2.891414e+10\n22                Peru  2.504079e+10\n23          Kazakhstan  2.466075e+10\n24          Bangladesh  2.277666e+10\n25             Ecuador  2.176126e+10\n26  Dominican Republic  2.119520e+10\n27               Sudan  2.018198e+10\n28            Thailand  1.934763e+10\n29              Panama  1.890679e+10\n30             Tunisia  1.886162e+10\n31              Serbia  1.760383e+10\n32            Ethiopia  1.729074e+10\n33             Belarus  1.689047e+10\n34               Ghana  1.688830e+10\n35               Kenya  1.477249e+10\n36          Costa Rica  1.423691e+10\n37             Jamaica  1.323228e+10\n38              Jordan  1.234052e+10\n39         El Salvador  1.092715e+10\n40            Bulgaria  9.940837e+09\n41            Tanzania  9.545469e+09\n42       Cote d'Ivoire  9.530633e+09\n43             Nigeria  9.073489e+09\n44           Guatemala  8.768142e+09\n45          Mozambique  7.934778e+09\n46          Azerbaijan  7.885508e+09\n47              Zambia  7.315284e+09\n48             Bolivia  6.389729e+09\n49            Honduras  6.220478e+09",
            "text/html": "<div>\n<style scoped>\n    .dataframe tbody tr th:only-of-type {\n        vertical-align: middle;\n    }\n\n    .dataframe tbody tr th {\n        vertical-align: top;\n    }\n\n    .dataframe thead th {\n        text-align: right;\n    }\n</style>\n<table border=\"1\" class=\"dataframe\">\n  <thead>\n    <tr style=\"text-align: right;\">\n      <th></th>\n      <th>country_name</th>\n      <th>debt</th>\n    </tr>\n  </thead>\n  <tbody>\n    <tr>\n      <th>0</th>\n      <td>Mexico</td>\n      <td>2.990087e+11</td>\n    </tr>\n    <tr>\n      <th>1</th>\n      <td>Russian Federation</td>\n      <td>2.004489e+11</td>\n    </tr>\n    <tr>\n      <th>2</th>\n      <td>Indonesia</td>\n      <td>1.828286e+11</td>\n    </tr>\n    <tr>\n      <th>3</th>\n      <td>Brazil</td>\n      <td>1.825803e+11</td>\n    </tr>\n    <tr>\n      <th>4</th>\n      <td>India</td>\n      <td>1.657378e+11</td>\n    </tr>\n    <tr>\n      <th>5</th>\n      <td>China</td>\n      <td>1.274301e+11</td>\n    </tr>\n    <tr>\n      <th>6</th>\n      <td>Argentina</td>\n      <td>1.232277e+11</td>\n    </tr>\n    <tr>\n      <th>7</th>\n      <td>Turkey</td>\n      <td>1.231449e+11</td>\n    </tr>\n    <tr>\n      <th>8</th>\n      <td>Colombia</td>\n      <td>7.800229e+10</td>\n    </tr>\n    <tr>\n      <th>9</th>\n      <td>Venezuela, RB</td>\n      <td>6.270904e+10</td>\n    </tr>\n    <tr>\n      <th>10</th>\n      <td>South Africa</td>\n      <td>6.242701e+10</td>\n    </tr>\n    <tr>\n      <th>11</th>\n      <td>Philippines</td>\n      <td>5.413114e+10</td>\n    </tr>\n    <tr>\n      <th>12</th>\n      <td>Pakistan</td>\n      <td>4.939735e+10</td>\n    </tr>\n    <tr>\n      <th>13</th>\n      <td>Ukraine</td>\n      <td>4.853501e+10</td>\n    </tr>\n    <tr>\n      <th>14</th>\n      <td>Malaysia</td>\n      <td>4.554387e+10</td>\n    </tr>\n    <tr>\n      <th>15</th>\n      <td>Vietnam</td>\n      <td>4.395460e+10</td>\n    </tr>\n    <tr>\n      <th>16</th>\n      <td>Egypt, Arab Rep.</td>\n      <td>4.200246e+10</td>\n    </tr>\n    <tr>\n      <th>17</th>\n      <td>Romania</td>\n      <td>3.786989e+10</td>\n    </tr>\n    <tr>\n      <th>18</th>\n      <td>Morocco</td>\n      <td>3.153997e+10</td>\n    </tr>\n    <tr>\n      <th>19</th>\n      <td>Lebanon</td>\n      <td>3.152587e+10</td>\n    </tr>\n    <tr>\n      <th>20</th>\n      <td>Angola</td>\n      <td>2.961244e+10</td>\n    </tr>\n    <tr>\n      <th>21</th>\n      <td>Sri Lanka</td>\n      <td>2.891414e+10</td>\n    </tr>\n    <tr>\n      <th>22</th>\n      <td>Peru</td>\n      <td>2.504079e+10</td>\n    </tr>\n    <tr>\n      <th>23</th>\n      <td>Kazakhstan</td>\n      <td>2.466075e+10</td>\n    </tr>\n    <tr>\n      <th>24</th>\n      <td>Bangladesh</td>\n      <td>2.277666e+10</td>\n    </tr>\n    <tr>\n      <th>25</th>\n      <td>Ecuador</td>\n      <td>2.176126e+10</td>\n    </tr>\n    <tr>\n      <th>26</th>\n      <td>Dominican Republic</td>\n      <td>2.119520e+10</td>\n    </tr>\n    <tr>\n      <th>27</th>\n      <td>Sudan</td>\n      <td>2.018198e+10</td>\n    </tr>\n    <tr>\n      <th>28</th>\n      <td>Thailand</td>\n      <td>1.934763e+10</td>\n    </tr>\n    <tr>\n      <th>29</th>\n      <td>Panama</td>\n      <td>1.890679e+10</td>\n    </tr>\n    <tr>\n      <th>30</th>\n      <td>Tunisia</td>\n      <td>1.886162e+10</td>\n    </tr>\n    <tr>\n      <th>31</th>\n      <td>Serbia</td>\n      <td>1.760383e+10</td>\n    </tr>\n    <tr>\n      <th>32</th>\n      <td>Ethiopia</td>\n      <td>1.729074e+10</td>\n    </tr>\n    <tr>\n      <th>33</th>\n      <td>Belarus</td>\n      <td>1.689047e+10</td>\n    </tr>\n    <tr>\n      <th>34</th>\n      <td>Ghana</td>\n      <td>1.688830e+10</td>\n    </tr>\n    <tr>\n      <th>35</th>\n      <td>Kenya</td>\n      <td>1.477249e+10</td>\n    </tr>\n    <tr>\n      <th>36</th>\n      <td>Costa Rica</td>\n      <td>1.423691e+10</td>\n    </tr>\n    <tr>\n      <th>37</th>\n      <td>Jamaica</td>\n      <td>1.323228e+10</td>\n    </tr>\n    <tr>\n      <th>38</th>\n      <td>Jordan</td>\n      <td>1.234052e+10</td>\n    </tr>\n    <tr>\n      <th>39</th>\n      <td>El Salvador</td>\n      <td>1.092715e+10</td>\n    </tr>\n    <tr>\n      <th>40</th>\n      <td>Bulgaria</td>\n      <td>9.940837e+09</td>\n    </tr>\n    <tr>\n      <th>41</th>\n      <td>Tanzania</td>\n      <td>9.545469e+09</td>\n    </tr>\n    <tr>\n      <th>42</th>\n      <td>Cote d'Ivoire</td>\n      <td>9.530633e+09</td>\n    </tr>\n    <tr>\n      <th>43</th>\n      <td>Nigeria</td>\n      <td>9.073489e+09</td>\n    </tr>\n    <tr>\n      <th>44</th>\n      <td>Guatemala</td>\n      <td>8.768142e+09</td>\n    </tr>\n    <tr>\n      <th>45</th>\n      <td>Mozambique</td>\n      <td>7.934778e+09</td>\n    </tr>\n    <tr>\n      <th>46</th>\n      <td>Azerbaijan</td>\n      <td>7.885508e+09</td>\n    </tr>\n    <tr>\n      <th>47</th>\n      <td>Zambia</td>\n      <td>7.315284e+09</td>\n    </tr>\n    <tr>\n      <th>48</th>\n      <td>Bolivia</td>\n      <td>6.389729e+09</td>\n    </tr>\n    <tr>\n      <th>49</th>\n      <td>Honduras</td>\n      <td>6.220478e+09</td>\n    </tr>\n  </tbody>\n</table>\n</div>"
          },
          "metadata": {}
        }
      ]
    },
    {
      "metadata": {
        "_cell_guid": "9fa4f6df-128d-4f98-81f2-46eb54719af0",
        "_uuid": "88e406ad345893f0e86ce250eac74b4e1401fa49"
      },
      "cell_type": "markdown",
      "source": "![](https://cloud.google.com/bigquery/images/outstanding-debt.png)\nhttps://cloud.google.com/bigquery/images/outstanding-debt.png\n"
    },
    {
      "metadata": {
        "_cell_guid": "87ba4e16-08e7-4325-b0ab-e35a0cf07479",
        "_uuid": "450d392be87f17bcf55e86d2ee1c42f6b24d539d",
        "collapsed": true,
        "trusted": true
      },
      "cell_type": "code",
      "source": "",
      "execution_count": null,
      "outputs": []
    }
  ],
  "metadata": {
    "kernelspec": {
      "display_name": "Python 3",
      "language": "python",
      "name": "python3"
    },
    "language_info": {
      "name": "python",
      "version": "3.6.4",
      "mimetype": "text/x-python",
      "codemirror_mode": {
        "name": "ipython",
        "version": 3
      },
      "pygments_lexer": "ipython3",
      "nbconvert_exporter": "python",
      "file_extension": ".py"
    }
  },
  "nbformat": 4,
  "nbformat_minor": 1
}