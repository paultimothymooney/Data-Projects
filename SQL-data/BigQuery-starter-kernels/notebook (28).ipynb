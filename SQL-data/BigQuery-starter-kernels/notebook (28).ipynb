{
  "cells": [
    {
      "metadata": {
        "_uuid": "de5c8ef6d5d0ee22ec7e55b629d1c1f08d2b8efd",
        "_cell_guid": "307eb20a-56a5-43b9-832b-a76b338ad5e3"
      },
      "cell_type": "markdown",
      "source": "**How to Query the Healthcare Common Procedure Coding System (HCPCS) Level II\n Dataset (BigQuery)**"
    },
    {
      "metadata": {
        "_uuid": "8f2839f25d086af736a60e9eeb907d3b93b6e0e5",
        "_cell_guid": "b1076dfc-b9ad-4769-8c92-a6c4dae69d19",
        "collapsed": true,
        "trusted": true
      },
      "cell_type": "code",
      "source": "import bq_helper\nfrom bq_helper import BigQueryHelper\n# https://www.kaggle.com/sohier/introduction-to-the-bq-helper-package\nHCPCS2 = bq_helper.BigQueryHelper(active_project=\"bigquery-public-data\",\n                                   dataset_name=\"cms_codes\")",
      "execution_count": 1,
      "outputs": []
    },
    {
      "metadata": {
        "_uuid": "a3415035b50ece1df93c6573539798b929a597f5",
        "_cell_guid": "b0442c95-01fa-4688-9a30-718347933e0f",
        "trusted": true
      },
      "cell_type": "code",
      "source": "bq_assistant = BigQueryHelper(\"bigquery-public-data\", \"cms_codes\")\nbq_assistant.list_tables()",
      "execution_count": 2,
      "outputs": [
        {
          "output_type": "execute_result",
          "execution_count": 2,
          "data": {
            "text/plain": "['hcpcs', 'icd9_diagnoses', 'icd9_procedures']"
          },
          "metadata": {}
        }
      ]
    },
    {
      "metadata": {
        "_uuid": "f6d79a4aae694e0bc61d4dbc4724005d913b9248",
        "_cell_guid": "a2805b6e-5e32-484c-b1c7-a7e3d364ef35",
        "trusted": true
      },
      "cell_type": "code",
      "source": "bq_assistant.head(\"hcpcs\", num_rows=3)",
      "execution_count": 3,
      "outputs": [
        {
          "output_type": "execute_result",
          "execution_count": 3,
          "data": {
            "text/plain": "  HCPC SEQNUM  RECID                                   LONG_DESCRIPTION  \\\n0   QW   0010      7                                   Clia waived test   \n1   KQ   0010      7  Second or subsequent drug of a multiple drug u...   \n2   KO   0010      7                  Single drug unit dose formulation   \n\n              SHORT_DESCRIPTION PRICE1 PRICE2 PRICE3 PRICE4 MULT_PI    ...     \\\n0              Clia waived test                                        ...      \n1  2nd/subsqnt drg multi drg ud                                        ...      \n2    Single drug unit dose form                                        ...      \n\n  TOS1 TOS2 TOS3 TOS4 TOS5 ANEST_BU    ADD_DT ACT_EFF_DT TERM_DT ACTION_CD  \n0                                    19960101   19961001             False  \n1                                    19970401   19970401             False  \n2                                    19970401   19970401             False  \n\n[3 rows x 48 columns]",
            "text/html": "<div>\n<style scoped>\n    .dataframe tbody tr th:only-of-type {\n        vertical-align: middle;\n    }\n\n    .dataframe tbody tr th {\n        vertical-align: top;\n    }\n\n    .dataframe thead th {\n        text-align: right;\n    }\n</style>\n<table border=\"1\" class=\"dataframe\">\n  <thead>\n    <tr style=\"text-align: right;\">\n      <th></th>\n      <th>HCPC</th>\n      <th>SEQNUM</th>\n      <th>RECID</th>\n      <th>LONG_DESCRIPTION</th>\n      <th>SHORT_DESCRIPTION</th>\n      <th>PRICE1</th>\n      <th>PRICE2</th>\n      <th>PRICE3</th>\n      <th>PRICE4</th>\n      <th>MULT_PI</th>\n      <th>...</th>\n      <th>TOS1</th>\n      <th>TOS2</th>\n      <th>TOS3</th>\n      <th>TOS4</th>\n      <th>TOS5</th>\n      <th>ANEST_BU</th>\n      <th>ADD_DT</th>\n      <th>ACT_EFF_DT</th>\n      <th>TERM_DT</th>\n      <th>ACTION_CD</th>\n    </tr>\n  </thead>\n  <tbody>\n    <tr>\n      <th>0</th>\n      <td>QW</td>\n      <td>0010</td>\n      <td>7</td>\n      <td>Clia waived test</td>\n      <td>Clia waived test</td>\n      <td></td>\n      <td></td>\n      <td></td>\n      <td></td>\n      <td></td>\n      <td>...</td>\n      <td></td>\n      <td></td>\n      <td></td>\n      <td></td>\n      <td></td>\n      <td></td>\n      <td>19960101</td>\n      <td>19961001</td>\n      <td></td>\n      <td>False</td>\n    </tr>\n    <tr>\n      <th>1</th>\n      <td>KQ</td>\n      <td>0010</td>\n      <td>7</td>\n      <td>Second or subsequent drug of a multiple drug u...</td>\n      <td>2nd/subsqnt drg multi drg ud</td>\n      <td></td>\n      <td></td>\n      <td></td>\n      <td></td>\n      <td></td>\n      <td>...</td>\n      <td></td>\n      <td></td>\n      <td></td>\n      <td></td>\n      <td></td>\n      <td></td>\n      <td>19970401</td>\n      <td>19970401</td>\n      <td></td>\n      <td>False</td>\n    </tr>\n    <tr>\n      <th>2</th>\n      <td>KO</td>\n      <td>0010</td>\n      <td>7</td>\n      <td>Single drug unit dose formulation</td>\n      <td>Single drug unit dose form</td>\n      <td></td>\n      <td></td>\n      <td></td>\n      <td></td>\n      <td></td>\n      <td>...</td>\n      <td></td>\n      <td></td>\n      <td></td>\n      <td></td>\n      <td></td>\n      <td></td>\n      <td>19970401</td>\n      <td>19970401</td>\n      <td></td>\n      <td>False</td>\n    </tr>\n  </tbody>\n</table>\n<p>3 rows × 48 columns</p>\n</div>"
          },
          "metadata": {}
        }
      ]
    },
    {
      "metadata": {
        "_kg_hide-output": true,
        "_uuid": "bbb18e3c781e1ce11b83342cc42b46b4eb4f1a81",
        "_cell_guid": "87e3e8b9-e8c4-48fd-99d3-a77034d474bf",
        "trusted": true
      },
      "cell_type": "code",
      "source": "bq_assistant.table_schema(\"hcpcs\")",
      "execution_count": 4,
      "outputs": [
        {
          "output_type": "execute_result",
          "execution_count": 4,
          "data": {
            "text/plain": "[SchemaField('HCPC', 'STRING', 'NULLABLE', None, ()),\n SchemaField('SEQNUM', 'STRING', 'NULLABLE', None, ()),\n SchemaField('RECID', 'INTEGER', 'NULLABLE', None, ()),\n SchemaField('LONG_DESCRIPTION', 'STRING', 'NULLABLE', None, ()),\n SchemaField('SHORT_DESCRIPTION', 'STRING', 'NULLABLE', None, ()),\n SchemaField('PRICE1', 'STRING', 'NULLABLE', None, ()),\n SchemaField('PRICE2', 'STRING', 'NULLABLE', None, ()),\n SchemaField('PRICE3', 'STRING', 'NULLABLE', None, ()),\n SchemaField('PRICE4', 'STRING', 'NULLABLE', None, ()),\n SchemaField('MULT_PI', 'STRING', 'NULLABLE', None, ()),\n SchemaField('CIM1', 'STRING', 'NULLABLE', None, ()),\n SchemaField('CIM2', 'STRING', 'NULLABLE', None, ()),\n SchemaField('CIM3', 'STRING', 'NULLABLE', None, ()),\n SchemaField('MCM1', 'FLOAT', 'NULLABLE', None, ()),\n SchemaField('MCM2', 'INTEGER', 'NULLABLE', None, ()),\n SchemaField('MCM3', 'STRING', 'NULLABLE', None, ()),\n SchemaField('STATUTE', 'STRING', 'NULLABLE', None, ()),\n SchemaField('LABCERT1', 'STRING', 'NULLABLE', None, ()),\n SchemaField('LABCERT2', 'STRING', 'NULLABLE', None, ()),\n SchemaField('LABCERT3', 'STRING', 'NULLABLE', None, ()),\n SchemaField('LABCERT4', 'STRING', 'NULLABLE', None, ()),\n SchemaField('LABCERT5', 'STRING', 'NULLABLE', None, ()),\n SchemaField('LABCERT6', 'STRING', 'NULLABLE', None, ()),\n SchemaField('LABCERT7', 'STRING', 'NULLABLE', None, ()),\n SchemaField('LABCERT8', 'STRING', 'NULLABLE', None, ()),\n SchemaField('XREF1', 'STRING', 'NULLABLE', None, ()),\n SchemaField('XREF2', 'STRING', 'NULLABLE', None, ()),\n SchemaField('XREF3', 'STRING', 'NULLABLE', None, ()),\n SchemaField('XREF4', 'STRING', 'NULLABLE', None, ()),\n SchemaField('XREF5', 'STRING', 'NULLABLE', None, ()),\n SchemaField('COV', 'STRING', 'NULLABLE', None, ()),\n SchemaField('ASC_GRP', 'STRING', 'NULLABLE', None, ()),\n SchemaField('ASC_DT', 'STRING', 'NULLABLE', None, ()),\n SchemaField('OPPS', 'STRING', 'NULLABLE', None, ()),\n SchemaField('OPPS_PI', 'STRING', 'NULLABLE', None, ()),\n SchemaField('OPPS_DT', 'STRING', 'NULLABLE', None, ()),\n SchemaField('PROCNOTE', 'STRING', 'NULLABLE', None, ()),\n SchemaField('BETOS', 'STRING', 'NULLABLE', None, ()),\n SchemaField('TOS1', 'STRING', 'NULLABLE', None, ()),\n SchemaField('TOS2', 'STRING', 'NULLABLE', None, ()),\n SchemaField('TOS3', 'STRING', 'NULLABLE', None, ()),\n SchemaField('TOS4', 'STRING', 'NULLABLE', None, ()),\n SchemaField('TOS5', 'STRING', 'NULLABLE', None, ()),\n SchemaField('ANEST_BU', 'STRING', 'NULLABLE', None, ()),\n SchemaField('ADD_DT', 'STRING', 'NULLABLE', None, ()),\n SchemaField('ACT_EFF_DT', 'STRING', 'NULLABLE', None, ()),\n SchemaField('TERM_DT', 'STRING', 'NULLABLE', None, ()),\n SchemaField('ACTION_CD', 'BOOLEAN', 'NULLABLE', None, ())]"
          },
          "metadata": {}
        }
      ]
    },
    {
      "metadata": {
        "_uuid": "8eeda9ae334f9bc0dc313635abee9c9c0d582f6c",
        "_cell_guid": "ec2e26b9-885e-4f12-8d20-2f8c494d6f3e"
      },
      "cell_type": "markdown",
      "source": "What are the descriptions for a set of HCPCS level II codes?"
    },
    {
      "metadata": {
        "_uuid": "f498dd0e54911bf273ae4a76fd6a2bdaebf96f15",
        "_cell_guid": "ab7c4d65-3cc2-4192-992c-b030c33b2010",
        "trusted": true
      },
      "cell_type": "code",
      "source": "query1 = \"\"\"SELECT\n  HCPC,\n  SEQNUM,\n  RECID,\n  LONG_DESCRIPTION,\n  SHORT_DESCRIPTION\nFROM\n  `bigquery-public-data.cms_codes.hcpcs`\nWHERE\n  HCPC IN ('G0202',\n    'A0998',\n    'A4465',\n    'A4565',\n    'S9441' )\n        \"\"\"\nresponse1 = HCPCS2.query_to_pandas_safe(query1)\nresponse1.head(10)",
      "execution_count": 5,
      "outputs": [
        {
          "output_type": "execute_result",
          "execution_count": 5,
          "data": {
            "text/plain": "    HCPC SEQNUM  RECID                                   LONG_DESCRIPTION  \\\n0  G0202   0010      3  Screening mammography, bilateral (2-view study...   \n1  A4465   0010      3                   Non-elastic binder for extremity   \n2  A4565   0010      3                                             Slings   \n3  S9441   0010      3  Asthma education, non-physician provider, per ...   \n4  A0998   0010      3     Ambulance response and treatment, no transport   \n\n              SHORT_DESCRIPTION  \n0         Scr mammo bi incl cad  \n1  Non-elastic extremity binder  \n2                        Slings  \n3              Asthma education  \n4  Ambulance response/treatment  ",
            "text/html": "<div>\n<style scoped>\n    .dataframe tbody tr th:only-of-type {\n        vertical-align: middle;\n    }\n\n    .dataframe tbody tr th {\n        vertical-align: top;\n    }\n\n    .dataframe thead th {\n        text-align: right;\n    }\n</style>\n<table border=\"1\" class=\"dataframe\">\n  <thead>\n    <tr style=\"text-align: right;\">\n      <th></th>\n      <th>HCPC</th>\n      <th>SEQNUM</th>\n      <th>RECID</th>\n      <th>LONG_DESCRIPTION</th>\n      <th>SHORT_DESCRIPTION</th>\n    </tr>\n  </thead>\n  <tbody>\n    <tr>\n      <th>0</th>\n      <td>G0202</td>\n      <td>0010</td>\n      <td>3</td>\n      <td>Screening mammography, bilateral (2-view study...</td>\n      <td>Scr mammo bi incl cad</td>\n    </tr>\n    <tr>\n      <th>1</th>\n      <td>A4465</td>\n      <td>0010</td>\n      <td>3</td>\n      <td>Non-elastic binder for extremity</td>\n      <td>Non-elastic extremity binder</td>\n    </tr>\n    <tr>\n      <th>2</th>\n      <td>A4565</td>\n      <td>0010</td>\n      <td>3</td>\n      <td>Slings</td>\n      <td>Slings</td>\n    </tr>\n    <tr>\n      <th>3</th>\n      <td>S9441</td>\n      <td>0010</td>\n      <td>3</td>\n      <td>Asthma education, non-physician provider, per ...</td>\n      <td>Asthma education</td>\n    </tr>\n    <tr>\n      <th>4</th>\n      <td>A0998</td>\n      <td>0010</td>\n      <td>3</td>\n      <td>Ambulance response and treatment, no transport</td>\n      <td>Ambulance response/treatment</td>\n    </tr>\n  </tbody>\n</table>\n</div>"
          },
          "metadata": {}
        }
      ]
    },
    {
      "metadata": {
        "_uuid": "450d392be87f17bcf55e86d2ee1c42f6b24d539d",
        "_cell_guid": "87ba4e16-08e7-4325-b0ab-e35a0cf07479",
        "collapsed": true,
        "trusted": true
      },
      "cell_type": "code",
      "source": "",
      "execution_count": null,
      "outputs": []
    },
    {
      "metadata": {
        "_uuid": "b79f5f5b997168585b09193b95df4c99d2b1afe8",
        "_cell_guid": "bdb6e0e4-619a-43fd-954f-919f93cbc2d5",
        "collapsed": true,
        "trusted": true
      },
      "cell_type": "code",
      "source": "",
      "execution_count": null,
      "outputs": []
    }
  ],
  "metadata": {
    "kernelspec": {
      "display_name": "Python 3",
      "language": "python",
      "name": "python3"
    },
    "language_info": {
      "name": "python",
      "version": "3.6.4",
      "mimetype": "text/x-python",
      "codemirror_mode": {
        "name": "ipython",
        "version": 3
      },
      "pygments_lexer": "ipython3",
      "nbconvert_exporter": "python",
      "file_extension": ".py"
    }
  },
  "nbformat": 4,
  "nbformat_minor": 1
}