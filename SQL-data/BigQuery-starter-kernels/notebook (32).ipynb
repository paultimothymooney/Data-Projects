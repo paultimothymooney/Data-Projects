{
  "cells": [
    {
      "metadata": {
        "_uuid": "e660f53afc4ad9ea178a50e770086c570254b5ee",
        "_cell_guid": "1206abef-f9b7-422d-ba3e-2a86f0755c69"
      },
      "cell_type": "markdown",
      "source": "**How to Query the USA Census Dataset (BigQuery)**"
    },
    {
      "metadata": {
        "collapsed": true,
        "_uuid": "8f2839f25d086af736a60e9eeb907d3b93b6e0e5",
        "_cell_guid": "b1076dfc-b9ad-4769-8c92-a6c4dae69d19",
        "trusted": true
      },
      "cell_type": "code",
      "source": "import bq_helper\nfrom bq_helper import BigQueryHelper\n# https://www.kaggle.com/sohier/introduction-to-the-bq-helper-package\ncensus_data = bq_helper.BigQueryHelper(active_project=\"bigquery-public-data\",\n                                   dataset_name=\"census_bureau_usa\")",
      "execution_count": 1,
      "outputs": []
    },
    {
      "metadata": {
        "_uuid": "ff48bda88377e6ddef973738f366dabaee88464e",
        "_cell_guid": "7aece89c-653b-4e08-9441-ffdcc73c4989",
        "trusted": true
      },
      "cell_type": "code",
      "source": "bq_assistant = BigQueryHelper(\"bigquery-public-data\", \"census_bureau_usa\")\nbq_assistant.list_tables()",
      "execution_count": 2,
      "outputs": [
        {
          "output_type": "execute_result",
          "execution_count": 2,
          "data": {
            "text/plain": "['population_by_zip_2000', 'population_by_zip_2010']"
          },
          "metadata": {}
        }
      ]
    },
    {
      "metadata": {
        "scrolled": true,
        "_uuid": "1a6a818dcf49098dc7a9f3289a128e1d65cfca52",
        "_cell_guid": "bf9d33ff-d444-4a29-8d53-66a56b5d38db",
        "trusted": true
      },
      "cell_type": "code",
      "source": "bq_assistant.head(\"population_by_zip_2010\", num_rows=3)",
      "execution_count": 3,
      "outputs": [
        {
          "output_type": "execute_result",
          "execution_count": 3,
          "data": {
            "text/plain": "  zipcode          geo_id minimum_age maximum_age gender  population\n0   99776  8600000US99776        None        None                124\n1   38305  8600000US38305        None        None              49808\n2   37086  8600000US37086        None        None              31513",
            "text/html": "<div>\n<style scoped>\n    .dataframe tbody tr th:only-of-type {\n        vertical-align: middle;\n    }\n\n    .dataframe tbody tr th {\n        vertical-align: top;\n    }\n\n    .dataframe thead th {\n        text-align: right;\n    }\n</style>\n<table border=\"1\" class=\"dataframe\">\n  <thead>\n    <tr style=\"text-align: right;\">\n      <th></th>\n      <th>zipcode</th>\n      <th>geo_id</th>\n      <th>minimum_age</th>\n      <th>maximum_age</th>\n      <th>gender</th>\n      <th>population</th>\n    </tr>\n  </thead>\n  <tbody>\n    <tr>\n      <th>0</th>\n      <td>99776</td>\n      <td>8600000US99776</td>\n      <td>None</td>\n      <td>None</td>\n      <td></td>\n      <td>124</td>\n    </tr>\n    <tr>\n      <th>1</th>\n      <td>38305</td>\n      <td>8600000US38305</td>\n      <td>None</td>\n      <td>None</td>\n      <td></td>\n      <td>49808</td>\n    </tr>\n    <tr>\n      <th>2</th>\n      <td>37086</td>\n      <td>8600000US37086</td>\n      <td>None</td>\n      <td>None</td>\n      <td></td>\n      <td>31513</td>\n    </tr>\n  </tbody>\n</table>\n</div>"
          },
          "metadata": {}
        }
      ]
    },
    {
      "metadata": {
        "_uuid": "a24291522f4e546b62e9383ae00f77d9ce6368de",
        "_cell_guid": "85280595-945d-4e57-9095-0bcde36f06aa",
        "trusted": true
      },
      "cell_type": "code",
      "source": "bq_assistant.table_schema(\"population_by_zip_2010\")",
      "execution_count": 4,
      "outputs": [
        {
          "output_type": "execute_result",
          "execution_count": 4,
          "data": {
            "text/plain": "[SchemaField('zipcode', 'STRING', 'REQUIRED', 'Five digit ZIP Code Tabulation Area Census Code', ()),\n SchemaField('geo_id', 'STRING', 'NULLABLE', 'Geo code', ()),\n SchemaField('minimum_age', 'INTEGER', 'NULLABLE', 'The minimum age in the age range. If null, this indicates the row as a total for male, female, or overall population.', ()),\n SchemaField('maximum_age', 'INTEGER', 'NULLABLE', 'The maximum age in the age range. If null, this indicates the row as having no maximum (such as 85 and over) or the row is a total of the male, female, or overall population.', ()),\n SchemaField('gender', 'STRING', 'NULLABLE', 'male or female. If empty, the row is a total population summary.', ()),\n SchemaField('population', 'INTEGER', 'NULLABLE', 'The total count of the population for this segment.', ())]"
          },
          "metadata": {}
        }
      ]
    },
    {
      "metadata": {
        "_uuid": "4d1459635075242a3e7fe04379ed8fb56c224b8b",
        "_cell_guid": "e032d0b8-3c6d-4173-8385-8d95148543d5"
      },
      "cell_type": "markdown",
      "source": "What are the ten most populous zip codes in the US in the 2010 census?"
    },
    {
      "metadata": {
        "_uuid": "a91c85c1a9ddc073a82c8666a246198d005b12de",
        "_cell_guid": "84c756af-c239-45f1-939b-0387febe4d3f",
        "trusted": true
      },
      "cell_type": "code",
      "source": "query1 = \"\"\"SELECT\n  zipcode,\n  population\nFROM\n  `bigquery-public-data.census_bureau_usa.population_by_zip_2010`\nWHERE\n  gender = ''\nORDER BY\n  population DESC\nLIMIT\n  10\n        \"\"\"\nresponse1 = census_data.query_to_pandas_safe(query1)\nresponse1.head(10)",
      "execution_count": 5,
      "outputs": [
        {
          "output_type": "execute_result",
          "execution_count": 5,
          "data": {
            "text/plain": "  zipcode  population\n0   60629      113916\n1   79936      111086\n2   11368      109931\n3   00926      108862\n4   90650      105549\n5   90011      103892\n6   91331      103689\n7   11226      101572\n8   90201      101279\n9   11373      100820",
            "text/html": "<div>\n<style scoped>\n    .dataframe tbody tr th:only-of-type {\n        vertical-align: middle;\n    }\n\n    .dataframe tbody tr th {\n        vertical-align: top;\n    }\n\n    .dataframe thead th {\n        text-align: right;\n    }\n</style>\n<table border=\"1\" class=\"dataframe\">\n  <thead>\n    <tr style=\"text-align: right;\">\n      <th></th>\n      <th>zipcode</th>\n      <th>population</th>\n    </tr>\n  </thead>\n  <tbody>\n    <tr>\n      <th>0</th>\n      <td>60629</td>\n      <td>113916</td>\n    </tr>\n    <tr>\n      <th>1</th>\n      <td>79936</td>\n      <td>111086</td>\n    </tr>\n    <tr>\n      <th>2</th>\n      <td>11368</td>\n      <td>109931</td>\n    </tr>\n    <tr>\n      <th>3</th>\n      <td>00926</td>\n      <td>108862</td>\n    </tr>\n    <tr>\n      <th>4</th>\n      <td>90650</td>\n      <td>105549</td>\n    </tr>\n    <tr>\n      <th>5</th>\n      <td>90011</td>\n      <td>103892</td>\n    </tr>\n    <tr>\n      <th>6</th>\n      <td>91331</td>\n      <td>103689</td>\n    </tr>\n    <tr>\n      <th>7</th>\n      <td>11226</td>\n      <td>101572</td>\n    </tr>\n    <tr>\n      <th>8</th>\n      <td>90201</td>\n      <td>101279</td>\n    </tr>\n    <tr>\n      <th>9</th>\n      <td>11373</td>\n      <td>100820</td>\n    </tr>\n  </tbody>\n</table>\n</div>"
          },
          "metadata": {}
        }
      ]
    },
    {
      "metadata": {
        "_uuid": "6fc7410c1b1260765b2f359b986e2c682ffab217",
        "_cell_guid": "f3c90ffd-44ab-4147-b7e8-8de6d7dd3479"
      },
      "cell_type": "markdown",
      "source": "What are the top 10 zip codes that experienced the greatest change in population between the 2000 and 2010 censuses?"
    },
    {
      "metadata": {
        "_uuid": "bdfb39018567730c9ab81a6e6fbc56a63de1a944",
        "_cell_guid": "74caef87-1593-413d-89c9-988fb58e5c4b",
        "trusted": true
      },
      "cell_type": "code",
      "source": "query2 = \"\"\"SELECT\n  zipcode,\n  pop_2000,\n  pop_2010,\n  pop_chg,\n  pop_pct_chg\nFROM (\n  SELECT\n    r1.zipcode AS zipcode,\n    r2.population AS pop_2000,\n    r1.population AS pop_2010,\n    r1.population - r2.population AS pop_chg,\n    ROUND((r1.population - r2.population)/NULLIF(r2.population,0) * 100, 2) AS pop_pct_chg,\n    ABS((r1.population - r2.population)/NULLIF(r2.population,0)) AS abs_pct_chg\n  FROM\n    `bigquery-public-data.census_bureau_usa.population_by_zip_2010` AS r1\n  INNER JOIN\n    `bigquery-public-data.census_bureau_usa.population_by_zip_2000` AS r2\n  ON\n    r1.zipcode = r2.zipcode WHERE --following criteria selects total population without breaking down by age/gender\n    r1.minimum_age IS NULL\n    AND r2.minimum_age IS NULL\n    AND r1.maximum_age IS NULL\n    AND r2.maximum_age IS NULL\n    AND r1.gender = ''\n    AND r2.gender = '' )\nORDER BY\n  abs_pct_chg DESC\nLIMIT\n  10\n        \"\"\"\nresponse2 = census_data.query_to_pandas_safe(query2)\nresponse2.head(10)",
      "execution_count": 6,
      "outputs": [
        {
          "output_type": "execute_result",
          "execution_count": 6,
          "data": {
            "text/plain": "  zipcode  pop_2000  pop_2010  pop_chg  pop_pct_chg\n0   60654         7     14875    14868    212400.00\n1   90263         2      1612     1610     80500.00\n2   70373        19      7141     7122     37484.21\n3   95937         4      1491     1487     37175.00\n4   98164         1       141      140     14000.00\n5   25644         4       536      532     13300.00\n6   89011       175     19550    19375     11071.43\n7   76177        45      4891     4846     10768.89\n8   89141       262     25150    24888      9499.24\n9   52235         8       698      690      8625.00",
            "text/html": "<div>\n<style scoped>\n    .dataframe tbody tr th:only-of-type {\n        vertical-align: middle;\n    }\n\n    .dataframe tbody tr th {\n        vertical-align: top;\n    }\n\n    .dataframe thead th {\n        text-align: right;\n    }\n</style>\n<table border=\"1\" class=\"dataframe\">\n  <thead>\n    <tr style=\"text-align: right;\">\n      <th></th>\n      <th>zipcode</th>\n      <th>pop_2000</th>\n      <th>pop_2010</th>\n      <th>pop_chg</th>\n      <th>pop_pct_chg</th>\n    </tr>\n  </thead>\n  <tbody>\n    <tr>\n      <th>0</th>\n      <td>60654</td>\n      <td>7</td>\n      <td>14875</td>\n      <td>14868</td>\n      <td>212400.00</td>\n    </tr>\n    <tr>\n      <th>1</th>\n      <td>90263</td>\n      <td>2</td>\n      <td>1612</td>\n      <td>1610</td>\n      <td>80500.00</td>\n    </tr>\n    <tr>\n      <th>2</th>\n      <td>70373</td>\n      <td>19</td>\n      <td>7141</td>\n      <td>7122</td>\n      <td>37484.21</td>\n    </tr>\n    <tr>\n      <th>3</th>\n      <td>95937</td>\n      <td>4</td>\n      <td>1491</td>\n      <td>1487</td>\n      <td>37175.00</td>\n    </tr>\n    <tr>\n      <th>4</th>\n      <td>98164</td>\n      <td>1</td>\n      <td>141</td>\n      <td>140</td>\n      <td>14000.00</td>\n    </tr>\n    <tr>\n      <th>5</th>\n      <td>25644</td>\n      <td>4</td>\n      <td>536</td>\n      <td>532</td>\n      <td>13300.00</td>\n    </tr>\n    <tr>\n      <th>6</th>\n      <td>89011</td>\n      <td>175</td>\n      <td>19550</td>\n      <td>19375</td>\n      <td>11071.43</td>\n    </tr>\n    <tr>\n      <th>7</th>\n      <td>76177</td>\n      <td>45</td>\n      <td>4891</td>\n      <td>4846</td>\n      <td>10768.89</td>\n    </tr>\n    <tr>\n      <th>8</th>\n      <td>89141</td>\n      <td>262</td>\n      <td>25150</td>\n      <td>24888</td>\n      <td>9499.24</td>\n    </tr>\n    <tr>\n      <th>9</th>\n      <td>52235</td>\n      <td>8</td>\n      <td>698</td>\n      <td>690</td>\n      <td>8625.00</td>\n    </tr>\n  </tbody>\n</table>\n</div>"
          },
          "metadata": {}
        }
      ]
    },
    {
      "metadata": {
        "collapsed": true,
        "_uuid": "5036d81bf1545cb5d0a2be06d646a0fb65685687",
        "_cell_guid": "b9489c5c-27d0-44b5-89e5-50ad3dae3512"
      },
      "cell_type": "markdown",
      "source": "![https://cloud.google.com/bigquery/images/census-population-map.png](https://cloud.google.com/bigquery/images/census-population-map.png)\nhttps://cloud.google.com/bigquery/images/census-population-map.png"
    },
    {
      "metadata": {
        "collapsed": true,
        "_uuid": "17e2ee869c96104b0205c5c22f77b8933fe89dfd",
        "_cell_guid": "4754c923-6b80-4c75-b1b7-ccea0fc528b8",
        "trusted": true
      },
      "cell_type": "code",
      "source": "",
      "execution_count": null,
      "outputs": []
    }
  ],
  "metadata": {
    "kernelspec": {
      "display_name": "Python 3",
      "language": "python",
      "name": "python3"
    },
    "language_info": {
      "name": "python",
      "version": "3.6.4",
      "mimetype": "text/x-python",
      "codemirror_mode": {
        "name": "ipython",
        "version": 3
      },
      "pygments_lexer": "ipython3",
      "nbconvert_exporter": "python",
      "file_extension": ".py"
    }
  },
  "nbformat": 4,
  "nbformat_minor": 1
}