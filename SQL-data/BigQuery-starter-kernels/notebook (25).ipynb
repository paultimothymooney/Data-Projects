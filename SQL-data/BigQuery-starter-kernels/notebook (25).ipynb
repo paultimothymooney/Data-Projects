{
  "cells": [
    {
      "metadata": {
        "_uuid": "de5c8ef6d5d0ee22ec7e55b629d1c1f08d2b8efd",
        "_cell_guid": "307eb20a-56a5-43b9-832b-a76b338ad5e3"
      },
      "cell_type": "markdown",
      "source": "**How to Query the 1000 Cannabis Genomes Project  (BigQuery Dataset)**"
    },
    {
      "metadata": {
        "collapsed": true,
        "_uuid": "8f2839f25d086af736a60e9eeb907d3b93b6e0e5",
        "_cell_guid": "b1076dfc-b9ad-4769-8c92-a6c4dae69d19",
        "trusted": true
      },
      "cell_type": "code",
      "source": "import bq_helper\nfrom bq_helper import BigQueryHelper\n# https://www.kaggle.com/sohier/introduction-to-the-bq-helper-package\ngenomes = bq_helper.BigQueryHelper(active_project=\"bigquery-public-data\",\n                                   dataset_name=\"genomics_cannabis\")",
      "execution_count": 1,
      "outputs": []
    },
    {
      "metadata": {
        "_uuid": "a3415035b50ece1df93c6573539798b929a597f5",
        "_cell_guid": "b0442c95-01fa-4688-9a30-718347933e0f",
        "trusted": true
      },
      "cell_type": "code",
      "source": "bq_assistant = BigQueryHelper(\"bigquery-public-data\", \"genomics_cannabis\")\nbq_assistant.list_tables()",
      "execution_count": 2,
      "outputs": [
        {
          "output_type": "execute_result",
          "execution_count": 2,
          "data": {
            "text/plain": "['MNPR01_201703',\n 'MNPR01_reference_201703',\n 'MNPR01_transcriptome_201703',\n 'sample_info_201703']"
          },
          "metadata": {}
        }
      ]
    },
    {
      "metadata": {
        "_uuid": "f6d79a4aae694e0bc61d4dbc4724005d913b9248",
        "_cell_guid": "a2805b6e-5e32-484c-b1c7-a7e3d364ef35",
        "trusted": true
      },
      "cell_type": "code",
      "source": "bq_assistant.head(\"MNPR01_201703\", num_rows=10)",
      "execution_count": 3,
      "outputs": [
        {
          "output_type": "execute_result",
          "execution_count": 3,
          "data": {
            "text/plain": "                     reference_name   start     end reference_bases  \\\n0  gi|1098495647|gb|MNPR01000798.1|   75212   75214              CC   \n1  gi|1098497153|gb|MNPR01000001.1|  433128  433129               G   \n2  gi|1098491937|gb|MNPR01003541.1|    5251    5252               C   \n3  gi|1098496549|gb|MNPR01000249.1|  183897  183898               G   \n4  gi|1098477077|gb|MNPR01010214.1|    3535    3537              AA   \n5  gi|1098497084|gb|MNPR01000030.1|   21818   21823           GTTTG   \n6  gi|1098496092|gb|MNPR01000481.1|  228970  228971               G   \n7  gi|1098492216|gb|MNPR01003386.1|   20414   20421         CTCCACC   \n8  gi|1098495409|gb|MNPR01001032.1|     707     708               G   \n9  gi|1098495803|gb|MNPR01000646.1|   36492   36493               C   \n\n      alternate_bases                                         variant_id  \\\n0                [TT]  CKXG8eKP9qOf8wESIGdpfDEwOTg0OTU2NDd8Z2J8TU5QUj...   \n1                 [A]  CKXG8eKP9qOf8wESIGdpfDEwOTg0OTcxNTN8Z2J8TU5QUj...   \n2                 [T]  CKXG8eKP9qOf8wESIGdpfDEwOTg0OTE5Mzd8Z2J8TU5QUj...   \n3                 [A]  CKXG8eKP9qOf8wESIGdpfDEwOTg0OTY1NDl8Z2J8TU5QUj...   \n4          [AGTG, AG]  CKXG8eKP9qOf8wESIGdpfDEwOTg0NzcwNzd8Z2J8TU5QUj...   \n5             [ATTTA]  CKXG8eKP9qOf8wESIGdpfDEwOTg0OTcwODR8Z2J8TU5QUj...   \n6                 [A]  CKXG8eKP9qOf8wESIGdpfDEwOTg0OTYwOTJ8Z2J8TU5QUj...   \n7  [TTTTATT, CTTTATT]  CKXG8eKP9qOf8wESIGdpfDEwOTg0OTIyMTZ8Z2J8TU5QUj...   \n8                 [A]  CKXG8eKP9qOf8wESIGdpfDEwOTg0OTU0MDl8Z2J8TU5QUj...   \n9                 [T]  CKXG8eKP9qOf8wESIGdpfDEwOTg0OTU4MDN8Z2J8TU5QUj...   \n\n        quality filter names  \\\n0  3.198490e+02     []    []   \n1  2.772590e+02     []    []   \n2  1.015510e+03     []    []   \n3  8.674700e+03     []    []   \n4  4.130060e+02     []    []   \n5  1.262670e+03     []    []   \n6  1.386900e+03     []    []   \n7  1.834400e-10     []    []   \n8  2.788870e-12     []    []   \n9  4.002070e+03     []    []   \n\n                                                call         ...          \\\n0  [{'call_set_id': '17527604790083478309-1532', ...         ...           \n1  [{'call_set_id': '17527604790083478309-1532', ...         ...           \n2  [{'call_set_id': '17527604790083478309-1532', ...         ...           \n3  [{'call_set_id': '17527604790083478309-983', '...         ...           \n4  [{'call_set_id': '17527604790083478309-1647', ...         ...           \n5  [{'call_set_id': '17527604790083478309-1532', ...         ...           \n6  [{'call_set_id': '17527604790083478309-1532', ...         ...           \n7  [{'call_set_id': '17527604790083478309-1532', ...         ...           \n8  [{'call_set_id': '17527604790083478309-1532', ...         ...           \n9  [{'call_set_id': '17527604790083478309-983', '...         ...           \n\n        RPPR     RPR     RUN       SAF                 SAP     SAR SRF  \\\n0    9.52472    [38]     [1]     [102]             [224.5]     [0]   3   \n1   11.69620    [30]     [1]       [0]             [224.5]   [102]   4   \n2   33.05880  [4813]     [1]    [5969]           [12964.5]     [0]  74   \n3  707.17900   [420]     [1]      [13]           [833.731]   [420]  18   \n4    0.00000  [7, 5]  [1, 1]   [10, 0]  [14.5915, 20.3821]  [2, 8]   0   \n5    0.00000    [26]     [1]       [0]           [170.214]    [77]   0   \n6   16.58200    [21]     [1]       [0]           [170.214]    [77]   0   \n7    7.35324  [0, 0]  [1, 1]  [77, 34]  [170.214, 76.8404]  [0, 0]   0   \n8   18.64490    [10]     [1]       [1]           [46.8017]    [23]  10   \n9   74.55530   [129]     [1]      [58]           [23.3714]    [96]  40   \n\n          SRP  SRR                TYPE  \n0     9.52472    0               [mnp]  \n1    11.69620   12               [snp]  \n2   163.69900    0               [snp]  \n3  1061.23000  539               [snp]  \n4     0.00000    0      [complex, snp]  \n5     0.00000    0           [complex]  \n6    37.75390   16               [snp]  \n7     7.35324    2  [complex, complex]  \n8     3.01030   10               [snp]  \n9    78.64280  113               [snp]  \n\n[10 rows x 51 columns]",
            "text/html": "<div>\n<style scoped>\n    .dataframe tbody tr th:only-of-type {\n        vertical-align: middle;\n    }\n\n    .dataframe tbody tr th {\n        vertical-align: top;\n    }\n\n    .dataframe thead th {\n        text-align: right;\n    }\n</style>\n<table border=\"1\" class=\"dataframe\">\n  <thead>\n    <tr style=\"text-align: right;\">\n      <th></th>\n      <th>reference_name</th>\n      <th>start</th>\n      <th>end</th>\n      <th>reference_bases</th>\n      <th>alternate_bases</th>\n      <th>variant_id</th>\n      <th>quality</th>\n      <th>filter</th>\n      <th>names</th>\n      <th>call</th>\n      <th>...</th>\n      <th>RPPR</th>\n      <th>RPR</th>\n      <th>RUN</th>\n      <th>SAF</th>\n      <th>SAP</th>\n      <th>SAR</th>\n      <th>SRF</th>\n      <th>SRP</th>\n      <th>SRR</th>\n      <th>TYPE</th>\n    </tr>\n  </thead>\n  <tbody>\n    <tr>\n      <th>0</th>\n      <td>gi|1098495647|gb|MNPR01000798.1|</td>\n      <td>75212</td>\n      <td>75214</td>\n      <td>CC</td>\n      <td>[TT]</td>\n      <td>CKXG8eKP9qOf8wESIGdpfDEwOTg0OTU2NDd8Z2J8TU5QUj...</td>\n      <td>3.198490e+02</td>\n      <td>[]</td>\n      <td>[]</td>\n      <td>[{'call_set_id': '17527604790083478309-1532', ...</td>\n      <td>...</td>\n      <td>9.52472</td>\n      <td>[38]</td>\n      <td>[1]</td>\n      <td>[102]</td>\n      <td>[224.5]</td>\n      <td>[0]</td>\n      <td>3</td>\n      <td>9.52472</td>\n      <td>0</td>\n      <td>[mnp]</td>\n    </tr>\n    <tr>\n      <th>1</th>\n      <td>gi|1098497153|gb|MNPR01000001.1|</td>\n      <td>433128</td>\n      <td>433129</td>\n      <td>G</td>\n      <td>[A]</td>\n      <td>CKXG8eKP9qOf8wESIGdpfDEwOTg0OTcxNTN8Z2J8TU5QUj...</td>\n      <td>2.772590e+02</td>\n      <td>[]</td>\n      <td>[]</td>\n      <td>[{'call_set_id': '17527604790083478309-1532', ...</td>\n      <td>...</td>\n      <td>11.69620</td>\n      <td>[30]</td>\n      <td>[1]</td>\n      <td>[0]</td>\n      <td>[224.5]</td>\n      <td>[102]</td>\n      <td>4</td>\n      <td>11.69620</td>\n      <td>12</td>\n      <td>[snp]</td>\n    </tr>\n    <tr>\n      <th>2</th>\n      <td>gi|1098491937|gb|MNPR01003541.1|</td>\n      <td>5251</td>\n      <td>5252</td>\n      <td>C</td>\n      <td>[T]</td>\n      <td>CKXG8eKP9qOf8wESIGdpfDEwOTg0OTE5Mzd8Z2J8TU5QUj...</td>\n      <td>1.015510e+03</td>\n      <td>[]</td>\n      <td>[]</td>\n      <td>[{'call_set_id': '17527604790083478309-1532', ...</td>\n      <td>...</td>\n      <td>33.05880</td>\n      <td>[4813]</td>\n      <td>[1]</td>\n      <td>[5969]</td>\n      <td>[12964.5]</td>\n      <td>[0]</td>\n      <td>74</td>\n      <td>163.69900</td>\n      <td>0</td>\n      <td>[snp]</td>\n    </tr>\n    <tr>\n      <th>3</th>\n      <td>gi|1098496549|gb|MNPR01000249.1|</td>\n      <td>183897</td>\n      <td>183898</td>\n      <td>G</td>\n      <td>[A]</td>\n      <td>CKXG8eKP9qOf8wESIGdpfDEwOTg0OTY1NDl8Z2J8TU5QUj...</td>\n      <td>8.674700e+03</td>\n      <td>[]</td>\n      <td>[]</td>\n      <td>[{'call_set_id': '17527604790083478309-983', '...</td>\n      <td>...</td>\n      <td>707.17900</td>\n      <td>[420]</td>\n      <td>[1]</td>\n      <td>[13]</td>\n      <td>[833.731]</td>\n      <td>[420]</td>\n      <td>18</td>\n      <td>1061.23000</td>\n      <td>539</td>\n      <td>[snp]</td>\n    </tr>\n    <tr>\n      <th>4</th>\n      <td>gi|1098477077|gb|MNPR01010214.1|</td>\n      <td>3535</td>\n      <td>3537</td>\n      <td>AA</td>\n      <td>[AGTG, AG]</td>\n      <td>CKXG8eKP9qOf8wESIGdpfDEwOTg0NzcwNzd8Z2J8TU5QUj...</td>\n      <td>4.130060e+02</td>\n      <td>[]</td>\n      <td>[]</td>\n      <td>[{'call_set_id': '17527604790083478309-1647', ...</td>\n      <td>...</td>\n      <td>0.00000</td>\n      <td>[7, 5]</td>\n      <td>[1, 1]</td>\n      <td>[10, 0]</td>\n      <td>[14.5915, 20.3821]</td>\n      <td>[2, 8]</td>\n      <td>0</td>\n      <td>0.00000</td>\n      <td>0</td>\n      <td>[complex, snp]</td>\n    </tr>\n    <tr>\n      <th>5</th>\n      <td>gi|1098497084|gb|MNPR01000030.1|</td>\n      <td>21818</td>\n      <td>21823</td>\n      <td>GTTTG</td>\n      <td>[ATTTA]</td>\n      <td>CKXG8eKP9qOf8wESIGdpfDEwOTg0OTcwODR8Z2J8TU5QUj...</td>\n      <td>1.262670e+03</td>\n      <td>[]</td>\n      <td>[]</td>\n      <td>[{'call_set_id': '17527604790083478309-1532', ...</td>\n      <td>...</td>\n      <td>0.00000</td>\n      <td>[26]</td>\n      <td>[1]</td>\n      <td>[0]</td>\n      <td>[170.214]</td>\n      <td>[77]</td>\n      <td>0</td>\n      <td>0.00000</td>\n      <td>0</td>\n      <td>[complex]</td>\n    </tr>\n    <tr>\n      <th>6</th>\n      <td>gi|1098496092|gb|MNPR01000481.1|</td>\n      <td>228970</td>\n      <td>228971</td>\n      <td>G</td>\n      <td>[A]</td>\n      <td>CKXG8eKP9qOf8wESIGdpfDEwOTg0OTYwOTJ8Z2J8TU5QUj...</td>\n      <td>1.386900e+03</td>\n      <td>[]</td>\n      <td>[]</td>\n      <td>[{'call_set_id': '17527604790083478309-1532', ...</td>\n      <td>...</td>\n      <td>16.58200</td>\n      <td>[21]</td>\n      <td>[1]</td>\n      <td>[0]</td>\n      <td>[170.214]</td>\n      <td>[77]</td>\n      <td>0</td>\n      <td>37.75390</td>\n      <td>16</td>\n      <td>[snp]</td>\n    </tr>\n    <tr>\n      <th>7</th>\n      <td>gi|1098492216|gb|MNPR01003386.1|</td>\n      <td>20414</td>\n      <td>20421</td>\n      <td>CTCCACC</td>\n      <td>[TTTTATT, CTTTATT]</td>\n      <td>CKXG8eKP9qOf8wESIGdpfDEwOTg0OTIyMTZ8Z2J8TU5QUj...</td>\n      <td>1.834400e-10</td>\n      <td>[]</td>\n      <td>[]</td>\n      <td>[{'call_set_id': '17527604790083478309-1532', ...</td>\n      <td>...</td>\n      <td>7.35324</td>\n      <td>[0, 0]</td>\n      <td>[1, 1]</td>\n      <td>[77, 34]</td>\n      <td>[170.214, 76.8404]</td>\n      <td>[0, 0]</td>\n      <td>0</td>\n      <td>7.35324</td>\n      <td>2</td>\n      <td>[complex, complex]</td>\n    </tr>\n    <tr>\n      <th>8</th>\n      <td>gi|1098495409|gb|MNPR01001032.1|</td>\n      <td>707</td>\n      <td>708</td>\n      <td>G</td>\n      <td>[A]</td>\n      <td>CKXG8eKP9qOf8wESIGdpfDEwOTg0OTU0MDl8Z2J8TU5QUj...</td>\n      <td>2.788870e-12</td>\n      <td>[]</td>\n      <td>[]</td>\n      <td>[{'call_set_id': '17527604790083478309-1532', ...</td>\n      <td>...</td>\n      <td>18.64490</td>\n      <td>[10]</td>\n      <td>[1]</td>\n      <td>[1]</td>\n      <td>[46.8017]</td>\n      <td>[23]</td>\n      <td>10</td>\n      <td>3.01030</td>\n      <td>10</td>\n      <td>[snp]</td>\n    </tr>\n    <tr>\n      <th>9</th>\n      <td>gi|1098495803|gb|MNPR01000646.1|</td>\n      <td>36492</td>\n      <td>36493</td>\n      <td>C</td>\n      <td>[T]</td>\n      <td>CKXG8eKP9qOf8wESIGdpfDEwOTg0OTU4MDN8Z2J8TU5QUj...</td>\n      <td>4.002070e+03</td>\n      <td>[]</td>\n      <td>[]</td>\n      <td>[{'call_set_id': '17527604790083478309-983', '...</td>\n      <td>...</td>\n      <td>74.55530</td>\n      <td>[129]</td>\n      <td>[1]</td>\n      <td>[58]</td>\n      <td>[23.3714]</td>\n      <td>[96]</td>\n      <td>40</td>\n      <td>78.64280</td>\n      <td>113</td>\n      <td>[snp]</td>\n    </tr>\n  </tbody>\n</table>\n<p>10 rows × 51 columns</p>\n</div>"
          },
          "metadata": {}
        }
      ]
    },
    {
      "metadata": {
        "_uuid": "bbb18e3c781e1ce11b83342cc42b46b4eb4f1a81",
        "_kg_hide-output": true,
        "_cell_guid": "87e3e8b9-e8c4-48fd-99d3-a77034d474bf",
        "trusted": true
      },
      "cell_type": "code",
      "source": "bq_assistant.table_schema(\"MNPR01_201703\")",
      "execution_count": 4,
      "outputs": [
        {
          "output_type": "execute_result",
          "execution_count": 4,
          "data": {
            "text/plain": "[SchemaField('reference_name', 'STRING', 'NULLABLE', None, ()),\n SchemaField('start', 'INTEGER', 'NULLABLE', None, ()),\n SchemaField('end', 'INTEGER', 'NULLABLE', None, ()),\n SchemaField('reference_bases', 'STRING', 'NULLABLE', None, ()),\n SchemaField('alternate_bases', 'STRING', 'REPEATED', None, ()),\n SchemaField('variant_id', 'STRING', 'NULLABLE', None, ()),\n SchemaField('quality', 'FLOAT', 'NULLABLE', None, ()),\n SchemaField('filter', 'STRING', 'REPEATED', None, ()),\n SchemaField('names', 'STRING', 'REPEATED', None, ()),\n SchemaField('call', 'RECORD', 'REPEATED', None, (SchemaField('call_set_id', 'STRING', 'NULLABLE', None, ()), SchemaField('call_set_name', 'STRING', 'NULLABLE', None, ()), SchemaField('genotype', 'INTEGER', 'REPEATED', None, ()), SchemaField('phaseset', 'STRING', 'NULLABLE', None, ()), SchemaField('genotype_likelihood', 'FLOAT', 'REPEATED', None, ()), SchemaField('AD', 'INTEGER', 'REPEATED', None, ()), SchemaField('AO', 'INTEGER', 'REPEATED', None, ()), SchemaField('DP', 'INTEGER', 'NULLABLE', None, ()), SchemaField('QA', 'INTEGER', 'REPEATED', None, ()), SchemaField('QR', 'INTEGER', 'NULLABLE', None, ()), SchemaField('QUAL', 'FLOAT', 'NULLABLE', None, ()), SchemaField('RO', 'INTEGER', 'NULLABLE', None, ()))),\n SchemaField('AB', 'FLOAT', 'REPEATED', None, ()),\n SchemaField('ABP', 'FLOAT', 'REPEATED', None, ()),\n SchemaField('AC', 'INTEGER', 'REPEATED', None, ()),\n SchemaField('AF', 'FLOAT', 'REPEATED', None, ()),\n SchemaField('AN', 'INTEGER', 'NULLABLE', None, ()),\n SchemaField('AO', 'INTEGER', 'REPEATED', None, ()),\n SchemaField('CIGAR', 'STRING', 'REPEATED', None, ()),\n SchemaField('DP', 'INTEGER', 'NULLABLE', None, ()),\n SchemaField('DPB', 'FLOAT', 'NULLABLE', None, ()),\n SchemaField('DPRA', 'INTEGER', 'REPEATED', None, ()),\n SchemaField('EPP', 'FLOAT', 'REPEATED', None, ()),\n SchemaField('EPPR', 'FLOAT', 'NULLABLE', None, ()),\n SchemaField('GTI', 'INTEGER', 'NULLABLE', None, ()),\n SchemaField('LEN', 'INTEGER', 'REPEATED', None, ()),\n SchemaField('MEANALT', 'INTEGER', 'REPEATED', None, ()),\n SchemaField('MQM', 'FLOAT', 'REPEATED', None, ()),\n SchemaField('MQMR', 'FLOAT', 'NULLABLE', None, ()),\n SchemaField('NS', 'INTEGER', 'NULLABLE', None, ()),\n SchemaField('NUMALT', 'INTEGER', 'NULLABLE', None, ()),\n SchemaField('ODDS', 'FLOAT', 'NULLABLE', None, ()),\n SchemaField('PAIRED', 'FLOAT', 'REPEATED', None, ()),\n SchemaField('PAIREDR', 'FLOAT', 'NULLABLE', None, ()),\n SchemaField('PAO', 'FLOAT', 'REPEATED', None, ()),\n SchemaField('PQA', 'FLOAT', 'REPEATED', None, ()),\n SchemaField('PQR', 'FLOAT', 'NULLABLE', None, ()),\n SchemaField('PRO', 'FLOAT', 'NULLABLE', None, ()),\n SchemaField('QA', 'INTEGER', 'REPEATED', None, ()),\n SchemaField('QR', 'INTEGER', 'NULLABLE', None, ()),\n SchemaField('RO', 'INTEGER', 'NULLABLE', None, ()),\n SchemaField('RPL', 'INTEGER', 'REPEATED', None, ()),\n SchemaField('RPP', 'FLOAT', 'REPEATED', None, ()),\n SchemaField('RPPR', 'FLOAT', 'NULLABLE', None, ()),\n SchemaField('RPR', 'INTEGER', 'REPEATED', None, ()),\n SchemaField('RUN', 'INTEGER', 'REPEATED', None, ()),\n SchemaField('SAF', 'INTEGER', 'REPEATED', None, ()),\n SchemaField('SAP', 'FLOAT', 'REPEATED', None, ()),\n SchemaField('SAR', 'INTEGER', 'REPEATED', None, ()),\n SchemaField('SRF', 'INTEGER', 'NULLABLE', None, ()),\n SchemaField('SRP', 'FLOAT', 'NULLABLE', None, ()),\n SchemaField('SRR', 'INTEGER', 'NULLABLE', None, ()),\n SchemaField('TYPE', 'STRING', 'REPEATED', None, ())]"
          },
          "metadata": {}
        }
      ]
    },
    {
      "metadata": {
        "_uuid": "1b22caebfe200e49eb4afb21eb8c0975b4287817",
        "_cell_guid": "5ddb0225-bff8-4ad5-9991-8202de50bc2a"
      },
      "cell_type": "markdown",
      "source": "How many variants does each sample have at the THC Synthase gene (THCA1) locus?\n"
    },
    {
      "metadata": {
        "_uuid": "10cf4d4a2b5b039a972206e9873cc4de6bdd9908",
        "_cell_guid": "042a387f-9b84-4a02-b162-f30cb393a7dd",
        "trusted": true
      },
      "cell_type": "code",
      "source": "query1 = \"\"\"SELECT\n  i.Sample_Name_s AS sample_name,\n  call.call_set_name AS call_set_name,\n  COUNT(call.call_set_name) AS call_count_for_call_set\nFROM\n  `bigquery-public-data.genomics_cannabis.sample_info_201703` i,\n  `bigquery-public-data.genomics_cannabis.MNPR01_201703` v,\n  v.call\nWHERE\n  call.call_set_name = i.SRA_Sample_s\n  AND reference_name = 'gi|1098492959|gb|MNPR01002882.1|'\n  AND EXISTS (\n  SELECT\n    1\n  FROM\n    UNNEST(v.alternate_bases) AS alt\n  WHERE\n    alt NOT IN (\"\",\n      \"<*>\"))\n  AND v.dp >= 10\n  AND v.start >= 12800\n  AND v.end <= 14600\nGROUP BY\n  call_set_name,\n  Sample_Name_s\nORDER BY\n  call_set_name;\n        \"\"\"\nresponse1 = genomes.query_to_pandas_safe(query1, max_gb_scanned=10)\nresponse1.head(10)",
      "execution_count": 5,
      "outputs": [
        {
          "output_type": "execute_result",
          "execution_count": 5,
          "data": {
            "text/plain": "        sample_name call_set_name  call_count_for_call_set\n0         Chemdog91    SRS1098403                       52\n1       SourTsunami    SRS1098404                        4\n2  BlueBerryEssence    SRS1098405                       82\n3           Black84    SRS1098406                        4\n4         BlueDream    SRS1098407                       80\n5            WZ_CBD    SRS1098430                        4\n6              WiFi    SRS1098431                        4\n7   AlaskanIce-2130    SRS1099975                        4\n8      Black84-2130    SRS1099976                        6\n9         WiFi-2130    SRS1099977                        2",
            "text/html": "<div>\n<style scoped>\n    .dataframe tbody tr th:only-of-type {\n        vertical-align: middle;\n    }\n\n    .dataframe tbody tr th {\n        vertical-align: top;\n    }\n\n    .dataframe thead th {\n        text-align: right;\n    }\n</style>\n<table border=\"1\" class=\"dataframe\">\n  <thead>\n    <tr style=\"text-align: right;\">\n      <th></th>\n      <th>sample_name</th>\n      <th>call_set_name</th>\n      <th>call_count_for_call_set</th>\n    </tr>\n  </thead>\n  <tbody>\n    <tr>\n      <th>0</th>\n      <td>Chemdog91</td>\n      <td>SRS1098403</td>\n      <td>52</td>\n    </tr>\n    <tr>\n      <th>1</th>\n      <td>SourTsunami</td>\n      <td>SRS1098404</td>\n      <td>4</td>\n    </tr>\n    <tr>\n      <th>2</th>\n      <td>BlueBerryEssence</td>\n      <td>SRS1098405</td>\n      <td>82</td>\n    </tr>\n    <tr>\n      <th>3</th>\n      <td>Black84</td>\n      <td>SRS1098406</td>\n      <td>4</td>\n    </tr>\n    <tr>\n      <th>4</th>\n      <td>BlueDream</td>\n      <td>SRS1098407</td>\n      <td>80</td>\n    </tr>\n    <tr>\n      <th>5</th>\n      <td>WZ_CBD</td>\n      <td>SRS1098430</td>\n      <td>4</td>\n    </tr>\n    <tr>\n      <th>6</th>\n      <td>WiFi</td>\n      <td>SRS1098431</td>\n      <td>4</td>\n    </tr>\n    <tr>\n      <th>7</th>\n      <td>AlaskanIce-2130</td>\n      <td>SRS1099975</td>\n      <td>4</td>\n    </tr>\n    <tr>\n      <th>8</th>\n      <td>Black84-2130</td>\n      <td>SRS1099976</td>\n      <td>6</td>\n    </tr>\n    <tr>\n      <th>9</th>\n      <td>WiFi-2130</td>\n      <td>SRS1099977</td>\n      <td>2</td>\n    </tr>\n  </tbody>\n</table>\n</div>"
          },
          "metadata": {}
        }
      ]
    },
    {
      "metadata": {
        "_uuid": "8eeda9ae334f9bc0dc313635abee9c9c0d582f6c",
        "_cell_guid": "ec2e26b9-885e-4f12-8d20-2f8c494d6f3e"
      },
      "cell_type": "markdown",
      "source": "Which Cannabis samples are included in the variants table?\n"
    },
    {
      "metadata": {
        "_uuid": "f498dd0e54911bf273ae4a76fd6a2bdaebf96f15",
        "_cell_guid": "ab7c4d65-3cc2-4192-992c-b030c33b2010",
        "trusted": true
      },
      "cell_type": "code",
      "source": "query2 = \"\"\"SELECT\n  call.call_set_name\nFROM\n  `bigquery-public-data.genomics_cannabis.MNPR01_201703` v,\n  v.call\nGROUP BY\n  call.call_set_name;\n        \"\"\"\nresponse2 = genomes.query_to_pandas_safe(query2, max_gb_scanned=10)\nresponse2.head(10)",
      "execution_count": 6,
      "outputs": [
        {
          "output_type": "execute_result",
          "execution_count": 6,
          "data": {
            "text/plain": "  call_set_name\n0    SRS1357176\n1    SRS1107951\n2    SRS1760284\n3    SRS1107967\n4    SRS1759468\n5    SRS1758371\n6    SRS1757997\n7    SRS1758202\n8    SRS1758275\n9    SRS1758009",
            "text/html": "<div>\n<style scoped>\n    .dataframe tbody tr th:only-of-type {\n        vertical-align: middle;\n    }\n\n    .dataframe tbody tr th {\n        vertical-align: top;\n    }\n\n    .dataframe thead th {\n        text-align: right;\n    }\n</style>\n<table border=\"1\" class=\"dataframe\">\n  <thead>\n    <tr style=\"text-align: right;\">\n      <th></th>\n      <th>call_set_name</th>\n    </tr>\n  </thead>\n  <tbody>\n    <tr>\n      <th>0</th>\n      <td>SRS1357176</td>\n    </tr>\n    <tr>\n      <th>1</th>\n      <td>SRS1107951</td>\n    </tr>\n    <tr>\n      <th>2</th>\n      <td>SRS1760284</td>\n    </tr>\n    <tr>\n      <th>3</th>\n      <td>SRS1107967</td>\n    </tr>\n    <tr>\n      <th>4</th>\n      <td>SRS1759468</td>\n    </tr>\n    <tr>\n      <th>5</th>\n      <td>SRS1758371</td>\n    </tr>\n    <tr>\n      <th>6</th>\n      <td>SRS1757997</td>\n    </tr>\n    <tr>\n      <th>7</th>\n      <td>SRS1758202</td>\n    </tr>\n    <tr>\n      <th>8</th>\n      <td>SRS1758275</td>\n    </tr>\n    <tr>\n      <th>9</th>\n      <td>SRS1758009</td>\n    </tr>\n  </tbody>\n</table>\n</div>"
          },
          "metadata": {}
        }
      ]
    },
    {
      "metadata": {
        "_uuid": "ef06f0f96cdffd2af224c796a423304f914d7da9",
        "_cell_guid": "e53dbcf0-eaba-474f-b83c-fa7fc5e69a81"
      },
      "cell_type": "markdown",
      "source": "Which contigs in the MNPR01_reference_[BUILD_DATE] table have the highest density of variants?\n"
    },
    {
      "metadata": {
        "_uuid": "77d0841a15c7675c6e2506e02762ed6892629d59",
        "_cell_guid": "f9ea65cb-a34a-4e54-b7dd-8eb964aba953",
        "trusted": true
      },
      "cell_type": "code",
      "source": "query3 = \"\"\"SELECT\n  *\nFROM (\n  SELECT\n    reference_name,\n    COUNT(reference_name) / r.length AS variant_density,\n    COUNT(reference_name) AS variant_count,\n    r.length AS reference_length\n  FROM\n    `bigquery-public-data.genomics_cannabis.MNPR01_201703` v,\n    `bigquery-public-data.genomics_cannabis.MNPR01_reference_201703` r\n  WHERE\n    v.reference_name = r.name\n    AND EXISTS (\n    SELECT\n      1\n    FROM\n      UNNEST(v.call) AS call\n    WHERE\n      EXISTS (\n      SELECT\n        1\n      FROM\n        UNNEST(call.genotype) AS gt\n      WHERE\n        gt > 0))\n  GROUP BY\n    reference_name,\n    r.length ) AS d\nORDER BY\n  variant_density DESC;\n        \"\"\"\nresponse3 = genomes.query_to_pandas_safe(query3, max_gb_scanned=10)\nresponse3.head(10)",
      "execution_count": 7,
      "outputs": [
        {
          "output_type": "execute_result",
          "execution_count": 7,
          "data": {
            "text/plain": "                     reference_name  variant_density  variant_count  \\\n0  gi|1098480201|gb|MNPR01009187.1|         0.675240           4647   \n1  gi|1098476186|gb|MNPR01010508.1|         0.626948           1810   \n2  gi|1098480371|gb|MNPR01009127.1|         0.417397           2951   \n3  gi|1098475344|gb|MNPR01010796.1|         0.398696            795   \n4  gi|1098483659|gb|MNPR01007984.1|         0.393582           4244   \n5  gi|1098476754|gb|MNPR01010320.1|         0.379834           1326   \n6  gi|1098475239|gb|MNPR01010833.1|         0.371397            683   \n7  gi|1098480751|gb|MNPR01008988.1|         0.361954           2719   \n8  gi|1098475142|gb|MNPR01010866.1|         0.358338            621   \n9  gi|1098489468|gb|MNPR01005118.1|         0.355043           8951   \n\n   reference_length  \n0              6882  \n1              2887  \n2              7070  \n3              1994  \n4             10783  \n5              3491  \n6              1839  \n7              7512  \n8              1733  \n9             25211  ",
            "text/html": "<div>\n<style scoped>\n    .dataframe tbody tr th:only-of-type {\n        vertical-align: middle;\n    }\n\n    .dataframe tbody tr th {\n        vertical-align: top;\n    }\n\n    .dataframe thead th {\n        text-align: right;\n    }\n</style>\n<table border=\"1\" class=\"dataframe\">\n  <thead>\n    <tr style=\"text-align: right;\">\n      <th></th>\n      <th>reference_name</th>\n      <th>variant_density</th>\n      <th>variant_count</th>\n      <th>reference_length</th>\n    </tr>\n  </thead>\n  <tbody>\n    <tr>\n      <th>0</th>\n      <td>gi|1098480201|gb|MNPR01009187.1|</td>\n      <td>0.675240</td>\n      <td>4647</td>\n      <td>6882</td>\n    </tr>\n    <tr>\n      <th>1</th>\n      <td>gi|1098476186|gb|MNPR01010508.1|</td>\n      <td>0.626948</td>\n      <td>1810</td>\n      <td>2887</td>\n    </tr>\n    <tr>\n      <th>2</th>\n      <td>gi|1098480371|gb|MNPR01009127.1|</td>\n      <td>0.417397</td>\n      <td>2951</td>\n      <td>7070</td>\n    </tr>\n    <tr>\n      <th>3</th>\n      <td>gi|1098475344|gb|MNPR01010796.1|</td>\n      <td>0.398696</td>\n      <td>795</td>\n      <td>1994</td>\n    </tr>\n    <tr>\n      <th>4</th>\n      <td>gi|1098483659|gb|MNPR01007984.1|</td>\n      <td>0.393582</td>\n      <td>4244</td>\n      <td>10783</td>\n    </tr>\n    <tr>\n      <th>5</th>\n      <td>gi|1098476754|gb|MNPR01010320.1|</td>\n      <td>0.379834</td>\n      <td>1326</td>\n      <td>3491</td>\n    </tr>\n    <tr>\n      <th>6</th>\n      <td>gi|1098475239|gb|MNPR01010833.1|</td>\n      <td>0.371397</td>\n      <td>683</td>\n      <td>1839</td>\n    </tr>\n    <tr>\n      <th>7</th>\n      <td>gi|1098480751|gb|MNPR01008988.1|</td>\n      <td>0.361954</td>\n      <td>2719</td>\n      <td>7512</td>\n    </tr>\n    <tr>\n      <th>8</th>\n      <td>gi|1098475142|gb|MNPR01010866.1|</td>\n      <td>0.358338</td>\n      <td>621</td>\n      <td>1733</td>\n    </tr>\n    <tr>\n      <th>9</th>\n      <td>gi|1098489468|gb|MNPR01005118.1|</td>\n      <td>0.355043</td>\n      <td>8951</td>\n      <td>25211</td>\n    </tr>\n  </tbody>\n</table>\n</div>"
          },
          "metadata": {}
        }
      ]
    }
  ],
  "metadata": {
    "kernelspec": {
      "display_name": "Python 3",
      "language": "python",
      "name": "python3"
    },
    "language_info": {
      "name": "python",
      "version": "3.6.4",
      "mimetype": "text/x-python",
      "codemirror_mode": {
        "name": "ipython",
        "version": 3
      },
      "pygments_lexer": "ipython3",
      "nbconvert_exporter": "python",
      "file_extension": ".py"
    }
  },
  "nbformat": 4,
  "nbformat_minor": 1
}