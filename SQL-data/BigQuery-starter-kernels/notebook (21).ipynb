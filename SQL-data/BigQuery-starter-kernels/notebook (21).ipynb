{
  "cells": [
    {
      "metadata": {
        "_cell_guid": "307eb20a-56a5-43b9-832b-a76b338ad5e3",
        "_uuid": "de5c8ef6d5d0ee22ec7e55b629d1c1f08d2b8efd"
      },
      "cell_type": "markdown",
      "source": "**How to Query the London Crime Data (BigQuery Dataset)**"
    },
    {
      "metadata": {
        "collapsed": true,
        "_cell_guid": "b1076dfc-b9ad-4769-8c92-a6c4dae69d19",
        "_uuid": "8f2839f25d086af736a60e9eeb907d3b93b6e0e5",
        "trusted": true
      },
      "cell_type": "code",
      "source": "import bq_helper\nfrom bq_helper import BigQueryHelper\n# https://www.kaggle.com/sohier/introduction-to-the-bq-helper-package\nlondon = bq_helper.BigQueryHelper(active_project=\"bigquery-public-data\",\n                                   dataset_name=\"london_crime\")",
      "execution_count": 1,
      "outputs": []
    },
    {
      "metadata": {
        "_cell_guid": "b0442c95-01fa-4688-9a30-718347933e0f",
        "_uuid": "a3415035b50ece1df93c6573539798b929a597f5",
        "_kg_hide-output": true,
        "trusted": true
      },
      "cell_type": "code",
      "source": "bq_assistant = BigQueryHelper(\"bigquery-public-data\", \"london_crime\")\nbq_assistant.list_tables()",
      "execution_count": 2,
      "outputs": [
        {
          "output_type": "execute_result",
          "execution_count": 2,
          "data": {
            "text/plain": "['crime_by_lsoa']"
          },
          "metadata": {}
        }
      ]
    },
    {
      "metadata": {
        "_cell_guid": "a2805b6e-5e32-484c-b1c7-a7e3d364ef35",
        "_uuid": "f6d79a4aae694e0bc61d4dbc4724005d913b9248",
        "trusted": true
      },
      "cell_type": "code",
      "source": "bq_assistant.head(\"crime_by_lsoa\", num_rows=20)",
      "execution_count": 3,
      "outputs": [
        {
          "output_type": "execute_result",
          "execution_count": 3,
          "data": {
            "text/plain": "    lsoa_code                 borough               major_category  \\\n0   E01000461                  Bexley              Criminal Damage   \n1   E01000221                  Barnet              Criminal Damage   \n2   E01033607             Westminster  Violence Against the Person   \n3   E01004066               Southwark  Violence Against the Person   \n4   E01001053                 Croydon    Other Notifiable Offences   \n5   E01000335                  Bexley  Violence Against the Person   \n6   E01002844  Kensington and Chelsea                     Burglary   \n7   E01002494              Hillingdon           Theft and Handling   \n8   E01003483                  Newham           Theft and Handling   \n9   E01002805               Islington                      Robbery   \n10  E01002474              Hillingdon                      Robbery   \n11  E01003094                 Lambeth           Theft and Handling   \n12  E01000373                  Bexley  Violence Against the Person   \n13  E01003367                  Merton                     Burglary   \n14  E01003305                Lewisham           Theft and Handling   \n15  E01001674               Greenwich              Criminal Damage   \n16  E01000513                   Brent                      Robbery   \n17  E01003515                  Newham    Other Notifiable Offences   \n18  E01004146                  Sutton                        Drugs   \n19  E01002626                Hounslow           Theft and Handling   \n\n                       minor_category  value  year  month  \n0    Criminal Damage To Motor Vehicle      0  2015      8  \n1               Other Criminal Damage      0  2016      4  \n2                    Offensive Weapon      0  2016      6  \n3                 Assault with Injury      0  2010      2  \n4                    Other Notifiable      0  2012      6  \n5                          Harassment      0  2008     11  \n6              Burglary in a Dwelling      0  2015      1  \n7                         Other Theft      0  2011     10  \n8            Theft From Motor Vehicle      1  2015     10  \n9                   Business Property      0  2015     10  \n10                  Personal Property      0  2016     11  \n11        Theft/Taking of Pedal Cycle      1  2009      2  \n12                     Common Assault      0  2014      1  \n13        Burglary in Other Buildings      1  2011      3  \n14                        Other Theft      1  2008      6  \n15  Criminal Damage To Other Building      0  2011      1  \n16                  Personal Property      0  2011      1  \n17                   Other Notifiable      0  2011     12  \n18                        Other Drugs      0  2012     10  \n19        Theft/Taking of Pedal Cycle      0  2011      5  ",
            "text/html": "<div>\n<style scoped>\n    .dataframe tbody tr th:only-of-type {\n        vertical-align: middle;\n    }\n\n    .dataframe tbody tr th {\n        vertical-align: top;\n    }\n\n    .dataframe thead th {\n        text-align: right;\n    }\n</style>\n<table border=\"1\" class=\"dataframe\">\n  <thead>\n    <tr style=\"text-align: right;\">\n      <th></th>\n      <th>lsoa_code</th>\n      <th>borough</th>\n      <th>major_category</th>\n      <th>minor_category</th>\n      <th>value</th>\n      <th>year</th>\n      <th>month</th>\n    </tr>\n  </thead>\n  <tbody>\n    <tr>\n      <th>0</th>\n      <td>E01000461</td>\n      <td>Bexley</td>\n      <td>Criminal Damage</td>\n      <td>Criminal Damage To Motor Vehicle</td>\n      <td>0</td>\n      <td>2015</td>\n      <td>8</td>\n    </tr>\n    <tr>\n      <th>1</th>\n      <td>E01000221</td>\n      <td>Barnet</td>\n      <td>Criminal Damage</td>\n      <td>Other Criminal Damage</td>\n      <td>0</td>\n      <td>2016</td>\n      <td>4</td>\n    </tr>\n    <tr>\n      <th>2</th>\n      <td>E01033607</td>\n      <td>Westminster</td>\n      <td>Violence Against the Person</td>\n      <td>Offensive Weapon</td>\n      <td>0</td>\n      <td>2016</td>\n      <td>6</td>\n    </tr>\n    <tr>\n      <th>3</th>\n      <td>E01004066</td>\n      <td>Southwark</td>\n      <td>Violence Against the Person</td>\n      <td>Assault with Injury</td>\n      <td>0</td>\n      <td>2010</td>\n      <td>2</td>\n    </tr>\n    <tr>\n      <th>4</th>\n      <td>E01001053</td>\n      <td>Croydon</td>\n      <td>Other Notifiable Offences</td>\n      <td>Other Notifiable</td>\n      <td>0</td>\n      <td>2012</td>\n      <td>6</td>\n    </tr>\n    <tr>\n      <th>5</th>\n      <td>E01000335</td>\n      <td>Bexley</td>\n      <td>Violence Against the Person</td>\n      <td>Harassment</td>\n      <td>0</td>\n      <td>2008</td>\n      <td>11</td>\n    </tr>\n    <tr>\n      <th>6</th>\n      <td>E01002844</td>\n      <td>Kensington and Chelsea</td>\n      <td>Burglary</td>\n      <td>Burglary in a Dwelling</td>\n      <td>0</td>\n      <td>2015</td>\n      <td>1</td>\n    </tr>\n    <tr>\n      <th>7</th>\n      <td>E01002494</td>\n      <td>Hillingdon</td>\n      <td>Theft and Handling</td>\n      <td>Other Theft</td>\n      <td>0</td>\n      <td>2011</td>\n      <td>10</td>\n    </tr>\n    <tr>\n      <th>8</th>\n      <td>E01003483</td>\n      <td>Newham</td>\n      <td>Theft and Handling</td>\n      <td>Theft From Motor Vehicle</td>\n      <td>1</td>\n      <td>2015</td>\n      <td>10</td>\n    </tr>\n    <tr>\n      <th>9</th>\n      <td>E01002805</td>\n      <td>Islington</td>\n      <td>Robbery</td>\n      <td>Business Property</td>\n      <td>0</td>\n      <td>2015</td>\n      <td>10</td>\n    </tr>\n    <tr>\n      <th>10</th>\n      <td>E01002474</td>\n      <td>Hillingdon</td>\n      <td>Robbery</td>\n      <td>Personal Property</td>\n      <td>0</td>\n      <td>2016</td>\n      <td>11</td>\n    </tr>\n    <tr>\n      <th>11</th>\n      <td>E01003094</td>\n      <td>Lambeth</td>\n      <td>Theft and Handling</td>\n      <td>Theft/Taking of Pedal Cycle</td>\n      <td>1</td>\n      <td>2009</td>\n      <td>2</td>\n    </tr>\n    <tr>\n      <th>12</th>\n      <td>E01000373</td>\n      <td>Bexley</td>\n      <td>Violence Against the Person</td>\n      <td>Common Assault</td>\n      <td>0</td>\n      <td>2014</td>\n      <td>1</td>\n    </tr>\n    <tr>\n      <th>13</th>\n      <td>E01003367</td>\n      <td>Merton</td>\n      <td>Burglary</td>\n      <td>Burglary in Other Buildings</td>\n      <td>1</td>\n      <td>2011</td>\n      <td>3</td>\n    </tr>\n    <tr>\n      <th>14</th>\n      <td>E01003305</td>\n      <td>Lewisham</td>\n      <td>Theft and Handling</td>\n      <td>Other Theft</td>\n      <td>1</td>\n      <td>2008</td>\n      <td>6</td>\n    </tr>\n    <tr>\n      <th>15</th>\n      <td>E01001674</td>\n      <td>Greenwich</td>\n      <td>Criminal Damage</td>\n      <td>Criminal Damage To Other Building</td>\n      <td>0</td>\n      <td>2011</td>\n      <td>1</td>\n    </tr>\n    <tr>\n      <th>16</th>\n      <td>E01000513</td>\n      <td>Brent</td>\n      <td>Robbery</td>\n      <td>Personal Property</td>\n      <td>0</td>\n      <td>2011</td>\n      <td>1</td>\n    </tr>\n    <tr>\n      <th>17</th>\n      <td>E01003515</td>\n      <td>Newham</td>\n      <td>Other Notifiable Offences</td>\n      <td>Other Notifiable</td>\n      <td>0</td>\n      <td>2011</td>\n      <td>12</td>\n    </tr>\n    <tr>\n      <th>18</th>\n      <td>E01004146</td>\n      <td>Sutton</td>\n      <td>Drugs</td>\n      <td>Other Drugs</td>\n      <td>0</td>\n      <td>2012</td>\n      <td>10</td>\n    </tr>\n    <tr>\n      <th>19</th>\n      <td>E01002626</td>\n      <td>Hounslow</td>\n      <td>Theft and Handling</td>\n      <td>Theft/Taking of Pedal Cycle</td>\n      <td>0</td>\n      <td>2011</td>\n      <td>5</td>\n    </tr>\n  </tbody>\n</table>\n</div>"
          },
          "metadata": {}
        }
      ]
    },
    {
      "metadata": {
        "_cell_guid": "87e3e8b9-e8c4-48fd-99d3-a77034d474bf",
        "_uuid": "bbb18e3c781e1ce11b83342cc42b46b4eb4f1a81",
        "_kg_hide-output": true,
        "trusted": true
      },
      "cell_type": "code",
      "source": "bq_assistant.table_schema(\"crime_by_lsoa\")",
      "execution_count": 4,
      "outputs": [
        {
          "output_type": "execute_result",
          "execution_count": 4,
          "data": {
            "text/plain": "[SchemaField('lsoa_code', 'STRING', 'NULLABLE', 'Lower Layer Super Output Area code according to the Office for National Statistics', ()),\n SchemaField('borough', 'STRING', 'NULLABLE', '', ()),\n SchemaField('major_category', 'STRING', 'NULLABLE', '', ()),\n SchemaField('minor_category', 'STRING', 'NULLABLE', '', ()),\n SchemaField('value', 'INTEGER', 'NULLABLE', 'Summary of the number of crimes for the month', ()),\n SchemaField('year', 'INTEGER', 'NULLABLE', '', ()),\n SchemaField('month', 'INTEGER', 'NULLABLE', '', ())]"
          },
          "metadata": {}
        }
      ]
    },
    {
      "metadata": {
        "_cell_guid": "ec2e26b9-885e-4f12-8d20-2f8c494d6f3e",
        "_uuid": "8eeda9ae334f9bc0dc313635abee9c9c0d582f6c"
      },
      "cell_type": "markdown",
      "source": "What is the change in the number of crime incidents from 2011 to 2016?\n\n\n"
    },
    {
      "metadata": {
        "_cell_guid": "c983763c-0953-46d5-a27f-104b75dfa6d2",
        "_uuid": "c269c23799b149d8bd440cd611fba0f60b965e35",
        "trusted": true
      },
      "cell_type": "code",
      "source": "query1 = \"\"\"\nSELECT\n  borough,\n  no_crimes_2011,\n  no_crimes_2016,\n  no_crimes_2016 - no_crimes_2011 AS change,\n  ROUND(((no_crimes_2016 - no_crimes_2011) / no_crimes_2016) * 100, 2) AS perc_change\nFROM (\n  SELECT\n    borough,\n    SUM(IF(year=2011, value, NULL)) no_crimes_2011,\n    SUM(IF(year=2016, value, NULL)) no_crimes_2016\n  FROM\n    `bigquery-public-data.london_crime.crime_by_lsoa`\n  GROUP BY\n    borough )\nORDER BY\n  perc_change ASC\n;\n        \"\"\"\nresponse1 = london.query_to_pandas_safe(query1)\nresponse1.head(30)",
      "execution_count": 5,
      "outputs": [
        {
          "output_type": "execute_result",
          "execution_count": 5,
          "data": {
            "text/plain": "                   borough  no_crimes_2011  no_crimes_2016  change  \\\n0                   Camden           33956           29183   -4773   \n1           Waltham Forest           23714           20716   -2998   \n2                Redbridge           21994           19502   -2492   \n3              Westminster           54243           48330   -5913   \n4   Hammersmith and Fulham           22151           20174   -1977   \n5                   Ealing           29537           27127   -2410   \n6                   Merton           13548           12755    -793   \n7                  Croydon           29830           28712   -1118   \n8                   Sutton           11068           10658    -410   \n9                    Brent           27669           26693    -976   \n10    Kingston upon Thames           10155            9983    -172   \n11                Lewisham           24201           23904    -297   \n12              Hillingdon           24282           24341      59   \n13    Barking and Dagenham           16686           16741      55   \n14                 Bromley           19868           20164     296   \n15    Richmond upon Thames           10896           11074     178   \n16  Kensington and Chelsea           19146           19580     434   \n17                 Lambeth           33224           34071     847   \n18                  Harrow           12801           13153     352   \n19                  Barnet           24007           24684     677   \n20               Southwark           30723           31636     913   \n21                Hounslow           21105           22251    1146   \n22                 Enfield           21041           22485    1444   \n23                  Newham           27978           30090    2112   \n24               Islington           24980           27092    2112   \n25                Havering           15496           16903    1407   \n26              Wandsworth           21384           23679    2295   \n27                  Bexley           11325           12840    1515   \n28                Haringey           23179           27174    3995   \n29           Tower Hamlets           24712           29253    4541   \n\n    perc_change  \n0        -16.36  \n1        -14.47  \n2        -12.78  \n3        -12.23  \n4         -9.80  \n5         -8.88  \n6         -6.22  \n7         -3.89  \n8         -3.85  \n9         -3.66  \n10        -1.72  \n11        -1.24  \n12         0.24  \n13         0.33  \n14         1.47  \n15         1.61  \n16         2.22  \n17         2.49  \n18         2.68  \n19         2.74  \n20         2.89  \n21         5.15  \n22         6.42  \n23         7.02  \n24         7.80  \n25         8.32  \n26         9.69  \n27        11.80  \n28        14.70  \n29        15.52  ",
            "text/html": "<div>\n<style scoped>\n    .dataframe tbody tr th:only-of-type {\n        vertical-align: middle;\n    }\n\n    .dataframe tbody tr th {\n        vertical-align: top;\n    }\n\n    .dataframe thead th {\n        text-align: right;\n    }\n</style>\n<table border=\"1\" class=\"dataframe\">\n  <thead>\n    <tr style=\"text-align: right;\">\n      <th></th>\n      <th>borough</th>\n      <th>no_crimes_2011</th>\n      <th>no_crimes_2016</th>\n      <th>change</th>\n      <th>perc_change</th>\n    </tr>\n  </thead>\n  <tbody>\n    <tr>\n      <th>0</th>\n      <td>Camden</td>\n      <td>33956</td>\n      <td>29183</td>\n      <td>-4773</td>\n      <td>-16.36</td>\n    </tr>\n    <tr>\n      <th>1</th>\n      <td>Waltham Forest</td>\n      <td>23714</td>\n      <td>20716</td>\n      <td>-2998</td>\n      <td>-14.47</td>\n    </tr>\n    <tr>\n      <th>2</th>\n      <td>Redbridge</td>\n      <td>21994</td>\n      <td>19502</td>\n      <td>-2492</td>\n      <td>-12.78</td>\n    </tr>\n    <tr>\n      <th>3</th>\n      <td>Westminster</td>\n      <td>54243</td>\n      <td>48330</td>\n      <td>-5913</td>\n      <td>-12.23</td>\n    </tr>\n    <tr>\n      <th>4</th>\n      <td>Hammersmith and Fulham</td>\n      <td>22151</td>\n      <td>20174</td>\n      <td>-1977</td>\n      <td>-9.80</td>\n    </tr>\n    <tr>\n      <th>5</th>\n      <td>Ealing</td>\n      <td>29537</td>\n      <td>27127</td>\n      <td>-2410</td>\n      <td>-8.88</td>\n    </tr>\n    <tr>\n      <th>6</th>\n      <td>Merton</td>\n      <td>13548</td>\n      <td>12755</td>\n      <td>-793</td>\n      <td>-6.22</td>\n    </tr>\n    <tr>\n      <th>7</th>\n      <td>Croydon</td>\n      <td>29830</td>\n      <td>28712</td>\n      <td>-1118</td>\n      <td>-3.89</td>\n    </tr>\n    <tr>\n      <th>8</th>\n      <td>Sutton</td>\n      <td>11068</td>\n      <td>10658</td>\n      <td>-410</td>\n      <td>-3.85</td>\n    </tr>\n    <tr>\n      <th>9</th>\n      <td>Brent</td>\n      <td>27669</td>\n      <td>26693</td>\n      <td>-976</td>\n      <td>-3.66</td>\n    </tr>\n    <tr>\n      <th>10</th>\n      <td>Kingston upon Thames</td>\n      <td>10155</td>\n      <td>9983</td>\n      <td>-172</td>\n      <td>-1.72</td>\n    </tr>\n    <tr>\n      <th>11</th>\n      <td>Lewisham</td>\n      <td>24201</td>\n      <td>23904</td>\n      <td>-297</td>\n      <td>-1.24</td>\n    </tr>\n    <tr>\n      <th>12</th>\n      <td>Hillingdon</td>\n      <td>24282</td>\n      <td>24341</td>\n      <td>59</td>\n      <td>0.24</td>\n    </tr>\n    <tr>\n      <th>13</th>\n      <td>Barking and Dagenham</td>\n      <td>16686</td>\n      <td>16741</td>\n      <td>55</td>\n      <td>0.33</td>\n    </tr>\n    <tr>\n      <th>14</th>\n      <td>Bromley</td>\n      <td>19868</td>\n      <td>20164</td>\n      <td>296</td>\n      <td>1.47</td>\n    </tr>\n    <tr>\n      <th>15</th>\n      <td>Richmond upon Thames</td>\n      <td>10896</td>\n      <td>11074</td>\n      <td>178</td>\n      <td>1.61</td>\n    </tr>\n    <tr>\n      <th>16</th>\n      <td>Kensington and Chelsea</td>\n      <td>19146</td>\n      <td>19580</td>\n      <td>434</td>\n      <td>2.22</td>\n    </tr>\n    <tr>\n      <th>17</th>\n      <td>Lambeth</td>\n      <td>33224</td>\n      <td>34071</td>\n      <td>847</td>\n      <td>2.49</td>\n    </tr>\n    <tr>\n      <th>18</th>\n      <td>Harrow</td>\n      <td>12801</td>\n      <td>13153</td>\n      <td>352</td>\n      <td>2.68</td>\n    </tr>\n    <tr>\n      <th>19</th>\n      <td>Barnet</td>\n      <td>24007</td>\n      <td>24684</td>\n      <td>677</td>\n      <td>2.74</td>\n    </tr>\n    <tr>\n      <th>20</th>\n      <td>Southwark</td>\n      <td>30723</td>\n      <td>31636</td>\n      <td>913</td>\n      <td>2.89</td>\n    </tr>\n    <tr>\n      <th>21</th>\n      <td>Hounslow</td>\n      <td>21105</td>\n      <td>22251</td>\n      <td>1146</td>\n      <td>5.15</td>\n    </tr>\n    <tr>\n      <th>22</th>\n      <td>Enfield</td>\n      <td>21041</td>\n      <td>22485</td>\n      <td>1444</td>\n      <td>6.42</td>\n    </tr>\n    <tr>\n      <th>23</th>\n      <td>Newham</td>\n      <td>27978</td>\n      <td>30090</td>\n      <td>2112</td>\n      <td>7.02</td>\n    </tr>\n    <tr>\n      <th>24</th>\n      <td>Islington</td>\n      <td>24980</td>\n      <td>27092</td>\n      <td>2112</td>\n      <td>7.80</td>\n    </tr>\n    <tr>\n      <th>25</th>\n      <td>Havering</td>\n      <td>15496</td>\n      <td>16903</td>\n      <td>1407</td>\n      <td>8.32</td>\n    </tr>\n    <tr>\n      <th>26</th>\n      <td>Wandsworth</td>\n      <td>21384</td>\n      <td>23679</td>\n      <td>2295</td>\n      <td>9.69</td>\n    </tr>\n    <tr>\n      <th>27</th>\n      <td>Bexley</td>\n      <td>11325</td>\n      <td>12840</td>\n      <td>1515</td>\n      <td>11.80</td>\n    </tr>\n    <tr>\n      <th>28</th>\n      <td>Haringey</td>\n      <td>23179</td>\n      <td>27174</td>\n      <td>3995</td>\n      <td>14.70</td>\n    </tr>\n    <tr>\n      <th>29</th>\n      <td>Tower Hamlets</td>\n      <td>24712</td>\n      <td>29253</td>\n      <td>4541</td>\n      <td>15.52</td>\n    </tr>\n  </tbody>\n</table>\n</div>"
          },
          "metadata": {}
        }
      ]
    },
    {
      "metadata": {
        "_cell_guid": "e53dbcf0-eaba-474f-b83c-fa7fc5e69a81",
        "_uuid": "ef06f0f96cdffd2af224c796a423304f914d7da9"
      },
      "cell_type": "markdown",
      "source": "What were the top 3 crimes per borough in 2016?\n\n"
    },
    {
      "metadata": {
        "_cell_guid": "87ba4e16-08e7-4325-b0ab-e35a0cf07479",
        "_uuid": "450d392be87f17bcf55e86d2ee1c42f6b24d539d",
        "trusted": true
      },
      "cell_type": "code",
      "source": "query2 = \"\"\"\nSELECT\n  borough,\n  major_category,\n  rank_per_borough,\n  no_of_incidents\nFROM (\n  SELECT\n    borough,\n    major_category,\n    RANK() OVER(PARTITION BY borough ORDER BY SUM(value) DESC) AS rank_per_borough,\n    SUM(value) AS no_of_incidents\n  FROM\n    `bigquery-public-data.london_crime.crime_by_lsoa`\n  GROUP BY\n    borough,\n    major_category )\nWHERE\n  rank_per_borough <= 3\nORDER BY\n  borough,\n  rank_per_borough;\n        \"\"\"\nresponse2 = london.query_to_pandas_safe(query2)\nresponse2.head(30)",
      "execution_count": 6,
      "outputs": [
        {
          "output_type": "execute_result",
          "execution_count": 6,
          "data": {
            "text/plain": "                 borough               major_category  rank_per_borough  \\\n0   Barking and Dagenham           Theft and Handling                 1   \n1   Barking and Dagenham  Violence Against the Person                 2   \n2   Barking and Dagenham              Criminal Damage                 3   \n3                 Barnet           Theft and Handling                 1   \n4                 Barnet  Violence Against the Person                 2   \n5                 Barnet                     Burglary                 3   \n6                 Bexley           Theft and Handling                 1   \n7                 Bexley  Violence Against the Person                 2   \n8                 Bexley              Criminal Damage                 3   \n9                  Brent           Theft and Handling                 1   \n10                 Brent  Violence Against the Person                 2   \n11                 Brent                     Burglary                 3   \n12               Bromley           Theft and Handling                 1   \n13               Bromley  Violence Against the Person                 2   \n14               Bromley                     Burglary                 3   \n15                Camden           Theft and Handling                 1   \n16                Camden  Violence Against the Person                 2   \n17                Camden                     Burglary                 3   \n18        City of London           Theft and Handling                 1   \n19        City of London  Violence Against the Person                 2   \n20        City of London                        Drugs                 3   \n21               Croydon           Theft and Handling                 1   \n22               Croydon  Violence Against the Person                 2   \n23               Croydon                     Burglary                 3   \n24                Ealing           Theft and Handling                 1   \n25                Ealing  Violence Against the Person                 2   \n26                Ealing                     Burglary                 3   \n27               Enfield           Theft and Handling                 1   \n28               Enfield  Violence Against the Person                 2   \n29               Enfield                     Burglary                 3   \n\n    no_of_incidents  \n0             50999  \n1             43091  \n2             18888  \n3             87285  \n4             46565  \n5             36981  \n6             40071  \n7             30037  \n8             17244  \n9             72523  \n10            63178  \n11            28923  \n12            69742  \n13            46759  \n14            27135  \n15           140596  \n16            53012  \n17            27939  \n18              561  \n19              114  \n20               33  \n21            91437  \n22            67791  \n23            33376  \n24            93834  \n25            68492  \n26            30831  \n27            70371  \n28            45036  \n29            30213  ",
            "text/html": "<div>\n<style scoped>\n    .dataframe tbody tr th:only-of-type {\n        vertical-align: middle;\n    }\n\n    .dataframe tbody tr th {\n        vertical-align: top;\n    }\n\n    .dataframe thead th {\n        text-align: right;\n    }\n</style>\n<table border=\"1\" class=\"dataframe\">\n  <thead>\n    <tr style=\"text-align: right;\">\n      <th></th>\n      <th>borough</th>\n      <th>major_category</th>\n      <th>rank_per_borough</th>\n      <th>no_of_incidents</th>\n    </tr>\n  </thead>\n  <tbody>\n    <tr>\n      <th>0</th>\n      <td>Barking and Dagenham</td>\n      <td>Theft and Handling</td>\n      <td>1</td>\n      <td>50999</td>\n    </tr>\n    <tr>\n      <th>1</th>\n      <td>Barking and Dagenham</td>\n      <td>Violence Against the Person</td>\n      <td>2</td>\n      <td>43091</td>\n    </tr>\n    <tr>\n      <th>2</th>\n      <td>Barking and Dagenham</td>\n      <td>Criminal Damage</td>\n      <td>3</td>\n      <td>18888</td>\n    </tr>\n    <tr>\n      <th>3</th>\n      <td>Barnet</td>\n      <td>Theft and Handling</td>\n      <td>1</td>\n      <td>87285</td>\n    </tr>\n    <tr>\n      <th>4</th>\n      <td>Barnet</td>\n      <td>Violence Against the Person</td>\n      <td>2</td>\n      <td>46565</td>\n    </tr>\n    <tr>\n      <th>5</th>\n      <td>Barnet</td>\n      <td>Burglary</td>\n      <td>3</td>\n      <td>36981</td>\n    </tr>\n    <tr>\n      <th>6</th>\n      <td>Bexley</td>\n      <td>Theft and Handling</td>\n      <td>1</td>\n      <td>40071</td>\n    </tr>\n    <tr>\n      <th>7</th>\n      <td>Bexley</td>\n      <td>Violence Against the Person</td>\n      <td>2</td>\n      <td>30037</td>\n    </tr>\n    <tr>\n      <th>8</th>\n      <td>Bexley</td>\n      <td>Criminal Damage</td>\n      <td>3</td>\n      <td>17244</td>\n    </tr>\n    <tr>\n      <th>9</th>\n      <td>Brent</td>\n      <td>Theft and Handling</td>\n      <td>1</td>\n      <td>72523</td>\n    </tr>\n    <tr>\n      <th>10</th>\n      <td>Brent</td>\n      <td>Violence Against the Person</td>\n      <td>2</td>\n      <td>63178</td>\n    </tr>\n    <tr>\n      <th>11</th>\n      <td>Brent</td>\n      <td>Burglary</td>\n      <td>3</td>\n      <td>28923</td>\n    </tr>\n    <tr>\n      <th>12</th>\n      <td>Bromley</td>\n      <td>Theft and Handling</td>\n      <td>1</td>\n      <td>69742</td>\n    </tr>\n    <tr>\n      <th>13</th>\n      <td>Bromley</td>\n      <td>Violence Against the Person</td>\n      <td>2</td>\n      <td>46759</td>\n    </tr>\n    <tr>\n      <th>14</th>\n      <td>Bromley</td>\n      <td>Burglary</td>\n      <td>3</td>\n      <td>27135</td>\n    </tr>\n    <tr>\n      <th>15</th>\n      <td>Camden</td>\n      <td>Theft and Handling</td>\n      <td>1</td>\n      <td>140596</td>\n    </tr>\n    <tr>\n      <th>16</th>\n      <td>Camden</td>\n      <td>Violence Against the Person</td>\n      <td>2</td>\n      <td>53012</td>\n    </tr>\n    <tr>\n      <th>17</th>\n      <td>Camden</td>\n      <td>Burglary</td>\n      <td>3</td>\n      <td>27939</td>\n    </tr>\n    <tr>\n      <th>18</th>\n      <td>City of London</td>\n      <td>Theft and Handling</td>\n      <td>1</td>\n      <td>561</td>\n    </tr>\n    <tr>\n      <th>19</th>\n      <td>City of London</td>\n      <td>Violence Against the Person</td>\n      <td>2</td>\n      <td>114</td>\n    </tr>\n    <tr>\n      <th>20</th>\n      <td>City of London</td>\n      <td>Drugs</td>\n      <td>3</td>\n      <td>33</td>\n    </tr>\n    <tr>\n      <th>21</th>\n      <td>Croydon</td>\n      <td>Theft and Handling</td>\n      <td>1</td>\n      <td>91437</td>\n    </tr>\n    <tr>\n      <th>22</th>\n      <td>Croydon</td>\n      <td>Violence Against the Person</td>\n      <td>2</td>\n      <td>67791</td>\n    </tr>\n    <tr>\n      <th>23</th>\n      <td>Croydon</td>\n      <td>Burglary</td>\n      <td>3</td>\n      <td>33376</td>\n    </tr>\n    <tr>\n      <th>24</th>\n      <td>Ealing</td>\n      <td>Theft and Handling</td>\n      <td>1</td>\n      <td>93834</td>\n    </tr>\n    <tr>\n      <th>25</th>\n      <td>Ealing</td>\n      <td>Violence Against the Person</td>\n      <td>2</td>\n      <td>68492</td>\n    </tr>\n    <tr>\n      <th>26</th>\n      <td>Ealing</td>\n      <td>Burglary</td>\n      <td>3</td>\n      <td>30831</td>\n    </tr>\n    <tr>\n      <th>27</th>\n      <td>Enfield</td>\n      <td>Theft and Handling</td>\n      <td>1</td>\n      <td>70371</td>\n    </tr>\n    <tr>\n      <th>28</th>\n      <td>Enfield</td>\n      <td>Violence Against the Person</td>\n      <td>2</td>\n      <td>45036</td>\n    </tr>\n    <tr>\n      <th>29</th>\n      <td>Enfield</td>\n      <td>Burglary</td>\n      <td>3</td>\n      <td>30213</td>\n    </tr>\n  </tbody>\n</table>\n</div>"
          },
          "metadata": {}
        }
      ]
    },
    {
      "metadata": {
        "collapsed": true,
        "_cell_guid": "bdb6e0e4-619a-43fd-954f-919f93cbc2d5",
        "_uuid": "b79f5f5b997168585b09193b95df4c99d2b1afe8",
        "trusted": true
      },
      "cell_type": "code",
      "source": "",
      "execution_count": null,
      "outputs": []
    }
  ],
  "metadata": {
    "language_info": {
      "name": "python",
      "version": "3.6.4",
      "mimetype": "text/x-python",
      "codemirror_mode": {
        "name": "ipython",
        "version": 3
      },
      "pygments_lexer": "ipython3",
      "nbconvert_exporter": "python",
      "file_extension": ".py"
    },
    "kernelspec": {
      "display_name": "Python 3",
      "language": "python",
      "name": "python3"
    }
  },
  "nbformat": 4,
  "nbformat_minor": 1
}