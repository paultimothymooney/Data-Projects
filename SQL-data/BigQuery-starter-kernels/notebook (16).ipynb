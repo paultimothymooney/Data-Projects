{
  "cells": [
    {
      "metadata": {
        "_uuid": "de5c8ef6d5d0ee22ec7e55b629d1c1f08d2b8efd",
        "_cell_guid": "307eb20a-56a5-43b9-832b-a76b338ad5e3"
      },
      "cell_type": "markdown",
      "source": "**How to Query the Stack Overflow Data (BigQuery Dataset)**"
    },
    {
      "metadata": {
        "collapsed": true,
        "_uuid": "8f2839f25d086af736a60e9eeb907d3b93b6e0e5",
        "_cell_guid": "b1076dfc-b9ad-4769-8c92-a6c4dae69d19",
        "trusted": true
      },
      "cell_type": "code",
      "source": "import bq_helper\nfrom bq_helper import BigQueryHelper\n# https://www.kaggle.com/sohier/introduction-to-the-bq-helper-package\nstackOverflow = bq_helper.BigQueryHelper(active_project=\"bigquery-public-data\",\n                                   dataset_name=\"stackoverflow\")",
      "execution_count": 1,
      "outputs": []
    },
    {
      "metadata": {
        "_uuid": "a3415035b50ece1df93c6573539798b929a597f5",
        "_cell_guid": "b0442c95-01fa-4688-9a30-718347933e0f",
        "trusted": true
      },
      "cell_type": "code",
      "source": "bq_assistant = BigQueryHelper(\"bigquery-public-data\", \"stackoverflow\")\nbq_assistant.list_tables()",
      "execution_count": 2,
      "outputs": [
        {
          "output_type": "execute_result",
          "execution_count": 2,
          "data": {
            "text/plain": "['badges',\n 'comments',\n 'post_history',\n 'post_links',\n 'posts_answers',\n 'posts_moderator_nomination',\n 'posts_orphaned_tag_wiki',\n 'posts_privilege_wiki',\n 'posts_questions',\n 'posts_tag_wiki',\n 'posts_tag_wiki_excerpt',\n 'posts_wiki_placeholder',\n 'stackoverflow_posts',\n 'tags',\n 'users',\n 'votes']"
          },
          "metadata": {}
        }
      ]
    },
    {
      "metadata": {
        "_uuid": "f6d79a4aae694e0bc61d4dbc4724005d913b9248",
        "_cell_guid": "a2805b6e-5e32-484c-b1c7-a7e3d364ef35",
        "trusted": true
      },
      "cell_type": "code",
      "source": "bq_assistant.head(\"comments\", num_rows=20)",
      "execution_count": 3,
      "outputs": [
        {
          "output_type": "execute_result",
          "execution_count": 3,
          "data": {
            "text/plain": "          id                                               text  \\\n0   50232955  `json.keys()` will give you fileds of your class.   \n1    5733229  MiffTheFox: I'm talking about autoloading, not...   \n2   59596181  Microsoft.mshtml.dll is an ancient assembly an...   \n3   72357806       Edited my answer, missed the actual problem.   \n4   67742655  Glad to help. Remember that if you found diffe...   \n5   57931161  Hadn't thought of that. That means, Windows, h...   \n6   69267765         `mapData = [serverdata];` also seems wrong   \n7   55666198  i fixed it myself. i appreciate your help. Tha...   \n8   10545382  Welcome to SO. Your question would profit grea...   \n9   78972208  @scaisEdge I think Stack Overflow's auto-tagge...   \n10  22676288  Right at the top of my app.js file. In the exa...   \n11   3471872  I was assuming that ProductId was a primary ke...   \n12  71069656  I have put my question in the above link. It i...   \n13  76943875  @dan I agree with @Jonah, a primitive similar ...   \n14  72325862  ok, I implemented the `performBatchUpdates` bu...   \n15  55112045  In this way the getview will run two times , H...   \n16  53452238  OK, the encryption issue was definitively a pr...   \n17  68150965  `public String getWordArray; { ... }` doesn't ...   \n18  72088887  The number of elements has to be known at some...   \n19  50309661  Thank you @David and ryanyuyu for your respons...   \n\n                      creation_date   post_id  user_id user_display_name  \\\n0  2015-06-29 06:52:25.147000+00:00  30938884  2823164                     \n1  2011-02-25 02:51:17.527000+00:00   5112964   388916                     \n2  2016-03-13 13:52:45.057000+00:00  35969898    17034                     \n3  2017-03-05 21:47:57.003000+00:00  42613986  3476154                     \n4  2016-10-25 12:48:47.883000+00:00  40239896  4323648                     \n5  2016-01-30 17:59:37.473000+00:00  35104966  4957620                     \n6  2016-12-08 01:02:05.210000+00:00  41029970    14104                     \n7  2015-11-27 09:29:23.887000+00:00  33952075  3046937                     \n8  2011-12-15 08:54:23.533000+00:00   8517384   847601                     \n9  2017-09-01 17:56:09.263000+00:00  46005434    87189                     \n10 2013-04-10 07:54:00.100000+00:00  15880220  1578653                     \n11 2010-07-27 16:01:55.743000+00:00   3345342   226897                     \n12 2017-01-30 20:23:08.033000+00:00  41536046  5526273                     \n13 2017-07-08 09:24:15.510000+00:00  44963184   349708                     \n14 2017-03-04 14:56:13.637000+00:00  42567446  1867590                     \n15 2015-11-12 10:42:45.223000+00:00  33668768  5146875                     \n16 2015-09-27 12:09:51.293000+00:00  32802804   122718                     \n17 2016-11-06 18:17:15.507000+00:00  40452776  1393766                     \n18        2017-02-26 21:07:29+00:00  42474231   156811                     \n19 2015-06-30 22:43:45.707000+00:00  31149126  2325338                     \n\n    score  \n0       0  \n1       1  \n2       0  \n3       0  \n4       0  \n5       0  \n6       0  \n7       0  \n8       2  \n9       1  \n10      1  \n11      0  \n12      0  \n13      1  \n14      1  \n15      0  \n16      0  \n17      1  \n18      0  \n19      0  ",
            "text/html": "<div>\n<style scoped>\n    .dataframe tbody tr th:only-of-type {\n        vertical-align: middle;\n    }\n\n    .dataframe tbody tr th {\n        vertical-align: top;\n    }\n\n    .dataframe thead th {\n        text-align: right;\n    }\n</style>\n<table border=\"1\" class=\"dataframe\">\n  <thead>\n    <tr style=\"text-align: right;\">\n      <th></th>\n      <th>id</th>\n      <th>text</th>\n      <th>creation_date</th>\n      <th>post_id</th>\n      <th>user_id</th>\n      <th>user_display_name</th>\n      <th>score</th>\n    </tr>\n  </thead>\n  <tbody>\n    <tr>\n      <th>0</th>\n      <td>50232955</td>\n      <td>`json.keys()` will give you fileds of your class.</td>\n      <td>2015-06-29 06:52:25.147000+00:00</td>\n      <td>30938884</td>\n      <td>2823164</td>\n      <td></td>\n      <td>0</td>\n    </tr>\n    <tr>\n      <th>1</th>\n      <td>5733229</td>\n      <td>MiffTheFox: I'm talking about autoloading, not...</td>\n      <td>2011-02-25 02:51:17.527000+00:00</td>\n      <td>5112964</td>\n      <td>388916</td>\n      <td></td>\n      <td>1</td>\n    </tr>\n    <tr>\n      <th>2</th>\n      <td>59596181</td>\n      <td>Microsoft.mshtml.dll is an ancient assembly an...</td>\n      <td>2016-03-13 13:52:45.057000+00:00</td>\n      <td>35969898</td>\n      <td>17034</td>\n      <td></td>\n      <td>0</td>\n    </tr>\n    <tr>\n      <th>3</th>\n      <td>72357806</td>\n      <td>Edited my answer, missed the actual problem.</td>\n      <td>2017-03-05 21:47:57.003000+00:00</td>\n      <td>42613986</td>\n      <td>3476154</td>\n      <td></td>\n      <td>0</td>\n    </tr>\n    <tr>\n      <th>4</th>\n      <td>67742655</td>\n      <td>Glad to help. Remember that if you found diffe...</td>\n      <td>2016-10-25 12:48:47.883000+00:00</td>\n      <td>40239896</td>\n      <td>4323648</td>\n      <td></td>\n      <td>0</td>\n    </tr>\n    <tr>\n      <th>5</th>\n      <td>57931161</td>\n      <td>Hadn't thought of that. That means, Windows, h...</td>\n      <td>2016-01-30 17:59:37.473000+00:00</td>\n      <td>35104966</td>\n      <td>4957620</td>\n      <td></td>\n      <td>0</td>\n    </tr>\n    <tr>\n      <th>6</th>\n      <td>69267765</td>\n      <td>`mapData = [serverdata];` also seems wrong</td>\n      <td>2016-12-08 01:02:05.210000+00:00</td>\n      <td>41029970</td>\n      <td>14104</td>\n      <td></td>\n      <td>0</td>\n    </tr>\n    <tr>\n      <th>7</th>\n      <td>55666198</td>\n      <td>i fixed it myself. i appreciate your help. Tha...</td>\n      <td>2015-11-27 09:29:23.887000+00:00</td>\n      <td>33952075</td>\n      <td>3046937</td>\n      <td></td>\n      <td>0</td>\n    </tr>\n    <tr>\n      <th>8</th>\n      <td>10545382</td>\n      <td>Welcome to SO. Your question would profit grea...</td>\n      <td>2011-12-15 08:54:23.533000+00:00</td>\n      <td>8517384</td>\n      <td>847601</td>\n      <td></td>\n      <td>2</td>\n    </tr>\n    <tr>\n      <th>9</th>\n      <td>78972208</td>\n      <td>@scaisEdge I think Stack Overflow's auto-tagge...</td>\n      <td>2017-09-01 17:56:09.263000+00:00</td>\n      <td>46005434</td>\n      <td>87189</td>\n      <td></td>\n      <td>1</td>\n    </tr>\n    <tr>\n      <th>10</th>\n      <td>22676288</td>\n      <td>Right at the top of my app.js file. In the exa...</td>\n      <td>2013-04-10 07:54:00.100000+00:00</td>\n      <td>15880220</td>\n      <td>1578653</td>\n      <td></td>\n      <td>1</td>\n    </tr>\n    <tr>\n      <th>11</th>\n      <td>3471872</td>\n      <td>I was assuming that ProductId was a primary ke...</td>\n      <td>2010-07-27 16:01:55.743000+00:00</td>\n      <td>3345342</td>\n      <td>226897</td>\n      <td></td>\n      <td>0</td>\n    </tr>\n    <tr>\n      <th>12</th>\n      <td>71069656</td>\n      <td>I have put my question in the above link. It i...</td>\n      <td>2017-01-30 20:23:08.033000+00:00</td>\n      <td>41536046</td>\n      <td>5526273</td>\n      <td></td>\n      <td>0</td>\n    </tr>\n    <tr>\n      <th>13</th>\n      <td>76943875</td>\n      <td>@dan I agree with @Jonah, a primitive similar ...</td>\n      <td>2017-07-08 09:24:15.510000+00:00</td>\n      <td>44963184</td>\n      <td>349708</td>\n      <td></td>\n      <td>1</td>\n    </tr>\n    <tr>\n      <th>14</th>\n      <td>72325862</td>\n      <td>ok, I implemented the `performBatchUpdates` bu...</td>\n      <td>2017-03-04 14:56:13.637000+00:00</td>\n      <td>42567446</td>\n      <td>1867590</td>\n      <td></td>\n      <td>1</td>\n    </tr>\n    <tr>\n      <th>15</th>\n      <td>55112045</td>\n      <td>In this way the getview will run two times , H...</td>\n      <td>2015-11-12 10:42:45.223000+00:00</td>\n      <td>33668768</td>\n      <td>5146875</td>\n      <td></td>\n      <td>0</td>\n    </tr>\n    <tr>\n      <th>16</th>\n      <td>53452238</td>\n      <td>OK, the encryption issue was definitively a pr...</td>\n      <td>2015-09-27 12:09:51.293000+00:00</td>\n      <td>32802804</td>\n      <td>122718</td>\n      <td></td>\n      <td>0</td>\n    </tr>\n    <tr>\n      <th>17</th>\n      <td>68150965</td>\n      <td>`public String getWordArray; { ... }` doesn't ...</td>\n      <td>2016-11-06 18:17:15.507000+00:00</td>\n      <td>40452776</td>\n      <td>1393766</td>\n      <td></td>\n      <td>1</td>\n    </tr>\n    <tr>\n      <th>18</th>\n      <td>72088887</td>\n      <td>The number of elements has to be known at some...</td>\n      <td>2017-02-26 21:07:29+00:00</td>\n      <td>42474231</td>\n      <td>156811</td>\n      <td></td>\n      <td>0</td>\n    </tr>\n    <tr>\n      <th>19</th>\n      <td>50309661</td>\n      <td>Thank you @David and ryanyuyu for your respons...</td>\n      <td>2015-06-30 22:43:45.707000+00:00</td>\n      <td>31149126</td>\n      <td>2325338</td>\n      <td></td>\n      <td>0</td>\n    </tr>\n  </tbody>\n</table>\n</div>"
          },
          "metadata": {}
        }
      ]
    },
    {
      "metadata": {
        "_uuid": "bbb18e3c781e1ce11b83342cc42b46b4eb4f1a81",
        "_kg_hide-output": true,
        "_cell_guid": "87e3e8b9-e8c4-48fd-99d3-a77034d474bf",
        "trusted": true
      },
      "cell_type": "code",
      "source": "bq_assistant.table_schema(\"comments\")",
      "execution_count": 4,
      "outputs": [
        {
          "output_type": "execute_result",
          "execution_count": 4,
          "data": {
            "text/plain": "[SchemaField('id', 'INTEGER', 'REQUIRED', None, ()),\n SchemaField('text', 'STRING', 'NULLABLE', None, ()),\n SchemaField('creation_date', 'TIMESTAMP', 'NULLABLE', None, ()),\n SchemaField('post_id', 'INTEGER', 'NULLABLE', None, ()),\n SchemaField('user_id', 'INTEGER', 'NULLABLE', None, ()),\n SchemaField('user_display_name', 'STRING', 'NULLABLE', None, ()),\n SchemaField('score', 'INTEGER', 'NULLABLE', None, ())]"
          },
          "metadata": {}
        }
      ]
    },
    {
      "metadata": {
        "_uuid": "8eeda9ae334f9bc0dc313635abee9c9c0d582f6c",
        "_cell_guid": "ec2e26b9-885e-4f12-8d20-2f8c494d6f3e"
      },
      "cell_type": "markdown",
      "source": "What is the percentage of questions that have been answered over the years?\n"
    },
    {
      "metadata": {
        "_uuid": "f498dd0e54911bf273ae4a76fd6a2bdaebf96f15",
        "_cell_guid": "ab7c4d65-3cc2-4192-992c-b030c33b2010",
        "trusted": true
      },
      "cell_type": "code",
      "source": "query1 = \"\"\"SELECT\n  EXTRACT(YEAR FROM creation_date) AS Year,\n  COUNT(*) AS Number_of_Questions,\n  ROUND(100 * SUM(IF(answer_count > 0, 1, 0)) / COUNT(*), 1) AS Percent_Questions_with_Answers\nFROM\n  `bigquery-public-data.stackoverflow.posts_questions`\nGROUP BY\n  Year\nHAVING\n  Year > 2008 AND Year < 2016\nORDER BY\n  Year;\n        \"\"\"\nresponse1 = stackOverflow.query_to_pandas_safe(query1)\nresponse1.head(10)",
      "execution_count": 5,
      "outputs": [
        {
          "output_type": "execute_result",
          "execution_count": 5,
          "data": {
            "text/plain": "   Year  Number_of_Questions  Percent_Questions_with_Answers\n0  2009               344099                            99.7\n1  2010               694733                            99.1\n2  2011              1201116                            97.1\n3  2012              1646361                            94.5\n4  2013              2061829                            91.5\n5  2014              2166032                            88.3\n6  2015              2221374                            86.1",
            "text/html": "<div>\n<style scoped>\n    .dataframe tbody tr th:only-of-type {\n        vertical-align: middle;\n    }\n\n    .dataframe tbody tr th {\n        vertical-align: top;\n    }\n\n    .dataframe thead th {\n        text-align: right;\n    }\n</style>\n<table border=\"1\" class=\"dataframe\">\n  <thead>\n    <tr style=\"text-align: right;\">\n      <th></th>\n      <th>Year</th>\n      <th>Number_of_Questions</th>\n      <th>Percent_Questions_with_Answers</th>\n    </tr>\n  </thead>\n  <tbody>\n    <tr>\n      <th>0</th>\n      <td>2009</td>\n      <td>344099</td>\n      <td>99.7</td>\n    </tr>\n    <tr>\n      <th>1</th>\n      <td>2010</td>\n      <td>694733</td>\n      <td>99.1</td>\n    </tr>\n    <tr>\n      <th>2</th>\n      <td>2011</td>\n      <td>1201116</td>\n      <td>97.1</td>\n    </tr>\n    <tr>\n      <th>3</th>\n      <td>2012</td>\n      <td>1646361</td>\n      <td>94.5</td>\n    </tr>\n    <tr>\n      <th>4</th>\n      <td>2013</td>\n      <td>2061829</td>\n      <td>91.5</td>\n    </tr>\n    <tr>\n      <th>5</th>\n      <td>2014</td>\n      <td>2166032</td>\n      <td>88.3</td>\n    </tr>\n    <tr>\n      <th>6</th>\n      <td>2015</td>\n      <td>2221374</td>\n      <td>86.1</td>\n    </tr>\n  </tbody>\n</table>\n</div>"
          },
          "metadata": {}
        }
      ]
    },
    {
      "metadata": {
        "_uuid": "ef06f0f96cdffd2af224c796a423304f914d7da9",
        "_cell_guid": "e53dbcf0-eaba-474f-b83c-fa7fc5e69a81"
      },
      "cell_type": "markdown",
      "source": "What is the reputation and badge count of users across different tenures on StackOverflow?\n"
    },
    {
      "metadata": {
        "_uuid": "77d0841a15c7675c6e2506e02762ed6892629d59",
        "_cell_guid": "f9ea65cb-a34a-4e54-b7dd-8eb964aba953",
        "trusted": true
      },
      "cell_type": "code",
      "source": "query2 = \"\"\"SELECT User_Tenure,\n       COUNT(1) AS Num_Users,\n       ROUND(AVG(reputation)) AS Avg_Reputation,\n       ROUND(AVG(num_badges)) AS Avg_Num_Badges\nFROM (\n  SELECT users.id AS user,\n         ROUND(TIMESTAMP_DIFF(CURRENT_TIMESTAMP(), ANY_VALUE(users.creation_date), DAY)/365) AS user_tenure,\n         ANY_VALUE(users.reputation) AS reputation,\n         SUM(IF(badges.user_id IS NULL, 0, 1)) AS num_badges\n  FROM `bigquery-public-data.stackoverflow.users` users\n  LEFT JOIN `bigquery-public-data.stackoverflow.badges` badges\n  ON users.id = badges.user_id\n  GROUP BY user\n)\nGROUP BY User_Tenure\nORDER BY User_Tenure;\n        \"\"\"\nresponse2 = stackOverflow.query_to_pandas_safe(query2)\nresponse2.head(10)",
      "execution_count": 6,
      "outputs": [
        {
          "output_type": "execute_result",
          "execution_count": 6,
          "data": {
            "text/plain": "   User_Tenure  Num_Users  Avg_Reputation  Avg_Num_Badges\n0          0.0     632793             3.0             1.0\n1          1.0    1712249             7.0             1.0\n2          2.0    1511557            16.0             1.0\n3          3.0    1239810            31.0             2.0\n4          4.0    1178283            49.0             2.0\n5          5.0    1067822            90.0             3.0\n6          6.0     592135           229.0             7.0\n7          7.0     335525           475.0            11.0\n8          8.0     181367           865.0            16.0\n9          9.0      56772          2979.0            38.0",
            "text/html": "<div>\n<style scoped>\n    .dataframe tbody tr th:only-of-type {\n        vertical-align: middle;\n    }\n\n    .dataframe tbody tr th {\n        vertical-align: top;\n    }\n\n    .dataframe thead th {\n        text-align: right;\n    }\n</style>\n<table border=\"1\" class=\"dataframe\">\n  <thead>\n    <tr style=\"text-align: right;\">\n      <th></th>\n      <th>User_Tenure</th>\n      <th>Num_Users</th>\n      <th>Avg_Reputation</th>\n      <th>Avg_Num_Badges</th>\n    </tr>\n  </thead>\n  <tbody>\n    <tr>\n      <th>0</th>\n      <td>0.0</td>\n      <td>632793</td>\n      <td>3.0</td>\n      <td>1.0</td>\n    </tr>\n    <tr>\n      <th>1</th>\n      <td>1.0</td>\n      <td>1712249</td>\n      <td>7.0</td>\n      <td>1.0</td>\n    </tr>\n    <tr>\n      <th>2</th>\n      <td>2.0</td>\n      <td>1511557</td>\n      <td>16.0</td>\n      <td>1.0</td>\n    </tr>\n    <tr>\n      <th>3</th>\n      <td>3.0</td>\n      <td>1239810</td>\n      <td>31.0</td>\n      <td>2.0</td>\n    </tr>\n    <tr>\n      <th>4</th>\n      <td>4.0</td>\n      <td>1178283</td>\n      <td>49.0</td>\n      <td>2.0</td>\n    </tr>\n    <tr>\n      <th>5</th>\n      <td>5.0</td>\n      <td>1067822</td>\n      <td>90.0</td>\n      <td>3.0</td>\n    </tr>\n    <tr>\n      <th>6</th>\n      <td>6.0</td>\n      <td>592135</td>\n      <td>229.0</td>\n      <td>7.0</td>\n    </tr>\n    <tr>\n      <th>7</th>\n      <td>7.0</td>\n      <td>335525</td>\n      <td>475.0</td>\n      <td>11.0</td>\n    </tr>\n    <tr>\n      <th>8</th>\n      <td>8.0</td>\n      <td>181367</td>\n      <td>865.0</td>\n      <td>16.0</td>\n    </tr>\n    <tr>\n      <th>9</th>\n      <td>9.0</td>\n      <td>56772</td>\n      <td>2979.0</td>\n      <td>38.0</td>\n    </tr>\n  </tbody>\n</table>\n</div>"
          },
          "metadata": {}
        }
      ]
    },
    {
      "metadata": {
        "_uuid": "03b7f712e458da8be3ad91b4a96b7dad4f282e3b",
        "_cell_guid": "e5ea144c-7388-4dbd-99ce-c144d75855a4"
      },
      "cell_type": "markdown",
      "source": "What are 10 of the “easier” gold badges to earn?\n"
    },
    {
      "metadata": {
        "_uuid": "d597435820237905733ce8d5897a29f34af22dd7",
        "_cell_guid": "44cacead-3add-4047-bb10-b5f705b99656",
        "trusted": true
      },
      "cell_type": "code",
      "source": "query3 = \"\"\"SELECT badge_name AS First_Gold_Badge,\n       COUNT(1) AS Num_Users,\n       ROUND(AVG(tenure_in_days)) AS Avg_Num_Days\nFROM\n(\n  SELECT\n    badges.user_id AS user_id,\n    badges.name AS badge_name,\n    TIMESTAMP_DIFF(badges.date, users.creation_date, DAY) AS tenure_in_days,\n    ROW_NUMBER() OVER (PARTITION BY badges.user_id\n                       ORDER BY badges.date) AS row_number\n  FROM\n    `bigquery-public-data.stackoverflow.badges` badges\n  JOIN\n    `bigquery-public-data.stackoverflow.users` users\n  ON badges.user_id = users.id\n  WHERE badges.class = 1\n)\nWHERE row_number = 1\nGROUP BY First_Gold_Badge\nORDER BY Num_Users DESC\nLIMIT 10;\n        \"\"\"\nresponse3 = stackOverflow.query_to_pandas_safe(query3, max_gb_scanned=10)\nresponse3.head(10)",
      "execution_count": 7,
      "outputs": [
        {
          "output_type": "execute_result",
          "execution_count": 7,
          "data": {
            "text/plain": "  First_Gold_Badge  Num_Users  Avg_Num_Days\n0  Famous Question     220280        1255.0\n1          Fanatic      17888         673.0\n2      Unsung Hero      14834         649.0\n3     Great Answer      13330        1489.0\n4       Electorate       7155         903.0\n5         Populist       6571        1323.0\n6          Steward       1180        1044.0\n7   Great Question        617         747.0\n8      Copy Editor        267         619.0\n9          Marshal        198         631.0",
            "text/html": "<div>\n<style scoped>\n    .dataframe tbody tr th:only-of-type {\n        vertical-align: middle;\n    }\n\n    .dataframe tbody tr th {\n        vertical-align: top;\n    }\n\n    .dataframe thead th {\n        text-align: right;\n    }\n</style>\n<table border=\"1\" class=\"dataframe\">\n  <thead>\n    <tr style=\"text-align: right;\">\n      <th></th>\n      <th>First_Gold_Badge</th>\n      <th>Num_Users</th>\n      <th>Avg_Num_Days</th>\n    </tr>\n  </thead>\n  <tbody>\n    <tr>\n      <th>0</th>\n      <td>Famous Question</td>\n      <td>220280</td>\n      <td>1255.0</td>\n    </tr>\n    <tr>\n      <th>1</th>\n      <td>Fanatic</td>\n      <td>17888</td>\n      <td>673.0</td>\n    </tr>\n    <tr>\n      <th>2</th>\n      <td>Unsung Hero</td>\n      <td>14834</td>\n      <td>649.0</td>\n    </tr>\n    <tr>\n      <th>3</th>\n      <td>Great Answer</td>\n      <td>13330</td>\n      <td>1489.0</td>\n    </tr>\n    <tr>\n      <th>4</th>\n      <td>Electorate</td>\n      <td>7155</td>\n      <td>903.0</td>\n    </tr>\n    <tr>\n      <th>5</th>\n      <td>Populist</td>\n      <td>6571</td>\n      <td>1323.0</td>\n    </tr>\n    <tr>\n      <th>6</th>\n      <td>Steward</td>\n      <td>1180</td>\n      <td>1044.0</td>\n    </tr>\n    <tr>\n      <th>7</th>\n      <td>Great Question</td>\n      <td>617</td>\n      <td>747.0</td>\n    </tr>\n    <tr>\n      <th>8</th>\n      <td>Copy Editor</td>\n      <td>267</td>\n      <td>619.0</td>\n    </tr>\n    <tr>\n      <th>9</th>\n      <td>Marshal</td>\n      <td>198</td>\n      <td>631.0</td>\n    </tr>\n  </tbody>\n</table>\n</div>"
          },
          "metadata": {}
        }
      ]
    },
    {
      "metadata": {
        "_uuid": "a6ebb013cab63d0cdfe6d143cf73c4fab12100a0",
        "_cell_guid": "83b06213-432d-4d7e-ac24-bef63386acc4"
      },
      "cell_type": "markdown",
      "source": "Which day of the week has most questions answered within an hour?\n"
    },
    {
      "metadata": {
        "_uuid": "0b33abdf5a72f7402dafcfc1a55c4ee10fd127fe",
        "_cell_guid": "2a9e0d55-46c3-47af-8059-20365f8dd0ac",
        "trusted": true
      },
      "cell_type": "code",
      "source": "query4 = \"\"\"SELECT\n  Day_of_Week,\n  COUNT(1) AS Num_Questions,\n  SUM(answered_in_1h) AS Num_Answered_in_1H,\n  ROUND(100 * SUM(answered_in_1h) / COUNT(1),1) AS Percent_Answered_in_1H\nFROM\n(\n  SELECT\n    q.id AS question_id,\n    EXTRACT(DAYOFWEEK FROM q.creation_date) AS day_of_week,\n    MAX(IF(a.parent_id IS NOT NULL AND\n           (UNIX_SECONDS(a.creation_date)-UNIX_SECONDS(q.creation_date))/(60*60) <= 1, 1, 0)) AS answered_in_1h\n  FROM\n    `bigquery-public-data.stackoverflow.posts_questions` q\n  LEFT JOIN\n    `bigquery-public-data.stackoverflow.posts_answers` a\n  ON q.id = a.parent_id\n  WHERE EXTRACT(YEAR FROM a.creation_date) = 2016\n    AND EXTRACT(YEAR FROM q.creation_date) = 2016\n  GROUP BY question_id, day_of_week\n)\nGROUP BY\n  Day_of_Week\nORDER BY\n  Day_of_Week;\n        \"\"\"\nresponse4 = stackOverflow.query_to_pandas_safe(query4, max_gb_scanned=10)\nresponse4.head(10)",
      "execution_count": 8,
      "outputs": [
        {
          "output_type": "execute_result",
          "execution_count": 8,
          "data": {
            "text/plain": "   Day_of_Week  Num_Questions  Num_Answered_in_1H  Percent_Answered_in_1H\n0            1         157479               88966                    56.5\n1            2         283124              164912                    58.2\n2            3         311049              183508                    59.0\n3            4         319240              187658                    58.8\n4            5         314876              185159                    58.8\n5            6         283119              166664                    58.9\n6            7         160005               90557                    56.6",
            "text/html": "<div>\n<style scoped>\n    .dataframe tbody tr th:only-of-type {\n        vertical-align: middle;\n    }\n\n    .dataframe tbody tr th {\n        vertical-align: top;\n    }\n\n    .dataframe thead th {\n        text-align: right;\n    }\n</style>\n<table border=\"1\" class=\"dataframe\">\n  <thead>\n    <tr style=\"text-align: right;\">\n      <th></th>\n      <th>Day_of_Week</th>\n      <th>Num_Questions</th>\n      <th>Num_Answered_in_1H</th>\n      <th>Percent_Answered_in_1H</th>\n    </tr>\n  </thead>\n  <tbody>\n    <tr>\n      <th>0</th>\n      <td>1</td>\n      <td>157479</td>\n      <td>88966</td>\n      <td>56.5</td>\n    </tr>\n    <tr>\n      <th>1</th>\n      <td>2</td>\n      <td>283124</td>\n      <td>164912</td>\n      <td>58.2</td>\n    </tr>\n    <tr>\n      <th>2</th>\n      <td>3</td>\n      <td>311049</td>\n      <td>183508</td>\n      <td>59.0</td>\n    </tr>\n    <tr>\n      <th>3</th>\n      <td>4</td>\n      <td>319240</td>\n      <td>187658</td>\n      <td>58.8</td>\n    </tr>\n    <tr>\n      <th>4</th>\n      <td>5</td>\n      <td>314876</td>\n      <td>185159</td>\n      <td>58.8</td>\n    </tr>\n    <tr>\n      <th>5</th>\n      <td>6</td>\n      <td>283119</td>\n      <td>166664</td>\n      <td>58.9</td>\n    </tr>\n    <tr>\n      <th>6</th>\n      <td>7</td>\n      <td>160005</td>\n      <td>90557</td>\n      <td>56.6</td>\n    </tr>\n  </tbody>\n</table>\n</div>"
          },
          "metadata": {}
        }
      ]
    },
    {
      "metadata": {
        "collapsed": true,
        "_uuid": "450d392be87f17bcf55e86d2ee1c42f6b24d539d",
        "_cell_guid": "87ba4e16-08e7-4325-b0ab-e35a0cf07479",
        "trusted": true
      },
      "cell_type": "code",
      "source": "",
      "execution_count": null,
      "outputs": []
    },
    {
      "metadata": {
        "collapsed": true,
        "_uuid": "b79f5f5b997168585b09193b95df4c99d2b1afe8",
        "_cell_guid": "bdb6e0e4-619a-43fd-954f-919f93cbc2d5",
        "trusted": true
      },
      "cell_type": "code",
      "source": "",
      "execution_count": null,
      "outputs": []
    }
  ],
  "metadata": {
    "kernelspec": {
      "display_name": "Python 3",
      "language": "python",
      "name": "python3"
    },
    "language_info": {
      "name": "python",
      "version": "3.6.4",
      "mimetype": "text/x-python",
      "codemirror_mode": {
        "name": "ipython",
        "version": 3
      },
      "pygments_lexer": "ipython3",
      "nbconvert_exporter": "python",
      "file_extension": ".py"
    }
  },
  "nbformat": 4,
  "nbformat_minor": 1
}