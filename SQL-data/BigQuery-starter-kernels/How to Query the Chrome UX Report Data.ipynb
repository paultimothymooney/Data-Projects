{
  "cells": [
    {
      "metadata": {
        "_uuid": "8f2839f25d086af736a60e9eeb907d3b93b6e0e5",
        "_cell_guid": "b1076dfc-b9ad-4769-8c92-a6c4dae69d19",
        "trusted": true,
        "collapsed": true
      },
      "cell_type": "markdown",
      "source": "**How to Query the Chrome UX Report Data (BigQuery Dataset)**"
    },
    {
      "metadata": {
        "_cell_guid": "79c7e3d0-c299-4dcb-8224-4455121ee9b0",
        "collapsed": true,
        "_uuid": "d629ff2d2480ee46fbb7e2d37f6b5fab8052498a",
        "trusted": true
      },
      "cell_type": "code",
      "source": "import bq_helper\nfrom bq_helper import BigQueryHelper\n# https://www.kaggle.com/sohier/introduction-to-the-bq-helper-package\nchromeUXreport = bq_helper.BigQueryHelper(active_project=\"bigquery-public-data\",\n                                   dataset_name=\"chrome-ux-report.all\")\nchromeUXreportUS = bq_helper.BigQueryHelper(active_project=\"bigquery-public-data\",\n                                   dataset_name=\"chrome-ux-report.country_us\")\nchromeUXreportIN = bq_helper.BigQueryHelper(active_project=\"bigquery-public-data\",\n                                   dataset_name=\"chrome-ux-report.country_in\")",
      "execution_count": 10,
      "outputs": []
    },
    {
      "metadata": {
        "_uuid": "38b4618497868984ab266165b4504ba69d5ae7cc"
      },
      "cell_type": "markdown",
      "source": "Let’s start with a basic query to see if a particular origin is available in the dataset. "
    },
    {
      "metadata": {
        "trusted": true,
        "_uuid": "5151949b51fd78acd3b4f167c0b00510c4c18007"
      },
      "cell_type": "code",
      "source": "query1 = \"\"\"SELECT DISTINCT origin\nFROM `chrome-ux-report.all.201710`\nWHERE origin LIKE '%://example.com';\n        \"\"\"\nresponse1 = chromeUXreport.query_to_pandas_safe(query1)\nresponse1.head(20)",
      "execution_count": 11,
      "outputs": [
        {
          "output_type": "execute_result",
          "execution_count": 11,
          "data": {
            "text/plain": "               origin\n0  http://example.com",
            "text/html": "<div>\n<style scoped>\n    .dataframe tbody tr th:only-of-type {\n        vertical-align: middle;\n    }\n\n    .dataframe tbody tr th {\n        vertical-align: top;\n    }\n\n    .dataframe thead th {\n        text-align: right;\n    }\n</style>\n<table border=\"1\" class=\"dataframe\">\n  <thead>\n    <tr style=\"text-align: right;\">\n      <th></th>\n      <th>origin</th>\n    </tr>\n  </thead>\n  <tbody>\n    <tr>\n      <th>0</th>\n      <td>http://example.com</td>\n    </tr>\n  </tbody>\n</table>\n</div>"
          },
          "metadata": {}
        }
      ]
    },
    {
      "metadata": {
        "_uuid": "c6b3e5c3fc65b0e92c3f00c2da8d583df94cba2e"
      },
      "cell_type": "markdown",
      "source": "Visualize the distribution of the histogram."
    },
    {
      "metadata": {
        "trusted": true,
        "_uuid": "adf119cc41557164f4ad172587534dea681cf79b"
      },
      "cell_type": "code",
      "source": "query2 = \"\"\"SELECT\n    bin.start,\n    SUM(bin.density) AS density\nFROM\n    `chrome-ux-report.all.201710`,\n    UNNEST(first_contentful_paint.histogram.bin) AS bin\nWHERE\n    origin = 'http://example.com'\nGROUP BY\n    bin.start\nORDER BY\n    bin.start;\n        \"\"\"\nresponse2 = chromeUXreport.query_to_pandas_safe(query2)\nresponse2.head(20)",
      "execution_count": 12,
      "outputs": [
        {
          "output_type": "execute_result",
          "execution_count": 12,
          "data": {
            "text/plain": "    start  density\n0       0   0.2085\n1     200   0.2018\n2     400   0.1654\n3     600   0.1062\n4     800   0.0718\n5    1000   0.0483\n6    1200   0.0346\n7    1400   0.0321\n8    1600   0.0251\n9    1800   0.0192\n10   2000   0.0196\n11   2200   0.0115\n12   2400   0.0065\n13   2600   0.0055\n14   2800   0.0057\n15   3000   0.0053\n16   3500   0.0064\n17   4000   0.0041\n18   4500   0.0013\n19   5000   0.0027",
            "text/html": "<div>\n<style scoped>\n    .dataframe tbody tr th:only-of-type {\n        vertical-align: middle;\n    }\n\n    .dataframe tbody tr th {\n        vertical-align: top;\n    }\n\n    .dataframe thead th {\n        text-align: right;\n    }\n</style>\n<table border=\"1\" class=\"dataframe\">\n  <thead>\n    <tr style=\"text-align: right;\">\n      <th></th>\n      <th>start</th>\n      <th>density</th>\n    </tr>\n  </thead>\n  <tbody>\n    <tr>\n      <th>0</th>\n      <td>0</td>\n      <td>0.2085</td>\n    </tr>\n    <tr>\n      <th>1</th>\n      <td>200</td>\n      <td>0.2018</td>\n    </tr>\n    <tr>\n      <th>2</th>\n      <td>400</td>\n      <td>0.1654</td>\n    </tr>\n    <tr>\n      <th>3</th>\n      <td>600</td>\n      <td>0.1062</td>\n    </tr>\n    <tr>\n      <th>4</th>\n      <td>800</td>\n      <td>0.0718</td>\n    </tr>\n    <tr>\n      <th>5</th>\n      <td>1000</td>\n      <td>0.0483</td>\n    </tr>\n    <tr>\n      <th>6</th>\n      <td>1200</td>\n      <td>0.0346</td>\n    </tr>\n    <tr>\n      <th>7</th>\n      <td>1400</td>\n      <td>0.0321</td>\n    </tr>\n    <tr>\n      <th>8</th>\n      <td>1600</td>\n      <td>0.0251</td>\n    </tr>\n    <tr>\n      <th>9</th>\n      <td>1800</td>\n      <td>0.0192</td>\n    </tr>\n    <tr>\n      <th>10</th>\n      <td>2000</td>\n      <td>0.0196</td>\n    </tr>\n    <tr>\n      <th>11</th>\n      <td>2200</td>\n      <td>0.0115</td>\n    </tr>\n    <tr>\n      <th>12</th>\n      <td>2400</td>\n      <td>0.0065</td>\n    </tr>\n    <tr>\n      <th>13</th>\n      <td>2600</td>\n      <td>0.0055</td>\n    </tr>\n    <tr>\n      <th>14</th>\n      <td>2800</td>\n      <td>0.0057</td>\n    </tr>\n    <tr>\n      <th>15</th>\n      <td>3000</td>\n      <td>0.0053</td>\n    </tr>\n    <tr>\n      <th>16</th>\n      <td>3500</td>\n      <td>0.0064</td>\n    </tr>\n    <tr>\n      <th>17</th>\n      <td>4000</td>\n      <td>0.0041</td>\n    </tr>\n    <tr>\n      <th>18</th>\n      <td>4500</td>\n      <td>0.0013</td>\n    </tr>\n    <tr>\n      <th>19</th>\n      <td>5000</td>\n      <td>0.0027</td>\n    </tr>\n  </tbody>\n</table>\n</div>"
          },
          "metadata": {}
        }
      ]
    },
    {
      "metadata": {
        "trusted": true,
        "_uuid": "99c539f52d75a6d3512faaedd9a21bdcf48a286c"
      },
      "cell_type": "code",
      "source": "import numpy as np \nimport pandas as pd \nimport os\nimport plotly.plotly as py\nfrom plotly.offline import init_notebook_mode, iplot\nimport plotly.graph_objs as go\ninit_notebook_mode(connected=True)\n\nresult1 = response2.head(10)\ntrace1 = go.Bar(\n                x = result1.start,\n                y = result1.density,\n                name = \"citations\",\n                marker = dict(color = 'rgba(0, 0, 255, 0.8)',\n                             line=dict(color='rgb(0,0,0)',width=1.5)),\n                text = result1.start)\ndata = [trace1]\nlayout = go.Layout(barmode = \"group\",title='Density Per Bin', xaxis = dict(title='Start (ms)'), yaxis = dict(title='Density'))\nfig = go.Figure(data = data, layout = layout)\niplot(fig)",
      "execution_count": 13,
      "outputs": [
        {
          "output_type": "display_data",
          "data": {
            "text/html": "<script>requirejs.config({paths: { 'plotly': ['https://cdn.plot.ly/plotly-latest.min']},});if(!window.Plotly) {{require(['plotly'],function(plotly) {window.Plotly=plotly;});}}</script>",
            "text/vnd.plotly.v1+html": "<script>requirejs.config({paths: { 'plotly': ['https://cdn.plot.ly/plotly-latest.min']},});if(!window.Plotly) {{require(['plotly'],function(plotly) {window.Plotly=plotly;});}}</script>"
          },
          "metadata": {}
        },
        {
          "output_type": "display_data",
          "data": {
            "application/vnd.plotly.v1+json": {
              "data": [
                {
                  "marker": {
                    "color": "rgba(0, 0, 255, 0.8)",
                    "line": {
                      "color": "rgb(0,0,0)",
                      "width": 1.5
                    }
                  },
                  "name": "citations",
                  "text": [
                    "0",
                    "200",
                    "400",
                    "600",
                    "800",
                    "1000",
                    "1200",
                    "1400",
                    "1600",
                    "1800"
                  ],
                  "x": [
                    0,
                    200,
                    400,
                    600,
                    800,
                    1000,
                    1200,
                    1400,
                    1600,
                    1800
                  ],
                  "y": [
                    0.2085,
                    0.20179999999999998,
                    0.1654,
                    0.1062,
                    0.0718,
                    0.0483,
                    0.03459999999999999,
                    0.032100000000000004,
                    0.025099999999999997,
                    0.019200000000000002
                  ],
                  "type": "bar",
                  "uid": "0f471538-863c-11e8-b906-0242ac130005"
                }
              ],
              "layout": {
                "barmode": "group",
                "title": "Density Per Bin",
                "xaxis": {
                  "title": "Start (ms)"
                },
                "yaxis": {
                  "title": "Density"
                }
              }
            },
            "text/html": "<div id=\"8271206c-aea0-4770-b7ab-e768655c1ca4\" style=\"height: 525px; width: 100%;\" class=\"plotly-graph-div\"></div><script type=\"text/javascript\">require([\"plotly\"], function(Plotly) { window.PLOTLYENV=window.PLOTLYENV || {};window.PLOTLYENV.BASE_URL=\"https://plot.ly\";\n        Plotly.plot(\n            '8271206c-aea0-4770-b7ab-e768655c1ca4',\n            [{\"marker\": {\"color\": \"rgba(0, 0, 255, 0.8)\", \"line\": {\"color\": \"rgb(0,0,0)\", \"width\": 1.5}}, \"name\": \"citations\", \"text\": [\"0\", \"200\", \"400\", \"600\", \"800\", \"1000\", \"1200\", \"1400\", \"1600\", \"1800\"], \"x\": [0.0, 200.0, 400.0, 600.0, 800.0, 1000.0, 1200.0, 1400.0, 1600.0, 1800.0], \"y\": [0.2085, 0.20179999999999998, 0.1654, 0.1062, 0.0718, 0.0483, 0.03459999999999999, 0.032100000000000004, 0.025099999999999997, 0.019200000000000002], \"type\": \"bar\", \"uid\": \"0f471538-863c-11e8-b906-0242ac130005\"}],\n            {\"barmode\": \"group\", \"title\": \"Density Per Bin\", \"xaxis\": {\"title\": \"Start (ms)\"}, \"yaxis\": {\"title\": \"Density\"}},\n            {\"showLink\": true, \"linkText\": \"Export to plot.ly\"}\n        ).then(function () {return Plotly.addFrames('8271206c-aea0-4770-b7ab-e768655c1ca4',{});}).then(function(){Plotly.animate('8271206c-aea0-4770-b7ab-e768655c1ca4');})\n        });</script>",
            "text/vnd.plotly.v1+html": "<div id=\"8271206c-aea0-4770-b7ab-e768655c1ca4\" style=\"height: 525px; width: 100%;\" class=\"plotly-graph-div\"></div><script type=\"text/javascript\">require([\"plotly\"], function(Plotly) { window.PLOTLYENV=window.PLOTLYENV || {};window.PLOTLYENV.BASE_URL=\"https://plot.ly\";\n        Plotly.plot(\n            '8271206c-aea0-4770-b7ab-e768655c1ca4',\n            [{\"marker\": {\"color\": \"rgba(0, 0, 255, 0.8)\", \"line\": {\"color\": \"rgb(0,0,0)\", \"width\": 1.5}}, \"name\": \"citations\", \"text\": [\"0\", \"200\", \"400\", \"600\", \"800\", \"1000\", \"1200\", \"1400\", \"1600\", \"1800\"], \"x\": [0.0, 200.0, 400.0, 600.0, 800.0, 1000.0, 1200.0, 1400.0, 1600.0, 1800.0], \"y\": [0.2085, 0.20179999999999998, 0.1654, 0.1062, 0.0718, 0.0483, 0.03459999999999999, 0.032100000000000004, 0.025099999999999997, 0.019200000000000002], \"type\": \"bar\", \"uid\": \"0f471538-863c-11e8-b906-0242ac130005\"}],\n            {\"barmode\": \"group\", \"title\": \"Density Per Bin\", \"xaxis\": {\"title\": \"Start (ms)\"}, \"yaxis\": {\"title\": \"Density\"}},\n            {\"showLink\": true, \"linkText\": \"Export to plot.ly\"}\n        ).then(function () {return Plotly.addFrames('8271206c-aea0-4770-b7ab-e768655c1ca4',{});}).then(function(){Plotly.animate('8271206c-aea0-4770-b7ab-e768655c1ca4');})\n        });</script>"
          },
          "metadata": {}
        }
      ]
    },
    {
      "metadata": {
        "_uuid": "cdf679dcddc8e777a267d6d1af91962c595fce0b"
      },
      "cell_type": "markdown",
      "source": "Compute the density sum for bins less than 1000ms."
    },
    {
      "metadata": {
        "trusted": true,
        "_uuid": "5df879164e72c893960bff64f4ecf943d81815ca"
      },
      "cell_type": "code",
      "source": "query3 = \"\"\"SELECT\n    SUM(bin.density) AS density\nFROM\n    `chrome-ux-report.all.201710`,\n    UNNEST(first_contentful_paint.histogram.bin) AS bin\nWHERE\n    bin.start < 1000 AND\n    origin = 'http://example.com';\n        \"\"\"\nresponse3 = chromeUXreport.query_to_pandas_safe(query3)\nresponse3.head(20)",
      "execution_count": 14,
      "outputs": [
        {
          "output_type": "execute_result",
          "execution_count": 14,
          "data": {
            "text/plain": "   density\n0   0.7537",
            "text/html": "<div>\n<style scoped>\n    .dataframe tbody tr th:only-of-type {\n        vertical-align: middle;\n    }\n\n    .dataframe tbody tr th {\n        vertical-align: top;\n    }\n\n    .dataframe thead th {\n        text-align: right;\n    }\n</style>\n<table border=\"1\" class=\"dataframe\">\n  <thead>\n    <tr style=\"text-align: right;\">\n      <th></th>\n      <th>density</th>\n    </tr>\n  </thead>\n  <tbody>\n    <tr>\n      <th>0</th>\n      <td>0.7537</td>\n    </tr>\n  </tbody>\n</table>\n</div>"
          },
          "metadata": {}
        }
      ]
    },
    {
      "metadata": {
        "_uuid": "fb4c4bcf9fb5cd9d0e914a6cd2ffd132aa12370b"
      },
      "cell_type": "markdown",
      "source": "The result is 0.7537, which indicates that ~75.4% of page loads experience the FCP in under a second."
    },
    {
      "metadata": {
        "_uuid": "bd0981fc0d23aa7bf57caab01278a85e44f9deb7"
      },
      "cell_type": "markdown",
      "source": "Calculate how the above experience varies for users with different connection speeds."
    },
    {
      "metadata": {
        "trusted": true,
        "_uuid": "78793f3e2ca87e6e2f118cb2b3e3e82e7515d8bc"
      },
      "cell_type": "code",
      "source": "query4 = \"\"\"#standardSQL\nSELECT\n    effective_connection_type.name AS ect,\n    SUM(bin.density) AS density\nFROM\n    `chrome-ux-report.all.201710`,\n    UNNEST(first_contentful_paint.histogram.bin) AS bin\nWHERE\n    bin.end <= 1000 AND\n    origin = 'http://example.com'\nGROUP BY\n    ect\nORDER BY\n    density DESC;\n        \"\"\"\nresponse4 = chromeUXreport.query_to_pandas_safe(query4)\nresponse4.head(20)",
      "execution_count": 15,
      "outputs": [
        {
          "output_type": "execute_result",
          "execution_count": 15,
          "data": {
            "text/plain": "  ect  density\n0  4G   0.6977\n1  3G   0.0560",
            "text/html": "<div>\n<style scoped>\n    .dataframe tbody tr th:only-of-type {\n        vertical-align: middle;\n    }\n\n    .dataframe tbody tr th {\n        vertical-align: top;\n    }\n\n    .dataframe thead th {\n        text-align: right;\n    }\n</style>\n<table border=\"1\" class=\"dataframe\">\n  <thead>\n    <tr style=\"text-align: right;\">\n      <th></th>\n      <th>ect</th>\n      <th>density</th>\n    </tr>\n  </thead>\n  <tbody>\n    <tr>\n      <th>0</th>\n      <td>4G</td>\n      <td>0.6977</td>\n    </tr>\n    <tr>\n      <th>1</th>\n      <td>3G</td>\n      <td>0.0560</td>\n    </tr>\n  </tbody>\n</table>\n</div>"
          },
          "metadata": {}
        }
      ]
    },
    {
      "metadata": {
        "_uuid": "079eaac4ab737fa5a426e0dfe0b0b3d1fe983f1e"
      },
      "cell_type": "markdown",
      "source": "Slice the results above even further by making use of the per-country datasets"
    },
    {
      "metadata": {
        "trusted": true,
        "_uuid": "e1d79358ca8e4758b31b5f26dca5955cdb56ef7a"
      },
      "cell_type": "code",
      "source": "query5 = \"\"\"WITH\n    countries AS (\n      SELECT *, 'All' AS country FROM `chrome-ux-report.all.201712`)\n\nSELECT\n    country,\n    effective_connection_type.name AS ect,\n    SUM(bin.density) AS density\nFROM\n    countries,\n    UNNEST(first_contentful_paint.histogram.bin) AS bin\nWHERE\n    bin.end <= 1000 AND\n    origin = 'http://example.com'\nGROUP BY\n    country,\n    ect\nORDER BY\n    density DESC;\n        \"\"\"\nresponse5 = chromeUXreport.query_to_pandas_safe(query5, max_gb_scanned=10)\nresponse5.head(20)",
      "execution_count": 16,
      "outputs": [
        {
          "output_type": "execute_result",
          "execution_count": 16,
          "data": {
            "text/plain": "  country ect  density\n0     All  4G   0.5349\n1     All  3G   0.0939",
            "text/html": "<div>\n<style scoped>\n    .dataframe tbody tr th:only-of-type {\n        vertical-align: middle;\n    }\n\n    .dataframe tbody tr th {\n        vertical-align: top;\n    }\n\n    .dataframe thead th {\n        text-align: right;\n    }\n</style>\n<table border=\"1\" class=\"dataframe\">\n  <thead>\n    <tr style=\"text-align: right;\">\n      <th></th>\n      <th>country</th>\n      <th>ect</th>\n      <th>density</th>\n    </tr>\n  </thead>\n  <tbody>\n    <tr>\n      <th>0</th>\n      <td>All</td>\n      <td>4G</td>\n      <td>0.5349</td>\n    </tr>\n    <tr>\n      <th>1</th>\n      <td>All</td>\n      <td>3G</td>\n      <td>0.0939</td>\n    </tr>\n  </tbody>\n</table>\n</div>"
          },
          "metadata": {}
        }
      ]
    },
    {
      "metadata": {
        "_uuid": "dfd9d303e47194d27350f3850f56a7aab1096c98"
      },
      "cell_type": "markdown",
      "source": "USA Only"
    },
    {
      "metadata": {
        "trusted": true,
        "_uuid": "6402260526203acf3cd74843ff19d2bb9163edb8"
      },
      "cell_type": "code",
      "source": "query6 = \"\"\"WITH\n    countries AS (\n      SELECT *, 'USA' AS country FROM `chrome-ux-report.country_us.201712`)\n\nSELECT\n    country,\n    effective_connection_type.name AS ect,\n    SUM(bin.density) AS density\nFROM\n    countries,\n    UNNEST(first_contentful_paint.histogram.bin) AS bin\nWHERE\n    bin.end <= 1000 AND\n    origin = 'http://example.com'\nGROUP BY\n    country,\n    ect\nORDER BY\n    density DESC;\n        \"\"\"\nresponse6 = chromeUXreportUS.query_to_pandas_safe(query6, max_gb_scanned=10)\nresponse6.head(20)",
      "execution_count": 17,
      "outputs": [
        {
          "output_type": "execute_result",
          "execution_count": 17,
          "data": {
            "text/plain": "  country ect  density\n0     USA  4G   0.7656\n1     USA  3G   0.0586",
            "text/html": "<div>\n<style scoped>\n    .dataframe tbody tr th:only-of-type {\n        vertical-align: middle;\n    }\n\n    .dataframe tbody tr th {\n        vertical-align: top;\n    }\n\n    .dataframe thead th {\n        text-align: right;\n    }\n</style>\n<table border=\"1\" class=\"dataframe\">\n  <thead>\n    <tr style=\"text-align: right;\">\n      <th></th>\n      <th>country</th>\n      <th>ect</th>\n      <th>density</th>\n    </tr>\n  </thead>\n  <tbody>\n    <tr>\n      <th>0</th>\n      <td>USA</td>\n      <td>4G</td>\n      <td>0.7656</td>\n    </tr>\n    <tr>\n      <th>1</th>\n      <td>USA</td>\n      <td>3G</td>\n      <td>0.0586</td>\n    </tr>\n  </tbody>\n</table>\n</div>"
          },
          "metadata": {}
        }
      ]
    },
    {
      "metadata": {
        "_uuid": "613b8b6f1bd65368e3dfc224b63f509544221fb4"
      },
      "cell_type": "markdown",
      "source": "India Only"
    },
    {
      "metadata": {
        "trusted": true,
        "_uuid": "c9aac353a7ee821499415278eb4e34ab3d27b41d"
      },
      "cell_type": "code",
      "source": "query7 = \"\"\"WITH\n    countries AS (\n      SELECT *, 'India' AS country FROM `chrome-ux-report.country_in.201712`)\n\nSELECT\n    country,\n    effective_connection_type.name AS ect,\n    SUM(bin.density) AS density\nFROM\n    countries,\n    UNNEST(first_contentful_paint.histogram.bin) AS bin\nWHERE\n    bin.end <= 1000 AND\n    origin = 'http://example.com'\nGROUP BY\n    country,\n    ect\nORDER BY\n    density DESC;\n        \"\"\"\nresponse7 = chromeUXreportIN.query_to_pandas_safe(query7, max_gb_scanned=10)\nresponse7.head(20)",
      "execution_count": 18,
      "outputs": [
        {
          "output_type": "execute_result",
          "execution_count": 18,
          "data": {
            "text/plain": "  country ect  density\n0   India  4G   0.2320\n1   India  3G   0.1076",
            "text/html": "<div>\n<style scoped>\n    .dataframe tbody tr th:only-of-type {\n        vertical-align: middle;\n    }\n\n    .dataframe tbody tr th {\n        vertical-align: top;\n    }\n\n    .dataframe thead th {\n        text-align: right;\n    }\n</style>\n<table border=\"1\" class=\"dataframe\">\n  <thead>\n    <tr style=\"text-align: right;\">\n      <th></th>\n      <th>country</th>\n      <th>ect</th>\n      <th>density</th>\n    </tr>\n  </thead>\n  <tbody>\n    <tr>\n      <th>0</th>\n      <td>India</td>\n      <td>4G</td>\n      <td>0.2320</td>\n    </tr>\n    <tr>\n      <th>1</th>\n      <td>India</td>\n      <td>3G</td>\n      <td>0.1076</td>\n    </tr>\n  </tbody>\n</table>\n</div>"
          },
          "metadata": {}
        }
      ]
    },
    {
      "metadata": {
        "_uuid": "849a6aafe64895fa126f0539bb56dd10dc662ebc"
      },
      "cell_type": "markdown",
      "source": "Credit: These functions are adaptations from the following [tutorial](https://developers.google.com/web/tools/chrome-user-experience-report/getting-started)."
    },
    {
      "metadata": {
        "_uuid": "184cec54e9ae8beab564e6a4ed5a5dd969fb004a"
      },
      "cell_type": "markdown",
      "source": ""
    }
  ],
  "metadata": {
    "kernelspec": {
      "display_name": "Python 3",
      "language": "python",
      "name": "python3"
    },
    "language_info": {
      "name": "python",
      "version": "3.6.6",
      "mimetype": "text/x-python",
      "codemirror_mode": {
        "name": "ipython",
        "version": 3
      },
      "pygments_lexer": "ipython3",
      "nbconvert_exporter": "python",
      "file_extension": ".py"
    }
  },
  "nbformat": 4,
  "nbformat_minor": 1
}