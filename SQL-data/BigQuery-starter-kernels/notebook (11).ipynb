{
  "cells": [
    {
      "metadata": {
        "_uuid": "de5c8ef6d5d0ee22ec7e55b629d1c1f08d2b8efd",
        "_cell_guid": "307eb20a-56a5-43b9-832b-a76b338ad5e3"
      },
      "cell_type": "markdown",
      "source": "**How to Query the World Bank: Education Data (BigQuery Dataset)**"
    },
    {
      "metadata": {
        "_uuid": "8f2839f25d086af736a60e9eeb907d3b93b6e0e5",
        "collapsed": true,
        "_cell_guid": "b1076dfc-b9ad-4769-8c92-a6c4dae69d19",
        "trusted": true
      },
      "cell_type": "code",
      "source": "import bq_helper\nfrom bq_helper import BigQueryHelper\n# https://www.kaggle.com/sohier/introduction-to-the-bq-helper-package\nwbed = bq_helper.BigQueryHelper(active_project=\"bigquery-public-data\",\n                                   dataset_name=\"world_bank_intl_education\")",
      "execution_count": 1,
      "outputs": []
    },
    {
      "metadata": {
        "_uuid": "a3415035b50ece1df93c6573539798b929a597f5",
        "_cell_guid": "b0442c95-01fa-4688-9a30-718347933e0f",
        "trusted": true
      },
      "cell_type": "code",
      "source": "bq_assistant = BigQueryHelper(\"bigquery-public-data\", \"world_bank_intl_education\")\nbq_assistant.list_tables()",
      "execution_count": 2,
      "outputs": [
        {
          "output_type": "execute_result",
          "execution_count": 2,
          "data": {
            "text/plain": "['country_series_definitions',\n 'country_summary',\n 'international_education',\n 'series_summary']"
          },
          "metadata": {}
        }
      ]
    },
    {
      "metadata": {
        "_cell_guid": "a2805b6e-5e32-484c-b1c7-a7e3d364ef35",
        "_uuid": "f6d79a4aae694e0bc61d4dbc4724005d913b9248",
        "scrolled": true,
        "trusted": true
      },
      "cell_type": "code",
      "source": "bq_assistant.head(\"international_education\", num_rows=30)",
      "execution_count": 3,
      "outputs": [
        {
          "output_type": "execute_result",
          "execution_count": 3,
          "data": {
            "text/plain": "                  country_name country_code  \\\n0                     Barbados          BRB   \n1                      Comoros          COM   \n2                      Grenada          GRD   \n3               Cayman Islands          CYM   \n4                        China          CHN   \n5     Northern Mariana Islands          MNP   \n6                   Madagascar          MDG   \n7                 Turkmenistan          TKM   \n8                       Bhutan          BTN   \n9                    Singapore          SGP   \n10                    Botswana          BWA   \n11                  Mauritania          MRT   \n12                    Maldives          MDV   \n13                       Gabon          GAB   \n14                 Puerto Rico          PRI   \n15                        Chad          TCD   \n16          West Bank and Gaza          PSE   \n17                      Serbia          SRB   \n18               North America          NAC   \n19                      Bhutan          BTN   \n20                  Cabo Verde          CPV   \n21                 Yemen, Rep.          YEM   \n22                       Kenya          KEN   \n23                     Nigeria          NGA   \n24                     Myanmar          MMR   \n25       Micronesia, Fed. Sts.          FSM   \n26       Sao Tome and Principe          STP   \n27                    Botswana          BWA   \n28                    Pakistan          PAK   \n29  Middle East & North Africa          MEA   \n\n                                       indicator_name     indicator_code  \\\n0   Official entrance age to primary education (ye...        SE.PRM.AGES   \n1                 Population, ages 15-64 (% of total)  SP.POP.1564.TO.ZS   \n2   Population of the official entrance age to pri...     UIS.SAP.1.G1.M   \n3   Theoretical duration of secondary education (y...        SE.SEC.DURS   \n4   Theoretical duration of pre-primary education ...        UIS.THDUR.0   \n5                  GDP at market prices (current US$)     NY.GDP.MKTP.CD   \n6   Population of the official age for secondary e...     SP.SEC.TOTL.IN   \n7       GNI per capita, PPP (current international $)  NY.GNP.PCAP.PP.CD   \n8   Pupil-teacher ratio in primary education (head...  SE.PRM.ENRL.TC.ZS   \n9       GDP per capita, PPP (current international $)  NY.GDP.PCAP.PP.CD   \n10       Unemployment, total (% of total labor force)     SL.UEM.TOTL.ZS   \n11  Theoretical duration of lower secondary educat...     SE.SEC.DURS.LO   \n12     Gross enrolment ratio, pre-primary, female (%)     SE.PRE.ENRR.FE   \n13      GNI per capita, PPP (current international $)  NY.GNP.PCAP.PP.CD   \n14  Official entrance age to compulsory education ...        UIS.CEAGE.1   \n15  Population of the official age for pre-primary...  SP.PRE.TOTL.FE.IN   \n16  Population of the official entrance age to pri...     UIS.SAP.1.G1.F   \n17    Literacy rate, population 25-64 years, male (%)   UIS.LR.AG25T64.M   \n18                       GDP per capita (current US$)     NY.GDP.PCAP.CD   \n19  Population of the official age for upper secon...  SP.SEC.UTOT.MA.IN   \n20                Mortality rate, under-5 (per 1,000)        SH.DYN.MORT   \n21                Population, ages 15-64 (% of total)  SP.POP.1564.TO.ZS   \n22         GNI per capita, Atlas method (current US$)     NY.GNP.PCAP.CD   \n23  Population of the official age for upper secon...     SP.SEC.UTOT.IN   \n24  Elderly illiterate population, 65+ years, fema...      UIS.LP.AG65.F   \n25  Population of the official age for primary edu...     SP.PRM.TOTL.IN   \n26  Theoretical duration of primary education (years)        SE.PRM.DURS   \n27                                 Population, female  SP.POP.TOTL.FE.IN   \n28  Population of the official age for post-second...        UIS.SAP.4.M   \n29                Mortality rate, under-5 (per 1,000)        SH.DYN.MORT   \n\n    year         value  \n0   2016  5.000000e+00  \n1   2016  5.709872e+01  \n2   2016  1.001000e+03  \n3   2016  6.000000e+00  \n4   2016  3.000000e+00  \n5   2016  1.242000e+09  \n6   2016  4.052674e+06  \n7   2016  1.609000e+04  \n8   2016  3.803778e+01  \n9   2016  8.800310e+04  \n10  2016  1.770000e+01  \n11  2016  4.000000e+00  \n12  2016  1.016954e+02  \n13  2016  1.675000e+04  \n14  2016  5.000000e+00  \n15  2016  7.254420e+05  \n16  2016  6.208700e+04  \n17  2016  9.951265e+01  \n18  2016  5.608194e+04  \n19  2016  1.486300e+04  \n20  2016  2.140000e+01  \n21  2016  5.685043e+01  \n22  2016  1.380000e+03  \n23  2016  1.170580e+07  \n24  2016  8.691090e+05  \n25  2016  1.416200e+04  \n26  2016  6.000000e+00  \n27  2016  1.138206e+06  \n28  2016  6.027107e+06  \n29  2016  2.408686e+01  ",
            "text/html": "<div>\n<style scoped>\n    .dataframe tbody tr th:only-of-type {\n        vertical-align: middle;\n    }\n\n    .dataframe tbody tr th {\n        vertical-align: top;\n    }\n\n    .dataframe thead th {\n        text-align: right;\n    }\n</style>\n<table border=\"1\" class=\"dataframe\">\n  <thead>\n    <tr style=\"text-align: right;\">\n      <th></th>\n      <th>country_name</th>\n      <th>country_code</th>\n      <th>indicator_name</th>\n      <th>indicator_code</th>\n      <th>year</th>\n      <th>value</th>\n    </tr>\n  </thead>\n  <tbody>\n    <tr>\n      <th>0</th>\n      <td>Barbados</td>\n      <td>BRB</td>\n      <td>Official entrance age to primary education (ye...</td>\n      <td>SE.PRM.AGES</td>\n      <td>2016</td>\n      <td>5.000000e+00</td>\n    </tr>\n    <tr>\n      <th>1</th>\n      <td>Comoros</td>\n      <td>COM</td>\n      <td>Population, ages 15-64 (% of total)</td>\n      <td>SP.POP.1564.TO.ZS</td>\n      <td>2016</td>\n      <td>5.709872e+01</td>\n    </tr>\n    <tr>\n      <th>2</th>\n      <td>Grenada</td>\n      <td>GRD</td>\n      <td>Population of the official entrance age to pri...</td>\n      <td>UIS.SAP.1.G1.M</td>\n      <td>2016</td>\n      <td>1.001000e+03</td>\n    </tr>\n    <tr>\n      <th>3</th>\n      <td>Cayman Islands</td>\n      <td>CYM</td>\n      <td>Theoretical duration of secondary education (y...</td>\n      <td>SE.SEC.DURS</td>\n      <td>2016</td>\n      <td>6.000000e+00</td>\n    </tr>\n    <tr>\n      <th>4</th>\n      <td>China</td>\n      <td>CHN</td>\n      <td>Theoretical duration of pre-primary education ...</td>\n      <td>UIS.THDUR.0</td>\n      <td>2016</td>\n      <td>3.000000e+00</td>\n    </tr>\n    <tr>\n      <th>5</th>\n      <td>Northern Mariana Islands</td>\n      <td>MNP</td>\n      <td>GDP at market prices (current US$)</td>\n      <td>NY.GDP.MKTP.CD</td>\n      <td>2016</td>\n      <td>1.242000e+09</td>\n    </tr>\n    <tr>\n      <th>6</th>\n      <td>Madagascar</td>\n      <td>MDG</td>\n      <td>Population of the official age for secondary e...</td>\n      <td>SP.SEC.TOTL.IN</td>\n      <td>2016</td>\n      <td>4.052674e+06</td>\n    </tr>\n    <tr>\n      <th>7</th>\n      <td>Turkmenistan</td>\n      <td>TKM</td>\n      <td>GNI per capita, PPP (current international $)</td>\n      <td>NY.GNP.PCAP.PP.CD</td>\n      <td>2016</td>\n      <td>1.609000e+04</td>\n    </tr>\n    <tr>\n      <th>8</th>\n      <td>Bhutan</td>\n      <td>BTN</td>\n      <td>Pupil-teacher ratio in primary education (head...</td>\n      <td>SE.PRM.ENRL.TC.ZS</td>\n      <td>2016</td>\n      <td>3.803778e+01</td>\n    </tr>\n    <tr>\n      <th>9</th>\n      <td>Singapore</td>\n      <td>SGP</td>\n      <td>GDP per capita, PPP (current international $)</td>\n      <td>NY.GDP.PCAP.PP.CD</td>\n      <td>2016</td>\n      <td>8.800310e+04</td>\n    </tr>\n    <tr>\n      <th>10</th>\n      <td>Botswana</td>\n      <td>BWA</td>\n      <td>Unemployment, total (% of total labor force)</td>\n      <td>SL.UEM.TOTL.ZS</td>\n      <td>2016</td>\n      <td>1.770000e+01</td>\n    </tr>\n    <tr>\n      <th>11</th>\n      <td>Mauritania</td>\n      <td>MRT</td>\n      <td>Theoretical duration of lower secondary educat...</td>\n      <td>SE.SEC.DURS.LO</td>\n      <td>2016</td>\n      <td>4.000000e+00</td>\n    </tr>\n    <tr>\n      <th>12</th>\n      <td>Maldives</td>\n      <td>MDV</td>\n      <td>Gross enrolment ratio, pre-primary, female (%)</td>\n      <td>SE.PRE.ENRR.FE</td>\n      <td>2016</td>\n      <td>1.016954e+02</td>\n    </tr>\n    <tr>\n      <th>13</th>\n      <td>Gabon</td>\n      <td>GAB</td>\n      <td>GNI per capita, PPP (current international $)</td>\n      <td>NY.GNP.PCAP.PP.CD</td>\n      <td>2016</td>\n      <td>1.675000e+04</td>\n    </tr>\n    <tr>\n      <th>14</th>\n      <td>Puerto Rico</td>\n      <td>PRI</td>\n      <td>Official entrance age to compulsory education ...</td>\n      <td>UIS.CEAGE.1</td>\n      <td>2016</td>\n      <td>5.000000e+00</td>\n    </tr>\n    <tr>\n      <th>15</th>\n      <td>Chad</td>\n      <td>TCD</td>\n      <td>Population of the official age for pre-primary...</td>\n      <td>SP.PRE.TOTL.FE.IN</td>\n      <td>2016</td>\n      <td>7.254420e+05</td>\n    </tr>\n    <tr>\n      <th>16</th>\n      <td>West Bank and Gaza</td>\n      <td>PSE</td>\n      <td>Population of the official entrance age to pri...</td>\n      <td>UIS.SAP.1.G1.F</td>\n      <td>2016</td>\n      <td>6.208700e+04</td>\n    </tr>\n    <tr>\n      <th>17</th>\n      <td>Serbia</td>\n      <td>SRB</td>\n      <td>Literacy rate, population 25-64 years, male (%)</td>\n      <td>UIS.LR.AG25T64.M</td>\n      <td>2016</td>\n      <td>9.951265e+01</td>\n    </tr>\n    <tr>\n      <th>18</th>\n      <td>North America</td>\n      <td>NAC</td>\n      <td>GDP per capita (current US$)</td>\n      <td>NY.GDP.PCAP.CD</td>\n      <td>2016</td>\n      <td>5.608194e+04</td>\n    </tr>\n    <tr>\n      <th>19</th>\n      <td>Bhutan</td>\n      <td>BTN</td>\n      <td>Population of the official age for upper secon...</td>\n      <td>SP.SEC.UTOT.MA.IN</td>\n      <td>2016</td>\n      <td>1.486300e+04</td>\n    </tr>\n    <tr>\n      <th>20</th>\n      <td>Cabo Verde</td>\n      <td>CPV</td>\n      <td>Mortality rate, under-5 (per 1,000)</td>\n      <td>SH.DYN.MORT</td>\n      <td>2016</td>\n      <td>2.140000e+01</td>\n    </tr>\n    <tr>\n      <th>21</th>\n      <td>Yemen, Rep.</td>\n      <td>YEM</td>\n      <td>Population, ages 15-64 (% of total)</td>\n      <td>SP.POP.1564.TO.ZS</td>\n      <td>2016</td>\n      <td>5.685043e+01</td>\n    </tr>\n    <tr>\n      <th>22</th>\n      <td>Kenya</td>\n      <td>KEN</td>\n      <td>GNI per capita, Atlas method (current US$)</td>\n      <td>NY.GNP.PCAP.CD</td>\n      <td>2016</td>\n      <td>1.380000e+03</td>\n    </tr>\n    <tr>\n      <th>23</th>\n      <td>Nigeria</td>\n      <td>NGA</td>\n      <td>Population of the official age for upper secon...</td>\n      <td>SP.SEC.UTOT.IN</td>\n      <td>2016</td>\n      <td>1.170580e+07</td>\n    </tr>\n    <tr>\n      <th>24</th>\n      <td>Myanmar</td>\n      <td>MMR</td>\n      <td>Elderly illiterate population, 65+ years, fema...</td>\n      <td>UIS.LP.AG65.F</td>\n      <td>2016</td>\n      <td>8.691090e+05</td>\n    </tr>\n    <tr>\n      <th>25</th>\n      <td>Micronesia, Fed. Sts.</td>\n      <td>FSM</td>\n      <td>Population of the official age for primary edu...</td>\n      <td>SP.PRM.TOTL.IN</td>\n      <td>2016</td>\n      <td>1.416200e+04</td>\n    </tr>\n    <tr>\n      <th>26</th>\n      <td>Sao Tome and Principe</td>\n      <td>STP</td>\n      <td>Theoretical duration of primary education (years)</td>\n      <td>SE.PRM.DURS</td>\n      <td>2016</td>\n      <td>6.000000e+00</td>\n    </tr>\n    <tr>\n      <th>27</th>\n      <td>Botswana</td>\n      <td>BWA</td>\n      <td>Population, female</td>\n      <td>SP.POP.TOTL.FE.IN</td>\n      <td>2016</td>\n      <td>1.138206e+06</td>\n    </tr>\n    <tr>\n      <th>28</th>\n      <td>Pakistan</td>\n      <td>PAK</td>\n      <td>Population of the official age for post-second...</td>\n      <td>UIS.SAP.4.M</td>\n      <td>2016</td>\n      <td>6.027107e+06</td>\n    </tr>\n    <tr>\n      <th>29</th>\n      <td>Middle East &amp; North Africa</td>\n      <td>MEA</td>\n      <td>Mortality rate, under-5 (per 1,000)</td>\n      <td>SH.DYN.MORT</td>\n      <td>2016</td>\n      <td>2.408686e+01</td>\n    </tr>\n  </tbody>\n</table>\n</div>"
          },
          "metadata": {}
        }
      ]
    },
    {
      "metadata": {
        "_uuid": "bbb18e3c781e1ce11b83342cc42b46b4eb4f1a81",
        "_cell_guid": "87e3e8b9-e8c4-48fd-99d3-a77034d474bf",
        "trusted": true
      },
      "cell_type": "code",
      "source": "bq_assistant.table_schema(\"international_education\")",
      "execution_count": 4,
      "outputs": [
        {
          "output_type": "execute_result",
          "execution_count": 4,
          "data": {
            "text/plain": "[SchemaField('country_name', 'STRING', 'NULLABLE', '', ()),\n SchemaField('country_code', 'STRING', 'NULLABLE', '', ()),\n SchemaField('indicator_name', 'STRING', 'NULLABLE', '', ()),\n SchemaField('indicator_code', 'STRING', 'NULLABLE', '', ()),\n SchemaField('year', 'INTEGER', 'NULLABLE', '', ()),\n SchemaField('value', 'FLOAT', 'NULLABLE', '', ())]"
          },
          "metadata": {}
        }
      ]
    },
    {
      "metadata": {
        "_uuid": "8eeda9ae334f9bc0dc313635abee9c9c0d582f6c",
        "_cell_guid": "ec2e26b9-885e-4f12-8d20-2f8c494d6f3e"
      },
      "cell_type": "markdown",
      "source": "Of total government spending, what percentage is spent on education?\n"
    },
    {
      "metadata": {
        "_uuid": "f498dd0e54911bf273ae4a76fd6a2bdaebf96f15",
        "_cell_guid": "ab7c4d65-3cc2-4192-992c-b030c33b2010",
        "trusted": true
      },
      "cell_type": "code",
      "source": "query1 = \"\"\"\nSELECT\n  country_name,\n  AVG(value) AS average\nFROM\n  `bigquery-public-data.world_bank_intl_education.international_education`\nWHERE\n  indicator_code = \"SE.XPD.TOTL.GB.ZS\"\n  AND year > 2000\nGROUP BY\n  country_name\nORDER BY\n  average DESC\n;\n        \"\"\"\nresponse1 = wbed.query_to_pandas_safe(query1)\nresponse1.head(50)",
      "execution_count": 5,
      "outputs": [
        {
          "output_type": "execute_result",
          "execution_count": 5,
          "data": {
            "text/plain": "                      country_name    average\n0                          Vanuatu  29.330663\n1                          Lesotho  27.614941\n2                          Tunisia  25.615756\n3                         Ethiopia  24.280294\n4                         Botswana  24.269573\n5                         Zimbabwe  24.147020\n6                            Ghana  23.838494\n7                          Namibia  22.968228\n8   St. Vincent and the Grenadines  22.605225\n9                         Djibouti  22.524957\n10                           Kenya  22.053427\n11                   Cote d'Ivoire  21.878652\n12                      Costa Rica  21.683806\n13                     Puerto Rico  21.582741\n14            Hong Kong SAR, China  21.441356\n15                     Yemen, Rep.  21.405260\n16                       Guatemala  21.366231\n17                       Swaziland  20.952642\n18                    Turkmenistan  20.795509\n19              Iran, Islamic Rep.  20.675766\n20           Micronesia, Fed. Sts.  20.668320\n21                    Saudi Arabia  20.569674\n22                            Togo  20.525761\n23                         Senegal  20.324385\n24                           Aruba  20.187407\n25                           Nepal  20.055056\n26                          Mexico  20.001342\n27                          Belize  19.955944\n28                        Malaysia  19.955416\n29                        Thailand  19.944122\n30                        Paraguay  19.865749\n31                      Mozambique  19.613976\n32                       Singapore  19.590122\n33                         Bolivia  19.575361\n34                         Moldova  19.369909\n35                         Comoros  19.319276\n36                    South Africa  19.299002\n37                           Benin  19.233054\n38                        Honduras  19.230511\n39                 Solomon Islands  18.818918\n40                Marshall Islands  18.661476\n41            Syrian Arab Republic  18.461022\n42                        Cameroon  18.272735\n43                        Tanzania  18.152010\n44                            Fiji  18.104701\n45                    Burkina Faso  18.064666\n46                           Tonga  17.939858\n47                           Niger  17.930121\n48                           Chile  17.787135\n49                     New Zealand  17.778227",
            "text/html": "<div>\n<style scoped>\n    .dataframe tbody tr th:only-of-type {\n        vertical-align: middle;\n    }\n\n    .dataframe tbody tr th {\n        vertical-align: top;\n    }\n\n    .dataframe thead th {\n        text-align: right;\n    }\n</style>\n<table border=\"1\" class=\"dataframe\">\n  <thead>\n    <tr style=\"text-align: right;\">\n      <th></th>\n      <th>country_name</th>\n      <th>average</th>\n    </tr>\n  </thead>\n  <tbody>\n    <tr>\n      <th>0</th>\n      <td>Vanuatu</td>\n      <td>29.330663</td>\n    </tr>\n    <tr>\n      <th>1</th>\n      <td>Lesotho</td>\n      <td>27.614941</td>\n    </tr>\n    <tr>\n      <th>2</th>\n      <td>Tunisia</td>\n      <td>25.615756</td>\n    </tr>\n    <tr>\n      <th>3</th>\n      <td>Ethiopia</td>\n      <td>24.280294</td>\n    </tr>\n    <tr>\n      <th>4</th>\n      <td>Botswana</td>\n      <td>24.269573</td>\n    </tr>\n    <tr>\n      <th>5</th>\n      <td>Zimbabwe</td>\n      <td>24.147020</td>\n    </tr>\n    <tr>\n      <th>6</th>\n      <td>Ghana</td>\n      <td>23.838494</td>\n    </tr>\n    <tr>\n      <th>7</th>\n      <td>Namibia</td>\n      <td>22.968228</td>\n    </tr>\n    <tr>\n      <th>8</th>\n      <td>St. Vincent and the Grenadines</td>\n      <td>22.605225</td>\n    </tr>\n    <tr>\n      <th>9</th>\n      <td>Djibouti</td>\n      <td>22.524957</td>\n    </tr>\n    <tr>\n      <th>10</th>\n      <td>Kenya</td>\n      <td>22.053427</td>\n    </tr>\n    <tr>\n      <th>11</th>\n      <td>Cote d'Ivoire</td>\n      <td>21.878652</td>\n    </tr>\n    <tr>\n      <th>12</th>\n      <td>Costa Rica</td>\n      <td>21.683806</td>\n    </tr>\n    <tr>\n      <th>13</th>\n      <td>Puerto Rico</td>\n      <td>21.582741</td>\n    </tr>\n    <tr>\n      <th>14</th>\n      <td>Hong Kong SAR, China</td>\n      <td>21.441356</td>\n    </tr>\n    <tr>\n      <th>15</th>\n      <td>Yemen, Rep.</td>\n      <td>21.405260</td>\n    </tr>\n    <tr>\n      <th>16</th>\n      <td>Guatemala</td>\n      <td>21.366231</td>\n    </tr>\n    <tr>\n      <th>17</th>\n      <td>Swaziland</td>\n      <td>20.952642</td>\n    </tr>\n    <tr>\n      <th>18</th>\n      <td>Turkmenistan</td>\n      <td>20.795509</td>\n    </tr>\n    <tr>\n      <th>19</th>\n      <td>Iran, Islamic Rep.</td>\n      <td>20.675766</td>\n    </tr>\n    <tr>\n      <th>20</th>\n      <td>Micronesia, Fed. Sts.</td>\n      <td>20.668320</td>\n    </tr>\n    <tr>\n      <th>21</th>\n      <td>Saudi Arabia</td>\n      <td>20.569674</td>\n    </tr>\n    <tr>\n      <th>22</th>\n      <td>Togo</td>\n      <td>20.525761</td>\n    </tr>\n    <tr>\n      <th>23</th>\n      <td>Senegal</td>\n      <td>20.324385</td>\n    </tr>\n    <tr>\n      <th>24</th>\n      <td>Aruba</td>\n      <td>20.187407</td>\n    </tr>\n    <tr>\n      <th>25</th>\n      <td>Nepal</td>\n      <td>20.055056</td>\n    </tr>\n    <tr>\n      <th>26</th>\n      <td>Mexico</td>\n      <td>20.001342</td>\n    </tr>\n    <tr>\n      <th>27</th>\n      <td>Belize</td>\n      <td>19.955944</td>\n    </tr>\n    <tr>\n      <th>28</th>\n      <td>Malaysia</td>\n      <td>19.955416</td>\n    </tr>\n    <tr>\n      <th>29</th>\n      <td>Thailand</td>\n      <td>19.944122</td>\n    </tr>\n    <tr>\n      <th>30</th>\n      <td>Paraguay</td>\n      <td>19.865749</td>\n    </tr>\n    <tr>\n      <th>31</th>\n      <td>Mozambique</td>\n      <td>19.613976</td>\n    </tr>\n    <tr>\n      <th>32</th>\n      <td>Singapore</td>\n      <td>19.590122</td>\n    </tr>\n    <tr>\n      <th>33</th>\n      <td>Bolivia</td>\n      <td>19.575361</td>\n    </tr>\n    <tr>\n      <th>34</th>\n      <td>Moldova</td>\n      <td>19.369909</td>\n    </tr>\n    <tr>\n      <th>35</th>\n      <td>Comoros</td>\n      <td>19.319276</td>\n    </tr>\n    <tr>\n      <th>36</th>\n      <td>South Africa</td>\n      <td>19.299002</td>\n    </tr>\n    <tr>\n      <th>37</th>\n      <td>Benin</td>\n      <td>19.233054</td>\n    </tr>\n    <tr>\n      <th>38</th>\n      <td>Honduras</td>\n      <td>19.230511</td>\n    </tr>\n    <tr>\n      <th>39</th>\n      <td>Solomon Islands</td>\n      <td>18.818918</td>\n    </tr>\n    <tr>\n      <th>40</th>\n      <td>Marshall Islands</td>\n      <td>18.661476</td>\n    </tr>\n    <tr>\n      <th>41</th>\n      <td>Syrian Arab Republic</td>\n      <td>18.461022</td>\n    </tr>\n    <tr>\n      <th>42</th>\n      <td>Cameroon</td>\n      <td>18.272735</td>\n    </tr>\n    <tr>\n      <th>43</th>\n      <td>Tanzania</td>\n      <td>18.152010</td>\n    </tr>\n    <tr>\n      <th>44</th>\n      <td>Fiji</td>\n      <td>18.104701</td>\n    </tr>\n    <tr>\n      <th>45</th>\n      <td>Burkina Faso</td>\n      <td>18.064666</td>\n    </tr>\n    <tr>\n      <th>46</th>\n      <td>Tonga</td>\n      <td>17.939858</td>\n    </tr>\n    <tr>\n      <th>47</th>\n      <td>Niger</td>\n      <td>17.930121</td>\n    </tr>\n    <tr>\n      <th>48</th>\n      <td>Chile</td>\n      <td>17.787135</td>\n    </tr>\n    <tr>\n      <th>49</th>\n      <td>New Zealand</td>\n      <td>17.778227</td>\n    </tr>\n  </tbody>\n</table>\n</div>"
          },
          "metadata": {}
        }
      ]
    },
    {
      "metadata": {
        "_cell_guid": "5e32344d-6516-476b-8e12-46ac1e562d25",
        "_uuid": "88e406ad345893f0e86ce250eac74b4e1401fa49"
      },
      "cell_type": "markdown",
      "source": "![](https://cloud.google.com/bigquery/images/education-spending.png)\nhttps://cloud.google.com/bigquery/images/education-spending.png\n"
    },
    {
      "metadata": {
        "_uuid": "450d392be87f17bcf55e86d2ee1c42f6b24d539d",
        "collapsed": true,
        "_cell_guid": "87ba4e16-08e7-4325-b0ab-e35a0cf07479",
        "trusted": true
      },
      "cell_type": "code",
      "source": "",
      "execution_count": null,
      "outputs": []
    }
  ],
  "metadata": {
    "kernelspec": {
      "display_name": "Python 3",
      "language": "python",
      "name": "python3"
    },
    "language_info": {
      "name": "python",
      "version": "3.6.4",
      "mimetype": "text/x-python",
      "codemirror_mode": {
        "name": "ipython",
        "version": 3
      },
      "pygments_lexer": "ipython3",
      "nbconvert_exporter": "python",
      "file_extension": ".py"
    }
  },
  "nbformat": 4,
  "nbformat_minor": 1
}