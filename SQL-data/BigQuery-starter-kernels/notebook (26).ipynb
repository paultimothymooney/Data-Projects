{
  "cells": [
    {
      "metadata": {
        "_uuid": "de5c8ef6d5d0ee22ec7e55b629d1c1f08d2b8efd",
        "_cell_guid": "307eb20a-56a5-43b9-832b-a76b338ad5e3"
      },
      "cell_type": "markdown",
      "source": "**How to Query the Medicare Dataset (BigQuery)**"
    },
    {
      "metadata": {
        "collapsed": true,
        "_uuid": "8f2839f25d086af736a60e9eeb907d3b93b6e0e5",
        "_cell_guid": "b1076dfc-b9ad-4769-8c92-a6c4dae69d19",
        "trusted": true
      },
      "cell_type": "code",
      "source": "import bq_helper\nfrom bq_helper import BigQueryHelper\n# https://www.kaggle.com/sohier/introduction-to-the-bq-helper-package\nmedicare = bq_helper.BigQueryHelper(active_project=\"bigquery-public-data\",\n                                   dataset_name=\"cms_medicare\")",
      "execution_count": 1,
      "outputs": []
    },
    {
      "metadata": {
        "_kg_hide-output": true,
        "_uuid": "a3415035b50ece1df93c6573539798b929a597f5",
        "_cell_guid": "b0442c95-01fa-4688-9a30-718347933e0f",
        "trusted": true
      },
      "cell_type": "code",
      "source": "bq_assistant = BigQueryHelper(\"bigquery-public-data\", \"cms_medicare\")\nbq_assistant.list_tables()",
      "execution_count": 2,
      "outputs": [
        {
          "output_type": "execute_result",
          "execution_count": 2,
          "data": {
            "text/plain": "['home_health_agencies_2013',\n 'home_health_agencies_2014',\n 'hospice_providers_2014',\n 'hospital_general_info',\n 'inpatient_charges_2011',\n 'inpatient_charges_2012',\n 'inpatient_charges_2013',\n 'inpatient_charges_2014',\n 'inpatient_charges_2015',\n 'nursing_facilities_2013',\n 'nursing_facilities_2014',\n 'outpatient_charges_2011',\n 'outpatient_charges_2012',\n 'outpatient_charges_2013',\n 'outpatient_charges_2014',\n 'outpatient_charges_2015',\n 'part_d_prescriber_2014',\n 'physicians_and_other_supplier_2012',\n 'physicians_and_other_supplier_2013',\n 'physicians_and_other_supplier_2014',\n 'physicians_and_other_supplier_2015',\n 'referring_durable_medical_equip_2013',\n 'referring_durable_medical_equip_2014']"
          },
          "metadata": {}
        }
      ]
    },
    {
      "metadata": {
        "_uuid": "f6d79a4aae694e0bc61d4dbc4724005d913b9248",
        "_cell_guid": "a2805b6e-5e32-484c-b1c7-a7e3d364ef35",
        "trusted": true
      },
      "cell_type": "code",
      "source": "bq_assistant.head(\"inpatient_charges_2015\", num_rows=15)",
      "execution_count": 3,
      "outputs": [
        {
          "output_type": "execute_result",
          "execution_count": 3,
          "data": {
            "text/plain": "   provider_id                                      provider_name  \\\n0       450723                  METHODIST CHARLTON MEDICAL CENTER   \n1       360077                                  FAIRVIEW HOSPITAL   \n2        10056                            ST VINCENT'S BIRMINGHAM   \n3       180103                           BAPTIST HEALTH LEXINGTON   \n4        70005                                 WATERBURY HOSPITAL   \n5        50174                       SANTA ROSA MEMORIAL HOSPITAL   \n6       210034                            MEDSTAR HARBOR HOSPITAL   \n7        60012       CENTURA HEALTH-ST MARY CORWIN MEDICAL CENTER   \n8        70002               ST FRANCIS HOSPITAL & MEDICAL CENTER   \n9       520193                         AURORA BAYCARE MEDICAL CTR   \n10      140160                              FHN MEMORIAL HOSPITAL   \n11      210049  UNIVERSITY OF M D UPPER CHESAPEAKE MEDICAL CENTER   \n12      150023                                 UNION HOSPITAL INC   \n13      450058                             BAPTIST MEDICAL CENTER   \n14      360161                          ST JOSEPH WARREN HOSPITAL   \n\n        provider_street_address provider_city provider_state  \\\n0         3500 W WHEATLAND ROAD        DALLAS             TX   \n1           18101 LORAIN AVENUE     CLEVELAND             OH   \n2        810 ST VINCENT'S DRIVE    BIRMINGHAM             AL   \n3       1740 NICHOLASVILLE ROAD     LEXINGTON             KY   \n4                 64 ROBBINS ST     WATERBURY             CT   \n5            1165 MONTGOMERY DR    SANTA ROSA             CA   \n6    3001 SOUTH  HANOVER STREET     BALTIMORE             MD   \n7             1008 MINNEQUA AVE        PUEBLO             CO   \n8           114 WOODLAND STREET      HARTFORD             CT   \n9            2845 GREENBRIER RD     GREEN BAY             WI   \n10  1045 WEST STEPHENSON STREET      FREEPORT             IL   \n11   500 UPPER CHESAPEAKE DRIVE       BEL AIR             MD   \n12            1606 N SEVENTH ST   TERRE HAUTE             IN   \n13            111 DALLAS STREET   SAN ANTONIO             TX   \n14          667 EASTLAND AVE SE        WARREN             OH   \n\n    provider_zipcode                                     drg_definition  \\\n0              75237  309 - CARDIAC ARRHYTHMIA & CONDUCTION DISORDER...   \n1              44111  286 - CIRCULATORY DISORDERS EXCEPT AMI, W CARD...   \n2              35205                        377 - G.I. HEMORRHAGE W MCC   \n3              40503  418 - LAPAROSCOPIC CHOLECYSTECTOMY W/O C.D.E. ...   \n4               6721  439 - DISORDERS OF PANCREAS EXCEPT MALIGNANCY ...   \n5              95405                           312 - SYNCOPE & COLLAPSE   \n6              21225  641 - MISC DISORDERS OF NUTRITION,METABOLISM,F...   \n7              81004  310 - CARDIAC ARRHYTHMIA & CONDUCTION DISORDER...   \n8               6105  244 - PERMANENT CARDIAC PACEMAKER IMPLANT W/O ...   \n9              54311                552 - MEDICAL BACK PROBLEMS W/O MCC   \n10             61032            193 - SIMPLE PNEUMONIA & PLEURISY W MCC   \n11             21014  563 - FX, SPRN, STRN & DISL EXCEPT FEMUR, HIP,...   \n12             47804  698 - OTHER KIDNEY & URINARY TRACT DIAGNOSES W...   \n13             78205                           603 - CELLULITIS W/O MCC   \n14             44481             194 - SIMPLE PNEUMONIA & PLEURISY W CC   \n\n   hospital_referral_region_description  total_discharges  \\\n0                           TX - Dallas                36   \n1                        OH - Cleveland                17   \n2                       AL - Birmingham                25   \n3                        KY - Lexington                18   \n4                        CT - New Haven                13   \n5                       CA - Santa Rosa                17   \n6                        MD - Baltimore                26   \n7                           CO - Pueblo                12   \n8                         CT - Hartford                28   \n9                        WI - Green Bay                13   \n10                        IL - Rockford                56   \n11                       MD - Baltimore                37   \n12                     IN - Terre Haute                19   \n13                     TX - San Antonio               167   \n14                      OH - Youngstown                41   \n\n    average_covered_charges  average_total_payments  average_medicare_payments  \n0                  28753.28                 5848.89                    4750.42  \n1                  54436.24                14316.06                   11998.06  \n2                  44590.24                 9689.72                    7291.76  \n3                  44002.67                11579.61                   10586.50  \n4                  29188.46                 7452.46                    6243.38  \n5                  51001.94                 6944.18                    5699.47  \n6                   9418.31                 8697.42                    7639.73  \n7                  19345.33                 5707.08                    2598.67  \n8                  46713.50                17270.39                   16161.32  \n9                  19185.38                 6650.85                    4280.46  \n10                 32773.82                 8944.45                    7813.48  \n11                  5905.11                 5468.84                    4237.30  \n12                 36904.53                 9802.47                    9106.53  \n13                 27654.66                 6249.37                    4694.56  \n14                 24565.66                 6556.93                    4927.32  ",
            "text/html": "<div>\n<style scoped>\n    .dataframe tbody tr th:only-of-type {\n        vertical-align: middle;\n    }\n\n    .dataframe tbody tr th {\n        vertical-align: top;\n    }\n\n    .dataframe thead th {\n        text-align: right;\n    }\n</style>\n<table border=\"1\" class=\"dataframe\">\n  <thead>\n    <tr style=\"text-align: right;\">\n      <th></th>\n      <th>provider_id</th>\n      <th>provider_name</th>\n      <th>provider_street_address</th>\n      <th>provider_city</th>\n      <th>provider_state</th>\n      <th>provider_zipcode</th>\n      <th>drg_definition</th>\n      <th>hospital_referral_region_description</th>\n      <th>total_discharges</th>\n      <th>average_covered_charges</th>\n      <th>average_total_payments</th>\n      <th>average_medicare_payments</th>\n    </tr>\n  </thead>\n  <tbody>\n    <tr>\n      <th>0</th>\n      <td>450723</td>\n      <td>METHODIST CHARLTON MEDICAL CENTER</td>\n      <td>3500 W WHEATLAND ROAD</td>\n      <td>DALLAS</td>\n      <td>TX</td>\n      <td>75237</td>\n      <td>309 - CARDIAC ARRHYTHMIA &amp; CONDUCTION DISORDER...</td>\n      <td>TX - Dallas</td>\n      <td>36</td>\n      <td>28753.28</td>\n      <td>5848.89</td>\n      <td>4750.42</td>\n    </tr>\n    <tr>\n      <th>1</th>\n      <td>360077</td>\n      <td>FAIRVIEW HOSPITAL</td>\n      <td>18101 LORAIN AVENUE</td>\n      <td>CLEVELAND</td>\n      <td>OH</td>\n      <td>44111</td>\n      <td>286 - CIRCULATORY DISORDERS EXCEPT AMI, W CARD...</td>\n      <td>OH - Cleveland</td>\n      <td>17</td>\n      <td>54436.24</td>\n      <td>14316.06</td>\n      <td>11998.06</td>\n    </tr>\n    <tr>\n      <th>2</th>\n      <td>10056</td>\n      <td>ST VINCENT'S BIRMINGHAM</td>\n      <td>810 ST VINCENT'S DRIVE</td>\n      <td>BIRMINGHAM</td>\n      <td>AL</td>\n      <td>35205</td>\n      <td>377 - G.I. HEMORRHAGE W MCC</td>\n      <td>AL - Birmingham</td>\n      <td>25</td>\n      <td>44590.24</td>\n      <td>9689.72</td>\n      <td>7291.76</td>\n    </tr>\n    <tr>\n      <th>3</th>\n      <td>180103</td>\n      <td>BAPTIST HEALTH LEXINGTON</td>\n      <td>1740 NICHOLASVILLE ROAD</td>\n      <td>LEXINGTON</td>\n      <td>KY</td>\n      <td>40503</td>\n      <td>418 - LAPAROSCOPIC CHOLECYSTECTOMY W/O C.D.E. ...</td>\n      <td>KY - Lexington</td>\n      <td>18</td>\n      <td>44002.67</td>\n      <td>11579.61</td>\n      <td>10586.50</td>\n    </tr>\n    <tr>\n      <th>4</th>\n      <td>70005</td>\n      <td>WATERBURY HOSPITAL</td>\n      <td>64 ROBBINS ST</td>\n      <td>WATERBURY</td>\n      <td>CT</td>\n      <td>6721</td>\n      <td>439 - DISORDERS OF PANCREAS EXCEPT MALIGNANCY ...</td>\n      <td>CT - New Haven</td>\n      <td>13</td>\n      <td>29188.46</td>\n      <td>7452.46</td>\n      <td>6243.38</td>\n    </tr>\n    <tr>\n      <th>5</th>\n      <td>50174</td>\n      <td>SANTA ROSA MEMORIAL HOSPITAL</td>\n      <td>1165 MONTGOMERY DR</td>\n      <td>SANTA ROSA</td>\n      <td>CA</td>\n      <td>95405</td>\n      <td>312 - SYNCOPE &amp; COLLAPSE</td>\n      <td>CA - Santa Rosa</td>\n      <td>17</td>\n      <td>51001.94</td>\n      <td>6944.18</td>\n      <td>5699.47</td>\n    </tr>\n    <tr>\n      <th>6</th>\n      <td>210034</td>\n      <td>MEDSTAR HARBOR HOSPITAL</td>\n      <td>3001 SOUTH  HANOVER STREET</td>\n      <td>BALTIMORE</td>\n      <td>MD</td>\n      <td>21225</td>\n      <td>641 - MISC DISORDERS OF NUTRITION,METABOLISM,F...</td>\n      <td>MD - Baltimore</td>\n      <td>26</td>\n      <td>9418.31</td>\n      <td>8697.42</td>\n      <td>7639.73</td>\n    </tr>\n    <tr>\n      <th>7</th>\n      <td>60012</td>\n      <td>CENTURA HEALTH-ST MARY CORWIN MEDICAL CENTER</td>\n      <td>1008 MINNEQUA AVE</td>\n      <td>PUEBLO</td>\n      <td>CO</td>\n      <td>81004</td>\n      <td>310 - CARDIAC ARRHYTHMIA &amp; CONDUCTION DISORDER...</td>\n      <td>CO - Pueblo</td>\n      <td>12</td>\n      <td>19345.33</td>\n      <td>5707.08</td>\n      <td>2598.67</td>\n    </tr>\n    <tr>\n      <th>8</th>\n      <td>70002</td>\n      <td>ST FRANCIS HOSPITAL &amp; MEDICAL CENTER</td>\n      <td>114 WOODLAND STREET</td>\n      <td>HARTFORD</td>\n      <td>CT</td>\n      <td>6105</td>\n      <td>244 - PERMANENT CARDIAC PACEMAKER IMPLANT W/O ...</td>\n      <td>CT - Hartford</td>\n      <td>28</td>\n      <td>46713.50</td>\n      <td>17270.39</td>\n      <td>16161.32</td>\n    </tr>\n    <tr>\n      <th>9</th>\n      <td>520193</td>\n      <td>AURORA BAYCARE MEDICAL CTR</td>\n      <td>2845 GREENBRIER RD</td>\n      <td>GREEN BAY</td>\n      <td>WI</td>\n      <td>54311</td>\n      <td>552 - MEDICAL BACK PROBLEMS W/O MCC</td>\n      <td>WI - Green Bay</td>\n      <td>13</td>\n      <td>19185.38</td>\n      <td>6650.85</td>\n      <td>4280.46</td>\n    </tr>\n    <tr>\n      <th>10</th>\n      <td>140160</td>\n      <td>FHN MEMORIAL HOSPITAL</td>\n      <td>1045 WEST STEPHENSON STREET</td>\n      <td>FREEPORT</td>\n      <td>IL</td>\n      <td>61032</td>\n      <td>193 - SIMPLE PNEUMONIA &amp; PLEURISY W MCC</td>\n      <td>IL - Rockford</td>\n      <td>56</td>\n      <td>32773.82</td>\n      <td>8944.45</td>\n      <td>7813.48</td>\n    </tr>\n    <tr>\n      <th>11</th>\n      <td>210049</td>\n      <td>UNIVERSITY OF M D UPPER CHESAPEAKE MEDICAL CENTER</td>\n      <td>500 UPPER CHESAPEAKE DRIVE</td>\n      <td>BEL AIR</td>\n      <td>MD</td>\n      <td>21014</td>\n      <td>563 - FX, SPRN, STRN &amp; DISL EXCEPT FEMUR, HIP,...</td>\n      <td>MD - Baltimore</td>\n      <td>37</td>\n      <td>5905.11</td>\n      <td>5468.84</td>\n      <td>4237.30</td>\n    </tr>\n    <tr>\n      <th>12</th>\n      <td>150023</td>\n      <td>UNION HOSPITAL INC</td>\n      <td>1606 N SEVENTH ST</td>\n      <td>TERRE HAUTE</td>\n      <td>IN</td>\n      <td>47804</td>\n      <td>698 - OTHER KIDNEY &amp; URINARY TRACT DIAGNOSES W...</td>\n      <td>IN - Terre Haute</td>\n      <td>19</td>\n      <td>36904.53</td>\n      <td>9802.47</td>\n      <td>9106.53</td>\n    </tr>\n    <tr>\n      <th>13</th>\n      <td>450058</td>\n      <td>BAPTIST MEDICAL CENTER</td>\n      <td>111 DALLAS STREET</td>\n      <td>SAN ANTONIO</td>\n      <td>TX</td>\n      <td>78205</td>\n      <td>603 - CELLULITIS W/O MCC</td>\n      <td>TX - San Antonio</td>\n      <td>167</td>\n      <td>27654.66</td>\n      <td>6249.37</td>\n      <td>4694.56</td>\n    </tr>\n    <tr>\n      <th>14</th>\n      <td>360161</td>\n      <td>ST JOSEPH WARREN HOSPITAL</td>\n      <td>667 EASTLAND AVE SE</td>\n      <td>WARREN</td>\n      <td>OH</td>\n      <td>44481</td>\n      <td>194 - SIMPLE PNEUMONIA &amp; PLEURISY W CC</td>\n      <td>OH - Youngstown</td>\n      <td>41</td>\n      <td>24565.66</td>\n      <td>6556.93</td>\n      <td>4927.32</td>\n    </tr>\n  </tbody>\n</table>\n</div>"
          },
          "metadata": {}
        }
      ]
    },
    {
      "metadata": {
        "_kg_hide-output": true,
        "_uuid": "bbb18e3c781e1ce11b83342cc42b46b4eb4f1a81",
        "_cell_guid": "87e3e8b9-e8c4-48fd-99d3-a77034d474bf",
        "trusted": true
      },
      "cell_type": "code",
      "source": "bq_assistant.table_schema(\"inpatient_charges_2015\")",
      "execution_count": 4,
      "outputs": [
        {
          "output_type": "execute_result",
          "execution_count": 4,
          "data": {
            "text/plain": "[SchemaField('provider_id', 'STRING', 'REQUIRED', 'The CMS Certification Number (CCN) of the provider billing for outpatient hospital services', ()),\n SchemaField('provider_name', 'STRING', 'NULLABLE', 'The name of the provider', ()),\n SchemaField('provider_street_address', 'STRING', 'NULLABLE', 'The street address in which the provider is physically located', ()),\n SchemaField('provider_city', 'STRING', 'NULLABLE', 'The city in which the provider is physically located', ()),\n SchemaField('provider_state', 'STRING', 'NULLABLE', 'The state in which the provider is physically located', ()),\n SchemaField('provider_zipcode', 'INTEGER', 'NULLABLE', 'The zip code in which the provider is physically located', ()),\n SchemaField('drg_definition', 'STRING', 'REQUIRED', 'The code and description identifying the MS-DRG. MS-DRGs are a classification system that groups similar clinical conditions (diagnoses) and the procedures furnished by the hospital during the stay', ()),\n SchemaField('hospital_referral_region_description', 'STRING', 'NULLABLE', 'The Hospital Referral Region (HRR) in which the provider is physically located', ()),\n SchemaField('total_discharges', 'INTEGER', 'NULLABLE', 'The number of discharges billed by the provider for inpatient hospital services', ()),\n SchemaField('average_covered_charges', 'FLOAT', 'NULLABLE', \"The provider's average charge for services covered by Medicare for all discharges in the MS-DRG. These will vary from hospital to hospital because of differences in hospital charge structures\", ()),\n SchemaField('average_total_payments', 'FLOAT', 'NULLABLE', 'The average total payments to all providers for the MS-DRG including the MSDRG amount, teaching, disproportionate share, capital, and outlier payments for all cases. Also included 5 in average total payments are co-payment and deductible amounts that the patient is responsible for and any additional payments by third parties for coordination of benefits', ()),\n SchemaField('average_medicare_payments', 'FLOAT', 'NULLABLE', \"The average amount that Medicare pays to the provider for Medicare's share of the MS-DRG. Average Medicare payment amounts include the MS-DRG amount, teaching, disproportionate share, capital, and outlier payments for all cases. Medicare payments DO NOT include beneficiary co-payments and deductible amounts nor any additional payments from third parties for coordination of benefits.\", ())]"
          },
          "metadata": {}
        }
      ]
    },
    {
      "metadata": {
        "_uuid": "8eeda9ae334f9bc0dc313635abee9c9c0d582f6c",
        "_cell_guid": "ec2e26b9-885e-4f12-8d20-2f8c494d6f3e"
      },
      "cell_type": "markdown",
      "source": "What is the total number of medications prescribed in each state?\n"
    },
    {
      "metadata": {
        "_uuid": "f498dd0e54911bf273ae4a76fd6a2bdaebf96f15",
        "_cell_guid": "ab7c4d65-3cc2-4192-992c-b030c33b2010",
        "trusted": true
      },
      "cell_type": "code",
      "source": "query1 = \"\"\"SELECT\n  nppes_provider_state AS state,\n  ROUND(SUM(total_claim_count) / 1e6) AS total_claim_count_millions\nFROM\n  `bigquery-public-data.cms_medicare.part_d_prescriber_2014`\nGROUP BY\n  state\nORDER BY\n  total_claim_count_millions DESC\nLIMIT\n  5;\n        \"\"\"\nresponse1 = medicare.query_to_pandas_safe(query1)\nresponse1.head(10)",
      "execution_count": 5,
      "outputs": [
        {
          "output_type": "execute_result",
          "execution_count": 5,
          "data": {
            "text/plain": "  state  total_claim_count_millions\n0    CA                       116.0\n1    FL                        91.0\n2    NY                        80.0\n3    TX                        76.0\n4    PA                        63.0",
            "text/html": "<div>\n<style scoped>\n    .dataframe tbody tr th:only-of-type {\n        vertical-align: middle;\n    }\n\n    .dataframe tbody tr th {\n        vertical-align: top;\n    }\n\n    .dataframe thead th {\n        text-align: right;\n    }\n</style>\n<table border=\"1\" class=\"dataframe\">\n  <thead>\n    <tr style=\"text-align: right;\">\n      <th></th>\n      <th>state</th>\n      <th>total_claim_count_millions</th>\n    </tr>\n  </thead>\n  <tbody>\n    <tr>\n      <th>0</th>\n      <td>CA</td>\n      <td>116.0</td>\n    </tr>\n    <tr>\n      <th>1</th>\n      <td>FL</td>\n      <td>91.0</td>\n    </tr>\n    <tr>\n      <th>2</th>\n      <td>NY</td>\n      <td>80.0</td>\n    </tr>\n    <tr>\n      <th>3</th>\n      <td>TX</td>\n      <td>76.0</td>\n    </tr>\n    <tr>\n      <th>4</th>\n      <td>PA</td>\n      <td>63.0</td>\n    </tr>\n  </tbody>\n</table>\n</div>"
          },
          "metadata": {}
        }
      ]
    },
    {
      "metadata": {
        "_uuid": "ef06f0f96cdffd2af224c796a423304f914d7da9",
        "_cell_guid": "e53dbcf0-eaba-474f-b83c-fa7fc5e69a81"
      },
      "cell_type": "markdown",
      "source": "What is the most prescribed medication in each state?\n"
    },
    {
      "metadata": {
        "_uuid": "77d0841a15c7675c6e2506e02762ed6892629d59",
        "_cell_guid": "f9ea65cb-a34a-4e54-b7dd-8eb964aba953",
        "trusted": true
      },
      "cell_type": "code",
      "source": "query2 = \"\"\"SELECT\n  A.state,\n  drug_name,\n  total_claim_count,\n  day_supply,\n  ROUND(total_cost_millions) AS total_cost_millions\nFROM (\n  SELECT\n    generic_name AS drug_name,\n    nppes_provider_state AS state,\n    ROUND(SUM(total_claim_count)) AS total_claim_count,\n    ROUND(SUM(total_day_supply)) AS day_supply,\n    ROUND(SUM(total_drug_cost)) / 1e6 AS total_cost_millions\n  FROM\n    `bigquery-public-data.cms_medicare.part_d_prescriber_2014`\n  GROUP BY\n    state,\n    drug_name) A\nINNER JOIN (\n  SELECT\n    state,\n    MAX(total_claim_count) AS max_total_claim_count\n  FROM (\n    SELECT\n      nppes_provider_state AS state,\n      ROUND(SUM(total_claim_count)) AS total_claim_count\n    FROM\n      `bigquery-public-data.cms_medicare.part_d_prescriber_2014`\n    GROUP BY\n      state,\n      generic_name)\n  GROUP BY\n    state) B\nON\n  A.state = B.state\n  AND A.total_claim_count = B.max_total_claim_count\nORDER BY\n  A.total_claim_count DESC\nLIMIT\n  5;\n        \"\"\"\nresponse2 = medicare.query_to_pandas_safe(query2, max_gb_scanned=10)\nresponse2.head(10)",
      "execution_count": 6,
      "outputs": [
        {
          "output_type": "execute_result",
          "execution_count": 6,
          "data": {
            "text/plain": "  state                  drug_name  total_claim_count   day_supply  \\\n0    CA       LEVOTHYROXINE SODIUM          3845087.0  211747380.0   \n1    FL       LEVOTHYROXINE SODIUM          2982612.0  163388370.0   \n2    TX  HYDROCODONE/ACETAMINOPHEN          2834059.0   60410516.0   \n3    NY        AMLODIPINE BESYLATE          2609896.0  123226481.0   \n4    PA       LEVOTHYROXINE SODIUM          2353845.0  109168537.0   \n\n   total_cost_millions  \n0                 78.0  \n1                 64.0  \n2                 63.0  \n3                 21.0  \n4                 44.0  ",
            "text/html": "<div>\n<style scoped>\n    .dataframe tbody tr th:only-of-type {\n        vertical-align: middle;\n    }\n\n    .dataframe tbody tr th {\n        vertical-align: top;\n    }\n\n    .dataframe thead th {\n        text-align: right;\n    }\n</style>\n<table border=\"1\" class=\"dataframe\">\n  <thead>\n    <tr style=\"text-align: right;\">\n      <th></th>\n      <th>state</th>\n      <th>drug_name</th>\n      <th>total_claim_count</th>\n      <th>day_supply</th>\n      <th>total_cost_millions</th>\n    </tr>\n  </thead>\n  <tbody>\n    <tr>\n      <th>0</th>\n      <td>CA</td>\n      <td>LEVOTHYROXINE SODIUM</td>\n      <td>3845087.0</td>\n      <td>211747380.0</td>\n      <td>78.0</td>\n    </tr>\n    <tr>\n      <th>1</th>\n      <td>FL</td>\n      <td>LEVOTHYROXINE SODIUM</td>\n      <td>2982612.0</td>\n      <td>163388370.0</td>\n      <td>64.0</td>\n    </tr>\n    <tr>\n      <th>2</th>\n      <td>TX</td>\n      <td>HYDROCODONE/ACETAMINOPHEN</td>\n      <td>2834059.0</td>\n      <td>60410516.0</td>\n      <td>63.0</td>\n    </tr>\n    <tr>\n      <th>3</th>\n      <td>NY</td>\n      <td>AMLODIPINE BESYLATE</td>\n      <td>2609896.0</td>\n      <td>123226481.0</td>\n      <td>21.0</td>\n    </tr>\n    <tr>\n      <th>4</th>\n      <td>PA</td>\n      <td>LEVOTHYROXINE SODIUM</td>\n      <td>2353845.0</td>\n      <td>109168537.0</td>\n      <td>44.0</td>\n    </tr>\n  </tbody>\n</table>\n</div>"
          },
          "metadata": {}
        }
      ]
    },
    {
      "metadata": {
        "_uuid": "03b7f712e458da8be3ad91b4a96b7dad4f282e3b",
        "_cell_guid": "e5ea144c-7388-4dbd-99ce-c144d75855a4"
      },
      "cell_type": "markdown",
      "source": "What is the average cost for inpatient and outpatient treatment in each city and state?\n"
    },
    {
      "metadata": {
        "_uuid": "d597435820237905733ce8d5897a29f34af22dd7",
        "_cell_guid": "44cacead-3add-4047-bb10-b5f705b99656",
        "trusted": true
      },
      "cell_type": "code",
      "source": "query3 = \"\"\"SELECT\n  OP.provider_state AS State,\n  OP.provider_city AS City,\n  OP.provider_id AS Provider_ID,\n  ROUND(OP.average_OP_cost) AS Average_OP_Cost,\n  ROUND(IP.average_IP_cost) AS Average_IP_Cost,\n  ROUND(OP.average_OP_cost + IP.average_IP_cost) AS Combined_Average_Cost\nFROM (\n  SELECT\n    provider_state,\n    provider_city,\n    provider_id,\n    SUM(average_total_payments*outpatient_services)/SUM(outpatient_services) AS average_OP_cost\n  FROM\n    `bigquery-public-data.cms_medicare.outpatient_charges_2014`\n  GROUP BY\n    provider_state,\n    provider_city,\n    provider_id ) AS OP\nINNER JOIN (\n  SELECT\n    provider_state,\n    provider_city,\n    provider_id,\n    SUM(average_medicare_payments*total_discharges)/SUM(total_discharges) AS average_IP_cost\n  FROM\n    `bigquery-public-data.cms_medicare.inpatient_charges_2014`\n  GROUP BY\n    provider_state,\n    provider_city,\n    provider_id ) AS IP\nON\n  OP.provider_id = IP.provider_id\n  AND OP.provider_state = IP.provider_state\n  AND OP.provider_city = IP.provider_city\nORDER BY\n  combined_average_cost DESC\nLIMIT\n  10;\n        \"\"\"\nresponse3 = medicare.query_to_pandas_safe(query3, max_gb_scanned=10)\nresponse3.head(10)",
      "execution_count": 7,
      "outputs": [
        {
          "output_type": "execute_result",
          "execution_count": 7,
          "data": {
            "text/plain": "  State         City Provider_ID  Average_OP_Cost  Average_IP_Cost  \\\n0    IN    MISHAWAKA      150177            399.0         102521.0   \n1    MI       WARREN      230264            104.0          88620.0   \n2    TX      HOUSTON      450674             88.0          67571.0   \n3    TX      EL PASO      450877            230.0          45179.0   \n4    TN      MEMPHIS      440152             90.0          35698.0   \n5    LA  BATON ROUGE      190128             87.0          34369.0   \n6    LA    LEESVILLE      190297            560.0          32611.0   \n7    NY     VALHALLA      330234            219.0          30975.0   \n8    TX  SAN ANTONIO      670054            585.0          26249.0   \n9    TX      HOUSTON      450289            104.0          26450.0   \n\n   Combined_Average_Cost  \n0               102920.0  \n1                88724.0  \n2                67659.0  \n3                45409.0  \n4                35788.0  \n5                34456.0  \n6                33172.0  \n7                31194.0  \n8                26834.0  \n9                26553.0  ",
            "text/html": "<div>\n<style scoped>\n    .dataframe tbody tr th:only-of-type {\n        vertical-align: middle;\n    }\n\n    .dataframe tbody tr th {\n        vertical-align: top;\n    }\n\n    .dataframe thead th {\n        text-align: right;\n    }\n</style>\n<table border=\"1\" class=\"dataframe\">\n  <thead>\n    <tr style=\"text-align: right;\">\n      <th></th>\n      <th>State</th>\n      <th>City</th>\n      <th>Provider_ID</th>\n      <th>Average_OP_Cost</th>\n      <th>Average_IP_Cost</th>\n      <th>Combined_Average_Cost</th>\n    </tr>\n  </thead>\n  <tbody>\n    <tr>\n      <th>0</th>\n      <td>IN</td>\n      <td>MISHAWAKA</td>\n      <td>150177</td>\n      <td>399.0</td>\n      <td>102521.0</td>\n      <td>102920.0</td>\n    </tr>\n    <tr>\n      <th>1</th>\n      <td>MI</td>\n      <td>WARREN</td>\n      <td>230264</td>\n      <td>104.0</td>\n      <td>88620.0</td>\n      <td>88724.0</td>\n    </tr>\n    <tr>\n      <th>2</th>\n      <td>TX</td>\n      <td>HOUSTON</td>\n      <td>450674</td>\n      <td>88.0</td>\n      <td>67571.0</td>\n      <td>67659.0</td>\n    </tr>\n    <tr>\n      <th>3</th>\n      <td>TX</td>\n      <td>EL PASO</td>\n      <td>450877</td>\n      <td>230.0</td>\n      <td>45179.0</td>\n      <td>45409.0</td>\n    </tr>\n    <tr>\n      <th>4</th>\n      <td>TN</td>\n      <td>MEMPHIS</td>\n      <td>440152</td>\n      <td>90.0</td>\n      <td>35698.0</td>\n      <td>35788.0</td>\n    </tr>\n    <tr>\n      <th>5</th>\n      <td>LA</td>\n      <td>BATON ROUGE</td>\n      <td>190128</td>\n      <td>87.0</td>\n      <td>34369.0</td>\n      <td>34456.0</td>\n    </tr>\n    <tr>\n      <th>6</th>\n      <td>LA</td>\n      <td>LEESVILLE</td>\n      <td>190297</td>\n      <td>560.0</td>\n      <td>32611.0</td>\n      <td>33172.0</td>\n    </tr>\n    <tr>\n      <th>7</th>\n      <td>NY</td>\n      <td>VALHALLA</td>\n      <td>330234</td>\n      <td>219.0</td>\n      <td>30975.0</td>\n      <td>31194.0</td>\n    </tr>\n    <tr>\n      <th>8</th>\n      <td>TX</td>\n      <td>SAN ANTONIO</td>\n      <td>670054</td>\n      <td>585.0</td>\n      <td>26249.0</td>\n      <td>26834.0</td>\n    </tr>\n    <tr>\n      <th>9</th>\n      <td>TX</td>\n      <td>HOUSTON</td>\n      <td>450289</td>\n      <td>104.0</td>\n      <td>26450.0</td>\n      <td>26553.0</td>\n    </tr>\n  </tbody>\n</table>\n</div>"
          },
          "metadata": {}
        }
      ]
    },
    {
      "metadata": {
        "_uuid": "a6ebb013cab63d0cdfe6d143cf73c4fab12100a0",
        "_cell_guid": "83b06213-432d-4d7e-ac24-bef63386acc4"
      },
      "cell_type": "markdown",
      "source": "Which are the most common inpatient diagnostic conditions in the United States?\n\nWhich cities have the most number of cases for each diagnostic condition?\n\nWhat are the average payments for these conditions in these cities and how do they compare to the national average?"
    },
    {
      "metadata": {
        "_uuid": "0b33abdf5a72f7402dafcfc1a55c4ee10fd127fe",
        "_cell_guid": "2a9e0d55-46c3-47af-8059-20365f8dd0ac",
        "trusted": true
      },
      "cell_type": "code",
      "source": "query4 = \"\"\"SELECT\n  drg_definition AS Diagnosis,\n  provider_city AS City,\n  provider_state AS State,\n  cityrank AS City_Rank,\n  CAST(ROUND(citywise_avg_total_payments) AS INT64) AS Citywise_Avg_Payments,\n  CONCAT(CAST(ROUND(citywise_avg_total_payments /national_avg_total_payments * 100, 0) AS STRING), \" %\") AS Avg_Payments_City_vs_National\nFROM (\n  SELECT\n    drg_definition,\n    provider_city,\n    provider_state,\n    cityrank,\n    national_num_cases,\n    citywise_avg_total_payments,\n    national_sum_total_payments,\n    (national_sum_total_payments /national_num_cases) AS national_avg_total_payments\n  FROM (\n    SELECT\n      drg_definition,\n      provider_city,\n      provider_state,\n      citywise_avg_total_payments,\n      RANK() OVER (PARTITION BY drg_definition ORDER BY citywise_num_cases DESC ) AS cityrank,\n      SUM(citywise_num_cases) OVER (PARTITION BY drg_definition ) AS national_num_cases,\n      SUM(citywise_sum_total_payments) OVER (PARTITION BY drg_definition ) AS national_sum_total_payments\n    FROM (\n      SELECT\n        drg_definition,\n        provider_city,\n        provider_state,\n        SUM(total_discharges) AS citywise_num_cases,\n        SUM(average_total_payments * total_discharges)/ SUM(total_discharges) AS citywise_avg_total_payments,\n        SUM(average_total_payments * total_discharges) AS citywise_sum_total_payments\n      FROM\n        `bigquery-public-data.cms_medicare.inpatient_charges_2014`\n      GROUP BY\n        drg_definition,\n        provider_city,\n        provider_state))\n  WHERE\n    cityrank <=3)  # Limit to top 3 cities for each Diagnosis\nORDER BY\n  national_num_cases DESC,\n  cityrank\nLIMIT\n  9;  # Limit Results to the top 3 cities for the top 3 diagnosis;\n        \"\"\"\nresponse4 = medicare.query_to_pandas_safe(query4, max_gb_scanned=10)\nresponse4.head(10)",
      "execution_count": 8,
      "outputs": [
        {
          "output_type": "execute_result",
          "execution_count": 8,
          "data": {
            "text/plain": "                                           Diagnosis       City State  \\\n0  470 - MAJOR JOINT REPLACEMENT OR REATTACHMENT ...   NEW YORK    NY   \n1  470 - MAJOR JOINT REPLACEMENT OR REATTACHMENT ...     BOSTON    MA   \n2  470 - MAJOR JOINT REPLACEMENT OR REATTACHMENT ...  BALTIMORE    MD   \n3  871 - SEPTICEMIA OR SEVERE SEPSIS W/O MV 96+ H...    HOUSTON    TX   \n4  871 - SEPTICEMIA OR SEVERE SEPSIS W/O MV 96+ H...    CHICAGO    IL   \n5  871 - SEPTICEMIA OR SEVERE SEPSIS W/O MV 96+ H...   BROOKLYN    NY   \n6                  291 - HEART FAILURE & SHOCK W MCC    CHICAGO    IL   \n7                  291 - HEART FAILURE & SHOCK W MCC    HOUSTON    TX   \n8                  291 - HEART FAILURE & SHOCK W MCC  BALTIMORE    MD   \n\n   City_Rank  Citywise_Avg_Payments Avg_Payments_City_vs_National  \n0          1                  21656                         144 %  \n1          2                  18324                         122 %  \n2          3                  23056                         154 %  \n3          1                  14592                         106 %  \n4          2                  16071                         117 %  \n5          3                  23398                         170 %  \n6          1                  13287                         122 %  \n7          2                  12572                         116 %  \n8          3                  16992                         157 %  ",
            "text/html": "<div>\n<style scoped>\n    .dataframe tbody tr th:only-of-type {\n        vertical-align: middle;\n    }\n\n    .dataframe tbody tr th {\n        vertical-align: top;\n    }\n\n    .dataframe thead th {\n        text-align: right;\n    }\n</style>\n<table border=\"1\" class=\"dataframe\">\n  <thead>\n    <tr style=\"text-align: right;\">\n      <th></th>\n      <th>Diagnosis</th>\n      <th>City</th>\n      <th>State</th>\n      <th>City_Rank</th>\n      <th>Citywise_Avg_Payments</th>\n      <th>Avg_Payments_City_vs_National</th>\n    </tr>\n  </thead>\n  <tbody>\n    <tr>\n      <th>0</th>\n      <td>470 - MAJOR JOINT REPLACEMENT OR REATTACHMENT ...</td>\n      <td>NEW YORK</td>\n      <td>NY</td>\n      <td>1</td>\n      <td>21656</td>\n      <td>144 %</td>\n    </tr>\n    <tr>\n      <th>1</th>\n      <td>470 - MAJOR JOINT REPLACEMENT OR REATTACHMENT ...</td>\n      <td>BOSTON</td>\n      <td>MA</td>\n      <td>2</td>\n      <td>18324</td>\n      <td>122 %</td>\n    </tr>\n    <tr>\n      <th>2</th>\n      <td>470 - MAJOR JOINT REPLACEMENT OR REATTACHMENT ...</td>\n      <td>BALTIMORE</td>\n      <td>MD</td>\n      <td>3</td>\n      <td>23056</td>\n      <td>154 %</td>\n    </tr>\n    <tr>\n      <th>3</th>\n      <td>871 - SEPTICEMIA OR SEVERE SEPSIS W/O MV 96+ H...</td>\n      <td>HOUSTON</td>\n      <td>TX</td>\n      <td>1</td>\n      <td>14592</td>\n      <td>106 %</td>\n    </tr>\n    <tr>\n      <th>4</th>\n      <td>871 - SEPTICEMIA OR SEVERE SEPSIS W/O MV 96+ H...</td>\n      <td>CHICAGO</td>\n      <td>IL</td>\n      <td>2</td>\n      <td>16071</td>\n      <td>117 %</td>\n    </tr>\n    <tr>\n      <th>5</th>\n      <td>871 - SEPTICEMIA OR SEVERE SEPSIS W/O MV 96+ H...</td>\n      <td>BROOKLYN</td>\n      <td>NY</td>\n      <td>3</td>\n      <td>23398</td>\n      <td>170 %</td>\n    </tr>\n    <tr>\n      <th>6</th>\n      <td>291 - HEART FAILURE &amp; SHOCK W MCC</td>\n      <td>CHICAGO</td>\n      <td>IL</td>\n      <td>1</td>\n      <td>13287</td>\n      <td>122 %</td>\n    </tr>\n    <tr>\n      <th>7</th>\n      <td>291 - HEART FAILURE &amp; SHOCK W MCC</td>\n      <td>HOUSTON</td>\n      <td>TX</td>\n      <td>2</td>\n      <td>12572</td>\n      <td>116 %</td>\n    </tr>\n    <tr>\n      <th>8</th>\n      <td>291 - HEART FAILURE &amp; SHOCK W MCC</td>\n      <td>BALTIMORE</td>\n      <td>MD</td>\n      <td>3</td>\n      <td>16992</td>\n      <td>157 %</td>\n    </tr>\n  </tbody>\n</table>\n</div>"
          },
          "metadata": {}
        }
      ]
    },
    {
      "metadata": {
        "collapsed": true,
        "_uuid": "450d392be87f17bcf55e86d2ee1c42f6b24d539d",
        "_cell_guid": "87ba4e16-08e7-4325-b0ab-e35a0cf07479",
        "trusted": true
      },
      "cell_type": "code",
      "source": "",
      "execution_count": null,
      "outputs": []
    },
    {
      "metadata": {
        "collapsed": true,
        "_uuid": "b79f5f5b997168585b09193b95df4c99d2b1afe8",
        "_cell_guid": "bdb6e0e4-619a-43fd-954f-919f93cbc2d5",
        "trusted": true
      },
      "cell_type": "code",
      "source": "",
      "execution_count": null,
      "outputs": []
    }
  ],
  "metadata": {
    "language_info": {
      "name": "python",
      "version": "3.6.4",
      "mimetype": "text/x-python",
      "codemirror_mode": {
        "name": "ipython",
        "version": 3
      },
      "pygments_lexer": "ipython3",
      "nbconvert_exporter": "python",
      "file_extension": ".py"
    },
    "kernelspec": {
      "display_name": "Python 3",
      "language": "python",
      "name": "python3"
    }
  },
  "nbformat": 4,
  "nbformat_minor": 1
}