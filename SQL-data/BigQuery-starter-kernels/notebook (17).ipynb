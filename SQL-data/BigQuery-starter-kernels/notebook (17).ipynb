{
  "cells": [
    {
      "metadata": {
        "_uuid": "de5c8ef6d5d0ee22ec7e55b629d1c1f08d2b8efd",
        "_cell_guid": "307eb20a-56a5-43b9-832b-a76b338ad5e3"
      },
      "cell_type": "markdown",
      "source": "**How to Query the San Francisco Open Data (BigQuery Dataset)**"
    },
    {
      "metadata": {
        "_uuid": "8f2839f25d086af736a60e9eeb907d3b93b6e0e5",
        "collapsed": true,
        "_cell_guid": "b1076dfc-b9ad-4769-8c92-a6c4dae69d19",
        "trusted": true
      },
      "cell_type": "code",
      "source": "import bq_helper\nfrom bq_helper import BigQueryHelper\n# https://www.kaggle.com/sohier/introduction-to-the-bq-helper-package\nsf = bq_helper.BigQueryHelper(active_project=\"bigquery-public-data\",\n                                   dataset_name=\"san_francisco\")",
      "execution_count": 1,
      "outputs": []
    },
    {
      "metadata": {
        "_uuid": "a3415035b50ece1df93c6573539798b929a597f5",
        "_cell_guid": "b0442c95-01fa-4688-9a30-718347933e0f",
        "trusted": true
      },
      "cell_type": "code",
      "source": "bq_assistant = BigQueryHelper(\"bigquery-public-data\", \"san_francisco\")\nbq_assistant.list_tables()",
      "execution_count": 2,
      "outputs": [
        {
          "output_type": "execute_result",
          "execution_count": 2,
          "data": {
            "text/plain": "['311_service_requests',\n 'bikeshare_stations',\n 'bikeshare_status',\n 'bikeshare_trips',\n 'film_locations',\n 'sffd_service_calls',\n 'sfpd_incidents',\n 'street_trees']"
          },
          "metadata": {}
        }
      ]
    },
    {
      "metadata": {
        "_uuid": "f6d79a4aae694e0bc61d4dbc4724005d913b9248",
        "_cell_guid": "a2805b6e-5e32-484c-b1c7-a7e3d364ef35",
        "trusted": true
      },
      "cell_type": "code",
      "source": "bq_assistant.head(\"film_locations\", num_rows=30)",
      "execution_count": 3,
      "outputs": [
        {
          "output_type": "execute_result",
          "execution_count": 3,
          "data": {
            "text/plain": "                       title  release_year  \\\n0         A Jitney Elopement          1915   \n1         A Jitney Elopement          1915   \n2                      Greed          1924   \n3                      Greed          1924   \n4                      Greed          1924   \n5            The Jazz Singer          1927   \n6              Barbary Coast          1935   \n7              San Francisco          1936   \n8              San Francisco          1936   \n9         After the Thin Man          1936   \n10  Alexander's Ragtime Band          1938   \n11  Alexander's Ragtime Band          1938   \n12  Alexander's Ragtime Band          1938   \n13        The Maltese Falcon          1941   \n14        The Maltese Falcon          1941   \n15        The Maltese Falcon          1941   \n16    Shadow of the Thin Man          1941   \n17             Gentleman Jim          1942   \n18       Hello Frisco, Hello          1943   \n19              Dark Passage          1947   \n20              Dark Passage          1947   \n21              Dark Passage          1947   \n22             Nora Prentiss          1947   \n23    The Lady from Shanghai          1947   \n24    The Lady from Shanghai          1947   \n25    The Lady from Shanghai          1947   \n26    The Lady from Shanghai          1947   \n27           I Remember Mama          1948   \n28           I Remember Mama          1948   \n29           I Remember Mama          1948   \n\n                                            locations  \\\n0                             20th and Folsom Streets   \n1                                    Golden Gate Park   \n2                              Hayes Street at Laguna   \n3                             Bush and Sutter Streets   \n4               Cliff House (1090 Point Lobos Avenue)   \n5           Coffee Dan's (O'Farrell Street at Powell)   \n6                                                       \n7                                   The Barbary Coast   \n8                                           City Hall   \n9                                          Coit Tower   \n10        Fairmont Hotel (950 Mason Street, Nob Hill)   \n11                                  San Francisco Bay   \n12              Cliff House (1090 Point Lobos Avenue)   \n13                                 Golden Gate Bridge   \n14                                     Ferry Building   \n15  Burritt Alley (Off Bush Street, between Powell...   \n16                                         Bay Bridge   \n17                                  The Barbary Coast   \n18                                                      \n19                      Filbert Steps, Filbert Street   \n20                                 Golden Gate Bridge   \n21  The Malloch Apartment Building (1360 Montgomer...   \n22  Belgravia Apartments (795 Sutter Street at Jones)   \n23  Former Hall of Justice (750 Kearny Street at W...   \n24  Steinhart Aquarium (California Academy of Scie...   \n25                                   Golden Gate Park   \n26               Mandarin Theatre (1021 Grant Avenue)   \n27                                 The Ferry Building   \n28        Fairmont Hotel (950 Mason Street, Nob Hill)   \n29                         Grant Avenue (North Beach)   \n\n                                            fun_facts  \\\n0                                                       \n1   During San Francisco's Gold Rush era, the Park...   \n2                                                       \n3                                                       \n4   In 1887, the Cliff House was severely damaged ...   \n5                                                       \n6                                                       \n7   The Barbary Coast was a red-light district tha...   \n8   The dome of SF's City Hall is almost a foot ta...   \n9   The Tower was funded by a gift bequeathed by L...   \n10  In 1945 the Fairmont hosted the United Nations...   \n11                                                      \n12  In 1887, the Cliff House was severely damaged ...   \n13  With 23 miles of ladders and 300,000 rivets in...   \n14  Every hour and half-hour, the clock bell atop ...   \n15                                                      \n16  Before opening in 1936, the bridge was blessed...   \n17  The Barbary Coast was a red-light district tha...   \n18                                                      \n19                                                      \n20  With 23 miles of ladders and 300,000 rivets in...   \n21                                                      \n22                                                      \n23                                                      \n24  The Steinhart Aquarium is home to over 38,000 ...   \n25  The Playland amusement park where \"Hall of Mir...   \n26  The Mandarin Theatre was renamed the Sun Sing ...   \n27  Every hour and half-hour, the clock bell atop ...   \n28  In 1945 the Fairmont hosted the United Nations...   \n29                                                      \n\n                        production_company  \\\n0   The Essanay Film Manufacturing Company   \n1   The Essanay Film Manufacturing Company   \n2                Metro-Goldwyn-Mayer (MGM)   \n3                Metro-Goldwyn-Mayer (MGM)   \n4                Metro-Goldwyn-Mayer (MGM)   \n5                    Warner Bros. Pictures   \n6               The Samuel Goldwyn Company   \n7                      Metro-Goldwyn Mayer   \n8                      Metro-Goldwyn Mayer   \n9                      Metro-Goldwyn Mayer   \n10  Twentieth Century Fox Film Corporation   \n11  Twentieth Century Fox Film Corporation   \n12  Twentieth Century Fox Film Corporation   \n13                   Warner Bros. Pictures   \n14                   Warner Bros. Pictures   \n15                   Warner Bros. Pictures   \n16                     Metro-Goldwyn Mayer   \n17                   Warner Bros. Pictures   \n18  Twentieth Century Fox Film Corporation   \n19                   Warner Bros. Pictures   \n20                   Warner Bros. Pictures   \n21                   Warner Bros. Pictures   \n22                   Warner Bros. Pictures   \n23                 Columbia Pictures Corp.   \n24                 Columbia Pictures Corp.   \n25                 Columbia Pictures Corp.   \n26                 Columbia Pictures Corp.   \n27                      RKO Radio Pictures   \n28                      RKO Radio Pictures   \n29                      RKO Radio Pictures   \n\n                               distributor           director  \\\n0                     General Film Company    Charles Chaplin   \n1                     General Film Company    Charles Chaplin   \n2                Metro-Goldwyn-Mayer (MGM)  Eric von Stroheim   \n3                Metro-Goldwyn-Mayer (MGM)  Eric von Stroheim   \n4                Metro-Goldwyn-Mayer (MGM)  Eric von Stroheim   \n5                    Warner Bros. Pictures      Alan Crosland   \n6                           United Artists       Howard Hawks   \n7                      Metro-Goldwyn Mayer      W.S. Van Dyke   \n8                      Metro-Goldwyn Mayer      W.S. Van Dyke   \n9                      Metro-Goldwyn Mayer      W.S. Van Dyke   \n10  Twentieth Century Fox Film Corporation         Henry King   \n11  Twentieth Century Fox Film Corporation         Henry King   \n12  Twentieth Century Fox Film Corporation         Henry King   \n13                   Warner Bros. Pictures        John Huston   \n14                   Warner Bros. Pictures        John Huston   \n15                   Warner Bros. Pictures        John Huston   \n16                     Metro-Goldwyn Mayer      W.S. Van Dyke   \n17                   Warner Bros. Pictures        Raoul Walsh   \n18  Twentieth Century Fox Film Corporation  Bruce Humberstone   \n19                   Warner Bros. Pictures       Delmer Daves   \n20                   Warner Bros. Pictures       Delmer Daves   \n21                   Warner Bros. Pictures       Delmer Daves   \n22                   Warner Bros. Pictures    Vincent Sherman   \n23                       Columbia Pictures       Orson Welles   \n24                       Columbia Pictures       Orson Welles   \n25                       Columbia Pictures       Orson Welles   \n26                       Columbia Pictures       Orson Welles   \n27                      RKO Radio Pictures     George Stevens   \n28                      RKO Radio Pictures     George Stevens   \n29                      RKO Radio Pictures     George Stevens   \n\n                         writer          actor_1             actor_2  \\\n0               Charles Chaplin  Charles Chaplin      Edna Purviance   \n1               Charles Chaplin  Charles Chaplin      Edna Purviance   \n2             Eric von Stroheim       Zasu Pitts      Gibson Gowland   \n3             Eric von Stroheim       Zasu Pitts      Gibson Gowland   \n4             Eric von Stroheim       Zasu Pitts      Gibson Gowland   \n5                Alfred A. Cohn        Al Jolson          May McAvoy   \n6                     Ben Hecht   Mariam Hopkins  Edward G. Robinson   \n7                    Anita Loos      Clark Gable  Jeanette MacDonald   \n8                    Anita Loos      Clark Gable  Jeanette MacDonald   \n9              Frances Goodrich   William Powell           Myrna Loy   \n10                Kathryn Scola     Tyrone Power          Alice Faye   \n11                Kathryn Scola     Tyrone Power          Alice Faye   \n12                Kathryn Scola     Tyrone Power          Alice Faye   \n13                  John Huston  Humphrey Bogart          Mary Astor   \n14                  John Huston  Humphrey Bogart          Mary Astor   \n15                  John Huston  Humphrey Bogart          Mary Astor   \n16                Harry Kurnitz   William Powell           Myrna Loy   \n17             Vincent Lawrence      Errol Flynn        Alexis Smith   \n18                 Robert Ellis       Alice Faye          John Payne   \n19  Delmer Daves & David Goodis  Humphrey Bogart        Lauren Bacal   \n20  Delmer Daves & David Goodis  Humphrey Bogart        Lauren Bacal   \n21  Delmer Daves & David Goodis  Humphrey Bogart        Lauren Bacal   \n22              N. Richard Nash     Ann Sheridan          Kent Smith   \n23                 Orson Welles    Rita Hayworth        Orson Welles   \n24                 Orson Welles    Rita Hayworth        Orson Welles   \n25                 Orson Welles    Rita Hayworth        Orson Welles   \n26                 Orson Welles    Rita Hayworth        Orson Welles   \n27                DeWitt Bodeen      Irene Dunne  Barbara Bel Geddes   \n28                DeWitt Bodeen      Irene Dunne  Barbara Bel Geddes   \n29                DeWitt Bodeen      Irene Dunne  Barbara Bel Geddes   \n\n           actor_3  \n0                   \n1                   \n2    Jean Hersholt  \n3    Jean Hersholt  \n4    Jean Hersholt  \n5     Warner Oland  \n6      Joel McCrea  \n7    Spencer Tracy  \n8    Spencer Tracy  \n9    James Stewart  \n10      Don Ameche  \n11      Don Ameche  \n12      Don Ameche  \n13   Gladys George  \n14   Gladys George  \n15   Gladys George  \n16    Barry Nelson  \n17     Jack Carson  \n18      Jack Oakie  \n19   Bruce Bennett  \n20   Bruce Bennett  \n21   Bruce Bennett  \n22   Bruce Bennett  \n23  Everett Sloane  \n24  Everett Sloane  \n25  Everett Sloane  \n26  Everett Sloane  \n27   Oskar Homolka  \n28   Oskar Homolka  \n29   Oskar Homolka  ",
            "text/html": "<div>\n<style scoped>\n    .dataframe tbody tr th:only-of-type {\n        vertical-align: middle;\n    }\n\n    .dataframe tbody tr th {\n        vertical-align: top;\n    }\n\n    .dataframe thead th {\n        text-align: right;\n    }\n</style>\n<table border=\"1\" class=\"dataframe\">\n  <thead>\n    <tr style=\"text-align: right;\">\n      <th></th>\n      <th>title</th>\n      <th>release_year</th>\n      <th>locations</th>\n      <th>fun_facts</th>\n      <th>production_company</th>\n      <th>distributor</th>\n      <th>director</th>\n      <th>writer</th>\n      <th>actor_1</th>\n      <th>actor_2</th>\n      <th>actor_3</th>\n    </tr>\n  </thead>\n  <tbody>\n    <tr>\n      <th>0</th>\n      <td>A Jitney Elopement</td>\n      <td>1915</td>\n      <td>20th and Folsom Streets</td>\n      <td></td>\n      <td>The Essanay Film Manufacturing Company</td>\n      <td>General Film Company</td>\n      <td>Charles Chaplin</td>\n      <td>Charles Chaplin</td>\n      <td>Charles Chaplin</td>\n      <td>Edna Purviance</td>\n      <td></td>\n    </tr>\n    <tr>\n      <th>1</th>\n      <td>A Jitney Elopement</td>\n      <td>1915</td>\n      <td>Golden Gate Park</td>\n      <td>During San Francisco's Gold Rush era, the Park...</td>\n      <td>The Essanay Film Manufacturing Company</td>\n      <td>General Film Company</td>\n      <td>Charles Chaplin</td>\n      <td>Charles Chaplin</td>\n      <td>Charles Chaplin</td>\n      <td>Edna Purviance</td>\n      <td></td>\n    </tr>\n    <tr>\n      <th>2</th>\n      <td>Greed</td>\n      <td>1924</td>\n      <td>Hayes Street at Laguna</td>\n      <td></td>\n      <td>Metro-Goldwyn-Mayer (MGM)</td>\n      <td>Metro-Goldwyn-Mayer (MGM)</td>\n      <td>Eric von Stroheim</td>\n      <td>Eric von Stroheim</td>\n      <td>Zasu Pitts</td>\n      <td>Gibson Gowland</td>\n      <td>Jean Hersholt</td>\n    </tr>\n    <tr>\n      <th>3</th>\n      <td>Greed</td>\n      <td>1924</td>\n      <td>Bush and Sutter Streets</td>\n      <td></td>\n      <td>Metro-Goldwyn-Mayer (MGM)</td>\n      <td>Metro-Goldwyn-Mayer (MGM)</td>\n      <td>Eric von Stroheim</td>\n      <td>Eric von Stroheim</td>\n      <td>Zasu Pitts</td>\n      <td>Gibson Gowland</td>\n      <td>Jean Hersholt</td>\n    </tr>\n    <tr>\n      <th>4</th>\n      <td>Greed</td>\n      <td>1924</td>\n      <td>Cliff House (1090 Point Lobos Avenue)</td>\n      <td>In 1887, the Cliff House was severely damaged ...</td>\n      <td>Metro-Goldwyn-Mayer (MGM)</td>\n      <td>Metro-Goldwyn-Mayer (MGM)</td>\n      <td>Eric von Stroheim</td>\n      <td>Eric von Stroheim</td>\n      <td>Zasu Pitts</td>\n      <td>Gibson Gowland</td>\n      <td>Jean Hersholt</td>\n    </tr>\n    <tr>\n      <th>5</th>\n      <td>The Jazz Singer</td>\n      <td>1927</td>\n      <td>Coffee Dan's (O'Farrell Street at Powell)</td>\n      <td></td>\n      <td>Warner Bros. Pictures</td>\n      <td>Warner Bros. Pictures</td>\n      <td>Alan Crosland</td>\n      <td>Alfred A. Cohn</td>\n      <td>Al Jolson</td>\n      <td>May McAvoy</td>\n      <td>Warner Oland</td>\n    </tr>\n    <tr>\n      <th>6</th>\n      <td>Barbary Coast</td>\n      <td>1935</td>\n      <td></td>\n      <td></td>\n      <td>The Samuel Goldwyn Company</td>\n      <td>United Artists</td>\n      <td>Howard Hawks</td>\n      <td>Ben Hecht</td>\n      <td>Mariam Hopkins</td>\n      <td>Edward G. Robinson</td>\n      <td>Joel McCrea</td>\n    </tr>\n    <tr>\n      <th>7</th>\n      <td>San Francisco</td>\n      <td>1936</td>\n      <td>The Barbary Coast</td>\n      <td>The Barbary Coast was a red-light district tha...</td>\n      <td>Metro-Goldwyn Mayer</td>\n      <td>Metro-Goldwyn Mayer</td>\n      <td>W.S. Van Dyke</td>\n      <td>Anita Loos</td>\n      <td>Clark Gable</td>\n      <td>Jeanette MacDonald</td>\n      <td>Spencer Tracy</td>\n    </tr>\n    <tr>\n      <th>8</th>\n      <td>San Francisco</td>\n      <td>1936</td>\n      <td>City Hall</td>\n      <td>The dome of SF's City Hall is almost a foot ta...</td>\n      <td>Metro-Goldwyn Mayer</td>\n      <td>Metro-Goldwyn Mayer</td>\n      <td>W.S. Van Dyke</td>\n      <td>Anita Loos</td>\n      <td>Clark Gable</td>\n      <td>Jeanette MacDonald</td>\n      <td>Spencer Tracy</td>\n    </tr>\n    <tr>\n      <th>9</th>\n      <td>After the Thin Man</td>\n      <td>1936</td>\n      <td>Coit Tower</td>\n      <td>The Tower was funded by a gift bequeathed by L...</td>\n      <td>Metro-Goldwyn Mayer</td>\n      <td>Metro-Goldwyn Mayer</td>\n      <td>W.S. Van Dyke</td>\n      <td>Frances Goodrich</td>\n      <td>William Powell</td>\n      <td>Myrna Loy</td>\n      <td>James Stewart</td>\n    </tr>\n    <tr>\n      <th>10</th>\n      <td>Alexander's Ragtime Band</td>\n      <td>1938</td>\n      <td>Fairmont Hotel (950 Mason Street, Nob Hill)</td>\n      <td>In 1945 the Fairmont hosted the United Nations...</td>\n      <td>Twentieth Century Fox Film Corporation</td>\n      <td>Twentieth Century Fox Film Corporation</td>\n      <td>Henry King</td>\n      <td>Kathryn Scola</td>\n      <td>Tyrone Power</td>\n      <td>Alice Faye</td>\n      <td>Don Ameche</td>\n    </tr>\n    <tr>\n      <th>11</th>\n      <td>Alexander's Ragtime Band</td>\n      <td>1938</td>\n      <td>San Francisco Bay</td>\n      <td></td>\n      <td>Twentieth Century Fox Film Corporation</td>\n      <td>Twentieth Century Fox Film Corporation</td>\n      <td>Henry King</td>\n      <td>Kathryn Scola</td>\n      <td>Tyrone Power</td>\n      <td>Alice Faye</td>\n      <td>Don Ameche</td>\n    </tr>\n    <tr>\n      <th>12</th>\n      <td>Alexander's Ragtime Band</td>\n      <td>1938</td>\n      <td>Cliff House (1090 Point Lobos Avenue)</td>\n      <td>In 1887, the Cliff House was severely damaged ...</td>\n      <td>Twentieth Century Fox Film Corporation</td>\n      <td>Twentieth Century Fox Film Corporation</td>\n      <td>Henry King</td>\n      <td>Kathryn Scola</td>\n      <td>Tyrone Power</td>\n      <td>Alice Faye</td>\n      <td>Don Ameche</td>\n    </tr>\n    <tr>\n      <th>13</th>\n      <td>The Maltese Falcon</td>\n      <td>1941</td>\n      <td>Golden Gate Bridge</td>\n      <td>With 23 miles of ladders and 300,000 rivets in...</td>\n      <td>Warner Bros. Pictures</td>\n      <td>Warner Bros. Pictures</td>\n      <td>John Huston</td>\n      <td>John Huston</td>\n      <td>Humphrey Bogart</td>\n      <td>Mary Astor</td>\n      <td>Gladys George</td>\n    </tr>\n    <tr>\n      <th>14</th>\n      <td>The Maltese Falcon</td>\n      <td>1941</td>\n      <td>Ferry Building</td>\n      <td>Every hour and half-hour, the clock bell atop ...</td>\n      <td>Warner Bros. Pictures</td>\n      <td>Warner Bros. Pictures</td>\n      <td>John Huston</td>\n      <td>John Huston</td>\n      <td>Humphrey Bogart</td>\n      <td>Mary Astor</td>\n      <td>Gladys George</td>\n    </tr>\n    <tr>\n      <th>15</th>\n      <td>The Maltese Falcon</td>\n      <td>1941</td>\n      <td>Burritt Alley (Off Bush Street, between Powell...</td>\n      <td></td>\n      <td>Warner Bros. Pictures</td>\n      <td>Warner Bros. Pictures</td>\n      <td>John Huston</td>\n      <td>John Huston</td>\n      <td>Humphrey Bogart</td>\n      <td>Mary Astor</td>\n      <td>Gladys George</td>\n    </tr>\n    <tr>\n      <th>16</th>\n      <td>Shadow of the Thin Man</td>\n      <td>1941</td>\n      <td>Bay Bridge</td>\n      <td>Before opening in 1936, the bridge was blessed...</td>\n      <td>Metro-Goldwyn Mayer</td>\n      <td>Metro-Goldwyn Mayer</td>\n      <td>W.S. Van Dyke</td>\n      <td>Harry Kurnitz</td>\n      <td>William Powell</td>\n      <td>Myrna Loy</td>\n      <td>Barry Nelson</td>\n    </tr>\n    <tr>\n      <th>17</th>\n      <td>Gentleman Jim</td>\n      <td>1942</td>\n      <td>The Barbary Coast</td>\n      <td>The Barbary Coast was a red-light district tha...</td>\n      <td>Warner Bros. Pictures</td>\n      <td>Warner Bros. Pictures</td>\n      <td>Raoul Walsh</td>\n      <td>Vincent Lawrence</td>\n      <td>Errol Flynn</td>\n      <td>Alexis Smith</td>\n      <td>Jack Carson</td>\n    </tr>\n    <tr>\n      <th>18</th>\n      <td>Hello Frisco, Hello</td>\n      <td>1943</td>\n      <td></td>\n      <td></td>\n      <td>Twentieth Century Fox Film Corporation</td>\n      <td>Twentieth Century Fox Film Corporation</td>\n      <td>Bruce Humberstone</td>\n      <td>Robert Ellis</td>\n      <td>Alice Faye</td>\n      <td>John Payne</td>\n      <td>Jack Oakie</td>\n    </tr>\n    <tr>\n      <th>19</th>\n      <td>Dark Passage</td>\n      <td>1947</td>\n      <td>Filbert Steps, Filbert Street</td>\n      <td></td>\n      <td>Warner Bros. Pictures</td>\n      <td>Warner Bros. Pictures</td>\n      <td>Delmer Daves</td>\n      <td>Delmer Daves &amp; David Goodis</td>\n      <td>Humphrey Bogart</td>\n      <td>Lauren Bacal</td>\n      <td>Bruce Bennett</td>\n    </tr>\n    <tr>\n      <th>20</th>\n      <td>Dark Passage</td>\n      <td>1947</td>\n      <td>Golden Gate Bridge</td>\n      <td>With 23 miles of ladders and 300,000 rivets in...</td>\n      <td>Warner Bros. Pictures</td>\n      <td>Warner Bros. Pictures</td>\n      <td>Delmer Daves</td>\n      <td>Delmer Daves &amp; David Goodis</td>\n      <td>Humphrey Bogart</td>\n      <td>Lauren Bacal</td>\n      <td>Bruce Bennett</td>\n    </tr>\n    <tr>\n      <th>21</th>\n      <td>Dark Passage</td>\n      <td>1947</td>\n      <td>The Malloch Apartment Building (1360 Montgomer...</td>\n      <td></td>\n      <td>Warner Bros. Pictures</td>\n      <td>Warner Bros. Pictures</td>\n      <td>Delmer Daves</td>\n      <td>Delmer Daves &amp; David Goodis</td>\n      <td>Humphrey Bogart</td>\n      <td>Lauren Bacal</td>\n      <td>Bruce Bennett</td>\n    </tr>\n    <tr>\n      <th>22</th>\n      <td>Nora Prentiss</td>\n      <td>1947</td>\n      <td>Belgravia Apartments (795 Sutter Street at Jones)</td>\n      <td></td>\n      <td>Warner Bros. Pictures</td>\n      <td>Warner Bros. Pictures</td>\n      <td>Vincent Sherman</td>\n      <td>N. Richard Nash</td>\n      <td>Ann Sheridan</td>\n      <td>Kent Smith</td>\n      <td>Bruce Bennett</td>\n    </tr>\n    <tr>\n      <th>23</th>\n      <td>The Lady from Shanghai</td>\n      <td>1947</td>\n      <td>Former Hall of Justice (750 Kearny Street at W...</td>\n      <td></td>\n      <td>Columbia Pictures Corp.</td>\n      <td>Columbia Pictures</td>\n      <td>Orson Welles</td>\n      <td>Orson Welles</td>\n      <td>Rita Hayworth</td>\n      <td>Orson Welles</td>\n      <td>Everett Sloane</td>\n    </tr>\n    <tr>\n      <th>24</th>\n      <td>The Lady from Shanghai</td>\n      <td>1947</td>\n      <td>Steinhart Aquarium (California Academy of Scie...</td>\n      <td>The Steinhart Aquarium is home to over 38,000 ...</td>\n      <td>Columbia Pictures Corp.</td>\n      <td>Columbia Pictures</td>\n      <td>Orson Welles</td>\n      <td>Orson Welles</td>\n      <td>Rita Hayworth</td>\n      <td>Orson Welles</td>\n      <td>Everett Sloane</td>\n    </tr>\n    <tr>\n      <th>25</th>\n      <td>The Lady from Shanghai</td>\n      <td>1947</td>\n      <td>Golden Gate Park</td>\n      <td>The Playland amusement park where \"Hall of Mir...</td>\n      <td>Columbia Pictures Corp.</td>\n      <td>Columbia Pictures</td>\n      <td>Orson Welles</td>\n      <td>Orson Welles</td>\n      <td>Rita Hayworth</td>\n      <td>Orson Welles</td>\n      <td>Everett Sloane</td>\n    </tr>\n    <tr>\n      <th>26</th>\n      <td>The Lady from Shanghai</td>\n      <td>1947</td>\n      <td>Mandarin Theatre (1021 Grant Avenue)</td>\n      <td>The Mandarin Theatre was renamed the Sun Sing ...</td>\n      <td>Columbia Pictures Corp.</td>\n      <td>Columbia Pictures</td>\n      <td>Orson Welles</td>\n      <td>Orson Welles</td>\n      <td>Rita Hayworth</td>\n      <td>Orson Welles</td>\n      <td>Everett Sloane</td>\n    </tr>\n    <tr>\n      <th>27</th>\n      <td>I Remember Mama</td>\n      <td>1948</td>\n      <td>The Ferry Building</td>\n      <td>Every hour and half-hour, the clock bell atop ...</td>\n      <td>RKO Radio Pictures</td>\n      <td>RKO Radio Pictures</td>\n      <td>George Stevens</td>\n      <td>DeWitt Bodeen</td>\n      <td>Irene Dunne</td>\n      <td>Barbara Bel Geddes</td>\n      <td>Oskar Homolka</td>\n    </tr>\n    <tr>\n      <th>28</th>\n      <td>I Remember Mama</td>\n      <td>1948</td>\n      <td>Fairmont Hotel (950 Mason Street, Nob Hill)</td>\n      <td>In 1945 the Fairmont hosted the United Nations...</td>\n      <td>RKO Radio Pictures</td>\n      <td>RKO Radio Pictures</td>\n      <td>George Stevens</td>\n      <td>DeWitt Bodeen</td>\n      <td>Irene Dunne</td>\n      <td>Barbara Bel Geddes</td>\n      <td>Oskar Homolka</td>\n    </tr>\n    <tr>\n      <th>29</th>\n      <td>I Remember Mama</td>\n      <td>1948</td>\n      <td>Grant Avenue (North Beach)</td>\n      <td></td>\n      <td>RKO Radio Pictures</td>\n      <td>RKO Radio Pictures</td>\n      <td>George Stevens</td>\n      <td>DeWitt Bodeen</td>\n      <td>Irene Dunne</td>\n      <td>Barbara Bel Geddes</td>\n      <td>Oskar Homolka</td>\n    </tr>\n  </tbody>\n</table>\n</div>"
          },
          "metadata": {}
        }
      ]
    },
    {
      "metadata": {
        "_uuid": "bbb18e3c781e1ce11b83342cc42b46b4eb4f1a81",
        "_cell_guid": "87e3e8b9-e8c4-48fd-99d3-a77034d474bf",
        "_kg_hide-output": true,
        "trusted": true
      },
      "cell_type": "code",
      "source": "bq_assistant.table_schema(\"film_locations\")",
      "execution_count": 4,
      "outputs": [
        {
          "output_type": "execute_result",
          "execution_count": 4,
          "data": {
            "text/plain": "[SchemaField('title', 'STRING', 'NULLABLE', '', ()),\n SchemaField('release_year', 'INTEGER', 'NULLABLE', '', ()),\n SchemaField('locations', 'STRING', 'NULLABLE', '', ()),\n SchemaField('fun_facts', 'STRING', 'NULLABLE', '', ()),\n SchemaField('production_company', 'STRING', 'NULLABLE', '', ()),\n SchemaField('distributor', 'STRING', 'NULLABLE', '', ()),\n SchemaField('director', 'STRING', 'NULLABLE', '', ()),\n SchemaField('writer', 'STRING', 'NULLABLE', '', ()),\n SchemaField('actor_1', 'STRING', 'NULLABLE', '', ()),\n SchemaField('actor_2', 'STRING', 'NULLABLE', '', ()),\n SchemaField('actor_3', 'STRING', 'NULLABLE', '', ())]"
          },
          "metadata": {}
        }
      ]
    },
    {
      "metadata": {
        "_uuid": "4f27ad71d294b2f4dcdd9cac988254da60ed4c81",
        "_cell_guid": "8856878d-8fbc-4d06-9beb-8afa70b952ea"
      },
      "cell_type": "markdown",
      "source": "Which neighborhoods have the highest proportion of offensive graffiti?\n"
    },
    {
      "metadata": {
        "_uuid": "16de3f4a5d90ba174457e6b3de6d0f81bbc1f22a",
        "_cell_guid": "f44baf9c-a969-4dc5-9c3d-001cac82ccc6",
        "trusted": true
      },
      "cell_type": "code",
      "source": "query0 = \"\"\"SELECT\n  neighborhood,\n  ROUND(100*COUNTIF(STRPOS(descriptor,\n        \"- Not_Offensive\") > 0) / COUNT(*), 2) AS not_offensive_pct,\n  ROUND(100*COUNTIF(STRPOS(descriptor,\n        \"- Offensive\") > 0) / COUNT(*), 2) AS offensive_pct,\n  COUNT(*) AS total_count\nFROM\n  `bigquery-public-data.san_francisco.311_service_requests`\nWHERE\n  STRPOS(category,\n    \"Graffiti\") > 0\nGROUP BY\n  neighborhood\nORDER BY\n  offensive_pct DESC\nLIMIT\n  10;\n        \"\"\"\nresponse0 = sf.query_to_pandas_safe(query0)\nresponse0.head(10)",
      "execution_count": 5,
      "outputs": [
        {
          "output_type": "execute_result",
          "execution_count": 5,
          "data": {
            "text/plain": "                   neighborhood  not_offensive_pct  offensive_pct  total_count\n0              Presidio Terrace              14.89          84.51          994\n1              Presidio Heights              18.39          81.13          832\n2              Golden Gate Park              20.32          79.55         4630\n3                 Lone Mountain              21.46          77.84         6770\n4             Parnassus Heights              22.89          76.21         1564\n5               Ashbury Heights              23.06          76.11          837\n6        Presidio National Park              23.76          75.25          101\n7                   Cole Valley              26.45          73.16         3267\n8                     Panhandle              27.00          72.44         8541\n9  Laurel Heights / Jordan Park              27.21          72.30         2462",
            "text/html": "<div>\n<style scoped>\n    .dataframe tbody tr th:only-of-type {\n        vertical-align: middle;\n    }\n\n    .dataframe tbody tr th {\n        vertical-align: top;\n    }\n\n    .dataframe thead th {\n        text-align: right;\n    }\n</style>\n<table border=\"1\" class=\"dataframe\">\n  <thead>\n    <tr style=\"text-align: right;\">\n      <th></th>\n      <th>neighborhood</th>\n      <th>not_offensive_pct</th>\n      <th>offensive_pct</th>\n      <th>total_count</th>\n    </tr>\n  </thead>\n  <tbody>\n    <tr>\n      <th>0</th>\n      <td>Presidio Terrace</td>\n      <td>14.89</td>\n      <td>84.51</td>\n      <td>994</td>\n    </tr>\n    <tr>\n      <th>1</th>\n      <td>Presidio Heights</td>\n      <td>18.39</td>\n      <td>81.13</td>\n      <td>832</td>\n    </tr>\n    <tr>\n      <th>2</th>\n      <td>Golden Gate Park</td>\n      <td>20.32</td>\n      <td>79.55</td>\n      <td>4630</td>\n    </tr>\n    <tr>\n      <th>3</th>\n      <td>Lone Mountain</td>\n      <td>21.46</td>\n      <td>77.84</td>\n      <td>6770</td>\n    </tr>\n    <tr>\n      <th>4</th>\n      <td>Parnassus Heights</td>\n      <td>22.89</td>\n      <td>76.21</td>\n      <td>1564</td>\n    </tr>\n    <tr>\n      <th>5</th>\n      <td>Ashbury Heights</td>\n      <td>23.06</td>\n      <td>76.11</td>\n      <td>837</td>\n    </tr>\n    <tr>\n      <th>6</th>\n      <td>Presidio National Park</td>\n      <td>23.76</td>\n      <td>75.25</td>\n      <td>101</td>\n    </tr>\n    <tr>\n      <th>7</th>\n      <td>Cole Valley</td>\n      <td>26.45</td>\n      <td>73.16</td>\n      <td>3267</td>\n    </tr>\n    <tr>\n      <th>8</th>\n      <td>Panhandle</td>\n      <td>27.00</td>\n      <td>72.44</td>\n      <td>8541</td>\n    </tr>\n    <tr>\n      <th>9</th>\n      <td>Laurel Heights / Jordan Park</td>\n      <td>27.21</td>\n      <td>72.30</td>\n      <td>2462</td>\n    </tr>\n  </tbody>\n</table>\n</div>"
          },
          "metadata": {}
        }
      ]
    },
    {
      "metadata": {
        "_uuid": "8eeda9ae334f9bc0dc313635abee9c9c0d582f6c",
        "_cell_guid": "ec2e26b9-885e-4f12-8d20-2f8c494d6f3e"
      },
      "cell_type": "markdown",
      "source": "Which complaint is most likely to be made using Twitter and in which neighborhood?\n"
    },
    {
      "metadata": {
        "_uuid": "f498dd0e54911bf273ae4a76fd6a2bdaebf96f15",
        "_cell_guid": "ab7c4d65-3cc2-4192-992c-b030c33b2010",
        "trusted": true
      },
      "cell_type": "code",
      "source": "query1 = \"\"\"SELECT\n  neighborhood,\n  complaint_type,\n  COUNT(*) AS total_count\nFROM\n  `bigquery-public-data.san_francisco.311_service_requests`\nWHERE\n  Source=\"Twitter\"\nGROUP BY\n  Neighborhood,\n  complaint_type\nORDER BY\n  total_count DESC\nLIMIT\n  30;\n        \"\"\"\nresponse1 = sf.query_to_pandas_safe(query1)\nresponse1.head(30)",
      "execution_count": 6,
      "outputs": [
        {
          "output_type": "execute_result",
          "execution_count": 6,
          "data": {
            "text/plain": "          neighborhood                               complaint_type  \\\n0              Mission                    Graffiti on Parking_meter   \n1              Mission                             Graffiti on Pole   \n2       Inner Richmond                              Sidewalk_Defect   \n3              Mission    Graffiti on Sidewalk_in_front_of_property   \n4              Mission              Graffiti on Building_commercial   \n5              Mission                                     Graffiti   \n6       Silver Terrace                             General Cleaning   \n7                       MUNI - Services_Service_Delivery_Facilities   \n8              Mission                        Graffiti on News_rack   \n9              Mission                             General Cleaning   \n10             Bayview                             General Cleaning   \n11             Mission                          request_for_service   \n12                                                  Sidewalk_Defect   \n13     Mission Dolores                Park - Structural_Maintenance   \n14  Central Waterfront                    Abandoned Vehicle - Other   \n15             Mission                                  Human Waste   \n16             Mission                       Graffiti on Signal_box   \n17     South of Market                             General Cleaning   \n18     South of Market                                  Bulky Items   \n19             Mission                               Sign - Defaced   \n20     Mission Dolores                             Graffiti on Pole   \n21      Lower Nob Hill                             General Cleaning   \n22             Mission             Graffiti on Building_residential   \n23      Silver Terrace                                  Bulky Items   \n24     South of Market                          request_for_service   \n25             Mission                                  Bulky Items   \n26     Mission Dolores                    Graffiti on Parking_meter   \n27     Mission Dolores                                     Graffiti   \n28             Mission         Illegal Postings - Multiple_Postings   \n29             Portola                             General Cleaning   \n\n    total_count  \n0          1350  \n1           978  \n2           925  \n3           698  \n4           544  \n5           524  \n6           507  \n7           402  \n8           385  \n9           322  \n10          311  \n11          289  \n12          260  \n13          260  \n14          243  \n15          229  \n16          198  \n17          190  \n18          184  \n19          179  \n20          168  \n21          166  \n22          162  \n23          159  \n24          151  \n25          151  \n26          151  \n27          150  \n28          144  \n29          142  ",
            "text/html": "<div>\n<style scoped>\n    .dataframe tbody tr th:only-of-type {\n        vertical-align: middle;\n    }\n\n    .dataframe tbody tr th {\n        vertical-align: top;\n    }\n\n    .dataframe thead th {\n        text-align: right;\n    }\n</style>\n<table border=\"1\" class=\"dataframe\">\n  <thead>\n    <tr style=\"text-align: right;\">\n      <th></th>\n      <th>neighborhood</th>\n      <th>complaint_type</th>\n      <th>total_count</th>\n    </tr>\n  </thead>\n  <tbody>\n    <tr>\n      <th>0</th>\n      <td>Mission</td>\n      <td>Graffiti on Parking_meter</td>\n      <td>1350</td>\n    </tr>\n    <tr>\n      <th>1</th>\n      <td>Mission</td>\n      <td>Graffiti on Pole</td>\n      <td>978</td>\n    </tr>\n    <tr>\n      <th>2</th>\n      <td>Inner Richmond</td>\n      <td>Sidewalk_Defect</td>\n      <td>925</td>\n    </tr>\n    <tr>\n      <th>3</th>\n      <td>Mission</td>\n      <td>Graffiti on Sidewalk_in_front_of_property</td>\n      <td>698</td>\n    </tr>\n    <tr>\n      <th>4</th>\n      <td>Mission</td>\n      <td>Graffiti on Building_commercial</td>\n      <td>544</td>\n    </tr>\n    <tr>\n      <th>5</th>\n      <td>Mission</td>\n      <td>Graffiti</td>\n      <td>524</td>\n    </tr>\n    <tr>\n      <th>6</th>\n      <td>Silver Terrace</td>\n      <td>General Cleaning</td>\n      <td>507</td>\n    </tr>\n    <tr>\n      <th>7</th>\n      <td></td>\n      <td>MUNI - Services_Service_Delivery_Facilities</td>\n      <td>402</td>\n    </tr>\n    <tr>\n      <th>8</th>\n      <td>Mission</td>\n      <td>Graffiti on News_rack</td>\n      <td>385</td>\n    </tr>\n    <tr>\n      <th>9</th>\n      <td>Mission</td>\n      <td>General Cleaning</td>\n      <td>322</td>\n    </tr>\n    <tr>\n      <th>10</th>\n      <td>Bayview</td>\n      <td>General Cleaning</td>\n      <td>311</td>\n    </tr>\n    <tr>\n      <th>11</th>\n      <td>Mission</td>\n      <td>request_for_service</td>\n      <td>289</td>\n    </tr>\n    <tr>\n      <th>12</th>\n      <td></td>\n      <td>Sidewalk_Defect</td>\n      <td>260</td>\n    </tr>\n    <tr>\n      <th>13</th>\n      <td>Mission Dolores</td>\n      <td>Park - Structural_Maintenance</td>\n      <td>260</td>\n    </tr>\n    <tr>\n      <th>14</th>\n      <td>Central Waterfront</td>\n      <td>Abandoned Vehicle - Other</td>\n      <td>243</td>\n    </tr>\n    <tr>\n      <th>15</th>\n      <td>Mission</td>\n      <td>Human Waste</td>\n      <td>229</td>\n    </tr>\n    <tr>\n      <th>16</th>\n      <td>Mission</td>\n      <td>Graffiti on Signal_box</td>\n      <td>198</td>\n    </tr>\n    <tr>\n      <th>17</th>\n      <td>South of Market</td>\n      <td>General Cleaning</td>\n      <td>190</td>\n    </tr>\n    <tr>\n      <th>18</th>\n      <td>South of Market</td>\n      <td>Bulky Items</td>\n      <td>184</td>\n    </tr>\n    <tr>\n      <th>19</th>\n      <td>Mission</td>\n      <td>Sign - Defaced</td>\n      <td>179</td>\n    </tr>\n    <tr>\n      <th>20</th>\n      <td>Mission Dolores</td>\n      <td>Graffiti on Pole</td>\n      <td>168</td>\n    </tr>\n    <tr>\n      <th>21</th>\n      <td>Lower Nob Hill</td>\n      <td>General Cleaning</td>\n      <td>166</td>\n    </tr>\n    <tr>\n      <th>22</th>\n      <td>Mission</td>\n      <td>Graffiti on Building_residential</td>\n      <td>162</td>\n    </tr>\n    <tr>\n      <th>23</th>\n      <td>Silver Terrace</td>\n      <td>Bulky Items</td>\n      <td>159</td>\n    </tr>\n    <tr>\n      <th>24</th>\n      <td>South of Market</td>\n      <td>request_for_service</td>\n      <td>151</td>\n    </tr>\n    <tr>\n      <th>25</th>\n      <td>Mission</td>\n      <td>Bulky Items</td>\n      <td>151</td>\n    </tr>\n    <tr>\n      <th>26</th>\n      <td>Mission Dolores</td>\n      <td>Graffiti on Parking_meter</td>\n      <td>151</td>\n    </tr>\n    <tr>\n      <th>27</th>\n      <td>Mission Dolores</td>\n      <td>Graffiti</td>\n      <td>150</td>\n    </tr>\n    <tr>\n      <th>28</th>\n      <td>Mission</td>\n      <td>Illegal Postings - Multiple_Postings</td>\n      <td>144</td>\n    </tr>\n    <tr>\n      <th>29</th>\n      <td>Portola</td>\n      <td>General Cleaning</td>\n      <td>142</td>\n    </tr>\n  </tbody>\n</table>\n</div>"
          },
          "metadata": {}
        }
      ]
    },
    {
      "metadata": {
        "_uuid": "ef06f0f96cdffd2af224c796a423304f914d7da9",
        "_cell_guid": "e53dbcf0-eaba-474f-b83c-fa7fc5e69a81"
      },
      "cell_type": "markdown",
      "source": "What are the most complained about Muni stops in San Francisco?\n"
    },
    {
      "metadata": {
        "_uuid": "77d0841a15c7675c6e2506e02762ed6892629d59",
        "_cell_guid": "f9ea65cb-a34a-4e54-b7dd-8eb964aba953",
        "trusted": true
      },
      "cell_type": "code",
      "source": "query2 = \"\"\"SELECT\n  descriptor,\n  incident_address,\n  COUNT(*) AS total_count\nFROM\n  `bigquery-public-data.san_francisco.311_service_requests`\nWHERE\n  category = \"MUNI Feedback\" AND incident_address != \"Not associated with a specific address\"\nGROUP BY\n  incident_address,\n  descriptor\nORDER BY\n  total_count DESC\nLIMIT 10;\n        \"\"\"\nresponse2 = sf.query_to_pandas_safe(query2)\nresponse2.head(10)",
      "execution_count": 7,
      "outputs": [
        {
          "output_type": "execute_result",
          "execution_count": 7,
          "data": {
            "text/plain": "                                descriptor  \\\n0  201_Pass_Up_Did_Not_Wait_for_Transferee   \n1  201_Pass_Up_Did_Not_Wait_for_Transferee   \n2                        601_Delay_No_Show   \n3                        601_Delay_No_Show   \n4                        601_Delay_No_Show   \n5  201_Pass_Up_Did_Not_Wait_for_Transferee   \n6                        601_Delay_No_Show   \n7  201_Pass_Up_Did_Not_Wait_for_Transferee   \n8              301_Discourtesy_to_Customer   \n9              301_Discourtesy_to_Customer   \n\n                           incident_address  total_count  \n0    Intersection of 16TH ST and MISSION ST           87  \n1    Intersection of 24TH ST and MISSION ST           87  \n2    Intersection of BEALE ST and FOLSOM ST           78  \n3      Intersection of PINE ST and DAVIS ST           66  \n4      Intersection of DAVIS ST and PINE ST           65  \n5      Intersection of 5TH ST and MARKET ST           58  \n6  Intersection of SUTTER ST and SANSOME ST           54  \n7      Intersection of MARKET ST and 5TH ST           52  \n8    Intersection of 16TH ST and MISSION ST           51  \n9   Intersection of POWELL ST and MARKET ST           51  ",
            "text/html": "<div>\n<style scoped>\n    .dataframe tbody tr th:only-of-type {\n        vertical-align: middle;\n    }\n\n    .dataframe tbody tr th {\n        vertical-align: top;\n    }\n\n    .dataframe thead th {\n        text-align: right;\n    }\n</style>\n<table border=\"1\" class=\"dataframe\">\n  <thead>\n    <tr style=\"text-align: right;\">\n      <th></th>\n      <th>descriptor</th>\n      <th>incident_address</th>\n      <th>total_count</th>\n    </tr>\n  </thead>\n  <tbody>\n    <tr>\n      <th>0</th>\n      <td>201_Pass_Up_Did_Not_Wait_for_Transferee</td>\n      <td>Intersection of 16TH ST and MISSION ST</td>\n      <td>87</td>\n    </tr>\n    <tr>\n      <th>1</th>\n      <td>201_Pass_Up_Did_Not_Wait_for_Transferee</td>\n      <td>Intersection of 24TH ST and MISSION ST</td>\n      <td>87</td>\n    </tr>\n    <tr>\n      <th>2</th>\n      <td>601_Delay_No_Show</td>\n      <td>Intersection of BEALE ST and FOLSOM ST</td>\n      <td>78</td>\n    </tr>\n    <tr>\n      <th>3</th>\n      <td>601_Delay_No_Show</td>\n      <td>Intersection of PINE ST and DAVIS ST</td>\n      <td>66</td>\n    </tr>\n    <tr>\n      <th>4</th>\n      <td>601_Delay_No_Show</td>\n      <td>Intersection of DAVIS ST and PINE ST</td>\n      <td>65</td>\n    </tr>\n    <tr>\n      <th>5</th>\n      <td>201_Pass_Up_Did_Not_Wait_for_Transferee</td>\n      <td>Intersection of 5TH ST and MARKET ST</td>\n      <td>58</td>\n    </tr>\n    <tr>\n      <th>6</th>\n      <td>601_Delay_No_Show</td>\n      <td>Intersection of SUTTER ST and SANSOME ST</td>\n      <td>54</td>\n    </tr>\n    <tr>\n      <th>7</th>\n      <td>201_Pass_Up_Did_Not_Wait_for_Transferee</td>\n      <td>Intersection of MARKET ST and 5TH ST</td>\n      <td>52</td>\n    </tr>\n    <tr>\n      <th>8</th>\n      <td>301_Discourtesy_to_Customer</td>\n      <td>Intersection of 16TH ST and MISSION ST</td>\n      <td>51</td>\n    </tr>\n    <tr>\n      <th>9</th>\n      <td>301_Discourtesy_to_Customer</td>\n      <td>Intersection of POWELL ST and MARKET ST</td>\n      <td>51</td>\n    </tr>\n  </tbody>\n</table>\n</div>"
          },
          "metadata": {}
        }
      ]
    },
    {
      "metadata": {
        "_uuid": "03b7f712e458da8be3ad91b4a96b7dad4f282e3b",
        "_cell_guid": "e5ea144c-7388-4dbd-99ce-c144d75855a4"
      },
      "cell_type": "markdown",
      "source": "What are the top 10 incident types that the San Francisco Fire Department responds to?\n"
    },
    {
      "metadata": {
        "_uuid": "d597435820237905733ce8d5897a29f34af22dd7",
        "_cell_guid": "44cacead-3add-4047-bb10-b5f705b99656",
        "trusted": true
      },
      "cell_type": "code",
      "source": "query3 = \"\"\"SELECT\n  call_type,\n  COUNT(*) AS call_type_count\nFROM\n  `bigquery-public-data.san_francisco.sffd_service_calls`\nWHERE\n  call_type != ''\nGROUP BY\n  call_type\nORDER BY\n  call_type_count DESC\nLIMIT\n  10;\n        \"\"\"\nresponse3 = sf.query_to_pandas_safe(query3, max_gb_scanned=10)\nresponse3.head(10)",
      "execution_count": 8,
      "outputs": [
        {
          "output_type": "execute_result",
          "execution_count": 8,
          "data": {
            "text/plain": "                         call_type  call_type_count\n0                 Medical Incident          2950934\n1                   Structure Fire           605663\n2                           Alarms           486984\n3                Traffic Collision           186443\n4                            Other            73508\n5    Citizen Assist / Service Call            68976\n6                     Outside Fire            53177\n7                     Vehicle Fire            22318\n8                     Water Rescue            21721\n9  Gas Leak (Natural and LP Gases)            16889",
            "text/html": "<div>\n<style scoped>\n    .dataframe tbody tr th:only-of-type {\n        vertical-align: middle;\n    }\n\n    .dataframe tbody tr th {\n        vertical-align: top;\n    }\n\n    .dataframe thead th {\n        text-align: right;\n    }\n</style>\n<table border=\"1\" class=\"dataframe\">\n  <thead>\n    <tr style=\"text-align: right;\">\n      <th></th>\n      <th>call_type</th>\n      <th>call_type_count</th>\n    </tr>\n  </thead>\n  <tbody>\n    <tr>\n      <th>0</th>\n      <td>Medical Incident</td>\n      <td>2950934</td>\n    </tr>\n    <tr>\n      <th>1</th>\n      <td>Structure Fire</td>\n      <td>605663</td>\n    </tr>\n    <tr>\n      <th>2</th>\n      <td>Alarms</td>\n      <td>486984</td>\n    </tr>\n    <tr>\n      <th>3</th>\n      <td>Traffic Collision</td>\n      <td>186443</td>\n    </tr>\n    <tr>\n      <th>4</th>\n      <td>Other</td>\n      <td>73508</td>\n    </tr>\n    <tr>\n      <th>5</th>\n      <td>Citizen Assist / Service Call</td>\n      <td>68976</td>\n    </tr>\n    <tr>\n      <th>6</th>\n      <td>Outside Fire</td>\n      <td>53177</td>\n    </tr>\n    <tr>\n      <th>7</th>\n      <td>Vehicle Fire</td>\n      <td>22318</td>\n    </tr>\n    <tr>\n      <th>8</th>\n      <td>Water Rescue</td>\n      <td>21721</td>\n    </tr>\n    <tr>\n      <th>9</th>\n      <td>Gas Leak (Natural and LP Gases)</td>\n      <td>16889</td>\n    </tr>\n  </tbody>\n</table>\n</div>"
          },
          "metadata": {}
        }
      ]
    },
    {
      "metadata": {
        "_uuid": "a6ebb013cab63d0cdfe6d143cf73c4fab12100a0",
        "_cell_guid": "83b06213-432d-4d7e-ac24-bef63386acc4"
      },
      "cell_type": "markdown",
      "source": "How many medical incidents and structure fires are there in each neighborhood?\n"
    },
    {
      "metadata": {
        "_uuid": "0b33abdf5a72f7402dafcfc1a55c4ee10fd127fe",
        "_cell_guid": "2a9e0d55-46c3-47af-8059-20365f8dd0ac",
        "trusted": true
      },
      "cell_type": "code",
      "source": "query4 = \"\"\"SELECT\n  neighborhood_district,\n  COUNTIF(call_type = \"Medical Incident\") AS medical_incident_count,\n  COUNTIF(call_type = \"Structure Fire\") AS structure_fire_count,\n  Count(*) as total_count\nFROM\n  `bigquery-public-data.san_francisco.sffd_service_calls`\nGROUP BY\n  neighborhood_district\nORDER BY\n  total_count DESC;\n        \"\"\"\nresponse4 = sf.query_to_pandas_safe(query4, max_gb_scanned=10)\nresponse4.head(10)",
      "execution_count": 9,
      "outputs": [
        {
          "output_type": "execute_result",
          "execution_count": 9,
          "data": {
            "text/plain": "  neighborhood_district  medical_incident_count  structure_fire_count  \\\n0                                       2950934                605663   \n\n   total_count  \n0      4557045  ",
            "text/html": "<div>\n<style scoped>\n    .dataframe tbody tr th:only-of-type {\n        vertical-align: middle;\n    }\n\n    .dataframe tbody tr th {\n        vertical-align: top;\n    }\n\n    .dataframe thead th {\n        text-align: right;\n    }\n</style>\n<table border=\"1\" class=\"dataframe\">\n  <thead>\n    <tr style=\"text-align: right;\">\n      <th></th>\n      <th>neighborhood_district</th>\n      <th>medical_incident_count</th>\n      <th>structure_fire_count</th>\n      <th>total_count</th>\n    </tr>\n  </thead>\n  <tbody>\n    <tr>\n      <th>0</th>\n      <td></td>\n      <td>2950934</td>\n      <td>605663</td>\n      <td>4557045</td>\n    </tr>\n  </tbody>\n</table>\n</div>"
          },
          "metadata": {}
        }
      ]
    },
    {
      "metadata": {
        "_uuid": "2d8a60bbdbe712de28cee08f4491212da8762120",
        "_cell_guid": "cdb581ff-0953-4d94-82b0-870974db1cc2"
      },
      "cell_type": "markdown",
      "source": "What’s the average response time for each type of dispatched vehicle?\n"
    },
    {
      "metadata": {
        "_uuid": "11d8711fa6b7a7a86aefeebce3b220c90d140c1e",
        "_cell_guid": "6eff27c3-6392-43a0-aa7f-ba7871b1e641",
        "trusted": true
      },
      "cell_type": "code",
      "source": "query5 = \"\"\"SELECT\n  unit_type,\n  ROUND(AVG(TIMESTAMP_DIFF(on_scene_timestamp, received_timestamp, MINUTE)), 2)\n    as latency,\n  Count(*) as total_count\nFROM\n  `bigquery-public-data.san_francisco.sffd_service_calls`\nWHERE\n  EXTRACT(DATE from received_timestamp) = EXTRACT(DATE from on_scene_timestamp)\nGROUP BY\n  unit_type\nORDER BY\n  latency ASC;\n        \"\"\"\nresponse5 = sf.query_to_pandas_safe(query5, max_gb_scanned=10)\nresponse5.head(10)",
      "execution_count": 10,
      "outputs": [
        {
          "output_type": "execute_result",
          "execution_count": 10,
          "data": {
            "text/plain": "        unit_type  latency  total_count\n0          ENGINE     5.94      1424301\n1           TRUCK     6.73       285438\n2    RESCUE SQUAD     7.09        36655\n3           CHIEF     7.66       220663\n4           MEDIC     9.84      1166177\n5  RESCUE CAPTAIN    10.82       100376\n6         PRIVATE    10.95       229565\n7         AIRPORT    11.40         9717\n8         SUPPORT    30.01         6997\n9   INVESTIGATION    40.89         3929",
            "text/html": "<div>\n<style scoped>\n    .dataframe tbody tr th:only-of-type {\n        vertical-align: middle;\n    }\n\n    .dataframe tbody tr th {\n        vertical-align: top;\n    }\n\n    .dataframe thead th {\n        text-align: right;\n    }\n</style>\n<table border=\"1\" class=\"dataframe\">\n  <thead>\n    <tr style=\"text-align: right;\">\n      <th></th>\n      <th>unit_type</th>\n      <th>latency</th>\n      <th>total_count</th>\n    </tr>\n  </thead>\n  <tbody>\n    <tr>\n      <th>0</th>\n      <td>ENGINE</td>\n      <td>5.94</td>\n      <td>1424301</td>\n    </tr>\n    <tr>\n      <th>1</th>\n      <td>TRUCK</td>\n      <td>6.73</td>\n      <td>285438</td>\n    </tr>\n    <tr>\n      <th>2</th>\n      <td>RESCUE SQUAD</td>\n      <td>7.09</td>\n      <td>36655</td>\n    </tr>\n    <tr>\n      <th>3</th>\n      <td>CHIEF</td>\n      <td>7.66</td>\n      <td>220663</td>\n    </tr>\n    <tr>\n      <th>4</th>\n      <td>MEDIC</td>\n      <td>9.84</td>\n      <td>1166177</td>\n    </tr>\n    <tr>\n      <th>5</th>\n      <td>RESCUE CAPTAIN</td>\n      <td>10.82</td>\n      <td>100376</td>\n    </tr>\n    <tr>\n      <th>6</th>\n      <td>PRIVATE</td>\n      <td>10.95</td>\n      <td>229565</td>\n    </tr>\n    <tr>\n      <th>7</th>\n      <td>AIRPORT</td>\n      <td>11.40</td>\n      <td>9717</td>\n    </tr>\n    <tr>\n      <th>8</th>\n      <td>SUPPORT</td>\n      <td>30.01</td>\n      <td>6997</td>\n    </tr>\n    <tr>\n      <th>9</th>\n      <td>INVESTIGATION</td>\n      <td>40.89</td>\n      <td>3929</td>\n    </tr>\n  </tbody>\n</table>\n</div>"
          },
          "metadata": {}
        }
      ]
    },
    {
      "metadata": {
        "_uuid": "25e7c58167a811ae7d82ce761e4610775e8d60e8",
        "_cell_guid": "cd5d7d75-0990-4b96-81b8-b4d4c9e7158e"
      },
      "cell_type": "markdown",
      "source": "Which category of police incidents have historically been the most common in San Francisco?\n"
    },
    {
      "metadata": {
        "_uuid": "ca77a41314f8135fa09786d8b974a3e9ac4c142f",
        "_cell_guid": "a6326acc-a8f9-4ff4-917f-785bda6ce23e",
        "trusted": true
      },
      "cell_type": "code",
      "source": "query6 = \"\"\"SELECT\n  category,\n  count(*) as incident_count\nFROM\n  `bigquery-public-data.san_francisco.sfpd_incidents`\nGROUP BY\n  category\nORDER BY\n  incident_count DESC\nLIMIT\n  10;\n        \"\"\"\nresponse6 = sf.query_to_pandas_safe(query6, max_gb_scanned=10)\nresponse6.head(10)",
      "execution_count": 11,
      "outputs": [
        {
          "output_type": "execute_result",
          "execution_count": 11,
          "data": {
            "text/plain": "         category  incident_count\n0   LARCENY/THEFT          467657\n1  OTHER OFFENSES          304042\n2    NON-CRIMINAL          233323\n3         ASSAULT          190394\n4   VEHICLE THEFT          125209\n5   DRUG/NARCOTIC          118260\n6       VANDALISM          113436\n7        WARRANTS           99799\n8        BURGLARY           89528\n9  SUSPICIOUS OCC           78823",
            "text/html": "<div>\n<style scoped>\n    .dataframe tbody tr th:only-of-type {\n        vertical-align: middle;\n    }\n\n    .dataframe tbody tr th {\n        vertical-align: top;\n    }\n\n    .dataframe thead th {\n        text-align: right;\n    }\n</style>\n<table border=\"1\" class=\"dataframe\">\n  <thead>\n    <tr style=\"text-align: right;\">\n      <th></th>\n      <th>category</th>\n      <th>incident_count</th>\n    </tr>\n  </thead>\n  <tbody>\n    <tr>\n      <th>0</th>\n      <td>LARCENY/THEFT</td>\n      <td>467657</td>\n    </tr>\n    <tr>\n      <th>1</th>\n      <td>OTHER OFFENSES</td>\n      <td>304042</td>\n    </tr>\n    <tr>\n      <th>2</th>\n      <td>NON-CRIMINAL</td>\n      <td>233323</td>\n    </tr>\n    <tr>\n      <th>3</th>\n      <td>ASSAULT</td>\n      <td>190394</td>\n    </tr>\n    <tr>\n      <th>4</th>\n      <td>VEHICLE THEFT</td>\n      <td>125209</td>\n    </tr>\n    <tr>\n      <th>5</th>\n      <td>DRUG/NARCOTIC</td>\n      <td>118260</td>\n    </tr>\n    <tr>\n      <th>6</th>\n      <td>VANDALISM</td>\n      <td>113436</td>\n    </tr>\n    <tr>\n      <th>7</th>\n      <td>WARRANTS</td>\n      <td>99799</td>\n    </tr>\n    <tr>\n      <th>8</th>\n      <td>BURGLARY</td>\n      <td>89528</td>\n    </tr>\n    <tr>\n      <th>9</th>\n      <td>SUSPICIOUS OCC</td>\n      <td>78823</td>\n    </tr>\n  </tbody>\n</table>\n</div>"
          },
          "metadata": {}
        }
      ]
    },
    {
      "metadata": {
        "_uuid": "c375d8e21bd7267bacc673f38c6bd82d37a8979e",
        "_cell_guid": "84772a8b-51d2-40be-b85e-e3c59b0d0609"
      },
      "cell_type": "markdown",
      "source": "What were the most common police incidents in the category of LARCENY/THEFT in 2016?\n"
    },
    {
      "metadata": {
        "_uuid": "615ec50178e595fc1c33d226ad608c35565747a6",
        "_cell_guid": "2b8ee561-c657-47ae-adf0-770b1e0d26de",
        "trusted": true
      },
      "cell_type": "code",
      "source": "query7 = \"\"\"SELECT\n  descript,\n  COUNT(*) AS incident_count_2016\nFROM\n  `bigquery-public-data.san_francisco.sfpd_incidents`\nWHERE\n  category=\"LARCENY/THEFT\"\n  AND EXTRACT(YEAR FROM timestamp) = 2016\nGROUP BY\n  descript\nORDER BY\n  incident_count_2016 DESC\nLIMIT\n  10;\n        \"\"\"\nresponse7 = sf.query_to_pandas_safe(query7, max_gb_scanned=10)\nresponse7.head(10)",
      "execution_count": 12,
      "outputs": [
        {
          "output_type": "execute_result",
          "execution_count": 12,
          "data": {
            "text/plain": "                         descript  incident_count_2016\n0    GRAND THEFT FROM LOCKED AUTO                17752\n1         PETTY THEFT OF PROPERTY                 4425\n2    PETTY THEFT FROM LOCKED AUTO                 3995\n3         GRAND THEFT OF PROPERTY                 2206\n4  GRAND THEFT FROM UNLOCKED AUTO                 1919\n5     PETTY THEFT FROM A BUILDING                 1863\n6         PETTY THEFT SHOPLIFTING                 1701\n7         GRAND THEFT FROM PERSON                 1459\n8     GRAND THEFT FROM A BUILDING                 1115\n9          GRAND THEFT PICKPOCKET                  840",
            "text/html": "<div>\n<style scoped>\n    .dataframe tbody tr th:only-of-type {\n        vertical-align: middle;\n    }\n\n    .dataframe tbody tr th {\n        vertical-align: top;\n    }\n\n    .dataframe thead th {\n        text-align: right;\n    }\n</style>\n<table border=\"1\" class=\"dataframe\">\n  <thead>\n    <tr style=\"text-align: right;\">\n      <th></th>\n      <th>descript</th>\n      <th>incident_count_2016</th>\n    </tr>\n  </thead>\n  <tbody>\n    <tr>\n      <th>0</th>\n      <td>GRAND THEFT FROM LOCKED AUTO</td>\n      <td>17752</td>\n    </tr>\n    <tr>\n      <th>1</th>\n      <td>PETTY THEFT OF PROPERTY</td>\n      <td>4425</td>\n    </tr>\n    <tr>\n      <th>2</th>\n      <td>PETTY THEFT FROM LOCKED AUTO</td>\n      <td>3995</td>\n    </tr>\n    <tr>\n      <th>3</th>\n      <td>GRAND THEFT OF PROPERTY</td>\n      <td>2206</td>\n    </tr>\n    <tr>\n      <th>4</th>\n      <td>GRAND THEFT FROM UNLOCKED AUTO</td>\n      <td>1919</td>\n    </tr>\n    <tr>\n      <th>5</th>\n      <td>PETTY THEFT FROM A BUILDING</td>\n      <td>1863</td>\n    </tr>\n    <tr>\n      <th>6</th>\n      <td>PETTY THEFT SHOPLIFTING</td>\n      <td>1701</td>\n    </tr>\n    <tr>\n      <th>7</th>\n      <td>GRAND THEFT FROM PERSON</td>\n      <td>1459</td>\n    </tr>\n    <tr>\n      <th>8</th>\n      <td>GRAND THEFT FROM A BUILDING</td>\n      <td>1115</td>\n    </tr>\n    <tr>\n      <th>9</th>\n      <td>GRAND THEFT PICKPOCKET</td>\n      <td>840</td>\n    </tr>\n  </tbody>\n</table>\n</div>"
          },
          "metadata": {}
        }
      ]
    },
    {
      "metadata": {
        "_uuid": "284d9e2c108f4005bfca8e3731dc286442c7f156",
        "_cell_guid": "fc4b7d8d-8ebc-4d18-90da-17e3dc489843"
      },
      "cell_type": "markdown",
      "source": "Which non-criminal incidents saw the biggest reporting change from 2015 to 2016?\n"
    },
    {
      "metadata": {
        "_uuid": "5cec78f91012e18732fb1b9c0b6c2d5bab59656a",
        "_cell_guid": "588bb2ce-24d9-4dee-8619-7ab6095997e6",
        "trusted": true
      },
      "cell_type": "code",
      "source": "query8 = \"\"\"SELECT\n  descript,\n  COUNTIF(EXTRACT(YEAR FROM timestamp) = 2016) -\n  COUNTIF(EXTRACT(YEAR FROM timestamp) = 2015) AS yoy_change,\n  COUNTIF(EXTRACT(YEAR FROM timestamp) = 2016) AS count_2016\nFROM\n  `bigquery-public-data.san_francisco.sfpd_incidents`\nWHERE\n  category != \"NON-CRIMINAL\"\nGROUP BY\n  descript\nORDER BY\n  ABS(yoy_change) DESC\nLIMIT\n  10;\n        \"\"\"\nresponse8 = sf.query_to_pandas_safe(query8, max_gb_scanned=10)\nresponse8.head(10)",
      "execution_count": 13,
      "outputs": [
        {
          "output_type": "execute_result",
          "execution_count": 13,
          "data": {
            "text/plain": "                                descript  yoy_change  count_2016\n0  DRIVERS LICENSE, SUSPENDED OR REVOKED       -1433        3376\n1                      STOLEN AUTOMOBILE       -1387        3603\n2          MALICIOUS MISCHIEF, VANDALISM         976        4267\n3         GRAND THEFT FROM UNLOCKED AUTO        -861        1919\n4                         WARRANT ARREST        -846        3145\n5                      TRAFFIC VIOLATION         496        1820\n6               TRAFFIC VIOLATION ARREST         460        2238\n7                                BATTERY         312        4216\n8           CREDIT CARD, THEFT BY USE OF        -307        1375\n9           PETTY THEFT FROM LOCKED AUTO        -305        3995",
            "text/html": "<div>\n<style scoped>\n    .dataframe tbody tr th:only-of-type {\n        vertical-align: middle;\n    }\n\n    .dataframe tbody tr th {\n        vertical-align: top;\n    }\n\n    .dataframe thead th {\n        text-align: right;\n    }\n</style>\n<table border=\"1\" class=\"dataframe\">\n  <thead>\n    <tr style=\"text-align: right;\">\n      <th></th>\n      <th>descript</th>\n      <th>yoy_change</th>\n      <th>count_2016</th>\n    </tr>\n  </thead>\n  <tbody>\n    <tr>\n      <th>0</th>\n      <td>DRIVERS LICENSE, SUSPENDED OR REVOKED</td>\n      <td>-1433</td>\n      <td>3376</td>\n    </tr>\n    <tr>\n      <th>1</th>\n      <td>STOLEN AUTOMOBILE</td>\n      <td>-1387</td>\n      <td>3603</td>\n    </tr>\n    <tr>\n      <th>2</th>\n      <td>MALICIOUS MISCHIEF, VANDALISM</td>\n      <td>976</td>\n      <td>4267</td>\n    </tr>\n    <tr>\n      <th>3</th>\n      <td>GRAND THEFT FROM UNLOCKED AUTO</td>\n      <td>-861</td>\n      <td>1919</td>\n    </tr>\n    <tr>\n      <th>4</th>\n      <td>WARRANT ARREST</td>\n      <td>-846</td>\n      <td>3145</td>\n    </tr>\n    <tr>\n      <th>5</th>\n      <td>TRAFFIC VIOLATION</td>\n      <td>496</td>\n      <td>1820</td>\n    </tr>\n    <tr>\n      <th>6</th>\n      <td>TRAFFIC VIOLATION ARREST</td>\n      <td>460</td>\n      <td>2238</td>\n    </tr>\n    <tr>\n      <th>7</th>\n      <td>BATTERY</td>\n      <td>312</td>\n      <td>4216</td>\n    </tr>\n    <tr>\n      <th>8</th>\n      <td>CREDIT CARD, THEFT BY USE OF</td>\n      <td>-307</td>\n      <td>1375</td>\n    </tr>\n    <tr>\n      <th>9</th>\n      <td>PETTY THEFT FROM LOCKED AUTO</td>\n      <td>-305</td>\n      <td>3995</td>\n    </tr>\n  </tbody>\n</table>\n</div>"
          },
          "metadata": {}
        }
      ]
    },
    {
      "metadata": {
        "_uuid": "ac477d0c8f8245b96adbc765e875a6f9ba1f9720",
        "_cell_guid": "5ad3e000-9255-479d-b040-daaa9e662ff6"
      },
      "cell_type": "markdown",
      "source": "What is the diameter of the average tree in the city of San Francisco?\n"
    },
    {
      "metadata": {
        "_uuid": "d49d63cba8d8d15924dd71ee2bfbc628af0021f0",
        "_cell_guid": "1cc08bd4-c1cb-4294-8658-96a12aacd322",
        "trusted": true
      },
      "cell_type": "code",
      "source": "query9 = \"\"\"SELECT\n  ROUND(AVG(CAST(dbh as FLOAT64)), 2) as avg_width\nFROM\n  `bigquery-public-data.san_francisco.street_trees`\nWHERE dbh != \"\";\n        \"\"\"\nresponse9 = sf.query_to_pandas_safe(query9, max_gb_scanned=10)\nresponse9.head(10)",
      "execution_count": 14,
      "outputs": [
        {
          "output_type": "execute_result",
          "execution_count": 14,
          "data": {
            "text/plain": "   avg_width\n0      10.07",
            "text/html": "<div>\n<style scoped>\n    .dataframe tbody tr th:only-of-type {\n        vertical-align: middle;\n    }\n\n    .dataframe tbody tr th {\n        vertical-align: top;\n    }\n\n    .dataframe thead th {\n        text-align: right;\n    }\n</style>\n<table border=\"1\" class=\"dataframe\">\n  <thead>\n    <tr style=\"text-align: right;\">\n      <th></th>\n      <th>avg_width</th>\n    </tr>\n  </thead>\n  <tbody>\n    <tr>\n      <th>0</th>\n      <td>10.07</td>\n    </tr>\n  </tbody>\n</table>\n</div>"
          },
          "metadata": {}
        }
      ]
    },
    {
      "metadata": {
        "_uuid": "6be14c7162827175d6cfda954255720b11d44e0a",
        "_cell_guid": "bf0f262a-6ae4-4734-8bca-4abe051db48a"
      },
      "cell_type": "markdown",
      "source": "What is the largest number of a particular species of tree planted in a single year?\n"
    },
    {
      "metadata": {
        "_uuid": "687dd97f73dc65ca0a92f814a535cc931be3e24c",
        "_cell_guid": "7b262ff0-ecd5-401a-967c-cdf8675db274",
        "trusted": true
      },
      "cell_type": "code",
      "source": "query10 = \"\"\"SELECT\n  EXTRACT(YEAR from plant_date) as plantdate,\n  species,\n  COUNT(*) as count\nFROM\n  `bigquery-public-data.san_francisco.street_trees`\nWHERE\n  plant_date IS NOT null AND\n  species != \"Tree(s) ::\"\nGROUP BY\n  plantdate, species\nORDER BY\n  count desc\nLIMIT 10;\n        \"\"\"\nresponse10 = sf.query_to_pandas_safe(query10, max_gb_scanned=10)\nresponse10.head(10)",
      "execution_count": 15,
      "outputs": [
        {
          "output_type": "execute_result",
          "execution_count": 15,
          "data": {
            "text/plain": "   plantdate                                     species  count\n0       2008  Arbutus 'Marina' :: Hybrid Strawberry Tree    497\n1       2008       Tristaniopsis laurina :: Swamp Myrtle    403\n2       1998  Arbutus 'Marina' :: Hybrid Strawberry Tree    323\n3       1998       Tristaniopsis laurina :: Swamp Myrtle    318\n4       1995       Lophostemon confertus :: Brisbane Box    307\n5       2000            Prunus cerasifera :: Cherry Plum    291\n6       1995       Tristaniopsis laurina :: Swamp Myrtle    268\n7       1998            Prunus cerasifera :: Cherry Plum    251\n8       2006       Tristaniopsis laurina :: Swamp Myrtle    242\n9       2005       Lophostemon confertus :: Brisbane Box    233",
            "text/html": "<div>\n<style scoped>\n    .dataframe tbody tr th:only-of-type {\n        vertical-align: middle;\n    }\n\n    .dataframe tbody tr th {\n        vertical-align: top;\n    }\n\n    .dataframe thead th {\n        text-align: right;\n    }\n</style>\n<table border=\"1\" class=\"dataframe\">\n  <thead>\n    <tr style=\"text-align: right;\">\n      <th></th>\n      <th>plantdate</th>\n      <th>species</th>\n      <th>count</th>\n    </tr>\n  </thead>\n  <tbody>\n    <tr>\n      <th>0</th>\n      <td>2008</td>\n      <td>Arbutus 'Marina' :: Hybrid Strawberry Tree</td>\n      <td>497</td>\n    </tr>\n    <tr>\n      <th>1</th>\n      <td>2008</td>\n      <td>Tristaniopsis laurina :: Swamp Myrtle</td>\n      <td>403</td>\n    </tr>\n    <tr>\n      <th>2</th>\n      <td>1998</td>\n      <td>Arbutus 'Marina' :: Hybrid Strawberry Tree</td>\n      <td>323</td>\n    </tr>\n    <tr>\n      <th>3</th>\n      <td>1998</td>\n      <td>Tristaniopsis laurina :: Swamp Myrtle</td>\n      <td>318</td>\n    </tr>\n    <tr>\n      <th>4</th>\n      <td>1995</td>\n      <td>Lophostemon confertus :: Brisbane Box</td>\n      <td>307</td>\n    </tr>\n    <tr>\n      <th>5</th>\n      <td>2000</td>\n      <td>Prunus cerasifera :: Cherry Plum</td>\n      <td>291</td>\n    </tr>\n    <tr>\n      <th>6</th>\n      <td>1995</td>\n      <td>Tristaniopsis laurina :: Swamp Myrtle</td>\n      <td>268</td>\n    </tr>\n    <tr>\n      <th>7</th>\n      <td>1998</td>\n      <td>Prunus cerasifera :: Cherry Plum</td>\n      <td>251</td>\n    </tr>\n    <tr>\n      <th>8</th>\n      <td>2006</td>\n      <td>Tristaniopsis laurina :: Swamp Myrtle</td>\n      <td>242</td>\n    </tr>\n    <tr>\n      <th>9</th>\n      <td>2005</td>\n      <td>Lophostemon confertus :: Brisbane Box</td>\n      <td>233</td>\n    </tr>\n  </tbody>\n</table>\n</div>"
          },
          "metadata": {}
        }
      ]
    },
    {
      "metadata": {
        "_uuid": "64285bdd624020d26133218dfd5d53cb4d4b7816",
        "_cell_guid": "0cc08287-a893-4fe2-9bba-28618dc17df2"
      },
      "cell_type": "markdown",
      "source": "Which San Francisco locations feature the largest number of trees?\n"
    },
    {
      "metadata": {
        "_uuid": "c2c17cb5c31b693cdc64fdac28dd53abbb7312fa",
        "_cell_guid": "14132b12-7d9b-473e-984d-74f1c9f46daf",
        "trusted": true
      },
      "cell_type": "code",
      "source": "query11 = \"\"\"SELECT\n  latitude,\n  longitude,\n  COUNT(*) AS count\nFROM\n  `bigquery-public-data.san_francisco.street_trees`\nWHERE latitude IS NOT null AND longitude IS NOT null\nGROUP BY\n  latitude, longitude\nORDER BY\n  count DESC\nLIMIT\n  20;\n        \"\"\"\nresponse11 = sf.query_to_pandas_safe(query11, max_gb_scanned=10)\nresponse11.head(20)",
      "execution_count": 16,
      "outputs": [
        {
          "output_type": "execute_result",
          "execution_count": 16,
          "data": {
            "text/plain": "     latitude   longitude  count\n0   37.717092 -122.472662     59\n1   37.793335 -122.394213     50\n2   37.734135 -122.436707     49\n3   37.780607 -122.403939     48\n4   37.747866 -122.462344     47\n5   47.269987 -138.283670     45\n6   37.774807 -122.424087     43\n7   37.729326 -122.493386     43\n8   37.797653 -122.395986     40\n9   37.770360 -122.409820     40\n10  37.732525 -122.380424     39\n11  37.779315 -122.443750     37\n12  37.784688 -122.401029     35\n13  37.740004 -122.480761     35\n14  37.736021 -122.380276     33\n15  37.759222 -122.391467     33\n16  37.755626 -122.486258     33\n17  37.730294 -122.448768     33\n18  37.758918 -122.495588     33\n19  37.751687 -122.495273     33",
            "text/html": "<div>\n<style scoped>\n    .dataframe tbody tr th:only-of-type {\n        vertical-align: middle;\n    }\n\n    .dataframe tbody tr th {\n        vertical-align: top;\n    }\n\n    .dataframe thead th {\n        text-align: right;\n    }\n</style>\n<table border=\"1\" class=\"dataframe\">\n  <thead>\n    <tr style=\"text-align: right;\">\n      <th></th>\n      <th>latitude</th>\n      <th>longitude</th>\n      <th>count</th>\n    </tr>\n  </thead>\n  <tbody>\n    <tr>\n      <th>0</th>\n      <td>37.717092</td>\n      <td>-122.472662</td>\n      <td>59</td>\n    </tr>\n    <tr>\n      <th>1</th>\n      <td>37.793335</td>\n      <td>-122.394213</td>\n      <td>50</td>\n    </tr>\n    <tr>\n      <th>2</th>\n      <td>37.734135</td>\n      <td>-122.436707</td>\n      <td>49</td>\n    </tr>\n    <tr>\n      <th>3</th>\n      <td>37.780607</td>\n      <td>-122.403939</td>\n      <td>48</td>\n    </tr>\n    <tr>\n      <th>4</th>\n      <td>37.747866</td>\n      <td>-122.462344</td>\n      <td>47</td>\n    </tr>\n    <tr>\n      <th>5</th>\n      <td>47.269987</td>\n      <td>-138.283670</td>\n      <td>45</td>\n    </tr>\n    <tr>\n      <th>6</th>\n      <td>37.774807</td>\n      <td>-122.424087</td>\n      <td>43</td>\n    </tr>\n    <tr>\n      <th>7</th>\n      <td>37.729326</td>\n      <td>-122.493386</td>\n      <td>43</td>\n    </tr>\n    <tr>\n      <th>8</th>\n      <td>37.797653</td>\n      <td>-122.395986</td>\n      <td>40</td>\n    </tr>\n    <tr>\n      <th>9</th>\n      <td>37.770360</td>\n      <td>-122.409820</td>\n      <td>40</td>\n    </tr>\n    <tr>\n      <th>10</th>\n      <td>37.732525</td>\n      <td>-122.380424</td>\n      <td>39</td>\n    </tr>\n    <tr>\n      <th>11</th>\n      <td>37.779315</td>\n      <td>-122.443750</td>\n      <td>37</td>\n    </tr>\n    <tr>\n      <th>12</th>\n      <td>37.784688</td>\n      <td>-122.401029</td>\n      <td>35</td>\n    </tr>\n    <tr>\n      <th>13</th>\n      <td>37.740004</td>\n      <td>-122.480761</td>\n      <td>35</td>\n    </tr>\n    <tr>\n      <th>14</th>\n      <td>37.736021</td>\n      <td>-122.380276</td>\n      <td>33</td>\n    </tr>\n    <tr>\n      <th>15</th>\n      <td>37.759222</td>\n      <td>-122.391467</td>\n      <td>33</td>\n    </tr>\n    <tr>\n      <th>16</th>\n      <td>37.755626</td>\n      <td>-122.486258</td>\n      <td>33</td>\n    </tr>\n    <tr>\n      <th>17</th>\n      <td>37.730294</td>\n      <td>-122.448768</td>\n      <td>33</td>\n    </tr>\n    <tr>\n      <th>18</th>\n      <td>37.758918</td>\n      <td>-122.495588</td>\n      <td>33</td>\n    </tr>\n    <tr>\n      <th>19</th>\n      <td>37.751687</td>\n      <td>-122.495273</td>\n      <td>33</td>\n    </tr>\n  </tbody>\n</table>\n</div>"
          },
          "metadata": {}
        }
      ]
    },
    {
      "metadata": {
        "_uuid": "86f0e307577eff9ef5ab285c983c1750039ca2d9",
        "collapsed": true,
        "_cell_guid": "342f8e9a-0bf8-41f2-8407-1a3fba7b8cfb",
        "trusted": true
      },
      "cell_type": "code",
      "source": "",
      "execution_count": null,
      "outputs": []
    },
    {
      "metadata": {
        "_uuid": "ad10b1c05d0e581d282636bf24c10fe4eaa8cee0",
        "collapsed": true,
        "_cell_guid": "1791d542-1405-43b1-8d33-ff3ed858e51b",
        "trusted": true
      },
      "cell_type": "code",
      "source": "",
      "execution_count": null,
      "outputs": []
    },
    {
      "metadata": {
        "_uuid": "36e9a755cf8f842b269f04a28b01baf6ff639e40",
        "collapsed": true,
        "_cell_guid": "c67103a6-0a75-49e2-954c-5930630b0542",
        "trusted": true
      },
      "cell_type": "code",
      "source": "",
      "execution_count": null,
      "outputs": []
    },
    {
      "metadata": {
        "_uuid": "a9a04b28feffda218526dfe7b169cf02f32afa8f",
        "collapsed": true,
        "_cell_guid": "02c83af9-8969-4b16-b3ed-dfc64051d982",
        "trusted": true
      },
      "cell_type": "code",
      "source": "",
      "execution_count": null,
      "outputs": []
    },
    {
      "metadata": {
        "_uuid": "6adcf52a1ac99fe1e745dd61a798c4fb77c83972",
        "collapsed": true,
        "_cell_guid": "32bcc030-a469-4878-90ad-023a69e9a3ab",
        "trusted": true
      },
      "cell_type": "code",
      "source": "",
      "execution_count": null,
      "outputs": []
    },
    {
      "metadata": {
        "_uuid": "1345a12e674537d561627882cedf6415d0c01eb1",
        "collapsed": true,
        "_cell_guid": "55f0d524-3edb-4295-b213-b0df2f33c2e6",
        "trusted": true
      },
      "cell_type": "code",
      "source": "",
      "execution_count": null,
      "outputs": []
    },
    {
      "metadata": {
        "_uuid": "114de2809814a2bf49eb7a5f614f9eb3a738b417",
        "collapsed": true,
        "_cell_guid": "c68e21d9-4a6d-48cd-896b-43973df6ac1f",
        "trusted": true
      },
      "cell_type": "code",
      "source": "",
      "execution_count": null,
      "outputs": []
    },
    {
      "metadata": {
        "_uuid": "945f25db02b62ce9bf24e9682e390f8517068468",
        "collapsed": true,
        "_cell_guid": "e590c1a7-48f4-4db0-aae9-6f605d899fb3",
        "trusted": true
      },
      "cell_type": "code",
      "source": "",
      "execution_count": null,
      "outputs": []
    },
    {
      "metadata": {
        "_uuid": "ab8a7ebfd2b80918d94c4e420f26eb59b5da1f16",
        "collapsed": true,
        "_cell_guid": "af5d635f-ed10-4b6a-96b3-8b07241b2182",
        "trusted": true
      },
      "cell_type": "code",
      "source": "",
      "execution_count": null,
      "outputs": []
    }
  ],
  "metadata": {
    "kernelspec": {
      "display_name": "Python 3",
      "language": "python",
      "name": "python3"
    },
    "language_info": {
      "name": "python",
      "version": "3.6.4",
      "mimetype": "text/x-python",
      "codemirror_mode": {
        "name": "ipython",
        "version": 3
      },
      "pygments_lexer": "ipython3",
      "nbconvert_exporter": "python",
      "file_extension": ".py"
    }
  },
  "nbformat": 4,
  "nbformat_minor": 1
}