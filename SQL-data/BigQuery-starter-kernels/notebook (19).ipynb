{
  "cells": [
    {
      "metadata": {
        "_cell_guid": "307eb20a-56a5-43b9-832b-a76b338ad5e3",
        "_uuid": "de5c8ef6d5d0ee22ec7e55b629d1c1f08d2b8efd"
      },
      "cell_type": "markdown",
      "source": "**How to Query the CMS NPPES Plan and Provider Enumeration System Data (BigQuery Dataset)**"
    },
    {
      "metadata": {
        "_cell_guid": "b1076dfc-b9ad-4769-8c92-a6c4dae69d19",
        "collapsed": true,
        "_uuid": "8f2839f25d086af736a60e9eeb907d3b93b6e0e5",
        "trusted": true
      },
      "cell_type": "code",
      "source": "import bq_helper\nfrom bq_helper import BigQueryHelper\n# https://www.kaggle.com/sohier/introduction-to-the-bq-helper-package\nnppes = bq_helper.BigQueryHelper(active_project=\"bigquery-public-data\",\n                                   dataset_name=\"nppes\")",
      "execution_count": 1,
      "outputs": []
    },
    {
      "metadata": {
        "_kg_hide-output": true,
        "_cell_guid": "b0442c95-01fa-4688-9a30-718347933e0f",
        "_uuid": "a3415035b50ece1df93c6573539798b929a597f5",
        "trusted": true
      },
      "cell_type": "code",
      "source": "bq_assistant = BigQueryHelper(\"bigquery-public-data\", \"nppes\")\nbq_assistant.list_tables()",
      "execution_count": 2,
      "outputs": [
        {
          "output_type": "execute_result",
          "execution_count": 2,
          "data": {
            "text/plain": "['healthcare_provider_taxonomy_code_set',\n 'healthcare_provider_taxonomy_code_set_090',\n 'healthcare_provider_taxonomy_code_set_091',\n 'healthcare_provider_taxonomy_code_set_100',\n 'healthcare_provider_taxonomy_code_set_101',\n 'healthcare_provider_taxonomy_code_set_110',\n 'healthcare_provider_taxonomy_code_set_111',\n 'healthcare_provider_taxonomy_code_set_120',\n 'healthcare_provider_taxonomy_code_set_121',\n 'healthcare_provider_taxonomy_code_set_130',\n 'healthcare_provider_taxonomy_code_set_131',\n 'healthcare_provider_taxonomy_code_set_140',\n 'healthcare_provider_taxonomy_code_set_141',\n 'healthcare_provider_taxonomy_code_set_150',\n 'healthcare_provider_taxonomy_code_set_151',\n 'healthcare_provider_taxonomy_code_set_160',\n 'healthcare_provider_taxonomy_code_set_161',\n 'healthcare_provider_taxonomy_code_set_170',\n 'npi_optimized',\n 'npi_raw']"
          },
          "metadata": {}
        }
      ]
    },
    {
      "metadata": {
        "_cell_guid": "a2805b6e-5e32-484c-b1c7-a7e3d364ef35",
        "_uuid": "f6d79a4aae694e0bc61d4dbc4724005d913b9248",
        "trusted": true
      },
      "cell_type": "code",
      "source": "bq_assistant.head(\"healthcare_provider_taxonomy_code_set\", num_rows=20)",
      "execution_count": 3,
      "outputs": [
        {
          "output_type": "execute_result",
          "execution_count": 3,
          "data": {
            "text/plain": "          code                                      grouping  \\\n0   101Y00000X  Behavioral Health & Social Service Providers   \n1   101YA0400X  Behavioral Health & Social Service Providers   \n2   101YM0800X  Behavioral Health & Social Service Providers   \n3   101YP1600X  Behavioral Health & Social Service Providers   \n4   101YP2500X  Behavioral Health & Social Service Providers   \n5   101YS0200X  Behavioral Health & Social Service Providers   \n6   102L00000X  Behavioral Health & Social Service Providers   \n7   102X00000X  Behavioral Health & Social Service Providers   \n8   103G00000X  Behavioral Health & Social Service Providers   \n9   103GC0700X  Behavioral Health & Social Service Providers   \n10  103K00000X  Behavioral Health & Social Service Providers   \n11  103T00000X  Behavioral Health & Social Service Providers   \n12  103TA0400X  Behavioral Health & Social Service Providers   \n13  103TA0700X  Behavioral Health & Social Service Providers   \n14  103TB0200X  Behavioral Health & Social Service Providers   \n15  103TC0700X  Behavioral Health & Social Service Providers   \n16  103TC1900X  Behavioral Health & Social Service Providers   \n17  103TC2200X  Behavioral Health & Social Service Providers   \n18  103TE1000X  Behavioral Health & Social Service Providers   \n19  103TE1100X  Behavioral Health & Social Service Providers   \n\n                classification                      specialization  \\\n0                    Counselor                                       \n1                    Counselor  Addiction (Substance Use Disorder)   \n2                    Counselor                       Mental Health   \n3                    Counselor                            Pastoral   \n4                    Counselor                        Professional   \n5                    Counselor                              School   \n6                Psychoanalyst                                       \n7             Poetry Therapist                                       \n8   Clinical Neuropsychologist                                       \n9   Clinical Neuropsychologist                            Clinical   \n10          Behavioral Analyst                                       \n11                Psychologist                                       \n12                Psychologist  Addiction (Substance Use Disorder)   \n13                Psychologist           Adult Development & Aging   \n14                Psychologist              Cognitive & Behavioral   \n15                Psychologist                            Clinical   \n16                Psychologist                          Counseling   \n17                Psychologist         Clinical Child & Adolescent   \n18                Psychologist                         Educational   \n19                Psychologist                   Exercise & Sports   \n\n                                           definition  \\\n0   A provider who is trained and educated in the ...   \n1                               Definition to come...   \n2                               Definition to come...   \n3                               Definition to come...   \n4                               Definition to come...   \n5                               Definition to come...   \n6   Psychoanalysis is a comprehensive, theoretical...   \n7   A medical or mental health professional who ha...   \n8   An individual with a doctorate degree, licensu...   \n9                                                       \n10  A behavior analyst is qualified by at least a ...   \n11  A psychologist is an individual who is license...   \n12                              Definition to come...   \n13                              Definition to come...   \n14                              Definition to come...   \n15                              Definition to come...   \n16                              Definition to come...   \n17                              Definition to come...   \n18                                                      \n19                              Definition to come...   \n\n                                                notes  \n0   Sources: Abridged from definitions provided by...  \n1                                                      \n2                                                      \n3                                                      \n4                                                      \n5                                                      \n6   Source:  Registry of Psychoanalysts published ...  \n7   Source: The National Federation for Biblio/Poe...  \n8   Source: American Psychological Association, Wa...  \n9        [1/1/2007: marked inactive, use  103G00000X]  \n10  Source: Association of Professional Behavior A...  \n11  Source:  American Psychological Association [1...  \n12                                                     \n13                                                     \n14                         [1/1/2007: title modified]  \n15                                                     \n16                                                     \n17                         [1/1/2007: title modified]  \n18                        [1/1/2007: marked inactive]  \n19                                                     ",
            "text/html": "<div>\n<style scoped>\n    .dataframe tbody tr th:only-of-type {\n        vertical-align: middle;\n    }\n\n    .dataframe tbody tr th {\n        vertical-align: top;\n    }\n\n    .dataframe thead th {\n        text-align: right;\n    }\n</style>\n<table border=\"1\" class=\"dataframe\">\n  <thead>\n    <tr style=\"text-align: right;\">\n      <th></th>\n      <th>code</th>\n      <th>grouping</th>\n      <th>classification</th>\n      <th>specialization</th>\n      <th>definition</th>\n      <th>notes</th>\n    </tr>\n  </thead>\n  <tbody>\n    <tr>\n      <th>0</th>\n      <td>101Y00000X</td>\n      <td>Behavioral Health &amp; Social Service Providers</td>\n      <td>Counselor</td>\n      <td></td>\n      <td>A provider who is trained and educated in the ...</td>\n      <td>Sources: Abridged from definitions provided by...</td>\n    </tr>\n    <tr>\n      <th>1</th>\n      <td>101YA0400X</td>\n      <td>Behavioral Health &amp; Social Service Providers</td>\n      <td>Counselor</td>\n      <td>Addiction (Substance Use Disorder)</td>\n      <td>Definition to come...</td>\n      <td></td>\n    </tr>\n    <tr>\n      <th>2</th>\n      <td>101YM0800X</td>\n      <td>Behavioral Health &amp; Social Service Providers</td>\n      <td>Counselor</td>\n      <td>Mental Health</td>\n      <td>Definition to come...</td>\n      <td></td>\n    </tr>\n    <tr>\n      <th>3</th>\n      <td>101YP1600X</td>\n      <td>Behavioral Health &amp; Social Service Providers</td>\n      <td>Counselor</td>\n      <td>Pastoral</td>\n      <td>Definition to come...</td>\n      <td></td>\n    </tr>\n    <tr>\n      <th>4</th>\n      <td>101YP2500X</td>\n      <td>Behavioral Health &amp; Social Service Providers</td>\n      <td>Counselor</td>\n      <td>Professional</td>\n      <td>Definition to come...</td>\n      <td></td>\n    </tr>\n    <tr>\n      <th>5</th>\n      <td>101YS0200X</td>\n      <td>Behavioral Health &amp; Social Service Providers</td>\n      <td>Counselor</td>\n      <td>School</td>\n      <td>Definition to come...</td>\n      <td></td>\n    </tr>\n    <tr>\n      <th>6</th>\n      <td>102L00000X</td>\n      <td>Behavioral Health &amp; Social Service Providers</td>\n      <td>Psychoanalyst</td>\n      <td></td>\n      <td>Psychoanalysis is a comprehensive, theoretical...</td>\n      <td>Source:  Registry of Psychoanalysts published ...</td>\n    </tr>\n    <tr>\n      <th>7</th>\n      <td>102X00000X</td>\n      <td>Behavioral Health &amp; Social Service Providers</td>\n      <td>Poetry Therapist</td>\n      <td></td>\n      <td>A medical or mental health professional who ha...</td>\n      <td>Source: The National Federation for Biblio/Poe...</td>\n    </tr>\n    <tr>\n      <th>8</th>\n      <td>103G00000X</td>\n      <td>Behavioral Health &amp; Social Service Providers</td>\n      <td>Clinical Neuropsychologist</td>\n      <td></td>\n      <td>An individual with a doctorate degree, licensu...</td>\n      <td>Source: American Psychological Association, Wa...</td>\n    </tr>\n    <tr>\n      <th>9</th>\n      <td>103GC0700X</td>\n      <td>Behavioral Health &amp; Social Service Providers</td>\n      <td>Clinical Neuropsychologist</td>\n      <td>Clinical</td>\n      <td></td>\n      <td>[1/1/2007: marked inactive, use  103G00000X]</td>\n    </tr>\n    <tr>\n      <th>10</th>\n      <td>103K00000X</td>\n      <td>Behavioral Health &amp; Social Service Providers</td>\n      <td>Behavioral Analyst</td>\n      <td></td>\n      <td>A behavior analyst is qualified by at least a ...</td>\n      <td>Source: Association of Professional Behavior A...</td>\n    </tr>\n    <tr>\n      <th>11</th>\n      <td>103T00000X</td>\n      <td>Behavioral Health &amp; Social Service Providers</td>\n      <td>Psychologist</td>\n      <td></td>\n      <td>A psychologist is an individual who is license...</td>\n      <td>Source:  American Psychological Association [1...</td>\n    </tr>\n    <tr>\n      <th>12</th>\n      <td>103TA0400X</td>\n      <td>Behavioral Health &amp; Social Service Providers</td>\n      <td>Psychologist</td>\n      <td>Addiction (Substance Use Disorder)</td>\n      <td>Definition to come...</td>\n      <td></td>\n    </tr>\n    <tr>\n      <th>13</th>\n      <td>103TA0700X</td>\n      <td>Behavioral Health &amp; Social Service Providers</td>\n      <td>Psychologist</td>\n      <td>Adult Development &amp; Aging</td>\n      <td>Definition to come...</td>\n      <td></td>\n    </tr>\n    <tr>\n      <th>14</th>\n      <td>103TB0200X</td>\n      <td>Behavioral Health &amp; Social Service Providers</td>\n      <td>Psychologist</td>\n      <td>Cognitive &amp; Behavioral</td>\n      <td>Definition to come...</td>\n      <td>[1/1/2007: title modified]</td>\n    </tr>\n    <tr>\n      <th>15</th>\n      <td>103TC0700X</td>\n      <td>Behavioral Health &amp; Social Service Providers</td>\n      <td>Psychologist</td>\n      <td>Clinical</td>\n      <td>Definition to come...</td>\n      <td></td>\n    </tr>\n    <tr>\n      <th>16</th>\n      <td>103TC1900X</td>\n      <td>Behavioral Health &amp; Social Service Providers</td>\n      <td>Psychologist</td>\n      <td>Counseling</td>\n      <td>Definition to come...</td>\n      <td></td>\n    </tr>\n    <tr>\n      <th>17</th>\n      <td>103TC2200X</td>\n      <td>Behavioral Health &amp; Social Service Providers</td>\n      <td>Psychologist</td>\n      <td>Clinical Child &amp; Adolescent</td>\n      <td>Definition to come...</td>\n      <td>[1/1/2007: title modified]</td>\n    </tr>\n    <tr>\n      <th>18</th>\n      <td>103TE1000X</td>\n      <td>Behavioral Health &amp; Social Service Providers</td>\n      <td>Psychologist</td>\n      <td>Educational</td>\n      <td></td>\n      <td>[1/1/2007: marked inactive]</td>\n    </tr>\n    <tr>\n      <th>19</th>\n      <td>103TE1100X</td>\n      <td>Behavioral Health &amp; Social Service Providers</td>\n      <td>Psychologist</td>\n      <td>Exercise &amp; Sports</td>\n      <td>Definition to come...</td>\n      <td></td>\n    </tr>\n  </tbody>\n</table>\n</div>"
          },
          "metadata": {}
        }
      ]
    },
    {
      "metadata": {
        "_cell_guid": "ec2e26b9-885e-4f12-8d20-2f8c494d6f3e",
        "_uuid": "8eeda9ae334f9bc0dc313635abee9c9c0d582f6c"
      },
      "cell_type": "markdown",
      "source": "What are the most common medical specialties in Mountain View, California?\n"
    },
    {
      "metadata": {
        "_cell_guid": "ab7c4d65-3cc2-4192-992c-b030c33b2010",
        "_uuid": "f498dd0e54911bf273ae4a76fd6a2bdaebf96f15",
        "trusted": true
      },
      "cell_type": "code",
      "source": "query1 = \"\"\"\nSELECT\n  healthcare_provider_taxonomy_1_specialization,\n  COUNT(DISTINCT npi) AS number_specialist\nFROM\n  `bigquery-public-data.nppes.npi_optimized`\nWHERE\n provider_business_practice_location_address_city_name = \"MOUNTAIN VIEW\"\n AND provider_business_practice_location_address_state_name = \"CA\"\n  AND healthcare_provider_taxonomy_1_specialization > \"\"\nGROUP BY\n  healthcare_provider_taxonomy_1_specialization\nORDER BY\n  number_specialist DESC\nLIMIT\n  20;\n        \"\"\"\nresponse1 = nppes.query_to_pandas_safe(query1)\nresponse1.head(20)",
      "execution_count": 4,
      "outputs": [
        {
          "output_type": "execute_result",
          "execution_count": 4,
          "data": {
            "text/plain": "   healthcare_provider_taxonomy_1_specialization  number_specialist\n0                               General Practice                 63\n1                                       Clinical                 36\n2                                     Psychiatry                 26\n3                               Gastroenterology                 21\n4                                         Family                 19\n5                         Cardiovascular Disease                 18\n6                           Diagnostic Radiology                 17\n7                                  Mental Health                 13\n8           Endocrinology, Diabetes & Metabolism                 13\n9                            Ambulatory Surgical                 10\n10                                     Neurology                 10\n11                     Interventional Cardiology                  8\n12                             Pulmonary Disease                  8\n13                                    Nephrology                  8\n14                         Hematology & Oncology                  6\n15                          Foot & Ankle Surgery                  6\n16                            Anatomic Pathology                  6\n17                                       Medical                  6\n18                            Geriatric Medicine                  5\n19      Orthodontics and Dentofacial Orthopedics                  5",
            "text/html": "<div>\n<style scoped>\n    .dataframe tbody tr th:only-of-type {\n        vertical-align: middle;\n    }\n\n    .dataframe tbody tr th {\n        vertical-align: top;\n    }\n\n    .dataframe thead th {\n        text-align: right;\n    }\n</style>\n<table border=\"1\" class=\"dataframe\">\n  <thead>\n    <tr style=\"text-align: right;\">\n      <th></th>\n      <th>healthcare_provider_taxonomy_1_specialization</th>\n      <th>number_specialist</th>\n    </tr>\n  </thead>\n  <tbody>\n    <tr>\n      <th>0</th>\n      <td>General Practice</td>\n      <td>63</td>\n    </tr>\n    <tr>\n      <th>1</th>\n      <td>Clinical</td>\n      <td>36</td>\n    </tr>\n    <tr>\n      <th>2</th>\n      <td>Psychiatry</td>\n      <td>26</td>\n    </tr>\n    <tr>\n      <th>3</th>\n      <td>Gastroenterology</td>\n      <td>21</td>\n    </tr>\n    <tr>\n      <th>4</th>\n      <td>Family</td>\n      <td>19</td>\n    </tr>\n    <tr>\n      <th>5</th>\n      <td>Cardiovascular Disease</td>\n      <td>18</td>\n    </tr>\n    <tr>\n      <th>6</th>\n      <td>Diagnostic Radiology</td>\n      <td>17</td>\n    </tr>\n    <tr>\n      <th>7</th>\n      <td>Mental Health</td>\n      <td>13</td>\n    </tr>\n    <tr>\n      <th>8</th>\n      <td>Endocrinology, Diabetes &amp; Metabolism</td>\n      <td>13</td>\n    </tr>\n    <tr>\n      <th>9</th>\n      <td>Ambulatory Surgical</td>\n      <td>10</td>\n    </tr>\n    <tr>\n      <th>10</th>\n      <td>Neurology</td>\n      <td>10</td>\n    </tr>\n    <tr>\n      <th>11</th>\n      <td>Interventional Cardiology</td>\n      <td>8</td>\n    </tr>\n    <tr>\n      <th>12</th>\n      <td>Pulmonary Disease</td>\n      <td>8</td>\n    </tr>\n    <tr>\n      <th>13</th>\n      <td>Nephrology</td>\n      <td>8</td>\n    </tr>\n    <tr>\n      <th>14</th>\n      <td>Hematology &amp; Oncology</td>\n      <td>6</td>\n    </tr>\n    <tr>\n      <th>15</th>\n      <td>Foot &amp; Ankle Surgery</td>\n      <td>6</td>\n    </tr>\n    <tr>\n      <th>16</th>\n      <td>Anatomic Pathology</td>\n      <td>6</td>\n    </tr>\n    <tr>\n      <th>17</th>\n      <td>Medical</td>\n      <td>6</td>\n    </tr>\n    <tr>\n      <th>18</th>\n      <td>Geriatric Medicine</td>\n      <td>5</td>\n    </tr>\n    <tr>\n      <th>19</th>\n      <td>Orthodontics and Dentofacial Orthopedics</td>\n      <td>5</td>\n    </tr>\n  </tbody>\n</table>\n</div>"
          },
          "metadata": {}
        }
      ]
    },
    {
      "metadata": {
        "_cell_guid": "e53dbcf0-eaba-474f-b83c-fa7fc5e69a81",
        "_uuid": "ef06f0f96cdffd2af224c796a423304f914d7da9"
      },
      "cell_type": "markdown",
      "source": "What are the names and phone numbers of dentists in California who studied public health?\n"
    },
    {
      "metadata": {
        "_cell_guid": "f9ea65cb-a34a-4e54-b7dd-8eb964aba953",
        "_uuid": "77d0841a15c7675c6e2506e02762ed6892629d59",
        "trusted": true
      },
      "cell_type": "code",
      "source": "query2 = \"\"\"\nSELECT\n  provider_credential_text,\n  provider_first_name,\n  provider_business_practice_location_address_telephone_number\nFROM\n  `bigquery-public-data.nppes.npi_optimized`\nWHERE\n  provider_business_mailing_address_state_name = 'CA'\n  AND healthcare_provider_taxonomy_1_grouping = 'Dental Providers'\n  AND REPLACE(provider_credential_text, \".\",\"\") LIKE '%MPH%';\n        \"\"\"\nresponse2 = nppes.query_to_pandas_safe(query2, max_gb_scanned=10)\nresponse2.head(20)",
      "execution_count": 5,
      "outputs": [
        {
          "output_type": "execute_result",
          "execution_count": 5,
          "data": {
            "text/plain": "   provider_credential_text provider_first_name  \\\n0                   DDS MPH            JENNIFER   \n1                   DDS MPH             KARTHIK   \n2                   DDS MPH               ENOMA   \n3                   DDS MPH               LARRY   \n4                   DDS MPH              ANGELA   \n5                   DMD,MPH                PAUL   \n6                   DMD,MPH              MONICA   \n7                  BDS, MPH              HOWARD   \n8                  DDS, MPH               VIJAY   \n9                  DDS, MPH            JENNIFER   \n10                 DDS, MPH              JORDAN   \n11                 DDS, MPH         CHRISTOPHER   \n12                 DDS, MPH               LIEZL   \n13                 DDS, MPH              DANIEL   \n14                 DDS, MPH               WAYNE   \n15                 DDS, MPH               DAVID   \n16                 DDS, MPH             KENNETH   \n17                 DDS, MPH             JESSICA   \n18                 DDS, MPH             ROSETTE   \n19                 DDS, MPH           CHRISTINE   \n\n   provider_business_practice_location_address_telephone_number  \n0                                          2137401098            \n1                                          5597817242            \n2                                          6263347310            \n3                                          8055443434            \n4                                          9099828834            \n5                                          3103938233            \n6                                          6504935000            \n7                                          4154763028            \n8                                          5108866416            \n9                                          8312722688            \n10                                         6195625437            \n11                                         5104941037            \n12                                         9512647865            \n13                                         9497333433            \n14                                         6195568210            \n15                                         9164643793            \n16                                         5597324279            \n17                                         6263986300            \n18                                         4082525700            \n19                                         8182445052            ",
            "text/html": "<div>\n<style scoped>\n    .dataframe tbody tr th:only-of-type {\n        vertical-align: middle;\n    }\n\n    .dataframe tbody tr th {\n        vertical-align: top;\n    }\n\n    .dataframe thead th {\n        text-align: right;\n    }\n</style>\n<table border=\"1\" class=\"dataframe\">\n  <thead>\n    <tr style=\"text-align: right;\">\n      <th></th>\n      <th>provider_credential_text</th>\n      <th>provider_first_name</th>\n      <th>provider_business_practice_location_address_telephone_number</th>\n    </tr>\n  </thead>\n  <tbody>\n    <tr>\n      <th>0</th>\n      <td>DDS MPH</td>\n      <td>JENNIFER</td>\n      <td>2137401098</td>\n    </tr>\n    <tr>\n      <th>1</th>\n      <td>DDS MPH</td>\n      <td>KARTHIK</td>\n      <td>5597817242</td>\n    </tr>\n    <tr>\n      <th>2</th>\n      <td>DDS MPH</td>\n      <td>ENOMA</td>\n      <td>6263347310</td>\n    </tr>\n    <tr>\n      <th>3</th>\n      <td>DDS MPH</td>\n      <td>LARRY</td>\n      <td>8055443434</td>\n    </tr>\n    <tr>\n      <th>4</th>\n      <td>DDS MPH</td>\n      <td>ANGELA</td>\n      <td>9099828834</td>\n    </tr>\n    <tr>\n      <th>5</th>\n      <td>DMD,MPH</td>\n      <td>PAUL</td>\n      <td>3103938233</td>\n    </tr>\n    <tr>\n      <th>6</th>\n      <td>DMD,MPH</td>\n      <td>MONICA</td>\n      <td>6504935000</td>\n    </tr>\n    <tr>\n      <th>7</th>\n      <td>BDS, MPH</td>\n      <td>HOWARD</td>\n      <td>4154763028</td>\n    </tr>\n    <tr>\n      <th>8</th>\n      <td>DDS, MPH</td>\n      <td>VIJAY</td>\n      <td>5108866416</td>\n    </tr>\n    <tr>\n      <th>9</th>\n      <td>DDS, MPH</td>\n      <td>JENNIFER</td>\n      <td>8312722688</td>\n    </tr>\n    <tr>\n      <th>10</th>\n      <td>DDS, MPH</td>\n      <td>JORDAN</td>\n      <td>6195625437</td>\n    </tr>\n    <tr>\n      <th>11</th>\n      <td>DDS, MPH</td>\n      <td>CHRISTOPHER</td>\n      <td>5104941037</td>\n    </tr>\n    <tr>\n      <th>12</th>\n      <td>DDS, MPH</td>\n      <td>LIEZL</td>\n      <td>9512647865</td>\n    </tr>\n    <tr>\n      <th>13</th>\n      <td>DDS, MPH</td>\n      <td>DANIEL</td>\n      <td>9497333433</td>\n    </tr>\n    <tr>\n      <th>14</th>\n      <td>DDS, MPH</td>\n      <td>WAYNE</td>\n      <td>6195568210</td>\n    </tr>\n    <tr>\n      <th>15</th>\n      <td>DDS, MPH</td>\n      <td>DAVID</td>\n      <td>9164643793</td>\n    </tr>\n    <tr>\n      <th>16</th>\n      <td>DDS, MPH</td>\n      <td>KENNETH</td>\n      <td>5597324279</td>\n    </tr>\n    <tr>\n      <th>17</th>\n      <td>DDS, MPH</td>\n      <td>JESSICA</td>\n      <td>6263986300</td>\n    </tr>\n    <tr>\n      <th>18</th>\n      <td>DDS, MPH</td>\n      <td>ROSETTE</td>\n      <td>4082525700</td>\n    </tr>\n    <tr>\n      <th>19</th>\n      <td>DDS, MPH</td>\n      <td>CHRISTINE</td>\n      <td>8182445052</td>\n    </tr>\n  </tbody>\n</table>\n</div>"
          },
          "metadata": {}
        }
      ]
    },
    {
      "metadata": {
        "_cell_guid": "87ba4e16-08e7-4325-b0ab-e35a0cf07479",
        "collapsed": true,
        "_uuid": "450d392be87f17bcf55e86d2ee1c42f6b24d539d",
        "trusted": true
      },
      "cell_type": "code",
      "source": "",
      "execution_count": null,
      "outputs": []
    },
    {
      "metadata": {
        "_cell_guid": "bdb6e0e4-619a-43fd-954f-919f93cbc2d5",
        "collapsed": true,
        "_uuid": "b79f5f5b997168585b09193b95df4c99d2b1afe8",
        "trusted": true
      },
      "cell_type": "code",
      "source": "",
      "execution_count": null,
      "outputs": []
    }
  ],
  "metadata": {
    "language_info": {
      "name": "python",
      "version": "3.6.4",
      "mimetype": "text/x-python",
      "codemirror_mode": {
        "name": "ipython",
        "version": 3
      },
      "pygments_lexer": "ipython3",
      "nbconvert_exporter": "python",
      "file_extension": ".py"
    },
    "kernelspec": {
      "display_name": "Python 3",
      "language": "python",
      "name": "python3"
    }
  },
  "nbformat": 4,
  "nbformat_minor": 1
}