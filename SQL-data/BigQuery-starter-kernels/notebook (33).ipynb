{
  "cells": [
    {
      "metadata": {
        "_cell_guid": "99393463-4ca2-4f32-8f14-2aea27e95a24",
        "_uuid": "e660f53afc4ad9ea178a50e770086c570254b5ee"
      },
      "cell_type": "markdown",
      "source": "**How to Query the Bureau of Labor Statistics Dataset (BigQuery)**"
    },
    {
      "metadata": {
        "_cell_guid": "b1076dfc-b9ad-4769-8c92-a6c4dae69d19",
        "collapsed": true,
        "_uuid": "8f2839f25d086af736a60e9eeb907d3b93b6e0e5",
        "trusted": true
      },
      "cell_type": "code",
      "source": "import bq_helper\nfrom bq_helper import BigQueryHelper\n# https://www.kaggle.com/sohier/introduction-to-the-bq-helper-package\nBLS = bq_helper.BigQueryHelper(active_project=\"bigquery-public-data\",\n                                   dataset_name=\"bls\")",
      "execution_count": 1,
      "outputs": []
    },
    {
      "metadata": {
        "_cell_guid": "bb808eb1-1c83-4aca-8bf9-09bf776013aa",
        "_uuid": "ff48bda88377e6ddef973738f366dabaee88464e",
        "trusted": true
      },
      "cell_type": "code",
      "source": "bq_assistant = BigQueryHelper(\"bigquery-public-data\", \"bls\")\nbq_assistant.list_tables()",
      "execution_count": 2,
      "outputs": [
        {
          "output_type": "execute_result",
          "execution_count": 2,
          "data": {
            "text/plain": "['c_cpi_u',\n 'cpi_u',\n 'employment_hours_earnings',\n 'employment_hours_earnings_series',\n 'unemployment_cps',\n 'unemployment_cps_series',\n 'wm',\n 'wm_series']"
          },
          "metadata": {}
        }
      ]
    },
    {
      "metadata": {
        "_cell_guid": "5c5ee28a-7530-4085-8a91-1c83ae113ecc",
        "_uuid": "1a6a818dcf49098dc7a9f3289a128e1d65cfca52",
        "trusted": true
      },
      "cell_type": "code",
      "source": "bq_assistant.head('cpi_u', num_rows=3)",
      "execution_count": 3,
      "outputs": [
        {
          "output_type": "execute_result",
          "execution_count": 3,
          "data": {
            "text/plain": "     series_id  year period  value footnote_codes survey_abbreviation  \\\n0  CUUR0000AA0  1997    M13  480.8                                 CU   \n1  CUUR0000AA0  2001    M01  524.5                                 CU   \n2  CUUR0000AA0  2003    M02  548.5                                 CU   \n\n  seasonal_code periodicity_code area_code          area_name item_code  \\\n0             U                R      0000  U.S. city average       AA0   \n1             U                R      0000  U.S. city average       AA0   \n2             U                R      0000  U.S. city average       AA0   \n\n              item_name        date  \n0  All items - old base  1997-12-31  \n1  All items - old base  2001-01-01  \n2  All items - old base  2003-02-01  ",
            "text/html": "<div>\n<style scoped>\n    .dataframe tbody tr th:only-of-type {\n        vertical-align: middle;\n    }\n\n    .dataframe tbody tr th {\n        vertical-align: top;\n    }\n\n    .dataframe thead th {\n        text-align: right;\n    }\n</style>\n<table border=\"1\" class=\"dataframe\">\n  <thead>\n    <tr style=\"text-align: right;\">\n      <th></th>\n      <th>series_id</th>\n      <th>year</th>\n      <th>period</th>\n      <th>value</th>\n      <th>footnote_codes</th>\n      <th>survey_abbreviation</th>\n      <th>seasonal_code</th>\n      <th>periodicity_code</th>\n      <th>area_code</th>\n      <th>area_name</th>\n      <th>item_code</th>\n      <th>item_name</th>\n      <th>date</th>\n    </tr>\n  </thead>\n  <tbody>\n    <tr>\n      <th>0</th>\n      <td>CUUR0000AA0</td>\n      <td>1997</td>\n      <td>M13</td>\n      <td>480.8</td>\n      <td></td>\n      <td>CU</td>\n      <td>U</td>\n      <td>R</td>\n      <td>0000</td>\n      <td>U.S. city average</td>\n      <td>AA0</td>\n      <td>All items - old base</td>\n      <td>1997-12-31</td>\n    </tr>\n    <tr>\n      <th>1</th>\n      <td>CUUR0000AA0</td>\n      <td>2001</td>\n      <td>M01</td>\n      <td>524.5</td>\n      <td></td>\n      <td>CU</td>\n      <td>U</td>\n      <td>R</td>\n      <td>0000</td>\n      <td>U.S. city average</td>\n      <td>AA0</td>\n      <td>All items - old base</td>\n      <td>2001-01-01</td>\n    </tr>\n    <tr>\n      <th>2</th>\n      <td>CUUR0000AA0</td>\n      <td>2003</td>\n      <td>M02</td>\n      <td>548.5</td>\n      <td></td>\n      <td>CU</td>\n      <td>U</td>\n      <td>R</td>\n      <td>0000</td>\n      <td>U.S. city average</td>\n      <td>AA0</td>\n      <td>All items - old base</td>\n      <td>2003-02-01</td>\n    </tr>\n  </tbody>\n</table>\n</div>"
          },
          "metadata": {}
        }
      ]
    },
    {
      "metadata": {
        "_cell_guid": "02c5b8b3-860a-4e97-bc5b-1517a40ee81f",
        "_uuid": "a24291522f4e546b62e9383ae00f77d9ce6368de",
        "trusted": true
      },
      "cell_type": "code",
      "source": "bq_assistant.table_schema(\"cpi_u\")",
      "execution_count": 4,
      "outputs": [
        {
          "output_type": "execute_result",
          "execution_count": 4,
          "data": {
            "text/plain": "[SchemaField('series_id', 'STRING', 'REQUIRED', 'Code identifying the specific series', ()),\n SchemaField('year', 'INTEGER', 'NULLABLE', 'Identifies year of observation', ()),\n SchemaField('period', 'STRING', 'NULLABLE', 'Identifies period for which data is observed. M01 = January, M02 = February….M13 = Annual Average', ()),\n SchemaField('value', 'FLOAT', 'NULLABLE', 'Price index for item', ()),\n SchemaField('footnote_codes', 'STRING', 'NULLABLE', 'Identifies footnote for the data series', ()),\n SchemaField('survey_abbreviation', 'STRING', 'NULLABLE', 'Code identifying the survey', ()),\n SchemaField('seasonal_code', 'STRING', 'NULLABLE', 'Code identifying whether the data are seasonally adjusted. S = Seasonally Adjusted, U = Unadjusted', ()),\n SchemaField('periodicity_code', 'STRING', 'NULLABLE', 'Frequency of data observation. R = Monthly, S = Semi-Annual', ()),\n SchemaField('area_code', 'STRING', 'NULLABLE', 'Unique code used to identify a specific geographic area. Full area codes found here: http://download.bls.gov/pub/time.series/cu/cu.area', ()),\n SchemaField('area_name', 'STRING', 'NULLABLE', 'Name of specific geographic area.', ()),\n SchemaField('item_code', 'STRING', 'NULLABLE', 'Identifies item for which data observations pertain. Full item codes found here: http://download.bls.gov/pub/time.series/cu/cu.item', ()),\n SchemaField('item_name', 'STRING', 'NULLABLE', 'Full names of items.', ()),\n SchemaField('date', 'DATE', 'NULLABLE', 'Specifies period in date format. M01 -> [year]-01-01...., M12 -> [year]-12-01, M13 -> [year]-12-31, Q01 -> [year]-01-15...., Q04 -> [year]-10-15, Q05 -> [year]-12-31, S01 -> [year]-06-30, S02 -> [year]-12-30, S03 -> [year]-12-31, A01 -> [year]-12-31', ())]"
          },
          "metadata": {}
        }
      ]
    },
    {
      "metadata": {
        "_cell_guid": "fd627151-f759-4120-aceb-6bda8faf94e1",
        "_uuid": "4d1459635075242a3e7fe04379ed8fb56c224b8b"
      },
      "cell_type": "markdown",
      "source": "What is the average annual inflation across all US Cities?"
    },
    {
      "metadata": {
        "_cell_guid": "dac983e2-3e79-4da3-9485-5d042383ef59",
        "_uuid": "a91c85c1a9ddc073a82c8666a246198d005b12de",
        "trusted": true
      },
      "cell_type": "code",
      "source": "query1 = \"\"\"SELECT *, ROUND((100*(value-prev_year)/value), 1) rate\nFROM (\n  SELECT\n    year,\n    LAG(value) OVER(ORDER BY year) prev_year,\n    ROUND(value, 1) AS value,\n    area_name\n  FROM\n    `bigquery-public-data.bls.cpi_u`\n  WHERE\n    period = \"S03\"\n    AND item_code = \"SA0\"\n    AND area_name = \"U.S. city average\"\n)\nORDER BY year\n        \"\"\"\nresponse1 = BLS.query_to_pandas_safe(query1)\nresponse1.head(10)",
      "execution_count": 5,
      "outputs": [
        {
          "output_type": "execute_result",
          "execution_count": 5,
          "data": {
            "text/plain": "   year  prev_year  value          area_name  rate\n0  1997        NaN  160.5  U.S. city average   NaN\n1  1998      160.5  163.0  U.S. city average   1.5\n2  1999      163.0  166.6  U.S. city average   2.2\n3  2000      166.6  172.2  U.S. city average   3.3\n4  2001      172.2  177.1  U.S. city average   2.8\n5  2002      177.1  179.9  U.S. city average   1.6\n6  2003      179.9  184.0  U.S. city average   2.2\n7  2004      184.0  188.9  U.S. city average   2.6\n8  2005      188.9  195.3  U.S. city average   3.3\n9  2006      195.3  201.6  U.S. city average   3.1",
            "text/html": "<div>\n<style scoped>\n    .dataframe tbody tr th:only-of-type {\n        vertical-align: middle;\n    }\n\n    .dataframe tbody tr th {\n        vertical-align: top;\n    }\n\n    .dataframe thead th {\n        text-align: right;\n    }\n</style>\n<table border=\"1\" class=\"dataframe\">\n  <thead>\n    <tr style=\"text-align: right;\">\n      <th></th>\n      <th>year</th>\n      <th>prev_year</th>\n      <th>value</th>\n      <th>area_name</th>\n      <th>rate</th>\n    </tr>\n  </thead>\n  <tbody>\n    <tr>\n      <th>0</th>\n      <td>1997</td>\n      <td>NaN</td>\n      <td>160.5</td>\n      <td>U.S. city average</td>\n      <td>NaN</td>\n    </tr>\n    <tr>\n      <th>1</th>\n      <td>1998</td>\n      <td>160.5</td>\n      <td>163.0</td>\n      <td>U.S. city average</td>\n      <td>1.5</td>\n    </tr>\n    <tr>\n      <th>2</th>\n      <td>1999</td>\n      <td>163.0</td>\n      <td>166.6</td>\n      <td>U.S. city average</td>\n      <td>2.2</td>\n    </tr>\n    <tr>\n      <th>3</th>\n      <td>2000</td>\n      <td>166.6</td>\n      <td>172.2</td>\n      <td>U.S. city average</td>\n      <td>3.3</td>\n    </tr>\n    <tr>\n      <th>4</th>\n      <td>2001</td>\n      <td>172.2</td>\n      <td>177.1</td>\n      <td>U.S. city average</td>\n      <td>2.8</td>\n    </tr>\n    <tr>\n      <th>5</th>\n      <td>2002</td>\n      <td>177.1</td>\n      <td>179.9</td>\n      <td>U.S. city average</td>\n      <td>1.6</td>\n    </tr>\n    <tr>\n      <th>6</th>\n      <td>2003</td>\n      <td>179.9</td>\n      <td>184.0</td>\n      <td>U.S. city average</td>\n      <td>2.2</td>\n    </tr>\n    <tr>\n      <th>7</th>\n      <td>2004</td>\n      <td>184.0</td>\n      <td>188.9</td>\n      <td>U.S. city average</td>\n      <td>2.6</td>\n    </tr>\n    <tr>\n      <th>8</th>\n      <td>2005</td>\n      <td>188.9</td>\n      <td>195.3</td>\n      <td>U.S. city average</td>\n      <td>3.3</td>\n    </tr>\n    <tr>\n      <th>9</th>\n      <td>2006</td>\n      <td>195.3</td>\n      <td>201.6</td>\n      <td>U.S. city average</td>\n      <td>3.1</td>\n    </tr>\n  </tbody>\n</table>\n</div>"
          },
          "metadata": {}
        }
      ]
    },
    {
      "metadata": {
        "_cell_guid": "548bc0ef-4912-459a-947d-f980222d823c",
        "_uuid": "6fc7410c1b1260765b2f359b986e2c682ffab217"
      },
      "cell_type": "markdown",
      "source": "What was the monthly unemployment rate (U3) in 2016?"
    },
    {
      "metadata": {
        "_cell_guid": "1843e015-15f8-4e59-a828-905fdbc2eb26",
        "_uuid": "bdfb39018567730c9ab81a6e6fbc56a63de1a944",
        "trusted": true
      },
      "cell_type": "code",
      "source": "query2 = \"\"\"SELECT\n  year,\n  date,\n  period,\n  value,\n  series_title\nFROM\n  `bigquery-public-data.bls.unemployment_cps`\nWHERE\n  series_id = \"LNS14000000\"\n  AND year = 2016\nORDER BY date\n        \"\"\"\nresponse2 = BLS.query_to_pandas_safe(query2)\nresponse2.head(10)",
      "execution_count": 6,
      "outputs": [
        {
          "output_type": "execute_result",
          "execution_count": 6,
          "data": {
            "text/plain": "   year        date period  value              series_title\n0  2016  2016-01-01    M01    4.9  (Seas) Unemployment Rate\n1  2016  2016-02-01    M02    4.9  (Seas) Unemployment Rate\n2  2016  2016-03-01    M03    5.0  (Seas) Unemployment Rate\n3  2016  2016-04-01    M04    5.0  (Seas) Unemployment Rate\n4  2016  2016-05-01    M05    4.7  (Seas) Unemployment Rate\n5  2016  2016-06-01    M06    4.9  (Seas) Unemployment Rate\n6  2016  2016-07-01    M07    4.9  (Seas) Unemployment Rate\n7  2016  2016-08-01    M08    4.9  (Seas) Unemployment Rate\n8  2016  2016-09-01    M09    5.0  (Seas) Unemployment Rate\n9  2016  2016-10-01    M10    4.9  (Seas) Unemployment Rate",
            "text/html": "<div>\n<style scoped>\n    .dataframe tbody tr th:only-of-type {\n        vertical-align: middle;\n    }\n\n    .dataframe tbody tr th {\n        vertical-align: top;\n    }\n\n    .dataframe thead th {\n        text-align: right;\n    }\n</style>\n<table border=\"1\" class=\"dataframe\">\n  <thead>\n    <tr style=\"text-align: right;\">\n      <th></th>\n      <th>year</th>\n      <th>date</th>\n      <th>period</th>\n      <th>value</th>\n      <th>series_title</th>\n    </tr>\n  </thead>\n  <tbody>\n    <tr>\n      <th>0</th>\n      <td>2016</td>\n      <td>2016-01-01</td>\n      <td>M01</td>\n      <td>4.9</td>\n      <td>(Seas) Unemployment Rate</td>\n    </tr>\n    <tr>\n      <th>1</th>\n      <td>2016</td>\n      <td>2016-02-01</td>\n      <td>M02</td>\n      <td>4.9</td>\n      <td>(Seas) Unemployment Rate</td>\n    </tr>\n    <tr>\n      <th>2</th>\n      <td>2016</td>\n      <td>2016-03-01</td>\n      <td>M03</td>\n      <td>5.0</td>\n      <td>(Seas) Unemployment Rate</td>\n    </tr>\n    <tr>\n      <th>3</th>\n      <td>2016</td>\n      <td>2016-04-01</td>\n      <td>M04</td>\n      <td>5.0</td>\n      <td>(Seas) Unemployment Rate</td>\n    </tr>\n    <tr>\n      <th>4</th>\n      <td>2016</td>\n      <td>2016-05-01</td>\n      <td>M05</td>\n      <td>4.7</td>\n      <td>(Seas) Unemployment Rate</td>\n    </tr>\n    <tr>\n      <th>5</th>\n      <td>2016</td>\n      <td>2016-06-01</td>\n      <td>M06</td>\n      <td>4.9</td>\n      <td>(Seas) Unemployment Rate</td>\n    </tr>\n    <tr>\n      <th>6</th>\n      <td>2016</td>\n      <td>2016-07-01</td>\n      <td>M07</td>\n      <td>4.9</td>\n      <td>(Seas) Unemployment Rate</td>\n    </tr>\n    <tr>\n      <th>7</th>\n      <td>2016</td>\n      <td>2016-08-01</td>\n      <td>M08</td>\n      <td>4.9</td>\n      <td>(Seas) Unemployment Rate</td>\n    </tr>\n    <tr>\n      <th>8</th>\n      <td>2016</td>\n      <td>2016-09-01</td>\n      <td>M09</td>\n      <td>5.0</td>\n      <td>(Seas) Unemployment Rate</td>\n    </tr>\n    <tr>\n      <th>9</th>\n      <td>2016</td>\n      <td>2016-10-01</td>\n      <td>M10</td>\n      <td>4.9</td>\n      <td>(Seas) Unemployment Rate</td>\n    </tr>\n  </tbody>\n</table>\n</div>"
          },
          "metadata": {}
        }
      ]
    },
    {
      "metadata": {
        "_cell_guid": "141e1026-2c18-4333-8d2f-6adbd69f5834",
        "_uuid": "b9584966fbb44a21645a1e6969be0cac8d6e528c"
      },
      "cell_type": "markdown",
      "source": "What are the top 10 hourly-waged types of work in Pittsburgh, PA for 2016?"
    },
    {
      "metadata": {
        "_cell_guid": "b311df53-a3ad-49bb-9667-19cf24d989df",
        "_uuid": "5d118a08323acff20769d05eea4a7bc4b0548633",
        "trusted": true
      },
      "cell_type": "code",
      "source": "query3 = \"\"\"SELECT\n  year,\n  period,\n  value,\n  series_title\nFROM\n  `bigquery-public-data.bls.wm`\nWHERE\n  series_title LIKE '%Pittsburgh, PA%'\n  AND year = 2016\nORDER BY\n  value DESC\nLIMIT\n  10\n        \"\"\"\nresponse3 = BLS.query_to_pandas_safe(query3, max_gb_scanned=10)\nresponse3.head(10)",
      "execution_count": 7,
      "outputs": [
        {
          "output_type": "execute_result",
          "execution_count": 7,
          "data": {
            "text/plain": "   year period  value                                       series_title\n0  2016    A01  81.27  Hourly mean wage for financial managers, in Pi...\n1  2016    A01  79.09  Hourly mean wage for education, training, and ...\n2  2016    A01  79.07  Hourly mean wage for education, training, and ...\n3  2016    A01  68.20  Hourly mean wage for management occupations, i...\n4  2016    A01  66.97  Hourly mean wage for management occupations, i...\n5  2016    A01  66.05  Hourly mean wage for computer and mathematical...\n6  2016    A01  61.39  Hourly mean wage for education, training, and ...\n7  2016    A01  61.19  Hourly mean wage for education, training, and ...\n8  2016    A01  61.13  Hourly mean wage for financial managers, in Pi...\n9  2016    A01  59.86  Hourly mean wage for business and financial op...",
            "text/html": "<div>\n<style scoped>\n    .dataframe tbody tr th:only-of-type {\n        vertical-align: middle;\n    }\n\n    .dataframe tbody tr th {\n        vertical-align: top;\n    }\n\n    .dataframe thead th {\n        text-align: right;\n    }\n</style>\n<table border=\"1\" class=\"dataframe\">\n  <thead>\n    <tr style=\"text-align: right;\">\n      <th></th>\n      <th>year</th>\n      <th>period</th>\n      <th>value</th>\n      <th>series_title</th>\n    </tr>\n  </thead>\n  <tbody>\n    <tr>\n      <th>0</th>\n      <td>2016</td>\n      <td>A01</td>\n      <td>81.27</td>\n      <td>Hourly mean wage for financial managers, in Pi...</td>\n    </tr>\n    <tr>\n      <th>1</th>\n      <td>2016</td>\n      <td>A01</td>\n      <td>79.09</td>\n      <td>Hourly mean wage for education, training, and ...</td>\n    </tr>\n    <tr>\n      <th>2</th>\n      <td>2016</td>\n      <td>A01</td>\n      <td>79.07</td>\n      <td>Hourly mean wage for education, training, and ...</td>\n    </tr>\n    <tr>\n      <th>3</th>\n      <td>2016</td>\n      <td>A01</td>\n      <td>68.20</td>\n      <td>Hourly mean wage for management occupations, i...</td>\n    </tr>\n    <tr>\n      <th>4</th>\n      <td>2016</td>\n      <td>A01</td>\n      <td>66.97</td>\n      <td>Hourly mean wage for management occupations, i...</td>\n    </tr>\n    <tr>\n      <th>5</th>\n      <td>2016</td>\n      <td>A01</td>\n      <td>66.05</td>\n      <td>Hourly mean wage for computer and mathematical...</td>\n    </tr>\n    <tr>\n      <th>6</th>\n      <td>2016</td>\n      <td>A01</td>\n      <td>61.39</td>\n      <td>Hourly mean wage for education, training, and ...</td>\n    </tr>\n    <tr>\n      <th>7</th>\n      <td>2016</td>\n      <td>A01</td>\n      <td>61.19</td>\n      <td>Hourly mean wage for education, training, and ...</td>\n    </tr>\n    <tr>\n      <th>8</th>\n      <td>2016</td>\n      <td>A01</td>\n      <td>61.13</td>\n      <td>Hourly mean wage for financial managers, in Pi...</td>\n    </tr>\n    <tr>\n      <th>9</th>\n      <td>2016</td>\n      <td>A01</td>\n      <td>59.86</td>\n      <td>Hourly mean wage for business and financial op...</td>\n    </tr>\n  </tbody>\n</table>\n</div>"
          },
          "metadata": {}
        }
      ]
    },
    {
      "metadata": {
        "_cell_guid": "abdd8683-ce2e-4594-b19e-f80b565f764f",
        "collapsed": true,
        "_uuid": "5036d81bf1545cb5d0a2be06d646a0fb65685687",
        "trusted": true
      },
      "cell_type": "code",
      "source": "",
      "execution_count": null,
      "outputs": []
    },
    {
      "metadata": {
        "_cell_guid": "8286aa4e-79dc-4c06-9011-068498ceb926",
        "collapsed": true,
        "_uuid": "17e2ee869c96104b0205c5c22f77b8933fe89dfd",
        "trusted": true
      },
      "cell_type": "code",
      "source": "",
      "execution_count": null,
      "outputs": []
    }
  ],
  "metadata": {
    "language_info": {
      "name": "python",
      "version": "3.6.4",
      "mimetype": "text/x-python",
      "codemirror_mode": {
        "name": "ipython",
        "version": 3
      },
      "pygments_lexer": "ipython3",
      "nbconvert_exporter": "python",
      "file_extension": ".py"
    },
    "kernelspec": {
      "display_name": "Python 3",
      "language": "python",
      "name": "python3"
    }
  },
  "nbformat": 4,
  "nbformat_minor": 1
}