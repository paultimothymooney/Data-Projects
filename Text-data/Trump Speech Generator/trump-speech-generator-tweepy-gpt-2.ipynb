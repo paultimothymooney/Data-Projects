{
 "cells": [
  {
   "cell_type": "markdown",
   "metadata": {},
   "source": [
    "# Trump Speech Generator (tweepy, gpt-2)"
   ]
  },
  {
   "cell_type": "markdown",
   "metadata": {},
   "source": [
    "* The purpose of this notebook is to explore using: (1) Tweepy for downloading data from the Twitter API; and (2) GPT-2 for generating new text."
   ]
  },
  {
   "cell_type": "markdown",
   "metadata": {},
   "source": [
    "**Step 1 of 5:** We will begin by installing the Python library \"[tweepy](https://www.tweepy.org/)\" to interact with the Twitter API."
   ]
  },
  {
   "cell_type": "code",
   "execution_count": 1,
   "metadata": {
    "_kg_hide-input": true,
    "_kg_hide-output": true
   },
   "outputs": [
    {
     "name": "stdout",
     "output_type": "stream",
     "text": [
      "Collecting tweepy\r\n",
      "  Downloading https://files.pythonhosted.org/packages/36/1b/2bd38043d22ade352fc3d3902cf30ce0e2f4bf285be3b304a2782a767aec/tweepy-3.8.0-py2.py3-none-any.whl\r\n",
      "Requirement already satisfied: PySocks>=1.5.7 in /opt/conda/lib/python3.6/site-packages (from tweepy) (1.7.1)\r\n",
      "Requirement already satisfied: six>=1.10.0 in /opt/conda/lib/python3.6/site-packages (from tweepy) (1.12.0)\r\n",
      "Collecting requests-oauthlib>=0.7.0 (from tweepy)\r\n",
      "  Downloading https://files.pythonhosted.org/packages/c2/e2/9fd03d55ffb70fe51f587f20bcf407a6927eb121de86928b34d162f0b1ac/requests_oauthlib-1.2.0-py2.py3-none-any.whl\r\n",
      "Requirement already satisfied: requests>=2.11.1 in /opt/conda/lib/python3.6/site-packages (from tweepy) (2.22.0)\r\n",
      "Collecting oauthlib>=3.0.0 (from requests-oauthlib>=0.7.0->tweepy)\r\n",
      "\u001b[?25l  Downloading https://files.pythonhosted.org/packages/05/57/ce2e7a8fa7c0afb54a0581b14a65b56e62b5759dbc98e80627142b8a3704/oauthlib-3.1.0-py2.py3-none-any.whl (147kB)\r\n",
      "\u001b[K     |████████████████████████████████| 153kB 9.8MB/s \r\n",
      "\u001b[?25hRequirement already satisfied: idna<2.9,>=2.5 in /opt/conda/lib/python3.6/site-packages (from requests>=2.11.1->tweepy) (2.8)\r\n",
      "Requirement already satisfied: urllib3!=1.25.0,!=1.25.1,<1.26,>=1.21.1 in /opt/conda/lib/python3.6/site-packages (from requests>=2.11.1->tweepy) (1.24.2)\r\n",
      "Requirement already satisfied: certifi>=2017.4.17 in /opt/conda/lib/python3.6/site-packages (from requests>=2.11.1->tweepy) (2019.9.11)\r\n",
      "Requirement already satisfied: chardet<3.1.0,>=3.0.2 in /opt/conda/lib/python3.6/site-packages (from requests>=2.11.1->tweepy) (3.0.4)\r\n",
      "Installing collected packages: oauthlib, requests-oauthlib, tweepy\r\n",
      "Successfully installed oauthlib-3.1.0 requests-oauthlib-1.2.0 tweepy-3.8.0\r\n"
     ]
    }
   ],
   "source": [
    "!pip install tweepy"
   ]
  },
  {
   "cell_type": "markdown",
   "metadata": {},
   "source": [
    "**Step 2 of 5:** We will also use the \"user secrets\" functionality on Kaggle in order to manage our private API keys.  You can manage your \"secrets\" in the \"add-ons\" menu in the upper-most file menu within the [notebook editor](http://www.kaggle.com/kernels).  To interact with the Twitter API you will need to have an ACCESS_TOKEN, ACCESS_SECRET, CONSUMER_KEY, and CONSUMER_SECRET."
   ]
  },
  {
   "cell_type": "code",
   "execution_count": 2,
   "metadata": {
    "_kg_hide-input": true,
    "_kg_hide-output": true
   },
   "outputs": [],
   "source": [
    "from kaggle_secrets import UserSecretsClient\n",
    "ACCESS_TOKEN = UserSecretsClient().get_secret('ACCESS_TOKEN')\n",
    "ACCESS_SECRET = UserSecretsClient().get_secret('ACCESS_SECRET')\n",
    "CONSUMER_KEY = UserSecretsClient().get_secret('CONSUMER_KEY')\n",
    "CONSUMER_SECRET = UserSecretsClient().get_secret('CONSUMER_SECRET')"
   ]
  },
  {
   "cell_type": "markdown",
   "metadata": {},
   "source": [
    "**Step 3 of 5:** We also need to download the [GPT-2 repository]( https://github.com/graykode/gpt-2-Pytorch)."
   ]
  },
  {
   "cell_type": "code",
   "execution_count": 3,
   "metadata": {
    "_kg_hide-input": true,
    "_kg_hide-output": true
   },
   "outputs": [
    {
     "name": "stdout",
     "output_type": "stream",
     "text": [
      "Cloning into 'gpt-2-Pytorch'...\r\n",
      "remote: Enumerating objects: 1, done.\u001b[K\r\n",
      "remote: Counting objects: 100% (1/1), done.\u001b[K\r\n",
      "remote: Total 130 (delta 0), reused 0 (delta 0), pack-reused 129\u001b[K\r\n",
      "Receiving objects: 100% (130/130), 2.39 MiB | 0 bytes/s, done.\r\n",
      "Resolving deltas: 100% (48/48), done.\r\n",
      "  % Total    % Received % Xferd  Average Speed   Time    Time     Time  Current\r\n",
      "                                 Dload  Upload   Total   Spent    Left  Speed\r\n",
      "100  522M  100  522M    0     0  69.9M      0  0:00:07  0:00:07 --:--:-- 69.2M\r\n",
      "Collecting regex==2017.4.5 (from -r requirements.txt (line 1))\r\n",
      "\u001b[?25l  Downloading https://files.pythonhosted.org/packages/36/62/c0c0d762ffd4ffaf39f372eb8561b8d491a11ace5a7884610424a8b40f95/regex-2017.04.05.tar.gz (601kB)\r\n",
      "\u001b[K     |████████████████████████████████| 604kB 3.5MB/s \r\n",
      "\u001b[?25hBuilding wheels for collected packages: regex\r\n",
      "  Building wheel for regex (setup.py) ... \u001b[?25l-\b \b\\\b \b|\b \b/\b \b-\b \b\\\b \b|\b \b/\b \b-\b \bdone\r\n",
      "\u001b[?25h  Created wheel for regex: filename=regex-2017.4.5-cp36-cp36m-linux_x86_64.whl size=533339 sha256=89b89724cf8bfb6433b1ab18209c9db7434935fb04fa185305b2626cd22b27ec\r\n",
      "  Stored in directory: /tmp/.cache/pip/wheels/75/07/38/3c16b529d50cb4e0cd3dbc7b75cece8a09c132692c74450b01\r\n",
      "Successfully built regex\r\n",
      "\u001b[31mERROR: allennlp 0.9.0 requires flaky, which is not installed.\u001b[0m\r\n",
      "\u001b[31mERROR: allennlp 0.9.0 requires responses>=0.7, which is not installed.\u001b[0m\r\n",
      "\u001b[31mERROR: allennlp 0.9.0 has requirement torch>=1.2.0, but you'll have torch 1.1.0 which is incompatible.\u001b[0m\r\n",
      "Installing collected packages: regex\r\n",
      "  Found existing installation: regex 2019.8.19\r\n",
      "    Uninstalling regex-2019.8.19:\r\n",
      "      Successfully uninstalled regex-2019.8.19\r\n",
      "Successfully installed regex-2017.4.5\r\n"
     ]
    }
   ],
   "source": [
    "import os\n",
    "!git clone https://github.com/graykode/gpt-2-Pytorch.git\n",
    "os.chdir('./gpt-2-Pytorch')\n",
    "!curl --output gpt2-pytorch_model.bin https://s3.amazonaws.com/models.huggingface.co/bert/gpt2-pytorch_model.bin\n",
    "!pip install -r requirements.txt"
   ]
  },
  {
   "cell_type": "markdown",
   "metadata": {},
   "source": [
    "**Step 4 of 5:** Next I will create a dataframe of tweets from @realDonaldTrump\n",
    "* Twitter's [Developer Agreement and Developer Policy](https://developer.twitter.com/en/developer-terms/agreement-and-policy.html) are both very strict and include terms such as \"If you provide Twitter Content to third parties, including downloadable datasets of Twitter Content or an API that returns Twitter Content, you will only distribute or allow download of Tweet IDs, Direct Message IDs, and/or User IDs.” In an attempt to comply with this policy I expose only recent tweets from @realdonaldtrump (which are already a part of the official Presidential Records)."
   ]
  },
  {
   "cell_type": "code",
   "execution_count": 4,
   "metadata": {
    "_kg_hide-input": true,
    "_kg_hide-output": false
   },
   "outputs": [],
   "source": [
    "import tweepy\n",
    "import pandas as pd\n",
    "\n",
    "def connect_to_twitter_OAuth():\n",
    "    \"\"\"adapted from https://towardsdatascience.com/my-first-twitter-app-1115a327349e\"\"\"\n",
    "    auth = tweepy.OAuthHandler(CONSUMER_KEY, CONSUMER_SECRET)\n",
    "    auth.set_access_token(ACCESS_TOKEN, ACCESS_SECRET)\n",
    "    api = tweepy.API(auth)\n",
    "    return api\n",
    "\n",
    "def extract_tweets(tweet_object):\n",
    "    \"\"\"adapted from https://towardsdatascience.com/my-first-twitter-app-1115a327349e\"\"\"\n",
    "    tweet_list =[]\n",
    "    for tweet in tweet_object:\n",
    "        text = tweet.text\n",
    "        created_at = tweet.created_at\n",
    "        tweet_list.append({'created_at':created_at,'text':text,})\n",
    "    df = pd.DataFrame(tweet_list, columns=[ 'created_at','text',])\n",
    "    return df"
   ]
  },
  {
   "cell_type": "code",
   "execution_count": 5,
   "metadata": {
    "_cell_guid": "b1076dfc-b9ad-4769-8c92-a6c4dae69d19",
    "_kg_hide-input": true,
    "_kg_hide-output": false,
    "_uuid": "8f2839f25d086af736a60e9eeb907d3b93b6e0e5"
   },
   "outputs": [
    {
     "data": {
      "text/html": [
       "<div>\n",
       "<style scoped>\n",
       "    .dataframe tbody tr th:only-of-type {\n",
       "        vertical-align: middle;\n",
       "    }\n",
       "\n",
       "    .dataframe tbody tr th {\n",
       "        vertical-align: top;\n",
       "    }\n",
       "\n",
       "    .dataframe thead th {\n",
       "        text-align: right;\n",
       "    }\n",
       "</style>\n",
       "<table border=\"1\" class=\"dataframe\">\n",
       "  <thead>\n",
       "    <tr style=\"text-align: right;\">\n",
       "      <th></th>\n",
       "      <th>created_at</th>\n",
       "      <th>text</th>\n",
       "    </tr>\n",
       "  </thead>\n",
       "  <tbody>\n",
       "    <tr>\n",
       "      <td>9</td>\n",
       "      <td>2019-10-21 01:57:10</td>\n",
       "      <td>Congratulations Barbara! https://t.co/0cYrjL1YOj</td>\n",
       "    </tr>\n",
       "    <tr>\n",
       "      <td>10</td>\n",
       "      <td>2019-10-21 01:56:05</td>\n",
       "      <td>RT @SecretaryRoss: Since the election of President Trump, the U.S. has added 6.4 million jobs, including 500,000 in the #manufacturing sect…</td>\n",
       "    </tr>\n",
       "    <tr>\n",
       "      <td>11</td>\n",
       "      <td>2019-10-21 01:55:36</td>\n",
       "      <td>RT @SecretaryRoss: This action by the Commerce Department sends another clear message to the Cuban regime – that they must immediately ceas…</td>\n",
       "    </tr>\n",
       "    <tr>\n",
       "      <td>12</td>\n",
       "      <td>2019-10-21 01:54:14</td>\n",
       "      <td>RT @realDonaldTrump: It is ONLY about this! https://t.co/ZB5xPDKs4b</td>\n",
       "    </tr>\n",
       "    <tr>\n",
       "      <td>13</td>\n",
       "      <td>2019-10-21 01:52:11</td>\n",
       "      <td>RT @IngrahamAngle: Republicans in the Congress should be asked:  why have you allowed the State Department to become an arm of the Democrat…</td>\n",
       "    </tr>\n",
       "    <tr>\n",
       "      <td>14</td>\n",
       "      <td>2019-10-21 01:48:35</td>\n",
       "      <td>“To the Democrats, Impeachment is partisan politics dressed up as principle.” @SteveHiltonx @FoxNews</td>\n",
       "    </tr>\n",
       "    <tr>\n",
       "      <td>15</td>\n",
       "      <td>2019-10-20 22:41:10</td>\n",
       "      <td>So interesting that, when I announced Trump National Doral in Miami would be used for the hosting of the G-7, and t… https://t.co/tDDMw6CPOd</td>\n",
       "    </tr>\n",
       "    <tr>\n",
       "      <td>16</td>\n",
       "      <td>2019-10-20 21:45:17</td>\n",
       "      <td>....fiction to Congress and the American People?  I demand his deposition. He is a fraud, just like the Russia Hoax… https://t.co/Hum7mHfNiV</td>\n",
       "    </tr>\n",
       "    <tr>\n",
       "      <td>17</td>\n",
       "      <td>2019-10-20 21:45:17</td>\n",
       "      <td>....because their so-called story didn’t come even close to matching up with the exact transcript of the phone call… https://t.co/SUGMgGZeJ3</td>\n",
       "    </tr>\n",
       "    <tr>\n",
       "      <td>18</td>\n",
       "      <td>2019-10-20 21:45:17</td>\n",
       "      <td>This Scam going on right now by the Democrats against the Republican Party, and me, was all about a perfect phone c… https://t.co/nXPfrl25ag</td>\n",
       "    </tr>\n",
       "  </tbody>\n",
       "</table>\n",
       "</div>"
      ],
      "text/plain": [
       "            created_at  \\\n",
       "9  2019-10-21 01:57:10   \n",
       "10 2019-10-21 01:56:05   \n",
       "11 2019-10-21 01:55:36   \n",
       "12 2019-10-21 01:54:14   \n",
       "13 2019-10-21 01:52:11   \n",
       "14 2019-10-21 01:48:35   \n",
       "15 2019-10-20 22:41:10   \n",
       "16 2019-10-20 21:45:17   \n",
       "17 2019-10-20 21:45:17   \n",
       "18 2019-10-20 21:45:17   \n",
       "\n",
       "                                                                                                                                            text  \n",
       "9   Congratulations Barbara! https://t.co/0cYrjL1YOj                                                                                              \n",
       "10  RT @SecretaryRoss: Since the election of President Trump, the U.S. has added 6.4 million jobs, including 500,000 in the #manufacturing sect…  \n",
       "11  RT @SecretaryRoss: This action by the Commerce Department sends another clear message to the Cuban regime – that they must immediately ceas…  \n",
       "12  RT @realDonaldTrump: It is ONLY about this! https://t.co/ZB5xPDKs4b                                                                           \n",
       "13  RT @IngrahamAngle: Republicans in the Congress should be asked:  why have you allowed the State Department to become an arm of the Democrat…  \n",
       "14  “To the Democrats, Impeachment is partisan politics dressed up as principle.” @SteveHiltonx @FoxNews                                          \n",
       "15  So interesting that, when I announced Trump National Doral in Miami would be used for the hosting of the G-7, and t… https://t.co/tDDMw6CPOd  \n",
       "16  ....fiction to Congress and the American People?  I demand his deposition. He is a fraud, just like the Russia Hoax… https://t.co/Hum7mHfNiV  \n",
       "17  ....because their so-called story didn’t come even close to matching up with the exact transcript of the phone call… https://t.co/SUGMgGZeJ3  \n",
       "18  This Scam going on right now by the Democrats against the Republican Party, and me, was all about a perfect phone c… https://t.co/nXPfrl25ag  "
      ]
     },
     "execution_count": 5,
     "metadata": {},
     "output_type": "execute_result"
    }
   ],
   "source": [
    "api = connect_to_twitter_OAuth()\n",
    "trump_tweets = api.user_timeline('realdonaldtrump')\n",
    "df = extract_tweets(trump_tweets)\n",
    "pd.set_option('display.max_colwidth', -1)\n",
    "df.tail(10)"
   ]
  },
  {
   "cell_type": "markdown",
   "metadata": {},
   "source": [
    "**Step 5 of 5:** And finally I will take the list of tweets that we retrieved and I will feed a few of them into a [GPT-2](https://github.com/graykode/gpt-2-Pytorch) model to generate a full-blown speech."
   ]
  },
  {
   "cell_type": "code",
   "execution_count": 6,
   "metadata": {
    "_kg_hide-input": true
   },
   "outputs": [
    {
     "name": "stdout",
     "output_type": "stream",
     "text": [
      "Namespace(batch_size=-1, length=-1, nsamples=1, quiet=False, temperature=0.7, text='To the Democrats, Impeachment is partisan politics dressed up as principle.  This Scam going on right now by the Democrats against the Republican Party, and me, was all about a perfect phone call.', top_k=40, unconditional=False)\r\n",
      "To the Democrats, Impeachment is partisan politics dressed up as principle.  This Scam going on right now by the Democrats against the Republican Party, and me, was all about a perfect phone call.\r\n",
      "100%|█████████████████████████████████████████| 512/512 [00:29<00:00, 17.42it/s]\r\n",
      "======================================== SAMPLE 1 ========================================\r\n",
      "  I will tell you, it was a perfect call.  It went on for about 10 minutes, and the Democrats have called me on a number of different issues, including a number of issues that I really don't like.  They call me on that and that, and that, all around being very, very respectful. Then I'm told the Democrats have called me on the issue of abortion, and I'm told that the Democrats have called me on the issue of the federal government.  That's all I know.  I'm told the Democrats call me on that.  They are going to call me on that because the Democrats are threatening to impeach me if I haven't done so. Well, I don't know what their plans are, but we have been called on all of those, and I am very confident that they will call me on them.  And then I'm told they are going to call me on my campaign for president.  That's all I know.  And they are going to call me on that and that, and that is all I know.  I'm told that I am going to do my job, and I'm not going to let anyone else tell me that. As a senator, I do not believe that anybody is going to tell me that. So, I think there is a very strong bipartisan support, because it's a bipartisan issue, but it's not partisan.  In fact, it's a very, very bipartisan issue.  And I think that's what this race is about.  It's about a lot of things, not just the Democrats, but the Republicans and the independents, who think that we need to get rid of the filibuster and to get rid of the death penalty, which is a very bad idea.  And they believe that we need to get rid of one of the three death penalty amendments, the death penalty, the death penalty, and that all of these things are dangerous to the Constitution.  And they are very strong in their support for keeping the death penalty out of the Constitution.  And they are going to tell me that their plan is to impeach me if I do so.  I'm told by the Democrats that they are going to call on me in the primary, and they are going to call on me in the general election, and they are going to call on me in the general election, and they are going to call on me in the general election and they are going to call on me in the general election. \r\n"
     ]
    }
   ],
   "source": [
    "!python main.py --text \"To the Democrats, Impeachment is partisan politics dressed up as principle.  This Scam going on right now by the Democrats against the Republican Party, and me, was all about a perfect phone call.\""
   ]
  },
  {
   "cell_type": "code",
   "execution_count": 7,
   "metadata": {
    "_kg_hide-input": true,
    "_kg_hide-output": true
   },
   "outputs": [],
   "source": [
    "!rm -r /kaggle/working/*"
   ]
  }
 ],
 "metadata": {
  "kernelspec": {
   "display_name": "Python 3",
   "language": "python",
   "name": "python3"
  },
  "language_info": {
   "codemirror_mode": {
    "name": "ipython",
    "version": 3
   },
   "file_extension": ".py",
   "mimetype": "text/x-python",
   "name": "python",
   "nbconvert_exporter": "python",
   "pygments_lexer": "ipython3",
   "version": "3.6.6"
  }
 },
 "nbformat": 4,
 "nbformat_minor": 1
}
