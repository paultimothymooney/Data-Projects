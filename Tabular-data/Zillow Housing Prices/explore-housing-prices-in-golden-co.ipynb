{
 "cells": [
  {
   "cell_type": "markdown",
   "execution_count": null,
   "metadata": {
    "papermill": {
     "duration": 0.007021,
     "end_time": "2020-08-11T19:34:30.009954",
     "exception": false,
     "start_time": "2020-08-11T19:34:30.002933",
     "status": "completed"
    },
    "tags": []
   },
   "source": [
    "# Explore Housing Prices in Golden, CO\n",
    "\n",
    "\n",
    "\n",
    "In this notebook we explore housing prices in Golden, CO.  We investigate both median rental prices and median housing prices.  The data is broken down according to the number of bedrooms that are inside of the housing unit. The data starts in the beginning of 2008 and ends in June 2020.  We load the data using functions that can be adapted for any city in the USA and we plot the data using three different methods: pandas (fast), plotly (interactive), and plotly express (fast and interactive). "
   ]
  },
  {
   "cell_type": "markdown",
   "execution_count": null,
   "metadata": {
    "papermill": {
     "duration": 0.005128,
     "end_time": "2020-08-11T19:34:30.021023",
     "exception": false,
     "start_time": "2020-08-11T19:34:30.015895",
     "status": "completed"
    },
    "tags": []
   },
   "source": [
    "*Step 1: Import Python modules*"
   ]
  },
  {
   "cell_type": "code",
   "execution_count": 1,
   "metadata": {
    "_kg_hide-input": true,
    "execution": {
     "iopub.execute_input": "2020-08-11T19:34:30.038791Z",
     "iopub.status.busy": "2020-08-11T19:34:30.037830Z",
     "iopub.status.idle": "2020-08-11T19:34:31.245329Z",
     "shell.execute_reply": "2020-08-11T19:34:31.244419Z"
    },
    "papermill": {
     "duration": 1.219074,
     "end_time": "2020-08-11T19:34:31.245527",
     "exception": false,
     "start_time": "2020-08-11T19:34:30.026453",
     "status": "completed"
    },
    "tags": []
   },
   "outputs": [],
   "source": [
    "# Import Python modules\n",
    "import pandas as pd\n",
    "import plotly.express as px\n",
    "import plotly.graph_objects as go"
   ]
  },
  {
   "cell_type": "markdown",
   "execution_count": null,
   "metadata": {
    "papermill": {
     "duration": 0.005283,
     "end_time": "2020-08-11T19:34:31.256554",
     "exception": false,
     "start_time": "2020-08-11T19:34:31.251271",
     "status": "completed"
    },
    "tags": []
   },
   "source": [
    "*Step 2: Define helper functions*"
   ]
  },
  {
   "cell_type": "code",
   "execution_count": 2,
   "metadata": {
    "_kg_hide-input": true,
    "execution": {
     "iopub.execute_input": "2020-08-11T19:34:31.295960Z",
     "iopub.status.busy": "2020-08-11T19:34:31.279802Z",
     "iopub.status.idle": "2020-08-11T19:34:31.366444Z",
     "shell.execute_reply": "2020-08-11T19:34:31.365764Z"
    },
    "papermill": {
     "duration": 0.104444,
     "end_time": "2020-08-11T19:34:31.366613",
     "exception": false,
     "start_time": "2020-08-11T19:34:31.262169",
     "status": "completed"
    },
    "tags": []
   },
   "outputs": [],
   "source": [
    "def load_zillow_data_rental(state=None,county=None,region=None,city=None):\n",
    "    '''\n",
    "    This function creates a dataframe for whatever city you define.\n",
    "    The dataframe will have a \"Date\" column and then it will also have  \n",
    "    columns for median rental prices and columns for median house prices \n",
    "    and it will all be broken down according to the number of bedrooms \n",
    "    or according to the type of the unit.\n",
    "    '''\n",
    "    # Make a dictionary of file paths\n",
    "    dictionary_with_file_paths = {'/kaggle/input/zillow-house-price-data/DaysOnZillow_City.csv' : 'DaysOnZillow_City',\n",
    "    '/kaggle/input/zillow-house-price-data/Sale_Prices_City.csv' : 'Sale_Prices_City',\n",
    "    '/kaggle/input/zillow-house-price-data/City_MedianRentalPrice_Studio.csv' : 'City_MedianRentalPrice_Studio',\n",
    "    '/kaggle/input/zillow-house-price-data/City_MedianRentalPrice_1Bedroom.csv' : 'City_MedianRentalPrice_1Bedroom',\n",
    "    '/kaggle/input/zillow-house-price-data/City_MedianRentalPrice_2Bedroom.csv' : 'City_MedianRentalPrice_2Bedroom',\n",
    "    '/kaggle/input/zillow-house-price-data/City_MedianRentalPrice_3Bedroom.csv' : 'City_MedianRentalPrice_3Bedroom',\n",
    "    '/kaggle/input/zillow-house-price-data/City_MedianRentalPrice_4Bedroom.csv' : 'City_MedianRentalPrice_4Bedroom',\n",
    "    '/kaggle/input/zillow-house-price-data/City_MedianRentalPrice_5BedroomOrMore.csv' : 'City_MedianRentalPrice_5BedroomOrMore',\n",
    "    '/kaggle/input/zillow-house-price-data/City_Zhvi_1bedroom.csv' : 'City_Zhvi_1bedroom',\n",
    "    '/kaggle/input/zillow-house-price-data/City_Zhvi_2bedroom.csv' : 'City_Zhvi_2bedroom',\n",
    "    '/kaggle/input/zillow-house-price-data/City_Zhvi_3bedroom.csv' : 'City_Zhvi_3bedroom',\n",
    "    '/kaggle/input/zillow-house-price-data/City_Zhvi_4bedroom.csv' : 'City_Zhvi_4bedroom',\n",
    "    '/kaggle/input/zillow-house-price-data/City_Zhvi_5BedroomOrMore.csv' : 'City_Zhvi_5BedroomOrMore',\n",
    "    '/kaggle/input/zillow-house-price-data/City_Zhvi_AllHomes.csv' : 'City_Zhvi_AllHomes',\n",
    "    '/kaggle/input/zillow-house-price-data/City_Zhvi_SingleFamilyResidence.csv' : 'City_Zhvi_SingleFamilyResidence',\n",
    "    '/kaggle/input/zillow-house-price-data/City_Zhvi_Condominum.csv' : 'City_Zhvi_Condominum',}\n",
    "\n",
    "    # Load the files from the file paths into a dictionary of dataframes\n",
    "    dictionary_with_dataframes = {}\n",
    "    for file_path, file_name in dictionary_with_file_paths.items():\n",
    "        name_of_dataframe = str(file_name)\n",
    "        dictionary_with_dataframes[name_of_dataframe] = pd.read_csv(file_path)\n",
    "        dictionary_with_dataframes[name_of_dataframe].rename(columns={'Unnamed: 0':'which_measurement'}, inplace=True)\n",
    "        dictionary_with_dataframes[name_of_dataframe]['which_measurement'] = name_of_dataframe\n",
    "\n",
    "    # Combine the dataframes into one large dataframe that has a new column that labels each subsection\n",
    "    filtered_dataframe = pd.concat(dictionary_with_dataframes.values(), ignore_index=True, sort=True)\n",
    "\n",
    "    # Filter the data according to your needs\n",
    "    states_to_keep = [state]\n",
    "    counties_to_keep = [county]\n",
    "    regions_to_keep = [region]\n",
    "    cities_to_keep = [city]\n",
    "    if state == None:\n",
    "        pass\n",
    "    else:\n",
    "        filtered_dataframe = filtered_dataframe[filtered_dataframe.State.isin(states_to_keep)] #StateName?\n",
    "    if county == None:\n",
    "        pass\n",
    "    else:    \n",
    "        filtered_dataframe = filtered_dataframe[filtered_dataframe.CountyName.isin(counties_to_keep)]\n",
    "    if region == None:\n",
    "        pass\n",
    "    else:     \n",
    "        filtered_dataframe = filtered_dataframe[filtered_dataframe.RegionName.isin(regions_to_keep)]\n",
    "    if city == None:\n",
    "        pass\n",
    "    else:     \n",
    "        filtered_dataframe = filtered_dataframe[filtered_dataframe.Metro.isin(cities_to_keep)]\n",
    "\n",
    "    # Reshape the data\n",
    "    for row in filtered_dataframe:\n",
    "        final_df = filtered_dataframe[['2008-03','2008-04','2008-05','2008-06',\n",
    "               '2008-07', '2008-08', '2008-09', '2008-10', '2008-11', '2008-12',\n",
    "               '2009-01', '2009-02', '2009-03', '2009-04', '2009-05', '2009-06',\n",
    "               '2009-07', '2009-08', '2009-09', '2009-10', '2009-11', '2009-12',\n",
    "               '2010-01', '2010-02', '2010-03', '2010-04', '2010-05', '2010-06',\n",
    "               '2010-07', '2010-08', '2010-09', '2010-10', '2010-11', '2010-12',\n",
    "               '2011-01', '2011-02', '2011-03', '2011-04', '2011-05', '2011-06',\n",
    "               '2011-07', '2011-08', '2011-09', '2011-10', '2011-11', '2011-12',\n",
    "               '2012-01', '2012-02', '2012-03', '2012-04', '2012-05', '2012-06',\n",
    "               '2012-07', '2012-08', '2012-09', '2012-10', '2012-11', '2012-12',\n",
    "               '2013-01', '2013-02', '2013-03', '2013-04', '2013-05', '2013-06',\n",
    "               '2013-07', '2013-08', '2013-09', '2013-10', '2013-11', '2013-12',\n",
    "               '2014-01', '2014-02', '2014-03', '2014-04', '2014-05', '2014-06',\n",
    "               '2014-07', '2014-08', '2014-09', '2014-10', '2014-11', '2014-12',\n",
    "               '2015-01', '2015-02', '2015-03', '2015-04', '2015-05', '2015-06',\n",
    "               '2015-07', '2015-08', '2015-09', '2015-10', '2015-11', '2015-12',\n",
    "               '2016-01', '2016-02', '2016-03', '2016-04', '2016-05', '2016-06',\n",
    "               '2016-07', '2016-08', '2016-09', '2016-10', '2016-11', '2016-12',\n",
    "               '2017-01', '2017-02', '2017-03', '2017-04', '2017-05', '2017-06',\n",
    "               '2017-07', '2017-08', '2017-09', '2017-10', '2017-11', '2017-12',\n",
    "               '2018-01', '2018-02', '2018-03', '2018-04', '2018-05', '2018-06',\n",
    "               '2018-07', '2018-08', '2018-09', '2018-10', '2018-11', '2018-12',\n",
    "               '2019-01', '2019-02', '2019-03', '2019-04', '2019-05', '2019-06',\n",
    "               '2019-07', '2019-08', '2019-09', '2019-10', '2019-11', '2019-12',\n",
    "               '2020-01','2020-02','2020-03',#,'2020-04','2020-05','2020-06',\n",
    "               'which_measurement']]\n",
    "        column_title = final_df['which_measurement'].values\n",
    "        final_df = final_df.T[:-1]#.fillna(0)\n",
    "        final_df.columns = [column_title]\n",
    "    final_df.columns = ['City_MedianRentalPrice_Studio','City_MedianRentalPrice_1Bedroom',\n",
    "                          'City_MedianRentalPrice_2Bedroom','City_MedianRentalPrice_3Bedroom',\n",
    "                          'City_Zhvi_1bedroom','City_Zhvi_2bedroom','City_Zhvi_3bedroom',\n",
    "                          'City_Zhvi_4bedroom','City_Zhvi_5BedroomOrMore','City_Zhvi_AllHomes']#,\n",
    "                          #'City_Zhvi_SingleFamilyResidence','City_Zhvi_Condominum']\n",
    "#     final_df.columns = ['City_MedianRentalPrice_Studio','City_MedianRentalPrice_1Bedroom',\n",
    "#                           'City_MedianRentalPrice_2Bedroom','City_MedianRentalPrice_3Bedroom']\n",
    "    final_df['Date'] = final_df.index\n",
    "    return final_df\n",
    "\n",
    "def load_zillow_data_house(state=None,county=None,region=None,city=None):\n",
    "    '''\n",
    "    This function creates a dataframe for whatever city you define.\n",
    "    The dataframe will have a \"Date\" column and then it will also have  \n",
    "    columns for median rental prices and columns for median house prices \n",
    "    and it will all be broken down according to the number of bedrooms \n",
    "    or according to the type of the unit.\n",
    "    '''\n",
    "    # Make a dictionary of file paths\n",
    "    dictionary_with_file_paths = {'/kaggle/input/zillow-house-price-data/DaysOnZillow_City.csv' : 'DaysOnZillow_City',\n",
    "    '/kaggle/input/zillow-house-price-data/Sale_Prices_City.csv' : 'Sale_Prices_City',\n",
    "    '/kaggle/input/zillow-house-price-data/City_MedianRentalPrice_Studio.csv' : 'City_MedianRentalPrice_Studio',\n",
    "    '/kaggle/input/zillow-house-price-data/City_MedianRentalPrice_1Bedroom.csv' : 'City_MedianRentalPrice_1Bedroom',\n",
    "    '/kaggle/input/zillow-house-price-data/City_MedianRentalPrice_2Bedroom.csv' : 'City_MedianRentalPrice_2Bedroom',\n",
    "    '/kaggle/input/zillow-house-price-data/City_MedianRentalPrice_3Bedroom.csv' : 'City_MedianRentalPrice_3Bedroom',\n",
    "    '/kaggle/input/zillow-house-price-data/City_MedianRentalPrice_4Bedroom.csv' : 'City_MedianRentalPrice_4Bedroom',\n",
    "    '/kaggle/input/zillow-house-price-data/City_MedianRentalPrice_5BedroomOrMore.csv' : 'City_MedianRentalPrice_5BedroomOrMore',\n",
    "    '/kaggle/input/zillow-house-price-data/City_Zhvi_1bedroom.csv' : 'City_Zhvi_1bedroom',\n",
    "    '/kaggle/input/zillow-house-price-data/City_Zhvi_2bedroom.csv' : 'City_Zhvi_2bedroom',\n",
    "    '/kaggle/input/zillow-house-price-data/City_Zhvi_3bedroom.csv' : 'City_Zhvi_3bedroom',\n",
    "    '/kaggle/input/zillow-house-price-data/City_Zhvi_4bedroom.csv' : 'City_Zhvi_4bedroom',\n",
    "    '/kaggle/input/zillow-house-price-data/City_Zhvi_5BedroomOrMore.csv' : 'City_Zhvi_5BedroomOrMore',\n",
    "    '/kaggle/input/zillow-house-price-data/City_Zhvi_AllHomes.csv' : 'City_Zhvi_AllHomes',\n",
    "    '/kaggle/input/zillow-house-price-data/City_Zhvi_SingleFamilyResidence.csv' : 'City_Zhvi_SingleFamilyResidence',\n",
    "    '/kaggle/input/zillow-house-price-data/City_Zhvi_Condominum.csv' : 'City_Zhvi_Condominum',}\n",
    "\n",
    "    # Load the files from the file paths into a dictionary of dataframes\n",
    "    dictionary_with_dataframes = {}\n",
    "    for file_path, file_name in dictionary_with_file_paths.items():\n",
    "        name_of_dataframe = str(file_name)\n",
    "        dictionary_with_dataframes[name_of_dataframe] = pd.read_csv(file_path)\n",
    "        dictionary_with_dataframes[name_of_dataframe].rename(columns={'Unnamed: 0':'which_measurement'}, inplace=True)\n",
    "        dictionary_with_dataframes[name_of_dataframe]['which_measurement'] = name_of_dataframe\n",
    "\n",
    "    # Combine the dataframes into one large dataframe that has a new column that labels each subsection\n",
    "    filtered_dataframe = pd.concat(dictionary_with_dataframes.values(), ignore_index=True, sort=True)\n",
    "\n",
    "    # Filter the data according to your needs\n",
    "    states_to_keep = [state]\n",
    "    counties_to_keep = [county]\n",
    "    regions_to_keep = [region]\n",
    "    cities_to_keep = [city]\n",
    "    if state == None:\n",
    "        pass\n",
    "    else:\n",
    "        filtered_dataframe = filtered_dataframe[filtered_dataframe.StateName.isin(states_to_keep)] \n",
    "    if county == None:\n",
    "        pass\n",
    "    else:    \n",
    "        filtered_dataframe = filtered_dataframe[filtered_dataframe.CountyName.isin(counties_to_keep)]\n",
    "    if region == None:\n",
    "        pass\n",
    "    else:     \n",
    "        filtered_dataframe = filtered_dataframe[filtered_dataframe.RegionName.isin(regions_to_keep)]\n",
    "    if city == None:\n",
    "        pass\n",
    "    else:     \n",
    "        filtered_dataframe = filtered_dataframe[filtered_dataframe.Metro.isin(cities_to_keep)]\n",
    "\n",
    "    # Reshape the data\n",
    "    for row in filtered_dataframe:\n",
    "        final_df = filtered_dataframe[['2008-03-31','2008-04-30','2008-05-31',\n",
    "       '2008-06-30', '2008-07-31', '2008-08-31', '2008-09-30',\n",
    "       '2008-10-31', '2008-11-30', '2008-12-31', '2009-01-31',\n",
    "       '2009-02-28', '2009-03-31', '2009-04-30', '2009-05-31',\n",
    "       '2009-06-30', '2009-07-31', '2009-08-31', '2009-09-30',\n",
    "       '2009-10-31', '2009-11-30', '2009-12-31', '2010-01-31',\n",
    "       '2010-02-28', '2010-03-31', '2010-04-30', '2010-05-31',\n",
    "       '2010-06-30', '2010-07-31', '2010-08-31', '2010-09-30',\n",
    "       '2010-10-31', '2010-11-30', '2010-12-31', '2011-01-31',\n",
    "       '2011-02-28', '2011-03-31', '2011-04-30', '2011-05-31',\n",
    "       '2011-06-30', '2011-07-31', '2011-08-31', '2011-09-30',\n",
    "       '2011-10-31', '2011-11-30', '2011-12-31', '2012-01-31',\n",
    "       '2012-02-29', '2012-03-31', '2012-04-30', '2012-05-31',\n",
    "       '2012-06-30', '2012-07-31', '2012-08-31', '2012-09-30',\n",
    "       '2012-10-31', '2012-11-30', '2012-12-31', '2013-01-31',\n",
    "       '2013-02-28', '2013-03-31', '2013-04-30', '2013-05-31',\n",
    "       '2013-06-30', '2013-07-31', '2013-08-31', '2013-09-30',\n",
    "       '2013-10-31', '2013-11-30', '2013-12-31', '2014-01-31',\n",
    "       '2014-02-28', '2014-03-31', '2014-04-30', '2014-05-31',\n",
    "       '2014-06-30', '2014-07-31', '2014-08-31', '2014-09-30',\n",
    "       '2014-10-31', '2014-11-30', '2014-12-31', '2015-01-31',\n",
    "       '2015-02-28', '2015-03-31', '2015-04-30', '2015-05-31',\n",
    "       '2015-06-30', '2015-07-31', '2015-08-31', '2015-09-30',\n",
    "       '2015-10-31', '2015-11-30', '2015-12-31', '2016-01-31',\n",
    "       '2016-02-29', '2016-03-31', '2016-04-30', '2016-05-31',\n",
    "       '2016-06-30', '2016-07-31', '2016-08-31', '2016-09-30',\n",
    "       '2016-10-31', '2016-11-30', '2016-12-31', '2017-01-31',\n",
    "       '2017-02-28', '2017-03-31', '2017-04-30', '2017-05-31',\n",
    "       '2017-06-30', '2017-07-31', '2017-08-31', '2017-09-30',\n",
    "       '2017-10-31', '2017-11-30', '2017-12-31', '2018-01-31',\n",
    "       '2018-02-28', '2018-03-31', '2018-04-30', '2018-05-31',\n",
    "       '2018-06-30', '2018-07-31', '2018-08-31', '2018-09-30',\n",
    "       '2018-10-31', '2018-11-30', '2018-12-31', '2019-01-31',\n",
    "       '2019-02-28', '2019-03-31', '2019-04-30', '2019-05-31',\n",
    "       '2019-06-30', '2019-07-31', '2019-08-31', '2019-09-30',\n",
    "       '2019-10-31', '2019-11-30', '2019-12-31', '2020-01-31',\n",
    "       '2020-02-29', '2020-03-31',#,'2020-04-30','2020-05-31','2020-06-30',\n",
    "       'which_measurement']]\n",
    "        column_title = final_df['which_measurement'].values\n",
    "        final_df = final_df.T[:-1]#.fillna(0)\n",
    "        final_df.columns = [column_title]\n",
    "    final_df.columns = [#'City_MedianRentalPrice_Studio','City_MedianRentalPrice_1Bedroom',\n",
    "                        #  'City_MedianRentalPrice_2Bedroom','City_MedianRentalPrice_3Bedroom',\n",
    "                          'City_Zhvi_1bedroom','City_Zhvi_2bedroom','City_Zhvi_3bedroom',\n",
    "                          'City_Zhvi_4bedroom','City_Zhvi_5BedroomOrMore','City_Zhvi_AllHomes',\n",
    "                          'City_Zhvi_SingleFamilyResidence','City_Zhvi_Condominum']\n",
    "    final_df['Date'] = final_df.index\n",
    "    return final_df\n",
    "\n",
    "def plot_seven_columns_using_plotly_regular(dataframe,column_one,column_two,column_three,column_four,column_five,column_six,column_seven,title):    \n",
    "    '''\n",
    "    This function plots seven numerical columns against a date column.\n",
    "    It using the regular plotly library instead of plotly express.\n",
    "    '''\n",
    "    fig = go.Figure()\n",
    "    fig.add_trace(go.Scatter(x=dataframe.Date, y=dataframe[column_one],\n",
    "                        mode='lines+markers',name=column_one))\n",
    "    fig.add_trace(go.Scatter(x=dataframe.Date, y=dataframe[column_two],\n",
    "                        mode='lines+markers',name=column_two))\n",
    "    fig.add_trace(go.Scatter(x=dataframe.Date, y=dataframe[column_three],\n",
    "                        mode='lines+markers',name=column_three))\n",
    "    fig.add_trace(go.Scatter(x=dataframe.Date, y=dataframe[column_four],\n",
    "                        mode='lines+markers',name=column_four))\n",
    "    fig.add_trace(go.Scatter(x=dataframe.Date, y=dataframe[column_five],\n",
    "                        mode='lines+markers',name=column_five))\n",
    "    fig.add_trace(go.Scatter(x=dataframe.Date, y=dataframe[column_six],\n",
    "                        mode='lines+markers',name=column_six))\n",
    "    fig.add_trace(go.Scatter(x=dataframe.Date, y=dataframe[column_seven],\n",
    "                        mode='lines+markers',name=column_seven))\n",
    "    fig.update_layout(title={'text':title},\n",
    "                      xaxis_title='Date',yaxis_title='Median Price ($USD)',\n",
    "                      legend_orientation=\"h\",showlegend=True)\n",
    "    fig.show()\n",
    "\n",
    "def plot_seven_columns_using_plotly_express(dataframe,column_one,column_two,column_three,column_four,column_five,column_six,column_seven,title):    \n",
    "    '''\n",
    "    This function plots seven numerical columns against a date column.\n",
    "    It using the plotly express library instead of the normal plotly library.\n",
    "    '''\n",
    "    df_melt = dataframe.melt(id_vars='Date', value_vars=[column_one,column_two,column_three,column_four,column_five,column_six,column_seven])\n",
    "    fig = px.line(df_melt, x=\"Date\", y=\"value\", color=\"variable\",title=title).update(layout=dict(xaxis_title='Date',yaxis_title='Median Price ($USD)',legend_orientation=\"h\",showlegend=True))\n",
    "    fig.show()\n",
    "\n",
    "def plot_four_columns_using_plotly_regular(dataframe,column_one,column_two,column_three,column_four,title,lower_axis_limit,upper_axis_limit):    \n",
    "    '''\n",
    "    This function plots four numerical columns against a date column.\n",
    "    It using the regular plotly library instead of plotly express.\n",
    "    '''\n",
    "    fig = go.Figure()\n",
    "    fig.add_trace(go.Scatter(x=dataframe.Date, y=dataframe[column_one],\n",
    "                        mode='lines+markers',name=column_one))\n",
    "    fig.add_trace(go.Scatter(x=dataframe.Date, y=dataframe[column_two],\n",
    "                        mode='lines+markers',name=column_two))\n",
    "    fig.add_trace(go.Scatter(x=dataframe.Date, y=dataframe[column_three],\n",
    "                        mode='lines+markers',name=column_three))\n",
    "    fig.add_trace(go.Scatter(x=dataframe.Date, y=dataframe[column_four],\n",
    "                        mode='lines+markers',name=column_four))\n",
    "    fig.update_layout(title={'text':title},\n",
    "                      xaxis_title='Date',yaxis_title='Median Price ($USD)',\n",
    "                      legend_orientation=\"h\",showlegend=True)\n",
    "    fig.update_layout(xaxis=dict(range=[lower_axis_limit,upper_axis_limit]))\n",
    "    fig.show()    \n",
    "    \n",
    "def plot_four_columns_using_plotly_express(dataframe,column_one,column_two,column_three,column_four,title,lower_axis_limit,upper_axis_limit):\n",
    "    '''\n",
    "    This function plots four numerical columns against a date column.\n",
    "    It using the plotly express library instead of the normal plotly library.\n",
    "    '''\n",
    "    df_melt = dataframe.melt(id_vars='Date', value_vars=[column_one,column_two,column_three,column_four])\n",
    "    fig = px.line(df_melt, x=\"Date\", y=\"value\", color=\"variable\",title=title).update(layout=dict(xaxis_title='Date',yaxis_title='Median Price ($USD)',legend_orientation=\"h\",showlegend=True))\n",
    "    fig.update_xaxes(range=[lower_axis_limit,upper_axis_limit])\n",
    "    fig.show()\n"
   ]
  },
  {
   "cell_type": "markdown",
   "execution_count": null,
   "metadata": {
    "papermill": {
     "duration": 0.005713,
     "end_time": "2020-08-11T19:34:31.378255",
     "exception": false,
     "start_time": "2020-08-11T19:34:31.372542",
     "status": "completed"
    },
    "tags": []
   },
   "source": [
    "*Step 3: Load the data*"
   ]
  },
  {
   "cell_type": "code",
   "execution_count": 3,
   "metadata": {
    "_kg_hide-input": true,
    "_kg_hide-output": false,
    "execution": {
     "iopub.execute_input": "2020-08-11T19:34:31.399180Z",
     "iopub.status.busy": "2020-08-11T19:34:31.398284Z",
     "iopub.status.idle": "2020-08-11T19:34:44.269851Z",
     "shell.execute_reply": "2020-08-11T19:34:44.269030Z"
    },
    "papermill": {
     "duration": 12.885919,
     "end_time": "2020-08-11T19:34:44.269988",
     "exception": false,
     "start_time": "2020-08-11T19:34:31.384069",
     "status": "completed"
    },
    "tags": []
   },
   "outputs": [],
   "source": [
    "# Load and plot the data for the state, county, region, or city that you are interested in.  \n",
    "# golden_df_rental = load_zillow_data_rental(state='CO',county='Jefferson County',\n",
    "#                               region='Golden',city='Denver-Aurora-Lakewood')\n",
    "golden_df_house = load_zillow_data_house(state='CO',county='Jefferson County',\n",
    "                              region='Golden',city='Denver-Aurora-Lakewood')"
   ]
  },
  {
   "cell_type": "markdown",
   "execution_count": null,
   "metadata": {
    "papermill": {
     "duration": 0.005364,
     "end_time": "2020-08-11T19:34:44.281147",
     "exception": false,
     "start_time": "2020-08-11T19:34:44.275783",
     "status": "completed"
    },
    "tags": []
   },
   "source": [
    "*Step 3: Plot median house prices*"
   ]
  },
  {
   "cell_type": "markdown",
   "execution_count": null,
   "metadata": {
    "papermill": {
     "duration": 0.005628,
     "end_time": "2020-08-11T19:34:44.292498",
     "exception": false,
     "start_time": "2020-08-11T19:34:44.286870",
     "status": "completed"
    },
    "tags": []
   },
   "source": [
    "Using [Plotly](https://plot.ly/)"
   ]
  },
  {
   "cell_type": "code",
   "execution_count": 4,
   "metadata": {
    "_kg_hide-input": true,
    "execution": {
     "iopub.execute_input": "2020-08-11T19:34:44.310220Z",
     "iopub.status.busy": "2020-08-11T19:34:44.309365Z",
     "iopub.status.idle": "2020-08-11T19:34:44.533740Z",
     "shell.execute_reply": "2020-08-11T19:34:44.534332Z"
    },
    "papermill": {
     "duration": 0.236297,
     "end_time": "2020-08-11T19:34:44.534507",
     "exception": false,
     "start_time": "2020-08-11T19:34:44.298210",
     "status": "completed"
    },
    "tags": []
   },
   "outputs": [
    {
     "data": {
      "text/html": [
       "        <script type=\"text/javascript\">\n",
       "        window.PlotlyConfig = {MathJaxConfig: 'local'};\n",
       "        if (window.MathJax) {MathJax.Hub.Config({SVG: {font: \"STIX-Web\"}});}\n",
       "        if (typeof require !== 'undefined') {\n",
       "        require.undef(\"plotly\");\n",
       "        requirejs.config({\n",
       "            paths: {\n",
       "                'plotly': ['https://cdn.plot.ly/plotly-latest.min']\n",
       "            }\n",
       "        });\n",
       "        require(['plotly'], function(Plotly) {\n",
       "            window._Plotly = Plotly;\n",
       "        });\n",
       "        }\n",
       "        </script>\n",
       "        "
      ]
     },
     "metadata": {},
     "output_type": "display_data"
    },
    {
     "data": {
      "text/html": [
       "<div>\n",
       "        \n",
       "        \n",
       "            <div id=\"6a4f82b6-1b4a-4f46-86e2-be8561b91b25\" class=\"plotly-graph-div\" style=\"height:525px; width:100%;\"></div>\n",
       "            <script type=\"text/javascript\">\n",
       "                require([\"plotly\"], function(Plotly) {\n",
       "                    window.PLOTLYENV=window.PLOTLYENV || {};\n",
       "                    \n",
       "                if (document.getElementById(\"6a4f82b6-1b4a-4f46-86e2-be8561b91b25\")) {\n",
       "                    Plotly.newPlot(\n",
       "                        '6a4f82b6-1b4a-4f46-86e2-be8561b91b25',\n",
       "                        [{\"mode\": \"lines+markers\", \"name\": \"City_Zhvi_Condominum\", \"type\": \"scatter\", \"x\": [\"2008-03-31\", \"2008-04-30\", \"2008-05-31\", \"2008-06-30\", \"2008-07-31\", \"2008-08-31\", \"2008-09-30\", \"2008-10-31\", \"2008-11-30\", \"2008-12-31\", \"2009-01-31\", \"2009-02-28\", \"2009-03-31\", \"2009-04-30\", \"2009-05-31\", \"2009-06-30\", \"2009-07-31\", \"2009-08-31\", \"2009-09-30\", \"2009-10-31\", \"2009-11-30\", \"2009-12-31\", \"2010-01-31\", \"2010-02-28\", \"2010-03-31\", \"2010-04-30\", \"2010-05-31\", \"2010-06-30\", \"2010-07-31\", \"2010-08-31\", \"2010-09-30\", \"2010-10-31\", \"2010-11-30\", \"2010-12-31\", \"2011-01-31\", \"2011-02-28\", \"2011-03-31\", \"2011-04-30\", \"2011-05-31\", \"2011-06-30\", \"2011-07-31\", \"2011-08-31\", \"2011-09-30\", \"2011-10-31\", \"2011-11-30\", \"2011-12-31\", \"2012-01-31\", \"2012-02-29\", \"2012-03-31\", \"2012-04-30\", \"2012-05-31\", \"2012-06-30\", \"2012-07-31\", \"2012-08-31\", \"2012-09-30\", \"2012-10-31\", \"2012-11-30\", \"2012-12-31\", \"2013-01-31\", \"2013-02-28\", \"2013-03-31\", \"2013-04-30\", \"2013-05-31\", \"2013-06-30\", \"2013-07-31\", \"2013-08-31\", \"2013-09-30\", \"2013-10-31\", \"2013-11-30\", \"2013-12-31\", \"2014-01-31\", \"2014-02-28\", \"2014-03-31\", \"2014-04-30\", \"2014-05-31\", \"2014-06-30\", \"2014-07-31\", \"2014-08-31\", \"2014-09-30\", \"2014-10-31\", \"2014-11-30\", \"2014-12-31\", \"2015-01-31\", \"2015-02-28\", \"2015-03-31\", \"2015-04-30\", \"2015-05-31\", \"2015-06-30\", \"2015-07-31\", \"2015-08-31\", \"2015-09-30\", \"2015-10-31\", \"2015-11-30\", \"2015-12-31\", \"2016-01-31\", \"2016-02-29\", \"2016-03-31\", \"2016-04-30\", \"2016-05-31\", \"2016-06-30\", \"2016-07-31\", \"2016-08-31\", \"2016-09-30\", \"2016-10-31\", \"2016-11-30\", \"2016-12-31\", \"2017-01-31\", \"2017-02-28\", \"2017-03-31\", \"2017-04-30\", \"2017-05-31\", \"2017-06-30\", \"2017-07-31\", \"2017-08-31\", \"2017-09-30\", \"2017-10-31\", \"2017-11-30\", \"2017-12-31\", \"2018-01-31\", \"2018-02-28\", \"2018-03-31\", \"2018-04-30\", \"2018-05-31\", \"2018-06-30\", \"2018-07-31\", \"2018-08-31\", \"2018-09-30\", \"2018-10-31\", \"2018-11-30\", \"2018-12-31\", \"2019-01-31\", \"2019-02-28\", \"2019-03-31\", \"2019-04-30\", \"2019-05-31\", \"2019-06-30\", \"2019-07-31\", \"2019-08-31\", \"2019-09-30\", \"2019-10-31\", \"2019-11-30\", \"2019-12-31\", \"2020-01-31\", \"2020-02-29\", \"2020-03-31\"], \"y\": [137137.0, 137106.0, 136907.0, 136493.0, 135484.0, 134803.0, 134330.0, 133978.0, 133489.0, 133032.0, 132769.0, 132887.0, 132955.0, 132473.0, 131459.0, 130316.0, 129474.0, 129082.0, 129171.0, 129137.0, 129262.0, 129224.0, 129468.0, 129934.0, 130180.0, 130206.0, 129769.0, 129414.0, 128667.0, 127707.0, 126167.0, 125201.0, 124472.0, 123929.0, 123148.0, 121917.0, 121129.0, 120860.0, 121290.0, 121336.0, 121544.0, 121400.0, 121862.0, 121971.0, 121750.0, 121753.0, 121789.0, 122117.0, 121763.0, 121523.0, 121784.0, 123000.0, 124297.0, 125745.0, 126926.0, 128331.0, 129848.0, 130823.0, 131945.0, 132624.0, 134473.0, 135700.0, 136854.0, 137146.0, 137949.0, 138641.0, 139301.0, 139752.0, 140265.0, 141217.0, 141731.0, 142939.0, 143526.0, 144807.0, 145818.0, 147270.0, 148426.0, 149605.0, 151035.0, 152532.0, 154672.0, 156569.0, 159605.0, 161762.0, 163669.0, 165351.0, 167335.0, 169541.0, 171466.0, 173644.0, 175386.0, 177676.0, 179229.0, 181467.0, 181825.0, 183048.0, 184738.0, 187039.0, 188910.0, 190921.0, 193528.0, 196301.0, 199105.0, 201263.0, 203631.0, 205687.0, 209049.0, 212338.0, 215825.0, 218168.0, 220662.0, 222157.0, 223446.0, 224445.0, 226170.0, 228429.0, 230579.0, 232817.0, 234809.0, 236911.0, 238570.0, 240700.0, 243196.0, 246552.0, 249852.0, 253044.0, 256267.0, 259190.0, 262102.0, 262742.0, 263333.0, 264264.0, 265957.0, 267711.0, 268172.0, 268580.0, 268884.0, 269281.0, 269155.0, 268972.0, 268693.0, 270017.0, 271086.0, 271627.0, 271585.0]}, {\"mode\": \"lines+markers\", \"name\": \"City_Zhvi_SingleFamilyResidence\", \"type\": \"scatter\", \"x\": [\"2008-03-31\", \"2008-04-30\", \"2008-05-31\", \"2008-06-30\", \"2008-07-31\", \"2008-08-31\", \"2008-09-30\", \"2008-10-31\", \"2008-11-30\", \"2008-12-31\", \"2009-01-31\", \"2009-02-28\", \"2009-03-31\", \"2009-04-30\", \"2009-05-31\", \"2009-06-30\", \"2009-07-31\", \"2009-08-31\", \"2009-09-30\", \"2009-10-31\", \"2009-11-30\", \"2009-12-31\", \"2010-01-31\", \"2010-02-28\", \"2010-03-31\", \"2010-04-30\", \"2010-05-31\", \"2010-06-30\", \"2010-07-31\", \"2010-08-31\", \"2010-09-30\", \"2010-10-31\", \"2010-11-30\", \"2010-12-31\", \"2011-01-31\", \"2011-02-28\", \"2011-03-31\", \"2011-04-30\", \"2011-05-31\", \"2011-06-30\", \"2011-07-31\", \"2011-08-31\", \"2011-09-30\", \"2011-10-31\", \"2011-11-30\", \"2011-12-31\", \"2012-01-31\", \"2012-02-29\", \"2012-03-31\", \"2012-04-30\", \"2012-05-31\", \"2012-06-30\", \"2012-07-31\", \"2012-08-31\", \"2012-09-30\", \"2012-10-31\", \"2012-11-30\", \"2012-12-31\", \"2013-01-31\", \"2013-02-28\", \"2013-03-31\", \"2013-04-30\", \"2013-05-31\", \"2013-06-30\", \"2013-07-31\", \"2013-08-31\", \"2013-09-30\", \"2013-10-31\", \"2013-11-30\", \"2013-12-31\", \"2014-01-31\", \"2014-02-28\", \"2014-03-31\", \"2014-04-30\", \"2014-05-31\", \"2014-06-30\", \"2014-07-31\", \"2014-08-31\", \"2014-09-30\", \"2014-10-31\", \"2014-11-30\", \"2014-12-31\", \"2015-01-31\", \"2015-02-28\", \"2015-03-31\", \"2015-04-30\", \"2015-05-31\", \"2015-06-30\", \"2015-07-31\", \"2015-08-31\", \"2015-09-30\", \"2015-10-31\", \"2015-11-30\", \"2015-12-31\", \"2016-01-31\", \"2016-02-29\", \"2016-03-31\", \"2016-04-30\", \"2016-05-31\", \"2016-06-30\", \"2016-07-31\", \"2016-08-31\", \"2016-09-30\", \"2016-10-31\", \"2016-11-30\", \"2016-12-31\", \"2017-01-31\", \"2017-02-28\", \"2017-03-31\", \"2017-04-30\", \"2017-05-31\", \"2017-06-30\", \"2017-07-31\", \"2017-08-31\", \"2017-09-30\", \"2017-10-31\", \"2017-11-30\", \"2017-12-31\", \"2018-01-31\", \"2018-02-28\", \"2018-03-31\", \"2018-04-30\", \"2018-05-31\", \"2018-06-30\", \"2018-07-31\", \"2018-08-31\", \"2018-09-30\", \"2018-10-31\", \"2018-11-30\", \"2018-12-31\", \"2019-01-31\", \"2019-02-28\", \"2019-03-31\", \"2019-04-30\", \"2019-05-31\", \"2019-06-30\", \"2019-07-31\", \"2019-08-31\", \"2019-09-30\", \"2019-10-31\", \"2019-11-30\", \"2019-12-31\", \"2020-01-31\", \"2020-02-29\", \"2020-03-31\"], \"y\": [352900.0, 354567.0, 355590.0, 356244.0, 354808.0, 354812.0, 355005.0, 355004.0, 354465.0, 354069.0, 354332.0, 354069.0, 353784.0, 352102.0, 350639.0, 349369.0, 349854.0, 349791.0, 349953.0, 349843.0, 349752.0, 349855.0, 349218.0, 350620.0, 351325.0, 352500.0, 352299.0, 351262.0, 349414.0, 347513.0, 345520.0, 344413.0, 344072.0, 343714.0, 343468.0, 341396.0, 339953.0, 338482.0, 337980.0, 337687.0, 337486.0, 337848.0, 338961.0, 340215.0, 340541.0, 340922.0, 340744.0, 341113.0, 341352.0, 342949.0, 345580.0, 348694.0, 351331.0, 352740.0, 354551.0, 356569.0, 359662.0, 361552.0, 364474.0, 367525.0, 371797.0, 374403.0, 376600.0, 378894.0, 382986.0, 387598.0, 390618.0, 392064.0, 392988.0, 395824.0, 397712.0, 400187.0, 401126.0, 403601.0, 405985.0, 408230.0, 409941.0, 410883.0, 413049.0, 416578.0, 421263.0, 425697.0, 431698.0, 436045.0, 440246.0, 443043.0, 447059.0, 452009.0, 456050.0, 461369.0, 466109.0, 471313.0, 475156.0, 478908.0, 480760.0, 483401.0, 486990.0, 491517.0, 494825.0, 497121.0, 501116.0, 505837.0, 510195.0, 512939.0, 515471.0, 518090.0, 521856.0, 526871.0, 532161.0, 537319.0, 541136.0, 543620.0, 544133.0, 543801.0, 544600.0, 547092.0, 550499.0, 554764.0, 558344.0, 561353.0, 563411.0, 566314.0, 570731.0, 576620.0, 582515.0, 587007.0, 592257.0, 596331.0, 601545.0, 602504.0, 603205.0, 604841.0, 607232.0, 609703.0, 609461.0, 609869.0, 610898.0, 613258.0, 614559.0, 616233.0, 616620.0, 619814.0, 623390.0, 626250.0, 629018.0]}, {\"mode\": \"lines+markers\", \"name\": \"City_Zhvi_1bedroom\", \"type\": \"scatter\", \"x\": [\"2008-03-31\", \"2008-04-30\", \"2008-05-31\", \"2008-06-30\", \"2008-07-31\", \"2008-08-31\", \"2008-09-30\", \"2008-10-31\", \"2008-11-30\", \"2008-12-31\", \"2009-01-31\", \"2009-02-28\", \"2009-03-31\", \"2009-04-30\", \"2009-05-31\", \"2009-06-30\", \"2009-07-31\", \"2009-08-31\", \"2009-09-30\", \"2009-10-31\", \"2009-11-30\", \"2009-12-31\", \"2010-01-31\", \"2010-02-28\", \"2010-03-31\", \"2010-04-30\", \"2010-05-31\", \"2010-06-30\", \"2010-07-31\", \"2010-08-31\", \"2010-09-30\", \"2010-10-31\", \"2010-11-30\", \"2010-12-31\", \"2011-01-31\", \"2011-02-28\", \"2011-03-31\", \"2011-04-30\", \"2011-05-31\", \"2011-06-30\", \"2011-07-31\", \"2011-08-31\", \"2011-09-30\", \"2011-10-31\", \"2011-11-30\", \"2011-12-31\", \"2012-01-31\", \"2012-02-29\", \"2012-03-31\", \"2012-04-30\", \"2012-05-31\", \"2012-06-30\", \"2012-07-31\", \"2012-08-31\", \"2012-09-30\", \"2012-10-31\", \"2012-11-30\", \"2012-12-31\", \"2013-01-31\", \"2013-02-28\", \"2013-03-31\", \"2013-04-30\", \"2013-05-31\", \"2013-06-30\", \"2013-07-31\", \"2013-08-31\", \"2013-09-30\", \"2013-10-31\", \"2013-11-30\", \"2013-12-31\", \"2014-01-31\", \"2014-02-28\", \"2014-03-31\", \"2014-04-30\", \"2014-05-31\", \"2014-06-30\", \"2014-07-31\", \"2014-08-31\", \"2014-09-30\", \"2014-10-31\", \"2014-11-30\", \"2014-12-31\", \"2015-01-31\", \"2015-02-28\", \"2015-03-31\", \"2015-04-30\", \"2015-05-31\", \"2015-06-30\", \"2015-07-31\", \"2015-08-31\", \"2015-09-30\", \"2015-10-31\", \"2015-11-30\", \"2015-12-31\", \"2016-01-31\", \"2016-02-29\", \"2016-03-31\", \"2016-04-30\", \"2016-05-31\", \"2016-06-30\", \"2016-07-31\", \"2016-08-31\", \"2016-09-30\", \"2016-10-31\", \"2016-11-30\", \"2016-12-31\", \"2017-01-31\", \"2017-02-28\", \"2017-03-31\", \"2017-04-30\", \"2017-05-31\", \"2017-06-30\", \"2017-07-31\", \"2017-08-31\", \"2017-09-30\", \"2017-10-31\", \"2017-11-30\", \"2017-12-31\", \"2018-01-31\", \"2018-02-28\", \"2018-03-31\", \"2018-04-30\", \"2018-05-31\", \"2018-06-30\", \"2018-07-31\", \"2018-08-31\", \"2018-09-30\", \"2018-10-31\", \"2018-11-30\", \"2018-12-31\", \"2019-01-31\", \"2019-02-28\", \"2019-03-31\", \"2019-04-30\", \"2019-05-31\", \"2019-06-30\", \"2019-07-31\", \"2019-08-31\", \"2019-09-30\", \"2019-10-31\", \"2019-11-30\", \"2019-12-31\", \"2020-01-31\", \"2020-02-29\", \"2020-03-31\"], \"y\": [159727.0, 159975.0, 160425.0, 159669.0, 157713.0, 155733.0, 155558.0, 155636.0, 155591.0, 155132.0, 154932.0, 154665.0, 154490.0, 153809.0, 152254.0, 151215.0, 150951.0, 151218.0, 150884.0, 150253.0, 149508.0, 148570.0, 147850.0, 147542.0, 146654.0, 145768.0, 144963.0, 145082.0, 144794.0, 144247.0, 142960.0, 141993.0, 141529.0, 141340.0, 140892.0, 140020.0, 140219.0, 140693.0, 141136.0, 139651.0, 138321.0, 137081.0, 137677.0, 138283.0, 138714.0, 138756.0, 138859.0, 139156.0, 139207.0, 139361.0, 140182.0, 142087.0, 143871.0, 145323.0, 145552.0, 146163.0, 146855.0, 147805.0, 148964.0, 150000.0, 151554.0, 152301.0, 152964.0, 153539.0, 154810.0, 156111.0, 157249.0, 157974.0, 158816.0, 160439.0, 161682.0, 163209.0, 163423.0, 164689.0, 166477.0, 168057.0, 169024.0, 169398.0, 170926.0, 172327.0, 174187.0, 175495.0, 178383.0, 180783.0, 183969.0, 186740.0, 188961.0, 192346.0, 196172.0, 200862.0, 204498.0, 208425.0, 211762.0, 214774.0, 215694.0, 217111.0, 219394.0, 222084.0, 224717.0, 226327.0, 228405.0, 231670.0, 234978.0, 238296.0, 241055.0, 244329.0, 247656.0, 251516.0, 254145.0, 256391.0, 258272.0, 260131.0, 261278.0, 260527.0, 260417.0, 261608.0, 263349.0, 265777.0, 267980.0, 269980.0, 271807.0, 274243.0, 276759.0, 279422.0, 282355.0, 286225.0, 291060.0, 293176.0, 295851.0, 295546.0, 297103.0, 298843.0, 301434.0, 303397.0, 304472.0, 306008.0, 307457.0, 308710.0, 308746.0, 310076.0, 310682.0, 313004.0, 313909.0, 314468.0, 314548.0]}, {\"mode\": \"lines+markers\", \"name\": \"City_Zhvi_2bedroom\", \"type\": \"scatter\", \"x\": [\"2008-03-31\", \"2008-04-30\", \"2008-05-31\", \"2008-06-30\", \"2008-07-31\", \"2008-08-31\", \"2008-09-30\", \"2008-10-31\", \"2008-11-30\", \"2008-12-31\", \"2009-01-31\", \"2009-02-28\", \"2009-03-31\", \"2009-04-30\", \"2009-05-31\", \"2009-06-30\", \"2009-07-31\", \"2009-08-31\", \"2009-09-30\", \"2009-10-31\", \"2009-11-30\", \"2009-12-31\", \"2010-01-31\", \"2010-02-28\", \"2010-03-31\", \"2010-04-30\", \"2010-05-31\", \"2010-06-30\", \"2010-07-31\", \"2010-08-31\", \"2010-09-30\", \"2010-10-31\", \"2010-11-30\", \"2010-12-31\", \"2011-01-31\", \"2011-02-28\", \"2011-03-31\", \"2011-04-30\", \"2011-05-31\", \"2011-06-30\", \"2011-07-31\", \"2011-08-31\", \"2011-09-30\", \"2011-10-31\", \"2011-11-30\", \"2011-12-31\", \"2012-01-31\", \"2012-02-29\", \"2012-03-31\", \"2012-04-30\", \"2012-05-31\", \"2012-06-30\", \"2012-07-31\", \"2012-08-31\", \"2012-09-30\", \"2012-10-31\", \"2012-11-30\", \"2012-12-31\", \"2013-01-31\", \"2013-02-28\", \"2013-03-31\", \"2013-04-30\", \"2013-05-31\", \"2013-06-30\", \"2013-07-31\", \"2013-08-31\", \"2013-09-30\", \"2013-10-31\", \"2013-11-30\", \"2013-12-31\", \"2014-01-31\", \"2014-02-28\", \"2014-03-31\", \"2014-04-30\", \"2014-05-31\", \"2014-06-30\", \"2014-07-31\", \"2014-08-31\", \"2014-09-30\", \"2014-10-31\", \"2014-11-30\", \"2014-12-31\", \"2015-01-31\", \"2015-02-28\", \"2015-03-31\", \"2015-04-30\", \"2015-05-31\", \"2015-06-30\", \"2015-07-31\", \"2015-08-31\", \"2015-09-30\", \"2015-10-31\", \"2015-11-30\", \"2015-12-31\", \"2016-01-31\", \"2016-02-29\", \"2016-03-31\", \"2016-04-30\", \"2016-05-31\", \"2016-06-30\", \"2016-07-31\", \"2016-08-31\", \"2016-09-30\", \"2016-10-31\", \"2016-11-30\", \"2016-12-31\", \"2017-01-31\", \"2017-02-28\", \"2017-03-31\", \"2017-04-30\", \"2017-05-31\", \"2017-06-30\", \"2017-07-31\", \"2017-08-31\", \"2017-09-30\", \"2017-10-31\", \"2017-11-30\", \"2017-12-31\", \"2018-01-31\", \"2018-02-28\", \"2018-03-31\", \"2018-04-30\", \"2018-05-31\", \"2018-06-30\", \"2018-07-31\", \"2018-08-31\", \"2018-09-30\", \"2018-10-31\", \"2018-11-30\", \"2018-12-31\", \"2019-01-31\", \"2019-02-28\", \"2019-03-31\", \"2019-04-30\", \"2019-05-31\", \"2019-06-30\", \"2019-07-31\", \"2019-08-31\", \"2019-09-30\", \"2019-10-31\", \"2019-11-30\", \"2019-12-31\", \"2020-01-31\", \"2020-02-29\", \"2020-03-31\"], \"y\": [215907.0, 216526.0, 217421.0, 218112.0, 217304.0, 216961.0, 216863.0, 216841.0, 216384.0, 215787.0, 215874.0, 215945.0, 216434.0, 215684.0, 214635.0, 213521.0, 213203.0, 213043.0, 213160.0, 213132.0, 212815.0, 212974.0, 213069.0, 214321.0, 214411.0, 214852.0, 214553.0, 214321.0, 214195.0, 213485.0, 212269.0, 211173.0, 211130.0, 210975.0, 210321.0, 208562.0, 207795.0, 207463.0, 207144.0, 205743.0, 204320.0, 203685.0, 204470.0, 205568.0, 206162.0, 206672.0, 206812.0, 207261.0, 206980.0, 207440.0, 208938.0, 211820.0, 214232.0, 216002.0, 217426.0, 219214.0, 221310.0, 222670.0, 224960.0, 227045.0, 230310.0, 232260.0, 234106.0, 235370.0, 237523.0, 239709.0, 241358.0, 242001.0, 242404.0, 244165.0, 245615.0, 247986.0, 249293.0, 251012.0, 252643.0, 253915.0, 255420.0, 256582.0, 258916.0, 261754.0, 265196.0, 268149.0, 272016.0, 274800.0, 277958.0, 281149.0, 284872.0, 290650.0, 295863.0, 301869.0, 305751.0, 309804.0, 313122.0, 316845.0, 319143.0, 321945.0, 324914.0, 328150.0, 330652.0, 332188.0, 334549.0, 337942.0, 341744.0, 345501.0, 349043.0, 352433.0, 355683.0, 359605.0, 363424.0, 367689.0, 371668.0, 374238.0, 375469.0, 374490.0, 375199.0, 376487.0, 378671.0, 380748.0, 382778.0, 384438.0, 385896.0, 387918.0, 390487.0, 393811.0, 397513.0, 401624.0, 406271.0, 409610.0, 413085.0, 413732.0, 414559.0, 415649.0, 417635.0, 419094.0, 419242.0, 420002.0, 420954.0, 422447.0, 422630.0, 423518.0, 423879.0, 426461.0, 428994.0, 431326.0, 433116.0]}, {\"mode\": \"lines+markers\", \"name\": \"City_Zhvi_3bedroom\", \"type\": \"scatter\", \"x\": [\"2008-03-31\", \"2008-04-30\", \"2008-05-31\", \"2008-06-30\", \"2008-07-31\", \"2008-08-31\", \"2008-09-30\", \"2008-10-31\", \"2008-11-30\", \"2008-12-31\", \"2009-01-31\", \"2009-02-28\", \"2009-03-31\", \"2009-04-30\", \"2009-05-31\", \"2009-06-30\", \"2009-07-31\", \"2009-08-31\", \"2009-09-30\", \"2009-10-31\", \"2009-11-30\", \"2009-12-31\", \"2010-01-31\", \"2010-02-28\", \"2010-03-31\", \"2010-04-30\", \"2010-05-31\", \"2010-06-30\", \"2010-07-31\", \"2010-08-31\", \"2010-09-30\", \"2010-10-31\", \"2010-11-30\", \"2010-12-31\", \"2011-01-31\", \"2011-02-28\", \"2011-03-31\", \"2011-04-30\", \"2011-05-31\", \"2011-06-30\", \"2011-07-31\", \"2011-08-31\", \"2011-09-30\", \"2011-10-31\", \"2011-11-30\", \"2011-12-31\", \"2012-01-31\", \"2012-02-29\", \"2012-03-31\", \"2012-04-30\", \"2012-05-31\", \"2012-06-30\", \"2012-07-31\", \"2012-08-31\", \"2012-09-30\", \"2012-10-31\", \"2012-11-30\", \"2012-12-31\", \"2013-01-31\", \"2013-02-28\", \"2013-03-31\", \"2013-04-30\", \"2013-05-31\", \"2013-06-30\", \"2013-07-31\", \"2013-08-31\", \"2013-09-30\", \"2013-10-31\", \"2013-11-30\", \"2013-12-31\", \"2014-01-31\", \"2014-02-28\", \"2014-03-31\", \"2014-04-30\", \"2014-05-31\", \"2014-06-30\", \"2014-07-31\", \"2014-08-31\", \"2014-09-30\", \"2014-10-31\", \"2014-11-30\", \"2014-12-31\", \"2015-01-31\", \"2015-02-28\", \"2015-03-31\", \"2015-04-30\", \"2015-05-31\", \"2015-06-30\", \"2015-07-31\", \"2015-08-31\", \"2015-09-30\", \"2015-10-31\", \"2015-11-30\", \"2015-12-31\", \"2016-01-31\", \"2016-02-29\", \"2016-03-31\", \"2016-04-30\", \"2016-05-31\", \"2016-06-30\", \"2016-07-31\", \"2016-08-31\", \"2016-09-30\", \"2016-10-31\", \"2016-11-30\", \"2016-12-31\", \"2017-01-31\", \"2017-02-28\", \"2017-03-31\", \"2017-04-30\", \"2017-05-31\", \"2017-06-30\", \"2017-07-31\", \"2017-08-31\", \"2017-09-30\", \"2017-10-31\", \"2017-11-30\", \"2017-12-31\", \"2018-01-31\", \"2018-02-28\", \"2018-03-31\", \"2018-04-30\", \"2018-05-31\", \"2018-06-30\", \"2018-07-31\", \"2018-08-31\", \"2018-09-30\", \"2018-10-31\", \"2018-11-30\", \"2018-12-31\", \"2019-01-31\", \"2019-02-28\", \"2019-03-31\", \"2019-04-30\", \"2019-05-31\", \"2019-06-30\", \"2019-07-31\", \"2019-08-31\", \"2019-09-30\", \"2019-10-31\", \"2019-11-30\", \"2019-12-31\", \"2020-01-31\", \"2020-02-29\", \"2020-03-31\"], \"y\": [310456.0, 311809.0, 312824.0, 313455.0, 312123.0, 311713.0, 311193.0, 310705.0, 310057.0, 309881.0, 310235.0, 310097.0, 309959.0, 308784.0, 307472.0, 306309.0, 306816.0, 307536.0, 308498.0, 309015.0, 309083.0, 309169.0, 308716.0, 310066.0, 310792.0, 311718.0, 311608.0, 311007.0, 309588.0, 307927.0, 305978.0, 304800.0, 304346.0, 303899.0, 303598.0, 301619.0, 300340.0, 298758.0, 298077.0, 297173.0, 296608.0, 296407.0, 297191.0, 298271.0, 298667.0, 299086.0, 298759.0, 299025.0, 298967.0, 300419.0, 302766.0, 305718.0, 308144.0, 309474.0, 311287.0, 313346.0, 316303.0, 318189.0, 321008.0, 324049.0, 328205.0, 330970.0, 333248.0, 335722.0, 339669.0, 344104.0, 346830.0, 347930.0, 348489.0, 350824.0, 352700.0, 355067.0, 356242.0, 358282.0, 360352.0, 362081.0, 363727.0, 364835.0, 367160.0, 370643.0, 375272.0, 379679.0, 385305.0, 389267.0, 392661.0, 395519.0, 399690.0, 405173.0, 409239.0, 414284.0, 418620.0, 423756.0, 427610.0, 431462.0, 433461.0, 436340.0, 440439.0, 444989.0, 448199.0, 450022.0, 453702.0, 458011.0, 462288.0, 464909.0, 467471.0, 469969.0, 473337.0, 477546.0, 481989.0, 486348.0, 489760.0, 491990.0, 492527.0, 492361.0, 492994.0, 495280.0, 498382.0, 502224.0, 505460.0, 508265.0, 510243.0, 513122.0, 516980.0, 522595.0, 528219.0, 532813.0, 537882.0, 541842.0, 546061.0, 546375.0, 546439.0, 548066.0, 550506.0, 552860.0, 552876.0, 553115.0, 553826.0, 555527.0, 556484.0, 557766.0, 558441.0, 561721.0, 565367.0, 567799.0, 569995.0]}, {\"mode\": \"lines+markers\", \"name\": \"City_Zhvi_4bedroom\", \"type\": \"scatter\", \"x\": [\"2008-03-31\", \"2008-04-30\", \"2008-05-31\", \"2008-06-30\", \"2008-07-31\", \"2008-08-31\", \"2008-09-30\", \"2008-10-31\", \"2008-11-30\", \"2008-12-31\", \"2009-01-31\", \"2009-02-28\", \"2009-03-31\", \"2009-04-30\", \"2009-05-31\", \"2009-06-30\", \"2009-07-31\", \"2009-08-31\", \"2009-09-30\", \"2009-10-31\", \"2009-11-30\", \"2009-12-31\", \"2010-01-31\", \"2010-02-28\", \"2010-03-31\", \"2010-04-30\", \"2010-05-31\", \"2010-06-30\", \"2010-07-31\", \"2010-08-31\", \"2010-09-30\", \"2010-10-31\", \"2010-11-30\", \"2010-12-31\", \"2011-01-31\", \"2011-02-28\", \"2011-03-31\", \"2011-04-30\", \"2011-05-31\", \"2011-06-30\", \"2011-07-31\", \"2011-08-31\", \"2011-09-30\", \"2011-10-31\", \"2011-11-30\", \"2011-12-31\", \"2012-01-31\", \"2012-02-29\", \"2012-03-31\", \"2012-04-30\", \"2012-05-31\", \"2012-06-30\", \"2012-07-31\", \"2012-08-31\", \"2012-09-30\", \"2012-10-31\", \"2012-11-30\", \"2012-12-31\", \"2013-01-31\", \"2013-02-28\", \"2013-03-31\", \"2013-04-30\", \"2013-05-31\", \"2013-06-30\", \"2013-07-31\", \"2013-08-31\", \"2013-09-30\", \"2013-10-31\", \"2013-11-30\", \"2013-12-31\", \"2014-01-31\", \"2014-02-28\", \"2014-03-31\", \"2014-04-30\", \"2014-05-31\", \"2014-06-30\", \"2014-07-31\", \"2014-08-31\", \"2014-09-30\", \"2014-10-31\", \"2014-11-30\", \"2014-12-31\", \"2015-01-31\", \"2015-02-28\", \"2015-03-31\", \"2015-04-30\", \"2015-05-31\", \"2015-06-30\", \"2015-07-31\", \"2015-08-31\", \"2015-09-30\", \"2015-10-31\", \"2015-11-30\", \"2015-12-31\", \"2016-01-31\", \"2016-02-29\", \"2016-03-31\", \"2016-04-30\", \"2016-05-31\", \"2016-06-30\", \"2016-07-31\", \"2016-08-31\", \"2016-09-30\", \"2016-10-31\", \"2016-11-30\", \"2016-12-31\", \"2017-01-31\", \"2017-02-28\", \"2017-03-31\", \"2017-04-30\", \"2017-05-31\", \"2017-06-30\", \"2017-07-31\", \"2017-08-31\", \"2017-09-30\", \"2017-10-31\", \"2017-11-30\", \"2017-12-31\", \"2018-01-31\", \"2018-02-28\", \"2018-03-31\", \"2018-04-30\", \"2018-05-31\", \"2018-06-30\", \"2018-07-31\", \"2018-08-31\", \"2018-09-30\", \"2018-10-31\", \"2018-11-30\", \"2018-12-31\", \"2019-01-31\", \"2019-02-28\", \"2019-03-31\", \"2019-04-30\", \"2019-05-31\", \"2019-06-30\", \"2019-07-31\", \"2019-08-31\", \"2019-09-30\", \"2019-10-31\", \"2019-11-30\", \"2019-12-31\", \"2020-01-31\", \"2020-02-29\", \"2020-03-31\"], \"y\": [403229.0, 405868.0, 407464.0, 408211.0, 406623.0, 406935.0, 407604.0, 408343.0, 408160.0, 407884.0, 407764.0, 407030.0, 406161.0, 403652.0, 401817.0, 400800.0, 401909.0, 401419.0, 400866.0, 399900.0, 399340.0, 398940.0, 397923.0, 399609.0, 400504.0, 401958.0, 401708.0, 399920.0, 397087.0, 394348.0, 392186.0, 391319.0, 391499.0, 391671.0, 391777.0, 389453.0, 387715.0, 386299.0, 385879.0, 386498.0, 387225.0, 388910.0, 390499.0, 391897.0, 391964.0, 392425.0, 392417.0, 393046.0, 393795.0, 395581.0, 398736.0, 401823.0, 404750.0, 406271.0, 408406.0, 410595.0, 413974.0, 415743.0, 418740.0, 421964.0, 426516.0, 429639.0, 432012.0, 434647.0, 438701.0, 443476.0, 446992.0, 448958.0, 450401.0, 453742.0, 456032.0, 458987.0, 460063.0, 462868.0, 465572.0, 468303.0, 470542.0, 471796.0, 474161.0, 478125.0, 483198.0, 488113.0, 494472.0, 498931.0, 503481.0, 505960.0, 509913.0, 514649.0, 518832.0, 524449.0, 529332.0, 534631.0, 538426.0, 542205.0, 544053.0, 546882.0, 550284.0, 555187.0, 558725.0, 561514.0, 565528.0, 570066.0, 574210.0, 576665.0, 579319.0, 582067.0, 586238.0, 591829.0, 597909.0, 603940.0, 608367.0, 610873.0, 611257.0, 611124.0, 612656.0, 615761.0, 619284.0, 623751.0, 627855.0, 631183.0, 633688.0, 636435.0, 641222.0, 647237.0, 653654.0, 658112.0, 663430.0, 667366.0, 673675.0, 675168.0, 676099.0, 677451.0, 679514.0, 682227.0, 681640.0, 682351.0, 683532.0, 686349.0, 687771.0, 689821.0, 689820.0, 693030.0, 696660.0, 700066.0, 703357.0]}, {\"mode\": \"lines+markers\", \"name\": \"City_Zhvi_5BedroomOrMore\", \"type\": \"scatter\", \"x\": [\"2008-03-31\", \"2008-04-30\", \"2008-05-31\", \"2008-06-30\", \"2008-07-31\", \"2008-08-31\", \"2008-09-30\", \"2008-10-31\", \"2008-11-30\", \"2008-12-31\", \"2009-01-31\", \"2009-02-28\", \"2009-03-31\", \"2009-04-30\", \"2009-05-31\", \"2009-06-30\", \"2009-07-31\", \"2009-08-31\", \"2009-09-30\", \"2009-10-31\", \"2009-11-30\", \"2009-12-31\", \"2010-01-31\", \"2010-02-28\", \"2010-03-31\", \"2010-04-30\", \"2010-05-31\", \"2010-06-30\", \"2010-07-31\", \"2010-08-31\", \"2010-09-30\", \"2010-10-31\", \"2010-11-30\", \"2010-12-31\", \"2011-01-31\", \"2011-02-28\", \"2011-03-31\", \"2011-04-30\", \"2011-05-31\", \"2011-06-30\", \"2011-07-31\", \"2011-08-31\", \"2011-09-30\", \"2011-10-31\", \"2011-11-30\", \"2011-12-31\", \"2012-01-31\", \"2012-02-29\", \"2012-03-31\", \"2012-04-30\", \"2012-05-31\", \"2012-06-30\", \"2012-07-31\", \"2012-08-31\", \"2012-09-30\", \"2012-10-31\", \"2012-11-30\", \"2012-12-31\", \"2013-01-31\", \"2013-02-28\", \"2013-03-31\", \"2013-04-30\", \"2013-05-31\", \"2013-06-30\", \"2013-07-31\", \"2013-08-31\", \"2013-09-30\", \"2013-10-31\", \"2013-11-30\", \"2013-12-31\", \"2014-01-31\", \"2014-02-28\", \"2014-03-31\", \"2014-04-30\", \"2014-05-31\", \"2014-06-30\", \"2014-07-31\", \"2014-08-31\", \"2014-09-30\", \"2014-10-31\", \"2014-11-30\", \"2014-12-31\", \"2015-01-31\", \"2015-02-28\", \"2015-03-31\", \"2015-04-30\", \"2015-05-31\", \"2015-06-30\", \"2015-07-31\", \"2015-08-31\", \"2015-09-30\", \"2015-10-31\", \"2015-11-30\", \"2015-12-31\", \"2016-01-31\", \"2016-02-29\", \"2016-03-31\", \"2016-04-30\", \"2016-05-31\", \"2016-06-30\", \"2016-07-31\", \"2016-08-31\", \"2016-09-30\", \"2016-10-31\", \"2016-11-30\", \"2016-12-31\", \"2017-01-31\", \"2017-02-28\", \"2017-03-31\", \"2017-04-30\", \"2017-05-31\", \"2017-06-30\", \"2017-07-31\", \"2017-08-31\", \"2017-09-30\", \"2017-10-31\", \"2017-11-30\", \"2017-12-31\", \"2018-01-31\", \"2018-02-28\", \"2018-03-31\", \"2018-04-30\", \"2018-05-31\", \"2018-06-30\", \"2018-07-31\", \"2018-08-31\", \"2018-09-30\", \"2018-10-31\", \"2018-11-30\", \"2018-12-31\", \"2019-01-31\", \"2019-02-28\", \"2019-03-31\", \"2019-04-30\", \"2019-05-31\", \"2019-06-30\", \"2019-07-31\", \"2019-08-31\", \"2019-09-30\", \"2019-10-31\", \"2019-11-30\", \"2019-12-31\", \"2020-01-31\", \"2020-02-29\", \"2020-03-31\"], \"y\": [475011.0, 479069.0, 481577.0, 482626.0, 480247.0, 479912.0, 480060.0, 480153.0, 479349.0, 478445.0, 478257.0, 477455.0, 476121.0, 472722.0, 469702.0, 467628.0, 468558.0, 468201.0, 467794.0, 466666.0, 465653.0, 465114.0, 463676.0, 465065.0, 465348.0, 466145.0, 465516.0, 463473.0, 460335.0, 456828.0, 454058.0, 453077.0, 453697.0, 453860.0, 453641.0, 450985.0, 449087.0, 447615.0, 447187.0, 448324.0, 449410.0, 451219.0, 452672.0, 453655.0, 453444.0, 453787.0, 454132.0, 454700.0, 455239.0, 457010.0, 460835.0, 464421.0, 467790.0, 469972.0, 472938.0, 475978.0, 479828.0, 481995.0, 485421.0, 489257.0, 494713.0, 498415.0, 501273.0, 504527.0, 509825.0, 515478.0, 519784.0, 522022.0, 523747.0, 527332.0, 529884.0, 533198.0, 534669.0, 538093.0, 540841.0, 542806.0, 543687.0, 544331.0, 546597.0, 551166.0, 556769.0, 562456.0, 569156.0, 573825.0, 578111.0, 580413.0, 584335.0, 589965.0, 595288.0, 602119.0, 607644.0, 613203.0, 617146.0, 620770.0, 623024.0, 626565.0, 631304.0, 637287.0, 641812.0, 645044.0, 649587.0, 653796.0, 657733.0, 659804.0, 662848.0, 666523.0, 671547.0, 677920.0, 684314.0, 690553.0, 695196.0, 698015.0, 698550.0, 698612.0, 700665.0, 705371.0, 710524.0, 715866.0, 719719.0, 722689.0, 725258.0, 728888.0, 734635.0, 741086.0, 747692.0, 752623.0, 758511.0, 762216.0, 768581.0, 769720.0, 771093.0, 772920.0, 775876.0, 779083.0, 778168.0, 779229.0, 780982.0, 784283.0, 785892.0, 788198.0, 787992.0, 791532.0, 795414.0, 799065.0, 802098.0]}],\n",
       "                        {\"legend\": {\"orientation\": \"h\"}, \"showlegend\": true, \"template\": {\"data\": {\"bar\": [{\"error_x\": {\"color\": \"#2a3f5f\"}, \"error_y\": {\"color\": \"#2a3f5f\"}, \"marker\": {\"line\": {\"color\": \"#E5ECF6\", \"width\": 0.5}}, \"type\": \"bar\"}], \"barpolar\": [{\"marker\": {\"line\": {\"color\": \"#E5ECF6\", \"width\": 0.5}}, \"type\": \"barpolar\"}], \"carpet\": [{\"aaxis\": {\"endlinecolor\": \"#2a3f5f\", \"gridcolor\": \"white\", \"linecolor\": \"white\", \"minorgridcolor\": \"white\", \"startlinecolor\": \"#2a3f5f\"}, \"baxis\": {\"endlinecolor\": \"#2a3f5f\", \"gridcolor\": \"white\", \"linecolor\": \"white\", \"minorgridcolor\": \"white\", \"startlinecolor\": \"#2a3f5f\"}, \"type\": \"carpet\"}], \"choropleth\": [{\"colorbar\": {\"outlinewidth\": 0, \"ticks\": \"\"}, \"type\": \"choropleth\"}], \"contour\": [{\"colorbar\": {\"outlinewidth\": 0, \"ticks\": \"\"}, \"colorscale\": [[0.0, \"#0d0887\"], [0.1111111111111111, \"#46039f\"], [0.2222222222222222, \"#7201a8\"], [0.3333333333333333, \"#9c179e\"], [0.4444444444444444, \"#bd3786\"], [0.5555555555555556, \"#d8576b\"], [0.6666666666666666, \"#ed7953\"], [0.7777777777777778, \"#fb9f3a\"], [0.8888888888888888, \"#fdca26\"], [1.0, \"#f0f921\"]], \"type\": \"contour\"}], \"contourcarpet\": [{\"colorbar\": {\"outlinewidth\": 0, \"ticks\": \"\"}, \"type\": \"contourcarpet\"}], \"heatmap\": [{\"colorbar\": {\"outlinewidth\": 0, \"ticks\": \"\"}, \"colorscale\": [[0.0, \"#0d0887\"], [0.1111111111111111, \"#46039f\"], [0.2222222222222222, \"#7201a8\"], [0.3333333333333333, \"#9c179e\"], [0.4444444444444444, \"#bd3786\"], [0.5555555555555556, \"#d8576b\"], [0.6666666666666666, \"#ed7953\"], [0.7777777777777778, \"#fb9f3a\"], [0.8888888888888888, \"#fdca26\"], [1.0, \"#f0f921\"]], \"type\": \"heatmap\"}], \"heatmapgl\": [{\"colorbar\": {\"outlinewidth\": 0, \"ticks\": \"\"}, \"colorscale\": [[0.0, \"#0d0887\"], [0.1111111111111111, \"#46039f\"], [0.2222222222222222, \"#7201a8\"], [0.3333333333333333, \"#9c179e\"], [0.4444444444444444, \"#bd3786\"], [0.5555555555555556, \"#d8576b\"], [0.6666666666666666, \"#ed7953\"], [0.7777777777777778, \"#fb9f3a\"], [0.8888888888888888, \"#fdca26\"], [1.0, \"#f0f921\"]], \"type\": \"heatmapgl\"}], \"histogram\": [{\"marker\": {\"colorbar\": {\"outlinewidth\": 0, \"ticks\": \"\"}}, \"type\": \"histogram\"}], \"histogram2d\": [{\"colorbar\": {\"outlinewidth\": 0, \"ticks\": \"\"}, \"colorscale\": [[0.0, \"#0d0887\"], [0.1111111111111111, \"#46039f\"], [0.2222222222222222, \"#7201a8\"], [0.3333333333333333, \"#9c179e\"], [0.4444444444444444, \"#bd3786\"], [0.5555555555555556, \"#d8576b\"], [0.6666666666666666, \"#ed7953\"], [0.7777777777777778, \"#fb9f3a\"], [0.8888888888888888, \"#fdca26\"], [1.0, \"#f0f921\"]], \"type\": \"histogram2d\"}], \"histogram2dcontour\": [{\"colorbar\": {\"outlinewidth\": 0, \"ticks\": \"\"}, \"colorscale\": [[0.0, \"#0d0887\"], [0.1111111111111111, \"#46039f\"], [0.2222222222222222, \"#7201a8\"], [0.3333333333333333, \"#9c179e\"], [0.4444444444444444, \"#bd3786\"], [0.5555555555555556, \"#d8576b\"], [0.6666666666666666, \"#ed7953\"], [0.7777777777777778, \"#fb9f3a\"], [0.8888888888888888, \"#fdca26\"], [1.0, \"#f0f921\"]], \"type\": \"histogram2dcontour\"}], \"mesh3d\": [{\"colorbar\": {\"outlinewidth\": 0, \"ticks\": \"\"}, \"type\": \"mesh3d\"}], \"parcoords\": [{\"line\": {\"colorbar\": {\"outlinewidth\": 0, \"ticks\": \"\"}}, \"type\": \"parcoords\"}], \"pie\": [{\"automargin\": true, \"type\": \"pie\"}], \"scatter\": [{\"marker\": {\"colorbar\": {\"outlinewidth\": 0, \"ticks\": \"\"}}, \"type\": \"scatter\"}], \"scatter3d\": [{\"line\": {\"colorbar\": {\"outlinewidth\": 0, \"ticks\": \"\"}}, \"marker\": {\"colorbar\": {\"outlinewidth\": 0, \"ticks\": \"\"}}, \"type\": \"scatter3d\"}], \"scattercarpet\": [{\"marker\": {\"colorbar\": {\"outlinewidth\": 0, \"ticks\": \"\"}}, \"type\": \"scattercarpet\"}], \"scattergeo\": [{\"marker\": {\"colorbar\": {\"outlinewidth\": 0, \"ticks\": \"\"}}, \"type\": \"scattergeo\"}], \"scattergl\": [{\"marker\": {\"colorbar\": {\"outlinewidth\": 0, \"ticks\": \"\"}}, \"type\": \"scattergl\"}], \"scattermapbox\": [{\"marker\": {\"colorbar\": {\"outlinewidth\": 0, \"ticks\": \"\"}}, \"type\": \"scattermapbox\"}], \"scatterpolar\": [{\"marker\": {\"colorbar\": {\"outlinewidth\": 0, \"ticks\": \"\"}}, \"type\": \"scatterpolar\"}], \"scatterpolargl\": [{\"marker\": {\"colorbar\": {\"outlinewidth\": 0, \"ticks\": \"\"}}, \"type\": \"scatterpolargl\"}], \"scatterternary\": [{\"marker\": {\"colorbar\": {\"outlinewidth\": 0, \"ticks\": \"\"}}, \"type\": \"scatterternary\"}], \"surface\": [{\"colorbar\": {\"outlinewidth\": 0, \"ticks\": \"\"}, \"colorscale\": [[0.0, \"#0d0887\"], [0.1111111111111111, \"#46039f\"], [0.2222222222222222, \"#7201a8\"], [0.3333333333333333, \"#9c179e\"], [0.4444444444444444, \"#bd3786\"], [0.5555555555555556, \"#d8576b\"], [0.6666666666666666, \"#ed7953\"], [0.7777777777777778, \"#fb9f3a\"], [0.8888888888888888, \"#fdca26\"], [1.0, \"#f0f921\"]], \"type\": \"surface\"}], \"table\": [{\"cells\": {\"fill\": {\"color\": \"#EBF0F8\"}, \"line\": {\"color\": \"white\"}}, \"header\": {\"fill\": {\"color\": \"#C8D4E3\"}, \"line\": {\"color\": \"white\"}}, \"type\": \"table\"}]}, \"layout\": {\"annotationdefaults\": {\"arrowcolor\": \"#2a3f5f\", \"arrowhead\": 0, \"arrowwidth\": 1}, \"coloraxis\": {\"colorbar\": {\"outlinewidth\": 0, \"ticks\": \"\"}}, \"colorscale\": {\"diverging\": [[0, \"#8e0152\"], [0.1, \"#c51b7d\"], [0.2, \"#de77ae\"], [0.3, \"#f1b6da\"], [0.4, \"#fde0ef\"], [0.5, \"#f7f7f7\"], [0.6, \"#e6f5d0\"], [0.7, \"#b8e186\"], [0.8, \"#7fbc41\"], [0.9, \"#4d9221\"], [1, \"#276419\"]], \"sequential\": [[0.0, \"#0d0887\"], [0.1111111111111111, \"#46039f\"], [0.2222222222222222, \"#7201a8\"], [0.3333333333333333, \"#9c179e\"], [0.4444444444444444, \"#bd3786\"], [0.5555555555555556, \"#d8576b\"], [0.6666666666666666, \"#ed7953\"], [0.7777777777777778, \"#fb9f3a\"], [0.8888888888888888, \"#fdca26\"], [1.0, \"#f0f921\"]], \"sequentialminus\": [[0.0, \"#0d0887\"], [0.1111111111111111, \"#46039f\"], [0.2222222222222222, \"#7201a8\"], [0.3333333333333333, \"#9c179e\"], [0.4444444444444444, \"#bd3786\"], [0.5555555555555556, \"#d8576b\"], [0.6666666666666666, \"#ed7953\"], [0.7777777777777778, \"#fb9f3a\"], [0.8888888888888888, \"#fdca26\"], [1.0, \"#f0f921\"]]}, \"colorway\": [\"#636efa\", \"#EF553B\", \"#00cc96\", \"#ab63fa\", \"#FFA15A\", \"#19d3f3\", \"#FF6692\", \"#B6E880\", \"#FF97FF\", \"#FECB52\"], \"font\": {\"color\": \"#2a3f5f\"}, \"geo\": {\"bgcolor\": \"white\", \"lakecolor\": \"white\", \"landcolor\": \"#E5ECF6\", \"showlakes\": true, \"showland\": true, \"subunitcolor\": \"white\"}, \"hoverlabel\": {\"align\": \"left\"}, \"hovermode\": \"closest\", \"mapbox\": {\"style\": \"light\"}, \"paper_bgcolor\": \"white\", \"plot_bgcolor\": \"#E5ECF6\", \"polar\": {\"angularaxis\": {\"gridcolor\": \"white\", \"linecolor\": \"white\", \"ticks\": \"\"}, \"bgcolor\": \"#E5ECF6\", \"radialaxis\": {\"gridcolor\": \"white\", \"linecolor\": \"white\", \"ticks\": \"\"}}, \"scene\": {\"xaxis\": {\"backgroundcolor\": \"#E5ECF6\", \"gridcolor\": \"white\", \"gridwidth\": 2, \"linecolor\": \"white\", \"showbackground\": true, \"ticks\": \"\", \"zerolinecolor\": \"white\"}, \"yaxis\": {\"backgroundcolor\": \"#E5ECF6\", \"gridcolor\": \"white\", \"gridwidth\": 2, \"linecolor\": \"white\", \"showbackground\": true, \"ticks\": \"\", \"zerolinecolor\": \"white\"}, \"zaxis\": {\"backgroundcolor\": \"#E5ECF6\", \"gridcolor\": \"white\", \"gridwidth\": 2, \"linecolor\": \"white\", \"showbackground\": true, \"ticks\": \"\", \"zerolinecolor\": \"white\"}}, \"shapedefaults\": {\"line\": {\"color\": \"#2a3f5f\"}}, \"ternary\": {\"aaxis\": {\"gridcolor\": \"white\", \"linecolor\": \"white\", \"ticks\": \"\"}, \"baxis\": {\"gridcolor\": \"white\", \"linecolor\": \"white\", \"ticks\": \"\"}, \"bgcolor\": \"#E5ECF6\", \"caxis\": {\"gridcolor\": \"white\", \"linecolor\": \"white\", \"ticks\": \"\"}}, \"title\": {\"x\": 0.05}, \"xaxis\": {\"automargin\": true, \"gridcolor\": \"white\", \"linecolor\": \"white\", \"ticks\": \"\", \"title\": {\"standoff\": 15}, \"zerolinecolor\": \"white\", \"zerolinewidth\": 2}, \"yaxis\": {\"automargin\": true, \"gridcolor\": \"white\", \"linecolor\": \"white\", \"ticks\": \"\", \"title\": {\"standoff\": 15}, \"zerolinecolor\": \"white\", \"zerolinewidth\": 2}}}, \"title\": {\"text\": \"Median Home Prices in Golden, CO\"}, \"xaxis\": {\"title\": {\"text\": \"Date\"}}, \"yaxis\": {\"title\": {\"text\": \"Median Price ($USD)\"}}},\n",
       "                        {\"responsive\": true}\n",
       "                    ).then(function(){\n",
       "                            \n",
       "var gd = document.getElementById('6a4f82b6-1b4a-4f46-86e2-be8561b91b25');\n",
       "var x = new MutationObserver(function (mutations, observer) {{\n",
       "        var display = window.getComputedStyle(gd).display;\n",
       "        if (!display || display === 'none') {{\n",
       "            console.log([gd, 'removed!']);\n",
       "            Plotly.purge(gd);\n",
       "            observer.disconnect();\n",
       "        }}\n",
       "}});\n",
       "\n",
       "// Listen for the removal of the full notebook cells\n",
       "var notebookContainer = gd.closest('#notebook-container');\n",
       "if (notebookContainer) {{\n",
       "    x.observe(notebookContainer, {childList: true});\n",
       "}}\n",
       "\n",
       "// Listen for the clearing of the current output cell\n",
       "var outputEl = gd.closest('.output');\n",
       "if (outputEl) {{\n",
       "    x.observe(outputEl, {childList: true});\n",
       "}}\n",
       "\n",
       "                        })\n",
       "                };\n",
       "                });\n",
       "            </script>\n",
       "        </div>"
      ]
     },
     "metadata": {},
     "output_type": "display_data"
    }
   ],
   "source": [
    "# Plot median house prices using the regular plotly library instead of using plotly express\n",
    "plot_seven_columns_using_plotly_regular(golden_df_house,'City_Zhvi_Condominum', 'City_Zhvi_SingleFamilyResidence',\n",
    "                                        'City_Zhvi_1bedroom','City_Zhvi_2bedroom','City_Zhvi_3bedroom',\n",
    "                                        'City_Zhvi_4bedroom','City_Zhvi_5BedroomOrMore','Median Home Prices in Golden, CO')"
   ]
  },
  {
   "cell_type": "markdown",
   "execution_count": null,
   "metadata": {
    "papermill": {
     "duration": 0.006213,
     "end_time": "2020-08-11T19:34:44.547401",
     "exception": false,
     "start_time": "2020-08-11T19:34:44.541188",
     "status": "completed"
    },
    "tags": []
   },
   "source": [
    "Using [Plotly Express](https://plot.ly/python/plotly-express/)"
   ]
  },
  {
   "cell_type": "code",
   "execution_count": 5,
   "metadata": {
    "_kg_hide-input": true,
    "execution": {
     "iopub.execute_input": "2020-08-11T19:34:44.572472Z",
     "iopub.status.busy": "2020-08-11T19:34:44.567593Z",
     "iopub.status.idle": "2020-08-11T19:34:45.596069Z",
     "shell.execute_reply": "2020-08-11T19:34:45.596659Z"
    },
    "papermill": {
     "duration": 1.043116,
     "end_time": "2020-08-11T19:34:45.596823",
     "exception": false,
     "start_time": "2020-08-11T19:34:44.553707",
     "status": "completed"
    },
    "tags": []
   },
   "outputs": [
    {
     "data": {
      "text/html": [
       "<div>\n",
       "        \n",
       "        \n",
       "            <div id=\"3d4b012f-5845-45f8-86f3-d76092a60410\" class=\"plotly-graph-div\" style=\"height:525px; width:100%;\"></div>\n",
       "            <script type=\"text/javascript\">\n",
       "                require([\"plotly\"], function(Plotly) {\n",
       "                    window.PLOTLYENV=window.PLOTLYENV || {};\n",
       "                    \n",
       "                if (document.getElementById(\"3d4b012f-5845-45f8-86f3-d76092a60410\")) {\n",
       "                    Plotly.newPlot(\n",
       "                        '3d4b012f-5845-45f8-86f3-d76092a60410',\n",
       "                        [{\"hovertemplate\": \"variable=City_Zhvi_Condominum<br>Date=%{x}<br>value=%{y}<extra></extra>\", \"legendgroup\": \"City_Zhvi_Condominum\", \"line\": {\"color\": \"#636efa\", \"dash\": \"solid\"}, \"mode\": \"lines\", \"name\": \"City_Zhvi_Condominum\", \"showlegend\": true, \"type\": \"scattergl\", \"x\": [\"2008-03-31\", \"2008-04-30\", \"2008-05-31\", \"2008-06-30\", \"2008-07-31\", \"2008-08-31\", \"2008-09-30\", \"2008-10-31\", \"2008-11-30\", \"2008-12-31\", \"2009-01-31\", \"2009-02-28\", \"2009-03-31\", \"2009-04-30\", \"2009-05-31\", \"2009-06-30\", \"2009-07-31\", \"2009-08-31\", \"2009-09-30\", \"2009-10-31\", \"2009-11-30\", \"2009-12-31\", \"2010-01-31\", \"2010-02-28\", \"2010-03-31\", \"2010-04-30\", \"2010-05-31\", \"2010-06-30\", \"2010-07-31\", \"2010-08-31\", \"2010-09-30\", \"2010-10-31\", \"2010-11-30\", \"2010-12-31\", \"2011-01-31\", \"2011-02-28\", \"2011-03-31\", \"2011-04-30\", \"2011-05-31\", \"2011-06-30\", \"2011-07-31\", \"2011-08-31\", \"2011-09-30\", \"2011-10-31\", \"2011-11-30\", \"2011-12-31\", \"2012-01-31\", \"2012-02-29\", \"2012-03-31\", \"2012-04-30\", \"2012-05-31\", \"2012-06-30\", \"2012-07-31\", \"2012-08-31\", \"2012-09-30\", \"2012-10-31\", \"2012-11-30\", \"2012-12-31\", \"2013-01-31\", \"2013-02-28\", \"2013-03-31\", \"2013-04-30\", \"2013-05-31\", \"2013-06-30\", \"2013-07-31\", \"2013-08-31\", \"2013-09-30\", \"2013-10-31\", \"2013-11-30\", \"2013-12-31\", \"2014-01-31\", \"2014-02-28\", \"2014-03-31\", \"2014-04-30\", \"2014-05-31\", \"2014-06-30\", \"2014-07-31\", \"2014-08-31\", \"2014-09-30\", \"2014-10-31\", \"2014-11-30\", \"2014-12-31\", \"2015-01-31\", \"2015-02-28\", \"2015-03-31\", \"2015-04-30\", \"2015-05-31\", \"2015-06-30\", \"2015-07-31\", \"2015-08-31\", \"2015-09-30\", \"2015-10-31\", \"2015-11-30\", \"2015-12-31\", \"2016-01-31\", \"2016-02-29\", \"2016-03-31\", \"2016-04-30\", \"2016-05-31\", \"2016-06-30\", \"2016-07-31\", \"2016-08-31\", \"2016-09-30\", \"2016-10-31\", \"2016-11-30\", \"2016-12-31\", \"2017-01-31\", \"2017-02-28\", \"2017-03-31\", \"2017-04-30\", \"2017-05-31\", \"2017-06-30\", \"2017-07-31\", \"2017-08-31\", \"2017-09-30\", \"2017-10-31\", \"2017-11-30\", \"2017-12-31\", \"2018-01-31\", \"2018-02-28\", \"2018-03-31\", \"2018-04-30\", \"2018-05-31\", \"2018-06-30\", \"2018-07-31\", \"2018-08-31\", \"2018-09-30\", \"2018-10-31\", \"2018-11-30\", \"2018-12-31\", \"2019-01-31\", \"2019-02-28\", \"2019-03-31\", \"2019-04-30\", \"2019-05-31\", \"2019-06-30\", \"2019-07-31\", \"2019-08-31\", \"2019-09-30\", \"2019-10-31\", \"2019-11-30\", \"2019-12-31\", \"2020-01-31\", \"2020-02-29\", \"2020-03-31\"], \"xaxis\": \"x\", \"y\": [137137.0, 137106.0, 136907.0, 136493.0, 135484.0, 134803.0, 134330.0, 133978.0, 133489.0, 133032.0, 132769.0, 132887.0, 132955.0, 132473.0, 131459.0, 130316.0, 129474.0, 129082.0, 129171.0, 129137.0, 129262.0, 129224.0, 129468.0, 129934.0, 130180.0, 130206.0, 129769.0, 129414.0, 128667.0, 127707.0, 126167.0, 125201.0, 124472.0, 123929.0, 123148.0, 121917.0, 121129.0, 120860.0, 121290.0, 121336.0, 121544.0, 121400.0, 121862.0, 121971.0, 121750.0, 121753.0, 121789.0, 122117.0, 121763.0, 121523.0, 121784.0, 123000.0, 124297.0, 125745.0, 126926.0, 128331.0, 129848.0, 130823.0, 131945.0, 132624.0, 134473.0, 135700.0, 136854.0, 137146.0, 137949.0, 138641.0, 139301.0, 139752.0, 140265.0, 141217.0, 141731.0, 142939.0, 143526.0, 144807.0, 145818.0, 147270.0, 148426.0, 149605.0, 151035.0, 152532.0, 154672.0, 156569.0, 159605.0, 161762.0, 163669.0, 165351.0, 167335.0, 169541.0, 171466.0, 173644.0, 175386.0, 177676.0, 179229.0, 181467.0, 181825.0, 183048.0, 184738.0, 187039.0, 188910.0, 190921.0, 193528.0, 196301.0, 199105.0, 201263.0, 203631.0, 205687.0, 209049.0, 212338.0, 215825.0, 218168.0, 220662.0, 222157.0, 223446.0, 224445.0, 226170.0, 228429.0, 230579.0, 232817.0, 234809.0, 236911.0, 238570.0, 240700.0, 243196.0, 246552.0, 249852.0, 253044.0, 256267.0, 259190.0, 262102.0, 262742.0, 263333.0, 264264.0, 265957.0, 267711.0, 268172.0, 268580.0, 268884.0, 269281.0, 269155.0, 268972.0, 268693.0, 270017.0, 271086.0, 271627.0, 271585.0], \"yaxis\": \"y\"}, {\"hovertemplate\": \"variable=City_Zhvi_SingleFamilyResidence<br>Date=%{x}<br>value=%{y}<extra></extra>\", \"legendgroup\": \"City_Zhvi_SingleFamilyResidence\", \"line\": {\"color\": \"#EF553B\", \"dash\": \"solid\"}, \"mode\": \"lines\", \"name\": \"City_Zhvi_SingleFamilyResidence\", \"showlegend\": true, \"type\": \"scattergl\", \"x\": [\"2008-03-31\", \"2008-04-30\", \"2008-05-31\", \"2008-06-30\", \"2008-07-31\", \"2008-08-31\", \"2008-09-30\", \"2008-10-31\", \"2008-11-30\", \"2008-12-31\", \"2009-01-31\", \"2009-02-28\", \"2009-03-31\", \"2009-04-30\", \"2009-05-31\", \"2009-06-30\", \"2009-07-31\", \"2009-08-31\", \"2009-09-30\", \"2009-10-31\", \"2009-11-30\", \"2009-12-31\", \"2010-01-31\", \"2010-02-28\", \"2010-03-31\", \"2010-04-30\", \"2010-05-31\", \"2010-06-30\", \"2010-07-31\", \"2010-08-31\", \"2010-09-30\", \"2010-10-31\", \"2010-11-30\", \"2010-12-31\", \"2011-01-31\", \"2011-02-28\", \"2011-03-31\", \"2011-04-30\", \"2011-05-31\", \"2011-06-30\", \"2011-07-31\", \"2011-08-31\", \"2011-09-30\", \"2011-10-31\", \"2011-11-30\", \"2011-12-31\", \"2012-01-31\", \"2012-02-29\", \"2012-03-31\", \"2012-04-30\", \"2012-05-31\", \"2012-06-30\", \"2012-07-31\", \"2012-08-31\", \"2012-09-30\", \"2012-10-31\", \"2012-11-30\", \"2012-12-31\", \"2013-01-31\", \"2013-02-28\", \"2013-03-31\", \"2013-04-30\", \"2013-05-31\", \"2013-06-30\", \"2013-07-31\", \"2013-08-31\", \"2013-09-30\", \"2013-10-31\", \"2013-11-30\", \"2013-12-31\", \"2014-01-31\", \"2014-02-28\", \"2014-03-31\", \"2014-04-30\", \"2014-05-31\", \"2014-06-30\", \"2014-07-31\", \"2014-08-31\", \"2014-09-30\", \"2014-10-31\", \"2014-11-30\", \"2014-12-31\", \"2015-01-31\", \"2015-02-28\", \"2015-03-31\", \"2015-04-30\", \"2015-05-31\", \"2015-06-30\", \"2015-07-31\", \"2015-08-31\", \"2015-09-30\", \"2015-10-31\", \"2015-11-30\", \"2015-12-31\", \"2016-01-31\", \"2016-02-29\", \"2016-03-31\", \"2016-04-30\", \"2016-05-31\", \"2016-06-30\", \"2016-07-31\", \"2016-08-31\", \"2016-09-30\", \"2016-10-31\", \"2016-11-30\", \"2016-12-31\", \"2017-01-31\", \"2017-02-28\", \"2017-03-31\", \"2017-04-30\", \"2017-05-31\", \"2017-06-30\", \"2017-07-31\", \"2017-08-31\", \"2017-09-30\", \"2017-10-31\", \"2017-11-30\", \"2017-12-31\", \"2018-01-31\", \"2018-02-28\", \"2018-03-31\", \"2018-04-30\", \"2018-05-31\", \"2018-06-30\", \"2018-07-31\", \"2018-08-31\", \"2018-09-30\", \"2018-10-31\", \"2018-11-30\", \"2018-12-31\", \"2019-01-31\", \"2019-02-28\", \"2019-03-31\", \"2019-04-30\", \"2019-05-31\", \"2019-06-30\", \"2019-07-31\", \"2019-08-31\", \"2019-09-30\", \"2019-10-31\", \"2019-11-30\", \"2019-12-31\", \"2020-01-31\", \"2020-02-29\", \"2020-03-31\"], \"xaxis\": \"x\", \"y\": [352900.0, 354567.0, 355590.0, 356244.0, 354808.0, 354812.0, 355005.0, 355004.0, 354465.0, 354069.0, 354332.0, 354069.0, 353784.0, 352102.0, 350639.0, 349369.0, 349854.0, 349791.0, 349953.0, 349843.0, 349752.0, 349855.0, 349218.0, 350620.0, 351325.0, 352500.0, 352299.0, 351262.0, 349414.0, 347513.0, 345520.0, 344413.0, 344072.0, 343714.0, 343468.0, 341396.0, 339953.0, 338482.0, 337980.0, 337687.0, 337486.0, 337848.0, 338961.0, 340215.0, 340541.0, 340922.0, 340744.0, 341113.0, 341352.0, 342949.0, 345580.0, 348694.0, 351331.0, 352740.0, 354551.0, 356569.0, 359662.0, 361552.0, 364474.0, 367525.0, 371797.0, 374403.0, 376600.0, 378894.0, 382986.0, 387598.0, 390618.0, 392064.0, 392988.0, 395824.0, 397712.0, 400187.0, 401126.0, 403601.0, 405985.0, 408230.0, 409941.0, 410883.0, 413049.0, 416578.0, 421263.0, 425697.0, 431698.0, 436045.0, 440246.0, 443043.0, 447059.0, 452009.0, 456050.0, 461369.0, 466109.0, 471313.0, 475156.0, 478908.0, 480760.0, 483401.0, 486990.0, 491517.0, 494825.0, 497121.0, 501116.0, 505837.0, 510195.0, 512939.0, 515471.0, 518090.0, 521856.0, 526871.0, 532161.0, 537319.0, 541136.0, 543620.0, 544133.0, 543801.0, 544600.0, 547092.0, 550499.0, 554764.0, 558344.0, 561353.0, 563411.0, 566314.0, 570731.0, 576620.0, 582515.0, 587007.0, 592257.0, 596331.0, 601545.0, 602504.0, 603205.0, 604841.0, 607232.0, 609703.0, 609461.0, 609869.0, 610898.0, 613258.0, 614559.0, 616233.0, 616620.0, 619814.0, 623390.0, 626250.0, 629018.0], \"yaxis\": \"y\"}, {\"hovertemplate\": \"variable=City_Zhvi_1bedroom<br>Date=%{x}<br>value=%{y}<extra></extra>\", \"legendgroup\": \"City_Zhvi_1bedroom\", \"line\": {\"color\": \"#00cc96\", \"dash\": \"solid\"}, \"mode\": \"lines\", \"name\": \"City_Zhvi_1bedroom\", \"showlegend\": true, \"type\": \"scattergl\", \"x\": [\"2008-03-31\", \"2008-04-30\", \"2008-05-31\", \"2008-06-30\", \"2008-07-31\", \"2008-08-31\", \"2008-09-30\", \"2008-10-31\", \"2008-11-30\", \"2008-12-31\", \"2009-01-31\", \"2009-02-28\", \"2009-03-31\", \"2009-04-30\", \"2009-05-31\", \"2009-06-30\", \"2009-07-31\", \"2009-08-31\", \"2009-09-30\", \"2009-10-31\", \"2009-11-30\", \"2009-12-31\", \"2010-01-31\", \"2010-02-28\", \"2010-03-31\", \"2010-04-30\", \"2010-05-31\", \"2010-06-30\", \"2010-07-31\", \"2010-08-31\", \"2010-09-30\", \"2010-10-31\", \"2010-11-30\", \"2010-12-31\", \"2011-01-31\", \"2011-02-28\", \"2011-03-31\", \"2011-04-30\", \"2011-05-31\", \"2011-06-30\", \"2011-07-31\", \"2011-08-31\", \"2011-09-30\", \"2011-10-31\", \"2011-11-30\", \"2011-12-31\", \"2012-01-31\", \"2012-02-29\", \"2012-03-31\", \"2012-04-30\", \"2012-05-31\", \"2012-06-30\", \"2012-07-31\", \"2012-08-31\", \"2012-09-30\", \"2012-10-31\", \"2012-11-30\", \"2012-12-31\", \"2013-01-31\", \"2013-02-28\", \"2013-03-31\", \"2013-04-30\", \"2013-05-31\", \"2013-06-30\", \"2013-07-31\", \"2013-08-31\", \"2013-09-30\", \"2013-10-31\", \"2013-11-30\", \"2013-12-31\", \"2014-01-31\", \"2014-02-28\", \"2014-03-31\", \"2014-04-30\", \"2014-05-31\", \"2014-06-30\", \"2014-07-31\", \"2014-08-31\", \"2014-09-30\", \"2014-10-31\", \"2014-11-30\", \"2014-12-31\", \"2015-01-31\", \"2015-02-28\", \"2015-03-31\", \"2015-04-30\", \"2015-05-31\", \"2015-06-30\", \"2015-07-31\", \"2015-08-31\", \"2015-09-30\", \"2015-10-31\", \"2015-11-30\", \"2015-12-31\", \"2016-01-31\", \"2016-02-29\", \"2016-03-31\", \"2016-04-30\", \"2016-05-31\", \"2016-06-30\", \"2016-07-31\", \"2016-08-31\", \"2016-09-30\", \"2016-10-31\", \"2016-11-30\", \"2016-12-31\", \"2017-01-31\", \"2017-02-28\", \"2017-03-31\", \"2017-04-30\", \"2017-05-31\", \"2017-06-30\", \"2017-07-31\", \"2017-08-31\", \"2017-09-30\", \"2017-10-31\", \"2017-11-30\", \"2017-12-31\", \"2018-01-31\", \"2018-02-28\", \"2018-03-31\", \"2018-04-30\", \"2018-05-31\", \"2018-06-30\", \"2018-07-31\", \"2018-08-31\", \"2018-09-30\", \"2018-10-31\", \"2018-11-30\", \"2018-12-31\", \"2019-01-31\", \"2019-02-28\", \"2019-03-31\", \"2019-04-30\", \"2019-05-31\", \"2019-06-30\", \"2019-07-31\", \"2019-08-31\", \"2019-09-30\", \"2019-10-31\", \"2019-11-30\", \"2019-12-31\", \"2020-01-31\", \"2020-02-29\", \"2020-03-31\"], \"xaxis\": \"x\", \"y\": [159727.0, 159975.0, 160425.0, 159669.0, 157713.0, 155733.0, 155558.0, 155636.0, 155591.0, 155132.0, 154932.0, 154665.0, 154490.0, 153809.0, 152254.0, 151215.0, 150951.0, 151218.0, 150884.0, 150253.0, 149508.0, 148570.0, 147850.0, 147542.0, 146654.0, 145768.0, 144963.0, 145082.0, 144794.0, 144247.0, 142960.0, 141993.0, 141529.0, 141340.0, 140892.0, 140020.0, 140219.0, 140693.0, 141136.0, 139651.0, 138321.0, 137081.0, 137677.0, 138283.0, 138714.0, 138756.0, 138859.0, 139156.0, 139207.0, 139361.0, 140182.0, 142087.0, 143871.0, 145323.0, 145552.0, 146163.0, 146855.0, 147805.0, 148964.0, 150000.0, 151554.0, 152301.0, 152964.0, 153539.0, 154810.0, 156111.0, 157249.0, 157974.0, 158816.0, 160439.0, 161682.0, 163209.0, 163423.0, 164689.0, 166477.0, 168057.0, 169024.0, 169398.0, 170926.0, 172327.0, 174187.0, 175495.0, 178383.0, 180783.0, 183969.0, 186740.0, 188961.0, 192346.0, 196172.0, 200862.0, 204498.0, 208425.0, 211762.0, 214774.0, 215694.0, 217111.0, 219394.0, 222084.0, 224717.0, 226327.0, 228405.0, 231670.0, 234978.0, 238296.0, 241055.0, 244329.0, 247656.0, 251516.0, 254145.0, 256391.0, 258272.0, 260131.0, 261278.0, 260527.0, 260417.0, 261608.0, 263349.0, 265777.0, 267980.0, 269980.0, 271807.0, 274243.0, 276759.0, 279422.0, 282355.0, 286225.0, 291060.0, 293176.0, 295851.0, 295546.0, 297103.0, 298843.0, 301434.0, 303397.0, 304472.0, 306008.0, 307457.0, 308710.0, 308746.0, 310076.0, 310682.0, 313004.0, 313909.0, 314468.0, 314548.0], \"yaxis\": \"y\"}, {\"hovertemplate\": \"variable=City_Zhvi_2bedroom<br>Date=%{x}<br>value=%{y}<extra></extra>\", \"legendgroup\": \"City_Zhvi_2bedroom\", \"line\": {\"color\": \"#ab63fa\", \"dash\": \"solid\"}, \"mode\": \"lines\", \"name\": \"City_Zhvi_2bedroom\", \"showlegend\": true, \"type\": \"scattergl\", \"x\": [\"2008-03-31\", \"2008-04-30\", \"2008-05-31\", \"2008-06-30\", \"2008-07-31\", \"2008-08-31\", \"2008-09-30\", \"2008-10-31\", \"2008-11-30\", \"2008-12-31\", \"2009-01-31\", \"2009-02-28\", \"2009-03-31\", \"2009-04-30\", \"2009-05-31\", \"2009-06-30\", \"2009-07-31\", \"2009-08-31\", \"2009-09-30\", \"2009-10-31\", \"2009-11-30\", \"2009-12-31\", \"2010-01-31\", \"2010-02-28\", \"2010-03-31\", \"2010-04-30\", \"2010-05-31\", \"2010-06-30\", \"2010-07-31\", \"2010-08-31\", \"2010-09-30\", \"2010-10-31\", \"2010-11-30\", \"2010-12-31\", \"2011-01-31\", \"2011-02-28\", \"2011-03-31\", \"2011-04-30\", \"2011-05-31\", \"2011-06-30\", \"2011-07-31\", \"2011-08-31\", \"2011-09-30\", \"2011-10-31\", \"2011-11-30\", \"2011-12-31\", \"2012-01-31\", \"2012-02-29\", \"2012-03-31\", \"2012-04-30\", \"2012-05-31\", \"2012-06-30\", \"2012-07-31\", \"2012-08-31\", \"2012-09-30\", \"2012-10-31\", \"2012-11-30\", \"2012-12-31\", \"2013-01-31\", \"2013-02-28\", \"2013-03-31\", \"2013-04-30\", \"2013-05-31\", \"2013-06-30\", \"2013-07-31\", \"2013-08-31\", \"2013-09-30\", \"2013-10-31\", \"2013-11-30\", \"2013-12-31\", \"2014-01-31\", \"2014-02-28\", \"2014-03-31\", \"2014-04-30\", \"2014-05-31\", \"2014-06-30\", \"2014-07-31\", \"2014-08-31\", \"2014-09-30\", \"2014-10-31\", \"2014-11-30\", \"2014-12-31\", \"2015-01-31\", \"2015-02-28\", \"2015-03-31\", \"2015-04-30\", \"2015-05-31\", \"2015-06-30\", \"2015-07-31\", \"2015-08-31\", \"2015-09-30\", \"2015-10-31\", \"2015-11-30\", \"2015-12-31\", \"2016-01-31\", \"2016-02-29\", \"2016-03-31\", \"2016-04-30\", \"2016-05-31\", \"2016-06-30\", \"2016-07-31\", \"2016-08-31\", \"2016-09-30\", \"2016-10-31\", \"2016-11-30\", \"2016-12-31\", \"2017-01-31\", \"2017-02-28\", \"2017-03-31\", \"2017-04-30\", \"2017-05-31\", \"2017-06-30\", \"2017-07-31\", \"2017-08-31\", \"2017-09-30\", \"2017-10-31\", \"2017-11-30\", \"2017-12-31\", \"2018-01-31\", \"2018-02-28\", \"2018-03-31\", \"2018-04-30\", \"2018-05-31\", \"2018-06-30\", \"2018-07-31\", \"2018-08-31\", \"2018-09-30\", \"2018-10-31\", \"2018-11-30\", \"2018-12-31\", \"2019-01-31\", \"2019-02-28\", \"2019-03-31\", \"2019-04-30\", \"2019-05-31\", \"2019-06-30\", \"2019-07-31\", \"2019-08-31\", \"2019-09-30\", \"2019-10-31\", \"2019-11-30\", \"2019-12-31\", \"2020-01-31\", \"2020-02-29\", \"2020-03-31\"], \"xaxis\": \"x\", \"y\": [215907.0, 216526.0, 217421.0, 218112.0, 217304.0, 216961.0, 216863.0, 216841.0, 216384.0, 215787.0, 215874.0, 215945.0, 216434.0, 215684.0, 214635.0, 213521.0, 213203.0, 213043.0, 213160.0, 213132.0, 212815.0, 212974.0, 213069.0, 214321.0, 214411.0, 214852.0, 214553.0, 214321.0, 214195.0, 213485.0, 212269.0, 211173.0, 211130.0, 210975.0, 210321.0, 208562.0, 207795.0, 207463.0, 207144.0, 205743.0, 204320.0, 203685.0, 204470.0, 205568.0, 206162.0, 206672.0, 206812.0, 207261.0, 206980.0, 207440.0, 208938.0, 211820.0, 214232.0, 216002.0, 217426.0, 219214.0, 221310.0, 222670.0, 224960.0, 227045.0, 230310.0, 232260.0, 234106.0, 235370.0, 237523.0, 239709.0, 241358.0, 242001.0, 242404.0, 244165.0, 245615.0, 247986.0, 249293.0, 251012.0, 252643.0, 253915.0, 255420.0, 256582.0, 258916.0, 261754.0, 265196.0, 268149.0, 272016.0, 274800.0, 277958.0, 281149.0, 284872.0, 290650.0, 295863.0, 301869.0, 305751.0, 309804.0, 313122.0, 316845.0, 319143.0, 321945.0, 324914.0, 328150.0, 330652.0, 332188.0, 334549.0, 337942.0, 341744.0, 345501.0, 349043.0, 352433.0, 355683.0, 359605.0, 363424.0, 367689.0, 371668.0, 374238.0, 375469.0, 374490.0, 375199.0, 376487.0, 378671.0, 380748.0, 382778.0, 384438.0, 385896.0, 387918.0, 390487.0, 393811.0, 397513.0, 401624.0, 406271.0, 409610.0, 413085.0, 413732.0, 414559.0, 415649.0, 417635.0, 419094.0, 419242.0, 420002.0, 420954.0, 422447.0, 422630.0, 423518.0, 423879.0, 426461.0, 428994.0, 431326.0, 433116.0], \"yaxis\": \"y\"}, {\"hovertemplate\": \"variable=City_Zhvi_3bedroom<br>Date=%{x}<br>value=%{y}<extra></extra>\", \"legendgroup\": \"City_Zhvi_3bedroom\", \"line\": {\"color\": \"#FFA15A\", \"dash\": \"solid\"}, \"mode\": \"lines\", \"name\": \"City_Zhvi_3bedroom\", \"showlegend\": true, \"type\": \"scattergl\", \"x\": [\"2008-03-31\", \"2008-04-30\", \"2008-05-31\", \"2008-06-30\", \"2008-07-31\", \"2008-08-31\", \"2008-09-30\", \"2008-10-31\", \"2008-11-30\", \"2008-12-31\", \"2009-01-31\", \"2009-02-28\", \"2009-03-31\", \"2009-04-30\", \"2009-05-31\", \"2009-06-30\", \"2009-07-31\", \"2009-08-31\", \"2009-09-30\", \"2009-10-31\", \"2009-11-30\", \"2009-12-31\", \"2010-01-31\", \"2010-02-28\", \"2010-03-31\", \"2010-04-30\", \"2010-05-31\", \"2010-06-30\", \"2010-07-31\", \"2010-08-31\", \"2010-09-30\", \"2010-10-31\", \"2010-11-30\", \"2010-12-31\", \"2011-01-31\", \"2011-02-28\", \"2011-03-31\", \"2011-04-30\", \"2011-05-31\", \"2011-06-30\", \"2011-07-31\", \"2011-08-31\", \"2011-09-30\", \"2011-10-31\", \"2011-11-30\", \"2011-12-31\", \"2012-01-31\", \"2012-02-29\", \"2012-03-31\", \"2012-04-30\", \"2012-05-31\", \"2012-06-30\", \"2012-07-31\", \"2012-08-31\", \"2012-09-30\", \"2012-10-31\", \"2012-11-30\", \"2012-12-31\", \"2013-01-31\", \"2013-02-28\", \"2013-03-31\", \"2013-04-30\", \"2013-05-31\", \"2013-06-30\", \"2013-07-31\", \"2013-08-31\", \"2013-09-30\", \"2013-10-31\", \"2013-11-30\", \"2013-12-31\", \"2014-01-31\", \"2014-02-28\", \"2014-03-31\", \"2014-04-30\", \"2014-05-31\", \"2014-06-30\", \"2014-07-31\", \"2014-08-31\", \"2014-09-30\", \"2014-10-31\", \"2014-11-30\", \"2014-12-31\", \"2015-01-31\", \"2015-02-28\", \"2015-03-31\", \"2015-04-30\", \"2015-05-31\", \"2015-06-30\", \"2015-07-31\", \"2015-08-31\", \"2015-09-30\", \"2015-10-31\", \"2015-11-30\", \"2015-12-31\", \"2016-01-31\", \"2016-02-29\", \"2016-03-31\", \"2016-04-30\", \"2016-05-31\", \"2016-06-30\", \"2016-07-31\", \"2016-08-31\", \"2016-09-30\", \"2016-10-31\", \"2016-11-30\", \"2016-12-31\", \"2017-01-31\", \"2017-02-28\", \"2017-03-31\", \"2017-04-30\", \"2017-05-31\", \"2017-06-30\", \"2017-07-31\", \"2017-08-31\", \"2017-09-30\", \"2017-10-31\", \"2017-11-30\", \"2017-12-31\", \"2018-01-31\", \"2018-02-28\", \"2018-03-31\", \"2018-04-30\", \"2018-05-31\", \"2018-06-30\", \"2018-07-31\", \"2018-08-31\", \"2018-09-30\", \"2018-10-31\", \"2018-11-30\", \"2018-12-31\", \"2019-01-31\", \"2019-02-28\", \"2019-03-31\", \"2019-04-30\", \"2019-05-31\", \"2019-06-30\", \"2019-07-31\", \"2019-08-31\", \"2019-09-30\", \"2019-10-31\", \"2019-11-30\", \"2019-12-31\", \"2020-01-31\", \"2020-02-29\", \"2020-03-31\"], \"xaxis\": \"x\", \"y\": [310456.0, 311809.0, 312824.0, 313455.0, 312123.0, 311713.0, 311193.0, 310705.0, 310057.0, 309881.0, 310235.0, 310097.0, 309959.0, 308784.0, 307472.0, 306309.0, 306816.0, 307536.0, 308498.0, 309015.0, 309083.0, 309169.0, 308716.0, 310066.0, 310792.0, 311718.0, 311608.0, 311007.0, 309588.0, 307927.0, 305978.0, 304800.0, 304346.0, 303899.0, 303598.0, 301619.0, 300340.0, 298758.0, 298077.0, 297173.0, 296608.0, 296407.0, 297191.0, 298271.0, 298667.0, 299086.0, 298759.0, 299025.0, 298967.0, 300419.0, 302766.0, 305718.0, 308144.0, 309474.0, 311287.0, 313346.0, 316303.0, 318189.0, 321008.0, 324049.0, 328205.0, 330970.0, 333248.0, 335722.0, 339669.0, 344104.0, 346830.0, 347930.0, 348489.0, 350824.0, 352700.0, 355067.0, 356242.0, 358282.0, 360352.0, 362081.0, 363727.0, 364835.0, 367160.0, 370643.0, 375272.0, 379679.0, 385305.0, 389267.0, 392661.0, 395519.0, 399690.0, 405173.0, 409239.0, 414284.0, 418620.0, 423756.0, 427610.0, 431462.0, 433461.0, 436340.0, 440439.0, 444989.0, 448199.0, 450022.0, 453702.0, 458011.0, 462288.0, 464909.0, 467471.0, 469969.0, 473337.0, 477546.0, 481989.0, 486348.0, 489760.0, 491990.0, 492527.0, 492361.0, 492994.0, 495280.0, 498382.0, 502224.0, 505460.0, 508265.0, 510243.0, 513122.0, 516980.0, 522595.0, 528219.0, 532813.0, 537882.0, 541842.0, 546061.0, 546375.0, 546439.0, 548066.0, 550506.0, 552860.0, 552876.0, 553115.0, 553826.0, 555527.0, 556484.0, 557766.0, 558441.0, 561721.0, 565367.0, 567799.0, 569995.0], \"yaxis\": \"y\"}, {\"hovertemplate\": \"variable=City_Zhvi_4bedroom<br>Date=%{x}<br>value=%{y}<extra></extra>\", \"legendgroup\": \"City_Zhvi_4bedroom\", \"line\": {\"color\": \"#19d3f3\", \"dash\": \"solid\"}, \"mode\": \"lines\", \"name\": \"City_Zhvi_4bedroom\", \"showlegend\": true, \"type\": \"scattergl\", \"x\": [\"2008-03-31\", \"2008-04-30\", \"2008-05-31\", \"2008-06-30\", \"2008-07-31\", \"2008-08-31\", \"2008-09-30\", \"2008-10-31\", \"2008-11-30\", \"2008-12-31\", \"2009-01-31\", \"2009-02-28\", \"2009-03-31\", \"2009-04-30\", \"2009-05-31\", \"2009-06-30\", \"2009-07-31\", \"2009-08-31\", \"2009-09-30\", \"2009-10-31\", \"2009-11-30\", \"2009-12-31\", \"2010-01-31\", \"2010-02-28\", \"2010-03-31\", \"2010-04-30\", \"2010-05-31\", \"2010-06-30\", \"2010-07-31\", \"2010-08-31\", \"2010-09-30\", \"2010-10-31\", \"2010-11-30\", \"2010-12-31\", \"2011-01-31\", \"2011-02-28\", \"2011-03-31\", \"2011-04-30\", \"2011-05-31\", \"2011-06-30\", \"2011-07-31\", \"2011-08-31\", \"2011-09-30\", \"2011-10-31\", \"2011-11-30\", \"2011-12-31\", \"2012-01-31\", \"2012-02-29\", \"2012-03-31\", \"2012-04-30\", \"2012-05-31\", \"2012-06-30\", \"2012-07-31\", \"2012-08-31\", \"2012-09-30\", \"2012-10-31\", \"2012-11-30\", \"2012-12-31\", \"2013-01-31\", \"2013-02-28\", \"2013-03-31\", \"2013-04-30\", \"2013-05-31\", \"2013-06-30\", \"2013-07-31\", \"2013-08-31\", \"2013-09-30\", \"2013-10-31\", \"2013-11-30\", \"2013-12-31\", \"2014-01-31\", \"2014-02-28\", \"2014-03-31\", \"2014-04-30\", \"2014-05-31\", \"2014-06-30\", \"2014-07-31\", \"2014-08-31\", \"2014-09-30\", \"2014-10-31\", \"2014-11-30\", \"2014-12-31\", \"2015-01-31\", \"2015-02-28\", \"2015-03-31\", \"2015-04-30\", \"2015-05-31\", \"2015-06-30\", \"2015-07-31\", \"2015-08-31\", \"2015-09-30\", \"2015-10-31\", \"2015-11-30\", \"2015-12-31\", \"2016-01-31\", \"2016-02-29\", \"2016-03-31\", \"2016-04-30\", \"2016-05-31\", \"2016-06-30\", \"2016-07-31\", \"2016-08-31\", \"2016-09-30\", \"2016-10-31\", \"2016-11-30\", \"2016-12-31\", \"2017-01-31\", \"2017-02-28\", \"2017-03-31\", \"2017-04-30\", \"2017-05-31\", \"2017-06-30\", \"2017-07-31\", \"2017-08-31\", \"2017-09-30\", \"2017-10-31\", \"2017-11-30\", \"2017-12-31\", \"2018-01-31\", \"2018-02-28\", \"2018-03-31\", \"2018-04-30\", \"2018-05-31\", \"2018-06-30\", \"2018-07-31\", \"2018-08-31\", \"2018-09-30\", \"2018-10-31\", \"2018-11-30\", \"2018-12-31\", \"2019-01-31\", \"2019-02-28\", \"2019-03-31\", \"2019-04-30\", \"2019-05-31\", \"2019-06-30\", \"2019-07-31\", \"2019-08-31\", \"2019-09-30\", \"2019-10-31\", \"2019-11-30\", \"2019-12-31\", \"2020-01-31\", \"2020-02-29\", \"2020-03-31\"], \"xaxis\": \"x\", \"y\": [403229.0, 405868.0, 407464.0, 408211.0, 406623.0, 406935.0, 407604.0, 408343.0, 408160.0, 407884.0, 407764.0, 407030.0, 406161.0, 403652.0, 401817.0, 400800.0, 401909.0, 401419.0, 400866.0, 399900.0, 399340.0, 398940.0, 397923.0, 399609.0, 400504.0, 401958.0, 401708.0, 399920.0, 397087.0, 394348.0, 392186.0, 391319.0, 391499.0, 391671.0, 391777.0, 389453.0, 387715.0, 386299.0, 385879.0, 386498.0, 387225.0, 388910.0, 390499.0, 391897.0, 391964.0, 392425.0, 392417.0, 393046.0, 393795.0, 395581.0, 398736.0, 401823.0, 404750.0, 406271.0, 408406.0, 410595.0, 413974.0, 415743.0, 418740.0, 421964.0, 426516.0, 429639.0, 432012.0, 434647.0, 438701.0, 443476.0, 446992.0, 448958.0, 450401.0, 453742.0, 456032.0, 458987.0, 460063.0, 462868.0, 465572.0, 468303.0, 470542.0, 471796.0, 474161.0, 478125.0, 483198.0, 488113.0, 494472.0, 498931.0, 503481.0, 505960.0, 509913.0, 514649.0, 518832.0, 524449.0, 529332.0, 534631.0, 538426.0, 542205.0, 544053.0, 546882.0, 550284.0, 555187.0, 558725.0, 561514.0, 565528.0, 570066.0, 574210.0, 576665.0, 579319.0, 582067.0, 586238.0, 591829.0, 597909.0, 603940.0, 608367.0, 610873.0, 611257.0, 611124.0, 612656.0, 615761.0, 619284.0, 623751.0, 627855.0, 631183.0, 633688.0, 636435.0, 641222.0, 647237.0, 653654.0, 658112.0, 663430.0, 667366.0, 673675.0, 675168.0, 676099.0, 677451.0, 679514.0, 682227.0, 681640.0, 682351.0, 683532.0, 686349.0, 687771.0, 689821.0, 689820.0, 693030.0, 696660.0, 700066.0, 703357.0], \"yaxis\": \"y\"}, {\"hovertemplate\": \"variable=City_Zhvi_5BedroomOrMore<br>Date=%{x}<br>value=%{y}<extra></extra>\", \"legendgroup\": \"City_Zhvi_5BedroomOrMore\", \"line\": {\"color\": \"#FF6692\", \"dash\": \"solid\"}, \"mode\": \"lines\", \"name\": \"City_Zhvi_5BedroomOrMore\", \"showlegend\": true, \"type\": \"scattergl\", \"x\": [\"2008-03-31\", \"2008-04-30\", \"2008-05-31\", \"2008-06-30\", \"2008-07-31\", \"2008-08-31\", \"2008-09-30\", \"2008-10-31\", \"2008-11-30\", \"2008-12-31\", \"2009-01-31\", \"2009-02-28\", \"2009-03-31\", \"2009-04-30\", \"2009-05-31\", \"2009-06-30\", \"2009-07-31\", \"2009-08-31\", \"2009-09-30\", \"2009-10-31\", \"2009-11-30\", \"2009-12-31\", \"2010-01-31\", \"2010-02-28\", \"2010-03-31\", \"2010-04-30\", \"2010-05-31\", \"2010-06-30\", \"2010-07-31\", \"2010-08-31\", \"2010-09-30\", \"2010-10-31\", \"2010-11-30\", \"2010-12-31\", \"2011-01-31\", \"2011-02-28\", \"2011-03-31\", \"2011-04-30\", \"2011-05-31\", \"2011-06-30\", \"2011-07-31\", \"2011-08-31\", \"2011-09-30\", \"2011-10-31\", \"2011-11-30\", \"2011-12-31\", \"2012-01-31\", \"2012-02-29\", \"2012-03-31\", \"2012-04-30\", \"2012-05-31\", \"2012-06-30\", \"2012-07-31\", \"2012-08-31\", \"2012-09-30\", \"2012-10-31\", \"2012-11-30\", \"2012-12-31\", \"2013-01-31\", \"2013-02-28\", \"2013-03-31\", \"2013-04-30\", \"2013-05-31\", \"2013-06-30\", \"2013-07-31\", \"2013-08-31\", \"2013-09-30\", \"2013-10-31\", \"2013-11-30\", \"2013-12-31\", \"2014-01-31\", \"2014-02-28\", \"2014-03-31\", \"2014-04-30\", \"2014-05-31\", \"2014-06-30\", \"2014-07-31\", \"2014-08-31\", \"2014-09-30\", \"2014-10-31\", \"2014-11-30\", \"2014-12-31\", \"2015-01-31\", \"2015-02-28\", \"2015-03-31\", \"2015-04-30\", \"2015-05-31\", \"2015-06-30\", \"2015-07-31\", \"2015-08-31\", \"2015-09-30\", \"2015-10-31\", \"2015-11-30\", \"2015-12-31\", \"2016-01-31\", \"2016-02-29\", \"2016-03-31\", \"2016-04-30\", \"2016-05-31\", \"2016-06-30\", \"2016-07-31\", \"2016-08-31\", \"2016-09-30\", \"2016-10-31\", \"2016-11-30\", \"2016-12-31\", \"2017-01-31\", \"2017-02-28\", \"2017-03-31\", \"2017-04-30\", \"2017-05-31\", \"2017-06-30\", \"2017-07-31\", \"2017-08-31\", \"2017-09-30\", \"2017-10-31\", \"2017-11-30\", \"2017-12-31\", \"2018-01-31\", \"2018-02-28\", \"2018-03-31\", \"2018-04-30\", \"2018-05-31\", \"2018-06-30\", \"2018-07-31\", \"2018-08-31\", \"2018-09-30\", \"2018-10-31\", \"2018-11-30\", \"2018-12-31\", \"2019-01-31\", \"2019-02-28\", \"2019-03-31\", \"2019-04-30\", \"2019-05-31\", \"2019-06-30\", \"2019-07-31\", \"2019-08-31\", \"2019-09-30\", \"2019-10-31\", \"2019-11-30\", \"2019-12-31\", \"2020-01-31\", \"2020-02-29\", \"2020-03-31\"], \"xaxis\": \"x\", \"y\": [475011.0, 479069.0, 481577.0, 482626.0, 480247.0, 479912.0, 480060.0, 480153.0, 479349.0, 478445.0, 478257.0, 477455.0, 476121.0, 472722.0, 469702.0, 467628.0, 468558.0, 468201.0, 467794.0, 466666.0, 465653.0, 465114.0, 463676.0, 465065.0, 465348.0, 466145.0, 465516.0, 463473.0, 460335.0, 456828.0, 454058.0, 453077.0, 453697.0, 453860.0, 453641.0, 450985.0, 449087.0, 447615.0, 447187.0, 448324.0, 449410.0, 451219.0, 452672.0, 453655.0, 453444.0, 453787.0, 454132.0, 454700.0, 455239.0, 457010.0, 460835.0, 464421.0, 467790.0, 469972.0, 472938.0, 475978.0, 479828.0, 481995.0, 485421.0, 489257.0, 494713.0, 498415.0, 501273.0, 504527.0, 509825.0, 515478.0, 519784.0, 522022.0, 523747.0, 527332.0, 529884.0, 533198.0, 534669.0, 538093.0, 540841.0, 542806.0, 543687.0, 544331.0, 546597.0, 551166.0, 556769.0, 562456.0, 569156.0, 573825.0, 578111.0, 580413.0, 584335.0, 589965.0, 595288.0, 602119.0, 607644.0, 613203.0, 617146.0, 620770.0, 623024.0, 626565.0, 631304.0, 637287.0, 641812.0, 645044.0, 649587.0, 653796.0, 657733.0, 659804.0, 662848.0, 666523.0, 671547.0, 677920.0, 684314.0, 690553.0, 695196.0, 698015.0, 698550.0, 698612.0, 700665.0, 705371.0, 710524.0, 715866.0, 719719.0, 722689.0, 725258.0, 728888.0, 734635.0, 741086.0, 747692.0, 752623.0, 758511.0, 762216.0, 768581.0, 769720.0, 771093.0, 772920.0, 775876.0, 779083.0, 778168.0, 779229.0, 780982.0, 784283.0, 785892.0, 788198.0, 787992.0, 791532.0, 795414.0, 799065.0, 802098.0], \"yaxis\": \"y\"}],\n",
       "                        {\"legend\": {\"orientation\": \"h\", \"title\": {\"text\": \"variable\"}, \"tracegroupgap\": 0}, \"showlegend\": true, \"template\": {\"data\": {\"bar\": [{\"error_x\": {\"color\": \"#2a3f5f\"}, \"error_y\": {\"color\": \"#2a3f5f\"}, \"marker\": {\"line\": {\"color\": \"#E5ECF6\", \"width\": 0.5}}, \"type\": \"bar\"}], \"barpolar\": [{\"marker\": {\"line\": {\"color\": \"#E5ECF6\", \"width\": 0.5}}, \"type\": \"barpolar\"}], \"carpet\": [{\"aaxis\": {\"endlinecolor\": \"#2a3f5f\", \"gridcolor\": \"white\", \"linecolor\": \"white\", \"minorgridcolor\": \"white\", \"startlinecolor\": \"#2a3f5f\"}, \"baxis\": {\"endlinecolor\": \"#2a3f5f\", \"gridcolor\": \"white\", \"linecolor\": \"white\", \"minorgridcolor\": \"white\", \"startlinecolor\": \"#2a3f5f\"}, \"type\": \"carpet\"}], \"choropleth\": [{\"colorbar\": {\"outlinewidth\": 0, \"ticks\": \"\"}, \"type\": \"choropleth\"}], \"contour\": [{\"colorbar\": {\"outlinewidth\": 0, \"ticks\": \"\"}, \"colorscale\": [[0.0, \"#0d0887\"], [0.1111111111111111, \"#46039f\"], [0.2222222222222222, \"#7201a8\"], [0.3333333333333333, \"#9c179e\"], [0.4444444444444444, \"#bd3786\"], [0.5555555555555556, \"#d8576b\"], [0.6666666666666666, \"#ed7953\"], [0.7777777777777778, \"#fb9f3a\"], [0.8888888888888888, \"#fdca26\"], [1.0, \"#f0f921\"]], \"type\": \"contour\"}], \"contourcarpet\": [{\"colorbar\": {\"outlinewidth\": 0, \"ticks\": \"\"}, \"type\": \"contourcarpet\"}], \"heatmap\": [{\"colorbar\": {\"outlinewidth\": 0, \"ticks\": \"\"}, \"colorscale\": [[0.0, \"#0d0887\"], [0.1111111111111111, \"#46039f\"], [0.2222222222222222, \"#7201a8\"], [0.3333333333333333, \"#9c179e\"], [0.4444444444444444, \"#bd3786\"], [0.5555555555555556, \"#d8576b\"], [0.6666666666666666, \"#ed7953\"], [0.7777777777777778, \"#fb9f3a\"], [0.8888888888888888, \"#fdca26\"], [1.0, \"#f0f921\"]], \"type\": \"heatmap\"}], \"heatmapgl\": [{\"colorbar\": {\"outlinewidth\": 0, \"ticks\": \"\"}, \"colorscale\": [[0.0, \"#0d0887\"], [0.1111111111111111, \"#46039f\"], [0.2222222222222222, \"#7201a8\"], [0.3333333333333333, \"#9c179e\"], [0.4444444444444444, \"#bd3786\"], [0.5555555555555556, \"#d8576b\"], [0.6666666666666666, \"#ed7953\"], [0.7777777777777778, \"#fb9f3a\"], [0.8888888888888888, \"#fdca26\"], [1.0, \"#f0f921\"]], \"type\": \"heatmapgl\"}], \"histogram\": [{\"marker\": {\"colorbar\": {\"outlinewidth\": 0, \"ticks\": \"\"}}, \"type\": \"histogram\"}], \"histogram2d\": [{\"colorbar\": {\"outlinewidth\": 0, \"ticks\": \"\"}, \"colorscale\": [[0.0, \"#0d0887\"], [0.1111111111111111, \"#46039f\"], [0.2222222222222222, \"#7201a8\"], [0.3333333333333333, \"#9c179e\"], [0.4444444444444444, \"#bd3786\"], [0.5555555555555556, \"#d8576b\"], [0.6666666666666666, \"#ed7953\"], [0.7777777777777778, \"#fb9f3a\"], [0.8888888888888888, \"#fdca26\"], [1.0, \"#f0f921\"]], \"type\": \"histogram2d\"}], \"histogram2dcontour\": [{\"colorbar\": {\"outlinewidth\": 0, \"ticks\": \"\"}, \"colorscale\": [[0.0, \"#0d0887\"], [0.1111111111111111, \"#46039f\"], [0.2222222222222222, \"#7201a8\"], [0.3333333333333333, \"#9c179e\"], [0.4444444444444444, \"#bd3786\"], [0.5555555555555556, \"#d8576b\"], [0.6666666666666666, \"#ed7953\"], [0.7777777777777778, \"#fb9f3a\"], [0.8888888888888888, \"#fdca26\"], [1.0, \"#f0f921\"]], \"type\": \"histogram2dcontour\"}], \"mesh3d\": [{\"colorbar\": {\"outlinewidth\": 0, \"ticks\": \"\"}, \"type\": \"mesh3d\"}], \"parcoords\": [{\"line\": {\"colorbar\": {\"outlinewidth\": 0, \"ticks\": \"\"}}, \"type\": \"parcoords\"}], \"pie\": [{\"automargin\": true, \"type\": \"pie\"}], \"scatter\": [{\"marker\": {\"colorbar\": {\"outlinewidth\": 0, \"ticks\": \"\"}}, \"type\": \"scatter\"}], \"scatter3d\": [{\"line\": {\"colorbar\": {\"outlinewidth\": 0, \"ticks\": \"\"}}, \"marker\": {\"colorbar\": {\"outlinewidth\": 0, \"ticks\": \"\"}}, \"type\": \"scatter3d\"}], \"scattercarpet\": [{\"marker\": {\"colorbar\": {\"outlinewidth\": 0, \"ticks\": \"\"}}, \"type\": \"scattercarpet\"}], \"scattergeo\": [{\"marker\": {\"colorbar\": {\"outlinewidth\": 0, \"ticks\": \"\"}}, \"type\": \"scattergeo\"}], \"scattergl\": [{\"marker\": {\"colorbar\": {\"outlinewidth\": 0, \"ticks\": \"\"}}, \"type\": \"scattergl\"}], \"scattermapbox\": [{\"marker\": {\"colorbar\": {\"outlinewidth\": 0, \"ticks\": \"\"}}, \"type\": \"scattermapbox\"}], \"scatterpolar\": [{\"marker\": {\"colorbar\": {\"outlinewidth\": 0, \"ticks\": \"\"}}, \"type\": \"scatterpolar\"}], \"scatterpolargl\": [{\"marker\": {\"colorbar\": {\"outlinewidth\": 0, \"ticks\": \"\"}}, \"type\": \"scatterpolargl\"}], \"scatterternary\": [{\"marker\": {\"colorbar\": {\"outlinewidth\": 0, \"ticks\": \"\"}}, \"type\": \"scatterternary\"}], \"surface\": [{\"colorbar\": {\"outlinewidth\": 0, \"ticks\": \"\"}, \"colorscale\": [[0.0, \"#0d0887\"], [0.1111111111111111, \"#46039f\"], [0.2222222222222222, \"#7201a8\"], [0.3333333333333333, \"#9c179e\"], [0.4444444444444444, \"#bd3786\"], [0.5555555555555556, \"#d8576b\"], [0.6666666666666666, \"#ed7953\"], [0.7777777777777778, \"#fb9f3a\"], [0.8888888888888888, \"#fdca26\"], [1.0, \"#f0f921\"]], \"type\": \"surface\"}], \"table\": [{\"cells\": {\"fill\": {\"color\": \"#EBF0F8\"}, \"line\": {\"color\": \"white\"}}, \"header\": {\"fill\": {\"color\": \"#C8D4E3\"}, \"line\": {\"color\": \"white\"}}, \"type\": \"table\"}]}, \"layout\": {\"annotationdefaults\": {\"arrowcolor\": \"#2a3f5f\", \"arrowhead\": 0, \"arrowwidth\": 1}, \"coloraxis\": {\"colorbar\": {\"outlinewidth\": 0, \"ticks\": \"\"}}, \"colorscale\": {\"diverging\": [[0, \"#8e0152\"], [0.1, \"#c51b7d\"], [0.2, \"#de77ae\"], [0.3, \"#f1b6da\"], [0.4, \"#fde0ef\"], [0.5, \"#f7f7f7\"], [0.6, \"#e6f5d0\"], [0.7, \"#b8e186\"], [0.8, \"#7fbc41\"], [0.9, \"#4d9221\"], [1, \"#276419\"]], \"sequential\": [[0.0, \"#0d0887\"], [0.1111111111111111, \"#46039f\"], [0.2222222222222222, \"#7201a8\"], [0.3333333333333333, \"#9c179e\"], [0.4444444444444444, \"#bd3786\"], [0.5555555555555556, \"#d8576b\"], [0.6666666666666666, \"#ed7953\"], [0.7777777777777778, \"#fb9f3a\"], [0.8888888888888888, \"#fdca26\"], [1.0, \"#f0f921\"]], \"sequentialminus\": [[0.0, \"#0d0887\"], [0.1111111111111111, \"#46039f\"], [0.2222222222222222, \"#7201a8\"], [0.3333333333333333, \"#9c179e\"], [0.4444444444444444, \"#bd3786\"], [0.5555555555555556, \"#d8576b\"], [0.6666666666666666, \"#ed7953\"], [0.7777777777777778, \"#fb9f3a\"], [0.8888888888888888, \"#fdca26\"], [1.0, \"#f0f921\"]]}, \"colorway\": [\"#636efa\", \"#EF553B\", \"#00cc96\", \"#ab63fa\", \"#FFA15A\", \"#19d3f3\", \"#FF6692\", \"#B6E880\", \"#FF97FF\", \"#FECB52\"], \"font\": {\"color\": \"#2a3f5f\"}, \"geo\": {\"bgcolor\": \"white\", \"lakecolor\": \"white\", \"landcolor\": \"#E5ECF6\", \"showlakes\": true, \"showland\": true, \"subunitcolor\": \"white\"}, \"hoverlabel\": {\"align\": \"left\"}, \"hovermode\": \"closest\", \"mapbox\": {\"style\": \"light\"}, \"paper_bgcolor\": \"white\", \"plot_bgcolor\": \"#E5ECF6\", \"polar\": {\"angularaxis\": {\"gridcolor\": \"white\", \"linecolor\": \"white\", \"ticks\": \"\"}, \"bgcolor\": \"#E5ECF6\", \"radialaxis\": {\"gridcolor\": \"white\", \"linecolor\": \"white\", \"ticks\": \"\"}}, \"scene\": {\"xaxis\": {\"backgroundcolor\": \"#E5ECF6\", \"gridcolor\": \"white\", \"gridwidth\": 2, \"linecolor\": \"white\", \"showbackground\": true, \"ticks\": \"\", \"zerolinecolor\": \"white\"}, \"yaxis\": {\"backgroundcolor\": \"#E5ECF6\", \"gridcolor\": \"white\", \"gridwidth\": 2, \"linecolor\": \"white\", \"showbackground\": true, \"ticks\": \"\", \"zerolinecolor\": \"white\"}, \"zaxis\": {\"backgroundcolor\": \"#E5ECF6\", \"gridcolor\": \"white\", \"gridwidth\": 2, \"linecolor\": \"white\", \"showbackground\": true, \"ticks\": \"\", \"zerolinecolor\": \"white\"}}, \"shapedefaults\": {\"line\": {\"color\": \"#2a3f5f\"}}, \"ternary\": {\"aaxis\": {\"gridcolor\": \"white\", \"linecolor\": \"white\", \"ticks\": \"\"}, \"baxis\": {\"gridcolor\": \"white\", \"linecolor\": \"white\", \"ticks\": \"\"}, \"bgcolor\": \"#E5ECF6\", \"caxis\": {\"gridcolor\": \"white\", \"linecolor\": \"white\", \"ticks\": \"\"}}, \"title\": {\"x\": 0.05}, \"xaxis\": {\"automargin\": true, \"gridcolor\": \"white\", \"linecolor\": \"white\", \"ticks\": \"\", \"title\": {\"standoff\": 15}, \"zerolinecolor\": \"white\", \"zerolinewidth\": 2}, \"yaxis\": {\"automargin\": true, \"gridcolor\": \"white\", \"linecolor\": \"white\", \"ticks\": \"\", \"title\": {\"standoff\": 15}, \"zerolinecolor\": \"white\", \"zerolinewidth\": 2}}}, \"title\": {\"text\": \"Median Home Prices in Golden, CO\"}, \"xaxis\": {\"anchor\": \"y\", \"domain\": [0.0, 1.0], \"title\": {\"text\": \"Date\"}}, \"yaxis\": {\"anchor\": \"x\", \"domain\": [0.0, 1.0], \"title\": {\"text\": \"Median Price ($USD)\"}}},\n",
       "                        {\"responsive\": true}\n",
       "                    ).then(function(){\n",
       "                            \n",
       "var gd = document.getElementById('3d4b012f-5845-45f8-86f3-d76092a60410');\n",
       "var x = new MutationObserver(function (mutations, observer) {{\n",
       "        var display = window.getComputedStyle(gd).display;\n",
       "        if (!display || display === 'none') {{\n",
       "            console.log([gd, 'removed!']);\n",
       "            Plotly.purge(gd);\n",
       "            observer.disconnect();\n",
       "        }}\n",
       "}});\n",
       "\n",
       "// Listen for the removal of the full notebook cells\n",
       "var notebookContainer = gd.closest('#notebook-container');\n",
       "if (notebookContainer) {{\n",
       "    x.observe(notebookContainer, {childList: true});\n",
       "}}\n",
       "\n",
       "// Listen for the clearing of the current output cell\n",
       "var outputEl = gd.closest('.output');\n",
       "if (outputEl) {{\n",
       "    x.observe(outputEl, {childList: true});\n",
       "}}\n",
       "\n",
       "                        })\n",
       "                };\n",
       "                });\n",
       "            </script>\n",
       "        </div>"
      ]
     },
     "metadata": {},
     "output_type": "display_data"
    }
   ],
   "source": [
    "# Plot median home prices using plotly express\n",
    "plot_seven_columns_using_plotly_express(golden_df_house,'City_Zhvi_Condominum', 'City_Zhvi_SingleFamilyResidence',\n",
    "                                        'City_Zhvi_1bedroom','City_Zhvi_2bedroom','City_Zhvi_3bedroom',\n",
    "                                        'City_Zhvi_4bedroom','City_Zhvi_5BedroomOrMore','Median Home Prices in Golden, CO')"
   ]
  },
  {
   "cell_type": "code",
   "execution_count": null,
   "metadata": {
    "papermill": {
     "duration": 0.006828,
     "end_time": "2020-08-11T19:34:45.610974",
     "exception": false,
     "start_time": "2020-08-11T19:34:45.604146",
     "status": "completed"
    },
    "tags": []
   },
   "outputs": [],
   "source": []
  }
 ],
 "metadata": {
  "kernelspec": {
   "display_name": "Python 3",
   "language": "python",
   "name": "python3"
  },
  "language_info": {
   "codemirror_mode": {
    "name": "ipython",
    "version": 3
   },
   "file_extension": ".py",
   "mimetype": "text/x-python",
   "name": "python",
   "nbconvert_exporter": "python",
   "pygments_lexer": "ipython3",
   "version": "3.7.6"
  },
  "papermill": {
   "duration": 20.639126,
   "end_time": "2020-08-11T19:34:45.727327",
   "environment_variables": {},
   "exception": null,
   "input_path": "__notebook__.ipynb",
   "output_path": "__notebook__.ipynb",
   "parameters": {},
   "start_time": "2020-08-11T19:34:25.088201",
   "version": "2.1.0"
  }
 },
 "nbformat": 4,
 "nbformat_minor": 4
}
