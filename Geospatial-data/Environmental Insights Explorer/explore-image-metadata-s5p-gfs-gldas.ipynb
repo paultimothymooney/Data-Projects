{
 "cells": [
  {
   "cell_type": "markdown",
   "metadata": {},
   "source": [
    "# Explore Image Metadata (S5P, GFS, GLDAS)"
   ]
  },
  {
   "cell_type": "markdown",
   "metadata": {},
   "source": [
    " - [Sentinel 5P OFFL NO2](https://developers.google.com/earth-engine/datasets/catalog/COPERNICUS_S5P_OFFL_L3_NO2) by [EU/ESA/Copernicus](https://sentinel.esa.int/web/sentinel/user-guides/sentinel-5p-tropomi/document-library)\n",
    " - [Global Land Data Assimilation System](https://developers.google.com/earth-engine/datasets/catalog/NASA_GLDAS_V021_NOAH_G025_T3H) by NASA\n",
    " - [Global Forecast System 384-Hour Predicted Atmosphere Data ](https://developers.google.com/earth-engine/datasets/catalog/NOAA_GFS0P25) by NOAA/NCEP/EMC"
   ]
  },
  {
   "cell_type": "code",
   "execution_count": 1,
   "metadata": {
    "_kg_hide-input": true
   },
   "outputs": [],
   "source": [
    "import pandas as pd\n",
    "import rasterio as rio\n",
    "import os\n",
    "\n",
    "s5p_file = '/kaggle/input/ds4g-environmental-insights-explorer/eie_data/s5p_no2/s5p_no2_20190501T161114_20190507T174400.tif'\n",
    "gldas_file = '/kaggle/input/ds4g-environmental-insights-explorer/eie_data/gldas/gldas_20180702_1500.tif'\n",
    "gfs_file = '/kaggle/input/ds4g-environmental-insights-explorer/eie_data/gfs/gfs_2019011212.tif'\n",
    "\n",
    "def preview_meta_data(file_name):\n",
    "    with rio.open(file_name) as img_filename:\n",
    "        print('Metadata for: ',file_name)\n",
    "        print('Bounding Box:',img_filename.bounds)\n",
    "        print('Resolution:',img_filename.res)\n",
    "        print('Tags:',img_filename.tags())\n",
    "        print('More Tags:',img_filename.tags(ns='IMAGE_STRUCTURE'))\n",
    "        print('Number of Channels =',img_filename.count,'\\n')\n",
    "\n",
    "def return_bands(file_name):\n",
    "    # adapted from \n",
    "    # https://www.kaggle.com/gpoulain/ds4g-eda-bands-understanding-and-gee\n",
    "    image = rio.open(file_name)\n",
    "    for i in image.indexes:\n",
    "        desc = image.descriptions[i-1]\n",
    "        print(f'{i}: {desc}')"
   ]
  },
  {
   "cell_type": "code",
   "execution_count": 2,
   "metadata": {
    "_cell_guid": "b1076dfc-b9ad-4769-8c92-a6c4dae69d19",
    "_kg_hide-input": true,
    "_uuid": "8f2839f25d086af736a60e9eeb907d3b93b6e0e5"
   },
   "outputs": [
    {
     "name": "stdout",
     "output_type": "stream",
     "text": [
      "Metadata for:  /kaggle/input/ds4g-environmental-insights-explorer/eie_data/s5p_no2/s5p_no2_20190501T161114_20190507T174400.tif\n",
      "Bounding Box: BoundingBox(left=-67.32431391288841, bottom=18.564903861343627, right=-65.19081511310455, top=17.90015055109518)\n",
      "Resolution: (0.004491576420597608, -0.004491576420597608)\n",
      "Tags: {'AREA_OR_POINT': 'Area'}\n",
      "More Tags: {'COMPRESSION': 'LZW', 'INTERLEAVE': 'PIXEL'}\n",
      "Number of Channels = 12 \n",
      "\n",
      "Metadata for:  /kaggle/input/ds4g-environmental-insights-explorer/eie_data/gldas/gldas_20180702_1500.tif\n",
      "Bounding Box: BoundingBox(left=-67.32431391288841, bottom=17.901215296567198, right=-65.19081511310455, top=18.565968606815645)\n",
      "Resolution: (0.004491576420597608, 0.004491576420597608)\n",
      "Tags: {'AREA_OR_POINT': 'Area'}\n",
      "More Tags: {'COMPRESSION': 'LZW', 'INTERLEAVE': 'PIXEL'}\n",
      "Number of Channels = 12 \n",
      "\n",
      "Metadata for:  /kaggle/input/ds4g-environmental-insights-explorer/eie_data/gfs/gfs_2019011212.tif\n",
      "Bounding Box: BoundingBox(left=-67.32354977311168, bottom=17.900451156790464, right=-65.19005097332781, top=18.56520446703891)\n",
      "Resolution: (0.004491576420597608, 0.004491576420597608)\n",
      "Tags: {'AREA_OR_POINT': 'Area'}\n",
      "More Tags: {'COMPRESSION': 'LZW', 'INTERLEAVE': 'PIXEL'}\n",
      "Number of Channels = 6 \n",
      "\n"
     ]
    }
   ],
   "source": [
    "preview_meta_data(s5p_file)\n",
    "preview_meta_data(gldas_file)\n",
    "preview_meta_data(gfs_file)"
   ]
  },
  {
   "cell_type": "code",
   "execution_count": 3,
   "metadata": {
    "_kg_hide-input": true
   },
   "outputs": [
    {
     "name": "stdout",
     "output_type": "stream",
     "text": [
      "S5P:  \n",
      "\n",
      "1: NO2_column_number_density\n",
      "2: tropospheric_NO2_column_number_density\n",
      "3: stratospheric_NO2_column_number_density\n",
      "4: NO2_slant_column_number_density\n",
      "5: tropopause_pressure\n",
      "6: absorbing_aerosol_index\n",
      "7: cloud_fraction\n",
      "8: sensor_altitude\n",
      "9: sensor_azimuth_angle\n",
      "10: sensor_zenith_angle\n",
      "11: solar_azimuth_angle\n",
      "12: solar_zenith_angle\n",
      "\n",
      "GLDAS:  \n",
      "\n",
      "1: LWdown_f_tavg\n",
      "2: Lwnet_tavg\n",
      "3: Psurf_f_inst\n",
      "4: Qair_f_inst\n",
      "5: Qg_tavg\n",
      "6: Qh_tavg\n",
      "7: Qle_tavg\n",
      "8: Rainf_f_tavg\n",
      "9: SWdown_f_tavg\n",
      "10: Swnet_tavg\n",
      "11: Tair_f_inst\n",
      "12: Wind_f_inst\n",
      "\n",
      "GFS:  \n",
      "\n",
      "1: temperature_2m_above_ground\n",
      "2: specific_humidity_2m_above_ground\n",
      "3: relative_humidity_2m_above_ground\n",
      "4: u_component_of_wind_10m_above_ground\n",
      "5: v_component_of_wind_10m_above_ground\n",
      "6: precipitable_water_entire_atmosphere\n"
     ]
    }
   ],
   "source": [
    "print('S5P: ','\\n')\n",
    "return_bands(s5p_file)\n",
    "print('\\nGLDAS: ','\\n')\n",
    "return_bands(gldas_file)\n",
    "print('\\nGFS: ','\\n')\n",
    "return_bands(gfs_file)"
   ]
  },
  {
   "cell_type": "markdown",
   "metadata": {},
   "source": [
    "S5P_NO2 on Earth Engine: \n",
    "![S5P_NO2 Bands](https://i.imgur.com/kLxrkQL.png)\n",
    "\n",
    "GLDAS on Earth Engine: \n",
    "![GlDAS Bands](https://i.imgur.com/IzMYWYJ.png)\n",
    "\n",
    "GFS on Earth Engine: \n",
    "![GFS Bands](https://i.imgur.com/WxLiygI.png)\n",
    "\n"
   ]
  },
  {
   "cell_type": "markdown",
   "metadata": {},
   "source": [
    "**S5P_NO2 on Kaggle: **\n",
    "- same as Earth Engine (12 bands)\n",
    "\n",
    "**GLDAS on Kaggle:**\n",
    " - 12 bands instead of 36 bands\n",
    " - 'LWdown_f_tavg', 'Lwnet_tavg', 'Psurf_f_inst', 'Qair_f_inst', 'Qg_tavg', 'Qh_tavg', 'Qle_tavg', 'Rainf_f_tavg', 'SWdown_f_tavg', 'Swnet_tavg', 'Tair_f_inst', 'Wind_f_inst'\n",
    "\n",
    "**GFS on Kaggle:**\n",
    "- same as Earth Engine (6 bands)\n"
   ]
  },
  {
   "cell_type": "markdown",
   "metadata": {},
   "source": [
    " - [Sentinel 5P OFFL NO2](https://developers.google.com/earth-engine/datasets/catalog/COPERNICUS_S5P_OFFL_L3_NO2) by [EU/ESA/Copernicus](https://sentinel.esa.int/web/sentinel/user-guides/sentinel-5p-tropomi/document-library)\n",
    " - [Global Land Data Assimilation System](https://developers.google.com/earth-engine/datasets/catalog/NASA_GLDAS_V021_NOAH_G025_T3H) by NASA\n",
    " - [Global Forecast System 384-Hour Predicted Atmosphere Data ](https://developers.google.com/earth-engine/datasets/catalog/NOAA_GFS0P25) by NOAA/NCEP/EMC"
   ]
  },
  {
   "cell_type": "markdown",
   "metadata": {},
   "source": [
    "**More getting started material is available here:**\n",
    "* [How to get started with the Earth Engine data](https://www.kaggle.com/paultimothymooney/how-to-get-started-with-the-earth-engine-data/) \n",
    " - connect to earthengine-API, load and preview data, etc\n",
    "* [Overview of the EIE Analytics Challenge](https://www.kaggle.com/paultimothymooney/overview-of-the-eie-analytics-challenge) \n",
    " - submission instructions, evaluation criteria, etc"
   ]
  },
  {
   "cell_type": "code",
   "execution_count": null,
   "metadata": {},
   "outputs": [],
   "source": []
  }
 ],
 "metadata": {
  "kernelspec": {
   "display_name": "Python 3",
   "language": "python",
   "name": "python3"
  },
  "language_info": {
   "codemirror_mode": {
    "name": "ipython",
    "version": 3
   },
   "file_extension": ".py",
   "mimetype": "text/x-python",
   "name": "python",
   "nbconvert_exporter": "python",
   "pygments_lexer": "ipython3",
   "version": "3.6.6"
  }
 },
 "nbformat": 4,
 "nbformat_minor": 1
}
