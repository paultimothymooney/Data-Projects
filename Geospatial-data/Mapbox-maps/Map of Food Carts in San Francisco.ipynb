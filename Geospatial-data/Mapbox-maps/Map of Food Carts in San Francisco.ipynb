{
  "cells": [
    {
      "metadata": {
        "_uuid": "2bca89867a40d2d3b418db1fe25088f0d5e1ed0c"
      },
      "cell_type": "markdown",
      "source": "**Map of Food Carts in San Francisco**"
    },
    {
      "metadata": {
        "_kg_hide-input": true,
        "_kg_hide-output": true,
        "trusted": true,
        "_uuid": "fc818bd6c94cfe42231d8f0d5bff846def7bb854"
      },
      "cell_type": "code",
      "source": "import numpy as np \nimport pandas as pd\nimport warnings\nwarnings.simplefilter(\"ignore\")\nfrom scipy.special import boxcox\nimport seaborn as sns\nimport matplotlib.pyplot as plt\n%matplotlib inline\nimport plotly\nimport plotly.plotly as py\nimport plotly.offline as offline\nimport plotly.graph_objs as go\nfrom plotly.offline import download_plotlyjs, init_notebook_mode, plot, iplot\ninit_notebook_mode(connected=True)\nimport cufflinks as cf\nfrom plotly.graph_objs import Scatter, Figure, Layout\ncf.set_config_file(offline=True)\ntrain = pd.read_csv('../input/mobile-food-facility-permit.csv', nrows = 300_000)\ntrain2 = pd.read_csv('../input/mobile-food-schedule.csv', nrows = 300_000)\nprint(\"Total Number of Food Carts: {}\".format(train.shape[0]))",
      "execution_count": null,
      "outputs": []
    },
    {
      "metadata": {
        "_kg_hide-input": true,
        "_kg_hide-output": false,
        "trusted": true,
        "_uuid": "6d5d97af47fdf6d1177f39834e799b66afa8990d"
      },
      "cell_type": "code",
      "source": "data = [go.Scattermapbox(\n            lat= train2['Latitude'] ,\n            lon= train2['Longitude'],\n            customdata = train2['Applicant'],\n            mode='markers',\n            text=train2['Applicant'],\n            marker=dict(\n                size= 10,\n                color = 'black',\n                opacity = .8,\n            ),\n          )]\nlayout = go.Layout(autosize=False,\n                   mapbox= dict(accesstoken=\"pk.eyJ1Ijoic2hhejEzIiwiYSI6ImNqYXA3NjhmeDR4d3Iyd2w5M2phM3E2djQifQ.yyxsAzT94VGYYEEOhxy87w\",\n                                bearing=0,\n                                pitch=0,\n                                zoom=12,\n                                center= dict(\n                                         lat=37.782852,\n                                         lon=-122.388405),\n                                #style= \"mapbox://styles/shaz13/cjiog1iqa1vkd2soeu5eocy4i\"\n                               ),\n                    width=1800,\n                    height=1200, title = \"Food Carts in San Francisco\")\nfig = dict(data=data, layout=layout)\niplot(fig)",
      "execution_count": null,
      "outputs": []
    },
    {
      "metadata": {
        "_uuid": "96a2d22b636c55e5b543256651f9867db5a45e03"
      },
      "cell_type": "markdown",
      "source": "Credit: Many functions are adaptations from https://www.kaggle.com/shaz13/simple-exploration-notebook-map-plots-v2/"
    }
  ],
  "metadata": {
    "kernelspec": {
      "display_name": "Python 3",
      "language": "python",
      "name": "python3"
    },
    "language_info": {
      "name": "python",
      "version": "3.6.6",
      "mimetype": "text/x-python",
      "codemirror_mode": {
        "name": "ipython",
        "version": 3
      },
      "pygments_lexer": "ipython3",
      "nbconvert_exporter": "python",
      "file_extension": ".py"
    }
  },
  "nbformat": 4,
  "nbformat_minor": 1
}