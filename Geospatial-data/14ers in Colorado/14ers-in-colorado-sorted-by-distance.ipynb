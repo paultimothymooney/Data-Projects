{
 "cells": [
  {
   "cell_type": "markdown",
   "metadata": {},
   "source": [
    "**14ers in Colorado, sorted by distance**\n",
    "\n",
    "Using data from various sources including [14ers.com](http://14ers.com)."
   ]
  },
  {
   "cell_type": "code",
   "execution_count": 1,
   "metadata": {
    "_kg_hide-input": true,
    "_kg_hide-output": false
   },
   "outputs": [
    {
     "data": {
      "text/html": [
       "        <script type=\"text/javascript\">\n",
       "        window.PlotlyConfig = {MathJaxConfig: 'local'};\n",
       "        if (window.MathJax) {MathJax.Hub.Config({SVG: {font: \"STIX-Web\"}});}\n",
       "        if (typeof require !== 'undefined') {\n",
       "        require.undef(\"plotly\");\n",
       "        requirejs.config({\n",
       "            paths: {\n",
       "                'plotly': ['https://cdn.plot.ly/plotly-latest.min']\n",
       "            }\n",
       "        });\n",
       "        require(['plotly'], function(Plotly) {\n",
       "            window._Plotly = Plotly;\n",
       "        });\n",
       "        }\n",
       "        </script>\n",
       "        "
      ]
     },
     "metadata": {},
     "output_type": "display_data"
    }
   ],
   "source": [
    "import numpy as np\n",
    "import pandas as pd\n",
    "import os\n",
    "import folium\n",
    "import matplotlib.pyplot as plt\n",
    "import plotly.graph_objs as go\n",
    "from plotly.offline import init_notebook_mode, iplot\n",
    "init_notebook_mode(connected=True)\n",
    "\n",
    "\n",
    "def plotPointsOnMap(dataframe,beginIndex,endIndex,latitudeColumn,latitudeValue,longitudeColumn,longitudeValue,zoom):\n",
    "    df = dataframe[beginIndex:endIndex]\n",
    "    location = [latitudeValue,longitudeValue]\n",
    "    plot = folium.Map(location=location,zoom_start=zoom)\n",
    "    for i in range(0,len(df)):\n",
    "        popup = folium.Popup(str(df.name[i:i+1]))\n",
    "        folium.Marker([df[latitudeColumn].iloc[i],df[longitudeColumn].iloc[i]],popup=popup).add_to(plot)\n",
    "    return(plot)\n",
    "\n",
    "def color_coded_map(df, center_lat, center_lon, zoom,bubbleSize,latitudeColumn,longitudeColumn,coloredColumn,labeledColumn,fillBool,opacityValue):  \n",
    "    # Adapted from  https://www.kaggle.com/dejavu23/openaq-from-queries-to-world-maps\n",
    "    m = folium.Map(location=[center_lat, center_lon],\n",
    "                   zoom_start = zoom)\n",
    "    for index, row in df.iterrows():\n",
    "        folium.CircleMarker([row[[latitudeColumn]], row[[longitudeColumn]]],radius=bubbleSize, \n",
    "                             color=custom_colormap(row[coloredColumn]), #\n",
    "                             fill_color=custom_colormap(row[coloredColumn]), #\n",
    "                             fill=fillBool, fill_opacity=opacityValue,             \n",
    "                             popup=row[[labeledColumn]]).add_to(m) \n",
    "    custom_colormap.add_to(m)\n",
    "    folium.TileLayer(tiles='Stamen Toner',name=\"Stamen Toner\").add_to(m)\n",
    "    folium.TileLayer(tiles='Stamen Terrain',name=\"Stamen Terrain\").add_to(m)\n",
    "    folium.TileLayer(tiles='cartodbpositron',name=\"cartodbpositron\").add_to(m)\n",
    "    folium.LayerControl().add_to(m)       \n",
    "    return m\n",
    "\n",
    "def plotMultipleChoice(selectedColumn,data,title,yAxisTitle):\n",
    "    counts = data[selectedColumn].value_counts()\n",
    "    countsDf = pd.DataFrame(counts)\n",
    "    trace1 = go.Bar(\n",
    "                    x = countsDf.index,\n",
    "                    y = countsDf[selectedColumn],\n",
    "                    name = \"Kaggle\",\n",
    "                    marker = dict(color = 'rgba(0, 0, 255, 0.8)',\n",
    "                                 line=dict(color='rgb(0,0,0)',width=1.5)),\n",
    "                    text = countsDf.index)\n",
    "    data = [trace1]\n",
    "    layout = go.Layout(barmode = \"group\",title=title, yaxis= dict(title=yAxisTitle),showlegend=False)\n",
    "    fig = go.Figure(data = data, layout = layout)\n",
    "    iplot(fig)\n",
    "\n",
    "fourteeners = pd.read_csv('../input/14er.csv',encoding='ISO-8859-1')\n",
    "fourteeners=fourteeners[['Mountain Peak','Mountain Range','Elevation_ft','Difficulty','Distance_mi','Elevation Gain_ft','Lat','Long']]\n",
    "fourteeners.columns = ['Peak','Range','Elevation','Difficulty','Distance (Miles)','Gain (Feet)','Latitude','Longitude']\n",
    "#fourteeners.head()"
   ]
  },
  {
   "cell_type": "markdown",
   "metadata": {},
   "source": [
    "**Map of 14ers in Colorado, sorted by distance** "
   ]
  },
  {
   "cell_type": "code",
   "execution_count": 2,
   "metadata": {
    "_kg_hide-input": true,
    "_kg_hide-output": false
   },
   "outputs": [
    {
     "data": {
      "text/html": [
       "<div>\n",
       "<style scoped>\n",
       "    .dataframe tbody tr th:only-of-type {\n",
       "        vertical-align: middle;\n",
       "    }\n",
       "\n",
       "    .dataframe tbody tr th {\n",
       "        vertical-align: top;\n",
       "    }\n",
       "\n",
       "    .dataframe thead th {\n",
       "        text-align: right;\n",
       "    }\n",
       "</style>\n",
       "<table border=\"1\" class=\"dataframe\">\n",
       "  <thead>\n",
       "    <tr style=\"text-align: right;\">\n",
       "      <th></th>\n",
       "      <th>Peak</th>\n",
       "      <th>Elevation</th>\n",
       "      <th>Difficulty</th>\n",
       "      <th>Distance (Miles)</th>\n",
       "      <th>Gain (Feet)</th>\n",
       "    </tr>\n",
       "  </thead>\n",
       "  <tbody>\n",
       "    <tr>\n",
       "      <th>0</th>\n",
       "      <td>Mount Bross</td>\n",
       "      <td>14178</td>\n",
       "      <td>Class 2</td>\n",
       "      <td>3.25</td>\n",
       "      <td>2250</td>\n",
       "    </tr>\n",
       "    <tr>\n",
       "      <th>1</th>\n",
       "      <td>Mount Democrat</td>\n",
       "      <td>14155</td>\n",
       "      <td>Class 2</td>\n",
       "      <td>4.00</td>\n",
       "      <td>2150</td>\n",
       "    </tr>\n",
       "    <tr>\n",
       "      <th>2</th>\n",
       "      <td>Mt. Cameron</td>\n",
       "      <td>14238</td>\n",
       "      <td>Class 2</td>\n",
       "      <td>4.75</td>\n",
       "      <td>2250</td>\n",
       "    </tr>\n",
       "    <tr>\n",
       "      <th>3</th>\n",
       "      <td>Mount Evans</td>\n",
       "      <td>14271</td>\n",
       "      <td>Class 2</td>\n",
       "      <td>5.00</td>\n",
       "      <td>2000</td>\n",
       "    </tr>\n",
       "    <tr>\n",
       "      <th>4</th>\n",
       "      <td>Culebra Peak</td>\n",
       "      <td>14053</td>\n",
       "      <td>Class 2</td>\n",
       "      <td>5.00</td>\n",
       "      <td>2700</td>\n",
       "    </tr>\n",
       "    <tr>\n",
       "      <th>5</th>\n",
       "      <td>Mount Sherman</td>\n",
       "      <td>14043</td>\n",
       "      <td>Class 2</td>\n",
       "      <td>5.25</td>\n",
       "      <td>2100</td>\n",
       "    </tr>\n",
       "    <tr>\n",
       "      <th>6</th>\n",
       "      <td>Handies Peak</td>\n",
       "      <td>14058</td>\n",
       "      <td>Class 1</td>\n",
       "      <td>5.75</td>\n",
       "      <td>2500</td>\n",
       "    </tr>\n",
       "    <tr>\n",
       "      <th>7</th>\n",
       "      <td>Mount Sneffels</td>\n",
       "      <td>14158</td>\n",
       "      <td>Easy Class 3</td>\n",
       "      <td>6.00</td>\n",
       "      <td>2900</td>\n",
       "    </tr>\n",
       "    <tr>\n",
       "      <th>8</th>\n",
       "      <td>Mount Lincoln</td>\n",
       "      <td>14293</td>\n",
       "      <td>Class 2</td>\n",
       "      <td>6.00</td>\n",
       "      <td>2600</td>\n",
       "    </tr>\n",
       "    <tr>\n",
       "      <th>9</th>\n",
       "      <td>Huron Peak</td>\n",
       "      <td>14010</td>\n",
       "      <td>Class 2</td>\n",
       "      <td>6.50</td>\n",
       "      <td>3500</td>\n",
       "    </tr>\n",
       "    <tr>\n",
       "      <th>10</th>\n",
       "      <td>Mount Princeton</td>\n",
       "      <td>14204</td>\n",
       "      <td>Class 2</td>\n",
       "      <td>6.50</td>\n",
       "      <td>3200</td>\n",
       "    </tr>\n",
       "    <tr>\n",
       "      <th>11</th>\n",
       "      <td>Quandary Peak</td>\n",
       "      <td>14271</td>\n",
       "      <td>Class 1</td>\n",
       "      <td>6.75</td>\n",
       "      <td>3450</td>\n",
       "    </tr>\n",
       "    <tr>\n",
       "      <th>12</th>\n",
       "      <td>Wetterhorn Peak</td>\n",
       "      <td>14021</td>\n",
       "      <td>Class 3</td>\n",
       "      <td>7.00</td>\n",
       "      <td>3300</td>\n",
       "    </tr>\n",
       "    <tr>\n",
       "      <th>13</th>\n",
       "      <td>Mount Bierstadt</td>\n",
       "      <td>14065</td>\n",
       "      <td>Class 2</td>\n",
       "      <td>7.00</td>\n",
       "      <td>2850</td>\n",
       "    </tr>\n",
       "    <tr>\n",
       "      <th>14</th>\n",
       "      <td>Uncompahgre Peak</td>\n",
       "      <td>14321</td>\n",
       "      <td>Class 2</td>\n",
       "      <td>7.50</td>\n",
       "      <td>3000</td>\n",
       "    </tr>\n",
       "    <tr>\n",
       "      <th>15</th>\n",
       "      <td>Mount Belford</td>\n",
       "      <td>14203</td>\n",
       "      <td>Class 2</td>\n",
       "      <td>8.00</td>\n",
       "      <td>4500</td>\n",
       "    </tr>\n",
       "    <tr>\n",
       "      <th>16</th>\n",
       "      <td>Torreys Peak</td>\n",
       "      <td>14275</td>\n",
       "      <td>Class 2</td>\n",
       "      <td>8.00</td>\n",
       "      <td>3000</td>\n",
       "    </tr>\n",
       "    <tr>\n",
       "      <th>17</th>\n",
       "      <td>Grays Peak</td>\n",
       "      <td>14278</td>\n",
       "      <td>Class 1</td>\n",
       "      <td>8.00</td>\n",
       "      <td>3000</td>\n",
       "    </tr>\n",
       "    <tr>\n",
       "      <th>18</th>\n",
       "      <td>Mount Lindsey</td>\n",
       "      <td>14048</td>\n",
       "      <td>Easy Class 3</td>\n",
       "      <td>8.25</td>\n",
       "      <td>3500</td>\n",
       "    </tr>\n",
       "    <tr>\n",
       "      <th>19</th>\n",
       "      <td>Pyramid Peak</td>\n",
       "      <td>14025</td>\n",
       "      <td>Class 4</td>\n",
       "      <td>8.25</td>\n",
       "      <td>4500</td>\n",
       "    </tr>\n",
       "    <tr>\n",
       "      <th>20</th>\n",
       "      <td>Redcloud Peak</td>\n",
       "      <td>14041</td>\n",
       "      <td>Class 2</td>\n",
       "      <td>9.00</td>\n",
       "      <td>3700</td>\n",
       "    </tr>\n",
       "    <tr>\n",
       "      <th>21</th>\n",
       "      <td>Mount Shavano</td>\n",
       "      <td>14231</td>\n",
       "      <td>Class 2</td>\n",
       "      <td>9.00</td>\n",
       "      <td>4600</td>\n",
       "    </tr>\n",
       "    <tr>\n",
       "      <th>22</th>\n",
       "      <td>La Plata Peak</td>\n",
       "      <td>14343</td>\n",
       "      <td>Class 2</td>\n",
       "      <td>9.25</td>\n",
       "      <td>4500</td>\n",
       "    </tr>\n",
       "    <tr>\n",
       "      <th>23</th>\n",
       "      <td>North Maroon Peak</td>\n",
       "      <td>14014</td>\n",
       "      <td>Class 4</td>\n",
       "      <td>9.25</td>\n",
       "      <td>4500</td>\n",
       "    </tr>\n",
       "    <tr>\n",
       "      <th>24</th>\n",
       "      <td>Mount Elbert</td>\n",
       "      <td>14440</td>\n",
       "      <td>Class 1</td>\n",
       "      <td>9.50</td>\n",
       "      <td>4700</td>\n",
       "    </tr>\n",
       "    <tr>\n",
       "      <th>25</th>\n",
       "      <td>Mount Yale</td>\n",
       "      <td>14200</td>\n",
       "      <td>Class 2</td>\n",
       "      <td>9.50</td>\n",
       "      <td>4300</td>\n",
       "    </tr>\n",
       "    <tr>\n",
       "      <th>26</th>\n",
       "      <td>Wilson Peak</td>\n",
       "      <td>14023</td>\n",
       "      <td>Class 3</td>\n",
       "      <td>10.00</td>\n",
       "      <td>5000</td>\n",
       "    </tr>\n",
       "    <tr>\n",
       "      <th>27</th>\n",
       "      <td>Missouri Mountain</td>\n",
       "      <td>14074</td>\n",
       "      <td>Class 2</td>\n",
       "      <td>10.50</td>\n",
       "      <td>4500</td>\n",
       "    </tr>\n",
       "    <tr>\n",
       "      <th>28</th>\n",
       "      <td>Tabeguache Peak</td>\n",
       "      <td>14162</td>\n",
       "      <td>Class 2</td>\n",
       "      <td>11.00</td>\n",
       "      <td>5600</td>\n",
       "    </tr>\n",
       "    <tr>\n",
       "      <th>29</th>\n",
       "      <td>Humboldt Peak</td>\n",
       "      <td>14070</td>\n",
       "      <td>Class 2</td>\n",
       "      <td>11.00</td>\n",
       "      <td>4200</td>\n",
       "    </tr>\n",
       "    <tr>\n",
       "      <th>30</th>\n",
       "      <td>Mount Oxford (Colorado)</td>\n",
       "      <td>14160</td>\n",
       "      <td>Class 2</td>\n",
       "      <td>11.00</td>\n",
       "      <td>5800</td>\n",
       "    </tr>\n",
       "    <tr>\n",
       "      <th>31</th>\n",
       "      <td>Mount Columbia</td>\n",
       "      <td>14077</td>\n",
       "      <td>Class 2</td>\n",
       "      <td>11.50</td>\n",
       "      <td>4250</td>\n",
       "    </tr>\n",
       "    <tr>\n",
       "      <th>32</th>\n",
       "      <td>Maroon Peak</td>\n",
       "      <td>14163</td>\n",
       "      <td>Class 3</td>\n",
       "      <td>11.50</td>\n",
       "      <td>4800</td>\n",
       "    </tr>\n",
       "    <tr>\n",
       "      <th>33</th>\n",
       "      <td>Mount of the Holy Cross</td>\n",
       "      <td>14011</td>\n",
       "      <td>Class 2</td>\n",
       "      <td>12.00</td>\n",
       "      <td>5600</td>\n",
       "    </tr>\n",
       "    <tr>\n",
       "      <th>34</th>\n",
       "      <td>Crestone Needle</td>\n",
       "      <td>14203</td>\n",
       "      <td>Class 3</td>\n",
       "      <td>12.00</td>\n",
       "      <td>4400</td>\n",
       "    </tr>\n",
       "    <tr>\n",
       "      <th>35</th>\n",
       "      <td>Sunshine Peak</td>\n",
       "      <td>14007</td>\n",
       "      <td>Class 2</td>\n",
       "      <td>12.25</td>\n",
       "      <td>4800</td>\n",
       "    </tr>\n",
       "    <tr>\n",
       "      <th>36</th>\n",
       "      <td>Challenger Point</td>\n",
       "      <td>14087</td>\n",
       "      <td>Hard Class 2</td>\n",
       "      <td>12.50</td>\n",
       "      <td>5400</td>\n",
       "    </tr>\n",
       "    <tr>\n",
       "      <th>37</th>\n",
       "      <td>San Luis Peak</td>\n",
       "      <td>14022</td>\n",
       "      <td>Class 1</td>\n",
       "      <td>13.50</td>\n",
       "      <td>3600</td>\n",
       "    </tr>\n",
       "    <tr>\n",
       "      <th>38</th>\n",
       "      <td>Castle Peak</td>\n",
       "      <td>14279</td>\n",
       "      <td>Hard Class 2</td>\n",
       "      <td>13.50</td>\n",
       "      <td>4600</td>\n",
       "    </tr>\n",
       "    <tr>\n",
       "      <th>39</th>\n",
       "      <td>Crestone Peak</td>\n",
       "      <td>14300</td>\n",
       "      <td>Class 3</td>\n",
       "      <td>14.00</td>\n",
       "      <td>5700</td>\n",
       "    </tr>\n",
       "    <tr>\n",
       "      <th>40</th>\n",
       "      <td>Mount Harvard</td>\n",
       "      <td>14421</td>\n",
       "      <td>Class 2</td>\n",
       "      <td>14.00</td>\n",
       "      <td>4600</td>\n",
       "    </tr>\n",
       "    <tr>\n",
       "      <th>41</th>\n",
       "      <td>Little Bear Peak</td>\n",
       "      <td>14043</td>\n",
       "      <td>Class 4</td>\n",
       "      <td>14.00</td>\n",
       "      <td>6200</td>\n",
       "    </tr>\n",
       "    <tr>\n",
       "      <th>42</th>\n",
       "      <td>Mount Massive</td>\n",
       "      <td>14428</td>\n",
       "      <td>Class 2</td>\n",
       "      <td>14.50</td>\n",
       "      <td>4500</td>\n",
       "    </tr>\n",
       "    <tr>\n",
       "      <th>43</th>\n",
       "      <td>Kit Carson Mountain</td>\n",
       "      <td>14171</td>\n",
       "      <td>Easy Class 3</td>\n",
       "      <td>14.50</td>\n",
       "      <td>6250</td>\n",
       "    </tr>\n",
       "    <tr>\n",
       "      <th>44</th>\n",
       "      <td>Conundrum Peak</td>\n",
       "      <td>14060</td>\n",
       "      <td>Hard Class 2</td>\n",
       "      <td>14.50</td>\n",
       "      <td>4850</td>\n",
       "    </tr>\n",
       "    <tr>\n",
       "      <th>45</th>\n",
       "      <td>Longs Peak</td>\n",
       "      <td>14259</td>\n",
       "      <td>Class 3</td>\n",
       "      <td>14.50</td>\n",
       "      <td>5100</td>\n",
       "    </tr>\n",
       "    <tr>\n",
       "      <th>46</th>\n",
       "      <td>El Diente Peak</td>\n",
       "      <td>14159</td>\n",
       "      <td>Class 3</td>\n",
       "      <td>15.00</td>\n",
       "      <td>5000</td>\n",
       "    </tr>\n",
       "    <tr>\n",
       "      <th>47</th>\n",
       "      <td>Mount Antero</td>\n",
       "      <td>14276</td>\n",
       "      <td>Class 2</td>\n",
       "      <td>16.00</td>\n",
       "      <td>5200</td>\n",
       "    </tr>\n",
       "    <tr>\n",
       "      <th>48</th>\n",
       "      <td>Mount Wilson</td>\n",
       "      <td>14252</td>\n",
       "      <td>Class 4</td>\n",
       "      <td>16.00</td>\n",
       "      <td>5100</td>\n",
       "    </tr>\n",
       "    <tr>\n",
       "      <th>49</th>\n",
       "      <td>North Eolus</td>\n",
       "      <td>14039</td>\n",
       "      <td>Class 3</td>\n",
       "      <td>16.75</td>\n",
       "      <td>6000</td>\n",
       "    </tr>\n",
       "    <tr>\n",
       "      <th>50</th>\n",
       "      <td>Ellingwood Point</td>\n",
       "      <td>14048</td>\n",
       "      <td>Hard Class 2</td>\n",
       "      <td>17.00</td>\n",
       "      <td>6200</td>\n",
       "    </tr>\n",
       "    <tr>\n",
       "      <th>51</th>\n",
       "      <td>Sunlight Peak</td>\n",
       "      <td>14065</td>\n",
       "      <td>Class 4</td>\n",
       "      <td>17.00</td>\n",
       "      <td>6000</td>\n",
       "    </tr>\n",
       "    <tr>\n",
       "      <th>52</th>\n",
       "      <td>Mount Eolus</td>\n",
       "      <td>14090</td>\n",
       "      <td>Class 3</td>\n",
       "      <td>17.00</td>\n",
       "      <td>6100</td>\n",
       "    </tr>\n",
       "    <tr>\n",
       "      <th>53</th>\n",
       "      <td>Windom Peak</td>\n",
       "      <td>14093</td>\n",
       "      <td>Hard Class 2</td>\n",
       "      <td>17.00</td>\n",
       "      <td>6000</td>\n",
       "    </tr>\n",
       "    <tr>\n",
       "      <th>54</th>\n",
       "      <td>Blanca Peak</td>\n",
       "      <td>14351</td>\n",
       "      <td>Hard Class 2</td>\n",
       "      <td>17.00</td>\n",
       "      <td>6500</td>\n",
       "    </tr>\n",
       "    <tr>\n",
       "      <th>55</th>\n",
       "      <td>Capitol Peak</td>\n",
       "      <td>14137</td>\n",
       "      <td>Class 4</td>\n",
       "      <td>17.00</td>\n",
       "      <td>5300</td>\n",
       "    </tr>\n",
       "    <tr>\n",
       "      <th>56</th>\n",
       "      <td>Snowmass Mountain</td>\n",
       "      <td>14099</td>\n",
       "      <td>Hard Class 3</td>\n",
       "      <td>22.00</td>\n",
       "      <td>5800</td>\n",
       "    </tr>\n",
       "    <tr>\n",
       "      <th>57</th>\n",
       "      <td>Pikes Peak</td>\n",
       "      <td>14115</td>\n",
       "      <td>Class 1</td>\n",
       "      <td>26.00</td>\n",
       "      <td>7500</td>\n",
       "    </tr>\n",
       "  </tbody>\n",
       "</table>\n",
       "</div>"
      ],
      "text/plain": [
       "                       Peak  Elevation    Difficulty  Distance (Miles)  \\\n",
       "0               Mount Bross      14178       Class 2              3.25   \n",
       "1            Mount Democrat      14155       Class 2              4.00   \n",
       "2               Mt. Cameron      14238       Class 2              4.75   \n",
       "3               Mount Evans      14271       Class 2              5.00   \n",
       "4              Culebra Peak      14053       Class 2              5.00   \n",
       "5             Mount Sherman      14043       Class 2              5.25   \n",
       "6              Handies Peak      14058       Class 1              5.75   \n",
       "7            Mount Sneffels      14158  Easy Class 3              6.00   \n",
       "8             Mount Lincoln      14293       Class 2              6.00   \n",
       "9                Huron Peak      14010       Class 2              6.50   \n",
       "10          Mount Princeton      14204       Class 2              6.50   \n",
       "11            Quandary Peak      14271       Class 1              6.75   \n",
       "12          Wetterhorn Peak      14021       Class 3              7.00   \n",
       "13          Mount Bierstadt      14065       Class 2              7.00   \n",
       "14         Uncompahgre Peak      14321       Class 2              7.50   \n",
       "15            Mount Belford      14203       Class 2              8.00   \n",
       "16             Torreys Peak      14275       Class 2              8.00   \n",
       "17               Grays Peak      14278       Class 1              8.00   \n",
       "18            Mount Lindsey      14048  Easy Class 3              8.25   \n",
       "19             Pyramid Peak      14025       Class 4              8.25   \n",
       "20            Redcloud Peak      14041       Class 2              9.00   \n",
       "21            Mount Shavano      14231       Class 2              9.00   \n",
       "22            La Plata Peak      14343       Class 2              9.25   \n",
       "23        North Maroon Peak      14014       Class 4              9.25   \n",
       "24             Mount Elbert      14440       Class 1              9.50   \n",
       "25               Mount Yale      14200       Class 2              9.50   \n",
       "26              Wilson Peak      14023       Class 3             10.00   \n",
       "27        Missouri Mountain      14074       Class 2             10.50   \n",
       "28          Tabeguache Peak      14162       Class 2             11.00   \n",
       "29            Humboldt Peak      14070       Class 2             11.00   \n",
       "30  Mount Oxford (Colorado)      14160       Class 2             11.00   \n",
       "31           Mount Columbia      14077       Class 2             11.50   \n",
       "32              Maroon Peak      14163       Class 3             11.50   \n",
       "33  Mount of the Holy Cross      14011       Class 2             12.00   \n",
       "34          Crestone Needle      14203       Class 3             12.00   \n",
       "35            Sunshine Peak      14007       Class 2             12.25   \n",
       "36         Challenger Point      14087  Hard Class 2             12.50   \n",
       "37            San Luis Peak      14022       Class 1             13.50   \n",
       "38              Castle Peak      14279  Hard Class 2             13.50   \n",
       "39            Crestone Peak      14300       Class 3             14.00   \n",
       "40            Mount Harvard      14421       Class 2             14.00   \n",
       "41         Little Bear Peak      14043       Class 4             14.00   \n",
       "42            Mount Massive      14428       Class 2             14.50   \n",
       "43      Kit Carson Mountain      14171  Easy Class 3             14.50   \n",
       "44           Conundrum Peak      14060  Hard Class 2             14.50   \n",
       "45               Longs Peak      14259       Class 3             14.50   \n",
       "46           El Diente Peak      14159       Class 3             15.00   \n",
       "47             Mount Antero      14276       Class 2             16.00   \n",
       "48             Mount Wilson      14252       Class 4             16.00   \n",
       "49              North Eolus      14039       Class 3             16.75   \n",
       "50         Ellingwood Point      14048  Hard Class 2             17.00   \n",
       "51            Sunlight Peak      14065       Class 4             17.00   \n",
       "52              Mount Eolus      14090       Class 3             17.00   \n",
       "53              Windom Peak      14093  Hard Class 2             17.00   \n",
       "54              Blanca Peak      14351  Hard Class 2             17.00   \n",
       "55             Capitol Peak      14137       Class 4             17.00   \n",
       "56        Snowmass Mountain      14099  Hard Class 3             22.00   \n",
       "57               Pikes Peak      14115       Class 1             26.00   \n",
       "\n",
       "    Gain (Feet)  \n",
       "0          2250  \n",
       "1          2150  \n",
       "2          2250  \n",
       "3          2000  \n",
       "4          2700  \n",
       "5          2100  \n",
       "6          2500  \n",
       "7          2900  \n",
       "8          2600  \n",
       "9          3500  \n",
       "10         3200  \n",
       "11         3450  \n",
       "12         3300  \n",
       "13         2850  \n",
       "14         3000  \n",
       "15         4500  \n",
       "16         3000  \n",
       "17         3000  \n",
       "18         3500  \n",
       "19         4500  \n",
       "20         3700  \n",
       "21         4600  \n",
       "22         4500  \n",
       "23         4500  \n",
       "24         4700  \n",
       "25         4300  \n",
       "26         5000  \n",
       "27         4500  \n",
       "28         5600  \n",
       "29         4200  \n",
       "30         5800  \n",
       "31         4250  \n",
       "32         4800  \n",
       "33         5600  \n",
       "34         4400  \n",
       "35         4800  \n",
       "36         5400  \n",
       "37         3600  \n",
       "38         4600  \n",
       "39         5700  \n",
       "40         4600  \n",
       "41         6200  \n",
       "42         4500  \n",
       "43         6250  \n",
       "44         4850  \n",
       "45         5100  \n",
       "46         5000  \n",
       "47         5200  \n",
       "48         5100  \n",
       "49         6000  \n",
       "50         6200  \n",
       "51         6000  \n",
       "52         6100  \n",
       "53         6000  \n",
       "54         6500  \n",
       "55         5300  \n",
       "56         5800  \n",
       "57         7500  "
      ]
     },
     "execution_count": 2,
     "metadata": {},
     "output_type": "execute_result"
    }
   ],
   "source": [
    "custom_colormap = folium.StepColormap(['yellow','orange','red','black'], \n",
    "                         vmin=0, vmax=24,\n",
    "                         index=[0,5,10,24],\n",
    "                        caption='Distance (Miles)')\n",
    "fourteeners = fourteeners.sort_values(by='Distance (Miles)', ascending=1)\n",
    "fourteeners = fourteeners.reset_index()\n",
    "pd.set_option('display.max_colwidth', 400)\n",
    "fourteeners[['Peak','Elevation','Difficulty','Distance (Miles)','Gain (Feet)']].head(60)"
   ]
  },
  {
   "cell_type": "code",
   "execution_count": 3,
   "metadata": {
    "_kg_hide-input": true
   },
   "outputs": [
    {
     "data": {
      "text/html": [
       "<div style=\"width:100%;\"><div style=\"position:relative;width:100%;height:0;padding-bottom:60%;\"><iframe src=\"data:text/html;charset=utf-8;base64,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\" style=\"position:absolute;width:100%;height:100%;left:0;top:0;border:none !important;\" allowfullscreen webkitallowfullscreen mozallowfullscreen></iframe></div></div>"
      ],
      "text/plain": [
       "<folium.folium.Map at 0x7feeb25121d0>"
      ]
     },
     "execution_count": 3,
     "metadata": {},
     "output_type": "execute_result"
    }
   ],
   "source": [
    "temperature_map = color_coded_map(fourteeners, 39.965411,-105.293598,9,5,'Latitude','Longitude','Distance (Miles)','Peak',True,1,)\n",
    "temperature_map"
   ]
  },
  {
   "cell_type": "code",
   "execution_count": 4,
   "metadata": {
    "_kg_hide-input": true
   },
   "outputs": [
    {
     "data": {
      "application/vnd.plotly.v1+json": {
       "config": {
        "linkText": "Export to plot.ly",
        "plotlyServerURL": "https://plot.ly",
        "showLink": false
       },
       "data": [
        {
         "marker": {
          "color": "rgba(0, 0, 255, 0.8)",
          "line": {
           "color": "rgb(0,0,0)",
           "width": 1.5
          }
         },
         "name": "Kaggle",
         "text": [
          "Sawatch Range",
          "San Juan Mountains",
          "Sangre de Cristo Range",
          "Elk Mountains",
          "Mosquito Range",
          "Front Range"
         ],
         "type": "bar",
         "x": [
          "Sawatch Range",
          "San Juan Mountains",
          "Sangre de Cristo Range",
          "Elk Mountains",
          "Mosquito Range",
          "Front Range"
         ],
         "y": [
          15,
          14,
          10,
          7,
          6,
          6
         ]
        }
       ],
       "layout": {
        "barmode": "group",
        "showlegend": false,
        "template": {
         "data": {
          "bar": [
           {
            "error_x": {
             "color": "#2a3f5f"
            },
            "error_y": {
             "color": "#2a3f5f"
            },
            "marker": {
             "line": {
              "color": "#E5ECF6",
              "width": 0.5
             }
            },
            "type": "bar"
           }
          ],
          "barpolar": [
           {
            "marker": {
             "line": {
              "color": "#E5ECF6",
              "width": 0.5
             }
            },
            "type": "barpolar"
           }
          ],
          "carpet": [
           {
            "aaxis": {
             "endlinecolor": "#2a3f5f",
             "gridcolor": "white",
             "linecolor": "white",
             "minorgridcolor": "white",
             "startlinecolor": "#2a3f5f"
            },
            "baxis": {
             "endlinecolor": "#2a3f5f",
             "gridcolor": "white",
             "linecolor": "white",
             "minorgridcolor": "white",
             "startlinecolor": "#2a3f5f"
            },
            "type": "carpet"
           }
          ],
          "choropleth": [
           {
            "colorbar": {
             "outlinewidth": 0,
             "ticks": ""
            },
            "type": "choropleth"
           }
          ],
          "contour": [
           {
            "colorbar": {
             "outlinewidth": 0,
             "ticks": ""
            },
            "colorscale": [
             [
              0.0,
              "#0d0887"
             ],
             [
              0.1111111111111111,
              "#46039f"
             ],
             [
              0.2222222222222222,
              "#7201a8"
             ],
             [
              0.3333333333333333,
              "#9c179e"
             ],
             [
              0.4444444444444444,
              "#bd3786"
             ],
             [
              0.5555555555555556,
              "#d8576b"
             ],
             [
              0.6666666666666666,
              "#ed7953"
             ],
             [
              0.7777777777777778,
              "#fb9f3a"
             ],
             [
              0.8888888888888888,
              "#fdca26"
             ],
             [
              1.0,
              "#f0f921"
             ]
            ],
            "type": "contour"
           }
          ],
          "contourcarpet": [
           {
            "colorbar": {
             "outlinewidth": 0,
             "ticks": ""
            },
            "type": "contourcarpet"
           }
          ],
          "heatmap": [
           {
            "colorbar": {
             "outlinewidth": 0,
             "ticks": ""
            },
            "colorscale": [
             [
              0.0,
              "#0d0887"
             ],
             [
              0.1111111111111111,
              "#46039f"
             ],
             [
              0.2222222222222222,
              "#7201a8"
             ],
             [
              0.3333333333333333,
              "#9c179e"
             ],
             [
              0.4444444444444444,
              "#bd3786"
             ],
             [
              0.5555555555555556,
              "#d8576b"
             ],
             [
              0.6666666666666666,
              "#ed7953"
             ],
             [
              0.7777777777777778,
              "#fb9f3a"
             ],
             [
              0.8888888888888888,
              "#fdca26"
             ],
             [
              1.0,
              "#f0f921"
             ]
            ],
            "type": "heatmap"
           }
          ],
          "heatmapgl": [
           {
            "colorbar": {
             "outlinewidth": 0,
             "ticks": ""
            },
            "colorscale": [
             [
              0.0,
              "#0d0887"
             ],
             [
              0.1111111111111111,
              "#46039f"
             ],
             [
              0.2222222222222222,
              "#7201a8"
             ],
             [
              0.3333333333333333,
              "#9c179e"
             ],
             [
              0.4444444444444444,
              "#bd3786"
             ],
             [
              0.5555555555555556,
              "#d8576b"
             ],
             [
              0.6666666666666666,
              "#ed7953"
             ],
             [
              0.7777777777777778,
              "#fb9f3a"
             ],
             [
              0.8888888888888888,
              "#fdca26"
             ],
             [
              1.0,
              "#f0f921"
             ]
            ],
            "type": "heatmapgl"
           }
          ],
          "histogram": [
           {
            "marker": {
             "colorbar": {
              "outlinewidth": 0,
              "ticks": ""
             }
            },
            "type": "histogram"
           }
          ],
          "histogram2d": [
           {
            "colorbar": {
             "outlinewidth": 0,
             "ticks": ""
            },
            "colorscale": [
             [
              0.0,
              "#0d0887"
             ],
             [
              0.1111111111111111,
              "#46039f"
             ],
             [
              0.2222222222222222,
              "#7201a8"
             ],
             [
              0.3333333333333333,
              "#9c179e"
             ],
             [
              0.4444444444444444,
              "#bd3786"
             ],
             [
              0.5555555555555556,
              "#d8576b"
             ],
             [
              0.6666666666666666,
              "#ed7953"
             ],
             [
              0.7777777777777778,
              "#fb9f3a"
             ],
             [
              0.8888888888888888,
              "#fdca26"
             ],
             [
              1.0,
              "#f0f921"
             ]
            ],
            "type": "histogram2d"
           }
          ],
          "histogram2dcontour": [
           {
            "colorbar": {
             "outlinewidth": 0,
             "ticks": ""
            },
            "colorscale": [
             [
              0.0,
              "#0d0887"
             ],
             [
              0.1111111111111111,
              "#46039f"
             ],
             [
              0.2222222222222222,
              "#7201a8"
             ],
             [
              0.3333333333333333,
              "#9c179e"
             ],
             [
              0.4444444444444444,
              "#bd3786"
             ],
             [
              0.5555555555555556,
              "#d8576b"
             ],
             [
              0.6666666666666666,
              "#ed7953"
             ],
             [
              0.7777777777777778,
              "#fb9f3a"
             ],
             [
              0.8888888888888888,
              "#fdca26"
             ],
             [
              1.0,
              "#f0f921"
             ]
            ],
            "type": "histogram2dcontour"
           }
          ],
          "mesh3d": [
           {
            "colorbar": {
             "outlinewidth": 0,
             "ticks": ""
            },
            "type": "mesh3d"
           }
          ],
          "parcoords": [
           {
            "line": {
             "colorbar": {
              "outlinewidth": 0,
              "ticks": ""
             }
            },
            "type": "parcoords"
           }
          ],
          "scatter": [
           {
            "marker": {
             "colorbar": {
              "outlinewidth": 0,
              "ticks": ""
             }
            },
            "type": "scatter"
           }
          ],
          "scatter3d": [
           {
            "line": {
             "colorbar": {
              "outlinewidth": 0,
              "ticks": ""
             }
            },
            "marker": {
             "colorbar": {
              "outlinewidth": 0,
              "ticks": ""
             }
            },
            "type": "scatter3d"
           }
          ],
          "scattercarpet": [
           {
            "marker": {
             "colorbar": {
              "outlinewidth": 0,
              "ticks": ""
             }
            },
            "type": "scattercarpet"
           }
          ],
          "scattergeo": [
           {
            "marker": {
             "colorbar": {
              "outlinewidth": 0,
              "ticks": ""
             }
            },
            "type": "scattergeo"
           }
          ],
          "scattergl": [
           {
            "marker": {
             "colorbar": {
              "outlinewidth": 0,
              "ticks": ""
             }
            },
            "type": "scattergl"
           }
          ],
          "scattermapbox": [
           {
            "marker": {
             "colorbar": {
              "outlinewidth": 0,
              "ticks": ""
             }
            },
            "type": "scattermapbox"
           }
          ],
          "scatterpolar": [
           {
            "marker": {
             "colorbar": {
              "outlinewidth": 0,
              "ticks": ""
             }
            },
            "type": "scatterpolar"
           }
          ],
          "scatterpolargl": [
           {
            "marker": {
             "colorbar": {
              "outlinewidth": 0,
              "ticks": ""
             }
            },
            "type": "scatterpolargl"
           }
          ],
          "scatterternary": [
           {
            "marker": {
             "colorbar": {
              "outlinewidth": 0,
              "ticks": ""
             }
            },
            "type": "scatterternary"
           }
          ],
          "surface": [
           {
            "colorbar": {
             "outlinewidth": 0,
             "ticks": ""
            },
            "colorscale": [
             [
              0.0,
              "#0d0887"
             ],
             [
              0.1111111111111111,
              "#46039f"
             ],
             [
              0.2222222222222222,
              "#7201a8"
             ],
             [
              0.3333333333333333,
              "#9c179e"
             ],
             [
              0.4444444444444444,
              "#bd3786"
             ],
             [
              0.5555555555555556,
              "#d8576b"
             ],
             [
              0.6666666666666666,
              "#ed7953"
             ],
             [
              0.7777777777777778,
              "#fb9f3a"
             ],
             [
              0.8888888888888888,
              "#fdca26"
             ],
             [
              1.0,
              "#f0f921"
             ]
            ],
            "type": "surface"
           }
          ],
          "table": [
           {
            "cells": {
             "fill": {
              "color": "#EBF0F8"
             },
             "line": {
              "color": "white"
             }
            },
            "header": {
             "fill": {
              "color": "#C8D4E3"
             },
             "line": {
              "color": "white"
             }
            },
            "type": "table"
           }
          ]
         },
         "layout": {
          "annotationdefaults": {
           "arrowcolor": "#2a3f5f",
           "arrowhead": 0,
           "arrowwidth": 1
          },
          "colorscale": {
           "diverging": [
            [
             0,
             "#8e0152"
            ],
            [
             0.1,
             "#c51b7d"
            ],
            [
             0.2,
             "#de77ae"
            ],
            [
             0.3,
             "#f1b6da"
            ],
            [
             0.4,
             "#fde0ef"
            ],
            [
             0.5,
             "#f7f7f7"
            ],
            [
             0.6,
             "#e6f5d0"
            ],
            [
             0.7,
             "#b8e186"
            ],
            [
             0.8,
             "#7fbc41"
            ],
            [
             0.9,
             "#4d9221"
            ],
            [
             1,
             "#276419"
            ]
           ],
           "sequential": [
            [
             0.0,
             "#0d0887"
            ],
            [
             0.1111111111111111,
             "#46039f"
            ],
            [
             0.2222222222222222,
             "#7201a8"
            ],
            [
             0.3333333333333333,
             "#9c179e"
            ],
            [
             0.4444444444444444,
             "#bd3786"
            ],
            [
             0.5555555555555556,
             "#d8576b"
            ],
            [
             0.6666666666666666,
             "#ed7953"
            ],
            [
             0.7777777777777778,
             "#fb9f3a"
            ],
            [
             0.8888888888888888,
             "#fdca26"
            ],
            [
             1.0,
             "#f0f921"
            ]
           ],
           "sequentialminus": [
            [
             0.0,
             "#0d0887"
            ],
            [
             0.1111111111111111,
             "#46039f"
            ],
            [
             0.2222222222222222,
             "#7201a8"
            ],
            [
             0.3333333333333333,
             "#9c179e"
            ],
            [
             0.4444444444444444,
             "#bd3786"
            ],
            [
             0.5555555555555556,
             "#d8576b"
            ],
            [
             0.6666666666666666,
             "#ed7953"
            ],
            [
             0.7777777777777778,
             "#fb9f3a"
            ],
            [
             0.8888888888888888,
             "#fdca26"
            ],
            [
             1.0,
             "#f0f921"
            ]
           ]
          },
          "colorway": [
           "#636efa",
           "#EF553B",
           "#00cc96",
           "#ab63fa",
           "#FFA15A",
           "#19d3f3",
           "#FF6692",
           "#B6E880",
           "#FF97FF",
           "#FECB52"
          ],
          "font": {
           "color": "#2a3f5f"
          },
          "geo": {
           "bgcolor": "white",
           "lakecolor": "white",
           "landcolor": "#E5ECF6",
           "showlakes": true,
           "showland": true,
           "subunitcolor": "white"
          },
          "hoverlabel": {
           "align": "left"
          },
          "hovermode": "closest",
          "mapbox": {
           "style": "light"
          },
          "paper_bgcolor": "white",
          "plot_bgcolor": "#E5ECF6",
          "polar": {
           "angularaxis": {
            "gridcolor": "white",
            "linecolor": "white",
            "ticks": ""
           },
           "bgcolor": "#E5ECF6",
           "radialaxis": {
            "gridcolor": "white",
            "linecolor": "white",
            "ticks": ""
           }
          },
          "scene": {
           "xaxis": {
            "backgroundcolor": "#E5ECF6",
            "gridcolor": "white",
            "gridwidth": 2,
            "linecolor": "white",
            "showbackground": true,
            "ticks": "",
            "zerolinecolor": "white"
           },
           "yaxis": {
            "backgroundcolor": "#E5ECF6",
            "gridcolor": "white",
            "gridwidth": 2,
            "linecolor": "white",
            "showbackground": true,
            "ticks": "",
            "zerolinecolor": "white"
           },
           "zaxis": {
            "backgroundcolor": "#E5ECF6",
            "gridcolor": "white",
            "gridwidth": 2,
            "linecolor": "white",
            "showbackground": true,
            "ticks": "",
            "zerolinecolor": "white"
           }
          },
          "shapedefaults": {
           "line": {
            "color": "#2a3f5f"
           }
          },
          "ternary": {
           "aaxis": {
            "gridcolor": "white",
            "linecolor": "white",
            "ticks": ""
           },
           "baxis": {
            "gridcolor": "white",
            "linecolor": "white",
            "ticks": ""
           },
           "bgcolor": "#E5ECF6",
           "caxis": {
            "gridcolor": "white",
            "linecolor": "white",
            "ticks": ""
           }
          },
          "title": {
           "x": 0.05
          },
          "xaxis": {
           "automargin": true,
           "gridcolor": "white",
           "linecolor": "white",
           "ticks": "",
           "zerolinecolor": "white",
           "zerolinewidth": 2
          },
          "yaxis": {
           "automargin": true,
           "gridcolor": "white",
           "linecolor": "white",
           "ticks": "",
           "zerolinecolor": "white",
           "zerolinewidth": 2
          }
         }
        },
        "title": {
         "text": "Locations of 14ers in Colorado"
        },
        "yaxis": {
         "title": {
          "text": "Locations of 14ers in Colorado"
         }
        }
       }
      },
      "text/html": [
       "<div>\n",
       "        \n",
       "        \n",
       "            <div id=\"d1557700-b822-42f6-8a79-c704f0d549aa\" class=\"plotly-graph-div\" style=\"height:525px; width:100%;\"></div>\n",
       "            <script type=\"text/javascript\">\n",
       "                require([\"plotly\"], function(Plotly) {\n",
       "                    window.PLOTLYENV=window.PLOTLYENV || {};\n",
       "                    \n",
       "                if (document.getElementById(\"d1557700-b822-42f6-8a79-c704f0d549aa\")) {\n",
       "                    Plotly.newPlot(\n",
       "                        'd1557700-b822-42f6-8a79-c704f0d549aa',\n",
       "                        [{\"marker\": {\"color\": \"rgba(0, 0, 255, 0.8)\", \"line\": {\"color\": \"rgb(0,0,0)\", \"width\": 1.5}}, \"name\": \"Kaggle\", \"text\": [\"Sawatch Range\", \"San Juan Mountains\", \"Sangre de Cristo Range\", \"Elk Mountains\", \"Mosquito Range\", \"Front Range\"], \"type\": \"bar\", \"x\": [\"Sawatch Range\", \"San Juan Mountains\", \"Sangre de Cristo Range\", \"Elk Mountains\", \"Mosquito Range\", \"Front Range\"], \"y\": [15, 14, 10, 7, 6, 6]}],\n",
       "                        {\"barmode\": \"group\", \"showlegend\": false, \"template\": {\"data\": {\"bar\": [{\"error_x\": {\"color\": \"#2a3f5f\"}, \"error_y\": {\"color\": \"#2a3f5f\"}, \"marker\": {\"line\": {\"color\": \"#E5ECF6\", \"width\": 0.5}}, \"type\": \"bar\"}], \"barpolar\": [{\"marker\": {\"line\": {\"color\": \"#E5ECF6\", \"width\": 0.5}}, \"type\": \"barpolar\"}], \"carpet\": [{\"aaxis\": {\"endlinecolor\": \"#2a3f5f\", \"gridcolor\": \"white\", \"linecolor\": \"white\", \"minorgridcolor\": \"white\", \"startlinecolor\": \"#2a3f5f\"}, \"baxis\": {\"endlinecolor\": \"#2a3f5f\", \"gridcolor\": \"white\", \"linecolor\": \"white\", \"minorgridcolor\": \"white\", \"startlinecolor\": \"#2a3f5f\"}, \"type\": \"carpet\"}], \"choropleth\": [{\"colorbar\": {\"outlinewidth\": 0, \"ticks\": \"\"}, \"type\": \"choropleth\"}], \"contour\": [{\"colorbar\": {\"outlinewidth\": 0, \"ticks\": \"\"}, \"colorscale\": [[0.0, \"#0d0887\"], [0.1111111111111111, \"#46039f\"], [0.2222222222222222, \"#7201a8\"], [0.3333333333333333, \"#9c179e\"], [0.4444444444444444, \"#bd3786\"], [0.5555555555555556, \"#d8576b\"], [0.6666666666666666, \"#ed7953\"], [0.7777777777777778, \"#fb9f3a\"], [0.8888888888888888, \"#fdca26\"], [1.0, \"#f0f921\"]], \"type\": \"contour\"}], \"contourcarpet\": [{\"colorbar\": {\"outlinewidth\": 0, \"ticks\": \"\"}, \"type\": \"contourcarpet\"}], \"heatmap\": [{\"colorbar\": {\"outlinewidth\": 0, \"ticks\": \"\"}, \"colorscale\": [[0.0, \"#0d0887\"], [0.1111111111111111, \"#46039f\"], [0.2222222222222222, \"#7201a8\"], [0.3333333333333333, \"#9c179e\"], [0.4444444444444444, \"#bd3786\"], [0.5555555555555556, \"#d8576b\"], [0.6666666666666666, \"#ed7953\"], [0.7777777777777778, \"#fb9f3a\"], [0.8888888888888888, \"#fdca26\"], [1.0, \"#f0f921\"]], \"type\": \"heatmap\"}], \"heatmapgl\": [{\"colorbar\": {\"outlinewidth\": 0, \"ticks\": \"\"}, \"colorscale\": [[0.0, \"#0d0887\"], [0.1111111111111111, \"#46039f\"], [0.2222222222222222, \"#7201a8\"], [0.3333333333333333, \"#9c179e\"], [0.4444444444444444, \"#bd3786\"], [0.5555555555555556, \"#d8576b\"], [0.6666666666666666, \"#ed7953\"], [0.7777777777777778, \"#fb9f3a\"], [0.8888888888888888, \"#fdca26\"], [1.0, \"#f0f921\"]], \"type\": \"heatmapgl\"}], \"histogram\": [{\"marker\": {\"colorbar\": {\"outlinewidth\": 0, \"ticks\": \"\"}}, \"type\": \"histogram\"}], \"histogram2d\": [{\"colorbar\": {\"outlinewidth\": 0, \"ticks\": \"\"}, \"colorscale\": [[0.0, \"#0d0887\"], [0.1111111111111111, \"#46039f\"], [0.2222222222222222, \"#7201a8\"], [0.3333333333333333, \"#9c179e\"], [0.4444444444444444, \"#bd3786\"], [0.5555555555555556, \"#d8576b\"], [0.6666666666666666, \"#ed7953\"], [0.7777777777777778, \"#fb9f3a\"], [0.8888888888888888, \"#fdca26\"], [1.0, \"#f0f921\"]], \"type\": \"histogram2d\"}], \"histogram2dcontour\": [{\"colorbar\": {\"outlinewidth\": 0, \"ticks\": \"\"}, \"colorscale\": [[0.0, \"#0d0887\"], [0.1111111111111111, \"#46039f\"], [0.2222222222222222, \"#7201a8\"], [0.3333333333333333, \"#9c179e\"], [0.4444444444444444, \"#bd3786\"], [0.5555555555555556, \"#d8576b\"], [0.6666666666666666, \"#ed7953\"], [0.7777777777777778, \"#fb9f3a\"], [0.8888888888888888, \"#fdca26\"], [1.0, \"#f0f921\"]], \"type\": \"histogram2dcontour\"}], \"mesh3d\": [{\"colorbar\": {\"outlinewidth\": 0, \"ticks\": \"\"}, \"type\": \"mesh3d\"}], \"parcoords\": [{\"line\": {\"colorbar\": {\"outlinewidth\": 0, \"ticks\": \"\"}}, \"type\": \"parcoords\"}], \"scatter\": [{\"marker\": {\"colorbar\": {\"outlinewidth\": 0, \"ticks\": \"\"}}, \"type\": \"scatter\"}], \"scatter3d\": [{\"line\": {\"colorbar\": {\"outlinewidth\": 0, \"ticks\": \"\"}}, \"marker\": {\"colorbar\": {\"outlinewidth\": 0, \"ticks\": \"\"}}, \"type\": \"scatter3d\"}], \"scattercarpet\": [{\"marker\": {\"colorbar\": {\"outlinewidth\": 0, \"ticks\": \"\"}}, \"type\": \"scattercarpet\"}], \"scattergeo\": [{\"marker\": {\"colorbar\": {\"outlinewidth\": 0, \"ticks\": \"\"}}, \"type\": \"scattergeo\"}], \"scattergl\": [{\"marker\": {\"colorbar\": {\"outlinewidth\": 0, \"ticks\": \"\"}}, \"type\": \"scattergl\"}], \"scattermapbox\": [{\"marker\": {\"colorbar\": {\"outlinewidth\": 0, \"ticks\": \"\"}}, \"type\": \"scattermapbox\"}], \"scatterpolar\": [{\"marker\": {\"colorbar\": {\"outlinewidth\": 0, \"ticks\": \"\"}}, \"type\": \"scatterpolar\"}], \"scatterpolargl\": [{\"marker\": {\"colorbar\": {\"outlinewidth\": 0, \"ticks\": \"\"}}, \"type\": \"scatterpolargl\"}], \"scatterternary\": [{\"marker\": {\"colorbar\": {\"outlinewidth\": 0, \"ticks\": \"\"}}, \"type\": \"scatterternary\"}], \"surface\": [{\"colorbar\": {\"outlinewidth\": 0, \"ticks\": \"\"}, \"colorscale\": [[0.0, \"#0d0887\"], [0.1111111111111111, \"#46039f\"], [0.2222222222222222, \"#7201a8\"], [0.3333333333333333, \"#9c179e\"], [0.4444444444444444, \"#bd3786\"], [0.5555555555555556, \"#d8576b\"], [0.6666666666666666, \"#ed7953\"], [0.7777777777777778, \"#fb9f3a\"], [0.8888888888888888, \"#fdca26\"], [1.0, \"#f0f921\"]], \"type\": \"surface\"}], \"table\": [{\"cells\": {\"fill\": {\"color\": \"#EBF0F8\"}, \"line\": {\"color\": \"white\"}}, \"header\": {\"fill\": {\"color\": \"#C8D4E3\"}, \"line\": {\"color\": \"white\"}}, \"type\": \"table\"}]}, \"layout\": {\"annotationdefaults\": {\"arrowcolor\": \"#2a3f5f\", \"arrowhead\": 0, \"arrowwidth\": 1}, \"colorscale\": {\"diverging\": [[0, \"#8e0152\"], [0.1, \"#c51b7d\"], [0.2, \"#de77ae\"], [0.3, \"#f1b6da\"], [0.4, \"#fde0ef\"], [0.5, \"#f7f7f7\"], [0.6, \"#e6f5d0\"], [0.7, \"#b8e186\"], [0.8, \"#7fbc41\"], [0.9, \"#4d9221\"], [1, \"#276419\"]], \"sequential\": [[0.0, \"#0d0887\"], [0.1111111111111111, \"#46039f\"], [0.2222222222222222, \"#7201a8\"], [0.3333333333333333, \"#9c179e\"], [0.4444444444444444, \"#bd3786\"], [0.5555555555555556, \"#d8576b\"], [0.6666666666666666, \"#ed7953\"], [0.7777777777777778, \"#fb9f3a\"], [0.8888888888888888, \"#fdca26\"], [1.0, \"#f0f921\"]], \"sequentialminus\": [[0.0, \"#0d0887\"], [0.1111111111111111, \"#46039f\"], [0.2222222222222222, \"#7201a8\"], [0.3333333333333333, \"#9c179e\"], [0.4444444444444444, \"#bd3786\"], [0.5555555555555556, \"#d8576b\"], [0.6666666666666666, \"#ed7953\"], [0.7777777777777778, \"#fb9f3a\"], [0.8888888888888888, \"#fdca26\"], [1.0, \"#f0f921\"]]}, \"colorway\": [\"#636efa\", \"#EF553B\", \"#00cc96\", \"#ab63fa\", \"#FFA15A\", \"#19d3f3\", \"#FF6692\", \"#B6E880\", \"#FF97FF\", \"#FECB52\"], \"font\": {\"color\": \"#2a3f5f\"}, \"geo\": {\"bgcolor\": \"white\", \"lakecolor\": \"white\", \"landcolor\": \"#E5ECF6\", \"showlakes\": true, \"showland\": true, \"subunitcolor\": \"white\"}, \"hoverlabel\": {\"align\": \"left\"}, \"hovermode\": \"closest\", \"mapbox\": {\"style\": \"light\"}, \"paper_bgcolor\": \"white\", \"plot_bgcolor\": \"#E5ECF6\", \"polar\": {\"angularaxis\": {\"gridcolor\": \"white\", \"linecolor\": \"white\", \"ticks\": \"\"}, \"bgcolor\": \"#E5ECF6\", \"radialaxis\": {\"gridcolor\": \"white\", \"linecolor\": \"white\", \"ticks\": \"\"}}, \"scene\": {\"xaxis\": {\"backgroundcolor\": \"#E5ECF6\", \"gridcolor\": \"white\", \"gridwidth\": 2, \"linecolor\": \"white\", \"showbackground\": true, \"ticks\": \"\", \"zerolinecolor\": \"white\"}, \"yaxis\": {\"backgroundcolor\": \"#E5ECF6\", \"gridcolor\": \"white\", \"gridwidth\": 2, \"linecolor\": \"white\", \"showbackground\": true, \"ticks\": \"\", \"zerolinecolor\": \"white\"}, \"zaxis\": {\"backgroundcolor\": \"#E5ECF6\", \"gridcolor\": \"white\", \"gridwidth\": 2, \"linecolor\": \"white\", \"showbackground\": true, \"ticks\": \"\", \"zerolinecolor\": \"white\"}}, \"shapedefaults\": {\"line\": {\"color\": \"#2a3f5f\"}}, \"ternary\": {\"aaxis\": {\"gridcolor\": \"white\", \"linecolor\": \"white\", \"ticks\": \"\"}, \"baxis\": {\"gridcolor\": \"white\", \"linecolor\": \"white\", \"ticks\": \"\"}, \"bgcolor\": \"#E5ECF6\", \"caxis\": {\"gridcolor\": \"white\", \"linecolor\": \"white\", \"ticks\": \"\"}}, \"title\": {\"x\": 0.05}, \"xaxis\": {\"automargin\": true, \"gridcolor\": \"white\", \"linecolor\": \"white\", \"ticks\": \"\", \"zerolinecolor\": \"white\", \"zerolinewidth\": 2}, \"yaxis\": {\"automargin\": true, \"gridcolor\": \"white\", \"linecolor\": \"white\", \"ticks\": \"\", \"zerolinecolor\": \"white\", \"zerolinewidth\": 2}}}, \"title\": {\"text\": \"Locations of 14ers in Colorado\"}, \"yaxis\": {\"title\": {\"text\": \"Locations of 14ers in Colorado\"}}},\n",
       "                        {\"responsive\": true}\n",
       "                    ).then(function(){\n",
       "                            \n",
       "var gd = document.getElementById('d1557700-b822-42f6-8a79-c704f0d549aa');\n",
       "var x = new MutationObserver(function (mutations, observer) {{\n",
       "        var display = window.getComputedStyle(gd).display;\n",
       "        if (!display || display === 'none') {{\n",
       "            console.log([gd, 'removed!']);\n",
       "            Plotly.purge(gd);\n",
       "            observer.disconnect();\n",
       "        }}\n",
       "}});\n",
       "\n",
       "// Listen for the removal of the full notebook cells\n",
       "var notebookContainer = gd.closest('#notebook-container');\n",
       "if (notebookContainer) {{\n",
       "    x.observe(notebookContainer, {childList: true});\n",
       "}}\n",
       "\n",
       "// Listen for the clearing of the current output cell\n",
       "var outputEl = gd.closest('.output');\n",
       "if (outputEl) {{\n",
       "    x.observe(outputEl, {childList: true});\n",
       "}}\n",
       "\n",
       "                        })\n",
       "                };\n",
       "                });\n",
       "            </script>\n",
       "        </div>"
      ]
     },
     "metadata": {},
     "output_type": "display_data"
    }
   ],
   "source": [
    "data= fourteeners\n",
    "selectedColumn = 'Range'\n",
    "title='Locations of 14ers in Colorado'\n",
    "yAxisTitle = title\n",
    "plotMultipleChoice(selectedColumn,data,title,yAxisTitle)"
   ]
  },
  {
   "cell_type": "code",
   "execution_count": 5,
   "metadata": {
    "_kg_hide-input": true
   },
   "outputs": [
    {
     "data": {
      "application/vnd.plotly.v1+json": {
       "config": {
        "linkText": "Export to plot.ly",
        "plotlyServerURL": "https://plot.ly",
        "showLink": false
       },
       "data": [
        {
         "marker": {
          "color": "rgba(0, 0, 255, 0.8)",
          "line": {
           "color": "rgb(0,0,0)",
           "width": 1.5
          }
         },
         "name": "Kaggle",
         "text": [
          "Class 2",
          "Class 3",
          "Class 1",
          "Class 4",
          "Hard Class 2",
          "Easy Class 3",
          "Hard Class 3"
         ],
         "type": "bar",
         "x": [
          "Class 2",
          "Class 3",
          "Class 1",
          "Class 4",
          "Hard Class 2",
          "Easy Class 3",
          "Hard Class 3"
         ],
         "y": [
          27,
          9,
          6,
          6,
          6,
          3,
          1
         ]
        }
       ],
       "layout": {
        "barmode": "group",
        "showlegend": false,
        "template": {
         "data": {
          "bar": [
           {
            "error_x": {
             "color": "#2a3f5f"
            },
            "error_y": {
             "color": "#2a3f5f"
            },
            "marker": {
             "line": {
              "color": "#E5ECF6",
              "width": 0.5
             }
            },
            "type": "bar"
           }
          ],
          "barpolar": [
           {
            "marker": {
             "line": {
              "color": "#E5ECF6",
              "width": 0.5
             }
            },
            "type": "barpolar"
           }
          ],
          "carpet": [
           {
            "aaxis": {
             "endlinecolor": "#2a3f5f",
             "gridcolor": "white",
             "linecolor": "white",
             "minorgridcolor": "white",
             "startlinecolor": "#2a3f5f"
            },
            "baxis": {
             "endlinecolor": "#2a3f5f",
             "gridcolor": "white",
             "linecolor": "white",
             "minorgridcolor": "white",
             "startlinecolor": "#2a3f5f"
            },
            "type": "carpet"
           }
          ],
          "choropleth": [
           {
            "colorbar": {
             "outlinewidth": 0,
             "ticks": ""
            },
            "type": "choropleth"
           }
          ],
          "contour": [
           {
            "colorbar": {
             "outlinewidth": 0,
             "ticks": ""
            },
            "colorscale": [
             [
              0.0,
              "#0d0887"
             ],
             [
              0.1111111111111111,
              "#46039f"
             ],
             [
              0.2222222222222222,
              "#7201a8"
             ],
             [
              0.3333333333333333,
              "#9c179e"
             ],
             [
              0.4444444444444444,
              "#bd3786"
             ],
             [
              0.5555555555555556,
              "#d8576b"
             ],
             [
              0.6666666666666666,
              "#ed7953"
             ],
             [
              0.7777777777777778,
              "#fb9f3a"
             ],
             [
              0.8888888888888888,
              "#fdca26"
             ],
             [
              1.0,
              "#f0f921"
             ]
            ],
            "type": "contour"
           }
          ],
          "contourcarpet": [
           {
            "colorbar": {
             "outlinewidth": 0,
             "ticks": ""
            },
            "type": "contourcarpet"
           }
          ],
          "heatmap": [
           {
            "colorbar": {
             "outlinewidth": 0,
             "ticks": ""
            },
            "colorscale": [
             [
              0.0,
              "#0d0887"
             ],
             [
              0.1111111111111111,
              "#46039f"
             ],
             [
              0.2222222222222222,
              "#7201a8"
             ],
             [
              0.3333333333333333,
              "#9c179e"
             ],
             [
              0.4444444444444444,
              "#bd3786"
             ],
             [
              0.5555555555555556,
              "#d8576b"
             ],
             [
              0.6666666666666666,
              "#ed7953"
             ],
             [
              0.7777777777777778,
              "#fb9f3a"
             ],
             [
              0.8888888888888888,
              "#fdca26"
             ],
             [
              1.0,
              "#f0f921"
             ]
            ],
            "type": "heatmap"
           }
          ],
          "heatmapgl": [
           {
            "colorbar": {
             "outlinewidth": 0,
             "ticks": ""
            },
            "colorscale": [
             [
              0.0,
              "#0d0887"
             ],
             [
              0.1111111111111111,
              "#46039f"
             ],
             [
              0.2222222222222222,
              "#7201a8"
             ],
             [
              0.3333333333333333,
              "#9c179e"
             ],
             [
              0.4444444444444444,
              "#bd3786"
             ],
             [
              0.5555555555555556,
              "#d8576b"
             ],
             [
              0.6666666666666666,
              "#ed7953"
             ],
             [
              0.7777777777777778,
              "#fb9f3a"
             ],
             [
              0.8888888888888888,
              "#fdca26"
             ],
             [
              1.0,
              "#f0f921"
             ]
            ],
            "type": "heatmapgl"
           }
          ],
          "histogram": [
           {
            "marker": {
             "colorbar": {
              "outlinewidth": 0,
              "ticks": ""
             }
            },
            "type": "histogram"
           }
          ],
          "histogram2d": [
           {
            "colorbar": {
             "outlinewidth": 0,
             "ticks": ""
            },
            "colorscale": [
             [
              0.0,
              "#0d0887"
             ],
             [
              0.1111111111111111,
              "#46039f"
             ],
             [
              0.2222222222222222,
              "#7201a8"
             ],
             [
              0.3333333333333333,
              "#9c179e"
             ],
             [
              0.4444444444444444,
              "#bd3786"
             ],
             [
              0.5555555555555556,
              "#d8576b"
             ],
             [
              0.6666666666666666,
              "#ed7953"
             ],
             [
              0.7777777777777778,
              "#fb9f3a"
             ],
             [
              0.8888888888888888,
              "#fdca26"
             ],
             [
              1.0,
              "#f0f921"
             ]
            ],
            "type": "histogram2d"
           }
          ],
          "histogram2dcontour": [
           {
            "colorbar": {
             "outlinewidth": 0,
             "ticks": ""
            },
            "colorscale": [
             [
              0.0,
              "#0d0887"
             ],
             [
              0.1111111111111111,
              "#46039f"
             ],
             [
              0.2222222222222222,
              "#7201a8"
             ],
             [
              0.3333333333333333,
              "#9c179e"
             ],
             [
              0.4444444444444444,
              "#bd3786"
             ],
             [
              0.5555555555555556,
              "#d8576b"
             ],
             [
              0.6666666666666666,
              "#ed7953"
             ],
             [
              0.7777777777777778,
              "#fb9f3a"
             ],
             [
              0.8888888888888888,
              "#fdca26"
             ],
             [
              1.0,
              "#f0f921"
             ]
            ],
            "type": "histogram2dcontour"
           }
          ],
          "mesh3d": [
           {
            "colorbar": {
             "outlinewidth": 0,
             "ticks": ""
            },
            "type": "mesh3d"
           }
          ],
          "parcoords": [
           {
            "line": {
             "colorbar": {
              "outlinewidth": 0,
              "ticks": ""
             }
            },
            "type": "parcoords"
           }
          ],
          "scatter": [
           {
            "marker": {
             "colorbar": {
              "outlinewidth": 0,
              "ticks": ""
             }
            },
            "type": "scatter"
           }
          ],
          "scatter3d": [
           {
            "line": {
             "colorbar": {
              "outlinewidth": 0,
              "ticks": ""
             }
            },
            "marker": {
             "colorbar": {
              "outlinewidth": 0,
              "ticks": ""
             }
            },
            "type": "scatter3d"
           }
          ],
          "scattercarpet": [
           {
            "marker": {
             "colorbar": {
              "outlinewidth": 0,
              "ticks": ""
             }
            },
            "type": "scattercarpet"
           }
          ],
          "scattergeo": [
           {
            "marker": {
             "colorbar": {
              "outlinewidth": 0,
              "ticks": ""
             }
            },
            "type": "scattergeo"
           }
          ],
          "scattergl": [
           {
            "marker": {
             "colorbar": {
              "outlinewidth": 0,
              "ticks": ""
             }
            },
            "type": "scattergl"
           }
          ],
          "scattermapbox": [
           {
            "marker": {
             "colorbar": {
              "outlinewidth": 0,
              "ticks": ""
             }
            },
            "type": "scattermapbox"
           }
          ],
          "scatterpolar": [
           {
            "marker": {
             "colorbar": {
              "outlinewidth": 0,
              "ticks": ""
             }
            },
            "type": "scatterpolar"
           }
          ],
          "scatterpolargl": [
           {
            "marker": {
             "colorbar": {
              "outlinewidth": 0,
              "ticks": ""
             }
            },
            "type": "scatterpolargl"
           }
          ],
          "scatterternary": [
           {
            "marker": {
             "colorbar": {
              "outlinewidth": 0,
              "ticks": ""
             }
            },
            "type": "scatterternary"
           }
          ],
          "surface": [
           {
            "colorbar": {
             "outlinewidth": 0,
             "ticks": ""
            },
            "colorscale": [
             [
              0.0,
              "#0d0887"
             ],
             [
              0.1111111111111111,
              "#46039f"
             ],
             [
              0.2222222222222222,
              "#7201a8"
             ],
             [
              0.3333333333333333,
              "#9c179e"
             ],
             [
              0.4444444444444444,
              "#bd3786"
             ],
             [
              0.5555555555555556,
              "#d8576b"
             ],
             [
              0.6666666666666666,
              "#ed7953"
             ],
             [
              0.7777777777777778,
              "#fb9f3a"
             ],
             [
              0.8888888888888888,
              "#fdca26"
             ],
             [
              1.0,
              "#f0f921"
             ]
            ],
            "type": "surface"
           }
          ],
          "table": [
           {
            "cells": {
             "fill": {
              "color": "#EBF0F8"
             },
             "line": {
              "color": "white"
             }
            },
            "header": {
             "fill": {
              "color": "#C8D4E3"
             },
             "line": {
              "color": "white"
             }
            },
            "type": "table"
           }
          ]
         },
         "layout": {
          "annotationdefaults": {
           "arrowcolor": "#2a3f5f",
           "arrowhead": 0,
           "arrowwidth": 1
          },
          "colorscale": {
           "diverging": [
            [
             0,
             "#8e0152"
            ],
            [
             0.1,
             "#c51b7d"
            ],
            [
             0.2,
             "#de77ae"
            ],
            [
             0.3,
             "#f1b6da"
            ],
            [
             0.4,
             "#fde0ef"
            ],
            [
             0.5,
             "#f7f7f7"
            ],
            [
             0.6,
             "#e6f5d0"
            ],
            [
             0.7,
             "#b8e186"
            ],
            [
             0.8,
             "#7fbc41"
            ],
            [
             0.9,
             "#4d9221"
            ],
            [
             1,
             "#276419"
            ]
           ],
           "sequential": [
            [
             0.0,
             "#0d0887"
            ],
            [
             0.1111111111111111,
             "#46039f"
            ],
            [
             0.2222222222222222,
             "#7201a8"
            ],
            [
             0.3333333333333333,
             "#9c179e"
            ],
            [
             0.4444444444444444,
             "#bd3786"
            ],
            [
             0.5555555555555556,
             "#d8576b"
            ],
            [
             0.6666666666666666,
             "#ed7953"
            ],
            [
             0.7777777777777778,
             "#fb9f3a"
            ],
            [
             0.8888888888888888,
             "#fdca26"
            ],
            [
             1.0,
             "#f0f921"
            ]
           ],
           "sequentialminus": [
            [
             0.0,
             "#0d0887"
            ],
            [
             0.1111111111111111,
             "#46039f"
            ],
            [
             0.2222222222222222,
             "#7201a8"
            ],
            [
             0.3333333333333333,
             "#9c179e"
            ],
            [
             0.4444444444444444,
             "#bd3786"
            ],
            [
             0.5555555555555556,
             "#d8576b"
            ],
            [
             0.6666666666666666,
             "#ed7953"
            ],
            [
             0.7777777777777778,
             "#fb9f3a"
            ],
            [
             0.8888888888888888,
             "#fdca26"
            ],
            [
             1.0,
             "#f0f921"
            ]
           ]
          },
          "colorway": [
           "#636efa",
           "#EF553B",
           "#00cc96",
           "#ab63fa",
           "#FFA15A",
           "#19d3f3",
           "#FF6692",
           "#B6E880",
           "#FF97FF",
           "#FECB52"
          ],
          "font": {
           "color": "#2a3f5f"
          },
          "geo": {
           "bgcolor": "white",
           "lakecolor": "white",
           "landcolor": "#E5ECF6",
           "showlakes": true,
           "showland": true,
           "subunitcolor": "white"
          },
          "hoverlabel": {
           "align": "left"
          },
          "hovermode": "closest",
          "mapbox": {
           "style": "light"
          },
          "paper_bgcolor": "white",
          "plot_bgcolor": "#E5ECF6",
          "polar": {
           "angularaxis": {
            "gridcolor": "white",
            "linecolor": "white",
            "ticks": ""
           },
           "bgcolor": "#E5ECF6",
           "radialaxis": {
            "gridcolor": "white",
            "linecolor": "white",
            "ticks": ""
           }
          },
          "scene": {
           "xaxis": {
            "backgroundcolor": "#E5ECF6",
            "gridcolor": "white",
            "gridwidth": 2,
            "linecolor": "white",
            "showbackground": true,
            "ticks": "",
            "zerolinecolor": "white"
           },
           "yaxis": {
            "backgroundcolor": "#E5ECF6",
            "gridcolor": "white",
            "gridwidth": 2,
            "linecolor": "white",
            "showbackground": true,
            "ticks": "",
            "zerolinecolor": "white"
           },
           "zaxis": {
            "backgroundcolor": "#E5ECF6",
            "gridcolor": "white",
            "gridwidth": 2,
            "linecolor": "white",
            "showbackground": true,
            "ticks": "",
            "zerolinecolor": "white"
           }
          },
          "shapedefaults": {
           "line": {
            "color": "#2a3f5f"
           }
          },
          "ternary": {
           "aaxis": {
            "gridcolor": "white",
            "linecolor": "white",
            "ticks": ""
           },
           "baxis": {
            "gridcolor": "white",
            "linecolor": "white",
            "ticks": ""
           },
           "bgcolor": "#E5ECF6",
           "caxis": {
            "gridcolor": "white",
            "linecolor": "white",
            "ticks": ""
           }
          },
          "title": {
           "x": 0.05
          },
          "xaxis": {
           "automargin": true,
           "gridcolor": "white",
           "linecolor": "white",
           "ticks": "",
           "zerolinecolor": "white",
           "zerolinewidth": 2
          },
          "yaxis": {
           "automargin": true,
           "gridcolor": "white",
           "linecolor": "white",
           "ticks": "",
           "zerolinecolor": "white",
           "zerolinewidth": 2
          }
         }
        },
        "title": {
         "text": "Difficulty Class Ratings of 14ers in Colorado"
        },
        "yaxis": {
         "title": {
          "text": "Difficulty Class Ratings of 14ers in Colorado"
         }
        }
       }
      },
      "text/html": [
       "<div>\n",
       "        \n",
       "        \n",
       "            <div id=\"e1232159-a863-4edb-9db7-6b017e556b6f\" class=\"plotly-graph-div\" style=\"height:525px; width:100%;\"></div>\n",
       "            <script type=\"text/javascript\">\n",
       "                require([\"plotly\"], function(Plotly) {\n",
       "                    window.PLOTLYENV=window.PLOTLYENV || {};\n",
       "                    \n",
       "                if (document.getElementById(\"e1232159-a863-4edb-9db7-6b017e556b6f\")) {\n",
       "                    Plotly.newPlot(\n",
       "                        'e1232159-a863-4edb-9db7-6b017e556b6f',\n",
       "                        [{\"marker\": {\"color\": \"rgba(0, 0, 255, 0.8)\", \"line\": {\"color\": \"rgb(0,0,0)\", \"width\": 1.5}}, \"name\": \"Kaggle\", \"text\": [\"Class 2\", \"Class 3\", \"Class 1\", \"Class 4\", \"Hard Class 2\", \"Easy Class 3\", \"Hard Class 3\"], \"type\": \"bar\", \"x\": [\"Class 2\", \"Class 3\", \"Class 1\", \"Class 4\", \"Hard Class 2\", \"Easy Class 3\", \"Hard Class 3\"], \"y\": [27, 9, 6, 6, 6, 3, 1]}],\n",
       "                        {\"barmode\": \"group\", \"showlegend\": false, \"template\": {\"data\": {\"bar\": [{\"error_x\": {\"color\": \"#2a3f5f\"}, \"error_y\": {\"color\": \"#2a3f5f\"}, \"marker\": {\"line\": {\"color\": \"#E5ECF6\", \"width\": 0.5}}, \"type\": \"bar\"}], \"barpolar\": [{\"marker\": {\"line\": {\"color\": \"#E5ECF6\", \"width\": 0.5}}, \"type\": \"barpolar\"}], \"carpet\": [{\"aaxis\": {\"endlinecolor\": \"#2a3f5f\", \"gridcolor\": \"white\", \"linecolor\": \"white\", \"minorgridcolor\": \"white\", \"startlinecolor\": \"#2a3f5f\"}, \"baxis\": {\"endlinecolor\": \"#2a3f5f\", \"gridcolor\": \"white\", \"linecolor\": \"white\", \"minorgridcolor\": \"white\", \"startlinecolor\": \"#2a3f5f\"}, \"type\": \"carpet\"}], \"choropleth\": [{\"colorbar\": {\"outlinewidth\": 0, \"ticks\": \"\"}, \"type\": \"choropleth\"}], \"contour\": [{\"colorbar\": {\"outlinewidth\": 0, \"ticks\": \"\"}, \"colorscale\": [[0.0, \"#0d0887\"], [0.1111111111111111, \"#46039f\"], [0.2222222222222222, \"#7201a8\"], [0.3333333333333333, \"#9c179e\"], [0.4444444444444444, \"#bd3786\"], [0.5555555555555556, \"#d8576b\"], [0.6666666666666666, \"#ed7953\"], [0.7777777777777778, \"#fb9f3a\"], [0.8888888888888888, \"#fdca26\"], [1.0, \"#f0f921\"]], \"type\": \"contour\"}], \"contourcarpet\": [{\"colorbar\": {\"outlinewidth\": 0, \"ticks\": \"\"}, \"type\": \"contourcarpet\"}], \"heatmap\": [{\"colorbar\": {\"outlinewidth\": 0, \"ticks\": \"\"}, \"colorscale\": [[0.0, \"#0d0887\"], [0.1111111111111111, \"#46039f\"], [0.2222222222222222, \"#7201a8\"], [0.3333333333333333, \"#9c179e\"], [0.4444444444444444, \"#bd3786\"], [0.5555555555555556, \"#d8576b\"], [0.6666666666666666, \"#ed7953\"], [0.7777777777777778, \"#fb9f3a\"], [0.8888888888888888, \"#fdca26\"], [1.0, \"#f0f921\"]], \"type\": \"heatmap\"}], \"heatmapgl\": [{\"colorbar\": {\"outlinewidth\": 0, \"ticks\": \"\"}, \"colorscale\": [[0.0, \"#0d0887\"], [0.1111111111111111, \"#46039f\"], [0.2222222222222222, \"#7201a8\"], [0.3333333333333333, \"#9c179e\"], [0.4444444444444444, \"#bd3786\"], [0.5555555555555556, \"#d8576b\"], [0.6666666666666666, \"#ed7953\"], [0.7777777777777778, \"#fb9f3a\"], [0.8888888888888888, \"#fdca26\"], [1.0, \"#f0f921\"]], \"type\": \"heatmapgl\"}], \"histogram\": [{\"marker\": {\"colorbar\": {\"outlinewidth\": 0, \"ticks\": \"\"}}, \"type\": \"histogram\"}], \"histogram2d\": [{\"colorbar\": {\"outlinewidth\": 0, \"ticks\": \"\"}, \"colorscale\": [[0.0, \"#0d0887\"], [0.1111111111111111, \"#46039f\"], [0.2222222222222222, \"#7201a8\"], [0.3333333333333333, \"#9c179e\"], [0.4444444444444444, \"#bd3786\"], [0.5555555555555556, \"#d8576b\"], [0.6666666666666666, \"#ed7953\"], [0.7777777777777778, \"#fb9f3a\"], [0.8888888888888888, \"#fdca26\"], [1.0, \"#f0f921\"]], \"type\": \"histogram2d\"}], \"histogram2dcontour\": [{\"colorbar\": {\"outlinewidth\": 0, \"ticks\": \"\"}, \"colorscale\": [[0.0, \"#0d0887\"], [0.1111111111111111, \"#46039f\"], [0.2222222222222222, \"#7201a8\"], [0.3333333333333333, \"#9c179e\"], [0.4444444444444444, \"#bd3786\"], [0.5555555555555556, \"#d8576b\"], [0.6666666666666666, \"#ed7953\"], [0.7777777777777778, \"#fb9f3a\"], [0.8888888888888888, \"#fdca26\"], [1.0, \"#f0f921\"]], \"type\": \"histogram2dcontour\"}], \"mesh3d\": [{\"colorbar\": {\"outlinewidth\": 0, \"ticks\": \"\"}, \"type\": \"mesh3d\"}], \"parcoords\": [{\"line\": {\"colorbar\": {\"outlinewidth\": 0, \"ticks\": \"\"}}, \"type\": \"parcoords\"}], \"scatter\": [{\"marker\": {\"colorbar\": {\"outlinewidth\": 0, \"ticks\": \"\"}}, \"type\": \"scatter\"}], \"scatter3d\": [{\"line\": {\"colorbar\": {\"outlinewidth\": 0, \"ticks\": \"\"}}, \"marker\": {\"colorbar\": {\"outlinewidth\": 0, \"ticks\": \"\"}}, \"type\": \"scatter3d\"}], \"scattercarpet\": [{\"marker\": {\"colorbar\": {\"outlinewidth\": 0, \"ticks\": \"\"}}, \"type\": \"scattercarpet\"}], \"scattergeo\": [{\"marker\": {\"colorbar\": {\"outlinewidth\": 0, \"ticks\": \"\"}}, \"type\": \"scattergeo\"}], \"scattergl\": [{\"marker\": {\"colorbar\": {\"outlinewidth\": 0, \"ticks\": \"\"}}, \"type\": \"scattergl\"}], \"scattermapbox\": [{\"marker\": {\"colorbar\": {\"outlinewidth\": 0, \"ticks\": \"\"}}, \"type\": \"scattermapbox\"}], \"scatterpolar\": [{\"marker\": {\"colorbar\": {\"outlinewidth\": 0, \"ticks\": \"\"}}, \"type\": \"scatterpolar\"}], \"scatterpolargl\": [{\"marker\": {\"colorbar\": {\"outlinewidth\": 0, \"ticks\": \"\"}}, \"type\": \"scatterpolargl\"}], \"scatterternary\": [{\"marker\": {\"colorbar\": {\"outlinewidth\": 0, \"ticks\": \"\"}}, \"type\": \"scatterternary\"}], \"surface\": [{\"colorbar\": {\"outlinewidth\": 0, \"ticks\": \"\"}, \"colorscale\": [[0.0, \"#0d0887\"], [0.1111111111111111, \"#46039f\"], [0.2222222222222222, \"#7201a8\"], [0.3333333333333333, \"#9c179e\"], [0.4444444444444444, \"#bd3786\"], [0.5555555555555556, \"#d8576b\"], [0.6666666666666666, \"#ed7953\"], [0.7777777777777778, \"#fb9f3a\"], [0.8888888888888888, \"#fdca26\"], [1.0, \"#f0f921\"]], \"type\": \"surface\"}], \"table\": [{\"cells\": {\"fill\": {\"color\": \"#EBF0F8\"}, \"line\": {\"color\": \"white\"}}, \"header\": {\"fill\": {\"color\": \"#C8D4E3\"}, \"line\": {\"color\": \"white\"}}, \"type\": \"table\"}]}, \"layout\": {\"annotationdefaults\": {\"arrowcolor\": \"#2a3f5f\", \"arrowhead\": 0, \"arrowwidth\": 1}, \"colorscale\": {\"diverging\": [[0, \"#8e0152\"], [0.1, \"#c51b7d\"], [0.2, \"#de77ae\"], [0.3, \"#f1b6da\"], [0.4, \"#fde0ef\"], [0.5, \"#f7f7f7\"], [0.6, \"#e6f5d0\"], [0.7, \"#b8e186\"], [0.8, \"#7fbc41\"], [0.9, \"#4d9221\"], [1, \"#276419\"]], \"sequential\": [[0.0, \"#0d0887\"], [0.1111111111111111, \"#46039f\"], [0.2222222222222222, \"#7201a8\"], [0.3333333333333333, \"#9c179e\"], [0.4444444444444444, \"#bd3786\"], [0.5555555555555556, \"#d8576b\"], [0.6666666666666666, \"#ed7953\"], [0.7777777777777778, \"#fb9f3a\"], [0.8888888888888888, \"#fdca26\"], [1.0, \"#f0f921\"]], \"sequentialminus\": [[0.0, \"#0d0887\"], [0.1111111111111111, \"#46039f\"], [0.2222222222222222, \"#7201a8\"], [0.3333333333333333, \"#9c179e\"], [0.4444444444444444, \"#bd3786\"], [0.5555555555555556, \"#d8576b\"], [0.6666666666666666, \"#ed7953\"], [0.7777777777777778, \"#fb9f3a\"], [0.8888888888888888, \"#fdca26\"], [1.0, \"#f0f921\"]]}, \"colorway\": [\"#636efa\", \"#EF553B\", \"#00cc96\", \"#ab63fa\", \"#FFA15A\", \"#19d3f3\", \"#FF6692\", \"#B6E880\", \"#FF97FF\", \"#FECB52\"], \"font\": {\"color\": \"#2a3f5f\"}, \"geo\": {\"bgcolor\": \"white\", \"lakecolor\": \"white\", \"landcolor\": \"#E5ECF6\", \"showlakes\": true, \"showland\": true, \"subunitcolor\": \"white\"}, \"hoverlabel\": {\"align\": \"left\"}, \"hovermode\": \"closest\", \"mapbox\": {\"style\": \"light\"}, \"paper_bgcolor\": \"white\", \"plot_bgcolor\": \"#E5ECF6\", \"polar\": {\"angularaxis\": {\"gridcolor\": \"white\", \"linecolor\": \"white\", \"ticks\": \"\"}, \"bgcolor\": \"#E5ECF6\", \"radialaxis\": {\"gridcolor\": \"white\", \"linecolor\": \"white\", \"ticks\": \"\"}}, \"scene\": {\"xaxis\": {\"backgroundcolor\": \"#E5ECF6\", \"gridcolor\": \"white\", \"gridwidth\": 2, \"linecolor\": \"white\", \"showbackground\": true, \"ticks\": \"\", \"zerolinecolor\": \"white\"}, \"yaxis\": {\"backgroundcolor\": \"#E5ECF6\", \"gridcolor\": \"white\", \"gridwidth\": 2, \"linecolor\": \"white\", \"showbackground\": true, \"ticks\": \"\", \"zerolinecolor\": \"white\"}, \"zaxis\": {\"backgroundcolor\": \"#E5ECF6\", \"gridcolor\": \"white\", \"gridwidth\": 2, \"linecolor\": \"white\", \"showbackground\": true, \"ticks\": \"\", \"zerolinecolor\": \"white\"}}, \"shapedefaults\": {\"line\": {\"color\": \"#2a3f5f\"}}, \"ternary\": {\"aaxis\": {\"gridcolor\": \"white\", \"linecolor\": \"white\", \"ticks\": \"\"}, \"baxis\": {\"gridcolor\": \"white\", \"linecolor\": \"white\", \"ticks\": \"\"}, \"bgcolor\": \"#E5ECF6\", \"caxis\": {\"gridcolor\": \"white\", \"linecolor\": \"white\", \"ticks\": \"\"}}, \"title\": {\"x\": 0.05}, \"xaxis\": {\"automargin\": true, \"gridcolor\": \"white\", \"linecolor\": \"white\", \"ticks\": \"\", \"zerolinecolor\": \"white\", \"zerolinewidth\": 2}, \"yaxis\": {\"automargin\": true, \"gridcolor\": \"white\", \"linecolor\": \"white\", \"ticks\": \"\", \"zerolinecolor\": \"white\", \"zerolinewidth\": 2}}}, \"title\": {\"text\": \"Difficulty Class Ratings of 14ers in Colorado\"}, \"yaxis\": {\"title\": {\"text\": \"Difficulty Class Ratings of 14ers in Colorado\"}}},\n",
       "                        {\"responsive\": true}\n",
       "                    ).then(function(){\n",
       "                            \n",
       "var gd = document.getElementById('e1232159-a863-4edb-9db7-6b017e556b6f');\n",
       "var x = new MutationObserver(function (mutations, observer) {{\n",
       "        var display = window.getComputedStyle(gd).display;\n",
       "        if (!display || display === 'none') {{\n",
       "            console.log([gd, 'removed!']);\n",
       "            Plotly.purge(gd);\n",
       "            observer.disconnect();\n",
       "        }}\n",
       "}});\n",
       "\n",
       "// Listen for the removal of the full notebook cells\n",
       "var notebookContainer = gd.closest('#notebook-container');\n",
       "if (notebookContainer) {{\n",
       "    x.observe(notebookContainer, {childList: true});\n",
       "}}\n",
       "\n",
       "// Listen for the clearing of the current output cell\n",
       "var outputEl = gd.closest('.output');\n",
       "if (outputEl) {{\n",
       "    x.observe(outputEl, {childList: true});\n",
       "}}\n",
       "\n",
       "                        })\n",
       "                };\n",
       "                });\n",
       "            </script>\n",
       "        </div>"
      ]
     },
     "metadata": {},
     "output_type": "display_data"
    }
   ],
   "source": [
    "data= fourteeners\n",
    "selectedColumn = 'Difficulty'\n",
    "title='Difficulty Class Ratings of 14ers in Colorado'\n",
    "yAxisTitle = title\n",
    "plotMultipleChoice(selectedColumn,data,title,yAxisTitle)"
   ]
  },
  {
   "cell_type": "code",
   "execution_count": null,
   "metadata": {},
   "outputs": [],
   "source": []
  }
 ],
 "metadata": {
  "kernelspec": {
   "display_name": "Python 3",
   "language": "python",
   "name": "python3"
  },
  "language_info": {
   "codemirror_mode": {
    "name": "ipython",
    "version": 3
   },
   "file_extension": ".py",
   "mimetype": "text/x-python",
   "name": "python",
   "nbconvert_exporter": "python",
   "pygments_lexer": "ipython3",
   "version": "3.6.6"
  }
 },
 "nbformat": 4,
 "nbformat_minor": 1
}
