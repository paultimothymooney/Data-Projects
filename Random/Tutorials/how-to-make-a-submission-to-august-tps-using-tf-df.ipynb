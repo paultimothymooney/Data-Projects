{
 "cells": [
  {
   "cell_type": "markdown",
   "id": "ced33cff",
   "metadata": {
    "papermill": {
     "duration": 0.012326,
     "end_time": "2022-08-30T19:27:56.274833",
     "exception": false,
     "start_time": "2022-08-30T19:27:56.262507",
     "status": "completed"
    },
    "tags": []
   },
   "source": [
    "# How to make a submission to the Tabular Playground Series (Aug 2022) Using TensorFlow Decision Forests"
   ]
  },
  {
   "cell_type": "markdown",
   "id": "0b140d1e",
   "metadata": {
    "papermill": {
     "duration": 0.012579,
     "end_time": "2022-08-30T19:27:56.298418",
     "exception": false,
     "start_time": "2022-08-30T19:27:56.285839",
     "status": "completed"
    },
    "tags": []
   },
   "source": [
    "**How to use this notebook**:\n",
    " - Click on the \"copy & edit\" button in the top right corner. Run the code cells from top to bottom and save a new version.\n",
    " - Read through and understand both the markdown cells as well as the code cells and their outputs.\n",
    " - Make a submission to the [Tabular Playground Series](https://www.kaggle.com/competitions/tabular-playground-series-aug-2022) competition. Experiment and try to increase your score (model selection, hyperparameter choices, feature engineering, feature selection, etc)\n"
   ]
  },
  {
   "cell_type": "markdown",
   "id": "d396558c",
   "metadata": {
    "papermill": {
     "duration": 0.010934,
     "end_time": "2022-08-30T19:27:56.320185",
     "exception": false,
     "start_time": "2022-08-30T19:27:56.309251",
     "status": "completed"
    },
    "tags": []
   },
   "source": [
    "# Introduction"
   ]
  },
  {
   "cell_type": "markdown",
   "id": "d6497007",
   "metadata": {
    "_kg_hide-input": false,
    "_kg_hide-output": true,
    "papermill": {
     "duration": 0.010547,
     "end_time": "2022-08-30T19:27:56.341461",
     "exception": false,
     "start_time": "2022-08-30T19:27:56.330914",
     "status": "completed"
    },
    "tags": []
   },
   "source": [
    "The goal of this notebook is to help Kagglers to: (1) better understand decision forest algorithms; (2) become familiar with the [TensorFlow Decision Forests (TF-DF)](https://www.tensorflow.org/decision_forests) Python API for executing decision forest algorithms; and (3) use decision forest algorithms to make submissions to the [August 2022 Tabular Playground Series](https://www.kaggle.com/competitions/tabular-playground-series-aug-2022/data) Kaggle competition.\n",
    "\n",
    "We'll be using [TensorFlow Decision Forests](https://www.tensorflow.org/decision_forests) (TF-DF) to train our model.  TensorFlow Decision Forests is a TensorFlow wrapper for the [Yggdrasil Decision Forests C++ libraries](https://github.com/google/yggdrasil-decision-forests).  TF-DF makes it very easy to train, serve and interpret various Decision Forest models such as [RandomForests](https://www.tensorflow.org/decision_forests/api_docs/python/tfdf/keras/RandomForestModel) and [GrandientBoostedTrees](https://www.tensorflow.org/decision_forests/api_docs/python/tfdf/keras/GradientBoostedTreesModel).  These types of decision forest models require minimal pre-processing of the data and are great when working with tabular datasets and/or small datasets (especially if you just want a quick baseline result to compare against).\n",
    "\n",
    "[Decision Forests ](https://www.tensorflow.org/decision_forests)are a category of supervised machine learning methods that can be used for classification, regression and ranking. When thinking about decision forests, it can be helpful to first think about decision trees. Multiple decision trees can be \"[ensembled](https://scikit-learn.org/stable/modules/ensemble.html#)\" or analyzed together in order to form a \"decision forest\" which then should have improved predictive capabilities as compared to each individual tree.  The most popular decision forest methods are the [RandomForest](https://www.stat.berkeley.edu/~breiman/randomforest2001.pdf) and [GradientBoostedTrees](https://jerryfriedman.su.domains/ftp/trebst.pdf) algorithms.  These algorithms are conceptually very similar to each other but anecdotally I often find that gradient boosted models have superior performance.\n",
    "* You can learn more about decision tree models and ensemble methods (such as RandomForest and GradientBoostedTrees) on scikit-learn's [decision tree](https://scikit-learn.org/stable/modules/tree.html#tree) and [ensemble](https://scikit-learn.org/stable/modules/ensemble.html#) pages. Some very nice implementationss of random forest algorithms can be found in popular Python packages such as [TF-DF](https://www.tensorflow.org/decision_forests/api_docs/python/tfdf/keras/RandomForestModel),  [scikit-learn](https://scikit-learn.org/stable/modules/ensemble.html#forests-of-randomized-trees), and [xgboost](https://xgboost.readthedocs.io/en/latest/tutorials/rf.html?highlight=random%20forest#random-forests-tm-in-xgboost).  Likewise, you can find great gradient boosted trees algorithms in [TF-DF](https://www.tensorflow.org/decision_forests/api_docs/python/tfdf/keras/GradientBoostedTreesModel),  [scikit-learn](https://scikit-learn.org/stable/modules/ensemble.html#gradient-boosting), and [xgboost](https://xgboost.readthedocs.io/en/latest/tutorials/model.html#introduction-to-boosted-trees).  For an explanation on the differences between random forest models and gradient boosted models, see [here](https://xgboost.readthedocs.io/en/latest/R-package/discoverYourData.html?highlight=random%20forest#special-note-what-about-random-forests) and [here](https://xgboost.readthedocs.io/en/latest/tutorials/rf.html?highlight=random%20forest#random-forests-tm-in-xgboosthttps://xgboost.readthedocs.io/en/latest/tutorials/rf.html?highlight=random%20forest#random-forests-tm-in-xgboost).  \n",
    "* For hands-on experience with these same concepts consider completing Kaggle Learn's [Intro to machine learning](https://www.kaggle.com/learn/intro-to-machine-learning) and [Intermediate machine learning](https://www.kaggle.com/learn/intermediate-machine-learning%5C) courses.\n"
   ]
  },
  {
   "cell_type": "markdown",
   "id": "03fc2029",
   "metadata": {
    "papermill": {
     "duration": 0.010581,
     "end_time": "2022-08-30T19:27:56.362965",
     "exception": false,
     "start_time": "2022-08-30T19:27:56.352384",
     "status": "completed"
    },
    "tags": []
   },
   "source": [
    "\n",
    "\n",
    "We'll be working with the [Tabular Playground Series August 2022](https://www.kaggle.com/competitions/tabular-playground-series-aug-2022/data) Kaggle Dataset.  It is a tabular dataset with ~26,000 rows and 26 columns (3.95MB .CSV training dataset + 3.06MB .CSV test set) that is suitable for training algorithms to solve binary classification problems (in this case to determine if a \"Super Soaker\" machine is in a \"failure\" state of \"0\" or \"1\" based off of input sensor data (consisting of 18 measurement fields, 4 attribute fields, and 2 additional fields)).  \n",
    "\n",
    "Submissions will be [evaluated](https://admin.kaggle.com/competitions/tabular-playground-series-aug-2022/overview/evaluation) according to the [area under the ROC curve](https://en.wikipedia.org/wiki/Receiver_operating_characteristic) between the predicted probability and the observed target. This is a useful metric that takes into consideration the rate of both false positive predictions and true positive predictions. These types of metrics are important to use when you are working with highly imbalanced datasets and tasks such as trying to detect rare failure cases.  For example, if only 1% of cases are failures, then a naive algorithm could get a 99% accuracy score by never predicting a failure for even a single case. To avoid these types of issues we are using the [area under the ROC curve](https://en.wikipedia.org/wiki/Receiver_operating_characteristic) evaluation metric in order to better assess the performance of our model. \n",
    "* You can learn more about false positive rates, ROC curves, and similar concepts such as precision and recall here: [false positive rates](https://en.wikipedia.org/wiki/False_positives_and_false_negatives), [ROC curves](https://en.wikipedia.org/wiki/Receiver_operating_characteristic), [precision and recall](https://en.wikipedia.org/wiki/Precision_and_recall).\n",
    "* For hands-on experience with these same concepts we recommend completing Kaggle Learn's [Intro to machine learning](https://www.kaggle.com/learn/intro-to-machine-learning) and [Intermediate machine learning](https://www.kaggle.com/learn/intermediate-machine-learning%5C) courses.\n",
    "\n",
    "By studying this tutorial you will learn how to use [TF-DF](https://www.tensorflow.org/decision_forests) to quickly train a [GradientBoostedTrees](https://www.tensorflow.org/decision_forests/api_docs/python/tfdf/keras/GradientBoostedTreesModel) model to perform a binary classification task using tabular data, in order to make a submission to the [August 2022 Tabular Playground Series competition](https://www.kaggle.com/competitions/tabular-playground-series-aug-2022/) on Kaggle."
   ]
  },
  {
   "cell_type": "markdown",
   "id": "1cf45347",
   "metadata": {
    "papermill": {
     "duration": 0.010676,
     "end_time": "2022-08-30T19:27:56.384516",
     "exception": false,
     "start_time": "2022-08-30T19:27:56.373840",
     "status": "completed"
    },
    "tags": []
   },
   "source": [
    "Step 1: Import Python packages"
   ]
  },
  {
   "cell_type": "code",
   "execution_count": 1,
   "id": "c5ebbad3",
   "metadata": {
    "_kg_hide-input": true,
    "_kg_hide-output": true,
    "execution": {
     "iopub.execute_input": "2022-08-30T19:27:56.408365Z",
     "iopub.status.busy": "2022-08-30T19:27:56.407811Z",
     "iopub.status.idle": "2022-08-30T19:29:15.746521Z",
     "shell.execute_reply": "2022-08-30T19:29:15.745347Z"
    },
    "papermill": {
     "duration": 79.353799,
     "end_time": "2022-08-30T19:29:15.749268",
     "exception": false,
     "start_time": "2022-08-30T19:27:56.395469",
     "status": "completed"
    },
    "tags": []
   },
   "outputs": [
    {
     "name": "stdout",
     "output_type": "stream",
     "text": [
      "Collecting tensorflow_decision_forests\r\n",
      "  Downloading tensorflow_decision_forests-0.2.7-cp37-cp37m-manylinux_2_17_x86_64.manylinux2014_x86_64.whl (16.0 MB)\r\n",
      "\u001b[2K     \u001b[90m━━━━━━━━━━━━━━━━━━━━━━━━━━━━━━━━━━━━━━━━\u001b[0m \u001b[32m16.0/16.0 MB\u001b[0m \u001b[31m31.7 MB/s\u001b[0m eta \u001b[36m0:00:00\u001b[0m\r\n",
      "\u001b[?25hRequirement already satisfied: absl-py in /opt/conda/lib/python3.7/site-packages (from tensorflow_decision_forests) (1.1.0)\r\n",
      "Requirement already satisfied: wheel in /opt/conda/lib/python3.7/site-packages (from tensorflow_decision_forests) (0.37.1)\r\n",
      "Requirement already satisfied: six in /opt/conda/lib/python3.7/site-packages (from tensorflow_decision_forests) (1.16.0)\r\n",
      "Requirement already satisfied: numpy in /opt/conda/lib/python3.7/site-packages (from tensorflow_decision_forests) (1.21.6)\r\n",
      "Requirement already satisfied: pandas in /opt/conda/lib/python3.7/site-packages (from tensorflow_decision_forests) (1.3.5)\r\n",
      "Collecting wurlitzer\r\n",
      "  Downloading wurlitzer-3.0.2-py3-none-any.whl (7.3 kB)\r\n",
      "Collecting tensorflow~=2.9.1\r\n",
      "  Downloading tensorflow-2.9.1-cp37-cp37m-manylinux_2_17_x86_64.manylinux2014_x86_64.whl (511.7 MB)\r\n",
      "\u001b[2K     \u001b[90m━━━━━━━━━━━━━━━━━━━━━━━━━━━━━━━━━━━━━━━\u001b[0m \u001b[32m511.7/511.7 MB\u001b[0m \u001b[31m1.8 MB/s\u001b[0m eta \u001b[36m0:00:00\u001b[0m\r\n",
      "\u001b[?25hRequirement already satisfied: typing-extensions>=3.6.6 in /opt/conda/lib/python3.7/site-packages (from tensorflow~=2.9.1->tensorflow_decision_forests) (4.1.1)\r\n",
      "Requirement already satisfied: flatbuffers<2,>=1.12 in /opt/conda/lib/python3.7/site-packages (from tensorflow~=2.9.1->tensorflow_decision_forests) (1.12)\r\n",
      "Requirement already satisfied: protobuf<3.20,>=3.9.2 in /opt/conda/lib/python3.7/site-packages (from tensorflow~=2.9.1->tensorflow_decision_forests) (3.19.4)\r\n",
      "Requirement already satisfied: opt-einsum>=2.3.2 in /opt/conda/lib/python3.7/site-packages (from tensorflow~=2.9.1->tensorflow_decision_forests) (3.3.0)\r\n",
      "Requirement already satisfied: gast<=0.4.0,>=0.2.1 in /opt/conda/lib/python3.7/site-packages (from tensorflow~=2.9.1->tensorflow_decision_forests) (0.4.0)\r\n",
      "Requirement already satisfied: astunparse>=1.6.0 in /opt/conda/lib/python3.7/site-packages (from tensorflow~=2.9.1->tensorflow_decision_forests) (1.6.3)\r\n",
      "Requirement already satisfied: keras-preprocessing>=1.1.1 in /opt/conda/lib/python3.7/site-packages (from tensorflow~=2.9.1->tensorflow_decision_forests) (1.1.2)\r\n",
      "Collecting libclang>=13.0.0\r\n",
      "  Downloading libclang-14.0.6-py2.py3-none-manylinux2010_x86_64.whl (14.1 MB)\r\n",
      "\u001b[2K     \u001b[90m━━━━━━━━━━━━━━━━━━━━━━━━━━━━━━━━━━━━━━━━\u001b[0m \u001b[32m14.1/14.1 MB\u001b[0m \u001b[31m8.3 MB/s\u001b[0m eta \u001b[36m0:00:00\u001b[0m\r\n",
      "\u001b[?25hCollecting tensorflow-io-gcs-filesystem>=0.23.1\r\n",
      "  Downloading tensorflow_io_gcs_filesystem-0.26.0-cp37-cp37m-manylinux_2_12_x86_64.manylinux2010_x86_64.whl (2.4 MB)\r\n",
      "\u001b[2K     \u001b[90m━━━━━━━━━━━━━━━━━━━━━━━━━━━━━━━━━━━━━━━━\u001b[0m \u001b[32m2.4/2.4 MB\u001b[0m \u001b[31m65.1 MB/s\u001b[0m eta \u001b[36m0:00:00\u001b[0m\r\n",
      "\u001b[?25hCollecting tensorboard<2.10,>=2.9\r\n",
      "  Downloading tensorboard-2.9.1-py3-none-any.whl (5.8 MB)\r\n",
      "\u001b[2K     \u001b[90m━━━━━━━━━━━━━━━━━━━━━━━━━━━━━━━━━━━━━━━━\u001b[0m \u001b[32m5.8/5.8 MB\u001b[0m \u001b[31m36.8 MB/s\u001b[0m eta \u001b[36m0:00:00\u001b[0m\r\n",
      "\u001b[?25hRequirement already satisfied: termcolor>=1.1.0 in /opt/conda/lib/python3.7/site-packages (from tensorflow~=2.9.1->tensorflow_decision_forests) (1.1.0)\r\n",
      "Collecting keras<2.10.0,>=2.9.0rc0\r\n",
      "  Downloading keras-2.9.0-py2.py3-none-any.whl (1.6 MB)\r\n",
      "\u001b[2K     \u001b[90m━━━━━━━━━━━━━━━━━━━━━━━━━━━━━━━━━━━━━━━━\u001b[0m \u001b[32m1.6/1.6 MB\u001b[0m \u001b[31m60.4 MB/s\u001b[0m eta \u001b[36m0:00:00\u001b[0m\r\n",
      "\u001b[?25hRequirement already satisfied: grpcio<2.0,>=1.24.3 in /opt/conda/lib/python3.7/site-packages (from tensorflow~=2.9.1->tensorflow_decision_forests) (1.43.0)\r\n",
      "Collecting tensorflow-estimator<2.10.0,>=2.9.0rc0\r\n",
      "  Downloading tensorflow_estimator-2.9.0-py2.py3-none-any.whl (438 kB)\r\n",
      "\u001b[2K     \u001b[90m━━━━━━━━━━━━━━━━━━━━━━━━━━━━━━━━━━━━━━\u001b[0m \u001b[32m438.7/438.7 kB\u001b[0m \u001b[31m32.9 MB/s\u001b[0m eta \u001b[36m0:00:00\u001b[0m\r\n",
      "\u001b[?25hRequirement already satisfied: google-pasta>=0.1.1 in /opt/conda/lib/python3.7/site-packages (from tensorflow~=2.9.1->tensorflow_decision_forests) (0.2.0)\r\n",
      "Requirement already satisfied: wrapt>=1.11.0 in /opt/conda/lib/python3.7/site-packages (from tensorflow~=2.9.1->tensorflow_decision_forests) (1.14.1)\r\n",
      "Requirement already satisfied: h5py>=2.9.0 in /opt/conda/lib/python3.7/site-packages (from tensorflow~=2.9.1->tensorflow_decision_forests) (3.7.0)\r\n",
      "Requirement already satisfied: packaging in /opt/conda/lib/python3.7/site-packages (from tensorflow~=2.9.1->tensorflow_decision_forests) (21.3)\r\n",
      "Requirement already satisfied: setuptools in /opt/conda/lib/python3.7/site-packages (from tensorflow~=2.9.1->tensorflow_decision_forests) (59.8.0)\r\n",
      "Requirement already satisfied: python-dateutil>=2.7.3 in /opt/conda/lib/python3.7/site-packages (from pandas->tensorflow_decision_forests) (2.8.2)\r\n",
      "Requirement already satisfied: pytz>=2017.3 in /opt/conda/lib/python3.7/site-packages (from pandas->tensorflow_decision_forests) (2022.1)\r\n",
      "Requirement already satisfied: google-auth<3,>=1.6.3 in /opt/conda/lib/python3.7/site-packages (from tensorboard<2.10,>=2.9->tensorflow~=2.9.1->tensorflow_decision_forests) (1.35.0)\r\n",
      "Requirement already satisfied: markdown>=2.6.8 in /opt/conda/lib/python3.7/site-packages (from tensorboard<2.10,>=2.9->tensorflow~=2.9.1->tensorflow_decision_forests) (3.3.7)\r\n",
      "Requirement already satisfied: requests<3,>=2.21.0 in /opt/conda/lib/python3.7/site-packages (from tensorboard<2.10,>=2.9->tensorflow~=2.9.1->tensorflow_decision_forests) (2.28.1)\r\n",
      "Requirement already satisfied: tensorboard-data-server<0.7.0,>=0.6.0 in /opt/conda/lib/python3.7/site-packages (from tensorboard<2.10,>=2.9->tensorflow~=2.9.1->tensorflow_decision_forests) (0.6.1)\r\n",
      "Requirement already satisfied: tensorboard-plugin-wit>=1.6.0 in /opt/conda/lib/python3.7/site-packages (from tensorboard<2.10,>=2.9->tensorflow~=2.9.1->tensorflow_decision_forests) (1.8.1)\r\n",
      "Requirement already satisfied: werkzeug>=1.0.1 in /opt/conda/lib/python3.7/site-packages (from tensorboard<2.10,>=2.9->tensorflow~=2.9.1->tensorflow_decision_forests) (2.1.2)\r\n",
      "Requirement already satisfied: google-auth-oauthlib<0.5,>=0.4.1 in /opt/conda/lib/python3.7/site-packages (from tensorboard<2.10,>=2.9->tensorflow~=2.9.1->tensorflow_decision_forests) (0.4.6)\r\n",
      "Requirement already satisfied: pyparsing!=3.0.5,>=2.0.2 in /opt/conda/lib/python3.7/site-packages (from packaging->tensorflow~=2.9.1->tensorflow_decision_forests) (3.0.9)\r\n",
      "Requirement already satisfied: pyasn1-modules>=0.2.1 in /opt/conda/lib/python3.7/site-packages (from google-auth<3,>=1.6.3->tensorboard<2.10,>=2.9->tensorflow~=2.9.1->tensorflow_decision_forests) (0.2.7)\r\n",
      "Requirement already satisfied: rsa<5,>=3.1.4 in /opt/conda/lib/python3.7/site-packages (from google-auth<3,>=1.6.3->tensorboard<2.10,>=2.9->tensorflow~=2.9.1->tensorflow_decision_forests) (4.8)\r\n",
      "Requirement already satisfied: cachetools<5.0,>=2.0.0 in /opt/conda/lib/python3.7/site-packages (from google-auth<3,>=1.6.3->tensorboard<2.10,>=2.9->tensorflow~=2.9.1->tensorflow_decision_forests) (4.2.4)\r\n",
      "Requirement already satisfied: requests-oauthlib>=0.7.0 in /opt/conda/lib/python3.7/site-packages (from google-auth-oauthlib<0.5,>=0.4.1->tensorboard<2.10,>=2.9->tensorflow~=2.9.1->tensorflow_decision_forests) (1.3.1)\r\n",
      "Requirement already satisfied: importlib-metadata>=4.4 in /opt/conda/lib/python3.7/site-packages (from markdown>=2.6.8->tensorboard<2.10,>=2.9->tensorflow~=2.9.1->tensorflow_decision_forests) (4.12.0)\r\n",
      "Requirement already satisfied: urllib3<1.27,>=1.21.1 in /opt/conda/lib/python3.7/site-packages (from requests<3,>=2.21.0->tensorboard<2.10,>=2.9->tensorflow~=2.9.1->tensorflow_decision_forests) (1.26.9)\r\n",
      "Requirement already satisfied: certifi>=2017.4.17 in /opt/conda/lib/python3.7/site-packages (from requests<3,>=2.21.0->tensorboard<2.10,>=2.9->tensorflow~=2.9.1->tensorflow_decision_forests) (2022.6.15)\r\n",
      "Requirement already satisfied: idna<4,>=2.5 in /opt/conda/lib/python3.7/site-packages (from requests<3,>=2.21.0->tensorboard<2.10,>=2.9->tensorflow~=2.9.1->tensorflow_decision_forests) (3.3)\r\n",
      "Requirement already satisfied: charset-normalizer<3,>=2 in /opt/conda/lib/python3.7/site-packages (from requests<3,>=2.21.0->tensorboard<2.10,>=2.9->tensorflow~=2.9.1->tensorflow_decision_forests) (2.1.0)\r\n",
      "Requirement already satisfied: zipp>=0.5 in /opt/conda/lib/python3.7/site-packages (from importlib-metadata>=4.4->markdown>=2.6.8->tensorboard<2.10,>=2.9->tensorflow~=2.9.1->tensorflow_decision_forests) (3.8.0)\r\n",
      "Requirement already satisfied: pyasn1<0.5.0,>=0.4.6 in /opt/conda/lib/python3.7/site-packages (from pyasn1-modules>=0.2.1->google-auth<3,>=1.6.3->tensorboard<2.10,>=2.9->tensorflow~=2.9.1->tensorflow_decision_forests) (0.4.8)\r\n",
      "Requirement already satisfied: oauthlib>=3.0.0 in /opt/conda/lib/python3.7/site-packages (from requests-oauthlib>=0.7.0->google-auth-oauthlib<0.5,>=0.4.1->tensorboard<2.10,>=2.9->tensorflow~=2.9.1->tensorflow_decision_forests) (3.2.0)\r\n",
      "Installing collected packages: libclang, keras, wurlitzer, tensorflow-io-gcs-filesystem, tensorflow-estimator, tensorboard, tensorflow, tensorflow_decision_forests\r\n",
      "  Attempting uninstall: keras\r\n",
      "    Found existing installation: keras 2.6.0\r\n",
      "    Uninstalling keras-2.6.0:\r\n",
      "      Successfully uninstalled keras-2.6.0\r\n",
      "  Attempting uninstall: tensorflow-estimator\r\n",
      "    Found existing installation: tensorflow-estimator 2.6.0\r\n",
      "    Uninstalling tensorflow-estimator-2.6.0:\r\n",
      "      Successfully uninstalled tensorflow-estimator-2.6.0\r\n",
      "  Attempting uninstall: tensorboard\r\n",
      "    Found existing installation: tensorboard 2.6.0\r\n",
      "    Uninstalling tensorboard-2.6.0:\r\n",
      "      Successfully uninstalled tensorboard-2.6.0\r\n",
      "  Attempting uninstall: tensorflow\r\n",
      "    Found existing installation: tensorflow 2.6.4\r\n",
      "    Uninstalling tensorflow-2.6.4:\r\n",
      "      Successfully uninstalled tensorflow-2.6.4\r\n",
      "\u001b[31mERROR: pip's dependency resolver does not currently take into account all the packages that are installed. This behaviour is the source of the following dependency conflicts.\r\n",
      "tensorflow-io 0.21.0 requires tensorflow<2.7.0,>=2.6.0, but you have tensorflow 2.9.1 which is incompatible.\r\n",
      "tensorflow-io 0.21.0 requires tensorflow-io-gcs-filesystem==0.21.0, but you have tensorflow-io-gcs-filesystem 0.26.0 which is incompatible.\u001b[0m\u001b[31m\r\n",
      "\u001b[0mSuccessfully installed keras-2.9.0 libclang-14.0.6 tensorboard-2.9.1 tensorflow-2.9.1 tensorflow-estimator-2.9.0 tensorflow-io-gcs-filesystem-0.26.0 tensorflow_decision_forests-0.2.7 wurlitzer-3.0.2\r\n",
      "\u001b[33mWARNING: Running pip as the 'root' user can result in broken permissions and conflicting behaviour with the system package manager. It is recommended to use a virtual environment instead: https://pip.pypa.io/warnings/venv\u001b[0m\u001b[33m\r\n",
      "\u001b[0m"
     ]
    }
   ],
   "source": [
    "!pip install tensorflow_decision_forests"
   ]
  },
  {
   "cell_type": "code",
   "execution_count": 2,
   "id": "875bb50f",
   "metadata": {
    "execution": {
     "iopub.execute_input": "2022-08-30T19:29:15.814967Z",
     "iopub.status.busy": "2022-08-30T19:29:15.814630Z",
     "iopub.status.idle": "2022-08-30T19:29:22.208411Z",
     "shell.execute_reply": "2022-08-30T19:29:22.207429Z"
    },
    "papermill": {
     "duration": 6.42836,
     "end_time": "2022-08-30T19:29:22.210682",
     "exception": false,
     "start_time": "2022-08-30T19:29:15.782322",
     "status": "completed"
    },
    "tags": []
   },
   "outputs": [
    {
     "name": "stdout",
     "output_type": "stream",
     "text": [
      "TensorFlow Decision Forests v0.2.7\n"
     ]
    }
   ],
   "source": [
    "# Import Python packages\n",
    "import os\n",
    "import numpy as np \n",
    "import pandas as pd \n",
    "import matplotlib.pyplot as plt\n",
    "import seaborn as sns\n",
    "import tensorflow as tf\n",
    "import tensorflow_decision_forests as tfdf\n",
    "from pandas_profiling import ProfileReport\n",
    "print(\"TensorFlow Decision Forests v\" + tfdf.__version__)\n",
    "%matplotlib inline"
   ]
  },
  {
   "cell_type": "code",
   "execution_count": 3,
   "id": "061a25e9",
   "metadata": {
    "_cell_guid": "b1076dfc-b9ad-4769-8c92-a6c4dae69d19",
    "_kg_hide-input": true,
    "_kg_hide-output": true,
    "_uuid": "8f2839f25d086af736a60e9eeb907d3b93b6e0e5",
    "execution": {
     "iopub.execute_input": "2022-08-30T19:29:22.275278Z",
     "iopub.status.busy": "2022-08-30T19:29:22.274297Z",
     "iopub.status.idle": "2022-08-30T19:29:22.282403Z",
     "shell.execute_reply": "2022-08-30T19:29:22.281357Z"
    },
    "papermill": {
     "duration": 0.042182,
     "end_time": "2022-08-30T19:29:22.284578",
     "exception": false,
     "start_time": "2022-08-30T19:29:22.242396",
     "status": "completed"
    },
    "tags": []
   },
   "outputs": [],
   "source": [
    "# Define helper functions:  \n",
    "# One for plotting training evaluation curves, and another for expanding feature number 27.\n",
    "# This bit of code is not particularly important with regards to learning how to use TensorFlow Decision Forests (TF-DF)\n",
    "# If you are just trying to learn how to use TF-DF then my recommendation would be to skip this code cell and instead focus on understanding all the rest\n",
    "\n",
    "def plot_tfdf_model_training_curves(model):\n",
    "    # This function was adapted from the following tutorial:\n",
    "    # https://www.tensorflow.org/decision_forests/tutorials/beginner_colab\n",
    "    logs = model.make_inspector().training_logs()\n",
    "    plt.figure(figsize=(12, 4))\n",
    "    plt.subplot(1, 2, 1)\n",
    "    # Plot accuracy vs number of trees\n",
    "    plt.plot([log.num_trees for log in logs], [log.evaluation.accuracy for log in logs])\n",
    "    plt.xlabel(\"Number of trees\")\n",
    "    plt.ylabel(\"Accuracy (out-of-bag)\")\n",
    "    plt.subplot(1, 2, 2)\n",
    "    # Plot loss vs number of trees\n",
    "    plt.plot([log.num_trees for log in logs], [log.evaluation.loss for log in logs])\n",
    "    plt.xlabel(\"Number of trees\")\n",
    "    plt.ylabel(\"Logloss (out-of-bag)\")\n",
    "    plt.show()\n",
    "    \n",
    "    \n",
    "pd.set_option('display.max_columns', None)"
   ]
  },
  {
   "cell_type": "markdown",
   "id": "ed6912b7",
   "metadata": {
    "papermill": {
     "duration": 0.030222,
     "end_time": "2022-08-30T19:29:22.345914",
     "exception": false,
     "start_time": "2022-08-30T19:29:22.315692",
     "status": "completed"
    },
    "tags": []
   },
   "source": [
    "Step 2: Identify the location of the data"
   ]
  },
  {
   "cell_type": "code",
   "execution_count": 4,
   "id": "31608522",
   "metadata": {
    "_kg_hide-input": true,
    "execution": {
     "iopub.execute_input": "2022-08-30T19:29:22.408719Z",
     "iopub.status.busy": "2022-08-30T19:29:22.407727Z",
     "iopub.status.idle": "2022-08-30T19:29:22.415090Z",
     "shell.execute_reply": "2022-08-30T19:29:22.413502Z"
    },
    "papermill": {
     "duration": 0.041679,
     "end_time": "2022-08-30T19:29:22.417763",
     "exception": false,
     "start_time": "2022-08-30T19:29:22.376084",
     "status": "completed"
    },
    "tags": []
   },
   "outputs": [
    {
     "name": "stdout",
     "output_type": "stream",
     "text": [
      "/kaggle/input/tabular-playground-series-aug-2022/sample_submission.csv\n",
      "/kaggle/input/tabular-playground-series-aug-2022/train.csv\n",
      "/kaggle/input/tabular-playground-series-aug-2022/test.csv\n"
     ]
    }
   ],
   "source": [
    "# print list of all data and files attached to this notebook\n",
    "for dirname, _, filenames in os.walk('/kaggle/input'):\n",
    "    for filename in filenames:\n",
    "        print(os.path.join(dirname, filename))"
   ]
  },
  {
   "cell_type": "markdown",
   "id": "edd76949",
   "metadata": {
    "papermill": {
     "duration": 0.031018,
     "end_time": "2022-08-30T19:29:22.479833",
     "exception": false,
     "start_time": "2022-08-30T19:29:22.448815",
     "status": "completed"
    },
    "tags": []
   },
   "source": [
    "Step 3: Load the data"
   ]
  },
  {
   "cell_type": "code",
   "execution_count": 5,
   "id": "363d9acc",
   "metadata": {
    "_kg_hide-output": true,
    "execution": {
     "iopub.execute_input": "2022-08-30T19:29:22.543107Z",
     "iopub.status.busy": "2022-08-30T19:29:22.542297Z",
     "iopub.status.idle": "2022-08-30T19:29:24.270490Z",
     "shell.execute_reply": "2022-08-30T19:29:24.269337Z"
    },
    "papermill": {
     "duration": 1.763152,
     "end_time": "2022-08-30T19:29:24.273613",
     "exception": false,
     "start_time": "2022-08-30T19:29:22.510461",
     "status": "completed"
    },
    "tags": []
   },
   "outputs": [
    {
     "name": "stderr",
     "output_type": "stream",
     "text": [
      "/opt/conda/lib/python3.7/site-packages/tensorflow_decision_forests/keras/core.py:2574: FutureWarning: In a future version of pandas all arguments of DataFrame.drop except for the argument 'labels' will be keyword-only\n",
      "  features_dataframe = dataframe.drop(label, 1)\n"
     ]
    }
   ],
   "source": [
    "# load to pandas dataframe (for data exploration)\n",
    "train_df = pd.read_csv('/kaggle/input/tabular-playground-series-aug-2022/train.csv').drop('id', axis=1)\n",
    "test_df = pd.read_csv('/kaggle/input/tabular-playground-series-aug-2022/test.csv').drop('id', axis=1)\n",
    "\n",
    "# load to tensorflow dataset (for model training)\n",
    "train_tfds = tfdf.keras.pd_dataframe_to_tf_dataset(train_df, label=\"failure\")\n",
    "test_tfds = tfdf.keras.pd_dataframe_to_tf_dataset(test_df)"
   ]
  },
  {
   "cell_type": "markdown",
   "id": "529d4414",
   "metadata": {
    "papermill": {
     "duration": 0.030156,
     "end_time": "2022-08-30T19:29:24.335094",
     "exception": false,
     "start_time": "2022-08-30T19:29:24.304938",
     "status": "completed"
    },
    "tags": []
   },
   "source": [
    "Step 4: Explore the data"
   ]
  },
  {
   "cell_type": "code",
   "execution_count": 6,
   "id": "df53999d",
   "metadata": {
    "execution": {
     "iopub.execute_input": "2022-08-30T19:29:24.398821Z",
     "iopub.status.busy": "2022-08-30T19:29:24.398481Z",
     "iopub.status.idle": "2022-08-30T19:29:24.403900Z",
     "shell.execute_reply": "2022-08-30T19:29:24.402973Z"
    },
    "papermill": {
     "duration": 0.040981,
     "end_time": "2022-08-30T19:29:24.406720",
     "exception": false,
     "start_time": "2022-08-30T19:29:24.365739",
     "status": "completed"
    },
    "tags": []
   },
   "outputs": [
    {
     "name": "stdout",
     "output_type": "stream",
     "text": [
      "Index(['product_code', 'loading', 'attribute_0', 'attribute_1', 'attribute_2',\n",
      "       'attribute_3', 'measurement_0', 'measurement_1', 'measurement_2',\n",
      "       'measurement_3', 'measurement_4', 'measurement_5', 'measurement_6',\n",
      "       'measurement_7', 'measurement_8', 'measurement_9', 'measurement_10',\n",
      "       'measurement_11', 'measurement_12', 'measurement_13', 'measurement_14',\n",
      "       'measurement_15', 'measurement_16', 'measurement_17', 'failure'],\n",
      "      dtype='object')\n",
      "(26570, 25)\n"
     ]
    }
   ],
   "source": [
    "# print column names\n",
    "print(train_df.columns)\n",
    "print(train_df.shape)"
   ]
  },
  {
   "cell_type": "markdown",
   "id": "ddaa0780",
   "metadata": {
    "papermill": {
     "duration": 0.03048,
     "end_time": "2022-08-30T19:29:24.468736",
     "exception": false,
     "start_time": "2022-08-30T19:29:24.438256",
     "status": "completed"
    },
    "tags": []
   },
   "source": [
    "It is a tabular dataset with ~26,000 rows and 25 columns (3.95MB .CSV training dataset + 3.06MB .CSV test set) suitable for training algorithms to solve binary classification problems (in this case to determine if a \"Super Soaker\" machine is in a \"failure\" state of \"0\" or \"1\" based off of input sensor data (consisting of 18 measurement fields, 4 attribute fields, and 2 additional fields)).  "
   ]
  },
  {
   "cell_type": "code",
   "execution_count": 7,
   "id": "5e3632fa",
   "metadata": {
    "execution": {
     "iopub.execute_input": "2022-08-30T19:29:24.532117Z",
     "iopub.status.busy": "2022-08-30T19:29:24.531772Z",
     "iopub.status.idle": "2022-08-30T19:29:24.629726Z",
     "shell.execute_reply": "2022-08-30T19:29:24.628659Z"
    },
    "papermill": {
     "duration": 0.133551,
     "end_time": "2022-08-30T19:29:24.632962",
     "exception": false,
     "start_time": "2022-08-30T19:29:24.499411",
     "status": "completed"
    },
    "tags": []
   },
   "outputs": [
    {
     "data": {
      "text/html": [
       "<div>\n",
       "<style scoped>\n",
       "    .dataframe tbody tr th:only-of-type {\n",
       "        vertical-align: middle;\n",
       "    }\n",
       "\n",
       "    .dataframe tbody tr th {\n",
       "        vertical-align: top;\n",
       "    }\n",
       "\n",
       "    .dataframe thead th {\n",
       "        text-align: right;\n",
       "    }\n",
       "</style>\n",
       "<table border=\"1\" class=\"dataframe\">\n",
       "  <thead>\n",
       "    <tr style=\"text-align: right;\">\n",
       "      <th></th>\n",
       "      <th>loading</th>\n",
       "      <th>attribute_2</th>\n",
       "      <th>attribute_3</th>\n",
       "      <th>measurement_0</th>\n",
       "      <th>measurement_1</th>\n",
       "      <th>measurement_2</th>\n",
       "      <th>measurement_3</th>\n",
       "      <th>measurement_4</th>\n",
       "      <th>measurement_5</th>\n",
       "      <th>measurement_6</th>\n",
       "      <th>measurement_7</th>\n",
       "      <th>measurement_8</th>\n",
       "      <th>measurement_9</th>\n",
       "      <th>measurement_10</th>\n",
       "      <th>measurement_11</th>\n",
       "      <th>measurement_12</th>\n",
       "      <th>measurement_13</th>\n",
       "      <th>measurement_14</th>\n",
       "      <th>measurement_15</th>\n",
       "      <th>measurement_16</th>\n",
       "      <th>measurement_17</th>\n",
       "      <th>failure</th>\n",
       "    </tr>\n",
       "  </thead>\n",
       "  <tbody>\n",
       "    <tr>\n",
       "      <th>count</th>\n",
       "      <td>26320.000000</td>\n",
       "      <td>26570.000000</td>\n",
       "      <td>26570.000000</td>\n",
       "      <td>26570.000000</td>\n",
       "      <td>26570.000000</td>\n",
       "      <td>26570.000000</td>\n",
       "      <td>26189.000000</td>\n",
       "      <td>26032.000000</td>\n",
       "      <td>25894.000000</td>\n",
       "      <td>25774.000000</td>\n",
       "      <td>25633.000000</td>\n",
       "      <td>25522.000000</td>\n",
       "      <td>25343.000000</td>\n",
       "      <td>25270.000000</td>\n",
       "      <td>25102.000000</td>\n",
       "      <td>24969.000000</td>\n",
       "      <td>24796.000000</td>\n",
       "      <td>24696.000000</td>\n",
       "      <td>24561.000000</td>\n",
       "      <td>24460.000000</td>\n",
       "      <td>24286.000000</td>\n",
       "      <td>26570.000000</td>\n",
       "    </tr>\n",
       "    <tr>\n",
       "      <th>mean</th>\n",
       "      <td>127.826233</td>\n",
       "      <td>6.754046</td>\n",
       "      <td>7.240459</td>\n",
       "      <td>7.415883</td>\n",
       "      <td>8.232518</td>\n",
       "      <td>6.256568</td>\n",
       "      <td>17.791528</td>\n",
       "      <td>11.731988</td>\n",
       "      <td>17.127804</td>\n",
       "      <td>17.510759</td>\n",
       "      <td>11.716624</td>\n",
       "      <td>19.024714</td>\n",
       "      <td>11.430725</td>\n",
       "      <td>16.117711</td>\n",
       "      <td>19.172085</td>\n",
       "      <td>11.702464</td>\n",
       "      <td>15.652904</td>\n",
       "      <td>16.048444</td>\n",
       "      <td>14.995554</td>\n",
       "      <td>16.460727</td>\n",
       "      <td>701.269059</td>\n",
       "      <td>0.212608</td>\n",
       "    </tr>\n",
       "    <tr>\n",
       "      <th>std</th>\n",
       "      <td>39.030020</td>\n",
       "      <td>1.471852</td>\n",
       "      <td>1.456493</td>\n",
       "      <td>4.116690</td>\n",
       "      <td>4.199401</td>\n",
       "      <td>3.309109</td>\n",
       "      <td>1.001200</td>\n",
       "      <td>0.996085</td>\n",
       "      <td>0.996414</td>\n",
       "      <td>0.995980</td>\n",
       "      <td>1.000836</td>\n",
       "      <td>1.008591</td>\n",
       "      <td>0.999137</td>\n",
       "      <td>1.405978</td>\n",
       "      <td>1.520785</td>\n",
       "      <td>1.488838</td>\n",
       "      <td>1.155247</td>\n",
       "      <td>1.491923</td>\n",
       "      <td>1.549226</td>\n",
       "      <td>1.708935</td>\n",
       "      <td>123.304161</td>\n",
       "      <td>0.409160</td>\n",
       "    </tr>\n",
       "  </tbody>\n",
       "</table>\n",
       "</div>"
      ],
      "text/plain": [
       "            loading   attribute_2   attribute_3  measurement_0  measurement_1  \\\n",
       "count  26320.000000  26570.000000  26570.000000   26570.000000   26570.000000   \n",
       "mean     127.826233      6.754046      7.240459       7.415883       8.232518   \n",
       "std       39.030020      1.471852      1.456493       4.116690       4.199401   \n",
       "\n",
       "       measurement_2  measurement_3  measurement_4  measurement_5  \\\n",
       "count   26570.000000   26189.000000   26032.000000   25894.000000   \n",
       "mean        6.256568      17.791528      11.731988      17.127804   \n",
       "std         3.309109       1.001200       0.996085       0.996414   \n",
       "\n",
       "       measurement_6  measurement_7  measurement_8  measurement_9  \\\n",
       "count   25774.000000   25633.000000   25522.000000   25343.000000   \n",
       "mean       17.510759      11.716624      19.024714      11.430725   \n",
       "std         0.995980       1.000836       1.008591       0.999137   \n",
       "\n",
       "       measurement_10  measurement_11  measurement_12  measurement_13  \\\n",
       "count    25270.000000    25102.000000    24969.000000    24796.000000   \n",
       "mean        16.117711       19.172085       11.702464       15.652904   \n",
       "std          1.405978        1.520785        1.488838        1.155247   \n",
       "\n",
       "       measurement_14  measurement_15  measurement_16  measurement_17  \\\n",
       "count    24696.000000    24561.000000    24460.000000    24286.000000   \n",
       "mean        16.048444       14.995554       16.460727      701.269059   \n",
       "std          1.491923        1.549226        1.708935      123.304161   \n",
       "\n",
       "            failure  \n",
       "count  26570.000000  \n",
       "mean       0.212608  \n",
       "std        0.409160  "
      ]
     },
     "execution_count": 7,
     "metadata": {},
     "output_type": "execute_result"
    }
   ],
   "source": [
    "# print basic summary statistics\n",
    "train_df.describe().head(3)\n",
    "# For additional summary statistics you can run the following few lines as well:\n",
    "# from pandas_profiling import ProfileReport\n",
    "# # train_profile = ProfileReport(train_df, title=\"August 2022 Tabular Data Series\")\n",
    "# # train_profile"
   ]
  },
  {
   "cell_type": "code",
   "execution_count": 8,
   "id": "8bd36bcd",
   "metadata": {
    "execution": {
     "iopub.execute_input": "2022-08-30T19:29:24.697362Z",
     "iopub.status.busy": "2022-08-30T19:29:24.697001Z",
     "iopub.status.idle": "2022-08-30T19:29:24.705535Z",
     "shell.execute_reply": "2022-08-30T19:29:24.704502Z"
    },
    "papermill": {
     "duration": 0.044123,
     "end_time": "2022-08-30T19:29:24.708517",
     "exception": false,
     "start_time": "2022-08-30T19:29:24.664394",
     "status": "completed"
    },
    "tags": []
   },
   "outputs": [
    {
     "data": {
      "text/plain": [
       "0    20921\n",
       "1     5649\n",
       "Name: failure, dtype: int64"
      ]
     },
     "execution_count": 8,
     "metadata": {},
     "output_type": "execute_result"
    }
   ],
   "source": [
    "train_df['failure'].value_counts()"
   ]
  },
  {
   "cell_type": "markdown",
   "id": "5bc42bbc",
   "metadata": {
    "papermill": {
     "duration": 0.030784,
     "end_time": "2022-08-30T19:29:24.773857",
     "exception": false,
     "start_time": "2022-08-30T19:29:24.743073",
     "status": "completed"
    },
    "tags": []
   },
   "source": [
    "It looks like we have ~5k failure measurements and ~21k normal measurements.  "
   ]
  },
  {
   "cell_type": "code",
   "execution_count": 9,
   "id": "6385e4ba",
   "metadata": {
    "execution": {
     "iopub.execute_input": "2022-08-30T19:29:24.837947Z",
     "iopub.status.busy": "2022-08-30T19:29:24.837377Z",
     "iopub.status.idle": "2022-08-30T19:29:24.865852Z",
     "shell.execute_reply": "2022-08-30T19:29:24.864917Z"
    },
    "papermill": {
     "duration": 0.063461,
     "end_time": "2022-08-30T19:29:24.868208",
     "exception": false,
     "start_time": "2022-08-30T19:29:24.804747",
     "status": "completed"
    },
    "tags": []
   },
   "outputs": [
    {
     "data": {
      "text/html": [
       "<div>\n",
       "<style scoped>\n",
       "    .dataframe tbody tr th:only-of-type {\n",
       "        vertical-align: middle;\n",
       "    }\n",
       "\n",
       "    .dataframe tbody tr th {\n",
       "        vertical-align: top;\n",
       "    }\n",
       "\n",
       "    .dataframe thead th {\n",
       "        text-align: right;\n",
       "    }\n",
       "</style>\n",
       "<table border=\"1\" class=\"dataframe\">\n",
       "  <thead>\n",
       "    <tr style=\"text-align: right;\">\n",
       "      <th></th>\n",
       "      <th>product_code</th>\n",
       "      <th>loading</th>\n",
       "      <th>attribute_0</th>\n",
       "      <th>attribute_1</th>\n",
       "      <th>attribute_2</th>\n",
       "      <th>attribute_3</th>\n",
       "      <th>measurement_0</th>\n",
       "      <th>measurement_1</th>\n",
       "      <th>measurement_2</th>\n",
       "      <th>measurement_3</th>\n",
       "      <th>measurement_4</th>\n",
       "      <th>measurement_5</th>\n",
       "      <th>measurement_6</th>\n",
       "      <th>measurement_7</th>\n",
       "      <th>measurement_8</th>\n",
       "      <th>measurement_9</th>\n",
       "      <th>measurement_10</th>\n",
       "      <th>measurement_11</th>\n",
       "      <th>measurement_12</th>\n",
       "      <th>measurement_13</th>\n",
       "      <th>measurement_14</th>\n",
       "      <th>measurement_15</th>\n",
       "      <th>measurement_16</th>\n",
       "      <th>measurement_17</th>\n",
       "      <th>failure</th>\n",
       "    </tr>\n",
       "  </thead>\n",
       "  <tbody>\n",
       "    <tr>\n",
       "      <th>0</th>\n",
       "      <td>A</td>\n",
       "      <td>80.10</td>\n",
       "      <td>material_7</td>\n",
       "      <td>material_8</td>\n",
       "      <td>9</td>\n",
       "      <td>5</td>\n",
       "      <td>7</td>\n",
       "      <td>8</td>\n",
       "      <td>4</td>\n",
       "      <td>18.040</td>\n",
       "      <td>12.518</td>\n",
       "      <td>15.748</td>\n",
       "      <td>19.292</td>\n",
       "      <td>11.739</td>\n",
       "      <td>20.155</td>\n",
       "      <td>10.672</td>\n",
       "      <td>15.859</td>\n",
       "      <td>17.594</td>\n",
       "      <td>15.193</td>\n",
       "      <td>15.029</td>\n",
       "      <td>NaN</td>\n",
       "      <td>13.034</td>\n",
       "      <td>14.684</td>\n",
       "      <td>764.100</td>\n",
       "      <td>0</td>\n",
       "    </tr>\n",
       "    <tr>\n",
       "      <th>1</th>\n",
       "      <td>A</td>\n",
       "      <td>84.89</td>\n",
       "      <td>material_7</td>\n",
       "      <td>material_8</td>\n",
       "      <td>9</td>\n",
       "      <td>5</td>\n",
       "      <td>14</td>\n",
       "      <td>3</td>\n",
       "      <td>3</td>\n",
       "      <td>18.213</td>\n",
       "      <td>11.540</td>\n",
       "      <td>17.717</td>\n",
       "      <td>17.893</td>\n",
       "      <td>12.748</td>\n",
       "      <td>17.889</td>\n",
       "      <td>12.448</td>\n",
       "      <td>17.947</td>\n",
       "      <td>17.915</td>\n",
       "      <td>11.755</td>\n",
       "      <td>14.732</td>\n",
       "      <td>15.425</td>\n",
       "      <td>14.395</td>\n",
       "      <td>15.631</td>\n",
       "      <td>682.057</td>\n",
       "      <td>0</td>\n",
       "    </tr>\n",
       "    <tr>\n",
       "      <th>2</th>\n",
       "      <td>A</td>\n",
       "      <td>82.43</td>\n",
       "      <td>material_7</td>\n",
       "      <td>material_8</td>\n",
       "      <td>9</td>\n",
       "      <td>5</td>\n",
       "      <td>12</td>\n",
       "      <td>1</td>\n",
       "      <td>5</td>\n",
       "      <td>18.057</td>\n",
       "      <td>11.652</td>\n",
       "      <td>16.738</td>\n",
       "      <td>18.240</td>\n",
       "      <td>12.718</td>\n",
       "      <td>18.288</td>\n",
       "      <td>12.715</td>\n",
       "      <td>15.607</td>\n",
       "      <td>NaN</td>\n",
       "      <td>13.798</td>\n",
       "      <td>16.711</td>\n",
       "      <td>18.631</td>\n",
       "      <td>14.094</td>\n",
       "      <td>17.946</td>\n",
       "      <td>663.376</td>\n",
       "      <td>0</td>\n",
       "    </tr>\n",
       "    <tr>\n",
       "      <th>3</th>\n",
       "      <td>A</td>\n",
       "      <td>101.07</td>\n",
       "      <td>material_7</td>\n",
       "      <td>material_8</td>\n",
       "      <td>9</td>\n",
       "      <td>5</td>\n",
       "      <td>13</td>\n",
       "      <td>2</td>\n",
       "      <td>6</td>\n",
       "      <td>17.295</td>\n",
       "      <td>11.188</td>\n",
       "      <td>18.576</td>\n",
       "      <td>18.339</td>\n",
       "      <td>12.583</td>\n",
       "      <td>19.060</td>\n",
       "      <td>12.471</td>\n",
       "      <td>16.346</td>\n",
       "      <td>18.377</td>\n",
       "      <td>10.020</td>\n",
       "      <td>15.250</td>\n",
       "      <td>15.562</td>\n",
       "      <td>16.154</td>\n",
       "      <td>17.172</td>\n",
       "      <td>826.282</td>\n",
       "      <td>0</td>\n",
       "    </tr>\n",
       "    <tr>\n",
       "      <th>4</th>\n",
       "      <td>A</td>\n",
       "      <td>188.06</td>\n",
       "      <td>material_7</td>\n",
       "      <td>material_8</td>\n",
       "      <td>9</td>\n",
       "      <td>5</td>\n",
       "      <td>9</td>\n",
       "      <td>2</td>\n",
       "      <td>8</td>\n",
       "      <td>19.346</td>\n",
       "      <td>12.950</td>\n",
       "      <td>16.990</td>\n",
       "      <td>15.746</td>\n",
       "      <td>11.306</td>\n",
       "      <td>18.093</td>\n",
       "      <td>10.337</td>\n",
       "      <td>17.082</td>\n",
       "      <td>19.932</td>\n",
       "      <td>12.428</td>\n",
       "      <td>16.182</td>\n",
       "      <td>12.760</td>\n",
       "      <td>13.153</td>\n",
       "      <td>16.412</td>\n",
       "      <td>579.885</td>\n",
       "      <td>0</td>\n",
       "    </tr>\n",
       "    <tr>\n",
       "      <th>5</th>\n",
       "      <td>A</td>\n",
       "      <td>75.35</td>\n",
       "      <td>material_7</td>\n",
       "      <td>material_8</td>\n",
       "      <td>9</td>\n",
       "      <td>5</td>\n",
       "      <td>11</td>\n",
       "      <td>4</td>\n",
       "      <td>0</td>\n",
       "      <td>17.564</td>\n",
       "      <td>13.721</td>\n",
       "      <td>16.594</td>\n",
       "      <td>NaN</td>\n",
       "      <td>11.592</td>\n",
       "      <td>20.810</td>\n",
       "      <td>10.622</td>\n",
       "      <td>14.904</td>\n",
       "      <td>19.107</td>\n",
       "      <td>13.327</td>\n",
       "      <td>15.354</td>\n",
       "      <td>19.251</td>\n",
       "      <td>NaN</td>\n",
       "      <td>17.625</td>\n",
       "      <td>832.902</td>\n",
       "      <td>0</td>\n",
       "    </tr>\n",
       "    <tr>\n",
       "      <th>6</th>\n",
       "      <td>A</td>\n",
       "      <td>161.71</td>\n",
       "      <td>material_7</td>\n",
       "      <td>material_8</td>\n",
       "      <td>9</td>\n",
       "      <td>5</td>\n",
       "      <td>12</td>\n",
       "      <td>2</td>\n",
       "      <td>4</td>\n",
       "      <td>17.303</td>\n",
       "      <td>12.643</td>\n",
       "      <td>17.476</td>\n",
       "      <td>17.679</td>\n",
       "      <td>12.957</td>\n",
       "      <td>17.916</td>\n",
       "      <td>11.370</td>\n",
       "      <td>17.714</td>\n",
       "      <td>19.924</td>\n",
       "      <td>11.560</td>\n",
       "      <td>16.653</td>\n",
       "      <td>17.734</td>\n",
       "      <td>NaN</td>\n",
       "      <td>16.637</td>\n",
       "      <td>684.438</td>\n",
       "      <td>1</td>\n",
       "    </tr>\n",
       "    <tr>\n",
       "      <th>7</th>\n",
       "      <td>A</td>\n",
       "      <td>177.92</td>\n",
       "      <td>material_7</td>\n",
       "      <td>material_8</td>\n",
       "      <td>9</td>\n",
       "      <td>5</td>\n",
       "      <td>4</td>\n",
       "      <td>8</td>\n",
       "      <td>8</td>\n",
       "      <td>17.062</td>\n",
       "      <td>13.634</td>\n",
       "      <td>17.879</td>\n",
       "      <td>15.894</td>\n",
       "      <td>11.029</td>\n",
       "      <td>18.643</td>\n",
       "      <td>10.254</td>\n",
       "      <td>16.449</td>\n",
       "      <td>20.478</td>\n",
       "      <td>12.207</td>\n",
       "      <td>15.624</td>\n",
       "      <td>16.968</td>\n",
       "      <td>15.176</td>\n",
       "      <td>17.231</td>\n",
       "      <td>684.000</td>\n",
       "      <td>1</td>\n",
       "    </tr>\n",
       "    <tr>\n",
       "      <th>8</th>\n",
       "      <td>A</td>\n",
       "      <td>109.50</td>\n",
       "      <td>material_7</td>\n",
       "      <td>material_8</td>\n",
       "      <td>9</td>\n",
       "      <td>5</td>\n",
       "      <td>9</td>\n",
       "      <td>6</td>\n",
       "      <td>5</td>\n",
       "      <td>18.111</td>\n",
       "      <td>11.886</td>\n",
       "      <td>17.354</td>\n",
       "      <td>18.558</td>\n",
       "      <td>11.540</td>\n",
       "      <td>19.887</td>\n",
       "      <td>11.557</td>\n",
       "      <td>15.965</td>\n",
       "      <td>19.604</td>\n",
       "      <td>14.091</td>\n",
       "      <td>15.674</td>\n",
       "      <td>13.327</td>\n",
       "      <td>13.535</td>\n",
       "      <td>15.408</td>\n",
       "      <td>NaN</td>\n",
       "      <td>0</td>\n",
       "    </tr>\n",
       "    <tr>\n",
       "      <th>9</th>\n",
       "      <td>A</td>\n",
       "      <td>98.72</td>\n",
       "      <td>material_7</td>\n",
       "      <td>material_8</td>\n",
       "      <td>9</td>\n",
       "      <td>5</td>\n",
       "      <td>10</td>\n",
       "      <td>4</td>\n",
       "      <td>7</td>\n",
       "      <td>18.945</td>\n",
       "      <td>12.249</td>\n",
       "      <td>17.298</td>\n",
       "      <td>18.482</td>\n",
       "      <td>11.298</td>\n",
       "      <td>19.011</td>\n",
       "      <td>10.384</td>\n",
       "      <td>15.237</td>\n",
       "      <td>18.427</td>\n",
       "      <td>12.635</td>\n",
       "      <td>14.318</td>\n",
       "      <td>14.327</td>\n",
       "      <td>12.867</td>\n",
       "      <td>NaN</td>\n",
       "      <td>NaN</td>\n",
       "      <td>0</td>\n",
       "    </tr>\n",
       "  </tbody>\n",
       "</table>\n",
       "</div>"
      ],
      "text/plain": [
       "  product_code  loading attribute_0 attribute_1  attribute_2  attribute_3  \\\n",
       "0            A    80.10  material_7  material_8            9            5   \n",
       "1            A    84.89  material_7  material_8            9            5   \n",
       "2            A    82.43  material_7  material_8            9            5   \n",
       "3            A   101.07  material_7  material_8            9            5   \n",
       "4            A   188.06  material_7  material_8            9            5   \n",
       "5            A    75.35  material_7  material_8            9            5   \n",
       "6            A   161.71  material_7  material_8            9            5   \n",
       "7            A   177.92  material_7  material_8            9            5   \n",
       "8            A   109.50  material_7  material_8            9            5   \n",
       "9            A    98.72  material_7  material_8            9            5   \n",
       "\n",
       "   measurement_0  measurement_1  measurement_2  measurement_3  measurement_4  \\\n",
       "0              7              8              4         18.040         12.518   \n",
       "1             14              3              3         18.213         11.540   \n",
       "2             12              1              5         18.057         11.652   \n",
       "3             13              2              6         17.295         11.188   \n",
       "4              9              2              8         19.346         12.950   \n",
       "5             11              4              0         17.564         13.721   \n",
       "6             12              2              4         17.303         12.643   \n",
       "7              4              8              8         17.062         13.634   \n",
       "8              9              6              5         18.111         11.886   \n",
       "9             10              4              7         18.945         12.249   \n",
       "\n",
       "   measurement_5  measurement_6  measurement_7  measurement_8  measurement_9  \\\n",
       "0         15.748         19.292         11.739         20.155         10.672   \n",
       "1         17.717         17.893         12.748         17.889         12.448   \n",
       "2         16.738         18.240         12.718         18.288         12.715   \n",
       "3         18.576         18.339         12.583         19.060         12.471   \n",
       "4         16.990         15.746         11.306         18.093         10.337   \n",
       "5         16.594            NaN         11.592         20.810         10.622   \n",
       "6         17.476         17.679         12.957         17.916         11.370   \n",
       "7         17.879         15.894         11.029         18.643         10.254   \n",
       "8         17.354         18.558         11.540         19.887         11.557   \n",
       "9         17.298         18.482         11.298         19.011         10.384   \n",
       "\n",
       "   measurement_10  measurement_11  measurement_12  measurement_13  \\\n",
       "0          15.859          17.594          15.193          15.029   \n",
       "1          17.947          17.915          11.755          14.732   \n",
       "2          15.607             NaN          13.798          16.711   \n",
       "3          16.346          18.377          10.020          15.250   \n",
       "4          17.082          19.932          12.428          16.182   \n",
       "5          14.904          19.107          13.327          15.354   \n",
       "6          17.714          19.924          11.560          16.653   \n",
       "7          16.449          20.478          12.207          15.624   \n",
       "8          15.965          19.604          14.091          15.674   \n",
       "9          15.237          18.427          12.635          14.318   \n",
       "\n",
       "   measurement_14  measurement_15  measurement_16  measurement_17  failure  \n",
       "0             NaN          13.034          14.684         764.100        0  \n",
       "1          15.425          14.395          15.631         682.057        0  \n",
       "2          18.631          14.094          17.946         663.376        0  \n",
       "3          15.562          16.154          17.172         826.282        0  \n",
       "4          12.760          13.153          16.412         579.885        0  \n",
       "5          19.251             NaN          17.625         832.902        0  \n",
       "6          17.734             NaN          16.637         684.438        1  \n",
       "7          16.968          15.176          17.231         684.000        1  \n",
       "8          13.327          13.535          15.408             NaN        0  \n",
       "9          14.327          12.867             NaN             NaN        0  "
      ]
     },
     "execution_count": 9,
     "metadata": {},
     "output_type": "execute_result"
    }
   ],
   "source": [
    "# preview first few rows of data\n",
    "train_df.head(10)"
   ]
  },
  {
   "cell_type": "code",
   "execution_count": 10,
   "id": "b9a79b54",
   "metadata": {
    "execution": {
     "iopub.execute_input": "2022-08-30T19:29:24.932484Z",
     "iopub.status.busy": "2022-08-30T19:29:24.932127Z",
     "iopub.status.idle": "2022-08-30T19:29:25.925681Z",
     "shell.execute_reply": "2022-08-30T19:29:25.924043Z"
    },
    "papermill": {
     "duration": 1.02844,
     "end_time": "2022-08-30T19:29:25.928167",
     "exception": false,
     "start_time": "2022-08-30T19:29:24.899727",
     "status": "completed"
    },
    "tags": []
   },
   "outputs": [
    {
     "data": {
      "text/plain": [
       "<AxesSubplot:>"
      ]
     },
     "execution_count": 10,
     "metadata": {},
     "output_type": "execute_result"
    },
    {
     "data": {
      "image/png": "[encoded data removed]",
      "text/plain": [
       "<Figure size 432x288 with 1 Axes>"
      ]
     },
     "metadata": {
      "needs_background": "light"
     },
     "output_type": "display_data"
    }
   ],
   "source": [
    "# check for missing values\n",
    "sns.heatmap(train_df.isnull(), cbar=False)"
   ]
  },
  {
   "cell_type": "markdown",
   "id": "03a5b4c7",
   "metadata": {
    "papermill": {
     "duration": 0.04912,
     "end_time": "2022-08-30T19:29:26.029299",
     "exception": false,
     "start_time": "2022-08-30T19:29:25.980179",
     "status": "completed"
    },
    "tags": []
   },
   "source": [
    "RandomForest and GradientBoostedTrees deal with null values automatically but for improved model performance we might consider handling these missing values in a more thoughtful way.  To learn more about data imputation techniques, consider reviewing the relevant Kaggle Learn exercise [here](https://www.kaggle.com/code/alexisbcook/missing-values)."
   ]
  },
  {
   "cell_type": "markdown",
   "id": "4cdbcc31",
   "metadata": {
    "papermill": {
     "duration": 0.048891,
     "end_time": "2022-08-30T19:29:26.127054",
     "exception": false,
     "start_time": "2022-08-30T19:29:26.078163",
     "status": "completed"
    },
    "tags": []
   },
   "source": [
    "Step 5: Feature Engineering and Feature Selection"
   ]
  },
  {
   "cell_type": "code",
   "execution_count": 11,
   "id": "9c15f3a8",
   "metadata": {
    "execution": {
     "iopub.execute_input": "2022-08-30T19:29:26.226472Z",
     "iopub.status.busy": "2022-08-30T19:29:26.226047Z",
     "iopub.status.idle": "2022-08-30T19:29:26.230629Z",
     "shell.execute_reply": "2022-08-30T19:29:26.229667Z"
    },
    "papermill": {
     "duration": 0.05816,
     "end_time": "2022-08-30T19:29:26.234271",
     "exception": false,
     "start_time": "2022-08-30T19:29:26.176111",
     "status": "completed"
    },
    "tags": []
   },
   "outputs": [],
   "source": [
    "#  ADD CONTENT HERE TO IMPROVE YOUR SCORE!"
   ]
  },
  {
   "cell_type": "markdown",
   "id": "f97de4bf",
   "metadata": {
    "papermill": {
     "duration": 0.054624,
     "end_time": "2022-08-30T19:29:26.338386",
     "exception": false,
     "start_time": "2022-08-30T19:29:26.283762",
     "status": "completed"
    },
    "tags": []
   },
   "source": [
    "To get to the top of the leaderboard it will be important to do a lot of clever feature engineering and feature selection. You can learn more about these concepts by reviewing the relevant Kaggle Learn exercise [here]((https://www.kaggle.com/learn/feature-engineering)). These steps were intentionally skipped in this tutorial for the sake of brevity."
   ]
  },
  {
   "cell_type": "markdown",
   "id": "b951d3d2",
   "metadata": {
    "papermill": {
     "duration": 0.031775,
     "end_time": "2022-08-30T19:29:26.405850",
     "exception": false,
     "start_time": "2022-08-30T19:29:26.374075",
     "status": "completed"
    },
    "tags": []
   },
   "source": [
    "# RandomForest\n",
    "\n",
    "Next we will take our training data and we will use it to train a Random Forest model (to predict whether a given piece of machinery is in a state of \"0\" or \"1\")."
   ]
  },
  {
   "cell_type": "markdown",
   "id": "9c70887a",
   "metadata": {
    "papermill": {
     "duration": 0.031883,
     "end_time": "2022-08-30T19:29:26.469944",
     "exception": false,
     "start_time": "2022-08-30T19:29:26.438061",
     "status": "completed"
    },
    "tags": []
   },
   "source": [
    "Step 6: Train a [Random Forest](https://www.stat.berkeley.edu/~breiman/randomforest2001.pdf) Model\n",
    "\n",
    "\n",
    "\n",
    "> \"A Random Forest is a collection of deep CART decision trees trained independently and without pruning. Each tree is trained on a random subset of the original training dataset (sampled with replacement).\n",
    "> \n",
    "> The algorithm is unique in that it is robust to overfitting, even in extreme cases e.g. when there is more features than training examples.\n",
    "> \n",
    "> It is probably the most well-known of the Decision Forest training algorithms\"\n",
    "\n",
    "\n",
    "\n",
    "\n",
    " ~ Quoted from [TFDF RandomForest documentation ](https://www.tensorflow.org/decision_forests/api_docs/python/tfdf/keras/RandomForestModel)"
   ]
  },
  {
   "cell_type": "markdown",
   "id": "2c72ae9c",
   "metadata": {
    "papermill": {
     "duration": 0.031564,
     "end_time": "2022-08-30T19:29:26.533839",
     "exception": false,
     "start_time": "2022-08-30T19:29:26.502275",
     "status": "completed"
    },
    "tags": []
   },
   "source": [
    "One neat thing about TF-DF is that in addition to having a default set of hyper-parameters, you are also provided with a list of additional hyper-parameter choices to consider.  This makes it a lot easier to optimize model performance because you do not have to do this expensive hyper-parameter optimization step all by yourself."
   ]
  },
  {
   "cell_type": "code",
   "execution_count": 12,
   "id": "54cc6f1e",
   "metadata": {
    "execution": {
     "iopub.execute_input": "2022-08-30T19:29:26.598438Z",
     "iopub.status.busy": "2022-08-30T19:29:26.598061Z",
     "iopub.status.idle": "2022-08-30T19:29:26.602935Z",
     "shell.execute_reply": "2022-08-30T19:29:26.601897Z"
    },
    "papermill": {
     "duration": 0.041464,
     "end_time": "2022-08-30T19:29:26.606731",
     "exception": false,
     "start_time": "2022-08-30T19:29:26.565267",
     "status": "completed"
    },
    "tags": []
   },
   "outputs": [
    {
     "name": "stdout",
     "output_type": "stream",
     "text": [
      "[HyperParameterTemplate(name='better_default', version=1, parameters={'winner_take_all': True}, description='A configuration that is generally better than the default parameters without being more expensive.'), HyperParameterTemplate(name='benchmark_rank1', version=1, parameters={'winner_take_all': True, 'categorical_algorithm': 'RANDOM', 'split_axis': 'SPARSE_OBLIQUE', 'sparse_oblique_normalization': 'MIN_MAX', 'sparse_oblique_num_projections_exponent': 1.0}, description='Top ranking hyper-parameters on our benchmark slightly modified to run in reasonable time.')]\n"
     ]
    }
   ],
   "source": [
    "print(tfdf.keras.RandomForestModel.predefined_hyperparameters())"
   ]
  },
  {
   "cell_type": "code",
   "execution_count": 13,
   "id": "87a441aa",
   "metadata": {
    "_kg_hide-output": true,
    "execution": {
     "iopub.execute_input": "2022-08-30T19:29:26.672400Z",
     "iopub.status.busy": "2022-08-30T19:29:26.671674Z",
     "iopub.status.idle": "2022-08-30T19:29:33.938307Z",
     "shell.execute_reply": "2022-08-30T19:29:33.937343Z"
    },
    "papermill": {
     "duration": 7.302256,
     "end_time": "2022-08-30T19:29:33.940487",
     "exception": false,
     "start_time": "2022-08-30T19:29:26.638231",
     "status": "completed"
    },
    "tags": []
   },
   "outputs": [
    {
     "name": "stdout",
     "output_type": "stream",
     "text": [
      "Resolve hyper-parameter template \"better_default\" to \"better_default@v1\" -> {'winner_take_all': True}.\n",
      "Use /tmp/tmp76js4kuj as temporary training directory\n",
      "Reading training dataset...\n",
      "Training dataset read in 0:00:04.744396. Found 26570 examples.\n",
      "Training model...\n",
      "Model trained in 0:00:00.484644\n",
      "Compiling model...\n"
     ]
    },
    {
     "name": "stderr",
     "output_type": "stream",
     "text": [
      "[INFO kernel.cc:1176] Loading model from path /tmp/tmp76js4kuj/model/ with prefix a9526a19815e45e5\n",
      "[INFO abstract_model.cc:1248] Engine \"RandomForestOptPred\" built\n",
      "[INFO kernel.cc:1022] Use fast generic engine\n"
     ]
    },
    {
     "name": "stdout",
     "output_type": "stream",
     "text": [
      "WARNING: AutoGraph could not transform <function simple_ml_inference_op_with_handle at 0x7f3ccdb83950> and will run it as-is.\n",
      "Please report this to the TensorFlow team. When filing the bug, set the verbosity to 10 (on Linux, `export AUTOGRAPH_VERBOSITY=10`) and attach the full output.\n",
      "Cause: could not get source code\n",
      "To silence this warning, decorate the function with @tf.autograph.experimental.do_not_convert\n",
      "Model compiled.\n"
     ]
    },
    {
     "data": {
      "text/plain": [
       "<keras.callbacks.History at 0x7f3cb14b0a90>"
      ]
     },
     "execution_count": 13,
     "metadata": {},
     "output_type": "execute_result"
    }
   ],
   "source": [
    "# Train the model\n",
    "rf_model = tfdf.keras.RandomForestModel(hyperparameter_template=\"better_default\",num_trees=5)\n",
    "rf_model.compile(metrics=[tf.keras.metrics.AUC(curve=\"ROC\")]) \n",
    "rf_model.fit(x=train_tfds)"
   ]
  },
  {
   "cell_type": "code",
   "execution_count": 14,
   "id": "9b479ecd",
   "metadata": {
    "_kg_hide-input": true,
    "_kg_hide-output": true,
    "execution": {
     "iopub.execute_input": "2022-08-30T19:29:34.010624Z",
     "iopub.status.busy": "2022-08-30T19:29:34.008753Z",
     "iopub.status.idle": "2022-08-30T19:29:34.059481Z",
     "shell.execute_reply": "2022-08-30T19:29:34.058554Z"
    },
    "papermill": {
     "duration": 0.087527,
     "end_time": "2022-08-30T19:29:34.061682",
     "exception": false,
     "start_time": "2022-08-30T19:29:33.974155",
     "status": "completed"
    },
    "tags": []
   },
   "outputs": [
    {
     "data": {
      "text/html": [
       "\n",
       "<script src=\"https://d3js.org/d3.v6.min.js\"></script>\n",
       "<div id=\"tree_plot_da7ba6489ee7465f9a411cc4f284012f\"></div>\n",
       "<script>\n",
       "/*\n",
       " * Copyright 2021 Google LLC.\n",
       " * Licensed under the Apache License, Version 2.0 (the \"License\");\n",
       " * you may not use this file except in compliance with the License.\n",
       " * You may obtain a copy of the License at\n",
       " *\n",
       " *     https://www.apache.org/licenses/LICENSE-2.0\n",
       " *\n",
       " * Unless required by applicable law or agreed to in writing, software\n",
       " * distributed under the License is distributed on an \"AS IS\" BASIS,\n",
       " * WITHOUT WARRANTIES OR CONDITIONS OF ANY KIND, either express or implied.\n",
       " * See the License for the specific language governing permissions and\n",
       " * limitations under the License.\n",
       " */\n",
       "\n",
       "/**\n",
       " *  Plotting of decision trees generated by TF-DF.\n",
       " *\n",
       " *  A tree is a recursive structure of node objects.\n",
       " *  A node contains one or more of the following components:\n",
       " *\n",
       " *    - A value: Representing the output of the node. If the node is not a leaf,\n",
       " *      the value is only present for analysis i.e. it is not used for\n",
       " *      predictions.\n",
       " *\n",
       " *    - A condition : For non-leaf nodes, the condition (also known as split)\n",
       " *      defines a binary test to branch to the positive or negative child.\n",
       " *\n",
       " *    - An explanation: Generally a plot showing the relation between the label\n",
       " *      and the condition to give insights about the effect of the condition.\n",
       " *\n",
       " *    - Two children : For non-leaf nodes, the children nodes. The first\n",
       " *      children (i.e. \"node.children[0]\") is the negative children (drawn in\n",
       " *      red). The second children is the positive one (drawn in green).\n",
       " *\n",
       " */\n",
       "\n",
       "/**\n",
       " * Plots a single decision tree into a DOM element.\n",
       " * @param {!options} options Dictionary of configurations.\n",
       " * @param {!tree} raw_tree Recursive tree structure.\n",
       " * @param {string} canvas_id Id of the output dom element.\n",
       " */\n",
       "function display_tree(options, raw_tree, canvas_id) {\n",
       "  console.log(options);\n",
       "\n",
       "  // Determine the node placement.\n",
       "  const tree_struct = d3.tree().nodeSize(\n",
       "      [options.node_y_offset, options.node_x_offset])(d3.hierarchy(raw_tree));\n",
       "\n",
       "  // Boundaries of the node placement.\n",
       "  let x_min = Infinity;\n",
       "  let x_max = -x_min;\n",
       "  let y_min = Infinity;\n",
       "  let y_max = -x_min;\n",
       "\n",
       "  tree_struct.each(d => {\n",
       "    if (d.x > x_max) x_max = d.x;\n",
       "    if (d.x < x_min) x_min = d.x;\n",
       "    if (d.y > y_max) y_max = d.y;\n",
       "    if (d.y < y_min) y_min = d.y;\n",
       "  });\n",
       "\n",
       "  // Size of the plot.\n",
       "  const width = y_max - y_min + options.node_x_size + options.margin * 2;\n",
       "  const height = x_max - x_min + options.node_y_size + options.margin * 2 +\n",
       "      options.node_y_offset - options.node_y_size;\n",
       "\n",
       "  const plot = d3.select(canvas_id);\n",
       "\n",
       "  // Tool tip\n",
       "  options.tooltip = plot.append('div')\n",
       "                        .attr('width', 100)\n",
       "                        .attr('height', 100)\n",
       "                        .style('padding', '4px')\n",
       "                        .style('background', '#fff')\n",
       "                        .style('box-shadow', '4px 4px 0px rgba(0,0,0,0.1)')\n",
       "                        .style('border', '1px solid black')\n",
       "                        .style('font-family', 'sans-serif')\n",
       "                        .style('font-size', options.font_size)\n",
       "                        .style('position', 'absolute')\n",
       "                        .style('z-index', '10')\n",
       "                        .attr('pointer-events', 'none')\n",
       "                        .style('display', 'none');\n",
       "\n",
       "  // Create canvas\n",
       "  const svg = plot.append('svg').attr('width', width).attr('height', height);\n",
       "  const graph =\n",
       "      svg.style('overflow', 'visible')\n",
       "          .append('g')\n",
       "          .attr('font-family', 'sans-serif')\n",
       "          .attr('font-size', options.font_size)\n",
       "          .attr(\n",
       "              'transform',\n",
       "              () => `translate(${options.margin},${\n",
       "                  - x_min + options.node_y_offset / 2 + options.margin})`);\n",
       "\n",
       "  // Plot bounding box.\n",
       "  if (options.show_plot_bounding_box) {\n",
       "    svg.append('rect')\n",
       "        .attr('width', width)\n",
       "        .attr('height', height)\n",
       "        .attr('fill', 'none')\n",
       "        .attr('stroke-width', 1.0)\n",
       "        .attr('stroke', 'black');\n",
       "  }\n",
       "\n",
       "  // Draw the edges.\n",
       "  display_edges(options, graph, tree_struct);\n",
       "\n",
       "  // Draw the nodes.\n",
       "  display_nodes(options, graph, tree_struct);\n",
       "}\n",
       "\n",
       "/**\n",
       " * Draw the nodes of the tree.\n",
       " * @param {!options} options Dictionary of configurations.\n",
       " * @param {!graph} graph D3 search handle containing the graph.\n",
       " * @param {!tree_struct} tree_struct Structure of the tree (node placement,\n",
       " *     data, etc.).\n",
       " */\n",
       "function display_nodes(options, graph, tree_struct) {\n",
       "  const nodes = graph.append('g')\n",
       "                    .selectAll('g')\n",
       "                    .data(tree_struct.descendants())\n",
       "                    .join('g')\n",
       "                    .attr('transform', d => `translate(${d.y},${d.x})`);\n",
       "\n",
       "  nodes.append('rect')\n",
       "      .attr('x', 0.5)\n",
       "      .attr('y', 0.5)\n",
       "      .attr('width', options.node_x_size)\n",
       "      .attr('height', options.node_y_size)\n",
       "      .attr('stroke', 'lightgrey')\n",
       "      .attr('stroke-width', 1)\n",
       "      .attr('fill', 'white')\n",
       "      .attr('y', -options.node_y_size / 2);\n",
       "\n",
       "  // Brackets on the right of condition nodes without children.\n",
       "  non_leaf_node_without_children =\n",
       "      nodes.filter(node => node.data.condition != null && node.children == null)\n",
       "          .append('g')\n",
       "          .attr('transform', `translate(${options.node_x_size},0)`);\n",
       "\n",
       "  non_leaf_node_without_children.append('path')\n",
       "      .attr('d', 'M0,0 C 10,0 0,10 10,10')\n",
       "      .attr('fill', 'none')\n",
       "      .attr('stroke-width', 1.0)\n",
       "      .attr('stroke', '#F00');\n",
       "\n",
       "  non_leaf_node_without_children.append('path')\n",
       "      .attr('d', 'M0,0 C 10,0 0,-10 10,-10')\n",
       "      .attr('fill', 'none')\n",
       "      .attr('stroke-width', 1.0)\n",
       "      .attr('stroke', '#0F0');\n",
       "\n",
       "  const node_content = nodes.append('g').attr(\n",
       "      'transform',\n",
       "      `translate(0,${options.node_padding - options.node_y_size / 2})`);\n",
       "\n",
       "  node_content.append(node => create_node_element(options, node));\n",
       "}\n",
       "\n",
       "/**\n",
       " * Creates the D3 content for a single node.\n",
       " * @param {!options} options Dictionary of configurations.\n",
       " * @param {!node} node Node to draw.\n",
       " * @return {!d3} D3 content.\n",
       " */\n",
       "function create_node_element(options, node) {\n",
       "  // Output accumulator.\n",
       "  let output = {\n",
       "    // Content to draw.\n",
       "    content: d3.create('svg:g'),\n",
       "    // Vertical offset to the next element to draw.\n",
       "    vertical_offset: 0\n",
       "  };\n",
       "\n",
       "  // Conditions.\n",
       "  if (node.data.condition != null) {\n",
       "    display_condition(options, node.data.condition, output);\n",
       "  }\n",
       "\n",
       "  // Values.\n",
       "  if (node.data.value != null) {\n",
       "    display_value(options, node.data.value, output);\n",
       "  }\n",
       "\n",
       "  // Explanations.\n",
       "  if (node.data.explanation != null) {\n",
       "    display_explanation(options, node.data.explanation, output);\n",
       "  }\n",
       "\n",
       "  return output.content.node();\n",
       "}\n",
       "\n",
       "\n",
       "/**\n",
       " * Adds a single line of text inside of a node.\n",
       " * @param {!options} options Dictionary of configurations.\n",
       " * @param {string} text Text to display.\n",
       " * @param {!output} output Output display accumulator.\n",
       " */\n",
       "function display_node_text(options, text, output) {\n",
       "  output.content.append('text')\n",
       "      .attr('x', options.node_padding)\n",
       "      .attr('y', output.vertical_offset)\n",
       "      .attr('alignment-baseline', 'hanging')\n",
       "      .text(text);\n",
       "  output.vertical_offset += 10;\n",
       "}\n",
       "\n",
       "/**\n",
       " * Adds a single line of text inside of a node with a tooltip.\n",
       " * @param {!options} options Dictionary of configurations.\n",
       " * @param {string} text Text to display.\n",
       " * @param {string} tooltip Text in the Tooltip.\n",
       " * @param {!output} output Output display accumulator.\n",
       " */\n",
       "function display_node_text_with_tooltip(options, text, tooltip, output) {\n",
       "  const item = output.content.append('text')\n",
       "                   .attr('x', options.node_padding)\n",
       "                   .attr('alignment-baseline', 'hanging')\n",
       "                   .text(text);\n",
       "\n",
       "  add_tooltip(options, item, () => tooltip);\n",
       "  output.vertical_offset += 10;\n",
       "}\n",
       "\n",
       "/**\n",
       " * Adds a tooltip to a dom element.\n",
       " * @param {!options} options Dictionary of configurations.\n",
       " * @param {!dom} target Dom element to equip with a tooltip.\n",
       " * @param {!func} get_content Generates the html content of the tooltip.\n",
       " */\n",
       "function add_tooltip(options, target, get_content) {\n",
       "  function show(d) {\n",
       "    options.tooltip.style('display', 'block');\n",
       "    options.tooltip.html(get_content());\n",
       "  }\n",
       "\n",
       "  function hide(d) {\n",
       "    options.tooltip.style('display', 'none');\n",
       "  }\n",
       "\n",
       "  function move(d) {\n",
       "    options.tooltip.style('display', 'block');\n",
       "    options.tooltip.style('left', (d.pageX + 5) + 'px');\n",
       "    options.tooltip.style('top', d.pageY + 'px');\n",
       "  }\n",
       "\n",
       "  target.on('mouseover', show);\n",
       "  target.on('mouseout', hide);\n",
       "  target.on('mousemove', move);\n",
       "}\n",
       "\n",
       "/**\n",
       " * Adds a condition inside of a node.\n",
       " * @param {!options} options Dictionary of configurations.\n",
       " * @param {!condition} condition Condition to display.\n",
       " * @param {!output} output Output display accumulator.\n",
       " */\n",
       "function display_condition(options, condition, output) {\n",
       "  threshold_format = d3.format('r');\n",
       "\n",
       "  if (condition.type === 'IS_MISSING') {\n",
       "    display_node_text(options, `${condition.attribute} is missing`, output);\n",
       "    return;\n",
       "  }\n",
       "\n",
       "  if (condition.type === 'IS_TRUE') {\n",
       "    display_node_text(options, `${condition.attribute} is true`, output);\n",
       "    return;\n",
       "  }\n",
       "\n",
       "  if (condition.type === 'NUMERICAL_IS_HIGHER_THAN') {\n",
       "    format = d3.format('r');\n",
       "    display_node_text(\n",
       "        options,\n",
       "        `${condition.attribute} >= ${threshold_format(condition.threshold)}`,\n",
       "        output);\n",
       "    return;\n",
       "  }\n",
       "\n",
       "  if (condition.type === 'CATEGORICAL_IS_IN') {\n",
       "    display_node_text_with_tooltip(\n",
       "        options, `${condition.attribute} in [...]`,\n",
       "        `${condition.attribute} in [${condition.mask}]`, output);\n",
       "    return;\n",
       "  }\n",
       "\n",
       "  if (condition.type === 'CATEGORICAL_SET_CONTAINS') {\n",
       "    display_node_text_with_tooltip(\n",
       "        options, `${condition.attribute} intersect [...]`,\n",
       "        `${condition.attribute} intersect [${condition.mask}]`, output);\n",
       "    return;\n",
       "  }\n",
       "\n",
       "  if (condition.type === 'NUMERICAL_SPARSE_OBLIQUE') {\n",
       "    display_node_text_with_tooltip(\n",
       "        options, `Sparse oblique split...`,\n",
       "        `[${condition.attributes}]*[${condition.weights}]>=${\n",
       "            threshold_format(condition.threshold)}`,\n",
       "        output);\n",
       "    return;\n",
       "  }\n",
       "\n",
       "  display_node_text(\n",
       "      options, `Non supported condition ${condition.type}`, output);\n",
       "}\n",
       "\n",
       "/**\n",
       " * Adds a value inside of a node.\n",
       " * @param {!options} options Dictionary of configurations.\n",
       " * @param {!value} value Value to display.\n",
       " * @param {!output} output Output display accumulator.\n",
       " */\n",
       "function display_value(options, value, output) {\n",
       "  if (value.type === 'PROBABILITY') {\n",
       "    const left_margin = 0;\n",
       "    const right_margin = 50;\n",
       "    const plot_width = options.node_x_size - options.node_padding * 2 -\n",
       "        left_margin - right_margin;\n",
       "\n",
       "    let cusum = Array.from(d3.cumsum(value.distribution));\n",
       "    cusum.unshift(0);\n",
       "    const distribution_plot = output.content.append('g').attr(\n",
       "        'transform', `translate(0,${output.vertical_offset + 0.5})`);\n",
       "\n",
       "    distribution_plot.selectAll('rect')\n",
       "        .data(value.distribution)\n",
       "        .join('rect')\n",
       "        .attr('height', 10)\n",
       "        .attr(\n",
       "            'x',\n",
       "            (d, i) =>\n",
       "                (cusum[i] * plot_width + left_margin + options.node_padding))\n",
       "        .attr('width', (d, i) => d * plot_width)\n",
       "        .style('fill', (d, i) => d3.schemeSet1[i]);\n",
       "\n",
       "    const num_examples =\n",
       "        output.content.append('g')\n",
       "            .attr('transform', `translate(0,${output.vertical_offset})`)\n",
       "            .append('text')\n",
       "            .attr('x', options.node_x_size - options.node_padding)\n",
       "            .attr('alignment-baseline', 'hanging')\n",
       "            .attr('text-anchor', 'end')\n",
       "            .text(`(${value.num_examples})`);\n",
       "\n",
       "    const distribution_details = d3.create('ul');\n",
       "    distribution_details.selectAll('li')\n",
       "        .data(value.distribution)\n",
       "        .join('li')\n",
       "        .append('span')\n",
       "        .text(\n",
       "            (d, i) =>\n",
       "                'class ' + i + ': ' + d3.format('.3%')(value.distribution[i]));\n",
       "\n",
       "    add_tooltip(options, distribution_plot, () => distribution_details.html());\n",
       "    add_tooltip(options, num_examples, () => 'Number of examples');\n",
       "\n",
       "    output.vertical_offset += 10;\n",
       "    return;\n",
       "  }\n",
       "\n",
       "  if (value.type === 'REGRESSION') {\n",
       "    display_node_text(\n",
       "        options,\n",
       "        'value: ' + d3.format('r')(value.value) + ` (` +\n",
       "            d3.format('.6')(value.num_examples) + `)`,\n",
       "        output);\n",
       "    return;\n",
       "  }\n",
       "\n",
       "  display_node_text(options, `Non supported value ${value.type}`, output);\n",
       "}\n",
       "\n",
       "/**\n",
       " * Adds an explanation inside of a node.\n",
       " * @param {!options} options Dictionary of configurations.\n",
       " * @param {!explanation} explanation Explanation to display.\n",
       " * @param {!output} output Output display accumulator.\n",
       " */\n",
       "function display_explanation(options, explanation, output) {\n",
       "  // Margin before the explanation.\n",
       "  output.vertical_offset += 10;\n",
       "\n",
       "  display_node_text(\n",
       "      options, `Non supported explanation ${explanation.type}`, output);\n",
       "}\n",
       "\n",
       "\n",
       "/**\n",
       " * Draw the edges of the tree.\n",
       " * @param {!options} options Dictionary of configurations.\n",
       " * @param {!graph} graph D3 search handle containing the graph.\n",
       " * @param {!tree_struct} tree_struct Structure of the tree (node placement,\n",
       " *     data, etc.).\n",
       " */\n",
       "function display_edges(options, graph, tree_struct) {\n",
       "  // Draw an edge between a parent and a child node with a bezier.\n",
       "  function draw_single_edge(d) {\n",
       "    return 'M' + (d.source.y + options.node_x_size) + ',' + d.source.x + ' C' +\n",
       "        (d.source.y + options.node_x_size + options.edge_rounding) + ',' +\n",
       "        d.source.x + ' ' + (d.target.y - options.edge_rounding) + ',' +\n",
       "        d.target.x + ' ' + d.target.y + ',' + d.target.x;\n",
       "  }\n",
       "\n",
       "  graph.append('g')\n",
       "      .attr('fill', 'none')\n",
       "      .attr('stroke-width', 1.2)\n",
       "      .selectAll('path')\n",
       "      .data(tree_struct.links())\n",
       "      .join('path')\n",
       "      .attr('d', draw_single_edge)\n",
       "      .attr(\n",
       "          'stroke', d => (d.target === d.source.children[0]) ? '#0F0' : '#F00');\n",
       "}\n",
       "\n",
       "display_tree({\"margin\": 10, \"node_x_size\": 160, \"node_y_size\": 28, \"node_x_offset\": 180, \"node_y_offset\": 33, \"font_size\": 10, \"edge_rounding\": 20, \"node_padding\": 2, \"show_plot_bounding_box\": false}, {\"value\": {\"type\": \"PROBABILITY\", \"distribution\": [0.7873541588257433, 0.21264584117425667], \"num_examples\": 26570.0}, \"condition\": {\"type\": \"NUMERICAL_IS_HIGHER_THAN\", \"attribute\": \"loading\", \"threshold\": 128.26499938964844}, \"children\": [{\"value\": {\"type\": \"PROBABILITY\", \"distribution\": [0.7328570183845953, 0.26714298161540473], \"num_examples\": 11477.0}, \"condition\": {\"type\": \"NUMERICAL_IS_HIGHER_THAN\", \"attribute\": \"measurement_7\", \"threshold\": 11.807499885559082}, \"children\": [{\"value\": {\"type\": \"PROBABILITY\", \"distribution\": [0.7111892208553017, 0.2888107791446983], \"num_examples\": 5121.0}, \"condition\": {\"type\": \"NUMERICAL_IS_HIGHER_THAN\", \"attribute\": \"measurement_5\", \"threshold\": 18.749500274658203}, \"children\": [{\"value\": {\"type\": \"PROBABILITY\", \"distribution\": [0.6007462686567164, 0.39925373134328357], \"num_examples\": 268.0}, \"condition\": {\"type\": \"NUMERICAL_IS_HIGHER_THAN\", \"attribute\": \"measurement_11\", \"threshold\": 18.33599853515625}}, {\"value\": {\"type\": \"PROBABILITY\", \"distribution\": [0.7172882752936328, 0.2827117247063672], \"num_examples\": 4853.0}, \"condition\": {\"type\": \"NUMERICAL_IS_HIGHER_THAN\", \"attribute\": \"measurement_14\", \"threshold\": 13.316999435424805}}]}, {\"value\": {\"type\": \"PROBABILITY\", \"distribution\": [0.750314663310258, 0.24968533668974197], \"num_examples\": 6356.0}, \"condition\": {\"type\": \"NUMERICAL_IS_HIGHER_THAN\", \"attribute\": \"measurement_0\", \"threshold\": 16.5}, \"children\": [{\"value\": {\"type\": \"PROBABILITY\", \"distribution\": [0.5953757225433526, 0.4046242774566474], \"num_examples\": 173.0}, \"condition\": {\"type\": \"NUMERICAL_IS_HIGHER_THAN\", \"attribute\": \"measurement_6\", \"threshold\": 18.999500274658203}}, {\"value\": {\"type\": \"PROBABILITY\", \"distribution\": [0.7546498463529031, 0.2453501536470969], \"num_examples\": 6183.0}, \"condition\": {\"type\": \"NUMERICAL_IS_HIGHER_THAN\", \"attribute\": \"measurement_5\", \"threshold\": 17.260499954223633}}]}]}, {\"value\": {\"type\": \"PROBABILITY\", \"distribution\": [0.8287948055389915, 0.1712051944610084], \"num_examples\": 15093.0}, \"condition\": {\"type\": \"NUMERICAL_IS_HIGHER_THAN\", \"attribute\": \"measurement_15\", \"threshold\": 20.07849884033203}, \"children\": [{\"value\": {\"type\": \"PROBABILITY\", \"distribution\": [0.2857142857142857, 0.7142857142857143], \"num_examples\": 21.0}, \"condition\": {\"type\": \"NUMERICAL_IS_HIGHER_THAN\", \"attribute\": \"measurement_4\", \"threshold\": 11.951000213623047}, \"children\": [{\"value\": {\"type\": \"PROBABILITY\", \"distribution\": [1.0, 0.0], \"num_examples\": 5.0}}, {\"value\": {\"type\": \"PROBABILITY\", \"distribution\": [0.0625, 0.9375], \"num_examples\": 16.0}, \"condition\": {\"type\": \"NUMERICAL_IS_HIGHER_THAN\", \"attribute\": \"measurement_16\", \"threshold\": 19.06549835205078}}]}, {\"value\": {\"type\": \"PROBABILITY\", \"distribution\": [0.8295514861995754, 0.17044851380042464], \"num_examples\": 15072.0}, \"condition\": {\"type\": \"NUMERICAL_IS_HIGHER_THAN\", \"attribute\": \"loading\", \"threshold\": 93.83499908447266}, \"children\": [{\"value\": {\"type\": \"PROBABILITY\", \"distribution\": [0.8112556672580328, 0.18874433274196728], \"num_examples\": 10146.0}, \"condition\": {\"type\": \"NUMERICAL_IS_HIGHER_THAN\", \"attribute\": \"measurement_6\", \"threshold\": 15.787500381469727}}, {\"value\": {\"type\": \"PROBABILITY\", \"distribution\": [0.8672350791717418, 0.13276492082825822], \"num_examples\": 4926.0}, \"condition\": {\"type\": \"NUMERICAL_IS_HIGHER_THAN\", \"attribute\": \"measurement_17\", \"threshold\": 644.1610107421875}}]}]}]}, \"#tree_plot_da7ba6489ee7465f9a411cc4f284012f\")\n",
       "</script>\n"
      ],
      "text/plain": [
       "<IPython.core.display.HTML object>"
      ]
     },
     "execution_count": 14,
     "metadata": {},
     "output_type": "execute_result"
    }
   ],
   "source": [
    "# Visualize the model\n",
    "# Currently this step works in the Kaggle Notebook Editor but unfortunately displays an empty/blank visualization in the Notebook Viewer\n",
    "tfdf.model_plotter.plot_model_in_colab(rf_model, tree_idx=0, max_depth=3)"
   ]
  },
  {
   "cell_type": "markdown",
   "id": "665cf54c",
   "metadata": {
    "papermill": {
     "duration": 0.033874,
     "end_time": "2022-08-30T19:29:34.129547",
     "exception": false,
     "start_time": "2022-08-30T19:29:34.095673",
     "status": "completed"
    },
    "tags": []
   },
   "source": [
    "Step 7: Evaluate your Random Forest Model"
   ]
  },
  {
   "cell_type": "code",
   "execution_count": 15,
   "id": "00fa3796",
   "metadata": {
    "execution": {
     "iopub.execute_input": "2022-08-30T19:29:34.257022Z",
     "iopub.status.busy": "2022-08-30T19:29:34.256065Z",
     "iopub.status.idle": "2022-08-30T19:29:34.732263Z",
     "shell.execute_reply": "2022-08-30T19:29:34.731183Z"
    },
    "papermill": {
     "duration": 0.566361,
     "end_time": "2022-08-30T19:29:34.737915",
     "exception": false,
     "start_time": "2022-08-30T19:29:34.171554",
     "status": "completed"
    },
    "tags": []
   },
   "outputs": [
    {
     "data": {
      "image/png": "[encoded data removed]",
      "text/plain": [
       "<Figure size 864x288 with 2 Axes>"
      ]
     },
     "metadata": {
      "needs_background": "light"
     },
     "output_type": "display_data"
    }
   ],
   "source": [
    "plot_tfdf_model_training_curves(rf_model)"
   ]
  },
  {
   "cell_type": "code",
   "execution_count": 16,
   "id": "7d8afad0",
   "metadata": {
    "execution": {
     "iopub.execute_input": "2022-08-30T19:29:34.908711Z",
     "iopub.status.busy": "2022-08-30T19:29:34.908156Z",
     "iopub.status.idle": "2022-08-30T19:29:34.923093Z",
     "shell.execute_reply": "2022-08-30T19:29:34.922055Z"
    },
    "papermill": {
     "duration": 0.10443,
     "end_time": "2022-08-30T19:29:34.926530",
     "exception": false,
     "start_time": "2022-08-30T19:29:34.822100",
     "status": "completed"
    },
    "tags": []
   },
   "outputs": [
    {
     "data": {
      "text/plain": [
       "Evaluation(num_examples=23872, accuracy=0.7727463136729222, loss=7.226018259719378, rmse=None, ndcg=None, aucs=None, auuc=None, qini=None)"
      ]
     },
     "execution_count": 16,
     "metadata": {},
     "output_type": "execute_result"
    }
   ],
   "source": [
    "inspector = rf_model.make_inspector()\n",
    "inspector.evaluation()"
   ]
  },
  {
   "cell_type": "code",
   "execution_count": 17,
   "id": "f2fd4372",
   "metadata": {
    "execution": {
     "iopub.execute_input": "2022-08-30T19:29:35.096009Z",
     "iopub.status.busy": "2022-08-30T19:29:35.095520Z",
     "iopub.status.idle": "2022-08-30T19:29:36.927758Z",
     "shell.execute_reply": "2022-08-30T19:29:36.926274Z"
    },
    "papermill": {
     "duration": 1.919654,
     "end_time": "2022-08-30T19:29:36.931406",
     "exception": false,
     "start_time": "2022-08-30T19:29:35.011752",
     "status": "completed"
    },
    "tags": []
   },
   "outputs": [
    {
     "name": "stdout",
     "output_type": "stream",
     "text": [
      "27/27 [==============================] - 2s 29ms/step - loss: 0.0000e+00 - auc: 0.7408\n"
     ]
    },
    {
     "data": {
      "text/plain": [
       "[0.0, 0.7408074140548706]"
      ]
     },
     "execution_count": 17,
     "metadata": {},
     "output_type": "execute_result"
    }
   ],
   "source": [
    "rf_model.evaluate(train_tfds)"
   ]
  },
  {
   "cell_type": "code",
   "execution_count": 18,
   "id": "b5d63e0e",
   "metadata": {
    "execution": {
     "iopub.execute_input": "2022-08-30T19:29:37.234922Z",
     "iopub.status.busy": "2022-08-30T19:29:37.234327Z",
     "iopub.status.idle": "2022-08-30T19:29:37.243450Z",
     "shell.execute_reply": "2022-08-30T19:29:37.242379Z"
    },
    "papermill": {
     "duration": 0.204795,
     "end_time": "2022-08-30T19:29:37.252343",
     "exception": false,
     "start_time": "2022-08-30T19:29:37.047548",
     "status": "completed"
    },
    "tags": []
   },
   "outputs": [
    {
     "name": "stdout",
     "output_type": "stream",
     "text": [
      "Model type: RANDOM_FOREST\n",
      "Objective: Classification(label=__LABEL, class=None, num_classes=2)\n",
      "Evaluation: Evaluation(num_examples=23872, accuracy=0.7727463136729222, loss=7.226018259719378, rmse=None, ndcg=None, aucs=None, auuc=None, qini=None)\n"
     ]
    }
   ],
   "source": [
    "print(\"Model type:\", inspector.model_type())\n",
    "print(\"Objective:\", inspector.objective())\n",
    "print(\"Evaluation:\", inspector.evaluation())"
   ]
  },
  {
   "cell_type": "markdown",
   "id": "7b5c7530",
   "metadata": {
    "papermill": {
     "duration": 0.129034,
     "end_time": "2022-08-30T19:29:37.541773",
     "exception": false,
     "start_time": "2022-08-30T19:29:37.412739",
     "status": "completed"
    },
    "tags": []
   },
   "source": [
    "77% accuracy and 0.74 AUC-ROC is not a bad baseline result given how few lines of code were required to get that result.  To get to the top of the leaderboard it will be important to do add in a few additional code cells where and spend some time doing some feature engineering and feature selection (these steps were intentionally skipped in this tutorial for the sake of brevity). You can learn more about these concepts by reviewing the relevant Kaggle Learn exercise [here]((https://www.kaggle.com/learn/feature-engineering))."
   ]
  },
  {
   "cell_type": "markdown",
   "id": "762ffd2c",
   "metadata": {
    "papermill": {
     "duration": 0.084527,
     "end_time": "2022-08-30T19:29:37.714240",
     "exception": false,
     "start_time": "2022-08-30T19:29:37.629713",
     "status": "completed"
    },
    "tags": []
   },
   "source": [
    "Step 8: Investigate variable importances for the RandomForest model"
   ]
  },
  {
   "cell_type": "markdown",
   "id": "b8412a8c",
   "metadata": {
    "papermill": {
     "duration": 0.083215,
     "end_time": "2022-08-30T19:29:37.882050",
     "exception": false,
     "start_time": "2022-08-30T19:29:37.798835",
     "status": "completed"
    },
    "tags": []
   },
   "source": [
    "\n",
    "Variable importances (VI) describe the impact of each feature to the model.\n",
    " - > VIs generally indicates how much a variable contributes to the model predictions or quality. Different VIs have different semantics and are generally not comparable.\n",
    " - > The VIs returned by variable_importances() depends on the learning algorithm and its hyper-parameters. For example, the hyperparameter compute_oob_variable_importances=True of the Random Forest learner enables the computation of permutation out-of-bag variable importances.\n",
    " - > Variable importances can be obtained with tfdf.inspector.make_inspector(path).variable_importances().\n",
    "\n",
    "The available variable importances are:\n",
    " - > Model agnostic\n",
    "  - > MEAN_{INCREASE,DECREASE}_IN_{metric}: Estimated metric change from removing a feature using permutation importance . Depending on the learning algorithm and hyper-parameters, the VIs can be computed with validation, cross-validation or out-of-bag. For example, the MEAN_DECREASE_IN_ACCURACY of a feature is the drop in accuracy (the larger, the most important the feature) caused by shuffling the values of a features. For example, MEAN_DECREASE_IN_AUC_3_VS_OTHERS is the expected drop in AUC when comparing the label class \"3\" to the others.\n",
    " - > Decision Forests specific\n",
    "  - > SUM_SCORE: Sum of the split scores using a specific feature. The larger, the most important.\n",
    "  - > NUM_AS_ROOT: Number of root nodes using a specific feature. The larger, the most important.\n",
    "  - > NUM_NODES: Number of nodes using a specific feature. The larger, the most important.\n",
    "  - > MEAN_MIN_DEPTH: Average minimum depth of the first occurence of a feature across all the tree paths. The smaller, the most important.\n",
    "  \n",
    "\n",
    "~ Quoted from [TensorFlow Decision Forests](https://www.tensorflow.org/decision_forests/api_docs/python/tfdf/inspector/AbstractInspector#variable_importances) documentation and [yggdrasil-decision-forests](https://github.com/google/yggdrasil-decision-forests/blob/main/documentation/user_manual.md#variable-importances) documentation.\n"
   ]
  },
  {
   "cell_type": "code",
   "execution_count": 19,
   "id": "6ae981e7",
   "metadata": {
    "execution": {
     "iopub.execute_input": "2022-08-30T19:29:38.052058Z",
     "iopub.status.busy": "2022-08-30T19:29:38.051575Z",
     "iopub.status.idle": "2022-08-30T19:29:38.061011Z",
     "shell.execute_reply": "2022-08-30T19:29:38.059937Z"
    },
    "papermill": {
     "duration": 0.103288,
     "end_time": "2022-08-30T19:29:38.069269",
     "exception": false,
     "start_time": "2022-08-30T19:29:37.965981",
     "status": "completed"
    },
    "tags": []
   },
   "outputs": [
    {
     "name": "stdout",
     "output_type": "stream",
     "text": [
      "Available variable importances:\n",
      "\t SUM_SCORE\n",
      "\t MEAN_MIN_DEPTH\n",
      "\t NUM_AS_ROOT\n",
      "\t NUM_NODES\n"
     ]
    }
   ],
   "source": [
    "# Adapted from https://www.tensorflow.org/decision_forests/tutorials/advanced_colab\n",
    "# See list of inspector methods from:\n",
    "# [field for field in dir(inspector) if not field.startswith(\"_\")]\n",
    "print(f\"Available variable importances:\")\n",
    "for importance in inspector.variable_importances().keys():\n",
    "  print(\"\\t\", importance)"
   ]
  },
  {
   "cell_type": "markdown",
   "id": "cff43dd8",
   "metadata": {
    "papermill": {
     "duration": 0.084194,
     "end_time": "2022-08-30T19:29:38.239466",
     "exception": false,
     "start_time": "2022-08-30T19:29:38.155272",
     "status": "completed"
    },
    "tags": []
   },
   "source": [
    "Variable importances describe how each feature impacts the model."
   ]
  },
  {
   "cell_type": "code",
   "execution_count": 20,
   "id": "06ad21ca",
   "metadata": {
    "execution": {
     "iopub.execute_input": "2022-08-30T19:29:38.417168Z",
     "iopub.status.busy": "2022-08-30T19:29:38.416650Z",
     "iopub.status.idle": "2022-08-30T19:29:38.432212Z",
     "shell.execute_reply": "2022-08-30T19:29:38.431193Z"
    },
    "papermill": {
     "duration": 0.106404,
     "end_time": "2022-08-30T19:29:38.435453",
     "exception": false,
     "start_time": "2022-08-30T19:29:38.329049",
     "status": "completed"
    },
    "tags": []
   },
   "outputs": [
    {
     "data": {
      "text/plain": [
       "[(\"loading\" (1; #4), 2072.7757608818356),\n",
       " (\"measurement_4\" (1; #17), 1094.722292935301),\n",
       " (\"measurement_12\" (1; #9), 1087.160953161394),\n",
       " (\"measurement_17\" (1; #14), 1064.7174628162174),\n",
       " (\"measurement_8\" (1; #21), 1049.731318154605),\n",
       " (\"measurement_9\" (1; #22), 1034.330689098977),\n",
       " (\"measurement_7\" (1; #20), 1015.8007610648638),\n",
       " (\"measurement_5\" (1; #18), 1015.3928160857758),\n",
       " (\"measurement_14\" (1; #11), 1014.0916573925642),\n",
       " (\"measurement_15\" (1; #12), 999.2392714523012),\n",
       " (\"measurement_6\" (1; #19), 978.4510788015323),\n",
       " (\"measurement_3\" (1; #16), 969.4374444499263),\n",
       " (\"measurement_10\" (1; #7), 931.1798158658785),\n",
       " (\"measurement_13\" (1; #10), 925.5084871658473),\n",
       " (\"measurement_16\" (1; #13), 906.2425026113633),\n",
       " (\"measurement_11\" (1; #8), 892.262577046873),\n",
       " (\"measurement_0\" (1; #5), 550.0289282731828),\n",
       " (\"measurement_1\" (1; #6), 498.98054228164256),\n",
       " (\"measurement_2\" (1; #15), 459.3540888214484),\n",
       " (\"product_code\" (4; #23), 433.0003415090032),\n",
       " (\"attribute_1\" (4; #1), 163.86844906397164),\n",
       " (\"attribute_2\" (1; #2), 103.36153030442074),\n",
       " (\"attribute_3\" (1; #3), 98.71510226558894),\n",
       " (\"attribute_0\" (4; #0), 45.15537712420337)]"
      ]
     },
     "execution_count": 20,
     "metadata": {},
     "output_type": "execute_result"
    }
   ],
   "source": [
    "inspector.variable_importances()[\"SUM_SCORE\"]"
   ]
  },
  {
   "cell_type": "markdown",
   "id": "e16f191f",
   "metadata": {
    "papermill": {
     "duration": 0.085773,
     "end_time": "2022-08-30T19:29:38.607447",
     "exception": false,
     "start_time": "2022-08-30T19:29:38.521674",
     "status": "completed"
    },
    "tags": []
   },
   "source": [
    "Here we can see that our model thinks that the most important feature is the status of the \"loading\" column.\n",
    "\n",
    "Using the RandomForest model we were able to achieve 77% accuracy and 0.74 AUC-ROC. This isn't necessarily a great result.  To get to the top of the leaderboard it will be important to do add in a few additional code cells where and spend some time doing some feature engineering and feature selection (as mentioned previously).  In the meantime, let's evaluate if simply swapping out the RandomForest for a GradientBoostedTrees model is enough to improve our result."
   ]
  },
  {
   "cell_type": "markdown",
   "id": "282da87e",
   "metadata": {
    "papermill": {
     "duration": 0.086322,
     "end_time": "2022-08-30T19:29:38.783705",
     "exception": false,
     "start_time": "2022-08-30T19:29:38.697383",
     "status": "completed"
    },
    "tags": []
   },
   "source": [
    "# GradientBoostedTrees\n",
    "\n",
    "Next we will take our training data and we will use it to train a Gradient Boosted model (to predict whether a given piece of machinery is in a state of \"0\" or \"1\")."
   ]
  },
  {
   "cell_type": "markdown",
   "id": "341e2f1c",
   "metadata": {
    "papermill": {
     "duration": 0.085488,
     "end_time": "2022-08-30T19:29:38.953508",
     "exception": false,
     "start_time": "2022-08-30T19:29:38.868020",
     "status": "completed"
    },
    "tags": []
   },
   "source": [
    "Step 9: Train a [GradientBoostedTrees](https://statweb.stanford.edu/~jhf/ftp/trebst.pdf) model.  GradientBoostedTrees often perform better than the RandomForests we were using previously.\n",
    "\n",
    "\n",
    "\n",
    "> \"A GBT (Gradient Boosted Tree) is a set of shallow decision trees trained sequentially. Each tree is trained to predict and then \"correct\" for the errors of the previously trained trees (more precisely each tree predict the gradient of the loss relative to the model output)\"\n",
    "\n",
    "\n",
    "\n",
    " ~ Quoted from [TFDF GradientBoostedTrees documentation ](https://www.tensorflow.org/decision_forests/api_docs/python/tfdf/keras/GradientBoostedTreesModel)\n"
   ]
  },
  {
   "cell_type": "code",
   "execution_count": 21,
   "id": "04059131",
   "metadata": {
    "execution": {
     "iopub.execute_input": "2022-08-30T19:29:39.132798Z",
     "iopub.status.busy": "2022-08-30T19:29:39.132280Z",
     "iopub.status.idle": "2022-08-30T19:29:39.139400Z",
     "shell.execute_reply": "2022-08-30T19:29:39.138265Z"
    },
    "papermill": {
     "duration": 0.105993,
     "end_time": "2022-08-30T19:29:39.147450",
     "exception": false,
     "start_time": "2022-08-30T19:29:39.041457",
     "status": "completed"
    },
    "tags": []
   },
   "outputs": [
    {
     "name": "stdout",
     "output_type": "stream",
     "text": [
      "[HyperParameterTemplate(name='better_default', version=1, parameters={'growing_strategy': 'BEST_FIRST_GLOBAL'}, description='A configuration that is generally better than the default parameters without being more expensive.'), HyperParameterTemplate(name='benchmark_rank1', version=1, parameters={'growing_strategy': 'BEST_FIRST_GLOBAL', 'categorical_algorithm': 'RANDOM', 'split_axis': 'SPARSE_OBLIQUE', 'sparse_oblique_normalization': 'MIN_MAX', 'sparse_oblique_num_projections_exponent': 1.0}, description='Top ranking hyper-parameters on our benchmark slightly modified to run in reasonable time.')]\n"
     ]
    }
   ],
   "source": [
    "# As mentioned previously, TF-DF gives you lots of different \"default\" hyper-parameter settings to choose from.\n",
    "print(tfdf.keras.GradientBoostedTreesModel.predefined_hyperparameters())"
   ]
  },
  {
   "cell_type": "code",
   "execution_count": 22,
   "id": "ad56d9e0",
   "metadata": {
    "_kg_hide-output": true,
    "execution": {
     "iopub.execute_input": "2022-08-30T19:29:39.322242Z",
     "iopub.status.busy": "2022-08-30T19:29:39.321754Z",
     "iopub.status.idle": "2022-08-30T19:29:49.610236Z",
     "shell.execute_reply": "2022-08-30T19:29:49.609322Z"
    },
    "papermill": {
     "duration": 10.377755,
     "end_time": "2022-08-30T19:29:49.612537",
     "exception": false,
     "start_time": "2022-08-30T19:29:39.234782",
     "status": "completed"
    },
    "tags": []
   },
   "outputs": [
    {
     "name": "stdout",
     "output_type": "stream",
     "text": [
      "Resolve hyper-parameter template \"benchmark_rank1@v1\" to \"benchmark_rank1@v1\" -> {'growing_strategy': 'BEST_FIRST_GLOBAL', 'categorical_algorithm': 'RANDOM', 'split_axis': 'SPARSE_OBLIQUE', 'sparse_oblique_normalization': 'MIN_MAX', 'sparse_oblique_num_projections_exponent': 1.0}.\n",
      "Use /tmp/tmpu_yishid as temporary training directory\n",
      "Reading training dataset...\n",
      "Training dataset read in 0:00:00.881669. Found 26570 examples.\n",
      "Training model...\n",
      "Model trained in 0:00:09.105140\n",
      "Compiling model...\n"
     ]
    },
    {
     "name": "stderr",
     "output_type": "stream",
     "text": [
      "[INFO kernel.cc:1176] Loading model from path /tmp/tmpu_yishid/model/ with prefix 3ffa19a89ac54988\n",
      "[INFO abstract_model.cc:1248] Engine \"GradientBoostedTreesGeneric\" built\n",
      "[INFO kernel.cc:1022] Use fast generic engine\n"
     ]
    },
    {
     "name": "stdout",
     "output_type": "stream",
     "text": [
      "Model compiled.\n"
     ]
    },
    {
     "data": {
      "text/plain": [
       "<keras.callbacks.History at 0x7f3cb16a7b50>"
      ]
     },
     "execution_count": 22,
     "metadata": {},
     "output_type": "execute_result"
    }
   ],
   "source": [
    "# Train the model\n",
    "gb_model = tfdf.keras.GradientBoostedTreesModel(hyperparameter_template=\"benchmark_rank1@v1\",num_trees=50,early_stopping='NONE')\n",
    "gb_model.compile(metrics=[tf.keras.metrics.AUC(curve=\"ROC\")])\n",
    "gb_model.fit(x=train_tfds)"
   ]
  },
  {
   "cell_type": "code",
   "execution_count": 23,
   "id": "dc09d00f",
   "metadata": {
    "_kg_hide-input": true,
    "_kg_hide-output": true,
    "execution": {
     "iopub.execute_input": "2022-08-30T19:29:49.684689Z",
     "iopub.status.busy": "2022-08-30T19:29:49.683769Z",
     "iopub.status.idle": "2022-08-30T19:29:49.697691Z",
     "shell.execute_reply": "2022-08-30T19:29:49.696827Z"
    },
    "papermill": {
     "duration": 0.051667,
     "end_time": "2022-08-30T19:29:49.699715",
     "exception": false,
     "start_time": "2022-08-30T19:29:49.648048",
     "status": "completed"
    },
    "tags": []
   },
   "outputs": [
    {
     "data": {
      "text/html": [
       "\n",
       "<script src=\"https://d3js.org/d3.v6.min.js\"></script>\n",
       "<div id=\"tree_plot_d85c5f1fb154456db54bc8a408da9a0a\"></div>\n",
       "<script>\n",
       "/*\n",
       " * Copyright 2021 Google LLC.\n",
       " * Licensed under the Apache License, Version 2.0 (the \"License\");\n",
       " * you may not use this file except in compliance with the License.\n",
       " * You may obtain a copy of the License at\n",
       " *\n",
       " *     https://www.apache.org/licenses/LICENSE-2.0\n",
       " *\n",
       " * Unless required by applicable law or agreed to in writing, software\n",
       " * distributed under the License is distributed on an \"AS IS\" BASIS,\n",
       " * WITHOUT WARRANTIES OR CONDITIONS OF ANY KIND, either express or implied.\n",
       " * See the License for the specific language governing permissions and\n",
       " * limitations under the License.\n",
       " */\n",
       "\n",
       "/**\n",
       " *  Plotting of decision trees generated by TF-DF.\n",
       " *\n",
       " *  A tree is a recursive structure of node objects.\n",
       " *  A node contains one or more of the following components:\n",
       " *\n",
       " *    - A value: Representing the output of the node. If the node is not a leaf,\n",
       " *      the value is only present for analysis i.e. it is not used for\n",
       " *      predictions.\n",
       " *\n",
       " *    - A condition : For non-leaf nodes, the condition (also known as split)\n",
       " *      defines a binary test to branch to the positive or negative child.\n",
       " *\n",
       " *    - An explanation: Generally a plot showing the relation between the label\n",
       " *      and the condition to give insights about the effect of the condition.\n",
       " *\n",
       " *    - Two children : For non-leaf nodes, the children nodes. The first\n",
       " *      children (i.e. \"node.children[0]\") is the negative children (drawn in\n",
       " *      red). The second children is the positive one (drawn in green).\n",
       " *\n",
       " */\n",
       "\n",
       "/**\n",
       " * Plots a single decision tree into a DOM element.\n",
       " * @param {!options} options Dictionary of configurations.\n",
       " * @param {!tree} raw_tree Recursive tree structure.\n",
       " * @param {string} canvas_id Id of the output dom element.\n",
       " */\n",
       "function display_tree(options, raw_tree, canvas_id) {\n",
       "  console.log(options);\n",
       "\n",
       "  // Determine the node placement.\n",
       "  const tree_struct = d3.tree().nodeSize(\n",
       "      [options.node_y_offset, options.node_x_offset])(d3.hierarchy(raw_tree));\n",
       "\n",
       "  // Boundaries of the node placement.\n",
       "  let x_min = Infinity;\n",
       "  let x_max = -x_min;\n",
       "  let y_min = Infinity;\n",
       "  let y_max = -x_min;\n",
       "\n",
       "  tree_struct.each(d => {\n",
       "    if (d.x > x_max) x_max = d.x;\n",
       "    if (d.x < x_min) x_min = d.x;\n",
       "    if (d.y > y_max) y_max = d.y;\n",
       "    if (d.y < y_min) y_min = d.y;\n",
       "  });\n",
       "\n",
       "  // Size of the plot.\n",
       "  const width = y_max - y_min + options.node_x_size + options.margin * 2;\n",
       "  const height = x_max - x_min + options.node_y_size + options.margin * 2 +\n",
       "      options.node_y_offset - options.node_y_size;\n",
       "\n",
       "  const plot = d3.select(canvas_id);\n",
       "\n",
       "  // Tool tip\n",
       "  options.tooltip = plot.append('div')\n",
       "                        .attr('width', 100)\n",
       "                        .attr('height', 100)\n",
       "                        .style('padding', '4px')\n",
       "                        .style('background', '#fff')\n",
       "                        .style('box-shadow', '4px 4px 0px rgba(0,0,0,0.1)')\n",
       "                        .style('border', '1px solid black')\n",
       "                        .style('font-family', 'sans-serif')\n",
       "                        .style('font-size', options.font_size)\n",
       "                        .style('position', 'absolute')\n",
       "                        .style('z-index', '10')\n",
       "                        .attr('pointer-events', 'none')\n",
       "                        .style('display', 'none');\n",
       "\n",
       "  // Create canvas\n",
       "  const svg = plot.append('svg').attr('width', width).attr('height', height);\n",
       "  const graph =\n",
       "      svg.style('overflow', 'visible')\n",
       "          .append('g')\n",
       "          .attr('font-family', 'sans-serif')\n",
       "          .attr('font-size', options.font_size)\n",
       "          .attr(\n",
       "              'transform',\n",
       "              () => `translate(${options.margin},${\n",
       "                  - x_min + options.node_y_offset / 2 + options.margin})`);\n",
       "\n",
       "  // Plot bounding box.\n",
       "  if (options.show_plot_bounding_box) {\n",
       "    svg.append('rect')\n",
       "        .attr('width', width)\n",
       "        .attr('height', height)\n",
       "        .attr('fill', 'none')\n",
       "        .attr('stroke-width', 1.0)\n",
       "        .attr('stroke', 'black');\n",
       "  }\n",
       "\n",
       "  // Draw the edges.\n",
       "  display_edges(options, graph, tree_struct);\n",
       "\n",
       "  // Draw the nodes.\n",
       "  display_nodes(options, graph, tree_struct);\n",
       "}\n",
       "\n",
       "/**\n",
       " * Draw the nodes of the tree.\n",
       " * @param {!options} options Dictionary of configurations.\n",
       " * @param {!graph} graph D3 search handle containing the graph.\n",
       " * @param {!tree_struct} tree_struct Structure of the tree (node placement,\n",
       " *     data, etc.).\n",
       " */\n",
       "function display_nodes(options, graph, tree_struct) {\n",
       "  const nodes = graph.append('g')\n",
       "                    .selectAll('g')\n",
       "                    .data(tree_struct.descendants())\n",
       "                    .join('g')\n",
       "                    .attr('transform', d => `translate(${d.y},${d.x})`);\n",
       "\n",
       "  nodes.append('rect')\n",
       "      .attr('x', 0.5)\n",
       "      .attr('y', 0.5)\n",
       "      .attr('width', options.node_x_size)\n",
       "      .attr('height', options.node_y_size)\n",
       "      .attr('stroke', 'lightgrey')\n",
       "      .attr('stroke-width', 1)\n",
       "      .attr('fill', 'white')\n",
       "      .attr('y', -options.node_y_size / 2);\n",
       "\n",
       "  // Brackets on the right of condition nodes without children.\n",
       "  non_leaf_node_without_children =\n",
       "      nodes.filter(node => node.data.condition != null && node.children == null)\n",
       "          .append('g')\n",
       "          .attr('transform', `translate(${options.node_x_size},0)`);\n",
       "\n",
       "  non_leaf_node_without_children.append('path')\n",
       "      .attr('d', 'M0,0 C 10,0 0,10 10,10')\n",
       "      .attr('fill', 'none')\n",
       "      .attr('stroke-width', 1.0)\n",
       "      .attr('stroke', '#F00');\n",
       "\n",
       "  non_leaf_node_without_children.append('path')\n",
       "      .attr('d', 'M0,0 C 10,0 0,-10 10,-10')\n",
       "      .attr('fill', 'none')\n",
       "      .attr('stroke-width', 1.0)\n",
       "      .attr('stroke', '#0F0');\n",
       "\n",
       "  const node_content = nodes.append('g').attr(\n",
       "      'transform',\n",
       "      `translate(0,${options.node_padding - options.node_y_size / 2})`);\n",
       "\n",
       "  node_content.append(node => create_node_element(options, node));\n",
       "}\n",
       "\n",
       "/**\n",
       " * Creates the D3 content for a single node.\n",
       " * @param {!options} options Dictionary of configurations.\n",
       " * @param {!node} node Node to draw.\n",
       " * @return {!d3} D3 content.\n",
       " */\n",
       "function create_node_element(options, node) {\n",
       "  // Output accumulator.\n",
       "  let output = {\n",
       "    // Content to draw.\n",
       "    content: d3.create('svg:g'),\n",
       "    // Vertical offset to the next element to draw.\n",
       "    vertical_offset: 0\n",
       "  };\n",
       "\n",
       "  // Conditions.\n",
       "  if (node.data.condition != null) {\n",
       "    display_condition(options, node.data.condition, output);\n",
       "  }\n",
       "\n",
       "  // Values.\n",
       "  if (node.data.value != null) {\n",
       "    display_value(options, node.data.value, output);\n",
       "  }\n",
       "\n",
       "  // Explanations.\n",
       "  if (node.data.explanation != null) {\n",
       "    display_explanation(options, node.data.explanation, output);\n",
       "  }\n",
       "\n",
       "  return output.content.node();\n",
       "}\n",
       "\n",
       "\n",
       "/**\n",
       " * Adds a single line of text inside of a node.\n",
       " * @param {!options} options Dictionary of configurations.\n",
       " * @param {string} text Text to display.\n",
       " * @param {!output} output Output display accumulator.\n",
       " */\n",
       "function display_node_text(options, text, output) {\n",
       "  output.content.append('text')\n",
       "      .attr('x', options.node_padding)\n",
       "      .attr('y', output.vertical_offset)\n",
       "      .attr('alignment-baseline', 'hanging')\n",
       "      .text(text);\n",
       "  output.vertical_offset += 10;\n",
       "}\n",
       "\n",
       "/**\n",
       " * Adds a single line of text inside of a node with a tooltip.\n",
       " * @param {!options} options Dictionary of configurations.\n",
       " * @param {string} text Text to display.\n",
       " * @param {string} tooltip Text in the Tooltip.\n",
       " * @param {!output} output Output display accumulator.\n",
       " */\n",
       "function display_node_text_with_tooltip(options, text, tooltip, output) {\n",
       "  const item = output.content.append('text')\n",
       "                   .attr('x', options.node_padding)\n",
       "                   .attr('alignment-baseline', 'hanging')\n",
       "                   .text(text);\n",
       "\n",
       "  add_tooltip(options, item, () => tooltip);\n",
       "  output.vertical_offset += 10;\n",
       "}\n",
       "\n",
       "/**\n",
       " * Adds a tooltip to a dom element.\n",
       " * @param {!options} options Dictionary of configurations.\n",
       " * @param {!dom} target Dom element to equip with a tooltip.\n",
       " * @param {!func} get_content Generates the html content of the tooltip.\n",
       " */\n",
       "function add_tooltip(options, target, get_content) {\n",
       "  function show(d) {\n",
       "    options.tooltip.style('display', 'block');\n",
       "    options.tooltip.html(get_content());\n",
       "  }\n",
       "\n",
       "  function hide(d) {\n",
       "    options.tooltip.style('display', 'none');\n",
       "  }\n",
       "\n",
       "  function move(d) {\n",
       "    options.tooltip.style('display', 'block');\n",
       "    options.tooltip.style('left', (d.pageX + 5) + 'px');\n",
       "    options.tooltip.style('top', d.pageY + 'px');\n",
       "  }\n",
       "\n",
       "  target.on('mouseover', show);\n",
       "  target.on('mouseout', hide);\n",
       "  target.on('mousemove', move);\n",
       "}\n",
       "\n",
       "/**\n",
       " * Adds a condition inside of a node.\n",
       " * @param {!options} options Dictionary of configurations.\n",
       " * @param {!condition} condition Condition to display.\n",
       " * @param {!output} output Output display accumulator.\n",
       " */\n",
       "function display_condition(options, condition, output) {\n",
       "  threshold_format = d3.format('r');\n",
       "\n",
       "  if (condition.type === 'IS_MISSING') {\n",
       "    display_node_text(options, `${condition.attribute} is missing`, output);\n",
       "    return;\n",
       "  }\n",
       "\n",
       "  if (condition.type === 'IS_TRUE') {\n",
       "    display_node_text(options, `${condition.attribute} is true`, output);\n",
       "    return;\n",
       "  }\n",
       "\n",
       "  if (condition.type === 'NUMERICAL_IS_HIGHER_THAN') {\n",
       "    format = d3.format('r');\n",
       "    display_node_text(\n",
       "        options,\n",
       "        `${condition.attribute} >= ${threshold_format(condition.threshold)}`,\n",
       "        output);\n",
       "    return;\n",
       "  }\n",
       "\n",
       "  if (condition.type === 'CATEGORICAL_IS_IN') {\n",
       "    display_node_text_with_tooltip(\n",
       "        options, `${condition.attribute} in [...]`,\n",
       "        `${condition.attribute} in [${condition.mask}]`, output);\n",
       "    return;\n",
       "  }\n",
       "\n",
       "  if (condition.type === 'CATEGORICAL_SET_CONTAINS') {\n",
       "    display_node_text_with_tooltip(\n",
       "        options, `${condition.attribute} intersect [...]`,\n",
       "        `${condition.attribute} intersect [${condition.mask}]`, output);\n",
       "    return;\n",
       "  }\n",
       "\n",
       "  if (condition.type === 'NUMERICAL_SPARSE_OBLIQUE') {\n",
       "    display_node_text_with_tooltip(\n",
       "        options, `Sparse oblique split...`,\n",
       "        `[${condition.attributes}]*[${condition.weights}]>=${\n",
       "            threshold_format(condition.threshold)}`,\n",
       "        output);\n",
       "    return;\n",
       "  }\n",
       "\n",
       "  display_node_text(\n",
       "      options, `Non supported condition ${condition.type}`, output);\n",
       "}\n",
       "\n",
       "/**\n",
       " * Adds a value inside of a node.\n",
       " * @param {!options} options Dictionary of configurations.\n",
       " * @param {!value} value Value to display.\n",
       " * @param {!output} output Output display accumulator.\n",
       " */\n",
       "function display_value(options, value, output) {\n",
       "  if (value.type === 'PROBABILITY') {\n",
       "    const left_margin = 0;\n",
       "    const right_margin = 50;\n",
       "    const plot_width = options.node_x_size - options.node_padding * 2 -\n",
       "        left_margin - right_margin;\n",
       "\n",
       "    let cusum = Array.from(d3.cumsum(value.distribution));\n",
       "    cusum.unshift(0);\n",
       "    const distribution_plot = output.content.append('g').attr(\n",
       "        'transform', `translate(0,${output.vertical_offset + 0.5})`);\n",
       "\n",
       "    distribution_plot.selectAll('rect')\n",
       "        .data(value.distribution)\n",
       "        .join('rect')\n",
       "        .attr('height', 10)\n",
       "        .attr(\n",
       "            'x',\n",
       "            (d, i) =>\n",
       "                (cusum[i] * plot_width + left_margin + options.node_padding))\n",
       "        .attr('width', (d, i) => d * plot_width)\n",
       "        .style('fill', (d, i) => d3.schemeSet1[i]);\n",
       "\n",
       "    const num_examples =\n",
       "        output.content.append('g')\n",
       "            .attr('transform', `translate(0,${output.vertical_offset})`)\n",
       "            .append('text')\n",
       "            .attr('x', options.node_x_size - options.node_padding)\n",
       "            .attr('alignment-baseline', 'hanging')\n",
       "            .attr('text-anchor', 'end')\n",
       "            .text(`(${value.num_examples})`);\n",
       "\n",
       "    const distribution_details = d3.create('ul');\n",
       "    distribution_details.selectAll('li')\n",
       "        .data(value.distribution)\n",
       "        .join('li')\n",
       "        .append('span')\n",
       "        .text(\n",
       "            (d, i) =>\n",
       "                'class ' + i + ': ' + d3.format('.3%')(value.distribution[i]));\n",
       "\n",
       "    add_tooltip(options, distribution_plot, () => distribution_details.html());\n",
       "    add_tooltip(options, num_examples, () => 'Number of examples');\n",
       "\n",
       "    output.vertical_offset += 10;\n",
       "    return;\n",
       "  }\n",
       "\n",
       "  if (value.type === 'REGRESSION') {\n",
       "    display_node_text(\n",
       "        options,\n",
       "        'value: ' + d3.format('r')(value.value) + ` (` +\n",
       "            d3.format('.6')(value.num_examples) + `)`,\n",
       "        output);\n",
       "    return;\n",
       "  }\n",
       "\n",
       "  display_node_text(options, `Non supported value ${value.type}`, output);\n",
       "}\n",
       "\n",
       "/**\n",
       " * Adds an explanation inside of a node.\n",
       " * @param {!options} options Dictionary of configurations.\n",
       " * @param {!explanation} explanation Explanation to display.\n",
       " * @param {!output} output Output display accumulator.\n",
       " */\n",
       "function display_explanation(options, explanation, output) {\n",
       "  // Margin before the explanation.\n",
       "  output.vertical_offset += 10;\n",
       "\n",
       "  display_node_text(\n",
       "      options, `Non supported explanation ${explanation.type}`, output);\n",
       "}\n",
       "\n",
       "\n",
       "/**\n",
       " * Draw the edges of the tree.\n",
       " * @param {!options} options Dictionary of configurations.\n",
       " * @param {!graph} graph D3 search handle containing the graph.\n",
       " * @param {!tree_struct} tree_struct Structure of the tree (node placement,\n",
       " *     data, etc.).\n",
       " */\n",
       "function display_edges(options, graph, tree_struct) {\n",
       "  // Draw an edge between a parent and a child node with a bezier.\n",
       "  function draw_single_edge(d) {\n",
       "    return 'M' + (d.source.y + options.node_x_size) + ',' + d.source.x + ' C' +\n",
       "        (d.source.y + options.node_x_size + options.edge_rounding) + ',' +\n",
       "        d.source.x + ' ' + (d.target.y - options.edge_rounding) + ',' +\n",
       "        d.target.x + ' ' + d.target.y + ',' + d.target.x;\n",
       "  }\n",
       "\n",
       "  graph.append('g')\n",
       "      .attr('fill', 'none')\n",
       "      .attr('stroke-width', 1.2)\n",
       "      .selectAll('path')\n",
       "      .data(tree_struct.links())\n",
       "      .join('path')\n",
       "      .attr('d', draw_single_edge)\n",
       "      .attr(\n",
       "          'stroke', d => (d.target === d.source.children[0]) ? '#0F0' : '#F00');\n",
       "}\n",
       "\n",
       "display_tree({\"margin\": 10, \"node_x_size\": 160, \"node_y_size\": 28, \"node_x_offset\": 180, \"node_y_offset\": 33, \"font_size\": 10, \"edge_rounding\": 20, \"node_padding\": 2, \"show_plot_bounding_box\": false}, {\"value\": {\"type\": \"REGRESSION\", \"value\": 6.223649373637841e-10, \"num_examples\": 23944.0, \"standard_deviation\": 0.4082789256629565}, \"condition\": {\"type\": \"NUMERICAL_SPARSE_OBLIQUE\", \"attributes\": [\"loading\"], \"weights\": [1.0], \"threshold\": 150.114990234375}, \"children\": [{\"value\": {\"type\": \"REGRESSION\", \"value\": 0.0476098507642746, \"num_examples\": 5782.0, \"standard_deviation\": 0.45409911583887924}, \"condition\": {\"type\": \"NUMERICAL_SPARSE_OBLIQUE\", \"attributes\": [\"loading\", \"measurement_6\"], \"weights\": [0.0028352709487080574, 0.11327595263719559], \"threshold\": 2.321319818496704}, \"children\": [{\"value\": {\"type\": \"REGRESSION\", \"value\": 0.05342221260070801, \"num_examples\": 5256.0, \"standard_deviation\": 0.45844002308847864}, \"condition\": {\"type\": \"NUMERICAL_SPARSE_OBLIQUE\", \"attributes\": [\"measurement_5\"], \"weights\": [1.0], \"threshold\": 19.215499877929688}, \"children\": [{\"value\": {\"type\": \"REGRESSION\", \"value\": 0.14845092594623566, \"num_examples\": 85.0, \"standard_deviation\": 0.49830161862493483}, \"condition\": {\"type\": \"NUMERICAL_SPARSE_OBLIQUE\", \"attributes\": [\"attribute_3\", \"measurement_15\", \"measurement_8\"], \"weights\": [0.25, -0.07985945045948029, -0.11641444265842438], \"threshold\": -2.05906343460083}}, {\"value\": {\"type\": \"REGRESSION\", \"value\": 0.05186014249920845, \"num_examples\": 5171.0, \"standard_deviation\": 0.45729762876096497}, \"condition\": {\"type\": \"NUMERICAL_SPARSE_OBLIQUE\", \"attributes\": [\"measurement_6\"], \"weights\": [1.0], \"threshold\": 17.09950065612793}}]}, {\"value\": {\"type\": \"REGRESSION\", \"value\": -0.010469533503055573, \"num_examples\": 526.0, \"standard_deviation\": 0.39536413653247154}, \"condition\": {\"type\": \"NUMERICAL_SPARSE_OBLIQUE\", \"attributes\": [\"attribute_2\", \"measurement_14\"], \"weights\": [0.25, -0.07597053050994873], \"threshold\": -0.20814037322998047}, \"children\": [{\"value\": {\"type\": \"REGRESSION\", \"value\": -0.013958935625851154, \"num_examples\": 521.0, \"standard_deviation\": 0.390791852024664}}, {\"value\": {\"type\": \"REGRESSION\", \"value\": 0.3531261086463928, \"num_examples\": 5.0, \"standard_deviation\": 0.4000000193808791}}]}]}, {\"value\": {\"type\": \"REGRESSION\", \"value\": -0.01515692938119173, \"num_examples\": 18162.0, \"standard_deviation\": 0.3891896476992522}, \"condition\": {\"type\": \"NUMERICAL_SPARSE_OBLIQUE\", \"attributes\": [\"measurement_11\", \"measurement_17\", \"measurement_9\"], \"weights\": [0.07587829977273941, 0.0008960517589002848, -0.1269841343164444], \"threshold\": 0.4884597063064575}, \"children\": [{\"value\": {\"type\": \"REGRESSION\", \"value\": -0.011164461262524128, \"num_examples\": 14692.0, \"standard_deviation\": 0.3944646148665838}, \"condition\": {\"type\": \"NUMERICAL_SPARSE_OBLIQUE\", \"attributes\": [\"attribute_2\", \"attribute_3\", \"loading\"], \"weights\": [-0.25, 0.25, -0.0028352709487080574], \"threshold\": 0.4767932891845703}, \"children\": [{\"value\": {\"type\": \"REGRESSION\", \"value\": -0.03759726509451866, \"num_examples\": 1688.0, \"standard_deviation\": 0.3557892357582206}, \"condition\": {\"type\": \"NUMERICAL_SPARSE_OBLIQUE\", \"attributes\": [\"measurement_1\", \"measurement_10\"], \"weights\": [0.03448275849223137, -0.07601094245910645], \"threshold\": -1.0053653717041016}}, {\"value\": {\"type\": \"REGRESSION\", \"value\": -0.007733319886028767, \"num_examples\": 13004.0, \"standard_deviation\": 0.3988535044362109}, \"condition\": {\"type\": \"NUMERICAL_SPARSE_OBLIQUE\", \"attributes\": [\"loading\"], \"weights\": [1.0], \"threshold\": 98.08499908447266}}]}, {\"value\": {\"type\": \"REGRESSION\", \"value\": -0.03206106275320053, \"num_examples\": 3470.0, \"standard_deviation\": 0.364670734888936}, \"condition\": {\"type\": \"NUMERICAL_SPARSE_OBLIQUE\", \"attributes\": [\"measurement_1\", \"measurement_9\"], \"weights\": [0.03448275849223137, 0.1269841343164444], \"threshold\": 1.4064325094223022}, \"children\": [{\"value\": {\"type\": \"REGRESSION\", \"value\": -0.033185362815856934, \"num_examples\": 3454.0, \"standard_deviation\": 0.36290364553384086}, \"condition\": {\"type\": \"NUMERICAL_SPARSE_OBLIQUE\", \"attributes\": [\"loading\"], \"weights\": [1.0], \"threshold\": 106.13500213623047}}, {\"value\": {\"type\": \"REGRESSION\", \"value\": 0.21064746379852295, \"num_examples\": 16.0, \"standard_deviation\": 0.49607837823970263}, \"condition\": {\"type\": \"NUMERICAL_SPARSE_OBLIQUE\", \"attributes\": [\"measurement_15\", \"measurement_16\"], \"weights\": [0.07985945045948029, -0.06947822123765945], \"threshold\": 0.08014422655105591}}]}]}]}, \"#tree_plot_d85c5f1fb154456db54bc8a408da9a0a\")\n",
       "</script>\n"
      ],
      "text/plain": [
       "<IPython.core.display.HTML object>"
      ]
     },
     "execution_count": 23,
     "metadata": {},
     "output_type": "execute_result"
    }
   ],
   "source": [
    "# Visualize the model\n",
    "# Currently this step works in the Kaggle Notebook Editor but unfortunately displays an empty/blank visualization in the Notebook Viewer\n",
    "tfdf.model_plotter.plot_model_in_colab(gb_model, tree_idx=0, max_depth=3)"
   ]
  },
  {
   "cell_type": "markdown",
   "id": "94ff7a4d",
   "metadata": {
    "papermill": {
     "duration": 0.03537,
     "end_time": "2022-08-30T19:29:49.771374",
     "exception": false,
     "start_time": "2022-08-30T19:29:49.736004",
     "status": "completed"
    },
    "tags": []
   },
   "source": [
    "Step 10: Evaluate your GradientBoostedTrees  Model"
   ]
  },
  {
   "cell_type": "code",
   "execution_count": 24,
   "id": "7bdda1bd",
   "metadata": {
    "execution": {
     "iopub.execute_input": "2022-08-30T19:29:49.843938Z",
     "iopub.status.busy": "2022-08-30T19:29:49.843570Z",
     "iopub.status.idle": "2022-08-30T19:29:50.112088Z",
     "shell.execute_reply": "2022-08-30T19:29:50.111196Z"
    },
    "papermill": {
     "duration": 0.307674,
     "end_time": "2022-08-30T19:29:50.114392",
     "exception": false,
     "start_time": "2022-08-30T19:29:49.806718",
     "status": "completed"
    },
    "tags": []
   },
   "outputs": [
    {
     "data": {
      "image/png": "[encoded data removed]",
      "text/plain": [
       "<Figure size 864x288 with 2 Axes>"
      ]
     },
     "metadata": {
      "needs_background": "light"
     },
     "output_type": "display_data"
    }
   ],
   "source": [
    "plot_tfdf_model_training_curves(gb_model)"
   ]
  },
  {
   "cell_type": "code",
   "execution_count": 25,
   "id": "f079f763",
   "metadata": {
    "execution": {
     "iopub.execute_input": "2022-08-30T19:29:50.189828Z",
     "iopub.status.busy": "2022-08-30T19:29:50.189501Z",
     "iopub.status.idle": "2022-08-30T19:29:50.197643Z",
     "shell.execute_reply": "2022-08-30T19:29:50.196633Z"
    },
    "papermill": {
     "duration": 0.048346,
     "end_time": "2022-08-30T19:29:50.199848",
     "exception": false,
     "start_time": "2022-08-30T19:29:50.151502",
     "status": "completed"
    },
    "tags": []
   },
   "outputs": [
    {
     "data": {
      "text/plain": [
       "Evaluation(num_examples=None, accuracy=0.7749428749084473, loss=1.0532159805297852, rmse=None, ndcg=None, aucs=None, auuc=None, qini=None)"
      ]
     },
     "execution_count": 25,
     "metadata": {},
     "output_type": "execute_result"
    }
   ],
   "source": [
    "inspector = gb_model.make_inspector()\n",
    "inspector.evaluation()"
   ]
  },
  {
   "cell_type": "code",
   "execution_count": 26,
   "id": "4f324d86",
   "metadata": {
    "execution": {
     "iopub.execute_input": "2022-08-30T19:29:50.274251Z",
     "iopub.status.busy": "2022-08-30T19:29:50.273850Z",
     "iopub.status.idle": "2022-08-30T19:29:50.957176Z",
     "shell.execute_reply": "2022-08-30T19:29:50.956221Z"
    },
    "papermill": {
     "duration": 0.722777,
     "end_time": "2022-08-30T19:29:50.959245",
     "exception": false,
     "start_time": "2022-08-30T19:29:50.236468",
     "status": "completed"
    },
    "tags": []
   },
   "outputs": [
    {
     "name": "stdout",
     "output_type": "stream",
     "text": [
      "27/27 [==============================] - 1s 17ms/step - loss: 0.0000e+00 - auc_1: 0.7325\n"
     ]
    },
    {
     "data": {
      "text/plain": [
       "[0.0, 0.7324758172035217]"
      ]
     },
     "execution_count": 26,
     "metadata": {},
     "output_type": "execute_result"
    }
   ],
   "source": [
    "gb_model.evaluate(train_tfds)"
   ]
  },
  {
   "cell_type": "code",
   "execution_count": 27,
   "id": "83d70b11",
   "metadata": {
    "execution": {
     "iopub.execute_input": "2022-08-30T19:29:51.035927Z",
     "iopub.status.busy": "2022-08-30T19:29:51.035581Z",
     "iopub.status.idle": "2022-08-30T19:29:51.041390Z",
     "shell.execute_reply": "2022-08-30T19:29:51.040345Z"
    },
    "papermill": {
     "duration": 0.048528,
     "end_time": "2022-08-30T19:29:51.045211",
     "exception": false,
     "start_time": "2022-08-30T19:29:50.996683",
     "status": "completed"
    },
    "tags": []
   },
   "outputs": [
    {
     "name": "stdout",
     "output_type": "stream",
     "text": [
      "Model type: GRADIENT_BOOSTED_TREES\n",
      "Objective: Classification(label=__LABEL, class=None, num_classes=2)\n",
      "Evaluation: Evaluation(num_examples=None, accuracy=0.7749428749084473, loss=1.0532159805297852, rmse=None, ndcg=None, aucs=None, auuc=None, qini=None)\n"
     ]
    }
   ],
   "source": [
    "print(\"Model type:\", inspector.model_type())\n",
    "print(\"Objective:\", inspector.objective())\n",
    "print(\"Evaluation:\", inspector.evaluation())"
   ]
  },
  {
   "cell_type": "code",
   "execution_count": 28,
   "id": "27aa14d3",
   "metadata": {
    "execution": {
     "iopub.execute_input": "2022-08-30T19:29:51.120523Z",
     "iopub.status.busy": "2022-08-30T19:29:51.119928Z",
     "iopub.status.idle": "2022-08-30T19:29:51.956330Z",
     "shell.execute_reply": "2022-08-30T19:29:51.955339Z"
    },
    "papermill": {
     "duration": 0.876666,
     "end_time": "2022-08-30T19:29:51.958614",
     "exception": false,
     "start_time": "2022-08-30T19:29:51.081948",
     "status": "completed"
    },
    "tags": []
   },
   "outputs": [
    {
     "name": "stdout",
     "output_type": "stream",
     "text": [
      "27/27 [==============================] - 1s 17ms/step - loss: 0.0000e+00 - auc_1: 0.7325\n"
     ]
    },
    {
     "data": {
      "text/plain": [
       "[0.0, 0.7324758172035217]"
      ]
     },
     "execution_count": 28,
     "metadata": {},
     "output_type": "execute_result"
    }
   ],
   "source": [
    "gb_model.evaluate(train_tfds)"
   ]
  },
  {
   "cell_type": "markdown",
   "id": "a2a9dd50",
   "metadata": {
    "papermill": {
     "duration": 0.037661,
     "end_time": "2022-08-30T19:29:52.034596",
     "exception": false,
     "start_time": "2022-08-30T19:29:51.996935",
     "status": "completed"
    },
    "tags": []
   },
   "source": [
    "77% accuracy and 0.74 AUC-ROC is not a bad baseline result given how few lines of code were required, but we'll still want to eventually do a bit more with the feature engineering and feature selection steps in order to improve this score a bit."
   ]
  },
  {
   "cell_type": "markdown",
   "id": "224a4820",
   "metadata": {
    "papermill": {
     "duration": 0.03737,
     "end_time": "2022-08-30T19:29:52.109313",
     "exception": false,
     "start_time": "2022-08-30T19:29:52.071943",
     "status": "completed"
    },
    "tags": []
   },
   "source": [
    "Step 10: Investigate variable importances for the GradientBoostedTrees model"
   ]
  },
  {
   "cell_type": "markdown",
   "id": "d2b032ba",
   "metadata": {
    "papermill": {
     "duration": 0.038155,
     "end_time": "2022-08-30T19:29:52.186673",
     "exception": false,
     "start_time": "2022-08-30T19:29:52.148518",
     "status": "completed"
    },
    "tags": []
   },
   "source": [
    "As mentioned previously, variable importances describe how each feature impacts the model. Variable importances can tell you how much a given variable contributes to the model's predictions. \n"
   ]
  },
  {
   "cell_type": "code",
   "execution_count": 29,
   "id": "41d6b840",
   "metadata": {
    "execution": {
     "iopub.execute_input": "2022-08-30T19:29:52.264384Z",
     "iopub.status.busy": "2022-08-30T19:29:52.263998Z",
     "iopub.status.idle": "2022-08-30T19:29:52.270367Z",
     "shell.execute_reply": "2022-08-30T19:29:52.269265Z"
    },
    "papermill": {
     "duration": 0.049439,
     "end_time": "2022-08-30T19:29:52.273912",
     "exception": false,
     "start_time": "2022-08-30T19:29:52.224473",
     "status": "completed"
    },
    "tags": []
   },
   "outputs": [
    {
     "name": "stdout",
     "output_type": "stream",
     "text": [
      "Available variable importances:\n",
      "\t SUM_SCORE\n",
      "\t MEAN_MIN_DEPTH\n",
      "\t NUM_NODES\n",
      "\t NUM_AS_ROOT\n"
     ]
    }
   ],
   "source": [
    "# Adapted from https://www.tensorflow.org/decision_forests/tutorials/advanced_colab\n",
    "# See list of inspector methods from:\n",
    "# [field for field in dir(inspector) if not field.startswith(\"_\")]\n",
    "print(f\"Available variable importances:\")\n",
    "for importance in inspector.variable_importances().keys():\n",
    "  print(\"\\t\", importance)"
   ]
  },
  {
   "cell_type": "markdown",
   "id": "e74a5ac4",
   "metadata": {
    "papermill": {
     "duration": 0.03691,
     "end_time": "2022-08-30T19:29:52.348453",
     "exception": false,
     "start_time": "2022-08-30T19:29:52.311543",
     "status": "completed"
    },
    "tags": []
   },
   "source": [
    "Variable importances describe how each feature impacts the model. Once again we can see that our most important features were the features that we created during our feature engineering step. "
   ]
  },
  {
   "cell_type": "code",
   "execution_count": 30,
   "id": "cda2830c",
   "metadata": {
    "execution": {
     "iopub.execute_input": "2022-08-30T19:29:52.425248Z",
     "iopub.status.busy": "2022-08-30T19:29:52.424890Z",
     "iopub.status.idle": "2022-08-30T19:29:52.434125Z",
     "shell.execute_reply": "2022-08-30T19:29:52.433148Z"
    },
    "papermill": {
     "duration": 0.05051,
     "end_time": "2022-08-30T19:29:52.436080",
     "exception": false,
     "start_time": "2022-08-30T19:29:52.385570",
     "status": "completed"
    },
    "tags": []
   },
   "outputs": [
    {
     "data": {
      "text/plain": [
       "[(\"loading\" (1; #4), 559.8931110924095),\n",
       " (\"attribute_2\" (1; #2), 223.82331429147598),\n",
       " (\"attribute_3\" (1; #3), 184.93542752573194),\n",
       " (\"measurement_0\" (1; #5), 168.08433167122712),\n",
       " (\"measurement_10\" (1; #7), 140.2284309618226),\n",
       " (\"measurement_11\" (1; #8), 128.82926891868192),\n",
       " (\"measurement_1\" (1; #6), 107.41947426058323),\n",
       " (\"measurement_12\" (1; #9), 103.99421458661527),\n",
       " (\"measurement_14\" (1; #11), 103.68145539039324),\n",
       " (\"measurement_13\" (1; #10), 85.15817105813767),\n",
       " (\"measurement_15\" (1; #12), 80.79988142699221),\n",
       " (\"measurement_17\" (1; #14), 78.35514263315054),\n",
       " (\"measurement_16\" (1; #13), 75.8982260601988),\n",
       " (\"measurement_5\" (1; #18), 67.26811059656393),\n",
       " (\"measurement_3\" (1; #16), 57.33023495006273),\n",
       " (\"measurement_2\" (1; #15), 55.25039620930693),\n",
       " (\"measurement_6\" (1; #19), 51.57857351601342),\n",
       " (\"measurement_4\" (1; #17), 47.12805861150264),\n",
       " (\"measurement_7\" (1; #20), 42.1572431592067),\n",
       " (\"measurement_9\" (1; #22), 36.03003432597325),\n",
       " (\"measurement_8\" (1; #21), 21.436175202252343),\n",
       " (\"product_code\" (4; #23), 6.031259570911061),\n",
       " (\"attribute_1\" (4; #1), 1.0709639965789393)]"
      ]
     },
     "execution_count": 30,
     "metadata": {},
     "output_type": "execute_result"
    }
   ],
   "source": [
    "inspector.variable_importances()[\"SUM_SCORE\"]"
   ]
  },
  {
   "cell_type": "markdown",
   "id": "0435c72b",
   "metadata": {
    "papermill": {
     "duration": 0.037436,
     "end_time": "2022-08-30T19:29:52.511098",
     "exception": false,
     "start_time": "2022-08-30T19:29:52.473662",
     "status": "completed"
    },
    "tags": []
   },
   "source": [
    "Our GradientBoostedTrees algorithm found that the \"loading\" feature was the most informative, just like our RandomForest model did.  The GradientBoosted Trees algorithm also seems to be quite interested in \"attribute_2\" and \"attribute_3\" as well.  It would be interesting to dig into these in a bit more detail.\n",
    "\n",
    "Using the GradientBoostedTrees model we were able to achieve 77% accuracy and 0.74 AUC-ROC. This isn't necessarily a great result.  To get to the top of the leaderboard it will be important to do add in a few additional code cells and spend some time doing some feature engineering and feature selection (as mentioned previously).  "
   ]
  },
  {
   "cell_type": "code",
   "execution_count": 31,
   "id": "6aaff3e9",
   "metadata": {
    "_kg_hide-input": true,
    "execution": {
     "iopub.execute_input": "2022-08-30T19:29:52.590346Z",
     "iopub.status.busy": "2022-08-30T19:29:52.589668Z",
     "iopub.status.idle": "2022-08-30T19:29:52.601794Z",
     "shell.execute_reply": "2022-08-30T19:29:52.600750Z"
    },
    "papermill": {
     "duration": 0.054465,
     "end_time": "2022-08-30T19:29:52.604392",
     "exception": false,
     "start_time": "2022-08-30T19:29:52.549927",
     "status": "completed"
    },
    "tags": []
   },
   "outputs": [
    {
     "data": {
      "text/html": [
       "\n",
       "<script src=\"https://d3js.org/d3.v6.min.js\"></script>\n",
       "<div id=\"tree_plot_4a2ab00ec6b549348c9a633004471f84\"></div>\n",
       "<script>\n",
       "/*\n",
       " * Copyright 2021 Google LLC.\n",
       " * Licensed under the Apache License, Version 2.0 (the \"License\");\n",
       " * you may not use this file except in compliance with the License.\n",
       " * You may obtain a copy of the License at\n",
       " *\n",
       " *     https://www.apache.org/licenses/LICENSE-2.0\n",
       " *\n",
       " * Unless required by applicable law or agreed to in writing, software\n",
       " * distributed under the License is distributed on an \"AS IS\" BASIS,\n",
       " * WITHOUT WARRANTIES OR CONDITIONS OF ANY KIND, either express or implied.\n",
       " * See the License for the specific language governing permissions and\n",
       " * limitations under the License.\n",
       " */\n",
       "\n",
       "/**\n",
       " *  Plotting of decision trees generated by TF-DF.\n",
       " *\n",
       " *  A tree is a recursive structure of node objects.\n",
       " *  A node contains one or more of the following components:\n",
       " *\n",
       " *    - A value: Representing the output of the node. If the node is not a leaf,\n",
       " *      the value is only present for analysis i.e. it is not used for\n",
       " *      predictions.\n",
       " *\n",
       " *    - A condition : For non-leaf nodes, the condition (also known as split)\n",
       " *      defines a binary test to branch to the positive or negative child.\n",
       " *\n",
       " *    - An explanation: Generally a plot showing the relation between the label\n",
       " *      and the condition to give insights about the effect of the condition.\n",
       " *\n",
       " *    - Two children : For non-leaf nodes, the children nodes. The first\n",
       " *      children (i.e. \"node.children[0]\") is the negative children (drawn in\n",
       " *      red). The second children is the positive one (drawn in green).\n",
       " *\n",
       " */\n",
       "\n",
       "/**\n",
       " * Plots a single decision tree into a DOM element.\n",
       " * @param {!options} options Dictionary of configurations.\n",
       " * @param {!tree} raw_tree Recursive tree structure.\n",
       " * @param {string} canvas_id Id of the output dom element.\n",
       " */\n",
       "function display_tree(options, raw_tree, canvas_id) {\n",
       "  console.log(options);\n",
       "\n",
       "  // Determine the node placement.\n",
       "  const tree_struct = d3.tree().nodeSize(\n",
       "      [options.node_y_offset, options.node_x_offset])(d3.hierarchy(raw_tree));\n",
       "\n",
       "  // Boundaries of the node placement.\n",
       "  let x_min = Infinity;\n",
       "  let x_max = -x_min;\n",
       "  let y_min = Infinity;\n",
       "  let y_max = -x_min;\n",
       "\n",
       "  tree_struct.each(d => {\n",
       "    if (d.x > x_max) x_max = d.x;\n",
       "    if (d.x < x_min) x_min = d.x;\n",
       "    if (d.y > y_max) y_max = d.y;\n",
       "    if (d.y < y_min) y_min = d.y;\n",
       "  });\n",
       "\n",
       "  // Size of the plot.\n",
       "  const width = y_max - y_min + options.node_x_size + options.margin * 2;\n",
       "  const height = x_max - x_min + options.node_y_size + options.margin * 2 +\n",
       "      options.node_y_offset - options.node_y_size;\n",
       "\n",
       "  const plot = d3.select(canvas_id);\n",
       "\n",
       "  // Tool tip\n",
       "  options.tooltip = plot.append('div')\n",
       "                        .attr('width', 100)\n",
       "                        .attr('height', 100)\n",
       "                        .style('padding', '4px')\n",
       "                        .style('background', '#fff')\n",
       "                        .style('box-shadow', '4px 4px 0px rgba(0,0,0,0.1)')\n",
       "                        .style('border', '1px solid black')\n",
       "                        .style('font-family', 'sans-serif')\n",
       "                        .style('font-size', options.font_size)\n",
       "                        .style('position', 'absolute')\n",
       "                        .style('z-index', '10')\n",
       "                        .attr('pointer-events', 'none')\n",
       "                        .style('display', 'none');\n",
       "\n",
       "  // Create canvas\n",
       "  const svg = plot.append('svg').attr('width', width).attr('height', height);\n",
       "  const graph =\n",
       "      svg.style('overflow', 'visible')\n",
       "          .append('g')\n",
       "          .attr('font-family', 'sans-serif')\n",
       "          .attr('font-size', options.font_size)\n",
       "          .attr(\n",
       "              'transform',\n",
       "              () => `translate(${options.margin},${\n",
       "                  - x_min + options.node_y_offset / 2 + options.margin})`);\n",
       "\n",
       "  // Plot bounding box.\n",
       "  if (options.show_plot_bounding_box) {\n",
       "    svg.append('rect')\n",
       "        .attr('width', width)\n",
       "        .attr('height', height)\n",
       "        .attr('fill', 'none')\n",
       "        .attr('stroke-width', 1.0)\n",
       "        .attr('stroke', 'black');\n",
       "  }\n",
       "\n",
       "  // Draw the edges.\n",
       "  display_edges(options, graph, tree_struct);\n",
       "\n",
       "  // Draw the nodes.\n",
       "  display_nodes(options, graph, tree_struct);\n",
       "}\n",
       "\n",
       "/**\n",
       " * Draw the nodes of the tree.\n",
       " * @param {!options} options Dictionary of configurations.\n",
       " * @param {!graph} graph D3 search handle containing the graph.\n",
       " * @param {!tree_struct} tree_struct Structure of the tree (node placement,\n",
       " *     data, etc.).\n",
       " */\n",
       "function display_nodes(options, graph, tree_struct) {\n",
       "  const nodes = graph.append('g')\n",
       "                    .selectAll('g')\n",
       "                    .data(tree_struct.descendants())\n",
       "                    .join('g')\n",
       "                    .attr('transform', d => `translate(${d.y},${d.x})`);\n",
       "\n",
       "  nodes.append('rect')\n",
       "      .attr('x', 0.5)\n",
       "      .attr('y', 0.5)\n",
       "      .attr('width', options.node_x_size)\n",
       "      .attr('height', options.node_y_size)\n",
       "      .attr('stroke', 'lightgrey')\n",
       "      .attr('stroke-width', 1)\n",
       "      .attr('fill', 'white')\n",
       "      .attr('y', -options.node_y_size / 2);\n",
       "\n",
       "  // Brackets on the right of condition nodes without children.\n",
       "  non_leaf_node_without_children =\n",
       "      nodes.filter(node => node.data.condition != null && node.children == null)\n",
       "          .append('g')\n",
       "          .attr('transform', `translate(${options.node_x_size},0)`);\n",
       "\n",
       "  non_leaf_node_without_children.append('path')\n",
       "      .attr('d', 'M0,0 C 10,0 0,10 10,10')\n",
       "      .attr('fill', 'none')\n",
       "      .attr('stroke-width', 1.0)\n",
       "      .attr('stroke', '#F00');\n",
       "\n",
       "  non_leaf_node_without_children.append('path')\n",
       "      .attr('d', 'M0,0 C 10,0 0,-10 10,-10')\n",
       "      .attr('fill', 'none')\n",
       "      .attr('stroke-width', 1.0)\n",
       "      .attr('stroke', '#0F0');\n",
       "\n",
       "  const node_content = nodes.append('g').attr(\n",
       "      'transform',\n",
       "      `translate(0,${options.node_padding - options.node_y_size / 2})`);\n",
       "\n",
       "  node_content.append(node => create_node_element(options, node));\n",
       "}\n",
       "\n",
       "/**\n",
       " * Creates the D3 content for a single node.\n",
       " * @param {!options} options Dictionary of configurations.\n",
       " * @param {!node} node Node to draw.\n",
       " * @return {!d3} D3 content.\n",
       " */\n",
       "function create_node_element(options, node) {\n",
       "  // Output accumulator.\n",
       "  let output = {\n",
       "    // Content to draw.\n",
       "    content: d3.create('svg:g'),\n",
       "    // Vertical offset to the next element to draw.\n",
       "    vertical_offset: 0\n",
       "  };\n",
       "\n",
       "  // Conditions.\n",
       "  if (node.data.condition != null) {\n",
       "    display_condition(options, node.data.condition, output);\n",
       "  }\n",
       "\n",
       "  // Values.\n",
       "  if (node.data.value != null) {\n",
       "    display_value(options, node.data.value, output);\n",
       "  }\n",
       "\n",
       "  // Explanations.\n",
       "  if (node.data.explanation != null) {\n",
       "    display_explanation(options, node.data.explanation, output);\n",
       "  }\n",
       "\n",
       "  return output.content.node();\n",
       "}\n",
       "\n",
       "\n",
       "/**\n",
       " * Adds a single line of text inside of a node.\n",
       " * @param {!options} options Dictionary of configurations.\n",
       " * @param {string} text Text to display.\n",
       " * @param {!output} output Output display accumulator.\n",
       " */\n",
       "function display_node_text(options, text, output) {\n",
       "  output.content.append('text')\n",
       "      .attr('x', options.node_padding)\n",
       "      .attr('y', output.vertical_offset)\n",
       "      .attr('alignment-baseline', 'hanging')\n",
       "      .text(text);\n",
       "  output.vertical_offset += 10;\n",
       "}\n",
       "\n",
       "/**\n",
       " * Adds a single line of text inside of a node with a tooltip.\n",
       " * @param {!options} options Dictionary of configurations.\n",
       " * @param {string} text Text to display.\n",
       " * @param {string} tooltip Text in the Tooltip.\n",
       " * @param {!output} output Output display accumulator.\n",
       " */\n",
       "function display_node_text_with_tooltip(options, text, tooltip, output) {\n",
       "  const item = output.content.append('text')\n",
       "                   .attr('x', options.node_padding)\n",
       "                   .attr('alignment-baseline', 'hanging')\n",
       "                   .text(text);\n",
       "\n",
       "  add_tooltip(options, item, () => tooltip);\n",
       "  output.vertical_offset += 10;\n",
       "}\n",
       "\n",
       "/**\n",
       " * Adds a tooltip to a dom element.\n",
       " * @param {!options} options Dictionary of configurations.\n",
       " * @param {!dom} target Dom element to equip with a tooltip.\n",
       " * @param {!func} get_content Generates the html content of the tooltip.\n",
       " */\n",
       "function add_tooltip(options, target, get_content) {\n",
       "  function show(d) {\n",
       "    options.tooltip.style('display', 'block');\n",
       "    options.tooltip.html(get_content());\n",
       "  }\n",
       "\n",
       "  function hide(d) {\n",
       "    options.tooltip.style('display', 'none');\n",
       "  }\n",
       "\n",
       "  function move(d) {\n",
       "    options.tooltip.style('display', 'block');\n",
       "    options.tooltip.style('left', (d.pageX + 5) + 'px');\n",
       "    options.tooltip.style('top', d.pageY + 'px');\n",
       "  }\n",
       "\n",
       "  target.on('mouseover', show);\n",
       "  target.on('mouseout', hide);\n",
       "  target.on('mousemove', move);\n",
       "}\n",
       "\n",
       "/**\n",
       " * Adds a condition inside of a node.\n",
       " * @param {!options} options Dictionary of configurations.\n",
       " * @param {!condition} condition Condition to display.\n",
       " * @param {!output} output Output display accumulator.\n",
       " */\n",
       "function display_condition(options, condition, output) {\n",
       "  threshold_format = d3.format('r');\n",
       "\n",
       "  if (condition.type === 'IS_MISSING') {\n",
       "    display_node_text(options, `${condition.attribute} is missing`, output);\n",
       "    return;\n",
       "  }\n",
       "\n",
       "  if (condition.type === 'IS_TRUE') {\n",
       "    display_node_text(options, `${condition.attribute} is true`, output);\n",
       "    return;\n",
       "  }\n",
       "\n",
       "  if (condition.type === 'NUMERICAL_IS_HIGHER_THAN') {\n",
       "    format = d3.format('r');\n",
       "    display_node_text(\n",
       "        options,\n",
       "        `${condition.attribute} >= ${threshold_format(condition.threshold)}`,\n",
       "        output);\n",
       "    return;\n",
       "  }\n",
       "\n",
       "  if (condition.type === 'CATEGORICAL_IS_IN') {\n",
       "    display_node_text_with_tooltip(\n",
       "        options, `${condition.attribute} in [...]`,\n",
       "        `${condition.attribute} in [${condition.mask}]`, output);\n",
       "    return;\n",
       "  }\n",
       "\n",
       "  if (condition.type === 'CATEGORICAL_SET_CONTAINS') {\n",
       "    display_node_text_with_tooltip(\n",
       "        options, `${condition.attribute} intersect [...]`,\n",
       "        `${condition.attribute} intersect [${condition.mask}]`, output);\n",
       "    return;\n",
       "  }\n",
       "\n",
       "  if (condition.type === 'NUMERICAL_SPARSE_OBLIQUE') {\n",
       "    display_node_text_with_tooltip(\n",
       "        options, `Sparse oblique split...`,\n",
       "        `[${condition.attributes}]*[${condition.weights}]>=${\n",
       "            threshold_format(condition.threshold)}`,\n",
       "        output);\n",
       "    return;\n",
       "  }\n",
       "\n",
       "  display_node_text(\n",
       "      options, `Non supported condition ${condition.type}`, output);\n",
       "}\n",
       "\n",
       "/**\n",
       " * Adds a value inside of a node.\n",
       " * @param {!options} options Dictionary of configurations.\n",
       " * @param {!value} value Value to display.\n",
       " * @param {!output} output Output display accumulator.\n",
       " */\n",
       "function display_value(options, value, output) {\n",
       "  if (value.type === 'PROBABILITY') {\n",
       "    const left_margin = 0;\n",
       "    const right_margin = 50;\n",
       "    const plot_width = options.node_x_size - options.node_padding * 2 -\n",
       "        left_margin - right_margin;\n",
       "\n",
       "    let cusum = Array.from(d3.cumsum(value.distribution));\n",
       "    cusum.unshift(0);\n",
       "    const distribution_plot = output.content.append('g').attr(\n",
       "        'transform', `translate(0,${output.vertical_offset + 0.5})`);\n",
       "\n",
       "    distribution_plot.selectAll('rect')\n",
       "        .data(value.distribution)\n",
       "        .join('rect')\n",
       "        .attr('height', 10)\n",
       "        .attr(\n",
       "            'x',\n",
       "            (d, i) =>\n",
       "                (cusum[i] * plot_width + left_margin + options.node_padding))\n",
       "        .attr('width', (d, i) => d * plot_width)\n",
       "        .style('fill', (d, i) => d3.schemeSet1[i]);\n",
       "\n",
       "    const num_examples =\n",
       "        output.content.append('g')\n",
       "            .attr('transform', `translate(0,${output.vertical_offset})`)\n",
       "            .append('text')\n",
       "            .attr('x', options.node_x_size - options.node_padding)\n",
       "            .attr('alignment-baseline', 'hanging')\n",
       "            .attr('text-anchor', 'end')\n",
       "            .text(`(${value.num_examples})`);\n",
       "\n",
       "    const distribution_details = d3.create('ul');\n",
       "    distribution_details.selectAll('li')\n",
       "        .data(value.distribution)\n",
       "        .join('li')\n",
       "        .append('span')\n",
       "        .text(\n",
       "            (d, i) =>\n",
       "                'class ' + i + ': ' + d3.format('.3%')(value.distribution[i]));\n",
       "\n",
       "    add_tooltip(options, distribution_plot, () => distribution_details.html());\n",
       "    add_tooltip(options, num_examples, () => 'Number of examples');\n",
       "\n",
       "    output.vertical_offset += 10;\n",
       "    return;\n",
       "  }\n",
       "\n",
       "  if (value.type === 'REGRESSION') {\n",
       "    display_node_text(\n",
       "        options,\n",
       "        'value: ' + d3.format('r')(value.value) + ` (` +\n",
       "            d3.format('.6')(value.num_examples) + `)`,\n",
       "        output);\n",
       "    return;\n",
       "  }\n",
       "\n",
       "  display_node_text(options, `Non supported value ${value.type}`, output);\n",
       "}\n",
       "\n",
       "/**\n",
       " * Adds an explanation inside of a node.\n",
       " * @param {!options} options Dictionary of configurations.\n",
       " * @param {!explanation} explanation Explanation to display.\n",
       " * @param {!output} output Output display accumulator.\n",
       " */\n",
       "function display_explanation(options, explanation, output) {\n",
       "  // Margin before the explanation.\n",
       "  output.vertical_offset += 10;\n",
       "\n",
       "  display_node_text(\n",
       "      options, `Non supported explanation ${explanation.type}`, output);\n",
       "}\n",
       "\n",
       "\n",
       "/**\n",
       " * Draw the edges of the tree.\n",
       " * @param {!options} options Dictionary of configurations.\n",
       " * @param {!graph} graph D3 search handle containing the graph.\n",
       " * @param {!tree_struct} tree_struct Structure of the tree (node placement,\n",
       " *     data, etc.).\n",
       " */\n",
       "function display_edges(options, graph, tree_struct) {\n",
       "  // Draw an edge between a parent and a child node with a bezier.\n",
       "  function draw_single_edge(d) {\n",
       "    return 'M' + (d.source.y + options.node_x_size) + ',' + d.source.x + ' C' +\n",
       "        (d.source.y + options.node_x_size + options.edge_rounding) + ',' +\n",
       "        d.source.x + ' ' + (d.target.y - options.edge_rounding) + ',' +\n",
       "        d.target.x + ' ' + d.target.y + ',' + d.target.x;\n",
       "  }\n",
       "\n",
       "  graph.append('g')\n",
       "      .attr('fill', 'none')\n",
       "      .attr('stroke-width', 1.2)\n",
       "      .selectAll('path')\n",
       "      .data(tree_struct.links())\n",
       "      .join('path')\n",
       "      .attr('d', draw_single_edge)\n",
       "      .attr(\n",
       "          'stroke', d => (d.target === d.source.children[0]) ? '#0F0' : '#F00');\n",
       "}\n",
       "\n",
       "display_tree({\"margin\": 10, \"node_x_size\": 160, \"node_y_size\": 28, \"node_x_offset\": 180, \"node_y_offset\": 33, \"font_size\": 10, \"edge_rounding\": 20, \"node_padding\": 2, \"show_plot_bounding_box\": false}, {\"value\": {\"type\": \"REGRESSION\", \"value\": 6.223649373637841e-10, \"num_examples\": 23944.0, \"standard_deviation\": 0.4082789256629565}, \"condition\": {\"type\": \"NUMERICAL_SPARSE_OBLIQUE\", \"attributes\": [\"loading\"], \"weights\": [1.0], \"threshold\": 150.114990234375}, \"children\": [{\"value\": {\"type\": \"REGRESSION\", \"value\": 0.0476098507642746, \"num_examples\": 5782.0, \"standard_deviation\": 0.45409911583887924}, \"condition\": {\"type\": \"NUMERICAL_SPARSE_OBLIQUE\", \"attributes\": [\"loading\", \"measurement_6\"], \"weights\": [0.0028352709487080574, 0.11327595263719559], \"threshold\": 2.321319818496704}, \"children\": [{\"value\": {\"type\": \"REGRESSION\", \"value\": 0.05342221260070801, \"num_examples\": 5256.0, \"standard_deviation\": 0.45844002308847864}, \"condition\": {\"type\": \"NUMERICAL_SPARSE_OBLIQUE\", \"attributes\": [\"measurement_5\"], \"weights\": [1.0], \"threshold\": 19.215499877929688}, \"children\": [{\"value\": {\"type\": \"REGRESSION\", \"value\": 0.14845092594623566, \"num_examples\": 85.0, \"standard_deviation\": 0.49830161862493483}, \"condition\": {\"type\": \"NUMERICAL_SPARSE_OBLIQUE\", \"attributes\": [\"attribute_3\", \"measurement_15\", \"measurement_8\"], \"weights\": [0.25, -0.07985945045948029, -0.11641444265842438], \"threshold\": -2.05906343460083}}, {\"value\": {\"type\": \"REGRESSION\", \"value\": 0.05186014249920845, \"num_examples\": 5171.0, \"standard_deviation\": 0.45729762876096497}, \"condition\": {\"type\": \"NUMERICAL_SPARSE_OBLIQUE\", \"attributes\": [\"measurement_6\"], \"weights\": [1.0], \"threshold\": 17.09950065612793}}]}, {\"value\": {\"type\": \"REGRESSION\", \"value\": -0.010469533503055573, \"num_examples\": 526.0, \"standard_deviation\": 0.39536413653247154}, \"condition\": {\"type\": \"NUMERICAL_SPARSE_OBLIQUE\", \"attributes\": [\"attribute_2\", \"measurement_14\"], \"weights\": [0.25, -0.07597053050994873], \"threshold\": -0.20814037322998047}, \"children\": [{\"value\": {\"type\": \"REGRESSION\", \"value\": -0.013958935625851154, \"num_examples\": 521.0, \"standard_deviation\": 0.390791852024664}}, {\"value\": {\"type\": \"REGRESSION\", \"value\": 0.3531261086463928, \"num_examples\": 5.0, \"standard_deviation\": 0.4000000193808791}}]}]}, {\"value\": {\"type\": \"REGRESSION\", \"value\": -0.01515692938119173, \"num_examples\": 18162.0, \"standard_deviation\": 0.3891896476992522}, \"condition\": {\"type\": \"NUMERICAL_SPARSE_OBLIQUE\", \"attributes\": [\"measurement_11\", \"measurement_17\", \"measurement_9\"], \"weights\": [0.07587829977273941, 0.0008960517589002848, -0.1269841343164444], \"threshold\": 0.4884597063064575}, \"children\": [{\"value\": {\"type\": \"REGRESSION\", \"value\": -0.011164461262524128, \"num_examples\": 14692.0, \"standard_deviation\": 0.3944646148665838}, \"condition\": {\"type\": \"NUMERICAL_SPARSE_OBLIQUE\", \"attributes\": [\"attribute_2\", \"attribute_3\", \"loading\"], \"weights\": [-0.25, 0.25, -0.0028352709487080574], \"threshold\": 0.4767932891845703}, \"children\": [{\"value\": {\"type\": \"REGRESSION\", \"value\": -0.03759726509451866, \"num_examples\": 1688.0, \"standard_deviation\": 0.3557892357582206}, \"condition\": {\"type\": \"NUMERICAL_SPARSE_OBLIQUE\", \"attributes\": [\"measurement_1\", \"measurement_10\"], \"weights\": [0.03448275849223137, -0.07601094245910645], \"threshold\": -1.0053653717041016}}, {\"value\": {\"type\": \"REGRESSION\", \"value\": -0.007733319886028767, \"num_examples\": 13004.0, \"standard_deviation\": 0.3988535044362109}, \"condition\": {\"type\": \"NUMERICAL_SPARSE_OBLIQUE\", \"attributes\": [\"loading\"], \"weights\": [1.0], \"threshold\": 98.08499908447266}}]}, {\"value\": {\"type\": \"REGRESSION\", \"value\": -0.03206106275320053, \"num_examples\": 3470.0, \"standard_deviation\": 0.364670734888936}, \"condition\": {\"type\": \"NUMERICAL_SPARSE_OBLIQUE\", \"attributes\": [\"measurement_1\", \"measurement_9\"], \"weights\": [0.03448275849223137, 0.1269841343164444], \"threshold\": 1.4064325094223022}, \"children\": [{\"value\": {\"type\": \"REGRESSION\", \"value\": -0.033185362815856934, \"num_examples\": 3454.0, \"standard_deviation\": 0.36290364553384086}, \"condition\": {\"type\": \"NUMERICAL_SPARSE_OBLIQUE\", \"attributes\": [\"loading\"], \"weights\": [1.0], \"threshold\": 106.13500213623047}}, {\"value\": {\"type\": \"REGRESSION\", \"value\": 0.21064746379852295, \"num_examples\": 16.0, \"standard_deviation\": 0.49607837823970263}, \"condition\": {\"type\": \"NUMERICAL_SPARSE_OBLIQUE\", \"attributes\": [\"measurement_15\", \"measurement_16\"], \"weights\": [0.07985945045948029, -0.06947822123765945], \"threshold\": 0.08014422655105591}}]}]}]}, \"#tree_plot_4a2ab00ec6b549348c9a633004471f84\")\n",
       "</script>\n"
      ],
      "text/plain": [
       "<IPython.core.display.HTML object>"
      ]
     },
     "execution_count": 31,
     "metadata": {},
     "output_type": "execute_result"
    }
   ],
   "source": [
    "# Visualize the model\n",
    "# Currently this step works in the Kaggle Notebook Editor but unfortunately displays an empty/blank visualization in the Notebook Viewer\n",
    "tfdf.model_plotter.plot_model_in_colab(gb_model, tree_idx=0, max_depth=3)"
   ]
  },
  {
   "cell_type": "markdown",
   "id": "9adc3f80",
   "metadata": {
    "papermill": {
     "duration": 0.038211,
     "end_time": "2022-08-30T19:29:52.680660",
     "exception": false,
     "start_time": "2022-08-30T19:29:52.642449",
     "status": "completed"
    },
    "tags": []
   },
   "source": [
    "Step 11: Submit your results"
   ]
  },
  {
   "cell_type": "code",
   "execution_count": 32,
   "id": "cc0a6b34",
   "metadata": {
    "_kg_hide-input": false,
    "_kg_hide-output": true,
    "execution": {
     "iopub.execute_input": "2022-08-30T19:29:52.759134Z",
     "iopub.status.busy": "2022-08-30T19:29:52.758789Z",
     "iopub.status.idle": "2022-08-30T19:29:53.635430Z",
     "shell.execute_reply": "2022-08-30T19:29:53.634360Z"
    },
    "papermill": {
     "duration": 0.918692,
     "end_time": "2022-08-30T19:29:53.637785",
     "exception": false,
     "start_time": "2022-08-30T19:29:52.719093",
     "status": "completed"
    },
    "tags": []
   },
   "outputs": [
    {
     "name": "stdout",
     "output_type": "stream",
     "text": [
      "21/21 [==============================] - 0s 14ms/step\n",
      "21/21 [==============================] - 0s 16ms/step\n"
     ]
    },
    {
     "data": {
      "text/html": [
       "<div>\n",
       "<style scoped>\n",
       "    .dataframe tbody tr th:only-of-type {\n",
       "        vertical-align: middle;\n",
       "    }\n",
       "\n",
       "    .dataframe tbody tr th {\n",
       "        vertical-align: top;\n",
       "    }\n",
       "\n",
       "    .dataframe thead th {\n",
       "        text-align: right;\n",
       "    }\n",
       "</style>\n",
       "<table border=\"1\" class=\"dataframe\">\n",
       "  <thead>\n",
       "    <tr style=\"text-align: right;\">\n",
       "      <th></th>\n",
       "      <th>id</th>\n",
       "      <th>failure</th>\n",
       "    </tr>\n",
       "  </thead>\n",
       "  <tbody>\n",
       "    <tr>\n",
       "      <th>0</th>\n",
       "      <td>26570</td>\n",
       "      <td>0.313065</td>\n",
       "    </tr>\n",
       "    <tr>\n",
       "      <th>1</th>\n",
       "      <td>26571</td>\n",
       "      <td>0.254558</td>\n",
       "    </tr>\n",
       "    <tr>\n",
       "      <th>2</th>\n",
       "      <td>26572</td>\n",
       "      <td>0.300084</td>\n",
       "    </tr>\n",
       "    <tr>\n",
       "      <th>3</th>\n",
       "      <td>26573</td>\n",
       "      <td>0.328222</td>\n",
       "    </tr>\n",
       "    <tr>\n",
       "      <th>4</th>\n",
       "      <td>26574</td>\n",
       "      <td>0.322489</td>\n",
       "    </tr>\n",
       "  </tbody>\n",
       "</table>\n",
       "</div>"
      ],
      "text/plain": [
       "      id   failure\n",
       "0  26570  0.313065\n",
       "1  26571  0.254558\n",
       "2  26572  0.300084\n",
       "3  26573  0.328222\n",
       "4  26574  0.322489"
      ]
     },
     "execution_count": 32,
     "metadata": {},
     "output_type": "execute_result"
    }
   ],
   "source": [
    "# One submission file using RandomForest\n",
    "sample_submission_df = pd.read_csv('/kaggle/input/tabular-playground-series-aug-2022/sample_submission.csv')\n",
    "sample_submission_df['failure'] = rf_model.predict(test_tfds)\n",
    "sample_submission_df.to_csv('/kaggle/working/rf_submission.csv', index=False)\n",
    "sample_submission_df.head()\n",
    "\n",
    "# And another using GradientBoostedTrees \n",
    "sample_submission_df = pd.read_csv('/kaggle/input/tabular-playground-series-aug-2022/sample_submission.csv')\n",
    "sample_submission_df['failure'] = gb_model.predict(test_tfds)\n",
    "sample_submission_df.to_csv('/kaggle/working/gb_submission.csv', index=False)\n",
    "sample_submission_df.head()"
   ]
  },
  {
   "cell_type": "markdown",
   "id": "1d25dd22",
   "metadata": {
    "papermill": {
     "duration": 0.038863,
     "end_time": "2022-08-30T19:29:53.716224",
     "exception": false,
     "start_time": "2022-08-30T19:29:53.677361",
     "status": "completed"
    },
    "tags": []
   },
   "source": [
    "TF-DF makes it very easy to find lots of useful information about your model.  For example, the following code cell provides a tremendous amount of information with just a single line of code.  You can preview the output of this code cell by clicking on the \"show output\" button below."
   ]
  },
  {
   "cell_type": "code",
   "execution_count": 33,
   "id": "19c2e1a7",
   "metadata": {
    "_kg_hide-output": true,
    "execution": {
     "iopub.execute_input": "2022-08-30T19:29:53.796506Z",
     "iopub.status.busy": "2022-08-30T19:29:53.796136Z",
     "iopub.status.idle": "2022-08-30T19:29:53.813147Z",
     "shell.execute_reply": "2022-08-30T19:29:53.811955Z"
    },
    "papermill": {
     "duration": 0.066029,
     "end_time": "2022-08-30T19:29:53.821368",
     "exception": false,
     "start_time": "2022-08-30T19:29:53.755339",
     "status": "completed"
    },
    "tags": []
   },
   "outputs": [
    {
     "name": "stdout",
     "output_type": "stream",
     "text": [
      "Model: \"gradient_boosted_trees_model\"\n",
      "_________________________________________________________________\n",
      " Layer (type)                Output Shape              Param #   \n",
      "=================================================================\n",
      "=================================================================\n",
      "Total params: 1\n",
      "Trainable params: 0\n",
      "Non-trainable params: 1\n",
      "_________________________________________________________________\n",
      "Type: \"GRADIENT_BOOSTED_TREES\"\n",
      "Task: CLASSIFICATION\n",
      "Label: \"__LABEL\"\n",
      "\n",
      "Input Features (24):\n",
      "\tattribute_0\n",
      "\tattribute_1\n",
      "\tattribute_2\n",
      "\tattribute_3\n",
      "\tloading\n",
      "\tmeasurement_0\n",
      "\tmeasurement_1\n",
      "\tmeasurement_10\n",
      "\tmeasurement_11\n",
      "\tmeasurement_12\n",
      "\tmeasurement_13\n",
      "\tmeasurement_14\n",
      "\tmeasurement_15\n",
      "\tmeasurement_16\n",
      "\tmeasurement_17\n",
      "\tmeasurement_2\n",
      "\tmeasurement_3\n",
      "\tmeasurement_4\n",
      "\tmeasurement_5\n",
      "\tmeasurement_6\n",
      "\tmeasurement_7\n",
      "\tmeasurement_8\n",
      "\tmeasurement_9\n",
      "\tproduct_code\n",
      "\n",
      "No weights\n",
      "\n",
      "Variable Importance: MEAN_MIN_DEPTH:\n",
      "    1.    \"attribute_0\"  5.377054 ################\n",
      "    2.        \"__LABEL\"  5.377054 ################\n",
      "    3.    \"attribute_1\"  5.375763 ###############\n",
      "    4.   \"product_code\"  5.347018 ###############\n",
      "    5.  \"measurement_8\"  5.303039 ###############\n",
      "    6.  \"measurement_9\"  5.139159 ##############\n",
      "    7.  \"measurement_7\"  5.132243 ##############\n",
      "    8.  \"measurement_4\"  5.086087 ##############\n",
      "    9. \"measurement_16\"  5.042289 ##############\n",
      "   10.  \"measurement_3\"  5.021927 ##############\n",
      "   11.  \"measurement_5\"  5.021367 ##############\n",
      "   12.  \"measurement_2\"  5.021158 ##############\n",
      "   13.  \"measurement_6\"  5.012311 #############\n",
      "   14.  \"measurement_1\"  4.876161 #############\n",
      "   15. \"measurement_14\"  4.869122 #############\n",
      "   16. \"measurement_15\"  4.816090 ############\n",
      "   17. \"measurement_13\"  4.784803 ############\n",
      "   18. \"measurement_17\"  4.738231 ############\n",
      "   19. \"measurement_12\"  4.685054 ############\n",
      "   20. \"measurement_10\"  4.495110 ###########\n",
      "   21.  \"measurement_0\"  4.309516 ##########\n",
      "   22. \"measurement_11\"  4.270024 #########\n",
      "   23.    \"attribute_2\"  3.973143 ########\n",
      "   24.    \"attribute_3\"  3.913933 #######\n",
      "   25.        \"loading\"  2.460603 \n",
      "\n",
      "Variable Importance: NUM_AS_ROOT:\n",
      "    1.        \"loading\" 20.000000 ################\n",
      "    2.    \"attribute_2\"  4.000000 ##\n",
      "    3.    \"attribute_3\"  4.000000 ##\n",
      "    4.  \"measurement_0\"  4.000000 ##\n",
      "    5. \"measurement_12\"  3.000000 #\n",
      "    6. \"measurement_10\"  2.000000 \n",
      "    7. \"measurement_11\"  2.000000 \n",
      "    8. \"measurement_13\"  2.000000 \n",
      "    9. \"measurement_14\"  1.000000 \n",
      "   10. \"measurement_15\"  1.000000 \n",
      "   11. \"measurement_17\"  1.000000 \n",
      "   12.  \"measurement_2\"  1.000000 \n",
      "   13.  \"measurement_3\"  1.000000 \n",
      "   14.  \"measurement_4\"  1.000000 \n",
      "   15.  \"measurement_6\"  1.000000 \n",
      "   16.  \"measurement_7\"  1.000000 \n",
      "   17.  \"measurement_9\"  1.000000 \n",
      "\n",
      "Variable Importance: NUM_NODES:\n",
      "    1.        \"loading\" 211.000000 ################\n",
      "    2.    \"attribute_2\" 144.000000 ##########\n",
      "    3.    \"attribute_3\" 114.000000 ########\n",
      "    4.  \"measurement_0\" 107.000000 ########\n",
      "    5. \"measurement_10\" 87.000000 ######\n",
      "    6. \"measurement_11\" 82.000000 ######\n",
      "    7.  \"measurement_1\" 74.000000 #####\n",
      "    8. \"measurement_12\" 72.000000 #####\n",
      "    9. \"measurement_14\" 67.000000 #####\n",
      "   10. \"measurement_13\" 58.000000 ####\n",
      "   11. \"measurement_15\" 54.000000 ####\n",
      "   12. \"measurement_16\" 51.000000 ###\n",
      "   13. \"measurement_17\" 49.000000 ###\n",
      "   14.  \"measurement_5\" 44.000000 ###\n",
      "   15.  \"measurement_3\" 37.000000 ##\n",
      "   16.  \"measurement_6\" 37.000000 ##\n",
      "   17.  \"measurement_2\" 31.000000 ##\n",
      "   18.  \"measurement_4\" 30.000000 ##\n",
      "   19.  \"measurement_7\" 26.000000 #\n",
      "   20.  \"measurement_9\" 24.000000 #\n",
      "   21.  \"measurement_8\" 14.000000 \n",
      "   22.   \"product_code\"  7.000000 \n",
      "   23.    \"attribute_1\"  1.000000 \n",
      "\n",
      "Variable Importance: SUM_SCORE:\n",
      "    1.        \"loading\" 559.893111 ################\n",
      "    2.    \"attribute_2\" 223.823314 ######\n",
      "    3.    \"attribute_3\" 184.935428 #####\n",
      "    4.  \"measurement_0\" 168.084332 ####\n",
      "    5. \"measurement_10\" 140.228431 ###\n",
      "    6. \"measurement_11\" 128.829269 ###\n",
      "    7.  \"measurement_1\" 107.419474 ###\n",
      "    8. \"measurement_12\" 103.994215 ##\n",
      "    9. \"measurement_14\" 103.681455 ##\n",
      "   10. \"measurement_13\" 85.158171 ##\n",
      "   11. \"measurement_15\" 80.799881 ##\n",
      "   12. \"measurement_17\" 78.355143 ##\n",
      "   13. \"measurement_16\" 75.898226 ##\n",
      "   14.  \"measurement_5\" 67.268111 #\n",
      "   15.  \"measurement_3\" 57.330235 #\n",
      "   16.  \"measurement_2\" 55.250396 #\n",
      "   17.  \"measurement_6\" 51.578574 #\n",
      "   18.  \"measurement_4\" 47.128059 #\n",
      "   19.  \"measurement_7\" 42.157243 #\n",
      "   20.  \"measurement_9\" 36.030034 #\n",
      "   21.  \"measurement_8\" 21.436175 \n",
      "   22.   \"product_code\"  6.031260 \n",
      "   23.    \"attribute_1\"  1.070964 \n",
      "\n",
      "\n",
      "\n",
      "Loss: BINOMIAL_LOG_LIKELIHOOD\n",
      "Validation loss value: 1.05322\n",
      "Number of trees per iteration: 1\n",
      "Node format: NOT_SET\n",
      "Number of trees: 50\n",
      "Total number of nodes: 2892\n",
      "\n",
      "Number of nodes by tree:\n",
      "Count: 50 Average: 57.84 StdDev: 6.47568\n",
      "Min: 29 Max: 61 Ignored: 0\n",
      "----------------------------------------------\n",
      "[ 29, 30)  1   2.00%   2.00%\n",
      "[ 30, 32)  0   0.00%   2.00%\n",
      "[ 32, 33)  0   0.00%   2.00%\n",
      "[ 33, 35)  0   0.00%   2.00%\n",
      "[ 35, 37)  0   0.00%   2.00%\n",
      "[ 37, 38)  0   0.00%   2.00%\n",
      "[ 38, 40)  0   0.00%   2.00%\n",
      "[ 40, 42)  0   0.00%   2.00%\n",
      "[ 42, 43)  0   0.00%   2.00%\n",
      "[ 43, 45)  1   2.00%   4.00%\n",
      "[ 45, 47)  3   6.00%  10.00% #\n",
      "[ 47, 48)  1   2.00%  12.00%\n",
      "[ 48, 50)  0   0.00%  12.00%\n",
      "[ 50, 52)  0   0.00%  12.00%\n",
      "[ 52, 53)  0   0.00%  12.00%\n",
      "[ 53, 55)  3   6.00%  18.00% #\n",
      "[ 55, 57)  1   2.00%  20.00%\n",
      "[ 57, 58)  3   6.00%  26.00% #\n",
      "[ 58, 60)  2   4.00%  30.00% #\n",
      "[ 60, 61] 35  70.00% 100.00% ##########\n",
      "\n",
      "Depth by leafs:\n",
      "Count: 1471 Average: 5.37933 StdDev: 0.997049\n",
      "Min: 1 Max: 6 Ignored: 0\n",
      "----------------------------------------------\n",
      "[ 1, 2)   5   0.34%   0.34%\n",
      "[ 2, 3)  20   1.36%   1.70%\n",
      "[ 3, 4)  78   5.30%   7.00% #\n",
      "[ 4, 5) 154  10.47%  17.47% ##\n",
      "[ 5, 6) 266  18.08%  35.55% ###\n",
      "[ 6, 6] 948  64.45% 100.00% ##########\n",
      "\n",
      "Number of training obs by leaf:\n",
      "Count: 1471 Average: 0 StdDev: 0\n",
      "Min: 0 Max: 0 Ignored: 0\n",
      "----------------------------------------------\n",
      "[ 0, 0] 1471 100.00% 100.00% ##########\n",
      "\n",
      "Attribute in nodes:\n",
      "\t211 : loading [NUMERICAL]\n",
      "\t144 : attribute_2 [NUMERICAL]\n",
      "\t114 : attribute_3 [NUMERICAL]\n",
      "\t107 : measurement_0 [NUMERICAL]\n",
      "\t87 : measurement_10 [NUMERICAL]\n",
      "\t82 : measurement_11 [NUMERICAL]\n",
      "\t74 : measurement_1 [NUMERICAL]\n",
      "\t72 : measurement_12 [NUMERICAL]\n",
      "\t67 : measurement_14 [NUMERICAL]\n",
      "\t58 : measurement_13 [NUMERICAL]\n",
      "\t54 : measurement_15 [NUMERICAL]\n",
      "\t51 : measurement_16 [NUMERICAL]\n",
      "\t49 : measurement_17 [NUMERICAL]\n",
      "\t44 : measurement_5 [NUMERICAL]\n",
      "\t37 : measurement_6 [NUMERICAL]\n",
      "\t37 : measurement_3 [NUMERICAL]\n",
      "\t31 : measurement_2 [NUMERICAL]\n",
      "\t30 : measurement_4 [NUMERICAL]\n",
      "\t26 : measurement_7 [NUMERICAL]\n",
      "\t24 : measurement_9 [NUMERICAL]\n",
      "\t14 : measurement_8 [NUMERICAL]\n",
      "\t7 : product_code [CATEGORICAL]\n",
      "\t1 : attribute_1 [CATEGORICAL]\n",
      "\n",
      "Attribute in nodes with depth <= 0:\n",
      "\t20 : loading [NUMERICAL]\n",
      "\t4 : measurement_0 [NUMERICAL]\n",
      "\t4 : attribute_3 [NUMERICAL]\n",
      "\t4 : attribute_2 [NUMERICAL]\n",
      "\t3 : measurement_12 [NUMERICAL]\n",
      "\t2 : measurement_13 [NUMERICAL]\n",
      "\t2 : measurement_11 [NUMERICAL]\n",
      "\t2 : measurement_10 [NUMERICAL]\n",
      "\t1 : measurement_9 [NUMERICAL]\n",
      "\t1 : measurement_7 [NUMERICAL]\n",
      "\t1 : measurement_6 [NUMERICAL]\n",
      "\t1 : measurement_4 [NUMERICAL]\n",
      "\t1 : measurement_3 [NUMERICAL]\n",
      "\t1 : measurement_2 [NUMERICAL]\n",
      "\t1 : measurement_17 [NUMERICAL]\n",
      "\t1 : measurement_15 [NUMERICAL]\n",
      "\t1 : measurement_14 [NUMERICAL]\n",
      "\n",
      "Attribute in nodes with depth <= 1:\n",
      "\t39 : loading [NUMERICAL]\n",
      "\t14 : attribute_3 [NUMERICAL]\n",
      "\t13 : measurement_11 [NUMERICAL]\n",
      "\t13 : attribute_2 [NUMERICAL]\n",
      "\t11 : measurement_0 [NUMERICAL]\n",
      "\t10 : measurement_10 [NUMERICAL]\n",
      "\t6 : measurement_17 [NUMERICAL]\n",
      "\t6 : measurement_13 [NUMERICAL]\n",
      "\t5 : measurement_12 [NUMERICAL]\n",
      "\t4 : measurement_6 [NUMERICAL]\n",
      "\t4 : measurement_2 [NUMERICAL]\n",
      "\t4 : measurement_15 [NUMERICAL]\n",
      "\t3 : measurement_3 [NUMERICAL]\n",
      "\t3 : measurement_1 [NUMERICAL]\n",
      "\t2 : measurement_7 [NUMERICAL]\n",
      "\t2 : measurement_4 [NUMERICAL]\n",
      "\t2 : measurement_14 [NUMERICAL]\n",
      "\t1 : measurement_9 [NUMERICAL]\n",
      "\t1 : measurement_8 [NUMERICAL]\n",
      "\t1 : measurement_5 [NUMERICAL]\n",
      "\t1 : measurement_16 [NUMERICAL]\n",
      "\n",
      "Attribute in nodes with depth <= 2:\n",
      "\t69 : loading [NUMERICAL]\n",
      "\t30 : attribute_3 [NUMERICAL]\n",
      "\t28 : measurement_11 [NUMERICAL]\n",
      "\t28 : attribute_2 [NUMERICAL]\n",
      "\t21 : measurement_0 [NUMERICAL]\n",
      "\t16 : measurement_10 [NUMERICAL]\n",
      "\t15 : measurement_13 [NUMERICAL]\n",
      "\t14 : measurement_17 [NUMERICAL]\n",
      "\t12 : measurement_15 [NUMERICAL]\n",
      "\t12 : measurement_12 [NUMERICAL]\n",
      "\t11 : measurement_2 [NUMERICAL]\n",
      "\t11 : measurement_1 [NUMERICAL]\n",
      "\t9 : measurement_14 [NUMERICAL]\n",
      "\t7 : measurement_6 [NUMERICAL]\n",
      "\t7 : measurement_5 [NUMERICAL]\n",
      "\t7 : measurement_16 [NUMERICAL]\n",
      "\t5 : measurement_9 [NUMERICAL]\n",
      "\t5 : measurement_4 [NUMERICAL]\n",
      "\t4 : measurement_3 [NUMERICAL]\n",
      "\t2 : measurement_8 [NUMERICAL]\n",
      "\t2 : measurement_7 [NUMERICAL]\n",
      "\n",
      "Attribute in nodes with depth <= 3:\n",
      "\t113 : loading [NUMERICAL]\n",
      "\t56 : attribute_2 [NUMERICAL]\n",
      "\t46 : attribute_3 [NUMERICAL]\n",
      "\t42 : measurement_0 [NUMERICAL]\n",
      "\t39 : measurement_11 [NUMERICAL]\n",
      "\t35 : measurement_10 [NUMERICAL]\n",
      "\t28 : measurement_14 [NUMERICAL]\n",
      "\t26 : measurement_15 [NUMERICAL]\n",
      "\t25 : measurement_13 [NUMERICAL]\n",
      "\t24 : measurement_1 [NUMERICAL]\n",
      "\t23 : measurement_17 [NUMERICAL]\n",
      "\t22 : measurement_12 [NUMERICAL]\n",
      "\t18 : measurement_2 [NUMERICAL]\n",
      "\t16 : measurement_5 [NUMERICAL]\n",
      "\t13 : measurement_6 [NUMERICAL]\n",
      "\t11 : measurement_16 [NUMERICAL]\n",
      "\t9 : measurement_4 [NUMERICAL]\n",
      "\t8 : measurement_9 [NUMERICAL]\n",
      "\t8 : measurement_7 [NUMERICAL]\n",
      "\t8 : measurement_3 [NUMERICAL]\n",
      "\t5 : measurement_8 [NUMERICAL]\n",
      "\t2 : product_code [CATEGORICAL]\n",
      "\n",
      "Attribute in nodes with depth <= 5:\n",
      "\t211 : loading [NUMERICAL]\n",
      "\t144 : attribute_2 [NUMERICAL]\n",
      "\t114 : attribute_3 [NUMERICAL]\n",
      "\t107 : measurement_0 [NUMERICAL]\n",
      "\t87 : measurement_10 [NUMERICAL]\n",
      "\t82 : measurement_11 [NUMERICAL]\n",
      "\t74 : measurement_1 [NUMERICAL]\n",
      "\t72 : measurement_12 [NUMERICAL]\n",
      "\t67 : measurement_14 [NUMERICAL]\n",
      "\t58 : measurement_13 [NUMERICAL]\n",
      "\t54 : measurement_15 [NUMERICAL]\n",
      "\t51 : measurement_16 [NUMERICAL]\n",
      "\t49 : measurement_17 [NUMERICAL]\n",
      "\t44 : measurement_5 [NUMERICAL]\n",
      "\t37 : measurement_6 [NUMERICAL]\n",
      "\t37 : measurement_3 [NUMERICAL]\n",
      "\t31 : measurement_2 [NUMERICAL]\n",
      "\t30 : measurement_4 [NUMERICAL]\n",
      "\t26 : measurement_7 [NUMERICAL]\n",
      "\t24 : measurement_9 [NUMERICAL]\n",
      "\t14 : measurement_8 [NUMERICAL]\n",
      "\t7 : product_code [CATEGORICAL]\n",
      "\t1 : attribute_1 [CATEGORICAL]\n",
      "\n",
      "Condition type in nodes:\n",
      "\t1413 : ObliqueCondition\n",
      "\t8 : ContainsBitmapCondition\n",
      "Condition type in nodes with depth <= 0:\n",
      "\t50 : ObliqueCondition\n",
      "Condition type in nodes with depth <= 1:\n",
      "\t145 : ObliqueCondition\n",
      "Condition type in nodes with depth <= 2:\n",
      "\t315 : ObliqueCondition\n",
      "Condition type in nodes with depth <= 3:\n",
      "\t575 : ObliqueCondition\n",
      "\t2 : ContainsBitmapCondition\n",
      "Condition type in nodes with depth <= 5:\n",
      "\t1413 : ObliqueCondition\n",
      "\t8 : ContainsBitmapCondition\n",
      "\n"
     ]
    }
   ],
   "source": [
    "gb_model.summary()"
   ]
  },
  {
   "cell_type": "markdown",
   "id": "c22a03d5",
   "metadata": {
    "papermill": {
     "duration": 0.039492,
     "end_time": "2022-08-30T19:29:53.902691",
     "exception": false,
     "start_time": "2022-08-30T19:29:53.863199",
     "status": "completed"
    },
    "tags": []
   },
   "source": [
    "# Conclusion"
   ]
  },
  {
   "cell_type": "markdown",
   "id": "0a7e184a",
   "metadata": {
    "papermill": {
     "duration": 0.03936,
     "end_time": "2022-08-30T19:29:53.981656",
     "exception": false,
     "start_time": "2022-08-30T19:29:53.942296",
     "status": "completed"
    },
    "tags": []
   },
   "source": [
    "[TensorFlow Decision Forests](https://www.tensorflow.org/decision_forests) (TF-DF) made it  quick and easy to train our RandomForest and GradientBoostedTrees models.  These types of decision forest models require minimal pre-processing of the data and are great when working with tabular datasets and/or small datasets (especially if you just want a quick baseline result to compare against).  Some of my favorite parts about  working with TF-DF were: (1) I was able to train a GradientBoostedTrees model with only a few lines of code; (2) there were lots of different default hyper-parameter options that I could choose from; (3) it was easy to visualize the structure/architecture of my models; and (4) it was easy to explore what features were most important to my model (to interpret and explain its decisions).\n",
    "\n",
    "\n",
    "We worked with the [Tabular Playground Series August 2022](https://www.kaggle.com/competitions/tabular-playground-series-aug-2022/data) Kaggle Dataset.  It was a tabular dataset with with 26,000 rows x 26 columns (3.95MB .CSV training dataset + 3.06MB .CSV test set) that was suitable for training algorithms to solve binary classification problems (in this case to determine if a \"Super Soaker\" machine is in a \"failure\" state of \"0\" or \"1\" based off of input sensor data (consisting of 18 measurement fields, 4 attribute fields, and 2 additional fields)).  \n",
    "\n",
    "\n",
    "We were able to quickly solve this task with an accuracy of ~77% (AUC-ROC: ~.74). This isn't necessarily a great result but hopefully can serve as a helpful and informative baseline for the task at hand.  To get to the top of the leaderboard it will be important to do add in a few additional code cells where and spend some time doing some feature engineering and feature selection (as mentioned previously). \n",
    "\n",
    "To learn more about TF-DF visit https://www.tensorflow.org/decision_forests.\n",
    "\n",
    "Next steps?\n",
    " - Click on the \"copy & edit\" button in the top right corner of this notebook\n",
    " - Experiment and try to increase the score.  My recommendation would be to focus on the [feature engineering and feature selection](https://www.kaggle.com/learn/feature-engineering) steps, as these steps were omitted from this tutorial (for the sake of brevity)\n",
    " - Make a submission to https://www.kaggle.com/competitions/tabular-playground-series-aug-2022"
   ]
  },
  {
   "cell_type": "markdown",
   "id": "5e773d4e",
   "metadata": {
    "papermill": {
     "duration": 0.039802,
     "end_time": "2022-08-30T19:29:54.062229",
     "exception": false,
     "start_time": "2022-08-30T19:29:54.022427",
     "status": "completed"
    },
    "tags": []
   },
   "source": [
    "Works Cited:\n",
    " - [Build, train and evaluate models with TensorFlow Decision Forests](https://www.tensorflow.org/decision_forests/tutorials/beginner_colab) from @[tensorflow](https://www.tensorflow.org/decision_forests/tutorials/)\n",
    "  - Code snippets for model training visualization \n",
    "  - See comments in plot_tfdf_model_training_curves() for more detail\n",
    "\n",
    "Other Useful References:\n",
    " - https://www.tensorflow.org/decision_forests/tutorials/beginner_colab\n",
    " - https://www.tensorflow.org/decision_forests/tutorials/intermediate_colab\n",
    " - https://www.tensorflow.org/decision_forests/tutorials/advanced_colab"
   ]
  },
  {
   "cell_type": "code",
   "execution_count": null,
   "id": "13d25236",
   "metadata": {
    "papermill": {
     "duration": 0.040424,
     "end_time": "2022-08-30T19:29:54.143560",
     "exception": false,
     "start_time": "2022-08-30T19:29:54.103136",
     "status": "completed"
    },
    "tags": []
   },
   "outputs": [],
   "source": []
  }
 ],
 "metadata": {
  "kernelspec": {
   "display_name": "Python 3",
   "language": "python",
   "name": "python3"
  },
  "language_info": {
   "codemirror_mode": {
    "name": "ipython",
    "version": 3
   },
   "file_extension": ".py",
   "mimetype": "text/x-python",
   "name": "python",
   "nbconvert_exporter": "python",
   "pygments_lexer": "ipython3",
   "version": "3.7.12"
  },
  "papermill": {
   "default_parameters": {},
   "duration": 129.440868,
   "end_time": "2022-08-30T19:29:57.757553",
   "environment_variables": {},
   "exception": null,
   "input_path": "__notebook__.ipynb",
   "output_path": "__notebook__.ipynb",
   "parameters": {},
   "start_time": "2022-08-30T19:27:48.316685",
   "version": "2.3.4"
  }
 },
 "nbformat": 4,
 "nbformat_minor": 5
}
