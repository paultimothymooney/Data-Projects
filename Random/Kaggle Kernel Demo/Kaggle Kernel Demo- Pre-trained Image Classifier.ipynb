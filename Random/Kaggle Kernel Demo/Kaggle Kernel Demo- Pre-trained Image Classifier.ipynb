{
  "cells": [
    {
      "metadata": {
        "_uuid": "da28af4ed35d898090bc3a0084be298c00726da5"
      },
      "cell_type": "markdown",
      "source": "![](https://i.imgur.com/8PCLIKD.png)\n"
    },
    {
      "metadata": {
        "trusted": true,
        "_uuid": "2374add98a54afa69a61b9b22e1b86d040e26bca"
      },
      "cell_type": "code",
      "source": "print('hello world')",
      "execution_count": 1,
      "outputs": [
        {
          "output_type": "stream",
          "text": "hello world\n",
          "name": "stdout"
        }
      ]
    },
    {
      "metadata": {
        "trusted": true,
        "_uuid": "fc408f4086c4aa1078aabf6abc362fbe5447e10f",
        "_kg_hide-output": true
      },
      "cell_type": "code",
      "source": "import numpy as np \nimport pandas as pd\nimport os\nimport json\nfrom tensorflow.python.keras.applications import ResNet50\nfrom tensorflow.python.keras.applications.resnet50 import preprocess_input\nfrom tensorflow.python.keras.preprocessing.image import load_img, img_to_array\nfrom IPython.display import Image, display",
      "execution_count": null,
      "outputs": [
        {
          "output_type": "stream",
          "text": "/opt/conda/lib/python3.6/site-packages/h5py/__init__.py:36: FutureWarning: Conversion of the second argument of issubdtype from `float` to `np.floating` is deprecated. In future, it will be treated as `np.float64 == np.dtype(float).type`.\n  from ._conv import register_converters as _register_converters\n",
          "name": "stderr"
        }
      ]
    },
    {
      "metadata": {
        "trusted": true,
        "_uuid": "f650152fe2c798baaf8fd6e8c56279111d1700e1",
        "collapsed": true
      },
      "cell_type": "code",
      "source": "# adapted from https://www.kaggle.com/dansbecker/programming-in-tensorflow-and-keras\n\nimage_size = 224\ndef read_and_prep_images(img_paths, img_height=image_size, img_width=image_size):\n    imgs = [load_img(img_path, target_size=(img_height, img_width)) for img_path in img_paths]\n    img_array = np.array([img_to_array(img) for img in imgs])\n    output = preprocess_input(img_array)\n    return(output)\n\ndef decode_predictions(preds, top=5, class_list_path=None):\n    if len(preds.shape) != 2 or preds.shape[1] != 1000:\n        raise ValueError('`decode_predictions` expects '\n                     'a batch of predictions '\n                     '(i.e. a 2D array of shape (samples, 1000)). '\n                     'Found array with shape: ' + str(preds.shape))\n    CLASS_INDEX = json.load(open(class_list_path))\n    results = []\n    for pred in preds:\n        top_indices = pred.argsort()[-top:][::-1]\n        result = [tuple(CLASS_INDEX[str(i)]) + (pred[i],) for i in top_indices]\n        result.sort(key=lambda x: x[2], reverse=True)\n        results.append(result)\n    return results\n\nimage_paths = '../input/sample-images-for-kaggle-demos'\nimage_paths = [os.path.join(image_paths,filename) for filename in os.listdir(image_paths)]\nimage_data = read_and_prep_images(image_paths)\nimg_paths = image_paths\nmy_model = ResNet50(weights='../input/resnet50/resnet50_weights_tf_dim_ordering_tf_kernels.h5')\ntest_data = read_and_prep_images(img_paths)\nmy_preds = my_model.predict(test_data)\npreds = my_preds\nmost_likely_labels = decode_predictions(preds, top=1, class_list_path='../input/resnet50/imagenet_class_index.json')\n\nfor i, img_path in enumerate(img_paths):\n    display(Image(img_path))\n    print(most_likely_labels[i])",
      "execution_count": null,
      "outputs": []
    },
    {
      "metadata": {
        "_uuid": "3385619f348a1306888c233ecd8ca8407bbcffdc"
      },
      "cell_type": "markdown",
      "source": "![](https://i.imgur.com/8PCLIKD.png)\n"
    },
    {
      "metadata": {
        "trusted": true,
        "collapsed": true,
        "_uuid": "8ff4c9082be9bc748657913f32b07045f0468db3"
      },
      "cell_type": "markdown",
      "source": "**The Kaggle community** has the three necessary ingredients for data science: data, code, and people.  \n\n* Explore discussion posts on advanced topics: ([Link #1](https://www.kaggle.com/sudalairajkumar/winning-solutions-of-kaggle-competitions))\n\nA **kernel** contains the data, the code, and the environment that is necessary to run that code.  With kernels you can reproduce a data science project with just one click.\n\n* Explore kernels on advanced topics: ([Link #2](https://www.kaggle.com/shivamb/data-science-glossary-on-kaggle/))\n"
    },
    {
      "metadata": {
        "trusted": true,
        "collapsed": true,
        "_uuid": "5befb4a9b3bcd346918a2d3c21802ae301503a65"
      },
      "cell_type": "code",
      "source": "",
      "execution_count": null,
      "outputs": []
    }
  ],
  "metadata": {
    "kernelspec": {
      "display_name": "Python 3",
      "language": "python",
      "name": "python3"
    },
    "language_info": {
      "name": "python",
      "version": "3.6.4",
      "mimetype": "text/x-python",
      "codemirror_mode": {
        "name": "ipython",
        "version": 3
      },
      "pygments_lexer": "ipython3",
      "nbconvert_exporter": "python",
      "file_extension": ".py"
    }
  },
  "nbformat": 4,
  "nbformat_minor": 1
}