{
  "cells": [
    {
      "metadata": {
        "_uuid": "252dda2cda1d723867d339b0980b22ca05da2c52"
      },
      "cell_type": "markdown",
      "source": "**Weekly Count of Parking Tickets in Los Angeles**"
    },
    {
      "metadata": {
        "trusted": true,
        "_uuid": "f971807585e60ea528fb461b639ee50493d93098",
        "_kg_hide-input": true
      },
      "cell_type": "code",
      "source": "import os\nimport numpy as np \nimport pandas as pd\nimport matplotlib.pyplot as plt\nimport plotly.graph_objs as go\nfrom plotly.offline import init_notebook_mode, iplot\nfrom IPython.core import display as ICD\ninit_notebook_mode(connected=True)\ntickets = pd.read_csv('../input/parking-citations.csv')\ntickets = tickets.sort_values(by='Issue Date')\ntickets2 = tickets\ntickets2['oldDate'] = tickets2['Issue Date']\ntickets2['newDate'] = pd.DatetimeIndex(tickets2.oldDate).normalize()\ndateCounts = tickets2['newDate'].value_counts()\ndateCountsDf = pd.DataFrame(dateCounts)\ndateCountsDf['date2'] = dateCountsDf.index\ndateCountsDf = dateCountsDf.sort_values(by='date2')\ndateCountsDf = dateCountsDf.resample('W', on='date2').sum()\ndateCountsDf = dateCountsDf.reset_index(level='date2')\ndateCountsDf = dateCountsDf[(dateCountsDf['date2'].dt.year > 2014)] \ndf = dateCountsDf\ntrace1 = go.Scatter(\n                    x = df.date2,\n                    y = df.newDate,\n                    mode = \"lines+markers\",\n                    name = \"gettingStarted\",\n                    marker = dict(color = 'rgba(0, 0, 255, 0.8)'),)\ndata = [trace1]\nlayout = dict(title = 'Weekly Count of Parking Tickets in Los Angeles',\n              xaxis= dict(title= 'Date',ticklen= 5,zeroline= False),yaxis= dict(title= '# of Parking Tickets',ticklen= 5,zeroline= False),legend=dict(orientation= \"h\",x=0, y= 1.13)\n             )\nfig = dict(data = data, layout = layout)\niplot(fig)",
      "execution_count": null,
      "outputs": []
    }
  ],
  "metadata": {
    "kernelspec": {
      "display_name": "Python 3",
      "language": "python",
      "name": "python3"
    },
    "language_info": {
      "name": "python",
      "version": "3.6.6",
      "mimetype": "text/x-python",
      "codemirror_mode": {
        "name": "ipython",
        "version": 3
      },
      "pygments_lexer": "ipython3",
      "nbconvert_exporter": "python",
      "file_extension": ".py"
    }
  },
  "nbformat": 4,
  "nbformat_minor": 1
}