{
  "cells": [
    {
      "metadata": {
        "_uuid": "15e90824ab83d2616a4a6138ec54ef11afcc7a41"
      },
      "cell_type": "markdown",
      "source": "**Map of Restaurants in San Francisco**"
    },
    {
      "metadata": {
        "_kg_hide-input": true,
        "_kg_hide-output": true,
        "trusted": true,
        "_uuid": "fc818bd6c94cfe42231d8f0d5bff846def7bb854"
      },
      "cell_type": "code",
      "source": "import numpy as np \nimport pandas as pd\nimport warnings\nwarnings.simplefilter(\"ignore\")\nimport numpy as np\nimport pandas as pd\nfrom scipy.special import boxcox\nimport seaborn as sns\nimport matplotlib.pyplot as plt\n%matplotlib inline\nimport plotly\nimport plotly.plotly as py\nimport plotly.offline as offline\nimport plotly.graph_objs as go\nfrom plotly.offline import download_plotlyjs, init_notebook_mode, plot, iplot\ninit_notebook_mode(connected=True)\nimport cufflinks as cf\nfrom plotly.graph_objs import Scatter, Figure, Layout\ncf.set_config_file(offline=True)\ntrain = pd.read_csv('../input/restaurant-scores-lives-standard.csv')\ntrain2 = train[train.risk_category == 'High Risk']",
      "execution_count": null,
      "outputs": []
    },
    {
      "metadata": {
        "_uuid": "6123554e29dc270ca7c615e16b13cf5b12bd1e6b"
      },
      "cell_type": "markdown",
      "source": "**Restaurants:**"
    },
    {
      "metadata": {
        "trusted": true,
        "_uuid": "b9289ff9f9e00a44bf865b039107f1f8fb886e40",
        "_kg_hide-input": true,
        "scrolled": true
      },
      "cell_type": "code",
      "source": "data = [go.Scattermapbox(\n            lat= train['business_latitude'] ,\n            lon= train['business_longitude'],\n            mode='markers',\n            text=train['business_name'],\n            marker=dict(\n                size= 10,\n                color = 'black',\n                opacity = .8,\n            ),\n          )]\nlayout = go.Layout(autosize=False,\n                   mapbox= dict(accesstoken=\"pk.eyJ1Ijoic2hhejEzIiwiYSI6ImNqYXA3NjhmeDR4d3Iyd2w5M2phM3E2djQifQ.yyxsAzT94VGYYEEOhxy87w\",\n                                bearing=0,\n                                pitch=0,\n                                zoom=12,\n                                center= dict(\n                                         lat=37.782852,\n                                         lon=-122.388405),\n                                #style= \"mapbox://styles/shaz13/cjiog1iqa1vkd2soeu5eocy4i\"\n                               ),\n                    width=1800,\n                    height=1200, title = \"Restaurants in San Francisco\")\nfig = dict(data=data, layout=layout)\niplot(fig)",
      "execution_count": null,
      "outputs": []
    },
    {
      "metadata": {
        "_uuid": "597788c0286e359eb370af03de318460f04139af"
      },
      "cell_type": "markdown",
      "source": "**Health Code Violations:**"
    },
    {
      "metadata": {
        "_kg_hide-input": true,
        "trusted": true,
        "_uuid": "5a70bb02ef3f1bfbdcfcac9dec23fbfb1a582e82"
      },
      "cell_type": "code",
      "source": "data = [go.Scattermapbox(\n            lat= train['business_latitude'] ,\n            lon= train['business_longitude'],\n            mode='markers',\n            text=train['violation_description'],\n            marker=dict(\n                size= 10,\n                color = 'red',\n                opacity = .8,\n            ),\n          )]\nlayout = go.Layout(autosize=False,\n                   mapbox= dict(accesstoken=\"pk.eyJ1Ijoic2hhejEzIiwiYSI6ImNqYXA3NjhmeDR4d3Iyd2w5M2phM3E2djQifQ.yyxsAzT94VGYYEEOhxy87w\",\n                                bearing=0,\n                                pitch=0,\n                                zoom=12,\n                                center= dict(\n                                         lat=37.782852,\n                                         lon=-122.388405),\n                                #style= \"mapbox://styles/shaz13/cjiog1iqa1vkd2soeu5eocy4i\"\n                               ),\n                    width=1800,\n                    height=1200, title = \"Health Code Violations at Restaurants in San Francisco\")\nfig = dict(data=data, layout=layout)\niplot(fig)",
      "execution_count": null,
      "outputs": []
    },
    {
      "metadata": {
        "_uuid": "96a2d22b636c55e5b543256651f9867db5a45e03"
      },
      "cell_type": "markdown",
      "source": "Credit: Many functions are adaptations from https://www.kaggle.com/shaz13/simple-exploration-notebook-map-plots-v2/"
    }
  ],
  "metadata": {
    "kernelspec": {
      "display_name": "Python 3",
      "language": "python",
      "name": "python3"
    },
    "language_info": {
      "name": "python",
      "version": "3.6.6",
      "mimetype": "text/x-python",
      "codemirror_mode": {
        "name": "ipython",
        "version": 3
      },
      "pygments_lexer": "ipython3",
      "nbconvert_exporter": "python",
      "file_extension": ".py"
    }
  },
  "nbformat": 4,
  "nbformat_minor": 1
}