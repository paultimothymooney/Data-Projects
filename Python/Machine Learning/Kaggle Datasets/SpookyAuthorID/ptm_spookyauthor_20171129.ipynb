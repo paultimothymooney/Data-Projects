{
  "cells": [
    {
      "metadata": {
        "_cell_guid": "16bf83a3-1ffd-43b8-af62-a496ba3db95b",
        "_uuid": "934e230bee5866e2ff84750a71c190e36b410a76"
      },
      "cell_type": "markdown",
      "source": "Paul Mooney, 11/29/2017\n\n**In this year's Halloween playground competition, you're challenged to predict the author of excerpts from horror stories by Edgar Allan Poe, Mary Shelley, and HP Lovecraft**"
    },
    {
      "metadata": {
        "_cell_guid": "989470ff-7461-483a-b4c8-99fb6dab440c",
        "_uuid": "98fd938730c615f8c568d91fb2d435e069e33b2c",
        "trusted": true
      },
      "cell_type": "code",
      "source": "import numpy as np\nimport pandas as pd\nfrom collections import defaultdict\nimport keras\nimport keras.backend as K\nfrom keras.layers import Dense, GlobalAveragePooling1D, Embedding\nfrom keras.callbacks import EarlyStopping\nfrom keras.models import Sequential\nfrom keras.preprocessing.sequence import pad_sequences\nfrom keras.preprocessing.text import Tokenizer\nfrom keras.utils import to_categorical\nfrom sklearn.model_selection import train_test_split",
      "execution_count": 1,
      "outputs": [
        {
          "output_type": "stream",
          "text": "Using TensorFlow backend.\n/opt/conda/lib/python3.6/importlib/_bootstrap.py:219: RuntimeWarning: compiletime version 3.5 of module 'tensorflow.python.framework.fast_tensor_util' does not match runtime version 3.6\n  return f(*args, **kwds)\n",
          "name": "stderr"
        }
      ]
    },
    {
      "metadata": {
        "_cell_guid": "30fa123d-08de-43de-a42e-ffd230bee7d2",
        "collapsed": true,
        "_uuid": "458a644c07358804a2af1adbb782d61e86fce409",
        "trusted": true
      },
      "cell_type": "code",
      "source": "df = pd.read_csv('./../input/train.csv')",
      "execution_count": 2,
      "outputs": []
    },
    {
      "metadata": {
        "_cell_guid": "31c8d188-4fc4-4036-a05d-5e4ec6344715",
        "_uuid": "eefc1b0eff8d4a6111c45611b71ba02759885657"
      },
      "cell_type": "markdown",
      "source": "**This is what the data looks like. It is a CSV file. \n\n**We have a column titled \"text\" containing sentences and a column titled \"author\" containing author initials.****"
    },
    {
      "metadata": {
        "_cell_guid": "3b758626-32e2-4e68-82e9-6a0fd7301daa",
        "_uuid": "2a5d251576fcb8403a9b7bc99e5e8fbcf300f8e1",
        "trusted": true
      },
      "cell_type": "code",
      "source": "sample = df.values[0:3]\nprint(sample)\ndf.head(20)\n",
      "execution_count": 3,
      "outputs": [
        {
          "output_type": "stream",
          "text": "[['id26305'\n  'This process, however, afforded me no means of ascertaining the dimensions of my dungeon; as I might make its circuit, and return to the point whence I set out, without being aware of the fact; so perfectly uniform seemed the wall.'\n  'EAP']\n ['id17569'\n  'It never once occurred to me that the fumbling might be a mere mistake.'\n  'HPL']\n ['id11008'\n  'In his left hand was a gold snuff box, from which, as he capered down the hill, cutting all manner of fantastic steps, he took snuff incessantly with an air of the greatest possible self satisfaction.'\n  'EAP']]\n",
          "name": "stdout"
        },
        {
          "output_type": "execute_result",
          "execution_count": 3,
          "data": {
            "text/plain": "         id                                               text author\n0   id26305  This process, however, afforded me no means of...    EAP\n1   id17569  It never once occurred to me that the fumbling...    HPL\n2   id11008  In his left hand was a gold snuff box, from wh...    EAP\n3   id27763  How lovely is spring As we looked from Windsor...    MWS\n4   id12958  Finding nothing else, not even gold, the Super...    HPL\n5   id22965  A youth passed in solitude, my best years spen...    MWS\n6   id09674  The astronomer, perhaps, at this point, took r...    EAP\n7   id13515        The surcingle hung in ribands from my body.    EAP\n8   id19322  I knew that you could not say to yourself 'ste...    EAP\n9   id00912  I confess that neither the structure of langua...    MWS\n10  id16737  He shall find that I can feel my injuries; he ...    MWS\n11  id16607  Here we barricaded ourselves, and, for the pre...    EAP\n12  id19764  Herbert West needed fresh bodies because his l...    HPL\n13  id18886  The farm like grounds extended back very deepl...    HPL\n14  id17189   But a glance will show the fallacy of this idea.    EAP\n15  id12799  He had escaped me, and I must commence a destr...    MWS\n16  id08441  To these speeches they gave, of course, their ...    EAP\n17  id13117  Her native sprightliness needed no undue excit...    MWS\n18  id14862  I even went so far as to speak of a slightly h...    EAP\n19  id20836  His facial aspect, too, was remarkable for its...    HPL",
            "text/html": "<div>\n<style>\n    .dataframe thead tr:only-child th {\n        text-align: right;\n    }\n\n    .dataframe thead th {\n        text-align: left;\n    }\n\n    .dataframe tbody tr th {\n        vertical-align: top;\n    }\n</style>\n<table border=\"1\" class=\"dataframe\">\n  <thead>\n    <tr style=\"text-align: right;\">\n      <th></th>\n      <th>id</th>\n      <th>text</th>\n      <th>author</th>\n    </tr>\n  </thead>\n  <tbody>\n    <tr>\n      <th>0</th>\n      <td>id26305</td>\n      <td>This process, however, afforded me no means of...</td>\n      <td>EAP</td>\n    </tr>\n    <tr>\n      <th>1</th>\n      <td>id17569</td>\n      <td>It never once occurred to me that the fumbling...</td>\n      <td>HPL</td>\n    </tr>\n    <tr>\n      <th>2</th>\n      <td>id11008</td>\n      <td>In his left hand was a gold snuff box, from wh...</td>\n      <td>EAP</td>\n    </tr>\n    <tr>\n      <th>3</th>\n      <td>id27763</td>\n      <td>How lovely is spring As we looked from Windsor...</td>\n      <td>MWS</td>\n    </tr>\n    <tr>\n      <th>4</th>\n      <td>id12958</td>\n      <td>Finding nothing else, not even gold, the Super...</td>\n      <td>HPL</td>\n    </tr>\n    <tr>\n      <th>5</th>\n      <td>id22965</td>\n      <td>A youth passed in solitude, my best years spen...</td>\n      <td>MWS</td>\n    </tr>\n    <tr>\n      <th>6</th>\n      <td>id09674</td>\n      <td>The astronomer, perhaps, at this point, took r...</td>\n      <td>EAP</td>\n    </tr>\n    <tr>\n      <th>7</th>\n      <td>id13515</td>\n      <td>The surcingle hung in ribands from my body.</td>\n      <td>EAP</td>\n    </tr>\n    <tr>\n      <th>8</th>\n      <td>id19322</td>\n      <td>I knew that you could not say to yourself 'ste...</td>\n      <td>EAP</td>\n    </tr>\n    <tr>\n      <th>9</th>\n      <td>id00912</td>\n      <td>I confess that neither the structure of langua...</td>\n      <td>MWS</td>\n    </tr>\n    <tr>\n      <th>10</th>\n      <td>id16737</td>\n      <td>He shall find that I can feel my injuries; he ...</td>\n      <td>MWS</td>\n    </tr>\n    <tr>\n      <th>11</th>\n      <td>id16607</td>\n      <td>Here we barricaded ourselves, and, for the pre...</td>\n      <td>EAP</td>\n    </tr>\n    <tr>\n      <th>12</th>\n      <td>id19764</td>\n      <td>Herbert West needed fresh bodies because his l...</td>\n      <td>HPL</td>\n    </tr>\n    <tr>\n      <th>13</th>\n      <td>id18886</td>\n      <td>The farm like grounds extended back very deepl...</td>\n      <td>HPL</td>\n    </tr>\n    <tr>\n      <th>14</th>\n      <td>id17189</td>\n      <td>But a glance will show the fallacy of this idea.</td>\n      <td>EAP</td>\n    </tr>\n    <tr>\n      <th>15</th>\n      <td>id12799</td>\n      <td>He had escaped me, and I must commence a destr...</td>\n      <td>MWS</td>\n    </tr>\n    <tr>\n      <th>16</th>\n      <td>id08441</td>\n      <td>To these speeches they gave, of course, their ...</td>\n      <td>EAP</td>\n    </tr>\n    <tr>\n      <th>17</th>\n      <td>id13117</td>\n      <td>Her native sprightliness needed no undue excit...</td>\n      <td>MWS</td>\n    </tr>\n    <tr>\n      <th>18</th>\n      <td>id14862</td>\n      <td>I even went so far as to speak of a slightly h...</td>\n      <td>EAP</td>\n    </tr>\n    <tr>\n      <th>19</th>\n      <td>id20836</td>\n      <td>His facial aspect, too, was remarkable for its...</td>\n      <td>HPL</td>\n    </tr>\n  </tbody>\n</table>\n</div>"
          },
          "metadata": {}
        }
      ]
    },
    {
      "metadata": {
        "_cell_guid": "34d3233f-5351-4ac1-875c-65f089ecac26",
        "_uuid": "089f1c4bdf362be9089f81e2e263ced74e8b04d0"
      },
      "cell_type": "markdown",
      "source": "**Preprocess Text:**    \n    1) Add a space on both sides of punctuation to avoid forming new words based off of punctuation.\n    2) Convert author label to categorical label for better compatability with classification algorithms."
    },
    {
      "metadata": {
        "_cell_guid": "f28a8999-6853-499a-a0c9-389039269a83",
        "collapsed": true,
        "_uuid": "e2f1f3c903a79adb62206a63f17fdad090699395",
        "trusted": true
      },
      "cell_type": "code",
      "source": "def preprocess(text):\n    text = text.strip()\n    text = text.replace(\"' \", \" ' \")\n    signs = set(',.:;\"?!')\n    prods = set(text) & signs\n    if not prods:\n        return text\n\n    for sign in prods:\n        text = text.replace(sign, ' {} '.format(sign) )\n    return text",
      "execution_count": 4,
      "outputs": []
    },
    {
      "metadata": {
        "_cell_guid": "8eea0ca4-6023-400e-bc63-259379c84102",
        "collapsed": true,
        "_uuid": "2c09477faeee8cbc12cb77c7540c1a021372b075",
        "trusted": true
      },
      "cell_type": "code",
      "source": "a2c = {'EAP': 0, 'HPL' : 1, 'MWS' : 2}\ny = np.array([a2c[a] for a in df.author])\ny = to_categorical(y)",
      "execution_count": 5,
      "outputs": []
    },
    {
      "metadata": {
        "_cell_guid": "66346abd-3765-4068-82fb-06421d6514af",
        "_uuid": "4b0a82732778e7d78387eb6a94a772a0d401c5c3"
      },
      "cell_type": "markdown",
      "source": "**An N-gram is a contiguous sequence of n items from a given sequence of text or speech. The items can be phonemes, syllables, letters, words or base pairs according to the application (e.g. 2-gram sequence: \"to be, be or, or not, not to, to be\"; 3-gram sequence: \"to be or, be or not, or not to, not to be\".\n\n**Next I visualize some N-grams for Edgar Allan Poe.****"
    },
    {
      "metadata": {
        "_cell_guid": "10a77415-e725-4b9e-94be-3cb34f57c1a9",
        "collapsed": true,
        "_uuid": "60e4821e56141d7f5175de9696246080cee0310f",
        "trusted": true
      },
      "cell_type": "code",
      "source": "from plotly.offline import download_plotlyjs, init_notebook_mode, plot, iplot\nimport plotly.graph_objs as go\nfrom plotly import tools\nimport plotly.plotly as py\nfrom collections import Counter\nfrom nltk.util import ngrams\nfrom nltk.corpus import stopwords\nimport re\n\n\ntokenize_regex = re.compile(\"[\\w]+\")\nsw = set(stopwords.words(\"english\"))\n\ndef preprocessText(text, ngram_order):\n    \"\"\"\n    Transform text into a list of ngrams. Feel free to play with the order parameter\n    \"\"\"\n    text = text.lower()\n    \n    text = [\" \".join(ngram) for ngram in ngrams((tokenize_regex.findall(text)), ngram_order) \\\n            if (set(ngram) - sw)] # instead of filtering stopwords, let's just filter out the ngrams\n                                  # with nothing but stopwords\n    return text\n\ndef draw_word_histogram(texts, title, bars=30):\n    \"\"\"\n    Draw a barplot for word frequency distribution.\n    \"\"\"\n    # first, do the counting\n    ngram_counter = Counter()\n    for text in texts:\n        ngram_counter.update(text)\n    # for plotly, we need two lists: xaxis values and the corresponding yaxis values\n    # this is how we split a list of two-element tuples into two lists\n    features, counts = zip(*ngram_counter.most_common(bars))\n    # now let's define the barplot\n    bars = go.Bar(\n        x=counts[::-1],  # inverse the values to have the largest on the top\n        y=features[::-1],\n        orientation=\"h\",  # this makes it a horizontal barplot \n        marker=dict(\n            color='rgb(128, 0, 32)'  # this color is called oxblood... spooky, isn't it?\n        )\n    )\n    # this is how we customize the looks of our barplot\n    layout = go.Layout(\n        paper_bgcolor='rgb(0, 0, 0)',  # color of the background under the title and in the margins\n        plot_bgcolor='rgb(0, 0, 0)',  # color of the plot background\n        title=title,\n        autosize=False,  # otherwise the plot would be too small to contain axis labels\n        width=600,\n        height=800,\n        margin=go.Margin(\n            l=120, # to make space for y-axis labels\n        ),\n        font=dict(\n            family='Serif',\n            size=13, # a lucky number\n            color='rgb(200, 200, 200)'\n        ),\n        xaxis=dict(\n            showgrid=True,  # all the possible lines - try switching them off\n            zeroline=True,\n            showline=True,\n            zerolinecolor='rgb(200, 200, 200)',\n            linecolor='rgb(200, 200, 200)',\n            gridcolor='rgb(200, 200, 200)',\n        ),\n        yaxis=dict(\n            ticklen=8  # to add some space between yaxis labels and the plot\n        )\n        \n    )\n    fig = go.Figure(data=[bars], layout=layout)\n    iplot(fig, filename='h-bar')\n    return\n",
      "execution_count": 6,
      "outputs": []
    },
    {
      "metadata": {
        "_cell_guid": "14d6c03a-3093-4ff6-8a52-f69bb448345c",
        "_uuid": "df9e30bcc046ea020f659a5e6728051784c81a8b",
        "trusted": true
      },
      "cell_type": "code",
      "source": "init_notebook_mode(connected=True)\n\n\npoe = df[df.author==\"EAP\"].text.apply(preprocessText, ngram_order=1)\ndraw_word_histogram(poe, \"Edgar Allan Poe Most Common Mono-grams\")",
      "execution_count": 7,
      "outputs": [
        {
          "output_type": "display_data",
          "data": {
            "text/html": "<script>requirejs.config({paths: { 'plotly': ['https://cdn.plot.ly/plotly-latest.min']},});if(!window.Plotly) {{require(['plotly'],function(plotly) {window.Plotly=plotly;});}}</script>",
            "text/vnd.plotly.v1+html": "<script>requirejs.config({paths: { 'plotly': ['https://cdn.plot.ly/plotly-latest.min']},});if(!window.Plotly) {{require(['plotly'],function(plotly) {window.Plotly=plotly;});}}</script>"
          },
          "metadata": {}
        },
        {
          "output_type": "display_data",
          "data": {
            "application/vnd.plotly.v1+json": {
              "data": [
                {
                  "type": "bar",
                  "x": [
                    178,
                    181,
                    182,
                    188,
                    196,
                    196,
                    202,
                    206,
                    212,
                    213,
                    227,
                    230,
                    230,
                    232,
                    235,
                    249,
                    254,
                    254,
                    257,
                    260,
                    261,
                    263,
                    265,
                    267,
                    275,
                    356,
                    409,
                    453,
                    655,
                    1025
                  ],
                  "y": [
                    "length",
                    "may",
                    "without",
                    "might",
                    "must",
                    "still",
                    "never",
                    "every",
                    "long",
                    "two",
                    "great",
                    "found",
                    "much",
                    "yet",
                    "us",
                    "first",
                    "thus",
                    "however",
                    "man",
                    "time",
                    "even",
                    "made",
                    "well",
                    "say",
                    "little",
                    "said",
                    "would",
                    "could",
                    "one",
                    "upon"
                  ],
                  "orientation": "h",
                  "marker": {
                    "color": "rgb(128, 0, 32)"
                  }
                }
              ],
              "layout": {
                "paper_bgcolor": "rgb(0, 0, 0)",
                "plot_bgcolor": "rgb(0, 0, 0)",
                "title": "Edgar Allan Poe Most Common Mono-grams",
                "autosize": false,
                "width": 600,
                "height": 800,
                "margin": {
                  "l": 120
                },
                "font": {
                  "family": "Serif",
                  "size": 13,
                  "color": "rgb(200, 200, 200)"
                },
                "xaxis": {
                  "showgrid": true,
                  "zeroline": true,
                  "showline": true,
                  "zerolinecolor": "rgb(200, 200, 200)",
                  "linecolor": "rgb(200, 200, 200)",
                  "gridcolor": "rgb(200, 200, 200)"
                },
                "yaxis": {
                  "ticklen": 8
                }
              }
            },
            "text/html": "<div id=\"bb73f78d-3323-4f2d-8d91-a18e720729e1\" style=\"height: 800px; width: 600px;\" class=\"plotly-graph-div\"></div><script type=\"text/javascript\">require([\"plotly\"], function(Plotly) { window.PLOTLYENV=window.PLOTLYENV || {};window.PLOTLYENV.BASE_URL=\"https://plot.ly\";Plotly.newPlot(\"bb73f78d-3323-4f2d-8d91-a18e720729e1\", [{\"type\": \"bar\", \"x\": [178, 181, 182, 188, 196, 196, 202, 206, 212, 213, 227, 230, 230, 232, 235, 249, 254, 254, 257, 260, 261, 263, 265, 267, 275, 356, 409, 453, 655, 1025], \"y\": [\"length\", \"may\", \"without\", \"might\", \"must\", \"still\", \"never\", \"every\", \"long\", \"two\", \"great\", \"found\", \"much\", \"yet\", \"us\", \"first\", \"thus\", \"however\", \"man\", \"time\", \"even\", \"made\", \"well\", \"say\", \"little\", \"said\", \"would\", \"could\", \"one\", \"upon\"], \"orientation\": \"h\", \"marker\": {\"color\": \"rgb(128, 0, 32)\"}}], {\"paper_bgcolor\": \"rgb(0, 0, 0)\", \"plot_bgcolor\": \"rgb(0, 0, 0)\", \"title\": \"Edgar Allan Poe Most Common Mono-grams\", \"autosize\": false, \"width\": 600, \"height\": 800, \"margin\": {\"l\": 120}, \"font\": {\"family\": \"Serif\", \"size\": 13, \"color\": \"rgb(200, 200, 200)\"}, \"xaxis\": {\"showgrid\": true, \"zeroline\": true, \"showline\": true, \"zerolinecolor\": \"rgb(200, 200, 200)\", \"linecolor\": \"rgb(200, 200, 200)\", \"gridcolor\": \"rgb(200, 200, 200)\"}, \"yaxis\": {\"ticklen\": 8}}, {\"showLink\": true, \"linkText\": \"Export to plot.ly\"})});</script>",
            "text/vnd.plotly.v1+html": "<div id=\"bb73f78d-3323-4f2d-8d91-a18e720729e1\" style=\"height: 800px; width: 600px;\" class=\"plotly-graph-div\"></div><script type=\"text/javascript\">require([\"plotly\"], function(Plotly) { window.PLOTLYENV=window.PLOTLYENV || {};window.PLOTLYENV.BASE_URL=\"https://plot.ly\";Plotly.newPlot(\"bb73f78d-3323-4f2d-8d91-a18e720729e1\", [{\"type\": \"bar\", \"x\": [178, 181, 182, 188, 196, 196, 202, 206, 212, 213, 227, 230, 230, 232, 235, 249, 254, 254, 257, 260, 261, 263, 265, 267, 275, 356, 409, 453, 655, 1025], \"y\": [\"length\", \"may\", \"without\", \"might\", \"must\", \"still\", \"never\", \"every\", \"long\", \"two\", \"great\", \"found\", \"much\", \"yet\", \"us\", \"first\", \"thus\", \"however\", \"man\", \"time\", \"even\", \"made\", \"well\", \"say\", \"little\", \"said\", \"would\", \"could\", \"one\", \"upon\"], \"orientation\": \"h\", \"marker\": {\"color\": \"rgb(128, 0, 32)\"}}], {\"paper_bgcolor\": \"rgb(0, 0, 0)\", \"plot_bgcolor\": \"rgb(0, 0, 0)\", \"title\": \"Edgar Allan Poe Most Common Mono-grams\", \"autosize\": false, \"width\": 600, \"height\": 800, \"margin\": {\"l\": 120}, \"font\": {\"family\": \"Serif\", \"size\": 13, \"color\": \"rgb(200, 200, 200)\"}, \"xaxis\": {\"showgrid\": true, \"zeroline\": true, \"showline\": true, \"zerolinecolor\": \"rgb(200, 200, 200)\", \"linecolor\": \"rgb(200, 200, 200)\", \"gridcolor\": \"rgb(200, 200, 200)\"}, \"yaxis\": {\"ticklen\": 8}}, {\"showLink\": true, \"linkText\": \"Export to plot.ly\"})});</script>"
          },
          "metadata": {}
        }
      ]
    },
    {
      "metadata": {
        "_cell_guid": "22bb06fa-93fc-4dba-81ff-48bc140be3cf",
        "_uuid": "d2d0954ffee9fb3ad78ffc824f09e27a4f77b3ce",
        "trusted": true
      },
      "cell_type": "code",
      "source": "poe = df[df.author==\"EAP\"].text.apply(preprocessText, ngram_order=2)\ndraw_word_histogram(poe, \"Edgar Allan Poe Most Common Bi-grams\")",
      "execution_count": 8,
      "outputs": [
        {
          "output_type": "display_data",
          "data": {
            "application/vnd.plotly.v1+json": {
              "data": [
                {
                  "type": "bar",
                  "x": [
                    56,
                    56,
                    56,
                    58,
                    62,
                    62,
                    63,
                    64,
                    64,
                    66,
                    66,
                    69,
                    71,
                    71,
                    73,
                    74,
                    75,
                    81,
                    82,
                    92,
                    97,
                    107,
                    118,
                    118,
                    145,
                    146,
                    148,
                    149,
                    169,
                    399
                  ],
                  "y": [
                    "the day",
                    "i found",
                    "the door",
                    "a great",
                    "the body",
                    "i felt",
                    "the house",
                    "as well",
                    "i say",
                    "within the",
                    "may be",
                    "the world",
                    "portion of",
                    "at least",
                    "to make",
                    "seemed to",
                    "would be",
                    "might have",
                    "the earth",
                    "upon my",
                    "of course",
                    "the first",
                    "to say",
                    "would have",
                    "at length",
                    "the whole",
                    "i could",
                    "could not",
                    "one of",
                    "upon the"
                  ],
                  "orientation": "h",
                  "marker": {
                    "color": "rgb(128, 0, 32)"
                  }
                }
              ],
              "layout": {
                "paper_bgcolor": "rgb(0, 0, 0)",
                "plot_bgcolor": "rgb(0, 0, 0)",
                "title": "Edgar Allan Poe Most Common Bi-grams",
                "autosize": false,
                "width": 600,
                "height": 800,
                "margin": {
                  "l": 120
                },
                "font": {
                  "family": "Serif",
                  "size": 13,
                  "color": "rgb(200, 200, 200)"
                },
                "xaxis": {
                  "showgrid": true,
                  "zeroline": true,
                  "showline": true,
                  "zerolinecolor": "rgb(200, 200, 200)",
                  "linecolor": "rgb(200, 200, 200)",
                  "gridcolor": "rgb(200, 200, 200)"
                },
                "yaxis": {
                  "ticklen": 8
                }
              }
            },
            "text/html": "<div id=\"0817a77a-f070-475b-a3cd-6bc88786c19b\" style=\"height: 800px; width: 600px;\" class=\"plotly-graph-div\"></div><script type=\"text/javascript\">require([\"plotly\"], function(Plotly) { window.PLOTLYENV=window.PLOTLYENV || {};window.PLOTLYENV.BASE_URL=\"https://plot.ly\";Plotly.newPlot(\"0817a77a-f070-475b-a3cd-6bc88786c19b\", [{\"type\": \"bar\", \"x\": [56, 56, 56, 58, 62, 62, 63, 64, 64, 66, 66, 69, 71, 71, 73, 74, 75, 81, 82, 92, 97, 107, 118, 118, 145, 146, 148, 149, 169, 399], \"y\": [\"the day\", \"i found\", \"the door\", \"a great\", \"the body\", \"i felt\", \"the house\", \"as well\", \"i say\", \"within the\", \"may be\", \"the world\", \"portion of\", \"at least\", \"to make\", \"seemed to\", \"would be\", \"might have\", \"the earth\", \"upon my\", \"of course\", \"the first\", \"to say\", \"would have\", \"at length\", \"the whole\", \"i could\", \"could not\", \"one of\", \"upon the\"], \"orientation\": \"h\", \"marker\": {\"color\": \"rgb(128, 0, 32)\"}}], {\"paper_bgcolor\": \"rgb(0, 0, 0)\", \"plot_bgcolor\": \"rgb(0, 0, 0)\", \"title\": \"Edgar Allan Poe Most Common Bi-grams\", \"autosize\": false, \"width\": 600, \"height\": 800, \"margin\": {\"l\": 120}, \"font\": {\"family\": \"Serif\", \"size\": 13, \"color\": \"rgb(200, 200, 200)\"}, \"xaxis\": {\"showgrid\": true, \"zeroline\": true, \"showline\": true, \"zerolinecolor\": \"rgb(200, 200, 200)\", \"linecolor\": \"rgb(200, 200, 200)\", \"gridcolor\": \"rgb(200, 200, 200)\"}, \"yaxis\": {\"ticklen\": 8}}, {\"showLink\": true, \"linkText\": \"Export to plot.ly\"})});</script>",
            "text/vnd.plotly.v1+html": "<div id=\"0817a77a-f070-475b-a3cd-6bc88786c19b\" style=\"height: 800px; width: 600px;\" class=\"plotly-graph-div\"></div><script type=\"text/javascript\">require([\"plotly\"], function(Plotly) { window.PLOTLYENV=window.PLOTLYENV || {};window.PLOTLYENV.BASE_URL=\"https://plot.ly\";Plotly.newPlot(\"0817a77a-f070-475b-a3cd-6bc88786c19b\", [{\"type\": \"bar\", \"x\": [56, 56, 56, 58, 62, 62, 63, 64, 64, 66, 66, 69, 71, 71, 73, 74, 75, 81, 82, 92, 97, 107, 118, 118, 145, 146, 148, 149, 169, 399], \"y\": [\"the day\", \"i found\", \"the door\", \"a great\", \"the body\", \"i felt\", \"the house\", \"as well\", \"i say\", \"within the\", \"may be\", \"the world\", \"portion of\", \"at least\", \"to make\", \"seemed to\", \"would be\", \"might have\", \"the earth\", \"upon my\", \"of course\", \"the first\", \"to say\", \"would have\", \"at length\", \"the whole\", \"i could\", \"could not\", \"one of\", \"upon the\"], \"orientation\": \"h\", \"marker\": {\"color\": \"rgb(128, 0, 32)\"}}], {\"paper_bgcolor\": \"rgb(0, 0, 0)\", \"plot_bgcolor\": \"rgb(0, 0, 0)\", \"title\": \"Edgar Allan Poe Most Common Bi-grams\", \"autosize\": false, \"width\": 600, \"height\": 800, \"margin\": {\"l\": 120}, \"font\": {\"family\": \"Serif\", \"size\": 13, \"color\": \"rgb(200, 200, 200)\"}, \"xaxis\": {\"showgrid\": true, \"zeroline\": true, \"showline\": true, \"zerolinecolor\": \"rgb(200, 200, 200)\", \"linecolor\": \"rgb(200, 200, 200)\", \"gridcolor\": \"rgb(200, 200, 200)\"}, \"yaxis\": {\"ticklen\": 8}}, {\"showLink\": true, \"linkText\": \"Export to plot.ly\"})});</script>"
          },
          "metadata": {}
        }
      ]
    },
    {
      "metadata": {
        "_cell_guid": "73f2c6ad-d744-40e6-bff8-96adfd4ac18b",
        "_uuid": "209b15264cdc51425fe3a8c00ddab453c5d890d4",
        "trusted": true
      },
      "cell_type": "code",
      "source": "poe = df[df.author==\"EAP\"].text.apply(preprocessText, ngram_order=3)\ndraw_word_histogram(poe, \"Edgar Allan Poe Most Common Tri-grams\")",
      "execution_count": 9,
      "outputs": [
        {
          "output_type": "display_data",
          "data": {
            "application/vnd.plotly.v1+json": {
              "data": [
                {
                  "type": "bar",
                  "x": [
                    21,
                    21,
                    21,
                    21,
                    21,
                    21,
                    21,
                    22,
                    22,
                    23,
                    24,
                    24,
                    24,
                    25,
                    26,
                    27,
                    27,
                    27,
                    29,
                    31,
                    37,
                    38,
                    38,
                    41,
                    42,
                    43,
                    43,
                    48,
                    67,
                    80
                  ],
                  "y": [
                    "three or four",
                    "of the house",
                    "could not be",
                    "of the old",
                    "of the automaton",
                    "surface of the",
                    "so far as",
                    "in an instant",
                    "seemed to be",
                    "to and fro",
                    "the whole of",
                    "of the room",
                    "the idea of",
                    "on account of",
                    "in the meantime",
                    "in regard to",
                    "in the world",
                    "by means of",
                    "part of the",
                    "could not have",
                    "by no means",
                    "is to say",
                    "of the earth",
                    "to be sure",
                    "would have been",
                    "portion of the",
                    "might have been",
                    "as well as",
                    "i could not",
                    "one of the"
                  ],
                  "orientation": "h",
                  "marker": {
                    "color": "rgb(128, 0, 32)"
                  }
                }
              ],
              "layout": {
                "paper_bgcolor": "rgb(0, 0, 0)",
                "plot_bgcolor": "rgb(0, 0, 0)",
                "title": "Edgar Allan Poe Most Common Tri-grams",
                "autosize": false,
                "width": 600,
                "height": 800,
                "margin": {
                  "l": 120
                },
                "font": {
                  "family": "Serif",
                  "size": 13,
                  "color": "rgb(200, 200, 200)"
                },
                "xaxis": {
                  "showgrid": true,
                  "zeroline": true,
                  "showline": true,
                  "zerolinecolor": "rgb(200, 200, 200)",
                  "linecolor": "rgb(200, 200, 200)",
                  "gridcolor": "rgb(200, 200, 200)"
                },
                "yaxis": {
                  "ticklen": 8
                }
              }
            },
            "text/html": "<div id=\"53023ff1-a94d-4bd7-b11f-021db5b2c006\" style=\"height: 800px; width: 600px;\" class=\"plotly-graph-div\"></div><script type=\"text/javascript\">require([\"plotly\"], function(Plotly) { window.PLOTLYENV=window.PLOTLYENV || {};window.PLOTLYENV.BASE_URL=\"https://plot.ly\";Plotly.newPlot(\"53023ff1-a94d-4bd7-b11f-021db5b2c006\", [{\"type\": \"bar\", \"x\": [21, 21, 21, 21, 21, 21, 21, 22, 22, 23, 24, 24, 24, 25, 26, 27, 27, 27, 29, 31, 37, 38, 38, 41, 42, 43, 43, 48, 67, 80], \"y\": [\"three or four\", \"of the house\", \"could not be\", \"of the old\", \"of the automaton\", \"surface of the\", \"so far as\", \"in an instant\", \"seemed to be\", \"to and fro\", \"the whole of\", \"of the room\", \"the idea of\", \"on account of\", \"in the meantime\", \"in regard to\", \"in the world\", \"by means of\", \"part of the\", \"could not have\", \"by no means\", \"is to say\", \"of the earth\", \"to be sure\", \"would have been\", \"portion of the\", \"might have been\", \"as well as\", \"i could not\", \"one of the\"], \"orientation\": \"h\", \"marker\": {\"color\": \"rgb(128, 0, 32)\"}}], {\"paper_bgcolor\": \"rgb(0, 0, 0)\", \"plot_bgcolor\": \"rgb(0, 0, 0)\", \"title\": \"Edgar Allan Poe Most Common Tri-grams\", \"autosize\": false, \"width\": 600, \"height\": 800, \"margin\": {\"l\": 120}, \"font\": {\"family\": \"Serif\", \"size\": 13, \"color\": \"rgb(200, 200, 200)\"}, \"xaxis\": {\"showgrid\": true, \"zeroline\": true, \"showline\": true, \"zerolinecolor\": \"rgb(200, 200, 200)\", \"linecolor\": \"rgb(200, 200, 200)\", \"gridcolor\": \"rgb(200, 200, 200)\"}, \"yaxis\": {\"ticklen\": 8}}, {\"showLink\": true, \"linkText\": \"Export to plot.ly\"})});</script>",
            "text/vnd.plotly.v1+html": "<div id=\"53023ff1-a94d-4bd7-b11f-021db5b2c006\" style=\"height: 800px; width: 600px;\" class=\"plotly-graph-div\"></div><script type=\"text/javascript\">require([\"plotly\"], function(Plotly) { window.PLOTLYENV=window.PLOTLYENV || {};window.PLOTLYENV.BASE_URL=\"https://plot.ly\";Plotly.newPlot(\"53023ff1-a94d-4bd7-b11f-021db5b2c006\", [{\"type\": \"bar\", \"x\": [21, 21, 21, 21, 21, 21, 21, 22, 22, 23, 24, 24, 24, 25, 26, 27, 27, 27, 29, 31, 37, 38, 38, 41, 42, 43, 43, 48, 67, 80], \"y\": [\"three or four\", \"of the house\", \"could not be\", \"of the old\", \"of the automaton\", \"surface of the\", \"so far as\", \"in an instant\", \"seemed to be\", \"to and fro\", \"the whole of\", \"of the room\", \"the idea of\", \"on account of\", \"in the meantime\", \"in regard to\", \"in the world\", \"by means of\", \"part of the\", \"could not have\", \"by no means\", \"is to say\", \"of the earth\", \"to be sure\", \"would have been\", \"portion of the\", \"might have been\", \"as well as\", \"i could not\", \"one of the\"], \"orientation\": \"h\", \"marker\": {\"color\": \"rgb(128, 0, 32)\"}}], {\"paper_bgcolor\": \"rgb(0, 0, 0)\", \"plot_bgcolor\": \"rgb(0, 0, 0)\", \"title\": \"Edgar Allan Poe Most Common Tri-grams\", \"autosize\": false, \"width\": 600, \"height\": 800, \"margin\": {\"l\": 120}, \"font\": {\"family\": \"Serif\", \"size\": 13, \"color\": \"rgb(200, 200, 200)\"}, \"xaxis\": {\"showgrid\": true, \"zeroline\": true, \"showline\": true, \"zerolinecolor\": \"rgb(200, 200, 200)\", \"linecolor\": \"rgb(200, 200, 200)\", \"gridcolor\": \"rgb(200, 200, 200)\"}, \"yaxis\": {\"ticklen\": 8}}, {\"showLink\": true, \"linkText\": \"Export to plot.ly\"})});</script>"
          },
          "metadata": {}
        }
      ]
    },
    {
      "metadata": {
        "_cell_guid": "8cd2ce6a-be80-4ec2-ab64-4a69e01523ef",
        "_uuid": "64ff0d157067409b62b37a1c6de10d73aeab710e",
        "trusted": true
      },
      "cell_type": "code",
      "source": "poe = df[df.author==\"EAP\"].text.apply(preprocessText, ngram_order=4)\ndraw_word_histogram(poe, \"Edgar Allan Poe Most Common Quad-grams\")",
      "execution_count": 10,
      "outputs": [
        {
          "output_type": "stream",
          "text": "/opt/conda/lib/python3.6/site-packages/ipykernel_launcher.py:20: DeprecationWarning:\n\ngenerator 'ngrams' raised StopIteration\n\n",
          "name": "stderr"
        },
        {
          "output_type": "display_data",
          "data": {
            "application/vnd.plotly.v1+json": {
              "data": [
                {
                  "type": "bar",
                  "x": [
                    10,
                    10,
                    10,
                    10,
                    10,
                    10,
                    10,
                    11,
                    11,
                    11,
                    11,
                    11,
                    11,
                    11,
                    12,
                    12,
                    12,
                    12,
                    12,
                    13,
                    14,
                    14,
                    14,
                    15,
                    15,
                    16,
                    16,
                    17,
                    19,
                    38
                  ],
                  "y": [
                    "on the other hand",
                    "the vicinity of the",
                    "as well as the",
                    "of which i speak",
                    "the barrière du roule",
                    "oppodeldoc whoever he is",
                    "the head of the",
                    "the eyes of the",
                    "did not fail to",
                    "the rest of the",
                    "in the first place",
                    "the rear of the",
                    "could not have been",
                    "so far as to",
                    "the interior of the",
                    "the whole of the",
                    "john a b c",
                    "general john a b",
                    "of one of the",
                    "the oil of bob",
                    "in regard to the",
                    "the middle of the",
                    "it is impossible to",
                    "the bottom of the",
                    "the surface of the",
                    "i could not help",
                    "for the purpose of",
                    "at the same time",
                    "on the part of",
                    "that is to say"
                  ],
                  "orientation": "h",
                  "marker": {
                    "color": "rgb(128, 0, 32)"
                  }
                }
              ],
              "layout": {
                "paper_bgcolor": "rgb(0, 0, 0)",
                "plot_bgcolor": "rgb(0, 0, 0)",
                "title": "Edgar Allan Poe Most Common Quad-grams",
                "autosize": false,
                "width": 600,
                "height": 800,
                "margin": {
                  "l": 120
                },
                "font": {
                  "family": "Serif",
                  "size": 13,
                  "color": "rgb(200, 200, 200)"
                },
                "xaxis": {
                  "showgrid": true,
                  "zeroline": true,
                  "showline": true,
                  "zerolinecolor": "rgb(200, 200, 200)",
                  "linecolor": "rgb(200, 200, 200)",
                  "gridcolor": "rgb(200, 200, 200)"
                },
                "yaxis": {
                  "ticklen": 8
                }
              }
            },
            "text/html": "<div id=\"cad14db8-9099-42a8-abf7-b9e97e3de985\" style=\"height: 800px; width: 600px;\" class=\"plotly-graph-div\"></div><script type=\"text/javascript\">require([\"plotly\"], function(Plotly) { window.PLOTLYENV=window.PLOTLYENV || {};window.PLOTLYENV.BASE_URL=\"https://plot.ly\";Plotly.newPlot(\"cad14db8-9099-42a8-abf7-b9e97e3de985\", [{\"type\": \"bar\", \"x\": [10, 10, 10, 10, 10, 10, 10, 11, 11, 11, 11, 11, 11, 11, 12, 12, 12, 12, 12, 13, 14, 14, 14, 15, 15, 16, 16, 17, 19, 38], \"y\": [\"on the other hand\", \"the vicinity of the\", \"as well as the\", \"of which i speak\", \"the barri\\u00e8re du roule\", \"oppodeldoc whoever he is\", \"the head of the\", \"the eyes of the\", \"did not fail to\", \"the rest of the\", \"in the first place\", \"the rear of the\", \"could not have been\", \"so far as to\", \"the interior of the\", \"the whole of the\", \"john a b c\", \"general john a b\", \"of one of the\", \"the oil of bob\", \"in regard to the\", \"the middle of the\", \"it is impossible to\", \"the bottom of the\", \"the surface of the\", \"i could not help\", \"for the purpose of\", \"at the same time\", \"on the part of\", \"that is to say\"], \"orientation\": \"h\", \"marker\": {\"color\": \"rgb(128, 0, 32)\"}}], {\"paper_bgcolor\": \"rgb(0, 0, 0)\", \"plot_bgcolor\": \"rgb(0, 0, 0)\", \"title\": \"Edgar Allan Poe Most Common Quad-grams\", \"autosize\": false, \"width\": 600, \"height\": 800, \"margin\": {\"l\": 120}, \"font\": {\"family\": \"Serif\", \"size\": 13, \"color\": \"rgb(200, 200, 200)\"}, \"xaxis\": {\"showgrid\": true, \"zeroline\": true, \"showline\": true, \"zerolinecolor\": \"rgb(200, 200, 200)\", \"linecolor\": \"rgb(200, 200, 200)\", \"gridcolor\": \"rgb(200, 200, 200)\"}, \"yaxis\": {\"ticklen\": 8}}, {\"showLink\": true, \"linkText\": \"Export to plot.ly\"})});</script>",
            "text/vnd.plotly.v1+html": "<div id=\"cad14db8-9099-42a8-abf7-b9e97e3de985\" style=\"height: 800px; width: 600px;\" class=\"plotly-graph-div\"></div><script type=\"text/javascript\">require([\"plotly\"], function(Plotly) { window.PLOTLYENV=window.PLOTLYENV || {};window.PLOTLYENV.BASE_URL=\"https://plot.ly\";Plotly.newPlot(\"cad14db8-9099-42a8-abf7-b9e97e3de985\", [{\"type\": \"bar\", \"x\": [10, 10, 10, 10, 10, 10, 10, 11, 11, 11, 11, 11, 11, 11, 12, 12, 12, 12, 12, 13, 14, 14, 14, 15, 15, 16, 16, 17, 19, 38], \"y\": [\"on the other hand\", \"the vicinity of the\", \"as well as the\", \"of which i speak\", \"the barri\\u00e8re du roule\", \"oppodeldoc whoever he is\", \"the head of the\", \"the eyes of the\", \"did not fail to\", \"the rest of the\", \"in the first place\", \"the rear of the\", \"could not have been\", \"so far as to\", \"the interior of the\", \"the whole of the\", \"john a b c\", \"general john a b\", \"of one of the\", \"the oil of bob\", \"in regard to the\", \"the middle of the\", \"it is impossible to\", \"the bottom of the\", \"the surface of the\", \"i could not help\", \"for the purpose of\", \"at the same time\", \"on the part of\", \"that is to say\"], \"orientation\": \"h\", \"marker\": {\"color\": \"rgb(128, 0, 32)\"}}], {\"paper_bgcolor\": \"rgb(0, 0, 0)\", \"plot_bgcolor\": \"rgb(0, 0, 0)\", \"title\": \"Edgar Allan Poe Most Common Quad-grams\", \"autosize\": false, \"width\": 600, \"height\": 800, \"margin\": {\"l\": 120}, \"font\": {\"family\": \"Serif\", \"size\": 13, \"color\": \"rgb(200, 200, 200)\"}, \"xaxis\": {\"showgrid\": true, \"zeroline\": true, \"showline\": true, \"zerolinecolor\": \"rgb(200, 200, 200)\", \"linecolor\": \"rgb(200, 200, 200)\", \"gridcolor\": \"rgb(200, 200, 200)\"}, \"yaxis\": {\"ticklen\": 8}}, {\"showLink\": true, \"linkText\": \"Export to plot.ly\"})});</script>"
          },
          "metadata": {}
        }
      ]
    },
    {
      "metadata": {
        "_cell_guid": "14f7170f-837f-4f63-a763-ff834cb32b59",
        "_uuid": "7bd7c3f28bdf74152b3ea4a33bce6fba07964880"
      },
      "cell_type": "markdown",
      "source": "Here we create N-grams for N = (1 to 4) for each author.  These N-grams will be our features for classification."
    },
    {
      "metadata": {
        "_cell_guid": "e5588c12-eba7-4958-a0b3-03b0df265390",
        "collapsed": true,
        "_uuid": "c345433eaf65a2bb867809c3c6cc3d543fcc11ef",
        "trusted": true
      },
      "cell_type": "code",
      "source": "def create_docs(df, n_gram_max=4):\n    def add_ngram(q, n_gram_max):\n            ngrams = []\n            for n in range(1, n_gram_max+1):\n                for w_index in range(len(q)-n+1):\n                    ngrams.append('--'.join(q[w_index:w_index+n]))\n            return q + ngrams\n        \n    docs = []\n    for doc in df.text:\n        doc = preprocess(doc).split()\n        docs.append(' '.join(add_ngram(doc, n_gram_max)))\n    \n    return docs",
      "execution_count": 11,
      "outputs": []
    },
    {
      "metadata": {
        "_cell_guid": "1f5133ac-af7c-41dd-84e2-5a118125ad97",
        "_uuid": "6e52f8cf0525e05dea7baae3429a5fdbaeff524c",
        "trusted": true,
        "collapsed": true
      },
      "cell_type": "code",
      "source": "min_count = 15\n\ndocs = create_docs(df)\ntokenizer = Tokenizer(lower=True, filters='')\ntokenizer.fit_on_texts(docs)\nnum_words = sum([1 for _, v in tokenizer.word_counts.items() if v >= min_count])\n\ntokenizer = Tokenizer(num_words=num_words, lower=True, filters='')\ntokenizer.fit_on_texts(docs)\ndocs = tokenizer.texts_to_sequences(docs)\n\nmaxlen = None\n\ndocs = pad_sequences(sequences=docs, maxlen=maxlen)",
      "execution_count": 12,
      "outputs": []
    },
    {
      "metadata": {
        "_cell_guid": "25151208-3394-4564-a7c0-2c6bcc29496e",
        "_uuid": "972de057eb39e900210081aa1a03e6c0163dcc06"
      },
      "cell_type": "markdown",
      "source": "**Here I use Keras to build a custom neural network for this natural language processing problem.  \n\n**Note that accuracy can be improved by increasing the number of epochs while speed can be improved by decreasing the number of epochs.****"
    },
    {
      "metadata": {
        "_cell_guid": "56422a4b-56c3-438f-94c1-3fa23f7a7506",
        "collapsed": true,
        "_uuid": "4a0d20bd5dd6faf9e837597755c35c8954a81b74",
        "trusted": true
      },
      "cell_type": "code",
      "source": "input_dim = np.max(docs) + 1\nembedding_dims = 20",
      "execution_count": 13,
      "outputs": []
    },
    {
      "metadata": {
        "_cell_guid": "600d7b35-410b-47e6-b6d3-fb9d45298d89",
        "collapsed": true,
        "_uuid": "ca3a6a889887d9d907cb567d2c25b7231f6baf02",
        "trusted": true
      },
      "cell_type": "code",
      "source": "def create_model(embedding_dims=20, optimizer='adam'):\n    model = Sequential()\n    model.add(Embedding(input_dim=input_dim, output_dim=embedding_dims))\n    model.add(GlobalAveragePooling1D())\n    model.add(Dense(3, activation='softmax'))\n\n    model.compile(loss='categorical_crossentropy',\n                  optimizer=optimizer,\n                  metrics=['accuracy'])\n    return model",
      "execution_count": 14,
      "outputs": []
    },
    {
      "metadata": {
        "_cell_guid": "c068fbf2-7a71-4927-9d3e-1b6c72d27307",
        "_uuid": "2d8568a0b6a469ec66d3dd69d4d9ee0c82c9f3cf",
        "trusted": true
      },
      "cell_type": "code",
      "source": "epochs = 20\nx_train, x_test, y_train, y_test = train_test_split(docs, y, test_size=0.2)\n\nmodel = create_model()\nhist = model.fit(x_train, y_train,\n                 batch_size=16,\n                 validation_data=(x_test, y_test),\n                 epochs=epochs,\n                 callbacks=[EarlyStopping(patience=2, monitor='val_loss')])",
      "execution_count": 15,
      "outputs": [
        {
          "output_type": "stream",
          "text": "Train on 15663 samples, validate on 3916 samples\nEpoch 1/20\n15663/15663 [==============================] - 9s - loss: 1.0861 - acc: 0.4022 - val_loss: 1.0815 - val_acc: 0.4091\nEpoch 2/20\n15663/15663 [==============================] - 10s - loss: 1.0747 - acc: 0.4038 - val_loss: 1.0621 - val_acc: 0.4104\nEpoch 3/20\n15663/15663 [==============================] - 9s - loss: 1.0433 - acc: 0.4396 - val_loss: 1.0216 - val_acc: 0.4803\nEpoch 4/20\n15663/15663 [==============================] - 9s - loss: 0.9873 - acc: 0.5386 - val_loss: 0.9592 - val_acc: 0.5718\nEpoch 5/20\n15663/15663 [==============================] - 9s - loss: 0.9164 - acc: 0.6425 - val_loss: 0.8934 - val_acc: 0.6141\nEpoch 6/20\n15663/15663 [==============================] - 9s - loss: 0.8441 - acc: 0.7016 - val_loss: 0.8283 - val_acc: 0.6971\nEpoch 7/20\n15663/15663 [==============================] - 9s - loss: 0.7785 - acc: 0.7372 - val_loss: 0.7758 - val_acc: 0.7439\nEpoch 8/20\n15663/15663 [==============================] - 9s - loss: 0.7218 - acc: 0.7599 - val_loss: 0.7290 - val_acc: 0.7554\nEpoch 9/20\n15663/15663 [==============================] - 10s - loss: 0.6732 - acc: 0.7719 - val_loss: 0.6897 - val_acc: 0.7477\nEpoch 10/20\n15663/15663 [==============================] - 9s - loss: 0.6316 - acc: 0.7841 - val_loss: 0.6544 - val_acc: 0.7712\nEpoch 11/20\n15663/15663 [==============================] - 9s - loss: 0.5949 - acc: 0.7942 - val_loss: 0.6272 - val_acc: 0.7832\nEpoch 12/20\n15663/15663 [==============================] - 9s - loss: 0.5615 - acc: 0.8051 - val_loss: 0.6010 - val_acc: 0.7842\nEpoch 13/20\n15663/15663 [==============================] - 9s - loss: 0.5329 - acc: 0.8168 - val_loss: 0.5778 - val_acc: 0.7909\nEpoch 14/20\n15663/15663 [==============================] - 9s - loss: 0.5076 - acc: 0.8226 - val_loss: 0.5625 - val_acc: 0.7896\nEpoch 15/20\n15663/15663 [==============================] - 9s - loss: 0.4837 - acc: 0.8314 - val_loss: 0.5409 - val_acc: 0.7985\nEpoch 16/20\n15663/15663 [==============================] - 9s - loss: 0.4609 - acc: 0.8424 - val_loss: 0.5294 - val_acc: 0.8029\nEpoch 17/20\n15663/15663 [==============================] - 9s - loss: 0.4393 - acc: 0.8495 - val_loss: 0.5174 - val_acc: 0.8072\nEpoch 18/20\n15663/15663 [==============================] - 9s - loss: 0.4207 - acc: 0.8553 - val_loss: 0.5012 - val_acc: 0.8108\nEpoch 19/20\n15663/15663 [==============================] - 9s - loss: 0.4026 - acc: 0.8639 - val_loss: 0.4879 - val_acc: 0.8218\nEpoch 20/20\n15663/15663 [==============================] - 9s - loss: 0.3864 - acc: 0.8676 - val_loss: 0.4833 - val_acc: 0.8136\n",
          "name": "stdout"
        }
      ]
    },
    {
      "metadata": {
        "_uuid": "8db463ef000c1185c67b50be5dfd1a4e8448783e",
        "_cell_guid": "ddb0dcb9-2ba6-4b3a-a4a9-64b9fc1f05dd"
      },
      "cell_type": "markdown",
      "source": "**>80% Accuracy!  Great!  Next, we can improve the accuracy by increasing the number of epochs.**"
    },
    {
      "metadata": {
        "_cell_guid": "37fdec5c-188f-4599-90c0-475459c4bbec",
        "_uuid": "1daa34677b9f5e1fc906663360b03d2ea2c0632b",
        "trusted": true,
        "collapsed": true
      },
      "cell_type": "code",
      "source": "# test_df = pd.read_csv('../input/test.csv')\n# docs = create_docs(test_df)\n# docs = tokenizer.texts_to_sequences(docs)\n# docs = pad_sequences(sequences=docs, maxlen=maxlen)\n# y = model.predict_proba(docs)\n\n# result = pd.read_csv('../input/sample_submission.csv')\n# for a, i in a2c.items():\n#     result[a] = y[:, i]\n# result.to_csv('_new_submission_1.csv', index=False)\n",
      "execution_count": 16,
      "outputs": []
    }
  ],
  "metadata": {
    "language_info": {
      "name": "python",
      "version": "3.6.3",
      "mimetype": "text/x-python",
      "codemirror_mode": {
        "name": "ipython",
        "version": 3
      },
      "pygments_lexer": "ipython3",
      "nbconvert_exporter": "python",
      "file_extension": ".py"
    },
    "kernelspec": {
      "display_name": "Python 3",
      "language": "python",
      "name": "python3"
    }
  },
  "nbformat": 4,
  "nbformat_minor": 1
}