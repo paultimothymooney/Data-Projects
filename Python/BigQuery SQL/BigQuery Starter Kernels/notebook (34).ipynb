{
  "cells": [
    {
      "metadata": {
        "_uuid": "de5c8ef6d5d0ee22ec7e55b629d1c1f08d2b8efd",
        "_cell_guid": "307eb20a-56a5-43b9-832b-a76b338ad5e3"
      },
      "cell_type": "markdown",
      "source": "**How to Query the Open Images Dataset (BigQuery)**"
    },
    {
      "metadata": {
        "_uuid": "8f2839f25d086af736a60e9eeb907d3b93b6e0e5",
        "collapsed": true,
        "_cell_guid": "b1076dfc-b9ad-4769-8c92-a6c4dae69d19",
        "trusted": true
      },
      "cell_type": "code",
      "source": "import bq_helper\nfrom bq_helper import BigQueryHelper\n# https://www.kaggle.com/sohier/introduction-to-the-bq-helper-package\nopen_images = bq_helper.BigQueryHelper(active_project=\"bigquery-public-data\",\n                                   dataset_name=\"open_images\")",
      "execution_count": 1,
      "outputs": []
    },
    {
      "metadata": {
        "_uuid": "a3415035b50ece1df93c6573539798b929a597f5",
        "_cell_guid": "b0442c95-01fa-4688-9a30-718347933e0f",
        "trusted": true
      },
      "cell_type": "code",
      "source": "bq_assistant = BigQueryHelper(\"bigquery-public-data\", \"open_images\")\nbq_assistant.list_tables()",
      "execution_count": 2,
      "outputs": [
        {
          "output_type": "execute_result",
          "execution_count": 2,
          "data": {
            "text/plain": "['annotations_bbox', 'dict', 'images', 'labels']"
          },
          "metadata": {}
        }
      ]
    },
    {
      "metadata": {
        "_uuid": "f6d79a4aae694e0bc61d4dbc4724005d913b9248",
        "_cell_guid": "a2805b6e-5e32-484c-b1c7-a7e3d364ef35",
        "trusted": true
      },
      "cell_type": "code",
      "source": "bq_assistant.head(\"images\", num_rows=3)",
      "execution_count": 3,
      "outputs": [
        {
          "output_type": "execute_result",
          "execution_count": 3,
          "data": {
            "text/plain": "           image_id subset                                       original_url  \\\n0  248e87e437808ed3  train  https://farm4.staticflickr.com/7162/6707198107...   \n1  248f1485f9cc476f  train  https://c8.staticflickr.com/4/3676/11012143656...   \n2  2490466ff9064c4b  train  https://c4.staticflickr.com/9/8157/7599640374_...   \n\n                                original_landing_url  \\\n0  https://www.flickr.com/photos/spreadshirt/6707...   \n1  https://www.flickr.com/photos/pawel_pacholec/1...   \n2  https://www.flickr.com/photos/biodivlibrary/75...   \n\n                                        license  \\\n0  https://creativecommons.org/licenses/by/2.0/   \n1  https://creativecommons.org/licenses/by/2.0/   \n2  https://creativecommons.org/licenses/by/2.0/   \n\n                              author_profile_url  \\\n0     https://www.flickr.com/people/spreadshirt/   \n1  https://www.flickr.com/people/pawel_pacholec/   \n2   https://www.flickr.com/people/biodivlibrary/   \n\n                          author                  title  original_size  \\\n0                    Spreadshirt  Men’s Pique Polo (NA)         513517   \n1                 Pawel Pacholec  Ladybug on green leaf        3052937   \n2  Biodiversity Heritage Library              n53_w1150        1454466   \n\n               original_md5                                 thumbnail_300k_url  \n0  VYDCiO0fog76g7undQPcKA==  https://c8.staticflickr.com/8/7162/6707198107_...  \n1  hMoii6JGMfikAihKlmWZKA==  https://c2.staticflickr.com/4/3676/11012143656...  \n2  zson/PTZCYyXcEglDBd2dw==  https://c6.staticflickr.com/9/8157/7599640374_...  ",
            "text/html": "<div>\n<style scoped>\n    .dataframe tbody tr th:only-of-type {\n        vertical-align: middle;\n    }\n\n    .dataframe tbody tr th {\n        vertical-align: top;\n    }\n\n    .dataframe thead th {\n        text-align: right;\n    }\n</style>\n<table border=\"1\" class=\"dataframe\">\n  <thead>\n    <tr style=\"text-align: right;\">\n      <th></th>\n      <th>image_id</th>\n      <th>subset</th>\n      <th>original_url</th>\n      <th>original_landing_url</th>\n      <th>license</th>\n      <th>author_profile_url</th>\n      <th>author</th>\n      <th>title</th>\n      <th>original_size</th>\n      <th>original_md5</th>\n      <th>thumbnail_300k_url</th>\n    </tr>\n  </thead>\n  <tbody>\n    <tr>\n      <th>0</th>\n      <td>248e87e437808ed3</td>\n      <td>train</td>\n      <td>https://farm4.staticflickr.com/7162/6707198107...</td>\n      <td>https://www.flickr.com/photos/spreadshirt/6707...</td>\n      <td>https://creativecommons.org/licenses/by/2.0/</td>\n      <td>https://www.flickr.com/people/spreadshirt/</td>\n      <td>Spreadshirt</td>\n      <td>Men’s Pique Polo (NA)</td>\n      <td>513517</td>\n      <td>VYDCiO0fog76g7undQPcKA==</td>\n      <td>https://c8.staticflickr.com/8/7162/6707198107_...</td>\n    </tr>\n    <tr>\n      <th>1</th>\n      <td>248f1485f9cc476f</td>\n      <td>train</td>\n      <td>https://c8.staticflickr.com/4/3676/11012143656...</td>\n      <td>https://www.flickr.com/photos/pawel_pacholec/1...</td>\n      <td>https://creativecommons.org/licenses/by/2.0/</td>\n      <td>https://www.flickr.com/people/pawel_pacholec/</td>\n      <td>Pawel Pacholec</td>\n      <td>Ladybug on green leaf</td>\n      <td>3052937</td>\n      <td>hMoii6JGMfikAihKlmWZKA==</td>\n      <td>https://c2.staticflickr.com/4/3676/11012143656...</td>\n    </tr>\n    <tr>\n      <th>2</th>\n      <td>2490466ff9064c4b</td>\n      <td>train</td>\n      <td>https://c4.staticflickr.com/9/8157/7599640374_...</td>\n      <td>https://www.flickr.com/photos/biodivlibrary/75...</td>\n      <td>https://creativecommons.org/licenses/by/2.0/</td>\n      <td>https://www.flickr.com/people/biodivlibrary/</td>\n      <td>Biodiversity Heritage Library</td>\n      <td>n53_w1150</td>\n      <td>1454466</td>\n      <td>zson/PTZCYyXcEglDBd2dw==</td>\n      <td>https://c6.staticflickr.com/9/8157/7599640374_...</td>\n    </tr>\n  </tbody>\n</table>\n</div>"
          },
          "metadata": {}
        }
      ]
    },
    {
      "metadata": {
        "_uuid": "bbb18e3c781e1ce11b83342cc42b46b4eb4f1a81",
        "_cell_guid": "87e3e8b9-e8c4-48fd-99d3-a77034d474bf",
        "trusted": true
      },
      "cell_type": "code",
      "source": "bq_assistant.table_schema(\"images\")",
      "execution_count": 4,
      "outputs": [
        {
          "output_type": "execute_result",
          "execution_count": 4,
          "data": {
            "text/plain": "[SchemaField('image_id', 'STRING', 'NULLABLE', None, ()),\n SchemaField('subset', 'STRING', 'NULLABLE', None, ()),\n SchemaField('original_url', 'STRING', 'NULLABLE', None, ()),\n SchemaField('original_landing_url', 'STRING', 'NULLABLE', None, ()),\n SchemaField('license', 'STRING', 'NULLABLE', None, ()),\n SchemaField('author_profile_url', 'STRING', 'NULLABLE', None, ()),\n SchemaField('author', 'STRING', 'NULLABLE', None, ()),\n SchemaField('title', 'STRING', 'NULLABLE', None, ()),\n SchemaField('original_size', 'INTEGER', 'NULLABLE', None, ()),\n SchemaField('original_md5', 'STRING', 'NULLABLE', None, ()),\n SchemaField('thumbnail_300k_url', 'STRING', 'NULLABLE', None, ())]"
          },
          "metadata": {}
        }
      ]
    },
    {
      "metadata": {
        "_uuid": "8eeda9ae334f9bc0dc313635abee9c9c0d582f6c",
        "_cell_guid": "ec2e26b9-885e-4f12-8d20-2f8c494d6f3e"
      },
      "cell_type": "markdown",
      "source": "Which labels are in the dataset?"
    },
    {
      "metadata": {
        "_uuid": "f498dd0e54911bf273ae4a76fd6a2bdaebf96f15",
        "_cell_guid": "ab7c4d65-3cc2-4192-992c-b030c33b2010",
        "trusted": true
      },
      "cell_type": "code",
      "source": "query1 = \"\"\"SELECT\n  *\nFROM\n  `bigquery-public-data.open_images.dict`\nLIMIT\n  10;\n        \"\"\"\nresponse1 = open_images.query_to_pandas_safe(query1)\nresponse1.head(10)",
      "execution_count": 5,
      "outputs": [
        {
          "output_type": "execute_result",
          "execution_count": 5,
          "data": {
            "text/plain": "   label_name label_display_name\n0    /m/01www                 CD\n1    /m/0h989                 Go\n2  /m/03bx7vb                 Ox\n3   /m/01lgkm                 RV\n4   /m/012wxt                 Vj\n5  /m/05c2lbh                Ada\n6   /m/0c5jxs                Ade\n7     /m/0m09                Ale\n8     /m/0_k2                Ant\n9   /m/01hf_2                Ape",
            "text/html": "<div>\n<style scoped>\n    .dataframe tbody tr th:only-of-type {\n        vertical-align: middle;\n    }\n\n    .dataframe tbody tr th {\n        vertical-align: top;\n    }\n\n    .dataframe thead th {\n        text-align: right;\n    }\n</style>\n<table border=\"1\" class=\"dataframe\">\n  <thead>\n    <tr style=\"text-align: right;\">\n      <th></th>\n      <th>label_name</th>\n      <th>label_display_name</th>\n    </tr>\n  </thead>\n  <tbody>\n    <tr>\n      <th>0</th>\n      <td>/m/01www</td>\n      <td>CD</td>\n    </tr>\n    <tr>\n      <th>1</th>\n      <td>/m/0h989</td>\n      <td>Go</td>\n    </tr>\n    <tr>\n      <th>2</th>\n      <td>/m/03bx7vb</td>\n      <td>Ox</td>\n    </tr>\n    <tr>\n      <th>3</th>\n      <td>/m/01lgkm</td>\n      <td>RV</td>\n    </tr>\n    <tr>\n      <th>4</th>\n      <td>/m/012wxt</td>\n      <td>Vj</td>\n    </tr>\n    <tr>\n      <th>5</th>\n      <td>/m/05c2lbh</td>\n      <td>Ada</td>\n    </tr>\n    <tr>\n      <th>6</th>\n      <td>/m/0c5jxs</td>\n      <td>Ade</td>\n    </tr>\n    <tr>\n      <th>7</th>\n      <td>/m/0m09</td>\n      <td>Ale</td>\n    </tr>\n    <tr>\n      <th>8</th>\n      <td>/m/0_k2</td>\n      <td>Ant</td>\n    </tr>\n    <tr>\n      <th>9</th>\n      <td>/m/01hf_2</td>\n      <td>Ape</td>\n    </tr>\n  </tbody>\n</table>\n</div>"
          },
          "metadata": {}
        }
      ]
    },
    {
      "metadata": {
        "_uuid": "ef06f0f96cdffd2af224c796a423304f914d7da9",
        "_cell_guid": "e53dbcf0-eaba-474f-b83c-fa7fc5e69a81"
      },
      "cell_type": "markdown",
      "source": "Which labels have \"bus\" in their display names?"
    },
    {
      "metadata": {
        "_uuid": "77d0841a15c7675c6e2506e02762ed6892629d59",
        "_cell_guid": "f9ea65cb-a34a-4e54-b7dd-8eb964aba953",
        "trusted": true
      },
      "cell_type": "code",
      "source": "query2 = \"\"\"SELECT\n  *\nFROM\n  `bigquery-public-data.open_images.dict`\nWHERE\n  label_display_name LIKE '%bus%'\nLIMIT\n  20;\n        \"\"\"\nresponse2 = open_images.query_to_pandas_safe(query2)\nresponse2.head(10)",
      "execution_count": 6,
      "outputs": [
        {
          "output_type": "execute_result",
          "execution_count": 6,
          "data": {
            "text/plain": "  label_name label_display_name\n0   /m/0f454              Rubus\n1  /m/015zfz             Airbus\n2  /m/02539r             Sorbus\n3   /m/0f3k6            Colobus\n4  /m/045jsc            Minibus\n5  /m/0c5q0q           Mi rebus\n6  /m/05jlh5           Saltbush\n7  /m/016_bh           Shadbush\n8  /m/08hv3x          Kabusecha\n9  /m/04lzj7         Bottlebush",
            "text/html": "<div>\n<style scoped>\n    .dataframe tbody tr th:only-of-type {\n        vertical-align: middle;\n    }\n\n    .dataframe tbody tr th {\n        vertical-align: top;\n    }\n\n    .dataframe thead th {\n        text-align: right;\n    }\n</style>\n<table border=\"1\" class=\"dataframe\">\n  <thead>\n    <tr style=\"text-align: right;\">\n      <th></th>\n      <th>label_name</th>\n      <th>label_display_name</th>\n    </tr>\n  </thead>\n  <tbody>\n    <tr>\n      <th>0</th>\n      <td>/m/0f454</td>\n      <td>Rubus</td>\n    </tr>\n    <tr>\n      <th>1</th>\n      <td>/m/015zfz</td>\n      <td>Airbus</td>\n    </tr>\n    <tr>\n      <th>2</th>\n      <td>/m/02539r</td>\n      <td>Sorbus</td>\n    </tr>\n    <tr>\n      <th>3</th>\n      <td>/m/0f3k6</td>\n      <td>Colobus</td>\n    </tr>\n    <tr>\n      <th>4</th>\n      <td>/m/045jsc</td>\n      <td>Minibus</td>\n    </tr>\n    <tr>\n      <th>5</th>\n      <td>/m/0c5q0q</td>\n      <td>Mi rebus</td>\n    </tr>\n    <tr>\n      <th>6</th>\n      <td>/m/05jlh5</td>\n      <td>Saltbush</td>\n    </tr>\n    <tr>\n      <th>7</th>\n      <td>/m/016_bh</td>\n      <td>Shadbush</td>\n    </tr>\n    <tr>\n      <th>8</th>\n      <td>/m/08hv3x</td>\n      <td>Kabusecha</td>\n    </tr>\n    <tr>\n      <th>9</th>\n      <td>/m/04lzj7</td>\n      <td>Bottlebush</td>\n    </tr>\n  </tbody>\n</table>\n</div>"
          },
          "metadata": {}
        }
      ]
    },
    {
      "metadata": {
        "_uuid": "03b7f712e458da8be3ad91b4a96b7dad4f282e3b",
        "_cell_guid": "e5ea144c-7388-4dbd-99ce-c144d75855a4"
      },
      "cell_type": "markdown",
      "source": "How many images of a trolleybus are in the dataset?"
    },
    {
      "metadata": {
        "_uuid": "d597435820237905733ce8d5897a29f34af22dd7",
        "_cell_guid": "44cacead-3add-4047-bb10-b5f705b99656",
        "trusted": true
      },
      "cell_type": "code",
      "source": "query3 = \"\"\"SELECT\n  COUNT(*)\nFROM\n  `bigquery-public-data.open_images.labels` a\nINNER JOIN\n  `bigquery-public-data.open_images.images` b\nON\n  a.image_id = b.image_id\nWHERE\n  a.label_name='/m/0f6pl'\n  AND a.confidence > 0.5;\n        \"\"\"\nresponse3 = open_images.query_to_pandas_safe(query3, max_gb_scanned=10)\nresponse3.head(10)",
      "execution_count": 7,
      "outputs": [
        {
          "output_type": "execute_result",
          "execution_count": 7,
          "data": {
            "text/plain": "    f0_\n0  3595",
            "text/html": "<div>\n<style scoped>\n    .dataframe tbody tr th:only-of-type {\n        vertical-align: middle;\n    }\n\n    .dataframe tbody tr th {\n        vertical-align: top;\n    }\n\n    .dataframe thead th {\n        text-align: right;\n    }\n</style>\n<table border=\"1\" class=\"dataframe\">\n  <thead>\n    <tr style=\"text-align: right;\">\n      <th></th>\n      <th>f0_</th>\n    </tr>\n  </thead>\n  <tbody>\n    <tr>\n      <th>0</th>\n      <td>3595</td>\n    </tr>\n  </tbody>\n</table>\n</div>"
          },
          "metadata": {}
        }
      ]
    },
    {
      "metadata": {
        "_uuid": "a6ebb013cab63d0cdfe6d143cf73c4fab12100a0",
        "_cell_guid": "83b06213-432d-4d7e-ac24-bef63386acc4"
      },
      "cell_type": "markdown",
      "source": "What are some landing pages of images with a trolleybus?"
    },
    {
      "metadata": {
        "_uuid": "0b33abdf5a72f7402dafcfc1a55c4ee10fd127fe",
        "_cell_guid": "2a9e0d55-46c3-47af-8059-20365f8dd0ac",
        "trusted": true
      },
      "cell_type": "code",
      "source": "query4 = \"\"\"SELECT\n  original_landing_url,\n  confidence\nFROM\n  `bigquery-public-data.open_images.labels` l\nINNER JOIN\n  `bigquery-public-data.open_images.images` i\nON\n  l.image_id = i.image_id\nWHERE\n  label_name='/m/0f6pl'\n  AND confidence = 1\n  AND subset='validation'\nLIMIT\n  10;\n        \"\"\"\nresponse4 = open_images.query_to_pandas_safe(query4, max_gb_scanned=10)\nresponse4.head(10)",
      "execution_count": 8,
      "outputs": [
        {
          "output_type": "execute_result",
          "execution_count": 8,
          "data": {
            "text/plain": "                               original_landing_url  confidence\n0  https://www.flickr.com/photos/sergejf/8706867707         1.0",
            "text/html": "<div>\n<style scoped>\n    .dataframe tbody tr th:only-of-type {\n        vertical-align: middle;\n    }\n\n    .dataframe tbody tr th {\n        vertical-align: top;\n    }\n\n    .dataframe thead th {\n        text-align: right;\n    }\n</style>\n<table border=\"1\" class=\"dataframe\">\n  <thead>\n    <tr style=\"text-align: right;\">\n      <th></th>\n      <th>original_landing_url</th>\n      <th>confidence</th>\n    </tr>\n  </thead>\n  <tbody>\n    <tr>\n      <th>0</th>\n      <td>https://www.flickr.com/photos/sergejf/8706867707</td>\n      <td>1.0</td>\n    </tr>\n  </tbody>\n</table>\n</div>"
          },
          "metadata": {}
        }
      ]
    },
    {
      "metadata": {
        "_uuid": "11d8711fa6b7a7a86aefeebce3b220c90d140c1e",
        "_cell_guid": "6eff27c3-6392-43a0-aa7f-ba7871b1e641",
        "trusted": true
      },
      "cell_type": "code",
      "source": "query5 = \"\"\"SELECT\n  original_landing_url,\n  confidence\nFROM\n  `bigquery-public-data.open_images.labels` l\nINNER JOIN\n  `bigquery-public-data.open_images.images` i\nON\n  l.image_id = i.image_id\nWHERE\n  label_name='/m/0f6pl'\n  AND confidence = 1\n  AND subset='validation'\nLIMIT\n  10;\n        \"\"\"\nresponse5 = open_images.query_to_pandas_safe(query5, max_gb_scanned=10)\nresponse5.head(10)",
      "execution_count": 9,
      "outputs": [
        {
          "output_type": "execute_result",
          "execution_count": 9,
          "data": {
            "text/plain": "                               original_landing_url  confidence\n0  https://www.flickr.com/photos/sergejf/8706867707         1.0",
            "text/html": "<div>\n<style scoped>\n    .dataframe tbody tr th:only-of-type {\n        vertical-align: middle;\n    }\n\n    .dataframe tbody tr th {\n        vertical-align: top;\n    }\n\n    .dataframe thead th {\n        text-align: right;\n    }\n</style>\n<table border=\"1\" class=\"dataframe\">\n  <thead>\n    <tr style=\"text-align: right;\">\n      <th></th>\n      <th>original_landing_url</th>\n      <th>confidence</th>\n    </tr>\n  </thead>\n  <tbody>\n    <tr>\n      <th>0</th>\n      <td>https://www.flickr.com/photos/sergejf/8706867707</td>\n      <td>1.0</td>\n    </tr>\n  </tbody>\n</table>\n</div>"
          },
          "metadata": {}
        }
      ]
    },
    {
      "metadata": {
        "_uuid": "25e7c58167a811ae7d82ce761e4610775e8d60e8",
        "_cell_guid": "cd5d7d75-0990-4b96-81b8-b4d4c9e7158e"
      },
      "cell_type": "markdown",
      "source": "Which images with cherries are in the training set?"
    },
    {
      "metadata": {
        "_uuid": "ca77a41314f8135fa09786d8b974a3e9ac4c142f",
        "_cell_guid": "a6326acc-a8f9-4ff4-917f-785bda6ce23e",
        "trusted": true
      },
      "cell_type": "code",
      "source": "query6 = \"\"\"SELECT\n  i.image_id AS image_id,\n  original_url,\n  confidence\nFROM\n  `bigquery-public-data.open_images.labels` l\nINNER JOIN\n  `bigquery-public-data.open_images.images` i\nON\n  l.image_id = i.image_id\nWHERE\n  label_name='/m/0f8sw'\n  AND confidence >= 0.85\n  AND Subset='train'\nLIMIT\n  10;\n        \"\"\"\nresponse6 = open_images.query_to_pandas_safe(query6, max_gb_scanned=10)\nresponse6.head(10)",
      "execution_count": 10,
      "outputs": [
        {
          "output_type": "execute_result",
          "execution_count": 10,
          "data": {
            "text/plain": "           image_id                                       original_url  \\\n0  11e30021dcffd987  https://farm8.staticflickr.com/2887/1103445203...   \n1  24ed494492b89654  https://farm5.staticflickr.com/3045/2639644807...   \n2  24ed494492b89654  https://farm5.staticflickr.com/3045/2639644807...   \n3  2571e3a90ce98756  https://farm7.staticflickr.com/6086/6053410905...   \n4  62a0a29805ad46c5  https://farm6.staticflickr.com/8220/8430826778...   \n5  62b28ea801205720  https://farm1.staticflickr.com/3344/3563052385...   \n6  62b28ea801205720  https://farm1.staticflickr.com/3344/3563052385...   \n7  b3a26e8e164b7026  https://farm7.staticflickr.com/2945/1529974103...   \n8  b3a26e8e164b7026  https://farm7.staticflickr.com/2945/1529974103...   \n9  d923fb3fdb415915  https://farm6.staticflickr.com/8352/8303394799...   \n\n   confidence  \n0         1.0  \n1         0.9  \n2         1.0  \n3         1.0  \n4         1.0  \n5         1.0  \n6         0.9  \n7         1.0  \n8         0.9  \n9         0.9  ",
            "text/html": "<div>\n<style scoped>\n    .dataframe tbody tr th:only-of-type {\n        vertical-align: middle;\n    }\n\n    .dataframe tbody tr th {\n        vertical-align: top;\n    }\n\n    .dataframe thead th {\n        text-align: right;\n    }\n</style>\n<table border=\"1\" class=\"dataframe\">\n  <thead>\n    <tr style=\"text-align: right;\">\n      <th></th>\n      <th>image_id</th>\n      <th>original_url</th>\n      <th>confidence</th>\n    </tr>\n  </thead>\n  <tbody>\n    <tr>\n      <th>0</th>\n      <td>11e30021dcffd987</td>\n      <td>https://farm8.staticflickr.com/2887/1103445203...</td>\n      <td>1.0</td>\n    </tr>\n    <tr>\n      <th>1</th>\n      <td>24ed494492b89654</td>\n      <td>https://farm5.staticflickr.com/3045/2639644807...</td>\n      <td>0.9</td>\n    </tr>\n    <tr>\n      <th>2</th>\n      <td>24ed494492b89654</td>\n      <td>https://farm5.staticflickr.com/3045/2639644807...</td>\n      <td>1.0</td>\n    </tr>\n    <tr>\n      <th>3</th>\n      <td>2571e3a90ce98756</td>\n      <td>https://farm7.staticflickr.com/6086/6053410905...</td>\n      <td>1.0</td>\n    </tr>\n    <tr>\n      <th>4</th>\n      <td>62a0a29805ad46c5</td>\n      <td>https://farm6.staticflickr.com/8220/8430826778...</td>\n      <td>1.0</td>\n    </tr>\n    <tr>\n      <th>5</th>\n      <td>62b28ea801205720</td>\n      <td>https://farm1.staticflickr.com/3344/3563052385...</td>\n      <td>1.0</td>\n    </tr>\n    <tr>\n      <th>6</th>\n      <td>62b28ea801205720</td>\n      <td>https://farm1.staticflickr.com/3344/3563052385...</td>\n      <td>0.9</td>\n    </tr>\n    <tr>\n      <th>7</th>\n      <td>b3a26e8e164b7026</td>\n      <td>https://farm7.staticflickr.com/2945/1529974103...</td>\n      <td>1.0</td>\n    </tr>\n    <tr>\n      <th>8</th>\n      <td>b3a26e8e164b7026</td>\n      <td>https://farm7.staticflickr.com/2945/1529974103...</td>\n      <td>0.9</td>\n    </tr>\n    <tr>\n      <th>9</th>\n      <td>d923fb3fdb415915</td>\n      <td>https://farm6.staticflickr.com/8352/8303394799...</td>\n      <td>0.9</td>\n    </tr>\n  </tbody>\n</table>\n</div>"
          },
          "metadata": {}
        }
      ]
    },
    {
      "metadata": {
        "_uuid": "450d392be87f17bcf55e86d2ee1c42f6b24d539d",
        "collapsed": true,
        "_cell_guid": "87ba4e16-08e7-4325-b0ab-e35a0cf07479",
        "trusted": true
      },
      "cell_type": "code",
      "source": "",
      "execution_count": null,
      "outputs": []
    },
    {
      "metadata": {
        "_uuid": "b79f5f5b997168585b09193b95df4c99d2b1afe8",
        "collapsed": true,
        "_cell_guid": "bdb6e0e4-619a-43fd-954f-919f93cbc2d5",
        "trusted": true
      },
      "cell_type": "code",
      "source": "",
      "execution_count": null,
      "outputs": []
    }
  ],
  "metadata": {
    "language_info": {
      "name": "python",
      "version": "3.6.4",
      "mimetype": "text/x-python",
      "codemirror_mode": {
        "name": "ipython",
        "version": 3
      },
      "pygments_lexer": "ipython3",
      "nbconvert_exporter": "python",
      "file_extension": ".py"
    },
    "kernelspec": {
      "display_name": "Python 3",
      "language": "python",
      "name": "python3"
    }
  },
  "nbformat": 4,
  "nbformat_minor": 1
}