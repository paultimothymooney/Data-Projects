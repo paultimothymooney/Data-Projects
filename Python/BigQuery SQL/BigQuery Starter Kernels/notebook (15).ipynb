{
  "cells": [
    {
      "metadata": {
        "_uuid": "de5c8ef6d5d0ee22ec7e55b629d1c1f08d2b8efd",
        "_cell_guid": "307eb20a-56a5-43b9-832b-a76b338ad5e3"
      },
      "cell_type": "markdown",
      "source": "**How to Query The Metropolitan Museum of Art's Public Domain Art Works\n(BigQuery Dataset)**"
    },
    {
      "metadata": {
        "collapsed": true,
        "_uuid": "8f2839f25d086af736a60e9eeb907d3b93b6e0e5",
        "_cell_guid": "b1076dfc-b9ad-4769-8c92-a6c4dae69d19",
        "trusted": true
      },
      "cell_type": "code",
      "source": "import bq_helper\nfrom bq_helper import BigQueryHelper\n# https://www.kaggle.com/sohier/introduction-to-the-bq-helper-package\nmet = bq_helper.BigQueryHelper(active_project=\"bigquery-public-data\",\n                                   dataset_name=\"the_met\")",
      "execution_count": 1,
      "outputs": []
    },
    {
      "metadata": {
        "_uuid": "a3415035b50ece1df93c6573539798b929a597f5",
        "_cell_guid": "b0442c95-01fa-4688-9a30-718347933e0f",
        "trusted": true
      },
      "cell_type": "code",
      "source": "bq_assistant = BigQueryHelper(\"bigquery-public-data\", \"the_met\")\nbq_assistant.list_tables()",
      "execution_count": 2,
      "outputs": [
        {
          "output_type": "execute_result",
          "execution_count": 2,
          "data": {
            "text/plain": "['images', 'objects', 'vision_api_data']"
          },
          "metadata": {}
        }
      ]
    },
    {
      "metadata": {
        "_uuid": "f6d79a4aae694e0bc61d4dbc4724005d913b9248",
        "_cell_guid": "a2805b6e-5e32-484c-b1c7-a7e3d364ef35",
        "trusted": true
      },
      "cell_type": "code",
      "source": "bq_assistant.head(\"images\", num_rows=15)",
      "execution_count": 3,
      "outputs": [
        {
          "output_type": "execute_result",
          "execution_count": 3,
          "data": {
            "text/plain": "    object_id                                     public_caption title  \\\n0      435868          Fig. 8. X-radiograph of The Met, 61.101.1  None   \n1      634108  Fig. 5. Ferdinand Hodler, sketch for \"The Drea...  None   \n2      634108  Fig. 2. Ferdinand Hodler, sketch for \"The Drea...  None   \n3      634108  Fig. 7. Ferdinand Hodler, sketch for \"The Drea...  None   \n4      634108  Fig. 6. Ferdinand Hodler, sketch for \"The Drea...  None   \n5      634108  Fig. 3. Ferdinand Hodler, sketch for \"The Drea...  None   \n6      634108  Fig. 4. Ferdinand Hodler, sketch for \"The Drea...  None   \n7      435868  Fig. 1. Paul Cézanne, \"The Card Players,\" ca. ...  None   \n8      435868  Fig. 7. Antoine Le Nain, \"The Little Card Play...  None   \n9      435868  Fig. 3. Paul Cézanne, \"The Card Players,\" ca. ...  None   \n10     437814       Fig. 1. Diagram identifying figures depicted  None   \n11     435868  Fig. 4.  Paul Cézanne, \"Man with Pipe,\" 1892/1...  None   \n12     436050  Fig. 1. Giovanni di Bartolommeo Cristiani, \"Sa...  None   \n13     437127  Fig. 8. \"Corner of river-garden at Trocadéro\" ...  None   \n14     436759  Fig. 1. Master of the Pomposa Chapterhouse (po...  None   \n\n                                   original_image_url caption  is_oasc  \\\n0   http://images.metmuseum.org/CRDImages/ep/origi...    None    False   \n1   http://images.metmuseum.org/CRDImages/ep/origi...    None    False   \n2   http://images.metmuseum.org/CRDImages/ep/origi...    None    False   \n3   http://images.metmuseum.org/CRDImages/ep/origi...    None    False   \n4   http://images.metmuseum.org/CRDImages/ep/origi...    None    False   \n5   http://images.metmuseum.org/CRDImages/ep/origi...    None    False   \n6   http://images.metmuseum.org/CRDImages/ep/origi...    None    False   \n7   http://images.metmuseum.org/CRDImages/ep/origi...    None    False   \n8   http://images.metmuseum.org/CRDImages/ep/origi...    None    False   \n9   http://images.metmuseum.org/CRDImages/ep/origi...    None    False   \n10  http://images.metmuseum.org/CRDImages/ep/origi...    None    False   \n11  http://images.metmuseum.org/CRDImages/ep/origi...    None    False   \n12  http://images.metmuseum.org/CRDImages/ep/origi...    None    False   \n13  http://images.metmuseum.org/CRDImages/ep/origi...    None    False   \n14  http://images.metmuseum.org/CRDImages/ep/origi...    None    False   \n\n                                   gcs_url  \n0   gs://gcs-public-data--met/435868/8.jpg  \n1   gs://gcs-public-data--met/634108/5.jpg  \n2   gs://gcs-public-data--met/634108/2.jpg  \n3   gs://gcs-public-data--met/634108/7.jpg  \n4   gs://gcs-public-data--met/634108/6.jpg  \n5   gs://gcs-public-data--met/634108/3.jpg  \n6   gs://gcs-public-data--met/634108/4.jpg  \n7   gs://gcs-public-data--met/435868/1.jpg  \n8   gs://gcs-public-data--met/435868/7.jpg  \n9   gs://gcs-public-data--met/435868/3.jpg  \n10  gs://gcs-public-data--met/437814/1.jpg  \n11  gs://gcs-public-data--met/435868/4.jpg  \n12  gs://gcs-public-data--met/436050/4.jpg  \n13  gs://gcs-public-data--met/437127/8.jpg  \n14  gs://gcs-public-data--met/436759/1.jpg  ",
            "text/html": "<div>\n<style scoped>\n    .dataframe tbody tr th:only-of-type {\n        vertical-align: middle;\n    }\n\n    .dataframe tbody tr th {\n        vertical-align: top;\n    }\n\n    .dataframe thead th {\n        text-align: right;\n    }\n</style>\n<table border=\"1\" class=\"dataframe\">\n  <thead>\n    <tr style=\"text-align: right;\">\n      <th></th>\n      <th>object_id</th>\n      <th>public_caption</th>\n      <th>title</th>\n      <th>original_image_url</th>\n      <th>caption</th>\n      <th>is_oasc</th>\n      <th>gcs_url</th>\n    </tr>\n  </thead>\n  <tbody>\n    <tr>\n      <th>0</th>\n      <td>435868</td>\n      <td>Fig. 8. X-radiograph of The Met, 61.101.1</td>\n      <td>None</td>\n      <td>http://images.metmuseum.org/CRDImages/ep/origi...</td>\n      <td>None</td>\n      <td>False</td>\n      <td>gs://gcs-public-data--met/435868/8.jpg</td>\n    </tr>\n    <tr>\n      <th>1</th>\n      <td>634108</td>\n      <td>Fig. 5. Ferdinand Hodler, sketch for \"The Drea...</td>\n      <td>None</td>\n      <td>http://images.metmuseum.org/CRDImages/ep/origi...</td>\n      <td>None</td>\n      <td>False</td>\n      <td>gs://gcs-public-data--met/634108/5.jpg</td>\n    </tr>\n    <tr>\n      <th>2</th>\n      <td>634108</td>\n      <td>Fig. 2. Ferdinand Hodler, sketch for \"The Drea...</td>\n      <td>None</td>\n      <td>http://images.metmuseum.org/CRDImages/ep/origi...</td>\n      <td>None</td>\n      <td>False</td>\n      <td>gs://gcs-public-data--met/634108/2.jpg</td>\n    </tr>\n    <tr>\n      <th>3</th>\n      <td>634108</td>\n      <td>Fig. 7. Ferdinand Hodler, sketch for \"The Drea...</td>\n      <td>None</td>\n      <td>http://images.metmuseum.org/CRDImages/ep/origi...</td>\n      <td>None</td>\n      <td>False</td>\n      <td>gs://gcs-public-data--met/634108/7.jpg</td>\n    </tr>\n    <tr>\n      <th>4</th>\n      <td>634108</td>\n      <td>Fig. 6. Ferdinand Hodler, sketch for \"The Drea...</td>\n      <td>None</td>\n      <td>http://images.metmuseum.org/CRDImages/ep/origi...</td>\n      <td>None</td>\n      <td>False</td>\n      <td>gs://gcs-public-data--met/634108/6.jpg</td>\n    </tr>\n    <tr>\n      <th>5</th>\n      <td>634108</td>\n      <td>Fig. 3. Ferdinand Hodler, sketch for \"The Drea...</td>\n      <td>None</td>\n      <td>http://images.metmuseum.org/CRDImages/ep/origi...</td>\n      <td>None</td>\n      <td>False</td>\n      <td>gs://gcs-public-data--met/634108/3.jpg</td>\n    </tr>\n    <tr>\n      <th>6</th>\n      <td>634108</td>\n      <td>Fig. 4. Ferdinand Hodler, sketch for \"The Drea...</td>\n      <td>None</td>\n      <td>http://images.metmuseum.org/CRDImages/ep/origi...</td>\n      <td>None</td>\n      <td>False</td>\n      <td>gs://gcs-public-data--met/634108/4.jpg</td>\n    </tr>\n    <tr>\n      <th>7</th>\n      <td>435868</td>\n      <td>Fig. 1. Paul Cézanne, \"The Card Players,\" ca. ...</td>\n      <td>None</td>\n      <td>http://images.metmuseum.org/CRDImages/ep/origi...</td>\n      <td>None</td>\n      <td>False</td>\n      <td>gs://gcs-public-data--met/435868/1.jpg</td>\n    </tr>\n    <tr>\n      <th>8</th>\n      <td>435868</td>\n      <td>Fig. 7. Antoine Le Nain, \"The Little Card Play...</td>\n      <td>None</td>\n      <td>http://images.metmuseum.org/CRDImages/ep/origi...</td>\n      <td>None</td>\n      <td>False</td>\n      <td>gs://gcs-public-data--met/435868/7.jpg</td>\n    </tr>\n    <tr>\n      <th>9</th>\n      <td>435868</td>\n      <td>Fig. 3. Paul Cézanne, \"The Card Players,\" ca. ...</td>\n      <td>None</td>\n      <td>http://images.metmuseum.org/CRDImages/ep/origi...</td>\n      <td>None</td>\n      <td>False</td>\n      <td>gs://gcs-public-data--met/435868/3.jpg</td>\n    </tr>\n    <tr>\n      <th>10</th>\n      <td>437814</td>\n      <td>Fig. 1. Diagram identifying figures depicted</td>\n      <td>None</td>\n      <td>http://images.metmuseum.org/CRDImages/ep/origi...</td>\n      <td>None</td>\n      <td>False</td>\n      <td>gs://gcs-public-data--met/437814/1.jpg</td>\n    </tr>\n    <tr>\n      <th>11</th>\n      <td>435868</td>\n      <td>Fig. 4.  Paul Cézanne, \"Man with Pipe,\" 1892/1...</td>\n      <td>None</td>\n      <td>http://images.metmuseum.org/CRDImages/ep/origi...</td>\n      <td>None</td>\n      <td>False</td>\n      <td>gs://gcs-public-data--met/435868/4.jpg</td>\n    </tr>\n    <tr>\n      <th>12</th>\n      <td>436050</td>\n      <td>Fig. 1. Giovanni di Bartolommeo Cristiani, \"Sa...</td>\n      <td>None</td>\n      <td>http://images.metmuseum.org/CRDImages/ep/origi...</td>\n      <td>None</td>\n      <td>False</td>\n      <td>gs://gcs-public-data--met/436050/4.jpg</td>\n    </tr>\n    <tr>\n      <th>13</th>\n      <td>437127</td>\n      <td>Fig. 8. \"Corner of river-garden at Trocadéro\" ...</td>\n      <td>None</td>\n      <td>http://images.metmuseum.org/CRDImages/ep/origi...</td>\n      <td>None</td>\n      <td>False</td>\n      <td>gs://gcs-public-data--met/437127/8.jpg</td>\n    </tr>\n    <tr>\n      <th>14</th>\n      <td>436759</td>\n      <td>Fig. 1. Master of the Pomposa Chapterhouse (po...</td>\n      <td>None</td>\n      <td>http://images.metmuseum.org/CRDImages/ep/origi...</td>\n      <td>None</td>\n      <td>False</td>\n      <td>gs://gcs-public-data--met/436759/1.jpg</td>\n    </tr>\n  </tbody>\n</table>\n</div>"
          },
          "metadata": {}
        }
      ]
    },
    {
      "metadata": {
        "_uuid": "bbb18e3c781e1ce11b83342cc42b46b4eb4f1a81",
        "_cell_guid": "87e3e8b9-e8c4-48fd-99d3-a77034d474bf",
        "trusted": true
      },
      "cell_type": "code",
      "source": "bq_assistant.table_schema(\"images\")",
      "execution_count": 4,
      "outputs": [
        {
          "output_type": "execute_result",
          "execution_count": 4,
          "data": {
            "text/plain": "[SchemaField('object_id', 'INTEGER', 'NULLABLE', None, ()),\n SchemaField('public_caption', 'STRING', 'NULLABLE', None, ()),\n SchemaField('title', 'STRING', 'NULLABLE', None, ()),\n SchemaField('original_image_url', 'STRING', 'NULLABLE', None, ()),\n SchemaField('caption', 'STRING', 'NULLABLE', None, ()),\n SchemaField('is_oasc', 'BOOLEAN', 'NULLABLE', None, ()),\n SchemaField('gcs_url', 'STRING', 'NULLABLE', None, ())]"
          },
          "metadata": {}
        }
      ]
    },
    {
      "metadata": {
        "_uuid": "8eeda9ae334f9bc0dc313635abee9c9c0d582f6c",
        "_cell_guid": "ec2e26b9-885e-4f12-8d20-2f8c494d6f3e"
      },
      "cell_type": "markdown",
      "source": "What are the types of art by department?\n"
    },
    {
      "metadata": {
        "_uuid": "f498dd0e54911bf273ae4a76fd6a2bdaebf96f15",
        "_cell_guid": "ab7c4d65-3cc2-4192-992c-b030c33b2010",
        "trusted": true
      },
      "cell_type": "code",
      "source": "query1 = \"\"\"\nSELECT department, COUNT(*) c \nFROM `bigquery-public-data.the_met.objects`\nGROUP BY 1\nORDER BY c DESC;\n        \"\"\"\nresponse1 = met.query_to_pandas_safe(query1)\nresponse1.head(10)",
      "execution_count": 5,
      "outputs": [
        {
          "output_type": "execute_result",
          "execution_count": 5,
          "data": {
            "text/plain": "                               department      c\n0                     Drawings and Prints  43488\n1  European Sculpture and Decorative Arts  30611\n2                               Asian Art  29844\n3                     Greek and Roman Art  12518\n4                            Egyptian Art  12278\n5                             Islamic Art  10435\n6                American Decorative Arts   8942\n7                       Costume Institute   7824\n8                            Medieval Art   6838\n9                             Photographs   6583",
            "text/html": "<div>\n<style scoped>\n    .dataframe tbody tr th:only-of-type {\n        vertical-align: middle;\n    }\n\n    .dataframe tbody tr th {\n        vertical-align: top;\n    }\n\n    .dataframe thead th {\n        text-align: right;\n    }\n</style>\n<table border=\"1\" class=\"dataframe\">\n  <thead>\n    <tr style=\"text-align: right;\">\n      <th></th>\n      <th>department</th>\n      <th>c</th>\n    </tr>\n  </thead>\n  <tbody>\n    <tr>\n      <th>0</th>\n      <td>Drawings and Prints</td>\n      <td>43488</td>\n    </tr>\n    <tr>\n      <th>1</th>\n      <td>European Sculpture and Decorative Arts</td>\n      <td>30611</td>\n    </tr>\n    <tr>\n      <th>2</th>\n      <td>Asian Art</td>\n      <td>29844</td>\n    </tr>\n    <tr>\n      <th>3</th>\n      <td>Greek and Roman Art</td>\n      <td>12518</td>\n    </tr>\n    <tr>\n      <th>4</th>\n      <td>Egyptian Art</td>\n      <td>12278</td>\n    </tr>\n    <tr>\n      <th>5</th>\n      <td>Islamic Art</td>\n      <td>10435</td>\n    </tr>\n    <tr>\n      <th>6</th>\n      <td>American Decorative Arts</td>\n      <td>8942</td>\n    </tr>\n    <tr>\n      <th>7</th>\n      <td>Costume Institute</td>\n      <td>7824</td>\n    </tr>\n    <tr>\n      <th>8</th>\n      <td>Medieval Art</td>\n      <td>6838</td>\n    </tr>\n    <tr>\n      <th>9</th>\n      <td>Photographs</td>\n      <td>6583</td>\n    </tr>\n  </tbody>\n</table>\n</div>"
          },
          "metadata": {}
        }
      ]
    },
    {
      "metadata": {
        "_uuid": "8bd668ce05c9a35e7edde38f812ec9261742faad",
        "_cell_guid": "49301cfa-ef44-4fd2-9198-4f8af6478972"
      },
      "cell_type": "markdown",
      "source": "![](https://cloud.google.com/blog/big-data/2017/08/images/150177792553261/met03.png)\nhttps://cloud.google.com/blog/big-data/2017/08/images/150177792553261/met03.png"
    },
    {
      "metadata": {
        "_uuid": "22c94d4072e1e792fd14b48c3ee480ab07a30b1e",
        "_cell_guid": "39249847-46f8-47e6-ae63-4ffd438385d4"
      },
      "cell_type": "markdown",
      "source": "What are the top types of media used for the items in this collection?"
    },
    {
      "metadata": {
        "_uuid": "77d0841a15c7675c6e2506e02762ed6892629d59",
        "_cell_guid": "f9ea65cb-a34a-4e54-b7dd-8eb964aba953",
        "trusted": true
      },
      "cell_type": "code",
      "source": "query2 = \"\"\"SELECT \n      LOWER(label) as medium, \n      COUNT(*) c \nFROM `bigquery-public-data.the_met.objects`, \nUNNEST(SPLIT(medium, ',')) label\nGROUP BY 1\nORDER BY c DESC;\n        \"\"\"\nresponse2 = met.query_to_pandas_safe(query2)\nresponse2.head(10)",
      "execution_count": 6,
      "outputs": [
        {
          "output_type": "execute_result",
          "execution_count": 6,
          "data": {
            "text/plain": "               medium      c\n0                silk  10130\n1              bronze   6023\n2               glass   5764\n3             etching   5539\n4          terracotta   4809\n5              silver   4705\n6                gold   4617\n7           engraving   3973\n8  albumen photograph   3273\n9             woodcut   3268",
            "text/html": "<div>\n<style scoped>\n    .dataframe tbody tr th:only-of-type {\n        vertical-align: middle;\n    }\n\n    .dataframe tbody tr th {\n        vertical-align: top;\n    }\n\n    .dataframe thead th {\n        text-align: right;\n    }\n</style>\n<table border=\"1\" class=\"dataframe\">\n  <thead>\n    <tr style=\"text-align: right;\">\n      <th></th>\n      <th>medium</th>\n      <th>c</th>\n    </tr>\n  </thead>\n  <tbody>\n    <tr>\n      <th>0</th>\n      <td>silk</td>\n      <td>10130</td>\n    </tr>\n    <tr>\n      <th>1</th>\n      <td>bronze</td>\n      <td>6023</td>\n    </tr>\n    <tr>\n      <th>2</th>\n      <td>glass</td>\n      <td>5764</td>\n    </tr>\n    <tr>\n      <th>3</th>\n      <td>etching</td>\n      <td>5539</td>\n    </tr>\n    <tr>\n      <th>4</th>\n      <td>terracotta</td>\n      <td>4809</td>\n    </tr>\n    <tr>\n      <th>5</th>\n      <td>silver</td>\n      <td>4705</td>\n    </tr>\n    <tr>\n      <th>6</th>\n      <td>gold</td>\n      <td>4617</td>\n    </tr>\n    <tr>\n      <th>7</th>\n      <td>engraving</td>\n      <td>3973</td>\n    </tr>\n    <tr>\n      <th>8</th>\n      <td>albumen photograph</td>\n      <td>3273</td>\n    </tr>\n    <tr>\n      <th>9</th>\n      <td>woodcut</td>\n      <td>3268</td>\n    </tr>\n  </tbody>\n</table>\n</div>"
          },
          "metadata": {}
        }
      ]
    },
    {
      "metadata": {
        "_uuid": "8f4120f0a9e81a796914482b479e024f83a91848",
        "_cell_guid": "574e9d3a-865a-48fe-920a-baad27a0f860"
      },
      "cell_type": "markdown",
      "source": "![](https://cloud.google.com/blog/big-data/2017/08/images/150177792553261/met04.png)\nhttps://cloud.google.com/blog/big-data/2017/08/images/150177792553261/met04.png"
    },
    {
      "metadata": {
        "_uuid": "f6ee8da19f22d7abe09c6957891a7390964ad775",
        "_cell_guid": "937240a4-b5de-42b6-b29c-987dd74e689f"
      },
      "cell_type": "markdown",
      "source": "What types of art were most popular during various different time periods?"
    },
    {
      "metadata": {
        "_uuid": "d597435820237905733ce8d5897a29f34af22dd7",
        "_cell_guid": "44cacead-3add-4047-bb10-b5f705b99656",
        "trusted": true
      },
      "cell_type": "code",
      "source": "query3 = \"\"\"SELECT period, description, c FROM (\n  SELECT \na.period, \nb.description, \ncount(*) c, \nrow_number() over (partition by period order by count(*) desc) seqnum \n  FROM `bigquery-public-data.the_met.objects` a\n  JOIN (\n    SELECT \n        label.description as description, \n        object_id \n    FROM `bigquery-public-data.the_met.vision_api_data`, UNNEST(labelAnnotations) label\n  ) b\n  ON a.object_id = b.object_id\n  WHERE a.period is not null\n  group by 1,2\n)\nWHERE seqnum <= 3\nAND c >= 10 # only include labels that have 10 or more pieces associated with it\nAND description != \"art\"\nORDER BY period, c desc;\n        \"\"\"\nresponse3 = met.query_to_pandas_safe(query3, max_gb_scanned=10)\nresponse3.head(30)",
      "execution_count": 7,
      "outputs": [
        {
          "output_type": "execute_result",
          "execution_count": 7,
          "data": {
            "text/plain": "                           period        description    c\n0                      Achaemenid           material   48\n1                      Achaemenid            drawing   42\n2                        Akkadian             relief   36\n3                        Akkadian      stone carving   28\n4                        Akkadian    black and white   23\n5                   Angkor period          sculpture   46\n6                   Angkor period             statue   38\n7                         Archaic          sculpture  488\n8                         Archaic            ceramic  486\n9            Archaic or Classical            ceramic   26\n10           Archaic or Classical               vase   22\n11                     Bronze Age             silver   83\n12                     Bronze Age            drawing   71\n13     Bronze and Iron Age period              brass   64\n14     Bronze and Iron Age period             bronze   47\n15        Central Javanese period          jewellery  259\n16        Central Javanese period  fashion accessory  255\n17        Central Javanese period              brass  171\n18                   Chalcolithic           material   35\n19                   Chalcolithic               hand   32\n20                   Chalcolithic            drawing   22\n21  Chalcolithic–Early Bronze Age           material   44\n22  Chalcolithic–Early Bronze Age            mineral   24\n23  Chalcolithic–Early Bronze Age  fashion accessory   17\n24        Chola period (880–1279)             statue   24\n25        Chola period (880–1279)          sculpture   24\n26                      Classical            ceramic  417\n27                      Classical               vase  388\n28                    Classical ?          sculpture   10\n29       Classical or Hellenistic  fashion accessory   84",
            "text/html": "<div>\n<style scoped>\n    .dataframe tbody tr th:only-of-type {\n        vertical-align: middle;\n    }\n\n    .dataframe tbody tr th {\n        vertical-align: top;\n    }\n\n    .dataframe thead th {\n        text-align: right;\n    }\n</style>\n<table border=\"1\" class=\"dataframe\">\n  <thead>\n    <tr style=\"text-align: right;\">\n      <th></th>\n      <th>period</th>\n      <th>description</th>\n      <th>c</th>\n    </tr>\n  </thead>\n  <tbody>\n    <tr>\n      <th>0</th>\n      <td>Achaemenid</td>\n      <td>material</td>\n      <td>48</td>\n    </tr>\n    <tr>\n      <th>1</th>\n      <td>Achaemenid</td>\n      <td>drawing</td>\n      <td>42</td>\n    </tr>\n    <tr>\n      <th>2</th>\n      <td>Akkadian</td>\n      <td>relief</td>\n      <td>36</td>\n    </tr>\n    <tr>\n      <th>3</th>\n      <td>Akkadian</td>\n      <td>stone carving</td>\n      <td>28</td>\n    </tr>\n    <tr>\n      <th>4</th>\n      <td>Akkadian</td>\n      <td>black and white</td>\n      <td>23</td>\n    </tr>\n    <tr>\n      <th>5</th>\n      <td>Angkor period</td>\n      <td>sculpture</td>\n      <td>46</td>\n    </tr>\n    <tr>\n      <th>6</th>\n      <td>Angkor period</td>\n      <td>statue</td>\n      <td>38</td>\n    </tr>\n    <tr>\n      <th>7</th>\n      <td>Archaic</td>\n      <td>sculpture</td>\n      <td>488</td>\n    </tr>\n    <tr>\n      <th>8</th>\n      <td>Archaic</td>\n      <td>ceramic</td>\n      <td>486</td>\n    </tr>\n    <tr>\n      <th>9</th>\n      <td>Archaic or Classical</td>\n      <td>ceramic</td>\n      <td>26</td>\n    </tr>\n    <tr>\n      <th>10</th>\n      <td>Archaic or Classical</td>\n      <td>vase</td>\n      <td>22</td>\n    </tr>\n    <tr>\n      <th>11</th>\n      <td>Bronze Age</td>\n      <td>silver</td>\n      <td>83</td>\n    </tr>\n    <tr>\n      <th>12</th>\n      <td>Bronze Age</td>\n      <td>drawing</td>\n      <td>71</td>\n    </tr>\n    <tr>\n      <th>13</th>\n      <td>Bronze and Iron Age period</td>\n      <td>brass</td>\n      <td>64</td>\n    </tr>\n    <tr>\n      <th>14</th>\n      <td>Bronze and Iron Age period</td>\n      <td>bronze</td>\n      <td>47</td>\n    </tr>\n    <tr>\n      <th>15</th>\n      <td>Central Javanese period</td>\n      <td>jewellery</td>\n      <td>259</td>\n    </tr>\n    <tr>\n      <th>16</th>\n      <td>Central Javanese period</td>\n      <td>fashion accessory</td>\n      <td>255</td>\n    </tr>\n    <tr>\n      <th>17</th>\n      <td>Central Javanese period</td>\n      <td>brass</td>\n      <td>171</td>\n    </tr>\n    <tr>\n      <th>18</th>\n      <td>Chalcolithic</td>\n      <td>material</td>\n      <td>35</td>\n    </tr>\n    <tr>\n      <th>19</th>\n      <td>Chalcolithic</td>\n      <td>hand</td>\n      <td>32</td>\n    </tr>\n    <tr>\n      <th>20</th>\n      <td>Chalcolithic</td>\n      <td>drawing</td>\n      <td>22</td>\n    </tr>\n    <tr>\n      <th>21</th>\n      <td>Chalcolithic–Early Bronze Age</td>\n      <td>material</td>\n      <td>44</td>\n    </tr>\n    <tr>\n      <th>22</th>\n      <td>Chalcolithic–Early Bronze Age</td>\n      <td>mineral</td>\n      <td>24</td>\n    </tr>\n    <tr>\n      <th>23</th>\n      <td>Chalcolithic–Early Bronze Age</td>\n      <td>fashion accessory</td>\n      <td>17</td>\n    </tr>\n    <tr>\n      <th>24</th>\n      <td>Chola period (880–1279)</td>\n      <td>statue</td>\n      <td>24</td>\n    </tr>\n    <tr>\n      <th>25</th>\n      <td>Chola period (880–1279)</td>\n      <td>sculpture</td>\n      <td>24</td>\n    </tr>\n    <tr>\n      <th>26</th>\n      <td>Classical</td>\n      <td>ceramic</td>\n      <td>417</td>\n    </tr>\n    <tr>\n      <th>27</th>\n      <td>Classical</td>\n      <td>vase</td>\n      <td>388</td>\n    </tr>\n    <tr>\n      <th>28</th>\n      <td>Classical ?</td>\n      <td>sculpture</td>\n      <td>10</td>\n    </tr>\n    <tr>\n      <th>29</th>\n      <td>Classical or Hellenistic</td>\n      <td>fashion accessory</td>\n      <td>84</td>\n    </tr>\n  </tbody>\n</table>\n</div>"
          },
          "metadata": {}
        }
      ]
    },
    {
      "metadata": {
        "_uuid": "a6ebb013cab63d0cdfe6d143cf73c4fab12100a0",
        "_cell_guid": "83b06213-432d-4d7e-ac24-bef63386acc4"
      },
      "cell_type": "markdown",
      "source": "Where are the images in this dataset currently hosted?"
    },
    {
      "metadata": {
        "_uuid": "0b33abdf5a72f7402dafcfc1a55c4ee10fd127fe",
        "_cell_guid": "2a9e0d55-46c3-47af-8059-20365f8dd0ac",
        "trusted": true
      },
      "cell_type": "code",
      "source": "query4 = \"\"\"SELECT REGEXP_EXTRACT(page.url, '//([^/]*)/?') domain, COUNT(*) c\nFROM `bigquery-public-data.the_met.vision_api_data`, \nUNNEST(webDetection.pagesWithMatchingImages) as page\nGROUP BY 1\nORDER BY c DESC;\n        \"\"\"\nresponse4 = met.query_to_pandas_safe(query4, max_gb_scanned=10)\nresponse4.head(10)",
      "execution_count": 8,
      "outputs": [
        {
          "output_type": "execute_result",
          "execution_count": 8,
          "data": {
            "text/plain": "                  domain       c\n0      www.pinterest.com  119430\n1      www.metmuseum.org   70717\n2       www.pinterest.se   18421\n3          metmuseum.org   10773\n4            archive.org    7585\n5          www.alamy.com    5104\n6            ukiyo-e.org    5003\n7  commons.wikimedia.org    3967\n8           holstshop.ru    3500\n9       it.pinterest.com    3339",
            "text/html": "<div>\n<style scoped>\n    .dataframe tbody tr th:only-of-type {\n        vertical-align: middle;\n    }\n\n    .dataframe tbody tr th {\n        vertical-align: top;\n    }\n\n    .dataframe thead th {\n        text-align: right;\n    }\n</style>\n<table border=\"1\" class=\"dataframe\">\n  <thead>\n    <tr style=\"text-align: right;\">\n      <th></th>\n      <th>domain</th>\n      <th>c</th>\n    </tr>\n  </thead>\n  <tbody>\n    <tr>\n      <th>0</th>\n      <td>www.pinterest.com</td>\n      <td>119430</td>\n    </tr>\n    <tr>\n      <th>1</th>\n      <td>www.metmuseum.org</td>\n      <td>70717</td>\n    </tr>\n    <tr>\n      <th>2</th>\n      <td>www.pinterest.se</td>\n      <td>18421</td>\n    </tr>\n    <tr>\n      <th>3</th>\n      <td>metmuseum.org</td>\n      <td>10773</td>\n    </tr>\n    <tr>\n      <th>4</th>\n      <td>archive.org</td>\n      <td>7585</td>\n    </tr>\n    <tr>\n      <th>5</th>\n      <td>www.alamy.com</td>\n      <td>5104</td>\n    </tr>\n    <tr>\n      <th>6</th>\n      <td>ukiyo-e.org</td>\n      <td>5003</td>\n    </tr>\n    <tr>\n      <th>7</th>\n      <td>commons.wikimedia.org</td>\n      <td>3967</td>\n    </tr>\n    <tr>\n      <th>8</th>\n      <td>holstshop.ru</td>\n      <td>3500</td>\n    </tr>\n    <tr>\n      <th>9</th>\n      <td>it.pinterest.com</td>\n      <td>3339</td>\n    </tr>\n  </tbody>\n</table>\n</div>"
          },
          "metadata": {}
        }
      ]
    },
    {
      "metadata": {
        "_uuid": "1a0857962c8780a5511765c1fa159733f46e1efe",
        "_cell_guid": "a29e6503-ab94-4077-bc0e-7bbdc1d513a9"
      },
      "cell_type": "markdown",
      "source": "Can you sort images by color?"
    },
    {
      "metadata": {
        "_uuid": "11d8711fa6b7a7a86aefeebce3b220c90d140c1e",
        "_cell_guid": "6eff27c3-6392-43a0-aa7f-ba7871b1e641",
        "trusted": true
      },
      "cell_type": "code",
      "source": "query5 = \"\"\"SELECT \ncolor.color.red as r, \ncolor.color.green as g, \ncolor.color.blue as b,\nconcat(\"https://storage.cloud.google.com/gcs-public-data--met/\", \ncast(object_id as string), \"/0.jpg\") as img_url \nFROM `bigquery-public-data.the_met.vision_api_data`, \nUNNEST(imagePropertiesAnnotation.dominantColors.colors) color\nWHERE color.color.red < 0x64\nAND (color.color.green > 0x96 or color.color.green < 0xC8)\nAND color.color.blue > 0xC8;\n        \"\"\"\nresponse5 = met.query_to_pandas_safe(query5, max_gb_scanned=10)\nresponse5.head(10)",
      "execution_count": 9,
      "outputs": [
        {
          "output_type": "execute_result",
          "execution_count": 9,
          "data": {
            "text/plain": "    r    g    b                                            img_url\n0  26  163  202  https://storage.cloud.google.com/gcs-public-da...\n1  22  123  207  https://storage.cloud.google.com/gcs-public-da...\n2  53  160  214  https://storage.cloud.google.com/gcs-public-da...\n3  15  112  207  https://storage.cloud.google.com/gcs-public-da...\n4  73  172  227  https://storage.cloud.google.com/gcs-public-da...\n5  86   85  205  https://storage.cloud.google.com/gcs-public-da...\n6  57  161  205  https://storage.cloud.google.com/gcs-public-da...\n7  75  163  201  https://storage.cloud.google.com/gcs-public-da...\n8  74  140  234  https://storage.cloud.google.com/gcs-public-da...\n9  81  125  213  https://storage.cloud.google.com/gcs-public-da...",
            "text/html": "<div>\n<style scoped>\n    .dataframe tbody tr th:only-of-type {\n        vertical-align: middle;\n    }\n\n    .dataframe tbody tr th {\n        vertical-align: top;\n    }\n\n    .dataframe thead th {\n        text-align: right;\n    }\n</style>\n<table border=\"1\" class=\"dataframe\">\n  <thead>\n    <tr style=\"text-align: right;\">\n      <th></th>\n      <th>r</th>\n      <th>g</th>\n      <th>b</th>\n      <th>img_url</th>\n    </tr>\n  </thead>\n  <tbody>\n    <tr>\n      <th>0</th>\n      <td>26</td>\n      <td>163</td>\n      <td>202</td>\n      <td>https://storage.cloud.google.com/gcs-public-da...</td>\n    </tr>\n    <tr>\n      <th>1</th>\n      <td>22</td>\n      <td>123</td>\n      <td>207</td>\n      <td>https://storage.cloud.google.com/gcs-public-da...</td>\n    </tr>\n    <tr>\n      <th>2</th>\n      <td>53</td>\n      <td>160</td>\n      <td>214</td>\n      <td>https://storage.cloud.google.com/gcs-public-da...</td>\n    </tr>\n    <tr>\n      <th>3</th>\n      <td>15</td>\n      <td>112</td>\n      <td>207</td>\n      <td>https://storage.cloud.google.com/gcs-public-da...</td>\n    </tr>\n    <tr>\n      <th>4</th>\n      <td>73</td>\n      <td>172</td>\n      <td>227</td>\n      <td>https://storage.cloud.google.com/gcs-public-da...</td>\n    </tr>\n    <tr>\n      <th>5</th>\n      <td>86</td>\n      <td>85</td>\n      <td>205</td>\n      <td>https://storage.cloud.google.com/gcs-public-da...</td>\n    </tr>\n    <tr>\n      <th>6</th>\n      <td>57</td>\n      <td>161</td>\n      <td>205</td>\n      <td>https://storage.cloud.google.com/gcs-public-da...</td>\n    </tr>\n    <tr>\n      <th>7</th>\n      <td>75</td>\n      <td>163</td>\n      <td>201</td>\n      <td>https://storage.cloud.google.com/gcs-public-da...</td>\n    </tr>\n    <tr>\n      <th>8</th>\n      <td>74</td>\n      <td>140</td>\n      <td>234</td>\n      <td>https://storage.cloud.google.com/gcs-public-da...</td>\n    </tr>\n    <tr>\n      <th>9</th>\n      <td>81</td>\n      <td>125</td>\n      <td>213</td>\n      <td>https://storage.cloud.google.com/gcs-public-da...</td>\n    </tr>\n  </tbody>\n</table>\n</div>"
          },
          "metadata": {}
        }
      ]
    },
    {
      "metadata": {
        "_uuid": "25e7c58167a811ae7d82ce761e4610775e8d60e8",
        "_cell_guid": "cd5d7d75-0990-4b96-81b8-b4d4c9e7158e"
      },
      "cell_type": "markdown",
      "source": "Which images contain famous landmarks?\n"
    },
    {
      "metadata": {
        "_uuid": "ca77a41314f8135fa09786d8b974a3e9ac4c142f",
        "_cell_guid": "a6326acc-a8f9-4ff4-917f-785bda6ce23e",
        "trusted": true
      },
      "cell_type": "code",
      "source": "query6 = \"\"\"SELECT b.object_id, b.original_image_url, landmark.description, landmark.mid, landmark.score \nFROM `bigquery-public-data.the_met.vision_api_data` a, \nUNNEST(landmarkAnnotations) landmark\nJOIN (\n  SELECT object_id, original_image_url, gcs_url \n  FROM `bigquery-public-data.the_met.images` \n) b\nON a.object_id = b.object_id\nAND ends_with(lower(b.gcs_url), '/0.jpg')\nORDER BY score DESC;\n        \"\"\"\nresponse6 = met.query_to_pandas_safe(query6, max_gb_scanned=10)\nresponse6.head(20)",
      "execution_count": 10,
      "outputs": [
        {
          "output_type": "execute_result",
          "execution_count": 10,
          "data": {
            "text/plain": "    object_id                                 original_image_url  \\\n0      285715  http://images.metmuseum.org/CRDImages/ph/origi...   \n1      436528  http://images.metmuseum.org/CRDImages/ep/origi...   \n2      436530  http://images.metmuseum.org/CRDImages/ep/origi...   \n3      199313  http://images.metmuseum.org/CRDImages/es/origi...   \n4      437788  http://images.metmuseum.org/CRDImages/ep/origi...   \n5      438817  http://images.metmuseum.org/CRDImages/ep/origi...   \n6      436528  http://images.metmuseum.org/CRDImages/ep/origi...   \n7      436529  http://images.metmuseum.org/CRDImages/ep/origi...   \n8      436532  http://images.metmuseum.org/CRDImages/ep/origi...   \n9      340029  http://images.metmuseum.org/CRDImages/dp/origi...   \n10     436527  http://images.metmuseum.org/CRDImages/ep/origi...   \n11     436139  http://images.metmuseum.org/CRDImages/ep/origi...   \n12     347371  http://images.metmuseum.org/CRDImages/dp/origi...   \n13     437980  http://images.metmuseum.org/CRDImages/ep/origi...   \n14     466586  http://images.metmuseum.org/CRDImages/md/origi...   \n15     435739  http://images.metmuseum.org/CRDImages/ep/origi...   \n16     472381  http://images.metmuseum.org/CRDImages/cl/origi...   \n17     436708  http://images.metmuseum.org/CRDImages/ep/origi...   \n18     470676  http://images.metmuseum.org/CRDImages/cl/origi...   \n19     470871  http://images.metmuseum.org/CRDImages/cl/origi...   \n\n                   description           mid     score  \n0       Yosemite National Park      /m/0c_y8  0.980163  \n1                      Met Art  /g/12629mj33  0.965158  \n2                      Met Art  /g/12629mj33  0.962197  \n3         Château de Malmaison      /m/0jx8l  0.958862  \n4   Metropolitan Museum of Art      /m/09c7b  0.957750  \n5                New York City     /m/02_286  0.954218  \n6   Metropolitan Museum of Art      /m/09c7b  0.954066  \n7                      Met Art  /g/12629mj33  0.942639  \n8   Metropolitan Museum of Art      /m/09c7b  0.939375  \n9                 Munch Museum     /m/017n7v  0.935057  \n10                     Met Art  /g/12629mj33  0.925652  \n11               New York City     /m/02_286  0.924390  \n12                     Cologne      /m/01v8c  0.921764  \n13                     Met Art  /g/12629mj33  0.920285  \n14      Basilica of San Vitale     /m/07vyc6  0.917199  \n15     Basilica di Santa Croce     /m/0fz6wc  0.912233  \n16               The Cloisters     /m/01rs7b  0.886067  \n17                  The Louvre      /m/04gdr  0.873878  \n18               The Cloisters     /m/01rs7b  0.872387  \n19               The Cloisters     /m/01rs7b  0.872387  ",
            "text/html": "<div>\n<style scoped>\n    .dataframe tbody tr th:only-of-type {\n        vertical-align: middle;\n    }\n\n    .dataframe tbody tr th {\n        vertical-align: top;\n    }\n\n    .dataframe thead th {\n        text-align: right;\n    }\n</style>\n<table border=\"1\" class=\"dataframe\">\n  <thead>\n    <tr style=\"text-align: right;\">\n      <th></th>\n      <th>object_id</th>\n      <th>original_image_url</th>\n      <th>description</th>\n      <th>mid</th>\n      <th>score</th>\n    </tr>\n  </thead>\n  <tbody>\n    <tr>\n      <th>0</th>\n      <td>285715</td>\n      <td>http://images.metmuseum.org/CRDImages/ph/origi...</td>\n      <td>Yosemite National Park</td>\n      <td>/m/0c_y8</td>\n      <td>0.980163</td>\n    </tr>\n    <tr>\n      <th>1</th>\n      <td>436528</td>\n      <td>http://images.metmuseum.org/CRDImages/ep/origi...</td>\n      <td>Met Art</td>\n      <td>/g/12629mj33</td>\n      <td>0.965158</td>\n    </tr>\n    <tr>\n      <th>2</th>\n      <td>436530</td>\n      <td>http://images.metmuseum.org/CRDImages/ep/origi...</td>\n      <td>Met Art</td>\n      <td>/g/12629mj33</td>\n      <td>0.962197</td>\n    </tr>\n    <tr>\n      <th>3</th>\n      <td>199313</td>\n      <td>http://images.metmuseum.org/CRDImages/es/origi...</td>\n      <td>Château de Malmaison</td>\n      <td>/m/0jx8l</td>\n      <td>0.958862</td>\n    </tr>\n    <tr>\n      <th>4</th>\n      <td>437788</td>\n      <td>http://images.metmuseum.org/CRDImages/ep/origi...</td>\n      <td>Metropolitan Museum of Art</td>\n      <td>/m/09c7b</td>\n      <td>0.957750</td>\n    </tr>\n    <tr>\n      <th>5</th>\n      <td>438817</td>\n      <td>http://images.metmuseum.org/CRDImages/ep/origi...</td>\n      <td>New York City</td>\n      <td>/m/02_286</td>\n      <td>0.954218</td>\n    </tr>\n    <tr>\n      <th>6</th>\n      <td>436528</td>\n      <td>http://images.metmuseum.org/CRDImages/ep/origi...</td>\n      <td>Metropolitan Museum of Art</td>\n      <td>/m/09c7b</td>\n      <td>0.954066</td>\n    </tr>\n    <tr>\n      <th>7</th>\n      <td>436529</td>\n      <td>http://images.metmuseum.org/CRDImages/ep/origi...</td>\n      <td>Met Art</td>\n      <td>/g/12629mj33</td>\n      <td>0.942639</td>\n    </tr>\n    <tr>\n      <th>8</th>\n      <td>436532</td>\n      <td>http://images.metmuseum.org/CRDImages/ep/origi...</td>\n      <td>Metropolitan Museum of Art</td>\n      <td>/m/09c7b</td>\n      <td>0.939375</td>\n    </tr>\n    <tr>\n      <th>9</th>\n      <td>340029</td>\n      <td>http://images.metmuseum.org/CRDImages/dp/origi...</td>\n      <td>Munch Museum</td>\n      <td>/m/017n7v</td>\n      <td>0.935057</td>\n    </tr>\n    <tr>\n      <th>10</th>\n      <td>436527</td>\n      <td>http://images.metmuseum.org/CRDImages/ep/origi...</td>\n      <td>Met Art</td>\n      <td>/g/12629mj33</td>\n      <td>0.925652</td>\n    </tr>\n    <tr>\n      <th>11</th>\n      <td>436139</td>\n      <td>http://images.metmuseum.org/CRDImages/ep/origi...</td>\n      <td>New York City</td>\n      <td>/m/02_286</td>\n      <td>0.924390</td>\n    </tr>\n    <tr>\n      <th>12</th>\n      <td>347371</td>\n      <td>http://images.metmuseum.org/CRDImages/dp/origi...</td>\n      <td>Cologne</td>\n      <td>/m/01v8c</td>\n      <td>0.921764</td>\n    </tr>\n    <tr>\n      <th>13</th>\n      <td>437980</td>\n      <td>http://images.metmuseum.org/CRDImages/ep/origi...</td>\n      <td>Met Art</td>\n      <td>/g/12629mj33</td>\n      <td>0.920285</td>\n    </tr>\n    <tr>\n      <th>14</th>\n      <td>466586</td>\n      <td>http://images.metmuseum.org/CRDImages/md/origi...</td>\n      <td>Basilica of San Vitale</td>\n      <td>/m/07vyc6</td>\n      <td>0.917199</td>\n    </tr>\n    <tr>\n      <th>15</th>\n      <td>435739</td>\n      <td>http://images.metmuseum.org/CRDImages/ep/origi...</td>\n      <td>Basilica di Santa Croce</td>\n      <td>/m/0fz6wc</td>\n      <td>0.912233</td>\n    </tr>\n    <tr>\n      <th>16</th>\n      <td>472381</td>\n      <td>http://images.metmuseum.org/CRDImages/cl/origi...</td>\n      <td>The Cloisters</td>\n      <td>/m/01rs7b</td>\n      <td>0.886067</td>\n    </tr>\n    <tr>\n      <th>17</th>\n      <td>436708</td>\n      <td>http://images.metmuseum.org/CRDImages/ep/origi...</td>\n      <td>The Louvre</td>\n      <td>/m/04gdr</td>\n      <td>0.873878</td>\n    </tr>\n    <tr>\n      <th>18</th>\n      <td>470676</td>\n      <td>http://images.metmuseum.org/CRDImages/cl/origi...</td>\n      <td>The Cloisters</td>\n      <td>/m/01rs7b</td>\n      <td>0.872387</td>\n    </tr>\n    <tr>\n      <th>19</th>\n      <td>470871</td>\n      <td>http://images.metmuseum.org/CRDImages/cl/origi...</td>\n      <td>The Cloisters</td>\n      <td>/m/01rs7b</td>\n      <td>0.872387</td>\n    </tr>\n  </tbody>\n</table>\n</div>"
          },
          "metadata": {}
        }
      ]
    },
    {
      "metadata": {
        "collapsed": true,
        "_uuid": "450d392be87f17bcf55e86d2ee1c42f6b24d539d",
        "_cell_guid": "87ba4e16-08e7-4325-b0ab-e35a0cf07479",
        "trusted": true
      },
      "cell_type": "code",
      "source": "",
      "execution_count": null,
      "outputs": []
    }
  ],
  "metadata": {
    "kernelspec": {
      "display_name": "Python 3",
      "language": "python",
      "name": "python3"
    },
    "language_info": {
      "name": "python",
      "version": "3.6.5",
      "mimetype": "text/x-python",
      "codemirror_mode": {
        "name": "ipython",
        "version": 3
      },
      "pygments_lexer": "ipython3",
      "nbconvert_exporter": "python",
      "file_extension": ".py"
    }
  },
  "nbformat": 4,
  "nbformat_minor": 1
}