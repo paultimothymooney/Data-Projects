{
  "cells": [
    {
      "metadata": {
        "_cell_guid": "307eb20a-56a5-43b9-832b-a76b338ad5e3",
        "_uuid": "de5c8ef6d5d0ee22ec7e55b629d1c1f08d2b8efd"
      },
      "cell_type": "markdown",
      "source": "**How to Query the USA Names Data (BigQuery Dataset)**"
    },
    {
      "metadata": {
        "_cell_guid": "b1076dfc-b9ad-4769-8c92-a6c4dae69d19",
        "collapsed": true,
        "_uuid": "8f2839f25d086af736a60e9eeb907d3b93b6e0e5",
        "trusted": true
      },
      "cell_type": "code",
      "source": "import bq_helper\nfrom bq_helper import BigQueryHelper\n# https://www.kaggle.com/sohier/introduction-to-the-bq-helper-package\nusa = bq_helper.BigQueryHelper(active_project=\"bigquery-public-data\",\n                                   dataset_name=\"usa_names\")",
      "execution_count": 1,
      "outputs": []
    },
    {
      "metadata": {
        "_cell_guid": "b0442c95-01fa-4688-9a30-718347933e0f",
        "_uuid": "a3415035b50ece1df93c6573539798b929a597f5",
        "trusted": true
      },
      "cell_type": "code",
      "source": "bq_assistant = BigQueryHelper(\"bigquery-public-data\", \"usa_names\")\nbq_assistant.list_tables()",
      "execution_count": 2,
      "outputs": [
        {
          "output_type": "execute_result",
          "execution_count": 2,
          "data": {
            "text/plain": "['usa_1910_2013', 'usa_1910_current']"
          },
          "metadata": {}
        }
      ]
    },
    {
      "metadata": {
        "_cell_guid": "a2805b6e-5e32-484c-b1c7-a7e3d364ef35",
        "_uuid": "f6d79a4aae694e0bc61d4dbc4724005d913b9248",
        "trusted": true
      },
      "cell_type": "code",
      "source": "bq_assistant.head(\"usa_1910_current\", num_rows=15)",
      "execution_count": 3,
      "outputs": [
        {
          "output_type": "execute_result",
          "execution_count": 3,
          "data": {
            "text/plain": "   state gender  year      name  number\n0     OH      F  2014      Dani      13\n1     OH      F  2013     Jacey       7\n2     AK      M  1957   Vincent       6\n3     CA      M  1921  Mitchell       7\n4     DC      M  1940     Irvin       8\n5     FL      M  1974  Marshall      17\n6     NC      F  2009   Kenadie       6\n7     AR      F  1972     Sonja      18\n8     SC      F  2000      Amya      10\n9     AR      F  1940    Jannie       8\n10    TN      M  1922      Fred     249\n11    NE      M  1967     Kenny       8\n12    WI      M  1925   Orville      57\n13    PA      M  1915     Mearl       5\n14    VA      F  2002     Kelsi       9",
            "text/html": "<div>\n<style scoped>\n    .dataframe tbody tr th:only-of-type {\n        vertical-align: middle;\n    }\n\n    .dataframe tbody tr th {\n        vertical-align: top;\n    }\n\n    .dataframe thead th {\n        text-align: right;\n    }\n</style>\n<table border=\"1\" class=\"dataframe\">\n  <thead>\n    <tr style=\"text-align: right;\">\n      <th></th>\n      <th>state</th>\n      <th>gender</th>\n      <th>year</th>\n      <th>name</th>\n      <th>number</th>\n    </tr>\n  </thead>\n  <tbody>\n    <tr>\n      <th>0</th>\n      <td>OH</td>\n      <td>F</td>\n      <td>2014</td>\n      <td>Dani</td>\n      <td>13</td>\n    </tr>\n    <tr>\n      <th>1</th>\n      <td>OH</td>\n      <td>F</td>\n      <td>2013</td>\n      <td>Jacey</td>\n      <td>7</td>\n    </tr>\n    <tr>\n      <th>2</th>\n      <td>AK</td>\n      <td>M</td>\n      <td>1957</td>\n      <td>Vincent</td>\n      <td>6</td>\n    </tr>\n    <tr>\n      <th>3</th>\n      <td>CA</td>\n      <td>M</td>\n      <td>1921</td>\n      <td>Mitchell</td>\n      <td>7</td>\n    </tr>\n    <tr>\n      <th>4</th>\n      <td>DC</td>\n      <td>M</td>\n      <td>1940</td>\n      <td>Irvin</td>\n      <td>8</td>\n    </tr>\n    <tr>\n      <th>5</th>\n      <td>FL</td>\n      <td>M</td>\n      <td>1974</td>\n      <td>Marshall</td>\n      <td>17</td>\n    </tr>\n    <tr>\n      <th>6</th>\n      <td>NC</td>\n      <td>F</td>\n      <td>2009</td>\n      <td>Kenadie</td>\n      <td>6</td>\n    </tr>\n    <tr>\n      <th>7</th>\n      <td>AR</td>\n      <td>F</td>\n      <td>1972</td>\n      <td>Sonja</td>\n      <td>18</td>\n    </tr>\n    <tr>\n      <th>8</th>\n      <td>SC</td>\n      <td>F</td>\n      <td>2000</td>\n      <td>Amya</td>\n      <td>10</td>\n    </tr>\n    <tr>\n      <th>9</th>\n      <td>AR</td>\n      <td>F</td>\n      <td>1940</td>\n      <td>Jannie</td>\n      <td>8</td>\n    </tr>\n    <tr>\n      <th>10</th>\n      <td>TN</td>\n      <td>M</td>\n      <td>1922</td>\n      <td>Fred</td>\n      <td>249</td>\n    </tr>\n    <tr>\n      <th>11</th>\n      <td>NE</td>\n      <td>M</td>\n      <td>1967</td>\n      <td>Kenny</td>\n      <td>8</td>\n    </tr>\n    <tr>\n      <th>12</th>\n      <td>WI</td>\n      <td>M</td>\n      <td>1925</td>\n      <td>Orville</td>\n      <td>57</td>\n    </tr>\n    <tr>\n      <th>13</th>\n      <td>PA</td>\n      <td>M</td>\n      <td>1915</td>\n      <td>Mearl</td>\n      <td>5</td>\n    </tr>\n    <tr>\n      <th>14</th>\n      <td>VA</td>\n      <td>F</td>\n      <td>2002</td>\n      <td>Kelsi</td>\n      <td>9</td>\n    </tr>\n  </tbody>\n</table>\n</div>"
          },
          "metadata": {}
        }
      ]
    },
    {
      "metadata": {
        "_cell_guid": "87e3e8b9-e8c4-48fd-99d3-a77034d474bf",
        "_uuid": "bbb18e3c781e1ce11b83342cc42b46b4eb4f1a81",
        "trusted": true
      },
      "cell_type": "code",
      "source": "bq_assistant.table_schema(\"usa_1910_current\")",
      "execution_count": 4,
      "outputs": [
        {
          "output_type": "execute_result",
          "execution_count": 4,
          "data": {
            "text/plain": "[SchemaField('state', 'STRING', 'NULLABLE', '2-digit state code', ()),\n SchemaField('gender', 'STRING', 'NULLABLE', 'Sex (M=male or F=female)', ()),\n SchemaField('year', 'INTEGER', 'NULLABLE', '4-digit year of birth', ()),\n SchemaField('name', 'STRING', 'NULLABLE', 'Given name of a person at birth', ()),\n SchemaField('number', 'INTEGER', 'NULLABLE', 'Number of occurrences of the name', ())]"
          },
          "metadata": {}
        }
      ]
    },
    {
      "metadata": {
        "_cell_guid": "ec2e26b9-885e-4f12-8d20-2f8c494d6f3e",
        "_uuid": "8eeda9ae334f9bc0dc313635abee9c9c0d582f6c"
      },
      "cell_type": "markdown",
      "source": "What are the most common names?\n"
    },
    {
      "metadata": {
        "_cell_guid": "ab7c4d65-3cc2-4192-992c-b030c33b2010",
        "_uuid": "f498dd0e54911bf273ae4a76fd6a2bdaebf96f15",
        "trusted": true
      },
      "cell_type": "code",
      "source": "query1 = \"\"\"\n  SELECT\n  names_step_1.name AS names_step_1_name,\n  names_step_1.gender AS names_step_1_gender,\n  COALESCE(CAST(SUM(names_step_1.number) AS FLOAT64),0) AS namesstep1totalpopulat_1\nFROM\n  `bigquery-public-data.usa_names.usa_1910_2013` AS names_step_1\nGROUP BY\n  1,\n  2\nORDER BY\n  3 DESC\nLIMIT\n  500;\n        \"\"\"\nresponse1 = usa.query_to_pandas_safe(query1)\nresponse1.head(50)",
      "execution_count": 5,
      "outputs": [
        {
          "output_type": "execute_result",
          "execution_count": 5,
          "data": {
            "text/plain": "   names_step_1_name names_step_1_gender  namesstep1totalpopulat_1\n0              James                   M                 4924235.0\n1               John                   M                 4818746.0\n2             Robert                   M                 4703680.0\n3            Michael                   M                 4280040.0\n4            William                   M                 3811998.0\n5               Mary                   F                 3728041.0\n6              David                   M                 3541625.0\n7            Richard                   M                 2526927.0\n8             Joseph                   M                 2467298.0\n9            Charles                   M                 2237170.0\n10            Thomas                   M                 2209169.0\n11       Christopher                   M                 1980717.0\n12            Daniel                   M                 1838509.0\n13          Patricia                   F                 1567405.0\n14           Matthew                   M                 1535407.0\n15         Elizabeth                   F                 1490772.0\n16          Jennifer                   F                 1460272.0\n17             Linda                   F                 1445838.0\n18           Barbara                   F                 1422631.0\n19            Donald                   M                 1400589.0\n20           Anthony                   M                 1381676.0\n21              Paul                   M                 1353757.0\n22              Mark                   M                 1337534.0\n23            George                   M                 1316531.0\n24            Steven                   M                 1267733.0\n25           Kenneth                   M                 1258091.0\n26            Andrew                   M                 1226185.0\n27            Edward                   M                 1208595.0\n28            Joshua                   M                 1160468.0\n29             Brian                   M                 1154168.0\n30             Kevin                   M                 1146126.0\n31          Margaret                   F                 1120006.0\n32             Susan                   F                 1107916.0\n33            Ronald                   M                 1072932.0\n34           Timothy                   M                 1054028.0\n35           Dorothy                   F                 1051262.0\n36           Jessica                   F                 1036257.0\n37             Sarah                   F                 1006050.0\n38             Jason                   M                 1005966.0\n39             Betty                   F                  983791.0\n40             Nancy                   F                  983374.0\n41             Karen                   F                  981409.0\n42           Jeffrey                   M                  967716.0\n43              Lisa                   F                  961678.0\n44              Gary                   M                  895996.0\n45             Helen                   F                  894826.0\n46              Ryan                   M                  889757.0\n47            Sandra                   F                  870181.0\n48          Nicholas                   M                  865895.0\n49              Eric                   M                  860028.0",
            "text/html": "<div>\n<style scoped>\n    .dataframe tbody tr th:only-of-type {\n        vertical-align: middle;\n    }\n\n    .dataframe tbody tr th {\n        vertical-align: top;\n    }\n\n    .dataframe thead th {\n        text-align: right;\n    }\n</style>\n<table border=\"1\" class=\"dataframe\">\n  <thead>\n    <tr style=\"text-align: right;\">\n      <th></th>\n      <th>names_step_1_name</th>\n      <th>names_step_1_gender</th>\n      <th>namesstep1totalpopulat_1</th>\n    </tr>\n  </thead>\n  <tbody>\n    <tr>\n      <th>0</th>\n      <td>James</td>\n      <td>M</td>\n      <td>4924235.0</td>\n    </tr>\n    <tr>\n      <th>1</th>\n      <td>John</td>\n      <td>M</td>\n      <td>4818746.0</td>\n    </tr>\n    <tr>\n      <th>2</th>\n      <td>Robert</td>\n      <td>M</td>\n      <td>4703680.0</td>\n    </tr>\n    <tr>\n      <th>3</th>\n      <td>Michael</td>\n      <td>M</td>\n      <td>4280040.0</td>\n    </tr>\n    <tr>\n      <th>4</th>\n      <td>William</td>\n      <td>M</td>\n      <td>3811998.0</td>\n    </tr>\n    <tr>\n      <th>5</th>\n      <td>Mary</td>\n      <td>F</td>\n      <td>3728041.0</td>\n    </tr>\n    <tr>\n      <th>6</th>\n      <td>David</td>\n      <td>M</td>\n      <td>3541625.0</td>\n    </tr>\n    <tr>\n      <th>7</th>\n      <td>Richard</td>\n      <td>M</td>\n      <td>2526927.0</td>\n    </tr>\n    <tr>\n      <th>8</th>\n      <td>Joseph</td>\n      <td>M</td>\n      <td>2467298.0</td>\n    </tr>\n    <tr>\n      <th>9</th>\n      <td>Charles</td>\n      <td>M</td>\n      <td>2237170.0</td>\n    </tr>\n    <tr>\n      <th>10</th>\n      <td>Thomas</td>\n      <td>M</td>\n      <td>2209169.0</td>\n    </tr>\n    <tr>\n      <th>11</th>\n      <td>Christopher</td>\n      <td>M</td>\n      <td>1980717.0</td>\n    </tr>\n    <tr>\n      <th>12</th>\n      <td>Daniel</td>\n      <td>M</td>\n      <td>1838509.0</td>\n    </tr>\n    <tr>\n      <th>13</th>\n      <td>Patricia</td>\n      <td>F</td>\n      <td>1567405.0</td>\n    </tr>\n    <tr>\n      <th>14</th>\n      <td>Matthew</td>\n      <td>M</td>\n      <td>1535407.0</td>\n    </tr>\n    <tr>\n      <th>15</th>\n      <td>Elizabeth</td>\n      <td>F</td>\n      <td>1490772.0</td>\n    </tr>\n    <tr>\n      <th>16</th>\n      <td>Jennifer</td>\n      <td>F</td>\n      <td>1460272.0</td>\n    </tr>\n    <tr>\n      <th>17</th>\n      <td>Linda</td>\n      <td>F</td>\n      <td>1445838.0</td>\n    </tr>\n    <tr>\n      <th>18</th>\n      <td>Barbara</td>\n      <td>F</td>\n      <td>1422631.0</td>\n    </tr>\n    <tr>\n      <th>19</th>\n      <td>Donald</td>\n      <td>M</td>\n      <td>1400589.0</td>\n    </tr>\n    <tr>\n      <th>20</th>\n      <td>Anthony</td>\n      <td>M</td>\n      <td>1381676.0</td>\n    </tr>\n    <tr>\n      <th>21</th>\n      <td>Paul</td>\n      <td>M</td>\n      <td>1353757.0</td>\n    </tr>\n    <tr>\n      <th>22</th>\n      <td>Mark</td>\n      <td>M</td>\n      <td>1337534.0</td>\n    </tr>\n    <tr>\n      <th>23</th>\n      <td>George</td>\n      <td>M</td>\n      <td>1316531.0</td>\n    </tr>\n    <tr>\n      <th>24</th>\n      <td>Steven</td>\n      <td>M</td>\n      <td>1267733.0</td>\n    </tr>\n    <tr>\n      <th>25</th>\n      <td>Kenneth</td>\n      <td>M</td>\n      <td>1258091.0</td>\n    </tr>\n    <tr>\n      <th>26</th>\n      <td>Andrew</td>\n      <td>M</td>\n      <td>1226185.0</td>\n    </tr>\n    <tr>\n      <th>27</th>\n      <td>Edward</td>\n      <td>M</td>\n      <td>1208595.0</td>\n    </tr>\n    <tr>\n      <th>28</th>\n      <td>Joshua</td>\n      <td>M</td>\n      <td>1160468.0</td>\n    </tr>\n    <tr>\n      <th>29</th>\n      <td>Brian</td>\n      <td>M</td>\n      <td>1154168.0</td>\n    </tr>\n    <tr>\n      <th>30</th>\n      <td>Kevin</td>\n      <td>M</td>\n      <td>1146126.0</td>\n    </tr>\n    <tr>\n      <th>31</th>\n      <td>Margaret</td>\n      <td>F</td>\n      <td>1120006.0</td>\n    </tr>\n    <tr>\n      <th>32</th>\n      <td>Susan</td>\n      <td>F</td>\n      <td>1107916.0</td>\n    </tr>\n    <tr>\n      <th>33</th>\n      <td>Ronald</td>\n      <td>M</td>\n      <td>1072932.0</td>\n    </tr>\n    <tr>\n      <th>34</th>\n      <td>Timothy</td>\n      <td>M</td>\n      <td>1054028.0</td>\n    </tr>\n    <tr>\n      <th>35</th>\n      <td>Dorothy</td>\n      <td>F</td>\n      <td>1051262.0</td>\n    </tr>\n    <tr>\n      <th>36</th>\n      <td>Jessica</td>\n      <td>F</td>\n      <td>1036257.0</td>\n    </tr>\n    <tr>\n      <th>37</th>\n      <td>Sarah</td>\n      <td>F</td>\n      <td>1006050.0</td>\n    </tr>\n    <tr>\n      <th>38</th>\n      <td>Jason</td>\n      <td>M</td>\n      <td>1005966.0</td>\n    </tr>\n    <tr>\n      <th>39</th>\n      <td>Betty</td>\n      <td>F</td>\n      <td>983791.0</td>\n    </tr>\n    <tr>\n      <th>40</th>\n      <td>Nancy</td>\n      <td>F</td>\n      <td>983374.0</td>\n    </tr>\n    <tr>\n      <th>41</th>\n      <td>Karen</td>\n      <td>F</td>\n      <td>981409.0</td>\n    </tr>\n    <tr>\n      <th>42</th>\n      <td>Jeffrey</td>\n      <td>M</td>\n      <td>967716.0</td>\n    </tr>\n    <tr>\n      <th>43</th>\n      <td>Lisa</td>\n      <td>F</td>\n      <td>961678.0</td>\n    </tr>\n    <tr>\n      <th>44</th>\n      <td>Gary</td>\n      <td>M</td>\n      <td>895996.0</td>\n    </tr>\n    <tr>\n      <th>45</th>\n      <td>Helen</td>\n      <td>F</td>\n      <td>894826.0</td>\n    </tr>\n    <tr>\n      <th>46</th>\n      <td>Ryan</td>\n      <td>M</td>\n      <td>889757.0</td>\n    </tr>\n    <tr>\n      <th>47</th>\n      <td>Sandra</td>\n      <td>F</td>\n      <td>870181.0</td>\n    </tr>\n    <tr>\n      <th>48</th>\n      <td>Nicholas</td>\n      <td>M</td>\n      <td>865895.0</td>\n    </tr>\n    <tr>\n      <th>49</th>\n      <td>Eric</td>\n      <td>M</td>\n      <td>860028.0</td>\n    </tr>\n  </tbody>\n</table>\n</div>"
          },
          "metadata": {}
        }
      ]
    },
    {
      "metadata": {
        "_cell_guid": "9f4e0dc0-de13-48bd-a72e-21661d505fa4",
        "_uuid": "88e406ad345893f0e86ce250eac74b4e1401fa49"
      },
      "cell_type": "markdown",
      "source": "What are the most common female names?\n"
    },
    {
      "metadata": {
        "_cell_guid": "f9ea65cb-a34a-4e54-b7dd-8eb964aba953",
        "_uuid": "77d0841a15c7675c6e2506e02762ed6892629d59",
        "trusted": true
      },
      "cell_type": "code",
      "source": "query2 = \"\"\"\n  SELECT\n  names_step_1.name AS names_step_1_name,\n  COALESCE(CAST(SUM(names_step_1.number) AS FLOAT64),0) AS namesstep1totalpopulat_1\nFROM\n  `bigquery-public-data.usa_names.usa_1910_2013` AS names_step_1\nWHERE\n  (names_step_1.gender = 'F')\nGROUP BY\n  1\nORDER BY\n  2 DESC\nLIMIT\n  500;\n        \"\"\"\nresponse2 = usa.query_to_pandas_safe(query2)\nresponse2.head(50)",
      "execution_count": 6,
      "outputs": [
        {
          "output_type": "execute_result",
          "execution_count": 6,
          "data": {
            "text/plain": "   names_step_1_name  namesstep1totalpopulat_1\n0               Mary                 3728041.0\n1           Patricia                 1567405.0\n2          Elizabeth                 1490772.0\n3           Jennifer                 1460272.0\n4              Linda                 1445838.0\n5            Barbara                 1422631.0\n6           Margaret                 1120006.0\n7              Susan                 1107916.0\n8            Dorothy                 1051262.0\n9            Jessica                 1036257.0\n10             Sarah                 1006050.0\n11             Betty                  983791.0\n12             Nancy                  983374.0\n13             Karen                  981409.0\n14              Lisa                  961678.0\n15             Helen                  894826.0\n16            Sandra                  870181.0\n17            Ashley                  830106.0\n18             Donna                  826361.0\n19          Kimberly                  824429.0\n20             Carol                  811954.0\n21          Michelle                  801645.0\n22             Emily                  779413.0\n23            Amanda                  768465.0\n24             Laura                  745290.0\n25           Melissa                  744479.0\n26           Deborah                  735472.0\n27         Stephanie                  731654.0\n28           Rebecca                  728484.0\n29              Ruth                  728315.0\n30              Anna                  719411.0\n31            Sharon                  718112.0\n32          Kathleen                  702969.0\n33           Cynthia                  702577.0\n34           Shirley                  679653.0\n35               Amy                  672802.0\n36            Angela                  653194.0\n37          Virginia                  621243.0\n38         Catherine                  605850.0\n39            Brenda                  603563.0\n40         Katherine                  593004.0\n41            Pamela                  591193.0\n42            Nicole                  576131.0\n43         Christine                  573761.0\n44             Janet                  550385.0\n45          Samantha                  548181.0\n46             Debra                  547670.0\n47           Carolyn                  547665.0\n48            Rachel                  544826.0\n49           Frances                  529027.0",
            "text/html": "<div>\n<style scoped>\n    .dataframe tbody tr th:only-of-type {\n        vertical-align: middle;\n    }\n\n    .dataframe tbody tr th {\n        vertical-align: top;\n    }\n\n    .dataframe thead th {\n        text-align: right;\n    }\n</style>\n<table border=\"1\" class=\"dataframe\">\n  <thead>\n    <tr style=\"text-align: right;\">\n      <th></th>\n      <th>names_step_1_name</th>\n      <th>namesstep1totalpopulat_1</th>\n    </tr>\n  </thead>\n  <tbody>\n    <tr>\n      <th>0</th>\n      <td>Mary</td>\n      <td>3728041.0</td>\n    </tr>\n    <tr>\n      <th>1</th>\n      <td>Patricia</td>\n      <td>1567405.0</td>\n    </tr>\n    <tr>\n      <th>2</th>\n      <td>Elizabeth</td>\n      <td>1490772.0</td>\n    </tr>\n    <tr>\n      <th>3</th>\n      <td>Jennifer</td>\n      <td>1460272.0</td>\n    </tr>\n    <tr>\n      <th>4</th>\n      <td>Linda</td>\n      <td>1445838.0</td>\n    </tr>\n    <tr>\n      <th>5</th>\n      <td>Barbara</td>\n      <td>1422631.0</td>\n    </tr>\n    <tr>\n      <th>6</th>\n      <td>Margaret</td>\n      <td>1120006.0</td>\n    </tr>\n    <tr>\n      <th>7</th>\n      <td>Susan</td>\n      <td>1107916.0</td>\n    </tr>\n    <tr>\n      <th>8</th>\n      <td>Dorothy</td>\n      <td>1051262.0</td>\n    </tr>\n    <tr>\n      <th>9</th>\n      <td>Jessica</td>\n      <td>1036257.0</td>\n    </tr>\n    <tr>\n      <th>10</th>\n      <td>Sarah</td>\n      <td>1006050.0</td>\n    </tr>\n    <tr>\n      <th>11</th>\n      <td>Betty</td>\n      <td>983791.0</td>\n    </tr>\n    <tr>\n      <th>12</th>\n      <td>Nancy</td>\n      <td>983374.0</td>\n    </tr>\n    <tr>\n      <th>13</th>\n      <td>Karen</td>\n      <td>981409.0</td>\n    </tr>\n    <tr>\n      <th>14</th>\n      <td>Lisa</td>\n      <td>961678.0</td>\n    </tr>\n    <tr>\n      <th>15</th>\n      <td>Helen</td>\n      <td>894826.0</td>\n    </tr>\n    <tr>\n      <th>16</th>\n      <td>Sandra</td>\n      <td>870181.0</td>\n    </tr>\n    <tr>\n      <th>17</th>\n      <td>Ashley</td>\n      <td>830106.0</td>\n    </tr>\n    <tr>\n      <th>18</th>\n      <td>Donna</td>\n      <td>826361.0</td>\n    </tr>\n    <tr>\n      <th>19</th>\n      <td>Kimberly</td>\n      <td>824429.0</td>\n    </tr>\n    <tr>\n      <th>20</th>\n      <td>Carol</td>\n      <td>811954.0</td>\n    </tr>\n    <tr>\n      <th>21</th>\n      <td>Michelle</td>\n      <td>801645.0</td>\n    </tr>\n    <tr>\n      <th>22</th>\n      <td>Emily</td>\n      <td>779413.0</td>\n    </tr>\n    <tr>\n      <th>23</th>\n      <td>Amanda</td>\n      <td>768465.0</td>\n    </tr>\n    <tr>\n      <th>24</th>\n      <td>Laura</td>\n      <td>745290.0</td>\n    </tr>\n    <tr>\n      <th>25</th>\n      <td>Melissa</td>\n      <td>744479.0</td>\n    </tr>\n    <tr>\n      <th>26</th>\n      <td>Deborah</td>\n      <td>735472.0</td>\n    </tr>\n    <tr>\n      <th>27</th>\n      <td>Stephanie</td>\n      <td>731654.0</td>\n    </tr>\n    <tr>\n      <th>28</th>\n      <td>Rebecca</td>\n      <td>728484.0</td>\n    </tr>\n    <tr>\n      <th>29</th>\n      <td>Ruth</td>\n      <td>728315.0</td>\n    </tr>\n    <tr>\n      <th>30</th>\n      <td>Anna</td>\n      <td>719411.0</td>\n    </tr>\n    <tr>\n      <th>31</th>\n      <td>Sharon</td>\n      <td>718112.0</td>\n    </tr>\n    <tr>\n      <th>32</th>\n      <td>Kathleen</td>\n      <td>702969.0</td>\n    </tr>\n    <tr>\n      <th>33</th>\n      <td>Cynthia</td>\n      <td>702577.0</td>\n    </tr>\n    <tr>\n      <th>34</th>\n      <td>Shirley</td>\n      <td>679653.0</td>\n    </tr>\n    <tr>\n      <th>35</th>\n      <td>Amy</td>\n      <td>672802.0</td>\n    </tr>\n    <tr>\n      <th>36</th>\n      <td>Angela</td>\n      <td>653194.0</td>\n    </tr>\n    <tr>\n      <th>37</th>\n      <td>Virginia</td>\n      <td>621243.0</td>\n    </tr>\n    <tr>\n      <th>38</th>\n      <td>Catherine</td>\n      <td>605850.0</td>\n    </tr>\n    <tr>\n      <th>39</th>\n      <td>Brenda</td>\n      <td>603563.0</td>\n    </tr>\n    <tr>\n      <th>40</th>\n      <td>Katherine</td>\n      <td>593004.0</td>\n    </tr>\n    <tr>\n      <th>41</th>\n      <td>Pamela</td>\n      <td>591193.0</td>\n    </tr>\n    <tr>\n      <th>42</th>\n      <td>Nicole</td>\n      <td>576131.0</td>\n    </tr>\n    <tr>\n      <th>43</th>\n      <td>Christine</td>\n      <td>573761.0</td>\n    </tr>\n    <tr>\n      <th>44</th>\n      <td>Janet</td>\n      <td>550385.0</td>\n    </tr>\n    <tr>\n      <th>45</th>\n      <td>Samantha</td>\n      <td>548181.0</td>\n    </tr>\n    <tr>\n      <th>46</th>\n      <td>Debra</td>\n      <td>547670.0</td>\n    </tr>\n    <tr>\n      <th>47</th>\n      <td>Carolyn</td>\n      <td>547665.0</td>\n    </tr>\n    <tr>\n      <th>48</th>\n      <td>Rachel</td>\n      <td>544826.0</td>\n    </tr>\n    <tr>\n      <th>49</th>\n      <td>Frances</td>\n      <td>529027.0</td>\n    </tr>\n  </tbody>\n</table>\n</div>"
          },
          "metadata": {}
        }
      ]
    },
    {
      "metadata": {
        "_cell_guid": "ba15a464-fa9e-4c4f-a3f5-44f08478270f",
        "_uuid": "c8d2d9e9766831846b1bd6d38dfd0497b9992424"
      },
      "cell_type": "markdown",
      "source": "What are the names of 50 people in Texas?"
    },
    {
      "metadata": {
        "_cell_guid": "87ba4e16-08e7-4325-b0ab-e35a0cf07479",
        "_uuid": "450d392be87f17bcf55e86d2ee1c42f6b24d539d",
        "trusted": true
      },
      "cell_type": "code",
      "source": "query3 = \"\"\"  \n    SELECT name FROM `bigquery-public-data.usa_names.usa_1910_2013` \n    WHERE state = \"TX\" \n    LIMIT 100;\n        \"\"\"\nresponse3 = usa.query_to_pandas_safe(query3)\nresponse3.head(50)",
      "execution_count": 7,
      "outputs": [
        {
          "output_type": "execute_result",
          "execution_count": 7,
          "data": {
            "text/plain": "         name\n0     Frances\n1       Alice\n2    Beatrice\n3        Ella\n4    Gertrude\n5   Josephine\n6        Lula\n7     Blanche\n8    Marjorie\n9   Christine\n10  Margarita\n11       Alta\n12       Sara\n13      Naomi\n14      Sofia\n15     Andrea\n16    Delfina\n17    Dominga\n18     Elnora\n19      Adele\n20    Rafaela\n21      Dixie\n22      Luisa\n23       Bess\n24  Ernestine\n25     Lorine\n26      Patsy\n27    Cecelia\n28  Enriqueta\n29    Lucinda\n30      Alyce\n31      Oneta\n32   Apolonia\n33     Gloria\n34      Rhoda\n35       Buna\n36       Maye\n37      Pansy\n38     Gladys\n39      Maria\n40      Helen\n41      Velma\n42      Clara\n43       Anna\n44     Evelyn\n45       Rosa\n46        Mae\n47    Bernice\n48     Stella\n49     Vivian",
            "text/html": "<div>\n<style scoped>\n    .dataframe tbody tr th:only-of-type {\n        vertical-align: middle;\n    }\n\n    .dataframe tbody tr th {\n        vertical-align: top;\n    }\n\n    .dataframe thead th {\n        text-align: right;\n    }\n</style>\n<table border=\"1\" class=\"dataframe\">\n  <thead>\n    <tr style=\"text-align: right;\">\n      <th></th>\n      <th>name</th>\n    </tr>\n  </thead>\n  <tbody>\n    <tr>\n      <th>0</th>\n      <td>Frances</td>\n    </tr>\n    <tr>\n      <th>1</th>\n      <td>Alice</td>\n    </tr>\n    <tr>\n      <th>2</th>\n      <td>Beatrice</td>\n    </tr>\n    <tr>\n      <th>3</th>\n      <td>Ella</td>\n    </tr>\n    <tr>\n      <th>4</th>\n      <td>Gertrude</td>\n    </tr>\n    <tr>\n      <th>5</th>\n      <td>Josephine</td>\n    </tr>\n    <tr>\n      <th>6</th>\n      <td>Lula</td>\n    </tr>\n    <tr>\n      <th>7</th>\n      <td>Blanche</td>\n    </tr>\n    <tr>\n      <th>8</th>\n      <td>Marjorie</td>\n    </tr>\n    <tr>\n      <th>9</th>\n      <td>Christine</td>\n    </tr>\n    <tr>\n      <th>10</th>\n      <td>Margarita</td>\n    </tr>\n    <tr>\n      <th>11</th>\n      <td>Alta</td>\n    </tr>\n    <tr>\n      <th>12</th>\n      <td>Sara</td>\n    </tr>\n    <tr>\n      <th>13</th>\n      <td>Naomi</td>\n    </tr>\n    <tr>\n      <th>14</th>\n      <td>Sofia</td>\n    </tr>\n    <tr>\n      <th>15</th>\n      <td>Andrea</td>\n    </tr>\n    <tr>\n      <th>16</th>\n      <td>Delfina</td>\n    </tr>\n    <tr>\n      <th>17</th>\n      <td>Dominga</td>\n    </tr>\n    <tr>\n      <th>18</th>\n      <td>Elnora</td>\n    </tr>\n    <tr>\n      <th>19</th>\n      <td>Adele</td>\n    </tr>\n    <tr>\n      <th>20</th>\n      <td>Rafaela</td>\n    </tr>\n    <tr>\n      <th>21</th>\n      <td>Dixie</td>\n    </tr>\n    <tr>\n      <th>22</th>\n      <td>Luisa</td>\n    </tr>\n    <tr>\n      <th>23</th>\n      <td>Bess</td>\n    </tr>\n    <tr>\n      <th>24</th>\n      <td>Ernestine</td>\n    </tr>\n    <tr>\n      <th>25</th>\n      <td>Lorine</td>\n    </tr>\n    <tr>\n      <th>26</th>\n      <td>Patsy</td>\n    </tr>\n    <tr>\n      <th>27</th>\n      <td>Cecelia</td>\n    </tr>\n    <tr>\n      <th>28</th>\n      <td>Enriqueta</td>\n    </tr>\n    <tr>\n      <th>29</th>\n      <td>Lucinda</td>\n    </tr>\n    <tr>\n      <th>30</th>\n      <td>Alyce</td>\n    </tr>\n    <tr>\n      <th>31</th>\n      <td>Oneta</td>\n    </tr>\n    <tr>\n      <th>32</th>\n      <td>Apolonia</td>\n    </tr>\n    <tr>\n      <th>33</th>\n      <td>Gloria</td>\n    </tr>\n    <tr>\n      <th>34</th>\n      <td>Rhoda</td>\n    </tr>\n    <tr>\n      <th>35</th>\n      <td>Buna</td>\n    </tr>\n    <tr>\n      <th>36</th>\n      <td>Maye</td>\n    </tr>\n    <tr>\n      <th>37</th>\n      <td>Pansy</td>\n    </tr>\n    <tr>\n      <th>38</th>\n      <td>Gladys</td>\n    </tr>\n    <tr>\n      <th>39</th>\n      <td>Maria</td>\n    </tr>\n    <tr>\n      <th>40</th>\n      <td>Helen</td>\n    </tr>\n    <tr>\n      <th>41</th>\n      <td>Velma</td>\n    </tr>\n    <tr>\n      <th>42</th>\n      <td>Clara</td>\n    </tr>\n    <tr>\n      <th>43</th>\n      <td>Anna</td>\n    </tr>\n    <tr>\n      <th>44</th>\n      <td>Evelyn</td>\n    </tr>\n    <tr>\n      <th>45</th>\n      <td>Rosa</td>\n    </tr>\n    <tr>\n      <th>46</th>\n      <td>Mae</td>\n    </tr>\n    <tr>\n      <th>47</th>\n      <td>Bernice</td>\n    </tr>\n    <tr>\n      <th>48</th>\n      <td>Stella</td>\n    </tr>\n    <tr>\n      <th>49</th>\n      <td>Vivian</td>\n    </tr>\n  </tbody>\n</table>\n</div>"
          },
          "metadata": {}
        }
      ]
    }
  ],
  "metadata": {
    "language_info": {
      "name": "python",
      "version": "3.6.4",
      "mimetype": "text/x-python",
      "codemirror_mode": {
        "name": "ipython",
        "version": 3
      },
      "pygments_lexer": "ipython3",
      "nbconvert_exporter": "python",
      "file_extension": ".py"
    },
    "kernelspec": {
      "display_name": "Python 3",
      "language": "python",
      "name": "python3"
    }
  },
  "nbformat": 4,
  "nbformat_minor": 1
}