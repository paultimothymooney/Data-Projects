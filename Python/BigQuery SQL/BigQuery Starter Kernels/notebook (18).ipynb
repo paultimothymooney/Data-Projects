{
  "cells": [
    {
      "metadata": {
        "_cell_guid": "307eb20a-56a5-43b9-832b-a76b338ad5e3",
        "_uuid": "de5c8ef6d5d0ee22ec7e55b629d1c1f08d2b8efd"
      },
      "cell_type": "markdown",
      "source": "**How to Query the BigQuery Sample Tables (BigQuery Dataset)**"
    },
    {
      "metadata": {
        "_cell_guid": "b1076dfc-b9ad-4769-8c92-a6c4dae69d19",
        "_uuid": "8f2839f25d086af736a60e9eeb907d3b93b6e0e5",
        "collapsed": true,
        "trusted": true
      },
      "cell_type": "code",
      "source": "import bq_helper\nfrom bq_helper import BigQueryHelper\n# https://www.kaggle.com/sohier/introduction-to-the-bq-helper-package\nsampleTables = bq_helper.BigQueryHelper(active_project=\"bigquery-public-data\",\n                                   dataset_name=\"samples\")",
      "execution_count": 1,
      "outputs": []
    },
    {
      "metadata": {
        "_kg_hide-output": false,
        "_cell_guid": "b0442c95-01fa-4688-9a30-718347933e0f",
        "_uuid": "a3415035b50ece1df93c6573539798b929a597f5",
        "trusted": true
      },
      "cell_type": "code",
      "source": "bq_assistant = BigQueryHelper(\"bigquery-public-data\", \"samples\")\nbq_assistant.list_tables()",
      "execution_count": 2,
      "outputs": [
        {
          "output_type": "execute_result",
          "execution_count": 2,
          "data": {
            "text/plain": "['github_nested',\n 'github_timeline',\n 'gsod',\n 'natality',\n 'shakespeare',\n 'trigrams',\n 'wikipedia']"
          },
          "metadata": {}
        }
      ]
    },
    {
      "metadata": {
        "_cell_guid": "a2805b6e-5e32-484c-b1c7-a7e3d364ef35",
        "_uuid": "f6d79a4aae694e0bc61d4dbc4724005d913b9248",
        "trusted": true
      },
      "cell_type": "code",
      "source": "bq_assistant.head(\"wikipedia\", num_rows=20)",
      "execution_count": 3,
      "outputs": [
        {
          "output_type": "execute_result",
          "execution_count": 3,
          "data": {
            "text/plain": "                               title        id language  wp_namespace  \\\n0           Strait of Messina Bridge   1462053                      0   \n1                         Linux Mint   8577251                      0   \n2        Espérance Sportive de Tunis   1953499                      0   \n3                            Robinho   1172821                      0   \n4                              May 6     19514                      0   \n5                      Cecilia Reyes    900517                      0   \n6                          MiniBooNE   2572596                      0   \n7                              Wario    100061                      0   \n8                   Phantom Darkness  12776066                      0   \n9                     Melissa McGhee   4095975                      0   \n10                       SCA fencing   2851677                      0   \n11   List of Finding Nemo characters  10608536                      0   \n12                Xinhua News Agency    263168                      0   \n13                     PlayStation 3     24951                      0   \n14                            Brazil      3383                      0   \n15                            Marble     19054                      0   \n16  List of minor Star Wars villains   1495652                      0   \n17                      Intel Core 2   5048988                      0   \n18   Uncommon Valor: A Vietnam Story   7764410                      0   \n19                       Xhafer Deva  24084200                      0   \n\n   is_redirect  revision_id   contributor_ip contributor_id  \\\n0         None    115349459    80.129.30.196           None   \n1         None    209452597   121.209.217.45           None   \n2         None    302602567    41.230.49.104           None   \n3         None    171033541    85.59.201.199           None   \n4         None     42108324      69.76.4.245           None   \n5         None     60209228     84.141.10.80           None   \n6         None     22146237     67.85.249.11           None   \n7         None     30882250      64.203.5.29           None   \n8         True    165049267     206.74.6.225           None   \n9         True     56159022       65.4.34.92           None   \n10        None     31101588    209.233.102.4           None   \n11        True    269173153    75.18.222.195           None   \n12        None     40660162   141.161.136.81           None   \n13        None     57620835    69.140.35.242           None   \n14        None    162672359   201.38.195.145           None   \n15        None     42999954   165.230.46.149           None   \n16        True    216537691    75.36.184.137           None   \n17        None    141672969    151.202.72.24           None   \n18        None    152838895    69.202.91.255           None   \n19        None    309731825  125.236.134.209           None   \n\n   contributor_username   timestamp is_minor is_bot reversion_id  \\\n0                  None  1173977859     None   None         None   \n1                  None  1209649052     None   None         None   \n2                  None  1247840296     None   None         None   \n3                  None  1194899902     None   None         None   \n4                  None  1141422917     None   None         None   \n5                  None  1151086811     None   None         None   \n6                  None  1125369006     None   None         None   \n7                  None  1134265171     None   None         None   \n8                  None  1192571898     None   None         None   \n9                  None  1149095260     None   None         None   \n10                 None  1134423520     None   None         None   \n11                 None  1234033320     None   None         None   \n12                 None  1140577960     None   None         None   \n13                 None  1149813196     None   None         None   \n14                 None  1191683385     None   None         None   \n15                 None  1141928270     None   None         None   \n16                 None  1212373712     None   None         None   \n17                 None  1183237865     None   None         None   \n18                 None  1187752921     None   None         None   \n19                 None  1251093049     None   None         None   \n\n                                              comment  num_characters  \n0                      /* Controversy and concerns */           20009  \n1                        /* Comparison with Ubuntu */           13819  \n2                        /* Notable Former Players */           12668  \n3                                /* External links */           11832  \n4                                                None           11608  \n5                          /* Powers and abilities */            4808  \n6                                                None             146  \n7                                        /* Powers */           22448  \n8                                   /* Super Rares */            3399  \n9                                                None            2504  \n10                              /* Protective Gear */            8667  \n11                                       /* Marlin */           18364  \n12                                      /* History */           12361  \n13            /* Retail configurations and pricing */           35907  \n14                                  /* Environment */           92555  \n15                                               None            6710  \n16  /* Admiral Ozzel */ briefly mention another po...           66684  \n17                                               None           41496  \n18                             /* Song description */            4834  \n19                                         Literature            2111  ",
            "text/html": "<div>\n<style scoped>\n    .dataframe tbody tr th:only-of-type {\n        vertical-align: middle;\n    }\n\n    .dataframe tbody tr th {\n        vertical-align: top;\n    }\n\n    .dataframe thead th {\n        text-align: right;\n    }\n</style>\n<table border=\"1\" class=\"dataframe\">\n  <thead>\n    <tr style=\"text-align: right;\">\n      <th></th>\n      <th>title</th>\n      <th>id</th>\n      <th>language</th>\n      <th>wp_namespace</th>\n      <th>is_redirect</th>\n      <th>revision_id</th>\n      <th>contributor_ip</th>\n      <th>contributor_id</th>\n      <th>contributor_username</th>\n      <th>timestamp</th>\n      <th>is_minor</th>\n      <th>is_bot</th>\n      <th>reversion_id</th>\n      <th>comment</th>\n      <th>num_characters</th>\n    </tr>\n  </thead>\n  <tbody>\n    <tr>\n      <th>0</th>\n      <td>Strait of Messina Bridge</td>\n      <td>1462053</td>\n      <td></td>\n      <td>0</td>\n      <td>None</td>\n      <td>115349459</td>\n      <td>80.129.30.196</td>\n      <td>None</td>\n      <td>None</td>\n      <td>1173977859</td>\n      <td>None</td>\n      <td>None</td>\n      <td>None</td>\n      <td>/* Controversy and concerns */</td>\n      <td>20009</td>\n    </tr>\n    <tr>\n      <th>1</th>\n      <td>Linux Mint</td>\n      <td>8577251</td>\n      <td></td>\n      <td>0</td>\n      <td>None</td>\n      <td>209452597</td>\n      <td>121.209.217.45</td>\n      <td>None</td>\n      <td>None</td>\n      <td>1209649052</td>\n      <td>None</td>\n      <td>None</td>\n      <td>None</td>\n      <td>/* Comparison with Ubuntu */</td>\n      <td>13819</td>\n    </tr>\n    <tr>\n      <th>2</th>\n      <td>Espérance Sportive de Tunis</td>\n      <td>1953499</td>\n      <td></td>\n      <td>0</td>\n      <td>None</td>\n      <td>302602567</td>\n      <td>41.230.49.104</td>\n      <td>None</td>\n      <td>None</td>\n      <td>1247840296</td>\n      <td>None</td>\n      <td>None</td>\n      <td>None</td>\n      <td>/* Notable Former Players */</td>\n      <td>12668</td>\n    </tr>\n    <tr>\n      <th>3</th>\n      <td>Robinho</td>\n      <td>1172821</td>\n      <td></td>\n      <td>0</td>\n      <td>None</td>\n      <td>171033541</td>\n      <td>85.59.201.199</td>\n      <td>None</td>\n      <td>None</td>\n      <td>1194899902</td>\n      <td>None</td>\n      <td>None</td>\n      <td>None</td>\n      <td>/* External links */</td>\n      <td>11832</td>\n    </tr>\n    <tr>\n      <th>4</th>\n      <td>May 6</td>\n      <td>19514</td>\n      <td></td>\n      <td>0</td>\n      <td>None</td>\n      <td>42108324</td>\n      <td>69.76.4.245</td>\n      <td>None</td>\n      <td>None</td>\n      <td>1141422917</td>\n      <td>None</td>\n      <td>None</td>\n      <td>None</td>\n      <td>None</td>\n      <td>11608</td>\n    </tr>\n    <tr>\n      <th>5</th>\n      <td>Cecilia Reyes</td>\n      <td>900517</td>\n      <td></td>\n      <td>0</td>\n      <td>None</td>\n      <td>60209228</td>\n      <td>84.141.10.80</td>\n      <td>None</td>\n      <td>None</td>\n      <td>1151086811</td>\n      <td>None</td>\n      <td>None</td>\n      <td>None</td>\n      <td>/* Powers and abilities */</td>\n      <td>4808</td>\n    </tr>\n    <tr>\n      <th>6</th>\n      <td>MiniBooNE</td>\n      <td>2572596</td>\n      <td></td>\n      <td>0</td>\n      <td>None</td>\n      <td>22146237</td>\n      <td>67.85.249.11</td>\n      <td>None</td>\n      <td>None</td>\n      <td>1125369006</td>\n      <td>None</td>\n      <td>None</td>\n      <td>None</td>\n      <td>None</td>\n      <td>146</td>\n    </tr>\n    <tr>\n      <th>7</th>\n      <td>Wario</td>\n      <td>100061</td>\n      <td></td>\n      <td>0</td>\n      <td>None</td>\n      <td>30882250</td>\n      <td>64.203.5.29</td>\n      <td>None</td>\n      <td>None</td>\n      <td>1134265171</td>\n      <td>None</td>\n      <td>None</td>\n      <td>None</td>\n      <td>/* Powers */</td>\n      <td>22448</td>\n    </tr>\n    <tr>\n      <th>8</th>\n      <td>Phantom Darkness</td>\n      <td>12776066</td>\n      <td></td>\n      <td>0</td>\n      <td>True</td>\n      <td>165049267</td>\n      <td>206.74.6.225</td>\n      <td>None</td>\n      <td>None</td>\n      <td>1192571898</td>\n      <td>None</td>\n      <td>None</td>\n      <td>None</td>\n      <td>/* Super Rares */</td>\n      <td>3399</td>\n    </tr>\n    <tr>\n      <th>9</th>\n      <td>Melissa McGhee</td>\n      <td>4095975</td>\n      <td></td>\n      <td>0</td>\n      <td>True</td>\n      <td>56159022</td>\n      <td>65.4.34.92</td>\n      <td>None</td>\n      <td>None</td>\n      <td>1149095260</td>\n      <td>None</td>\n      <td>None</td>\n      <td>None</td>\n      <td>None</td>\n      <td>2504</td>\n    </tr>\n    <tr>\n      <th>10</th>\n      <td>SCA fencing</td>\n      <td>2851677</td>\n      <td></td>\n      <td>0</td>\n      <td>None</td>\n      <td>31101588</td>\n      <td>209.233.102.4</td>\n      <td>None</td>\n      <td>None</td>\n      <td>1134423520</td>\n      <td>None</td>\n      <td>None</td>\n      <td>None</td>\n      <td>/* Protective Gear */</td>\n      <td>8667</td>\n    </tr>\n    <tr>\n      <th>11</th>\n      <td>List of Finding Nemo characters</td>\n      <td>10608536</td>\n      <td></td>\n      <td>0</td>\n      <td>True</td>\n      <td>269173153</td>\n      <td>75.18.222.195</td>\n      <td>None</td>\n      <td>None</td>\n      <td>1234033320</td>\n      <td>None</td>\n      <td>None</td>\n      <td>None</td>\n      <td>/* Marlin */</td>\n      <td>18364</td>\n    </tr>\n    <tr>\n      <th>12</th>\n      <td>Xinhua News Agency</td>\n      <td>263168</td>\n      <td></td>\n      <td>0</td>\n      <td>None</td>\n      <td>40660162</td>\n      <td>141.161.136.81</td>\n      <td>None</td>\n      <td>None</td>\n      <td>1140577960</td>\n      <td>None</td>\n      <td>None</td>\n      <td>None</td>\n      <td>/* History */</td>\n      <td>12361</td>\n    </tr>\n    <tr>\n      <th>13</th>\n      <td>PlayStation 3</td>\n      <td>24951</td>\n      <td></td>\n      <td>0</td>\n      <td>None</td>\n      <td>57620835</td>\n      <td>69.140.35.242</td>\n      <td>None</td>\n      <td>None</td>\n      <td>1149813196</td>\n      <td>None</td>\n      <td>None</td>\n      <td>None</td>\n      <td>/* Retail configurations and pricing */</td>\n      <td>35907</td>\n    </tr>\n    <tr>\n      <th>14</th>\n      <td>Brazil</td>\n      <td>3383</td>\n      <td></td>\n      <td>0</td>\n      <td>None</td>\n      <td>162672359</td>\n      <td>201.38.195.145</td>\n      <td>None</td>\n      <td>None</td>\n      <td>1191683385</td>\n      <td>None</td>\n      <td>None</td>\n      <td>None</td>\n      <td>/* Environment */</td>\n      <td>92555</td>\n    </tr>\n    <tr>\n      <th>15</th>\n      <td>Marble</td>\n      <td>19054</td>\n      <td></td>\n      <td>0</td>\n      <td>None</td>\n      <td>42999954</td>\n      <td>165.230.46.149</td>\n      <td>None</td>\n      <td>None</td>\n      <td>1141928270</td>\n      <td>None</td>\n      <td>None</td>\n      <td>None</td>\n      <td>None</td>\n      <td>6710</td>\n    </tr>\n    <tr>\n      <th>16</th>\n      <td>List of minor Star Wars villains</td>\n      <td>1495652</td>\n      <td></td>\n      <td>0</td>\n      <td>True</td>\n      <td>216537691</td>\n      <td>75.36.184.137</td>\n      <td>None</td>\n      <td>None</td>\n      <td>1212373712</td>\n      <td>None</td>\n      <td>None</td>\n      <td>None</td>\n      <td>/* Admiral Ozzel */ briefly mention another po...</td>\n      <td>66684</td>\n    </tr>\n    <tr>\n      <th>17</th>\n      <td>Intel Core 2</td>\n      <td>5048988</td>\n      <td></td>\n      <td>0</td>\n      <td>None</td>\n      <td>141672969</td>\n      <td>151.202.72.24</td>\n      <td>None</td>\n      <td>None</td>\n      <td>1183237865</td>\n      <td>None</td>\n      <td>None</td>\n      <td>None</td>\n      <td>None</td>\n      <td>41496</td>\n    </tr>\n    <tr>\n      <th>18</th>\n      <td>Uncommon Valor: A Vietnam Story</td>\n      <td>7764410</td>\n      <td></td>\n      <td>0</td>\n      <td>None</td>\n      <td>152838895</td>\n      <td>69.202.91.255</td>\n      <td>None</td>\n      <td>None</td>\n      <td>1187752921</td>\n      <td>None</td>\n      <td>None</td>\n      <td>None</td>\n      <td>/* Song description */</td>\n      <td>4834</td>\n    </tr>\n    <tr>\n      <th>19</th>\n      <td>Xhafer Deva</td>\n      <td>24084200</td>\n      <td></td>\n      <td>0</td>\n      <td>None</td>\n      <td>309731825</td>\n      <td>125.236.134.209</td>\n      <td>None</td>\n      <td>None</td>\n      <td>1251093049</td>\n      <td>None</td>\n      <td>None</td>\n      <td>None</td>\n      <td>Literature</td>\n      <td>2111</td>\n    </tr>\n  </tbody>\n</table>\n</div>"
          },
          "metadata": {}
        }
      ]
    },
    {
      "metadata": {
        "_cell_guid": "ec2e26b9-885e-4f12-8d20-2f8c494d6f3e",
        "_uuid": "8eeda9ae334f9bc0dc313635abee9c9c0d582f6c"
      },
      "cell_type": "markdown",
      "source": "What words did Shakespeare use that contain the stem \"laugh\" or \"prais\"?"
    },
    {
      "metadata": {
        "_cell_guid": "ab7c4d65-3cc2-4192-992c-b030c33b2010",
        "_uuid": "f498dd0e54911bf273ae4a76fd6a2bdaebf96f15",
        "trusted": true
      },
      "cell_type": "code",
      "source": "query1 = \"\"\"SELECT\n  word\nFROM\n  `bigquery-public-data.samples.shakespeare`\nWHERE\n  word LIKE 'prais%' AND word LIKE '%ing' OR\n  word LIKE 'laugh%' AND word LIKE '%ed';\n        \"\"\"\nresponse1 = sampleTables.query_to_pandas_safe(query1, max_gb_scanned=10)\nresponse1.head(10)",
      "execution_count": 4,
      "outputs": [
        {
          "output_type": "execute_result",
          "execution_count": 4,
          "data": {
            "text/plain": "       word\n0   laughed\n1   laughed\n2   laughed\n3   laughed\n4   laughed\n5   laughed\n6   laughed\n7   laughed\n8  praising\n9  praising",
            "text/html": "<div>\n<style scoped>\n    .dataframe tbody tr th:only-of-type {\n        vertical-align: middle;\n    }\n\n    .dataframe tbody tr th {\n        vertical-align: top;\n    }\n\n    .dataframe thead th {\n        text-align: right;\n    }\n</style>\n<table border=\"1\" class=\"dataframe\">\n  <thead>\n    <tr style=\"text-align: right;\">\n      <th></th>\n      <th>word</th>\n    </tr>\n  </thead>\n  <tbody>\n    <tr>\n      <th>0</th>\n      <td>laughed</td>\n    </tr>\n    <tr>\n      <th>1</th>\n      <td>laughed</td>\n    </tr>\n    <tr>\n      <th>2</th>\n      <td>laughed</td>\n    </tr>\n    <tr>\n      <th>3</th>\n      <td>laughed</td>\n    </tr>\n    <tr>\n      <th>4</th>\n      <td>laughed</td>\n    </tr>\n    <tr>\n      <th>5</th>\n      <td>laughed</td>\n    </tr>\n    <tr>\n      <th>6</th>\n      <td>laughed</td>\n    </tr>\n    <tr>\n      <th>7</th>\n      <td>laughed</td>\n    </tr>\n    <tr>\n      <th>8</th>\n      <td>praising</td>\n    </tr>\n    <tr>\n      <th>9</th>\n      <td>praising</td>\n    </tr>\n  </tbody>\n</table>\n</div>"
          },
          "metadata": {}
        }
      ]
    },
    {
      "metadata": {
        "_cell_guid": "e53dbcf0-eaba-474f-b83c-fa7fc5e69a81",
        "_uuid": "ef06f0f96cdffd2af224c796a423304f914d7da9"
      },
      "cell_type": "markdown",
      "source": "What are twenty random words from the Shakespeare table?"
    },
    {
      "metadata": {
        "_cell_guid": "f9ea65cb-a34a-4e54-b7dd-8eb964aba953",
        "_uuid": "77d0841a15c7675c6e2506e02762ed6892629d59",
        "trusted": true
      },
      "cell_type": "code",
      "source": "query2 = \"\"\"SELECT word\nFROM `bigquery-public-data.samples.shakespeare`\nWHERE RAND() < 20/164656;\n        \"\"\"\nresponse2 = sampleTables.query_to_pandas_safe(query2, max_gb_scanned=10)\nresponse2.head(20)",
      "execution_count": 5,
      "outputs": [
        {
          "output_type": "execute_result",
          "execution_count": 5,
          "data": {
            "text/plain": "          word\n0         hurl\n1         Novi\n2         mile\n3      dignity\n4         send\n5         mass\n6      dudgeon\n7        empty\n8        lions\n9      inquiry\n10      'then'\n11     Sharpen\n12  court'sies\n13       black",
            "text/html": "<div>\n<style scoped>\n    .dataframe tbody tr th:only-of-type {\n        vertical-align: middle;\n    }\n\n    .dataframe tbody tr th {\n        vertical-align: top;\n    }\n\n    .dataframe thead th {\n        text-align: right;\n    }\n</style>\n<table border=\"1\" class=\"dataframe\">\n  <thead>\n    <tr style=\"text-align: right;\">\n      <th></th>\n      <th>word</th>\n    </tr>\n  </thead>\n  <tbody>\n    <tr>\n      <th>0</th>\n      <td>hurl</td>\n    </tr>\n    <tr>\n      <th>1</th>\n      <td>Novi</td>\n    </tr>\n    <tr>\n      <th>2</th>\n      <td>mile</td>\n    </tr>\n    <tr>\n      <th>3</th>\n      <td>dignity</td>\n    </tr>\n    <tr>\n      <th>4</th>\n      <td>send</td>\n    </tr>\n    <tr>\n      <th>5</th>\n      <td>mass</td>\n    </tr>\n    <tr>\n      <th>6</th>\n      <td>dudgeon</td>\n    </tr>\n    <tr>\n      <th>7</th>\n      <td>empty</td>\n    </tr>\n    <tr>\n      <th>8</th>\n      <td>lions</td>\n    </tr>\n    <tr>\n      <th>9</th>\n      <td>inquiry</td>\n    </tr>\n    <tr>\n      <th>10</th>\n      <td>'then'</td>\n    </tr>\n    <tr>\n      <th>11</th>\n      <td>Sharpen</td>\n    </tr>\n    <tr>\n      <th>12</th>\n      <td>court'sies</td>\n    </tr>\n    <tr>\n      <th>13</th>\n      <td>black</td>\n    </tr>\n  </tbody>\n</table>\n</div>"
          },
          "metadata": {}
        }
      ]
    },
    {
      "metadata": {
        "_cell_guid": "a58294b5-113a-4c4d-9bc5-ba2c23f384d5",
        "_uuid": "244b53f90a91614cd5a5a3ed2c86c20e32cd410c"
      },
      "cell_type": "markdown",
      "source": "Did Shakespeare ever use words that begin with the letters \"TH\"?"
    },
    {
      "metadata": {
        "_cell_guid": "95c9694c-ad30-49d0-b330-d955d316656d",
        "_uuid": "aa8595509915f2b83b70fc38545cbd72c5e4fb7f",
        "trusted": true
      },
      "cell_type": "code",
      "source": "query3 = \"\"\"SELECT\n  word,\n  corpus,\n  COUNT(word)\nFROM\n  `bigquery-public-data.samples.shakespeare`\nWHERE\n  word LIKE 'th%'\nGROUP BY\n  word,\n  corpus;\n        \"\"\"\nresponse3 = sampleTables.query_to_pandas_safe(query3, max_gb_scanned=10)\nresponse3.head(10)",
      "execution_count": 6,
      "outputs": [
        {
          "output_type": "execute_result",
          "execution_count": 6,
          "data": {
            "text/plain": "       word  corpus  f0_\n0    things  hamlet    1\n1   thereof  hamlet    1\n2     third  hamlet    1\n3   they'll  hamlet    1\n4    thrift  hamlet    1\n5   thieves  hamlet    1\n6  think'st  hamlet    1\n7     throw  hamlet    1\n8  thousand  hamlet    1\n9   think't  hamlet    1",
            "text/html": "<div>\n<style scoped>\n    .dataframe tbody tr th:only-of-type {\n        vertical-align: middle;\n    }\n\n    .dataframe tbody tr th {\n        vertical-align: top;\n    }\n\n    .dataframe thead th {\n        text-align: right;\n    }\n</style>\n<table border=\"1\" class=\"dataframe\">\n  <thead>\n    <tr style=\"text-align: right;\">\n      <th></th>\n      <th>word</th>\n      <th>corpus</th>\n      <th>f0_</th>\n    </tr>\n  </thead>\n  <tbody>\n    <tr>\n      <th>0</th>\n      <td>things</td>\n      <td>hamlet</td>\n      <td>1</td>\n    </tr>\n    <tr>\n      <th>1</th>\n      <td>thereof</td>\n      <td>hamlet</td>\n      <td>1</td>\n    </tr>\n    <tr>\n      <th>2</th>\n      <td>third</td>\n      <td>hamlet</td>\n      <td>1</td>\n    </tr>\n    <tr>\n      <th>3</th>\n      <td>they'll</td>\n      <td>hamlet</td>\n      <td>1</td>\n    </tr>\n    <tr>\n      <th>4</th>\n      <td>thrift</td>\n      <td>hamlet</td>\n      <td>1</td>\n    </tr>\n    <tr>\n      <th>5</th>\n      <td>thieves</td>\n      <td>hamlet</td>\n      <td>1</td>\n    </tr>\n    <tr>\n      <th>6</th>\n      <td>think'st</td>\n      <td>hamlet</td>\n      <td>1</td>\n    </tr>\n    <tr>\n      <th>7</th>\n      <td>throw</td>\n      <td>hamlet</td>\n      <td>1</td>\n    </tr>\n    <tr>\n      <th>8</th>\n      <td>thousand</td>\n      <td>hamlet</td>\n      <td>1</td>\n    </tr>\n    <tr>\n      <th>9</th>\n      <td>think't</td>\n      <td>hamlet</td>\n      <td>1</td>\n    </tr>\n  </tbody>\n</table>\n</div>"
          },
          "metadata": {}
        }
      ]
    },
    {
      "metadata": {
        "_cell_guid": "e5ea144c-7388-4dbd-99ce-c144d75855a4",
        "_uuid": "03b7f712e458da8be3ad91b4a96b7dad4f282e3b"
      },
      "cell_type": "markdown",
      "source": "Did Shakespeare ever use words that end with the letters \"TH\"?"
    },
    {
      "metadata": {
        "_cell_guid": "44cacead-3add-4047-bb10-b5f705b99656",
        "_uuid": "d597435820237905733ce8d5897a29f34af22dd7",
        "trusted": true
      },
      "cell_type": "code",
      "source": "query4 = \"\"\"SELECT\n  word,\n  corpus,\n  COUNT(word)\nFROM\n  `bigquery-public-data.samples.shakespeare`\nWHERE\n  word LIKE '%th'\nGROUP BY\n  word,\n  corpus;\n        \"\"\"\nresponse4 = sampleTables.query_to_pandas_safe(query4, max_gb_scanned=10)\nresponse4.head(10)",
      "execution_count": 7,
      "outputs": [
        {
          "output_type": "execute_result",
          "execution_count": 7,
          "data": {
            "text/plain": "        word  corpus  f0_\n0  forthwith  hamlet    1\n1       sith  hamlet    1\n2      birth  hamlet    1\n3       With  hamlet    1\n4       Both  hamlet    1\n5      Youth  hamlet    1\n6     'faith  hamlet    1\n7       both  hamlet    1\n8      month  hamlet    1\n9      forth  hamlet    1",
            "text/html": "<div>\n<style scoped>\n    .dataframe tbody tr th:only-of-type {\n        vertical-align: middle;\n    }\n\n    .dataframe tbody tr th {\n        vertical-align: top;\n    }\n\n    .dataframe thead th {\n        text-align: right;\n    }\n</style>\n<table border=\"1\" class=\"dataframe\">\n  <thead>\n    <tr style=\"text-align: right;\">\n      <th></th>\n      <th>word</th>\n      <th>corpus</th>\n      <th>f0_</th>\n    </tr>\n  </thead>\n  <tbody>\n    <tr>\n      <th>0</th>\n      <td>forthwith</td>\n      <td>hamlet</td>\n      <td>1</td>\n    </tr>\n    <tr>\n      <th>1</th>\n      <td>sith</td>\n      <td>hamlet</td>\n      <td>1</td>\n    </tr>\n    <tr>\n      <th>2</th>\n      <td>birth</td>\n      <td>hamlet</td>\n      <td>1</td>\n    </tr>\n    <tr>\n      <th>3</th>\n      <td>With</td>\n      <td>hamlet</td>\n      <td>1</td>\n    </tr>\n    <tr>\n      <th>4</th>\n      <td>Both</td>\n      <td>hamlet</td>\n      <td>1</td>\n    </tr>\n    <tr>\n      <th>5</th>\n      <td>Youth</td>\n      <td>hamlet</td>\n      <td>1</td>\n    </tr>\n    <tr>\n      <th>6</th>\n      <td>'faith</td>\n      <td>hamlet</td>\n      <td>1</td>\n    </tr>\n    <tr>\n      <th>7</th>\n      <td>both</td>\n      <td>hamlet</td>\n      <td>1</td>\n    </tr>\n    <tr>\n      <th>8</th>\n      <td>month</td>\n      <td>hamlet</td>\n      <td>1</td>\n    </tr>\n    <tr>\n      <th>9</th>\n      <td>forth</td>\n      <td>hamlet</td>\n      <td>1</td>\n    </tr>\n  </tbody>\n</table>\n</div>"
          },
          "metadata": {}
        }
      ]
    },
    {
      "metadata": {
        "_cell_guid": "fb619ce9-340b-4a11-8a81-36d76402ce9e",
        "_uuid": "e1d300c826cc5617158c805a039135fca80ebbfc"
      },
      "cell_type": "markdown",
      "source": "How many children were born to mother's over 50 in the ten states with the most births?"
    },
    {
      "metadata": {
        "_cell_guid": "87ba4e16-08e7-4325-b0ab-e35a0cf07479",
        "_uuid": "450d392be87f17bcf55e86d2ee1c42f6b24d539d",
        "trusted": true
      },
      "cell_type": "code",
      "source": "query5 = \"\"\"SELECT\n  mother_age,\n  COUNT(mother_age) total\nFROM\n  `bigquery-public-data.samples.natality`\nWHERE\n  state IN (SELECT\n              state\n            FROM\n              (SELECT\n                 state,\n                 COUNT(state) total\n               FROM\n                 `bigquery-public-data.samples.natality`\n               GROUP BY\n                 state\n               ORDER BY\n                 total DESC\n               LIMIT 20))\n  AND mother_age > 50\nGROUP BY\n  mother_age\nORDER BY\n  mother_age DESC;\n        \"\"\"\nresponse5 = sampleTables.query_to_pandas_safe(query5, max_gb_scanned=10)\nresponse5.head(10)",
      "execution_count": 8,
      "outputs": [
        {
          "output_type": "execute_result",
          "execution_count": 8,
          "data": {
            "text/plain": "   mother_age  total\n0          54     91\n1          53    137\n2          52    176\n3          51    347",
            "text/html": "<div>\n<style scoped>\n    .dataframe tbody tr th:only-of-type {\n        vertical-align: middle;\n    }\n\n    .dataframe tbody tr th {\n        vertical-align: top;\n    }\n\n    .dataframe thead th {\n        text-align: right;\n    }\n</style>\n<table border=\"1\" class=\"dataframe\">\n  <thead>\n    <tr style=\"text-align: right;\">\n      <th></th>\n      <th>mother_age</th>\n      <th>total</th>\n    </tr>\n  </thead>\n  <tbody>\n    <tr>\n      <th>0</th>\n      <td>54</td>\n      <td>91</td>\n    </tr>\n    <tr>\n      <th>1</th>\n      <td>53</td>\n      <td>137</td>\n    </tr>\n    <tr>\n      <th>2</th>\n      <td>52</td>\n      <td>176</td>\n    </tr>\n    <tr>\n      <th>3</th>\n      <td>51</td>\n      <td>347</td>\n    </tr>\n  </tbody>\n</table>\n</div>"
          },
          "metadata": {}
        }
      ]
    },
    {
      "metadata": {
        "_cell_guid": "2c7ac5d8-3ae7-44c0-b5d2-f95a52f27213",
        "_uuid": "1c66f085b931e3db8cf476e536fdffc57bc3b8fc"
      },
      "cell_type": "markdown",
      "source": "How many children were born to mother's over 50 in the forty states with the least births?"
    },
    {
      "metadata": {
        "_cell_guid": "aa1726a9-8809-4243-b37e-27ee9f9ae808",
        "_uuid": "0d95c6b72855cd0a80d5e180e4a97919b935ba82",
        "trusted": true
      },
      "cell_type": "code",
      "source": "query6 = \"\"\"SELECT\n  mother_age,\n  COUNT(mother_age) total\nFROM\n  `bigquery-public-data.samples.natality`\nWHERE\n  state NOT IN (SELECT\n                  state\n                FROM\n                  (SELECT\n                     state,\n                     COUNT(state) total\n                   FROM\n                     `bigquery-public-data.samples.natality`\n                   GROUP BY\n                     state\n                   ORDER BY\n                     total DESC\n                   LIMIT 10))\n  AND mother_age > 50\nGROUP BY\n  mother_age\nORDER BY\n  mother_age DESC;\n        \"\"\"\nresponse6 = sampleTables.query_to_pandas_safe(query6, max_gb_scanned=10)\nresponse6.head(10)",
      "execution_count": 9,
      "outputs": [
        {
          "output_type": "execute_result",
          "execution_count": 9,
          "data": {
            "text/plain": "   mother_age  total\n0          54     28\n1          53     49\n2          52     66\n3          51    133",
            "text/html": "<div>\n<style scoped>\n    .dataframe tbody tr th:only-of-type {\n        vertical-align: middle;\n    }\n\n    .dataframe tbody tr th {\n        vertical-align: top;\n    }\n\n    .dataframe thead th {\n        text-align: right;\n    }\n</style>\n<table border=\"1\" class=\"dataframe\">\n  <thead>\n    <tr style=\"text-align: right;\">\n      <th></th>\n      <th>mother_age</th>\n      <th>total</th>\n    </tr>\n  </thead>\n  <tbody>\n    <tr>\n      <th>0</th>\n      <td>54</td>\n      <td>28</td>\n    </tr>\n    <tr>\n      <th>1</th>\n      <td>53</td>\n      <td>49</td>\n    </tr>\n    <tr>\n      <th>2</th>\n      <td>52</td>\n      <td>66</td>\n    </tr>\n    <tr>\n      <th>3</th>\n      <td>51</td>\n      <td>133</td>\n    </tr>\n  </tbody>\n</table>\n</div>"
          },
          "metadata": {}
        }
      ]
    },
    {
      "metadata": {
        "_cell_guid": "bdb95b0c-9e38-4f92-884d-916a762ce379",
        "_uuid": "253db4ab330cba55c3d3935ad0cffadb4fc68ebb"
      },
      "cell_type": "markdown",
      "source": "How many boys and girls were born between the years 2000 and 2002?"
    },
    {
      "metadata": {
        "_cell_guid": "67e9db5b-640e-496b-af2e-9d28f97928e9",
        "_uuid": "8b4ba72322c8f359344ea900f04bdc81998d61fb",
        "trusted": true
      },
      "cell_type": "code",
      "source": "query8 = \"\"\"SELECT\n  year,\n  is_male,\n  COUNT(1) as count\nFROM\n  `bigquery-public-data.samples.natality`\nWHERE\n  year >= 2000\n  AND year <= 2002\nGROUP BY\n  ROLLUP(year, is_male)\nORDER BY\n  year,\n  is_male;\n        \"\"\"\nresponse8 = sampleTables.query_to_pandas_safe(query8, max_gb_scanned=10)\nresponse8.head(10)",
      "execution_count": 10,
      "outputs": [
        {
          "output_type": "execute_result",
          "execution_count": 10,
          "data": {
            "text/plain": "     year is_male     count\n0     NaN    None  12122730\n1  2000.0    None   4063823\n2  2000.0   False   1984255\n3  2000.0    True   2079568\n4  2001.0    None   4031531\n5  2001.0   False   1970770\n6  2001.0    True   2060761\n7  2002.0    None   4027376\n8  2002.0   False   1966519\n9  2002.0    True   2060857",
            "text/html": "<div>\n<style scoped>\n    .dataframe tbody tr th:only-of-type {\n        vertical-align: middle;\n    }\n\n    .dataframe tbody tr th {\n        vertical-align: top;\n    }\n\n    .dataframe thead th {\n        text-align: right;\n    }\n</style>\n<table border=\"1\" class=\"dataframe\">\n  <thead>\n    <tr style=\"text-align: right;\">\n      <th></th>\n      <th>year</th>\n      <th>is_male</th>\n      <th>count</th>\n    </tr>\n  </thead>\n  <tbody>\n    <tr>\n      <th>0</th>\n      <td>NaN</td>\n      <td>None</td>\n      <td>12122730</td>\n    </tr>\n    <tr>\n      <th>1</th>\n      <td>2000.0</td>\n      <td>None</td>\n      <td>4063823</td>\n    </tr>\n    <tr>\n      <th>2</th>\n      <td>2000.0</td>\n      <td>False</td>\n      <td>1984255</td>\n    </tr>\n    <tr>\n      <th>3</th>\n      <td>2000.0</td>\n      <td>True</td>\n      <td>2079568</td>\n    </tr>\n    <tr>\n      <th>4</th>\n      <td>2001.0</td>\n      <td>None</td>\n      <td>4031531</td>\n    </tr>\n    <tr>\n      <th>5</th>\n      <td>2001.0</td>\n      <td>False</td>\n      <td>1970770</td>\n    </tr>\n    <tr>\n      <th>6</th>\n      <td>2001.0</td>\n      <td>True</td>\n      <td>2060761</td>\n    </tr>\n    <tr>\n      <th>7</th>\n      <td>2002.0</td>\n      <td>None</td>\n      <td>4027376</td>\n    </tr>\n    <tr>\n      <th>8</th>\n      <td>2002.0</td>\n      <td>False</td>\n      <td>1966519</td>\n    </tr>\n    <tr>\n      <th>9</th>\n      <td>2002.0</td>\n      <td>True</td>\n      <td>2060857</td>\n    </tr>\n  </tbody>\n</table>\n</div>"
          },
          "metadata": {}
        }
      ]
    },
    {
      "metadata": {
        "_cell_guid": "0d7e54db-aa71-4f8f-87cd-e87878762816",
        "_uuid": "42b705ca7b20f0c66cd7f41e497f7a65b939af97"
      },
      "cell_type": "markdown",
      "source": "What is the average birth weight in Ohio in 2003 for mothers who smoke cigarettes?\n\n"
    },
    {
      "metadata": {
        "_cell_guid": "ed45400c-2400-4484-8534-f056dd5c49ce",
        "_uuid": "8fe6ba5188d0f48e72b2401d4f17e0f96d0bd701",
        "trusted": true
      },
      "cell_type": "code",
      "source": "query9 = \"\"\"SELECT\n  cigarette_use,\n  /* Finds average and standard deviation */\n  AVG(weight_pounds) baby_weight,\n  STDDEV(weight_pounds) baby_weight_stdev,\n  AVG(mother_age) mother_age\nFROM\n  `bigquery-public-data.samples.natality`\nWHERE\n  year=2003 AND state='OH'\n/* Group the result values by those */\n/* who smoked and those who didn't.  */\nGROUP BY\n  cigarette_use;\n        \"\"\"\nresponse9 = sampleTables.query_to_pandas_safe(query9, max_gb_scanned=10)\nresponse9.head(10)",
      "execution_count": 11,
      "outputs": [
        {
          "output_type": "execute_result",
          "execution_count": 11,
          "data": {
            "text/plain": "  cigarette_use  baby_weight  baby_weight_stdev  mother_age\n0          True     6.838024           1.305376   25.014222\n1          None     7.080023           1.574009   28.535461\n2         False     7.331774           1.342397   27.593438",
            "text/html": "<div>\n<style scoped>\n    .dataframe tbody tr th:only-of-type {\n        vertical-align: middle;\n    }\n\n    .dataframe tbody tr th {\n        vertical-align: top;\n    }\n\n    .dataframe thead th {\n        text-align: right;\n    }\n</style>\n<table border=\"1\" class=\"dataframe\">\n  <thead>\n    <tr style=\"text-align: right;\">\n      <th></th>\n      <th>cigarette_use</th>\n      <th>baby_weight</th>\n      <th>baby_weight_stdev</th>\n      <th>mother_age</th>\n    </tr>\n  </thead>\n  <tbody>\n    <tr>\n      <th>0</th>\n      <td>True</td>\n      <td>6.838024</td>\n      <td>1.305376</td>\n      <td>25.014222</td>\n    </tr>\n    <tr>\n      <th>1</th>\n      <td>None</td>\n      <td>7.080023</td>\n      <td>1.574009</td>\n      <td>28.535461</td>\n    </tr>\n    <tr>\n      <th>2</th>\n      <td>False</td>\n      <td>7.331774</td>\n      <td>1.342397</td>\n      <td>27.593438</td>\n    </tr>\n  </tbody>\n</table>\n</div>"
          },
          "metadata": {}
        }
      ]
    },
    {
      "metadata": {
        "_cell_guid": "a1c8f8a4-fbe9-4a78-bdf8-cd7e133e3890",
        "_uuid": "ff6a08cd33d47a4c0383cc384740d0ca4cc035c7"
      },
      "cell_type": "markdown",
      "source": "How many boys and girls were born in the 3 states with the most births?"
    },
    {
      "metadata": {
        "_cell_guid": "925b9982-1967-4bb7-8cd6-422749631c17",
        "_uuid": "93f58350d7cea60dfa5e7ec518408bf82fb8c223",
        "trusted": true
      },
      "cell_type": "code",
      "source": "query10 = \"\"\"SELECT\n  state,\n  /* If 'is_male' is True, return 'Male', */\n  /* otherwise return 'Female' */\n  IF (is_male, 'Male', 'Female') AS sex,\n  /* The count value is aliased as 'cnt' */\n  /* and used in the HAVING clause below. */\n  COUNT(*) AS cnt\nFROM\n  `bigquery-public-data.samples.natality`\nWHERE\n  state != ''\nGROUP BY\n  state, sex\nHAVING\n  cnt > 3000000\nORDER BY\n  cnt DESC;\n        \"\"\"\nresponse10 = sampleTables.query_to_pandas_safe(query10, max_gb_scanned=10)\nresponse10.head(10)",
      "execution_count": 12,
      "outputs": [
        {
          "output_type": "execute_result",
          "execution_count": 12,
          "data": {
            "text/plain": "  state     sex      cnt\n0    CA    Male  7060826\n1    CA  Female  6733288\n2    TX    Male  5107542\n3    TX  Female  4879247\n4    NY    Male  4442246\n5    NY  Female  4227891\n6    IL    Male  3089555",
            "text/html": "<div>\n<style scoped>\n    .dataframe tbody tr th:only-of-type {\n        vertical-align: middle;\n    }\n\n    .dataframe tbody tr th {\n        vertical-align: top;\n    }\n\n    .dataframe thead th {\n        text-align: right;\n    }\n</style>\n<table border=\"1\" class=\"dataframe\">\n  <thead>\n    <tr style=\"text-align: right;\">\n      <th></th>\n      <th>state</th>\n      <th>sex</th>\n      <th>cnt</th>\n    </tr>\n  </thead>\n  <tbody>\n    <tr>\n      <th>0</th>\n      <td>CA</td>\n      <td>Male</td>\n      <td>7060826</td>\n    </tr>\n    <tr>\n      <th>1</th>\n      <td>CA</td>\n      <td>Female</td>\n      <td>6733288</td>\n    </tr>\n    <tr>\n      <th>2</th>\n      <td>TX</td>\n      <td>Male</td>\n      <td>5107542</td>\n    </tr>\n    <tr>\n      <th>3</th>\n      <td>TX</td>\n      <td>Female</td>\n      <td>4879247</td>\n    </tr>\n    <tr>\n      <th>4</th>\n      <td>NY</td>\n      <td>Male</td>\n      <td>4442246</td>\n    </tr>\n    <tr>\n      <th>5</th>\n      <td>NY</td>\n      <td>Female</td>\n      <td>4227891</td>\n    </tr>\n    <tr>\n      <th>6</th>\n      <td>IL</td>\n      <td>Male</td>\n      <td>3089555</td>\n    </tr>\n  </tbody>\n</table>\n</div>"
          },
          "metadata": {}
        }
      ]
    },
    {
      "metadata": {
        "_cell_guid": "1e8fdca8-a441-47a2-a531-19f0c8848862",
        "_uuid": "c051158a027b495d5f62931b9171b903dbba3138",
        "collapsed": true,
        "trusted": true
      },
      "cell_type": "code",
      "source": "",
      "execution_count": null,
      "outputs": []
    },
    {
      "metadata": {
        "_cell_guid": "5d835246-7298-4048-bd7a-7e4f89db233c",
        "_uuid": "7a558af9571827058ee408fd22fb12defda979d6",
        "collapsed": true,
        "trusted": true
      },
      "cell_type": "code",
      "source": "",
      "execution_count": null,
      "outputs": []
    },
    {
      "metadata": {
        "_cell_guid": "a6157405-cace-4892-96ae-785249c0af11",
        "_uuid": "0c58d9ba2a77e9d3a8c2634fdb18a11455f812e8",
        "collapsed": true,
        "trusted": true
      },
      "cell_type": "code",
      "source": "",
      "execution_count": null,
      "outputs": []
    },
    {
      "metadata": {
        "_cell_guid": "089a8d23-05a5-4774-a15b-d4d2d4b1f7a1",
        "_uuid": "a5f086996756fc1017c9b7de584eb11c05d975aa",
        "collapsed": true,
        "trusted": true
      },
      "cell_type": "code",
      "source": "",
      "execution_count": null,
      "outputs": []
    },
    {
      "metadata": {
        "_cell_guid": "0569ca69-d8e8-4768-b1ec-07e358490f5f",
        "_uuid": "6f54af80b1efd48dd1eef34132680e41d138f21e",
        "collapsed": true,
        "trusted": true
      },
      "cell_type": "code",
      "source": "",
      "execution_count": null,
      "outputs": []
    }
  ],
  "metadata": {
    "kernelspec": {
      "display_name": "Python 3",
      "language": "python",
      "name": "python3"
    },
    "language_info": {
      "name": "python",
      "version": "3.6.4",
      "mimetype": "text/x-python",
      "codemirror_mode": {
        "name": "ipython",
        "version": 3
      },
      "pygments_lexer": "ipython3",
      "nbconvert_exporter": "python",
      "file_extension": ".py"
    }
  },
  "nbformat": 4,
  "nbformat_minor": 1
}