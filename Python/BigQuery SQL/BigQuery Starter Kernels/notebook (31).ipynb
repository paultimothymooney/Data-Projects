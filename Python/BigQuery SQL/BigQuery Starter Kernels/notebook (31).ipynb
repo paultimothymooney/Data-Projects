{
  "cells": [
    {
      "metadata": {
        "_uuid": "e660f53afc4ad9ea178a50e770086c570254b5ee",
        "_cell_guid": "3bcad590-bef9-4971-8891-3d2b586eeca7"
      },
      "cell_type": "markdown",
      "source": "**How to Query the International Census Dataset (BigQuery)**"
    },
    {
      "metadata": {
        "_uuid": "8f2839f25d086af736a60e9eeb907d3b93b6e0e5",
        "_cell_guid": "b1076dfc-b9ad-4769-8c92-a6c4dae69d19",
        "collapsed": true,
        "trusted": true
      },
      "cell_type": "code",
      "source": "import bq_helper\nfrom bq_helper import BigQueryHelper\n# https://www.kaggle.com/sohier/introduction-to-the-bq-helper-package\ninternational_census = bq_helper.BigQueryHelper(active_project=\"bigquery-public-data\",\n                                   dataset_name=\"census_bureau_international\")",
      "execution_count": 1,
      "outputs": []
    },
    {
      "metadata": {
        "_uuid": "ff48bda88377e6ddef973738f366dabaee88464e",
        "_cell_guid": "c2915dd3-2abe-47fe-af47-38e4a83ea7d6",
        "trusted": true
      },
      "cell_type": "code",
      "source": "bq_assistant = BigQueryHelper(\"bigquery-public-data\", \"census_bureau_international\")\nbq_assistant.list_tables()",
      "execution_count": 2,
      "outputs": [
        {
          "output_type": "execute_result",
          "execution_count": 2,
          "data": {
            "text/plain": "['age_specific_fertility_rates',\n 'birth_death_growth_rates',\n 'country_names_area',\n 'midyear_population',\n 'midyear_population_5yr_age_sex',\n 'midyear_population_age_sex',\n 'midyear_population_agespecific',\n 'mortality_life_expectancy']"
          },
          "metadata": {}
        }
      ]
    },
    {
      "metadata": {
        "_uuid": "1a6a818dcf49098dc7a9f3289a128e1d65cfca52",
        "_cell_guid": "dbc7ea6a-f96b-482f-ac25-fd12bbd04e61",
        "trusted": true
      },
      "cell_type": "code",
      "source": "bq_assistant.head(\"mortality_life_expectancy\", num_rows=3)",
      "execution_count": 3,
      "outputs": [
        {
          "output_type": "execute_result",
          "execution_count": 3,
          "data": {
            "text/plain": "  country_code country_name  year  infant_mortality  infant_mortality_male  \\\n0           AA        Aruba  2047              5.29                   6.43   \n1           AA        Aruba  2038              6.28                   7.82   \n2           AA        Aruba  2008             14.26                  18.92   \n\n   infant_mortality_female  life_expectancy  life_expectancy_male  \\\n0                     4.13            81.27                 78.20   \n1                     4.72            80.25                 77.17   \n2                     9.51            75.06                 72.03   \n\n   life_expectancy_female  mortality_rate_under5  mortality_rate_under5_male  \\\n0                   84.41                   5.99                        7.32   \n1                   83.40                   7.13                        8.93   \n2                   78.14                  16.48                       22.06   \n\n   mortality_rate_under5_female  mortality_rate_1to4  \\\n0                          4.63                 0.70   \n1                          5.30                 0.85   \n2                         10.79                 2.25   \n\n   mortality_rate_1to4_male  mortality_rate_1to4_female  \n0                      0.90                        0.50  \n1                      1.12                        0.58  \n2                      3.20                        1.29  ",
            "text/html": "<div>\n<style scoped>\n    .dataframe tbody tr th:only-of-type {\n        vertical-align: middle;\n    }\n\n    .dataframe tbody tr th {\n        vertical-align: top;\n    }\n\n    .dataframe thead th {\n        text-align: right;\n    }\n</style>\n<table border=\"1\" class=\"dataframe\">\n  <thead>\n    <tr style=\"text-align: right;\">\n      <th></th>\n      <th>country_code</th>\n      <th>country_name</th>\n      <th>year</th>\n      <th>infant_mortality</th>\n      <th>infant_mortality_male</th>\n      <th>infant_mortality_female</th>\n      <th>life_expectancy</th>\n      <th>life_expectancy_male</th>\n      <th>life_expectancy_female</th>\n      <th>mortality_rate_under5</th>\n      <th>mortality_rate_under5_male</th>\n      <th>mortality_rate_under5_female</th>\n      <th>mortality_rate_1to4</th>\n      <th>mortality_rate_1to4_male</th>\n      <th>mortality_rate_1to4_female</th>\n    </tr>\n  </thead>\n  <tbody>\n    <tr>\n      <th>0</th>\n      <td>AA</td>\n      <td>Aruba</td>\n      <td>2047</td>\n      <td>5.29</td>\n      <td>6.43</td>\n      <td>4.13</td>\n      <td>81.27</td>\n      <td>78.20</td>\n      <td>84.41</td>\n      <td>5.99</td>\n      <td>7.32</td>\n      <td>4.63</td>\n      <td>0.70</td>\n      <td>0.90</td>\n      <td>0.50</td>\n    </tr>\n    <tr>\n      <th>1</th>\n      <td>AA</td>\n      <td>Aruba</td>\n      <td>2038</td>\n      <td>6.28</td>\n      <td>7.82</td>\n      <td>4.72</td>\n      <td>80.25</td>\n      <td>77.17</td>\n      <td>83.40</td>\n      <td>7.13</td>\n      <td>8.93</td>\n      <td>5.30</td>\n      <td>0.85</td>\n      <td>1.12</td>\n      <td>0.58</td>\n    </tr>\n    <tr>\n      <th>2</th>\n      <td>AA</td>\n      <td>Aruba</td>\n      <td>2008</td>\n      <td>14.26</td>\n      <td>18.92</td>\n      <td>9.51</td>\n      <td>75.06</td>\n      <td>72.03</td>\n      <td>78.14</td>\n      <td>16.48</td>\n      <td>22.06</td>\n      <td>10.79</td>\n      <td>2.25</td>\n      <td>3.20</td>\n      <td>1.29</td>\n    </tr>\n  </tbody>\n</table>\n</div>"
          },
          "metadata": {}
        }
      ]
    },
    {
      "metadata": {
        "_uuid": "a24291522f4e546b62e9383ae00f77d9ce6368de",
        "_cell_guid": "86576f35-cb44-4c02-90e7-0c49e7edfd30",
        "trusted": true
      },
      "cell_type": "code",
      "source": "bq_assistant.table_schema(\"mortality_life_expectancy\")",
      "execution_count": 4,
      "outputs": [
        {
          "output_type": "execute_result",
          "execution_count": 4,
          "data": {
            "text/plain": "[SchemaField('country_code', 'STRING', 'REQUIRED', 'Federal Information Processing Standard (FIPS) country/area code', ()),\n SchemaField('country_name', 'STRING', 'NULLABLE', 'Country or area name', ()),\n SchemaField('year', 'INTEGER', 'REQUIRED', 'Year', ()),\n SchemaField('infant_mortality', 'FLOAT', 'NULLABLE', 'Both sexes infant mortality rate (infant deaths per 1,000 population)', ()),\n SchemaField('infant_mortality_male', 'FLOAT', 'NULLABLE', 'Male infant mortality rate (infant deaths per 1,000 population)', ()),\n SchemaField('infant_mortality_female', 'FLOAT', 'NULLABLE', 'Female infant mortality rate (infant deaths per 1,000 population)', ()),\n SchemaField('life_expectancy', 'FLOAT', 'NULLABLE', 'Both sexes life expectancy at birth (years)', ()),\n SchemaField('life_expectancy_male', 'FLOAT', 'NULLABLE', 'Male life expectancy at birth (years)', ()),\n SchemaField('life_expectancy_female', 'FLOAT', 'NULLABLE', 'Female life expectancy at birth (years)', ()),\n SchemaField('mortality_rate_under5', 'FLOAT', 'NULLABLE', 'Both sexes under-5 mortality rate (probability of dying between ages 0 and 5)', ()),\n SchemaField('mortality_rate_under5_male', 'FLOAT', 'NULLABLE', 'Male sexes under-5 mortality rate (probability of dying between ages 0 and 5)', ()),\n SchemaField('mortality_rate_under5_female', 'FLOAT', 'NULLABLE', 'Female sexes under-5 mortality rate (probability of dying between ages 0 and 5)', ()),\n SchemaField('mortality_rate_1to4', 'FLOAT', 'NULLABLE', 'Both sexes child mortality rate (probability of dying between ages 1 and 4)', ()),\n SchemaField('mortality_rate_1to4_male', 'FLOAT', 'NULLABLE', 'Male sexes child mortality rate (probability of dying between ages 1 and 4)', ()),\n SchemaField('mortality_rate_1to4_female', 'FLOAT', 'NULLABLE', 'Female sexes child mortality rate (probability of dying between ages 1 and 4)', ())]"
          },
          "metadata": {}
        }
      ]
    },
    {
      "metadata": {
        "_uuid": "4d1459635075242a3e7fe04379ed8fb56c224b8b",
        "_cell_guid": "d6131809-ce61-4e61-bf1a-0b2f17081d50"
      },
      "cell_type": "markdown",
      "source": "What countries have the longest life expectancy?\n"
    },
    {
      "metadata": {
        "_uuid": "a91c85c1a9ddc073a82c8666a246198d005b12de",
        "_cell_guid": "5f3751d7-0afa-41f9-9e2a-10cbf9bac869",
        "trusted": true
      },
      "cell_type": "code",
      "source": "query1 = \"\"\"SELECT\n  age.country_name,\n  age.life_expectancy,\n  size.country_area\nFROM (\n  SELECT\n    country_name,\n    life_expectancy\n  FROM\n    `bigquery-public-data.census_bureau_international.mortality_life_expectancy`\n  WHERE\n    year = 2016) age\nINNER JOIN (\n  SELECT\n    country_name,\n    country_area\n  FROM\n    `bigquery-public-data.census_bureau_international.country_names_area` where country_area > 25000) size\nON\n  age.country_name = size.country_name\nORDER BY\n  2 DESC\n/* Limit removed for Data Studio Visualization */\nLIMIT\n  10\n        \"\"\"\nresponse1 = international_census.query_to_pandas_safe(query1)\nresponse1.head(10)",
      "execution_count": 5,
      "outputs": [
        {
          "output_type": "execute_result",
          "execution_count": 5,
          "data": {
            "text/plain": "   country_name  life_expectancy  country_area\n0         Japan            85.00      364485.0\n1       Iceland            83.02      100250.0\n2   Switzerland            82.57       39997.0\n3  Korea, South            82.43       96920.0\n4     Australia            82.23     7682300.0\n5         Italy            82.20      294140.0\n6        Sweden            82.06      410335.0\n7        Canada            81.85     9093507.0\n8        France            81.84      640427.0\n9        Norway            81.78      304282.0",
            "text/html": "<div>\n<style scoped>\n    .dataframe tbody tr th:only-of-type {\n        vertical-align: middle;\n    }\n\n    .dataframe tbody tr th {\n        vertical-align: top;\n    }\n\n    .dataframe thead th {\n        text-align: right;\n    }\n</style>\n<table border=\"1\" class=\"dataframe\">\n  <thead>\n    <tr style=\"text-align: right;\">\n      <th></th>\n      <th>country_name</th>\n      <th>life_expectancy</th>\n      <th>country_area</th>\n    </tr>\n  </thead>\n  <tbody>\n    <tr>\n      <th>0</th>\n      <td>Japan</td>\n      <td>85.00</td>\n      <td>364485.0</td>\n    </tr>\n    <tr>\n      <th>1</th>\n      <td>Iceland</td>\n      <td>83.02</td>\n      <td>100250.0</td>\n    </tr>\n    <tr>\n      <th>2</th>\n      <td>Switzerland</td>\n      <td>82.57</td>\n      <td>39997.0</td>\n    </tr>\n    <tr>\n      <th>3</th>\n      <td>Korea, South</td>\n      <td>82.43</td>\n      <td>96920.0</td>\n    </tr>\n    <tr>\n      <th>4</th>\n      <td>Australia</td>\n      <td>82.23</td>\n      <td>7682300.0</td>\n    </tr>\n    <tr>\n      <th>5</th>\n      <td>Italy</td>\n      <td>82.20</td>\n      <td>294140.0</td>\n    </tr>\n    <tr>\n      <th>6</th>\n      <td>Sweden</td>\n      <td>82.06</td>\n      <td>410335.0</td>\n    </tr>\n    <tr>\n      <th>7</th>\n      <td>Canada</td>\n      <td>81.85</td>\n      <td>9093507.0</td>\n    </tr>\n    <tr>\n      <th>8</th>\n      <td>France</td>\n      <td>81.84</td>\n      <td>640427.0</td>\n    </tr>\n    <tr>\n      <th>9</th>\n      <td>Norway</td>\n      <td>81.78</td>\n      <td>304282.0</td>\n    </tr>\n  </tbody>\n</table>\n</div>"
          },
          "metadata": {}
        }
      ]
    },
    {
      "metadata": {
        "_uuid": "6fc7410c1b1260765b2f359b986e2c682ffab217",
        "_cell_guid": "e52ec602-7068-449a-8007-48d166a2cc5c"
      },
      "cell_type": "markdown",
      "source": "Which countries have the largest proportion of their population under 25?\n"
    },
    {
      "metadata": {
        "_uuid": "bdfb39018567730c9ab81a6e6fbc56a63de1a944",
        "_cell_guid": "d3e565c0-0677-46b5-9260-120f4b951dcf",
        "trusted": true
      },
      "cell_type": "code",
      "source": "query2 = \"\"\"SELECT\n  age.country_name,\n  SUM(age.population) AS under_25,\n  pop.midyear_population AS total,\n  ROUND((SUM(age.population) / pop.midyear_population) * 100,2) AS pct_under_25\nFROM (\n  SELECT\n    country_name,\n    population,\n    country_code\n  FROM\n    `bigquery-public-data.census_bureau_international.midyear_population_agespecific`\n  WHERE\n    year =2017\n    AND age < 25) age\nINNER JOIN (\n  SELECT\n    midyear_population,\n    country_code\n  FROM\n    `bigquery-public-data.census_bureau_international.midyear_population`\n  WHERE\n    year = 2017) pop\nON\n  age.country_code = pop.country_code\nGROUP BY\n  1,\n  3\nORDER BY\n  4 DESC\n/* Remove limit for visualization */\nLIMIT\n  10\n        \"\"\"\nresponse2 = international_census.query_to_pandas_safe(query2)\nresponse2.head(10)",
      "execution_count": 6,
      "outputs": [
        {
          "output_type": "execute_result",
          "execution_count": 6,
          "data": {
            "text/plain": "   country_name  under_25     total  pct_under_25\n0        Uganda  27361075  39570125         69.15\n1         Niger  13108162  19245344         68.11\n2          Mali  11985934  17885245         67.02\n3        Malawi  12840006  19196246         66.89\n4        Angola  19453005  29310273         66.37\n5    Mozambique  17614963  26573706         66.29\n6    Gaza Strip   1185377   1795183         66.03\n7        Zambia  10544838  15972000         66.02\n8  Burkina Faso  13060451  20107509         64.95\n9   South Sudan   8457121  13026129         64.92",
            "text/html": "<div>\n<style scoped>\n    .dataframe tbody tr th:only-of-type {\n        vertical-align: middle;\n    }\n\n    .dataframe tbody tr th {\n        vertical-align: top;\n    }\n\n    .dataframe thead th {\n        text-align: right;\n    }\n</style>\n<table border=\"1\" class=\"dataframe\">\n  <thead>\n    <tr style=\"text-align: right;\">\n      <th></th>\n      <th>country_name</th>\n      <th>under_25</th>\n      <th>total</th>\n      <th>pct_under_25</th>\n    </tr>\n  </thead>\n  <tbody>\n    <tr>\n      <th>0</th>\n      <td>Uganda</td>\n      <td>27361075</td>\n      <td>39570125</td>\n      <td>69.15</td>\n    </tr>\n    <tr>\n      <th>1</th>\n      <td>Niger</td>\n      <td>13108162</td>\n      <td>19245344</td>\n      <td>68.11</td>\n    </tr>\n    <tr>\n      <th>2</th>\n      <td>Mali</td>\n      <td>11985934</td>\n      <td>17885245</td>\n      <td>67.02</td>\n    </tr>\n    <tr>\n      <th>3</th>\n      <td>Malawi</td>\n      <td>12840006</td>\n      <td>19196246</td>\n      <td>66.89</td>\n    </tr>\n    <tr>\n      <th>4</th>\n      <td>Angola</td>\n      <td>19453005</td>\n      <td>29310273</td>\n      <td>66.37</td>\n    </tr>\n    <tr>\n      <th>5</th>\n      <td>Mozambique</td>\n      <td>17614963</td>\n      <td>26573706</td>\n      <td>66.29</td>\n    </tr>\n    <tr>\n      <th>6</th>\n      <td>Gaza Strip</td>\n      <td>1185377</td>\n      <td>1795183</td>\n      <td>66.03</td>\n    </tr>\n    <tr>\n      <th>7</th>\n      <td>Zambia</td>\n      <td>10544838</td>\n      <td>15972000</td>\n      <td>66.02</td>\n    </tr>\n    <tr>\n      <th>8</th>\n      <td>Burkina Faso</td>\n      <td>13060451</td>\n      <td>20107509</td>\n      <td>64.95</td>\n    </tr>\n    <tr>\n      <th>9</th>\n      <td>South Sudan</td>\n      <td>8457121</td>\n      <td>13026129</td>\n      <td>64.92</td>\n    </tr>\n  </tbody>\n</table>\n</div>"
          },
          "metadata": {}
        }
      ]
    },
    {
      "metadata": {
        "_uuid": "b9584966fbb44a21645a1e6969be0cac8d6e528c",
        "_cell_guid": "9b9a7023-b4a1-4d4a-b308-0e980734184b"
      },
      "cell_type": "markdown",
      "source": "Which countries are seeing the largest net migration?\n"
    },
    {
      "metadata": {
        "_uuid": "5d118a08323acff20769d05eea4a7bc4b0548633",
        "_cell_guid": "47487e93-36f4-44f9-83e6-80a1c80e6ef6",
        "trusted": true
      },
      "cell_type": "code",
      "source": "query3 = \"\"\"SELECT\n  growth.country_name,\n  growth.net_migration,\n  CAST(area.country_area as INT64) as country_area\nFROM (\n  SELECT\n    country_name,\n    net_migration,\n    country_code\n  FROM\n    `bigquery-public-data.census_bureau_international.birth_death_growth_rates`\n  WHERE\n    year = 2017) growth\nINNER JOIN (\n  SELECT\n    country_area,\n    country_code\n  FROM\n    `bigquery-public-data.census_bureau_international.country_names_area`\n  WHERE\n    country_area > 500) area\nON\n  growth.country_code = area.country_code\nORDER BY\n  net_migration DESC\nLIMIT\n  10\n        \"\"\"\nresponse3 = international_census.query_to_pandas_safe(query3, max_gb_scanned=10)\nresponse3.head(10)",
      "execution_count": 7,
      "outputs": [
        {
          "output_type": "execute_result",
          "execution_count": 7,
          "data": {
            "text/plain": "               country_name  net_migration  country_area\n0                     Syria          61.46        183630\n1                Luxembourg          15.52          2586\n2                     Qatar          14.61         11586\n3                 Singapore          13.10           687\n4                   Bahrain          12.07           760\n5               South Sudan          10.60        644329\n6      United Arab Emirates          10.48         83600\n7  Turks and Caicos Islands           9.51           948\n8                    Cyprus           8.70          9241\n9                     Spain           7.76        498980",
            "text/html": "<div>\n<style scoped>\n    .dataframe tbody tr th:only-of-type {\n        vertical-align: middle;\n    }\n\n    .dataframe tbody tr th {\n        vertical-align: top;\n    }\n\n    .dataframe thead th {\n        text-align: right;\n    }\n</style>\n<table border=\"1\" class=\"dataframe\">\n  <thead>\n    <tr style=\"text-align: right;\">\n      <th></th>\n      <th>country_name</th>\n      <th>net_migration</th>\n      <th>country_area</th>\n    </tr>\n  </thead>\n  <tbody>\n    <tr>\n      <th>0</th>\n      <td>Syria</td>\n      <td>61.46</td>\n      <td>183630</td>\n    </tr>\n    <tr>\n      <th>1</th>\n      <td>Luxembourg</td>\n      <td>15.52</td>\n      <td>2586</td>\n    </tr>\n    <tr>\n      <th>2</th>\n      <td>Qatar</td>\n      <td>14.61</td>\n      <td>11586</td>\n    </tr>\n    <tr>\n      <th>3</th>\n      <td>Singapore</td>\n      <td>13.10</td>\n      <td>687</td>\n    </tr>\n    <tr>\n      <th>4</th>\n      <td>Bahrain</td>\n      <td>12.07</td>\n      <td>760</td>\n    </tr>\n    <tr>\n      <th>5</th>\n      <td>South Sudan</td>\n      <td>10.60</td>\n      <td>644329</td>\n    </tr>\n    <tr>\n      <th>6</th>\n      <td>United Arab Emirates</td>\n      <td>10.48</td>\n      <td>83600</td>\n    </tr>\n    <tr>\n      <th>7</th>\n      <td>Turks and Caicos Islands</td>\n      <td>9.51</td>\n      <td>948</td>\n    </tr>\n    <tr>\n      <th>8</th>\n      <td>Cyprus</td>\n      <td>8.70</td>\n      <td>9241</td>\n    </tr>\n    <tr>\n      <th>9</th>\n      <td>Spain</td>\n      <td>7.76</td>\n      <td>498980</td>\n    </tr>\n  </tbody>\n</table>\n</div>"
          },
          "metadata": {}
        }
      ]
    },
    {
      "metadata": {
        "_uuid": "5036d81bf1545cb5d0a2be06d646a0fb65685687",
        "_cell_guid": "e03536e4-fe9c-482e-b401-64fe27906a72",
        "collapsed": true,
        "trusted": true
      },
      "cell_type": "code",
      "source": "",
      "execution_count": null,
      "outputs": []
    },
    {
      "metadata": {
        "_uuid": "17e2ee869c96104b0205c5c22f77b8933fe89dfd",
        "_cell_guid": "a329accd-c87b-49cb-9831-2dab2c3b9876",
        "collapsed": true,
        "trusted": true
      },
      "cell_type": "code",
      "source": "",
      "execution_count": null,
      "outputs": []
    }
  ],
  "metadata": {
    "language_info": {
      "name": "python",
      "version": "3.6.4",
      "mimetype": "text/x-python",
      "codemirror_mode": {
        "name": "ipython",
        "version": 3
      },
      "pygments_lexer": "ipython3",
      "nbconvert_exporter": "python",
      "file_extension": ".py"
    },
    "kernelspec": {
      "display_name": "Python 3",
      "language": "python",
      "name": "python3"
    }
  },
  "nbformat": 4,
  "nbformat_minor": 1
}