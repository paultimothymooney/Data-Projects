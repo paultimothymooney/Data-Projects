{
  "cells": [
    {
      "metadata": {
        "_uuid": "de5c8ef6d5d0ee22ec7e55b629d1c1f08d2b8efd",
        "_cell_guid": "307eb20a-56a5-43b9-832b-a76b338ad5e3"
      },
      "cell_type": "markdown",
      "source": "**How to Query the NYC Open Data (BigQuery Dataset)**"
    },
    {
      "metadata": {
        "_uuid": "8f2839f25d086af736a60e9eeb907d3b93b6e0e5",
        "collapsed": true,
        "_cell_guid": "b1076dfc-b9ad-4769-8c92-a6c4dae69d19",
        "trusted": true
      },
      "cell_type": "code",
      "source": "import bq_helper\nfrom bq_helper import BigQueryHelper\n# https://www.kaggle.com/sohier/introduction-to-the-bq-helper-package\nnyc = bq_helper.BigQueryHelper(active_project=\"bigquery-public-data\",\n                                   dataset_name=\"new_york\")",
      "execution_count": 1,
      "outputs": []
    },
    {
      "metadata": {
        "_uuid": "a3415035b50ece1df93c6573539798b929a597f5",
        "_cell_guid": "b0442c95-01fa-4688-9a30-718347933e0f",
        "_kg_hide-output": true,
        "trusted": true
      },
      "cell_type": "code",
      "source": "bq_assistant = BigQueryHelper(\"bigquery-public-data\", \"new_york\")\nbq_assistant.list_tables()",
      "execution_count": 2,
      "outputs": [
        {
          "output_type": "execute_result",
          "execution_count": 2,
          "data": {
            "text/plain": "['311_service_requests',\n 'citibike_stations',\n 'citibike_trips',\n 'nypd_mv_collisions',\n 'tlc_fhv_trips_2015',\n 'tlc_fhv_trips_2016',\n 'tlc_green_trips_2013',\n 'tlc_green_trips_2014',\n 'tlc_green_trips_2015',\n 'tlc_green_trips_2016',\n 'tlc_yellow_trips_2009',\n 'tlc_yellow_trips_2010',\n 'tlc_yellow_trips_2011',\n 'tlc_yellow_trips_2012',\n 'tlc_yellow_trips_2013',\n 'tlc_yellow_trips_2014',\n 'tlc_yellow_trips_2015',\n 'tlc_yellow_trips_2016',\n 'tree_census_1995',\n 'tree_census_2005',\n 'tree_census_2015',\n 'tree_species']"
          },
          "metadata": {}
        }
      ]
    },
    {
      "metadata": {
        "_uuid": "32b8f60048fa0185004ec29f152a33f8c398db6c",
        "_cell_guid": "0e8ae3ca-32eb-4d23-938a-243e9d49cebf",
        "trusted": true
      },
      "cell_type": "code",
      "source": "bq_assistant.head(\"tlc_yellow_trips_2016\", num_rows=10)",
      "execution_count": 3,
      "outputs": [
        {
          "output_type": "execute_result",
          "execution_count": 3,
          "data": {
            "text/plain": "  vendor_id           pickup_datetime          dropoff_datetime  \\\n0         1 2016-04-03 10:57:51+00:00 2016-04-03 11:18:59+00:00   \n1         1 2016-07-05 00:11:29+00:00 2016-07-05 00:33:31+00:00   \n2         2 2016-02-29 08:52:02+00:00 2016-02-29 09:30:42+00:00   \n3         2 2016-01-17 16:33:57+00:00 2016-01-17 17:01:37+00:00   \n4         1 2016-01-30 00:42:39+00:00 2016-01-30 01:08:33+00:00   \n5         2 2016-03-04 13:47:33+00:00 2016-03-04 14:11:52+00:00   \n6         2 2016-08-31 17:45:07+00:00 2016-08-31 17:46:16+00:00   \n7         2 2016-09-29 02:51:49+00:00 2016-09-29 03:20:25+00:00   \n8         2 2016-11-25 19:56:52+00:00 2016-11-25 19:58:12+00:00   \n9         2 2016-05-11 12:48:25+00:00 2016-05-11 13:28:19+00:00   \n\n   passenger_count  trip_distance  pickup_longitude  pickup_latitude  \\\n0                2           7.20        -73.997177        40.716515   \n1                1           8.80               NaN              NaN   \n2                2           5.84        -73.970963        40.790916   \n3                5           6.92        -73.956718        40.780960   \n4                1           6.40        -74.005386        40.720814   \n5                1           8.32        -73.958992        40.772034   \n6                1           0.06               NaN              NaN   \n7                2          10.64               NaN              NaN   \n8                1           0.31               NaN              NaN   \n9                1          12.23        -73.977463        40.759514   \n\n   rate_code store_and_fwd_flag  dropoff_longitude  dropoff_latitude  \\\n0          1                  N         -73.954987         40.777653   \n1          1                  N                NaN               NaN   \n2          1                  N         -73.991661         40.731342   \n3          1                  N         -74.001740         40.730331   \n4          1                  N         -73.929634         40.685833   \n5          1                  N         -73.872536         40.774330   \n6          1                  N                NaN               NaN   \n7          1                  N                NaN               NaN   \n8          1                  N                NaN               NaN   \n9          1                  N         -73.867607         40.770676   \n\n  payment_type  fare_amount  extra  mta_tax  tip_amount  tolls_amount  \\\n0            1         23.0    0.0      0.5        4.75          0.00   \n1            1         27.0    0.5      0.5        5.65          0.00   \n2            1         27.0    0.0      0.5        2.78          0.00   \n3            1         25.0    0.0      0.5        5.16          0.00   \n4            1         23.0    0.5      0.5        6.05          0.00   \n5            1         26.0    0.0      0.5        6.47          5.54   \n6            1          3.0    1.0      0.5        0.96          0.00   \n7            1         33.0    0.5      0.5        6.86          0.00   \n8            1          3.0    1.0      0.5        0.96          0.00   \n9            1         40.5    0.0      0.5       11.71          5.54   \n\n   imp_surcharge  total_amount  \n0            0.3         28.55  \n1            0.3         33.95  \n2            0.3         30.58  \n3            0.3         30.96  \n4            0.3         30.35  \n5            0.3         38.81  \n6            0.3          5.76  \n7            0.3         41.16  \n8            0.3          5.76  \n9            0.3         58.55  ",
            "text/html": "<div>\n<style scoped>\n    .dataframe tbody tr th:only-of-type {\n        vertical-align: middle;\n    }\n\n    .dataframe tbody tr th {\n        vertical-align: top;\n    }\n\n    .dataframe thead th {\n        text-align: right;\n    }\n</style>\n<table border=\"1\" class=\"dataframe\">\n  <thead>\n    <tr style=\"text-align: right;\">\n      <th></th>\n      <th>vendor_id</th>\n      <th>pickup_datetime</th>\n      <th>dropoff_datetime</th>\n      <th>passenger_count</th>\n      <th>trip_distance</th>\n      <th>pickup_longitude</th>\n      <th>pickup_latitude</th>\n      <th>rate_code</th>\n      <th>store_and_fwd_flag</th>\n      <th>dropoff_longitude</th>\n      <th>dropoff_latitude</th>\n      <th>payment_type</th>\n      <th>fare_amount</th>\n      <th>extra</th>\n      <th>mta_tax</th>\n      <th>tip_amount</th>\n      <th>tolls_amount</th>\n      <th>imp_surcharge</th>\n      <th>total_amount</th>\n    </tr>\n  </thead>\n  <tbody>\n    <tr>\n      <th>0</th>\n      <td>1</td>\n      <td>2016-04-03 10:57:51+00:00</td>\n      <td>2016-04-03 11:18:59+00:00</td>\n      <td>2</td>\n      <td>7.20</td>\n      <td>-73.997177</td>\n      <td>40.716515</td>\n      <td>1</td>\n      <td>N</td>\n      <td>-73.954987</td>\n      <td>40.777653</td>\n      <td>1</td>\n      <td>23.0</td>\n      <td>0.0</td>\n      <td>0.5</td>\n      <td>4.75</td>\n      <td>0.00</td>\n      <td>0.3</td>\n      <td>28.55</td>\n    </tr>\n    <tr>\n      <th>1</th>\n      <td>1</td>\n      <td>2016-07-05 00:11:29+00:00</td>\n      <td>2016-07-05 00:33:31+00:00</td>\n      <td>1</td>\n      <td>8.80</td>\n      <td>NaN</td>\n      <td>NaN</td>\n      <td>1</td>\n      <td>N</td>\n      <td>NaN</td>\n      <td>NaN</td>\n      <td>1</td>\n      <td>27.0</td>\n      <td>0.5</td>\n      <td>0.5</td>\n      <td>5.65</td>\n      <td>0.00</td>\n      <td>0.3</td>\n      <td>33.95</td>\n    </tr>\n    <tr>\n      <th>2</th>\n      <td>2</td>\n      <td>2016-02-29 08:52:02+00:00</td>\n      <td>2016-02-29 09:30:42+00:00</td>\n      <td>2</td>\n      <td>5.84</td>\n      <td>-73.970963</td>\n      <td>40.790916</td>\n      <td>1</td>\n      <td>N</td>\n      <td>-73.991661</td>\n      <td>40.731342</td>\n      <td>1</td>\n      <td>27.0</td>\n      <td>0.0</td>\n      <td>0.5</td>\n      <td>2.78</td>\n      <td>0.00</td>\n      <td>0.3</td>\n      <td>30.58</td>\n    </tr>\n    <tr>\n      <th>3</th>\n      <td>2</td>\n      <td>2016-01-17 16:33:57+00:00</td>\n      <td>2016-01-17 17:01:37+00:00</td>\n      <td>5</td>\n      <td>6.92</td>\n      <td>-73.956718</td>\n      <td>40.780960</td>\n      <td>1</td>\n      <td>N</td>\n      <td>-74.001740</td>\n      <td>40.730331</td>\n      <td>1</td>\n      <td>25.0</td>\n      <td>0.0</td>\n      <td>0.5</td>\n      <td>5.16</td>\n      <td>0.00</td>\n      <td>0.3</td>\n      <td>30.96</td>\n    </tr>\n    <tr>\n      <th>4</th>\n      <td>1</td>\n      <td>2016-01-30 00:42:39+00:00</td>\n      <td>2016-01-30 01:08:33+00:00</td>\n      <td>1</td>\n      <td>6.40</td>\n      <td>-74.005386</td>\n      <td>40.720814</td>\n      <td>1</td>\n      <td>N</td>\n      <td>-73.929634</td>\n      <td>40.685833</td>\n      <td>1</td>\n      <td>23.0</td>\n      <td>0.5</td>\n      <td>0.5</td>\n      <td>6.05</td>\n      <td>0.00</td>\n      <td>0.3</td>\n      <td>30.35</td>\n    </tr>\n    <tr>\n      <th>5</th>\n      <td>2</td>\n      <td>2016-03-04 13:47:33+00:00</td>\n      <td>2016-03-04 14:11:52+00:00</td>\n      <td>1</td>\n      <td>8.32</td>\n      <td>-73.958992</td>\n      <td>40.772034</td>\n      <td>1</td>\n      <td>N</td>\n      <td>-73.872536</td>\n      <td>40.774330</td>\n      <td>1</td>\n      <td>26.0</td>\n      <td>0.0</td>\n      <td>0.5</td>\n      <td>6.47</td>\n      <td>5.54</td>\n      <td>0.3</td>\n      <td>38.81</td>\n    </tr>\n    <tr>\n      <th>6</th>\n      <td>2</td>\n      <td>2016-08-31 17:45:07+00:00</td>\n      <td>2016-08-31 17:46:16+00:00</td>\n      <td>1</td>\n      <td>0.06</td>\n      <td>NaN</td>\n      <td>NaN</td>\n      <td>1</td>\n      <td>N</td>\n      <td>NaN</td>\n      <td>NaN</td>\n      <td>1</td>\n      <td>3.0</td>\n      <td>1.0</td>\n      <td>0.5</td>\n      <td>0.96</td>\n      <td>0.00</td>\n      <td>0.3</td>\n      <td>5.76</td>\n    </tr>\n    <tr>\n      <th>7</th>\n      <td>2</td>\n      <td>2016-09-29 02:51:49+00:00</td>\n      <td>2016-09-29 03:20:25+00:00</td>\n      <td>2</td>\n      <td>10.64</td>\n      <td>NaN</td>\n      <td>NaN</td>\n      <td>1</td>\n      <td>N</td>\n      <td>NaN</td>\n      <td>NaN</td>\n      <td>1</td>\n      <td>33.0</td>\n      <td>0.5</td>\n      <td>0.5</td>\n      <td>6.86</td>\n      <td>0.00</td>\n      <td>0.3</td>\n      <td>41.16</td>\n    </tr>\n    <tr>\n      <th>8</th>\n      <td>2</td>\n      <td>2016-11-25 19:56:52+00:00</td>\n      <td>2016-11-25 19:58:12+00:00</td>\n      <td>1</td>\n      <td>0.31</td>\n      <td>NaN</td>\n      <td>NaN</td>\n      <td>1</td>\n      <td>N</td>\n      <td>NaN</td>\n      <td>NaN</td>\n      <td>1</td>\n      <td>3.0</td>\n      <td>1.0</td>\n      <td>0.5</td>\n      <td>0.96</td>\n      <td>0.00</td>\n      <td>0.3</td>\n      <td>5.76</td>\n    </tr>\n    <tr>\n      <th>9</th>\n      <td>2</td>\n      <td>2016-05-11 12:48:25+00:00</td>\n      <td>2016-05-11 13:28:19+00:00</td>\n      <td>1</td>\n      <td>12.23</td>\n      <td>-73.977463</td>\n      <td>40.759514</td>\n      <td>1</td>\n      <td>N</td>\n      <td>-73.867607</td>\n      <td>40.770676</td>\n      <td>1</td>\n      <td>40.5</td>\n      <td>0.0</td>\n      <td>0.5</td>\n      <td>11.71</td>\n      <td>5.54</td>\n      <td>0.3</td>\n      <td>58.55</td>\n    </tr>\n  </tbody>\n</table>\n</div>"
          },
          "metadata": {}
        }
      ]
    },
    {
      "metadata": {
        "_uuid": "08c0134705bc1fb9908be086e6aae1c75e3fc023",
        "_cell_guid": "db6a73c7-98f2-4e57-872a-3002efcc045d",
        "trusted": true
      },
      "cell_type": "code",
      "source": "bq_assistant.head(\"citibike_trips\", num_rows=10)",
      "execution_count": 4,
      "outputs": [
        {
          "output_type": "execute_result",
          "execution_count": 4,
          "data": {
            "text/plain": "   tripduration                 starttime                  stoptime  \\\n0          3030 2016-06-18 11:54:48+00:00 2016-06-18 12:45:19+00:00   \n1          1376 2013-09-04 20:49:30+00:00 2013-09-04 21:12:26+00:00   \n2           870 2016-09-28 09:57:29+00:00 2016-09-28 10:11:59+00:00   \n3           313 2015-07-09 17:25:53+00:00 2015-07-09 17:31:07+00:00   \n4           792 2015-04-02 08:31:11+00:00 2015-04-02 08:44:24+00:00   \n5           372 2013-11-06 13:09:51+00:00 2013-11-06 13:16:03+00:00   \n6           470 2014-08-05 15:19:30+00:00 2014-08-05 15:27:20+00:00   \n7          1661 2016-07-27 09:31:08+00:00 2016-07-27 09:58:49+00:00   \n8           612 2015-07-12 19:22:48+00:00 2015-07-12 19:33:01+00:00   \n9           373 2014-11-07 10:21:31+00:00 2014-11-07 10:27:44+00:00   \n\n   start_station_id       start_station_name  start_station_latitude  \\\n0               237          E 11 St & 2 Ave               40.730473   \n1              2017          E 43 St & 2 Ave               40.750224   \n2              2010     Grand St & Greene St               40.721655   \n3               293    Lafayette St & E 8 St               40.730287   \n4               536          1 Ave & E 30 St               40.741444   \n5               237          E 11 St & 2 Ave               40.730473   \n6               410  Suffolk St & Stanton St               40.720664   \n7               280          E 10 St & 5 Ave               40.733320   \n8               385          E 55 St & 2 Ave               40.757973   \n9               223          W 13 St & 7 Ave               40.737815   \n\n   start_station_longitude  end_station_id          end_station_name  \\\n0               -73.986724             259   South St & Whitehall St   \n1               -73.971214             164           E 47 St & 2 Ave   \n2               -74.002347             363            West Thames St   \n3               -73.990765             250  Lafayette St & Jersey St   \n4               -73.975361             293     Lafayette St & E 8 St   \n5               -73.986724             433        E 13 St & Avenue A   \n6               -73.985180             332                 Cherry St   \n7               -73.995101             260      Broad St & Bridge St   \n8               -73.966033             499        Broadway & W 60 St   \n9               -73.999947             168           W 18 St & 6 Ave   \n\n   end_station_latitude  end_station_longitude  bikeid    usertype  \\\n0             40.701221             -74.012342   15677  Subscriber   \n1             40.753231             -73.970325   19231    Customer   \n2             40.708347             -74.017134   21452  Subscriber   \n3             40.724561             -73.995653   22165  Subscriber   \n4             40.730287             -73.990765   20851  Subscriber   \n5             40.729554             -73.980572   19007  Subscriber   \n6             40.712199             -73.979481   18036  Subscriber   \n7             40.703652             -74.011678   21013  Subscriber   \n8             40.769155             -73.981918   22480  Subscriber   \n9             40.739713             -73.994564   20840  Subscriber   \n\n   birth_year   gender  \n0      1968.0     male  \n1         NaN  unknown  \n2      1965.0     male  \n3      1991.0   female  \n4      1988.0     male  \n5      1971.0     male  \n6      1968.0   female  \n7      1941.0     male  \n8      1968.0     male  \n9      1984.0     male  ",
            "text/html": "<div>\n<style scoped>\n    .dataframe tbody tr th:only-of-type {\n        vertical-align: middle;\n    }\n\n    .dataframe tbody tr th {\n        vertical-align: top;\n    }\n\n    .dataframe thead th {\n        text-align: right;\n    }\n</style>\n<table border=\"1\" class=\"dataframe\">\n  <thead>\n    <tr style=\"text-align: right;\">\n      <th></th>\n      <th>tripduration</th>\n      <th>starttime</th>\n      <th>stoptime</th>\n      <th>start_station_id</th>\n      <th>start_station_name</th>\n      <th>start_station_latitude</th>\n      <th>start_station_longitude</th>\n      <th>end_station_id</th>\n      <th>end_station_name</th>\n      <th>end_station_latitude</th>\n      <th>end_station_longitude</th>\n      <th>bikeid</th>\n      <th>usertype</th>\n      <th>birth_year</th>\n      <th>gender</th>\n    </tr>\n  </thead>\n  <tbody>\n    <tr>\n      <th>0</th>\n      <td>3030</td>\n      <td>2016-06-18 11:54:48+00:00</td>\n      <td>2016-06-18 12:45:19+00:00</td>\n      <td>237</td>\n      <td>E 11 St &amp; 2 Ave</td>\n      <td>40.730473</td>\n      <td>-73.986724</td>\n      <td>259</td>\n      <td>South St &amp; Whitehall St</td>\n      <td>40.701221</td>\n      <td>-74.012342</td>\n      <td>15677</td>\n      <td>Subscriber</td>\n      <td>1968.0</td>\n      <td>male</td>\n    </tr>\n    <tr>\n      <th>1</th>\n      <td>1376</td>\n      <td>2013-09-04 20:49:30+00:00</td>\n      <td>2013-09-04 21:12:26+00:00</td>\n      <td>2017</td>\n      <td>E 43 St &amp; 2 Ave</td>\n      <td>40.750224</td>\n      <td>-73.971214</td>\n      <td>164</td>\n      <td>E 47 St &amp; 2 Ave</td>\n      <td>40.753231</td>\n      <td>-73.970325</td>\n      <td>19231</td>\n      <td>Customer</td>\n      <td>NaN</td>\n      <td>unknown</td>\n    </tr>\n    <tr>\n      <th>2</th>\n      <td>870</td>\n      <td>2016-09-28 09:57:29+00:00</td>\n      <td>2016-09-28 10:11:59+00:00</td>\n      <td>2010</td>\n      <td>Grand St &amp; Greene St</td>\n      <td>40.721655</td>\n      <td>-74.002347</td>\n      <td>363</td>\n      <td>West Thames St</td>\n      <td>40.708347</td>\n      <td>-74.017134</td>\n      <td>21452</td>\n      <td>Subscriber</td>\n      <td>1965.0</td>\n      <td>male</td>\n    </tr>\n    <tr>\n      <th>3</th>\n      <td>313</td>\n      <td>2015-07-09 17:25:53+00:00</td>\n      <td>2015-07-09 17:31:07+00:00</td>\n      <td>293</td>\n      <td>Lafayette St &amp; E 8 St</td>\n      <td>40.730287</td>\n      <td>-73.990765</td>\n      <td>250</td>\n      <td>Lafayette St &amp; Jersey St</td>\n      <td>40.724561</td>\n      <td>-73.995653</td>\n      <td>22165</td>\n      <td>Subscriber</td>\n      <td>1991.0</td>\n      <td>female</td>\n    </tr>\n    <tr>\n      <th>4</th>\n      <td>792</td>\n      <td>2015-04-02 08:31:11+00:00</td>\n      <td>2015-04-02 08:44:24+00:00</td>\n      <td>536</td>\n      <td>1 Ave &amp; E 30 St</td>\n      <td>40.741444</td>\n      <td>-73.975361</td>\n      <td>293</td>\n      <td>Lafayette St &amp; E 8 St</td>\n      <td>40.730287</td>\n      <td>-73.990765</td>\n      <td>20851</td>\n      <td>Subscriber</td>\n      <td>1988.0</td>\n      <td>male</td>\n    </tr>\n    <tr>\n      <th>5</th>\n      <td>372</td>\n      <td>2013-11-06 13:09:51+00:00</td>\n      <td>2013-11-06 13:16:03+00:00</td>\n      <td>237</td>\n      <td>E 11 St &amp; 2 Ave</td>\n      <td>40.730473</td>\n      <td>-73.986724</td>\n      <td>433</td>\n      <td>E 13 St &amp; Avenue A</td>\n      <td>40.729554</td>\n      <td>-73.980572</td>\n      <td>19007</td>\n      <td>Subscriber</td>\n      <td>1971.0</td>\n      <td>male</td>\n    </tr>\n    <tr>\n      <th>6</th>\n      <td>470</td>\n      <td>2014-08-05 15:19:30+00:00</td>\n      <td>2014-08-05 15:27:20+00:00</td>\n      <td>410</td>\n      <td>Suffolk St &amp; Stanton St</td>\n      <td>40.720664</td>\n      <td>-73.985180</td>\n      <td>332</td>\n      <td>Cherry St</td>\n      <td>40.712199</td>\n      <td>-73.979481</td>\n      <td>18036</td>\n      <td>Subscriber</td>\n      <td>1968.0</td>\n      <td>female</td>\n    </tr>\n    <tr>\n      <th>7</th>\n      <td>1661</td>\n      <td>2016-07-27 09:31:08+00:00</td>\n      <td>2016-07-27 09:58:49+00:00</td>\n      <td>280</td>\n      <td>E 10 St &amp; 5 Ave</td>\n      <td>40.733320</td>\n      <td>-73.995101</td>\n      <td>260</td>\n      <td>Broad St &amp; Bridge St</td>\n      <td>40.703652</td>\n      <td>-74.011678</td>\n      <td>21013</td>\n      <td>Subscriber</td>\n      <td>1941.0</td>\n      <td>male</td>\n    </tr>\n    <tr>\n      <th>8</th>\n      <td>612</td>\n      <td>2015-07-12 19:22:48+00:00</td>\n      <td>2015-07-12 19:33:01+00:00</td>\n      <td>385</td>\n      <td>E 55 St &amp; 2 Ave</td>\n      <td>40.757973</td>\n      <td>-73.966033</td>\n      <td>499</td>\n      <td>Broadway &amp; W 60 St</td>\n      <td>40.769155</td>\n      <td>-73.981918</td>\n      <td>22480</td>\n      <td>Subscriber</td>\n      <td>1968.0</td>\n      <td>male</td>\n    </tr>\n    <tr>\n      <th>9</th>\n      <td>373</td>\n      <td>2014-11-07 10:21:31+00:00</td>\n      <td>2014-11-07 10:27:44+00:00</td>\n      <td>223</td>\n      <td>W 13 St &amp; 7 Ave</td>\n      <td>40.737815</td>\n      <td>-73.999947</td>\n      <td>168</td>\n      <td>W 18 St &amp; 6 Ave</td>\n      <td>40.739713</td>\n      <td>-73.994564</td>\n      <td>20840</td>\n      <td>Subscriber</td>\n      <td>1984.0</td>\n      <td>male</td>\n    </tr>\n  </tbody>\n</table>\n</div>"
          },
          "metadata": {}
        }
      ]
    },
    {
      "metadata": {
        "_uuid": "bbb18e3c781e1ce11b83342cc42b46b4eb4f1a81",
        "_cell_guid": "87e3e8b9-e8c4-48fd-99d3-a77034d474bf",
        "_kg_hide-output": true,
        "trusted": true
      },
      "cell_type": "code",
      "source": "bq_assistant.table_schema(\"nypd_mv_collisions\")",
      "execution_count": 5,
      "outputs": [
        {
          "output_type": "execute_result",
          "execution_count": 5,
          "data": {
            "text/plain": "[SchemaField('borough', 'STRING', 'NULLABLE', '', ()),\n SchemaField('contributing_factor_vehicle_1', 'STRING', 'NULLABLE', '', ()),\n SchemaField('contributing_factor_vehicle_2', 'STRING', 'NULLABLE', '', ()),\n SchemaField('contributing_factor_vehicle_3', 'STRING', 'NULLABLE', '', ()),\n SchemaField('contributing_factor_vehicle_4', 'STRING', 'NULLABLE', '', ()),\n SchemaField('contributing_factor_vehicle_5', 'STRING', 'NULLABLE', '', ()),\n SchemaField('cross_street_name', 'STRING', 'NULLABLE', '', ()),\n SchemaField('timestamp', 'TIMESTAMP', 'NULLABLE', '', ()),\n SchemaField('latitude', 'FLOAT', 'NULLABLE', '', ()),\n SchemaField('longitude', 'FLOAT', 'NULLABLE', '', ()),\n SchemaField('location', 'STRING', 'NULLABLE', '', ()),\n SchemaField('number_of_cyclist_injured', 'INTEGER', 'NULLABLE', '', ()),\n SchemaField('number_of_cyclist_killed', 'INTEGER', 'NULLABLE', '', ()),\n SchemaField('number_of_motorist_injured', 'INTEGER', 'NULLABLE', '', ()),\n SchemaField('number_of_motorist_killed', 'INTEGER', 'NULLABLE', '', ()),\n SchemaField('number_of_pedestrians_injured', 'INTEGER', 'NULLABLE', '', ()),\n SchemaField('number_of_pedestrians_killed', 'INTEGER', 'NULLABLE', '', ()),\n SchemaField('number_of_persons_injured', 'INTEGER', 'NULLABLE', '', ()),\n SchemaField('number_of_persons_killed', 'INTEGER', 'NULLABLE', '', ()),\n SchemaField('off_street_name', 'STRING', 'NULLABLE', '', ()),\n SchemaField('on_street_name', 'STRING', 'NULLABLE', '', ()),\n SchemaField('unique_key', 'INTEGER', 'REQUIRED', '', ()),\n SchemaField('vehicle_type_code1', 'STRING', 'NULLABLE', '', ()),\n SchemaField('vehicle_type_code2', 'STRING', 'NULLABLE', '', ()),\n SchemaField('vehicle_type_code_3', 'STRING', 'NULLABLE', '', ()),\n SchemaField('vehicle_type_code_4', 'STRING', 'NULLABLE', '', ()),\n SchemaField('vehicle_type_code_5', 'STRING', 'NULLABLE', '', ()),\n SchemaField('zip_code', 'INTEGER', 'NULLABLE', '', ())]"
          },
          "metadata": {}
        }
      ]
    },
    {
      "metadata": {
        "_uuid": "8eeda9ae334f9bc0dc313635abee9c9c0d582f6c",
        "_cell_guid": "ec2e26b9-885e-4f12-8d20-2f8c494d6f3e"
      },
      "cell_type": "markdown",
      "source": "On which New York City streets are you most likely to find a loud party?\n"
    },
    {
      "metadata": {
        "_uuid": "f498dd0e54911bf273ae4a76fd6a2bdaebf96f15",
        "_cell_guid": "ab7c4d65-3cc2-4192-992c-b030c33b2010",
        "trusted": true
      },
      "cell_type": "code",
      "source": "query1 = \"\"\"SELECT\n  street_name,\n  borough,\n  COUNT(*) AS count\nFROM\n  `bigquery-public-data.new_york.311_service_requests`\nWHERE\n  descriptor=\"Loud Music/Party\"\n  AND complaint_type=\"Noise - Residential\"\n  AND street_name != \"\"\nGROUP BY\n  street_name,\n  borough\nORDER BY\n  count DESC\nLIMIT\n  1000;\n        \"\"\"\nresponse1 = nyc.query_to_pandas_safe(query1)\nresponse1.head(50)",
      "execution_count": 6,
      "outputs": [
        {
          "output_type": "execute_result",
          "execution_count": 6,
          "data": {
            "text/plain": "          street_name    borough  count\n0     GRAND CONCOURSE      BRONX   7668\n1       MORRIS AVENUE      BRONX   4119\n2            BROADWAY  MANHATTAN   3970\n3        OCEAN AVENUE   BROOKLYN   3820\n4    AMSTERDAM AVENUE  MANHATTAN   3295\n5       WALTON AVENUE      BRONX   3242\n6     DAVIDSON AVENUE      BRONX   3117\n7   UNIVERSITY AVENUE      BRONX   2996\n8      HOLLAND AVENUE      BRONX   2875\n9      SHERMAN AVENUE  MANHATTAN   2578\n10   VALENTINE AVENUE      BRONX   2492\n11     EAST 21 STREET   BROOKLYN   2273\n12    SHERIDAN AVENUE      BRONX   2213\n13     BEDFORD AVENUE   BROOKLYN   2192\n14      BRYANT AVENUE      BRONX   2175\n15      TAYLOR AVENUE      BRONX   2159\n16      MONUMENT WALK   BROOKLYN   2150\n17   LINDEN BOULEVARD   BROOKLYN   2125\n18         PARK PLACE   BROOKLYN   2080\n19      PUTNAM AVENUE   BROOKLYN   2059\n20     CRESTON AVENUE      BRONX   2039\n21     DECATUR AVENUE      BRONX   2013\n22           8 AVENUE  MANHATTAN   1959\n23       GRAND AVENUE      BRONX   1959\n24     WEBSTER AVENUE      BRONX   1900\n25     ELLWOOD STREET  MANHATTAN   1900\n26    RIVERSIDE DRIVE  MANHATTAN   1894\n27      DEKALB AVENUE   BROOKLYN   1860\n28         LENOX ROAD   BROOKLYN   1813\n29      GERARD AVENUE      BRONX   1805\n30     STERLING PLACE   BROOKLYN   1795\n31   ROCKAWAY PARKWAY   BROOKLYN   1773\n32    NEW YORK AVENUE   BROOKLYN   1758\n33       UNION STREET   BROOKLYN   1749\n34    WEST 141 STREET  MANHATTAN   1732\n35     HANCOCK STREET   BROOKLYN   1718\n36      HALSEY STREET   BROOKLYN   1708\n37           1 AVENUE  MANHATTAN   1704\n38         110 STREET     QUEENS   1687\n39       BEACH AVENUE      BRONX   1678\n40           2 AVENUE  MANHATTAN   1652\n41    NOSTRAND AVENUE   BROOKLYN   1646\n42      LINCOLN PLACE   BROOKLYN   1629\n43     PROSPECT PLACE   BROOKLYN   1628\n44     WALLACE AVENUE      BRONX   1622\n45    PROSPECT AVENUE      BRONX   1620\n46    EASTERN PARKWAY   BROOKLYN   1616\n47  WASHINGTON AVENUE      BRONX   1556\n48  WOODYCREST AVENUE      BRONX   1553\n49    WEST 129 STREET  MANHATTAN   1545",
            "text/html": "<div>\n<style scoped>\n    .dataframe tbody tr th:only-of-type {\n        vertical-align: middle;\n    }\n\n    .dataframe tbody tr th {\n        vertical-align: top;\n    }\n\n    .dataframe thead th {\n        text-align: right;\n    }\n</style>\n<table border=\"1\" class=\"dataframe\">\n  <thead>\n    <tr style=\"text-align: right;\">\n      <th></th>\n      <th>street_name</th>\n      <th>borough</th>\n      <th>count</th>\n    </tr>\n  </thead>\n  <tbody>\n    <tr>\n      <th>0</th>\n      <td>GRAND CONCOURSE</td>\n      <td>BRONX</td>\n      <td>7668</td>\n    </tr>\n    <tr>\n      <th>1</th>\n      <td>MORRIS AVENUE</td>\n      <td>BRONX</td>\n      <td>4119</td>\n    </tr>\n    <tr>\n      <th>2</th>\n      <td>BROADWAY</td>\n      <td>MANHATTAN</td>\n      <td>3970</td>\n    </tr>\n    <tr>\n      <th>3</th>\n      <td>OCEAN AVENUE</td>\n      <td>BROOKLYN</td>\n      <td>3820</td>\n    </tr>\n    <tr>\n      <th>4</th>\n      <td>AMSTERDAM AVENUE</td>\n      <td>MANHATTAN</td>\n      <td>3295</td>\n    </tr>\n    <tr>\n      <th>5</th>\n      <td>WALTON AVENUE</td>\n      <td>BRONX</td>\n      <td>3242</td>\n    </tr>\n    <tr>\n      <th>6</th>\n      <td>DAVIDSON AVENUE</td>\n      <td>BRONX</td>\n      <td>3117</td>\n    </tr>\n    <tr>\n      <th>7</th>\n      <td>UNIVERSITY AVENUE</td>\n      <td>BRONX</td>\n      <td>2996</td>\n    </tr>\n    <tr>\n      <th>8</th>\n      <td>HOLLAND AVENUE</td>\n      <td>BRONX</td>\n      <td>2875</td>\n    </tr>\n    <tr>\n      <th>9</th>\n      <td>SHERMAN AVENUE</td>\n      <td>MANHATTAN</td>\n      <td>2578</td>\n    </tr>\n    <tr>\n      <th>10</th>\n      <td>VALENTINE AVENUE</td>\n      <td>BRONX</td>\n      <td>2492</td>\n    </tr>\n    <tr>\n      <th>11</th>\n      <td>EAST 21 STREET</td>\n      <td>BROOKLYN</td>\n      <td>2273</td>\n    </tr>\n    <tr>\n      <th>12</th>\n      <td>SHERIDAN AVENUE</td>\n      <td>BRONX</td>\n      <td>2213</td>\n    </tr>\n    <tr>\n      <th>13</th>\n      <td>BEDFORD AVENUE</td>\n      <td>BROOKLYN</td>\n      <td>2192</td>\n    </tr>\n    <tr>\n      <th>14</th>\n      <td>BRYANT AVENUE</td>\n      <td>BRONX</td>\n      <td>2175</td>\n    </tr>\n    <tr>\n      <th>15</th>\n      <td>TAYLOR AVENUE</td>\n      <td>BRONX</td>\n      <td>2159</td>\n    </tr>\n    <tr>\n      <th>16</th>\n      <td>MONUMENT WALK</td>\n      <td>BROOKLYN</td>\n      <td>2150</td>\n    </tr>\n    <tr>\n      <th>17</th>\n      <td>LINDEN BOULEVARD</td>\n      <td>BROOKLYN</td>\n      <td>2125</td>\n    </tr>\n    <tr>\n      <th>18</th>\n      <td>PARK PLACE</td>\n      <td>BROOKLYN</td>\n      <td>2080</td>\n    </tr>\n    <tr>\n      <th>19</th>\n      <td>PUTNAM AVENUE</td>\n      <td>BROOKLYN</td>\n      <td>2059</td>\n    </tr>\n    <tr>\n      <th>20</th>\n      <td>CRESTON AVENUE</td>\n      <td>BRONX</td>\n      <td>2039</td>\n    </tr>\n    <tr>\n      <th>21</th>\n      <td>DECATUR AVENUE</td>\n      <td>BRONX</td>\n      <td>2013</td>\n    </tr>\n    <tr>\n      <th>22</th>\n      <td>8 AVENUE</td>\n      <td>MANHATTAN</td>\n      <td>1959</td>\n    </tr>\n    <tr>\n      <th>23</th>\n      <td>GRAND AVENUE</td>\n      <td>BRONX</td>\n      <td>1959</td>\n    </tr>\n    <tr>\n      <th>24</th>\n      <td>WEBSTER AVENUE</td>\n      <td>BRONX</td>\n      <td>1900</td>\n    </tr>\n    <tr>\n      <th>25</th>\n      <td>ELLWOOD STREET</td>\n      <td>MANHATTAN</td>\n      <td>1900</td>\n    </tr>\n    <tr>\n      <th>26</th>\n      <td>RIVERSIDE DRIVE</td>\n      <td>MANHATTAN</td>\n      <td>1894</td>\n    </tr>\n    <tr>\n      <th>27</th>\n      <td>DEKALB AVENUE</td>\n      <td>BROOKLYN</td>\n      <td>1860</td>\n    </tr>\n    <tr>\n      <th>28</th>\n      <td>LENOX ROAD</td>\n      <td>BROOKLYN</td>\n      <td>1813</td>\n    </tr>\n    <tr>\n      <th>29</th>\n      <td>GERARD AVENUE</td>\n      <td>BRONX</td>\n      <td>1805</td>\n    </tr>\n    <tr>\n      <th>30</th>\n      <td>STERLING PLACE</td>\n      <td>BROOKLYN</td>\n      <td>1795</td>\n    </tr>\n    <tr>\n      <th>31</th>\n      <td>ROCKAWAY PARKWAY</td>\n      <td>BROOKLYN</td>\n      <td>1773</td>\n    </tr>\n    <tr>\n      <th>32</th>\n      <td>NEW YORK AVENUE</td>\n      <td>BROOKLYN</td>\n      <td>1758</td>\n    </tr>\n    <tr>\n      <th>33</th>\n      <td>UNION STREET</td>\n      <td>BROOKLYN</td>\n      <td>1749</td>\n    </tr>\n    <tr>\n      <th>34</th>\n      <td>WEST 141 STREET</td>\n      <td>MANHATTAN</td>\n      <td>1732</td>\n    </tr>\n    <tr>\n      <th>35</th>\n      <td>HANCOCK STREET</td>\n      <td>BROOKLYN</td>\n      <td>1718</td>\n    </tr>\n    <tr>\n      <th>36</th>\n      <td>HALSEY STREET</td>\n      <td>BROOKLYN</td>\n      <td>1708</td>\n    </tr>\n    <tr>\n      <th>37</th>\n      <td>1 AVENUE</td>\n      <td>MANHATTAN</td>\n      <td>1704</td>\n    </tr>\n    <tr>\n      <th>38</th>\n      <td>110 STREET</td>\n      <td>QUEENS</td>\n      <td>1687</td>\n    </tr>\n    <tr>\n      <th>39</th>\n      <td>BEACH AVENUE</td>\n      <td>BRONX</td>\n      <td>1678</td>\n    </tr>\n    <tr>\n      <th>40</th>\n      <td>2 AVENUE</td>\n      <td>MANHATTAN</td>\n      <td>1652</td>\n    </tr>\n    <tr>\n      <th>41</th>\n      <td>NOSTRAND AVENUE</td>\n      <td>BROOKLYN</td>\n      <td>1646</td>\n    </tr>\n    <tr>\n      <th>42</th>\n      <td>LINCOLN PLACE</td>\n      <td>BROOKLYN</td>\n      <td>1629</td>\n    </tr>\n    <tr>\n      <th>43</th>\n      <td>PROSPECT PLACE</td>\n      <td>BROOKLYN</td>\n      <td>1628</td>\n    </tr>\n    <tr>\n      <th>44</th>\n      <td>WALLACE AVENUE</td>\n      <td>BRONX</td>\n      <td>1622</td>\n    </tr>\n    <tr>\n      <th>45</th>\n      <td>PROSPECT AVENUE</td>\n      <td>BRONX</td>\n      <td>1620</td>\n    </tr>\n    <tr>\n      <th>46</th>\n      <td>EASTERN PARKWAY</td>\n      <td>BROOKLYN</td>\n      <td>1616</td>\n    </tr>\n    <tr>\n      <th>47</th>\n      <td>WASHINGTON AVENUE</td>\n      <td>BRONX</td>\n      <td>1556</td>\n    </tr>\n    <tr>\n      <th>48</th>\n      <td>WOODYCREST AVENUE</td>\n      <td>BRONX</td>\n      <td>1553</td>\n    </tr>\n    <tr>\n      <th>49</th>\n      <td>WEST 129 STREET</td>\n      <td>MANHATTAN</td>\n      <td>1545</td>\n    </tr>\n  </tbody>\n</table>\n</div>"
          },
          "metadata": {}
        }
      ]
    },
    {
      "metadata": {
        "_uuid": "ef06f0f96cdffd2af224c796a423304f914d7da9",
        "_cell_guid": "e53dbcf0-eaba-474f-b83c-fa7fc5e69a81"
      },
      "cell_type": "markdown",
      "source": "What are the top five reasons why New Yorkers call 311 over the past 4 years?\n\n"
    },
    {
      "metadata": {
        "_uuid": "77d0841a15c7675c6e2506e02762ed6892629d59",
        "_cell_guid": "f9ea65cb-a34a-4e54-b7dd-8eb964aba953",
        "trusted": true
      },
      "cell_type": "code",
      "source": "query2 = \"\"\"SELECT\n  Extract(YEAR from created_date) AS year,\n  REPLACE(UPPER(complaint_type), \"HEATING\", \"HEAT/HOT WATER\") as complaint, \n  COUNT(*) AS count\nFROM\n  `bigquery-public-data.new_york.311_service_requests`\nGROUP BY complaint, year\nORDER BY COUNT DESC\nLIMIT 1000;\n        \"\"\"\nresponse2 = nyc.query_to_pandas_safe(query2, max_gb_scanned=10)\nresponse2.head(15)",
      "execution_count": 7,
      "outputs": [
        {
          "output_type": "execute_result",
          "execution_count": 7,
          "data": {
            "text/plain": "    year            complaint   count\n0   2014       HEAT/HOT WATER  230364\n1   2017  NOISE - RESIDENTIAL  230152\n2   2016       HEAT/HOT WATER  227959\n3   2015       HEAT/HOT WATER  225706\n4   2016  NOISE - RESIDENTIAL  221906\n5   2010       HEAT/HOT WATER  214218\n6   2017       HEAT/HOT WATER  213521\n7   2015  NOISE - RESIDENTIAL  208026\n8   2013       HEAT/HOT WATER  202896\n9   2014  NOISE - RESIDENTIAL  192608\n10  2011       HEAT/HOT WATER  190184\n11  2012       HEAT/HOT WATER  182974\n12  2013  NOISE - RESIDENTIAL  151516\n13  2017      ILLEGAL PARKING  146122\n14  2017     BLOCKED DRIVEWAY  136097",
            "text/html": "<div>\n<style scoped>\n    .dataframe tbody tr th:only-of-type {\n        vertical-align: middle;\n    }\n\n    .dataframe tbody tr th {\n        vertical-align: top;\n    }\n\n    .dataframe thead th {\n        text-align: right;\n    }\n</style>\n<table border=\"1\" class=\"dataframe\">\n  <thead>\n    <tr style=\"text-align: right;\">\n      <th></th>\n      <th>year</th>\n      <th>complaint</th>\n      <th>count</th>\n    </tr>\n  </thead>\n  <tbody>\n    <tr>\n      <th>0</th>\n      <td>2014</td>\n      <td>HEAT/HOT WATER</td>\n      <td>230364</td>\n    </tr>\n    <tr>\n      <th>1</th>\n      <td>2017</td>\n      <td>NOISE - RESIDENTIAL</td>\n      <td>230152</td>\n    </tr>\n    <tr>\n      <th>2</th>\n      <td>2016</td>\n      <td>HEAT/HOT WATER</td>\n      <td>227959</td>\n    </tr>\n    <tr>\n      <th>3</th>\n      <td>2015</td>\n      <td>HEAT/HOT WATER</td>\n      <td>225706</td>\n    </tr>\n    <tr>\n      <th>4</th>\n      <td>2016</td>\n      <td>NOISE - RESIDENTIAL</td>\n      <td>221906</td>\n    </tr>\n    <tr>\n      <th>5</th>\n      <td>2010</td>\n      <td>HEAT/HOT WATER</td>\n      <td>214218</td>\n    </tr>\n    <tr>\n      <th>6</th>\n      <td>2017</td>\n      <td>HEAT/HOT WATER</td>\n      <td>213521</td>\n    </tr>\n    <tr>\n      <th>7</th>\n      <td>2015</td>\n      <td>NOISE - RESIDENTIAL</td>\n      <td>208026</td>\n    </tr>\n    <tr>\n      <th>8</th>\n      <td>2013</td>\n      <td>HEAT/HOT WATER</td>\n      <td>202896</td>\n    </tr>\n    <tr>\n      <th>9</th>\n      <td>2014</td>\n      <td>NOISE - RESIDENTIAL</td>\n      <td>192608</td>\n    </tr>\n    <tr>\n      <th>10</th>\n      <td>2011</td>\n      <td>HEAT/HOT WATER</td>\n      <td>190184</td>\n    </tr>\n    <tr>\n      <th>11</th>\n      <td>2012</td>\n      <td>HEAT/HOT WATER</td>\n      <td>182974</td>\n    </tr>\n    <tr>\n      <th>12</th>\n      <td>2013</td>\n      <td>NOISE - RESIDENTIAL</td>\n      <td>151516</td>\n    </tr>\n    <tr>\n      <th>13</th>\n      <td>2017</td>\n      <td>ILLEGAL PARKING</td>\n      <td>146122</td>\n    </tr>\n    <tr>\n      <th>14</th>\n      <td>2017</td>\n      <td>BLOCKED DRIVEWAY</td>\n      <td>136097</td>\n    </tr>\n  </tbody>\n</table>\n</div>"
          },
          "metadata": {}
        }
      ]
    },
    {
      "metadata": {
        "_uuid": "4da5ec66eb5087c1eb195a4ca0f02993b8dcb4fa",
        "_cell_guid": "2af084a5-76a3-405c-b2a6-8aa3c4ec6463"
      },
      "cell_type": "markdown",
      "source": "![](https://cloud.google.com/blog/big-data/2017/01/images/148467900588042/nyc-dataset-1.png)\nhttps://cloud.google.com/blog/big-data/2017/01/images/148467900588042/nyc-dataset-1.png"
    },
    {
      "metadata": {
        "_uuid": "03b7f712e458da8be3ad91b4a96b7dad4f282e3b",
        "_cell_guid": "e5ea144c-7388-4dbd-99ce-c144d75855a4"
      },
      "cell_type": "markdown",
      "source": "Can you find the Virginia Pines in New York City?\n"
    },
    {
      "metadata": {
        "_uuid": "0152ea40338a49e490215d65b9fefa22a5d27943",
        "_cell_guid": "fad6f9b7-b877-4c64-86f2-e6bd43d8a0ed",
        "trusted": true
      },
      "cell_type": "code",
      "source": "query3 = \"\"\"SELECT\n  Latitude,\n  Longitude\nFROM\n  `bigquery-public-data.new_york.tree_census_2015`\nWHERE\n  spc_common=\"Virginia pine\";\n        \"\"\"\nresponse3 = nyc.query_to_pandas_safe(query3, max_gb_scanned=10)\nresponse3.head(15)",
      "execution_count": 8,
      "outputs": [
        {
          "output_type": "execute_result",
          "execution_count": 8,
          "data": {
            "text/plain": "    Latitude  Longitude\n0  40.725547 -73.978741\n1  40.724112 -73.985056\n2  40.786300 -73.973990\n3  40.704530 -73.903470\n4  40.692954 -73.794684\n5  40.676955 -73.899443\n6  40.676982 -73.899192\n7  40.667671 -73.987426\n8  40.868704 -73.848901\n9  40.742036 -73.715848",
            "text/html": "<div>\n<style scoped>\n    .dataframe tbody tr th:only-of-type {\n        vertical-align: middle;\n    }\n\n    .dataframe tbody tr th {\n        vertical-align: top;\n    }\n\n    .dataframe thead th {\n        text-align: right;\n    }\n</style>\n<table border=\"1\" class=\"dataframe\">\n  <thead>\n    <tr style=\"text-align: right;\">\n      <th></th>\n      <th>Latitude</th>\n      <th>Longitude</th>\n    </tr>\n  </thead>\n  <tbody>\n    <tr>\n      <th>0</th>\n      <td>40.725547</td>\n      <td>-73.978741</td>\n    </tr>\n    <tr>\n      <th>1</th>\n      <td>40.724112</td>\n      <td>-73.985056</td>\n    </tr>\n    <tr>\n      <th>2</th>\n      <td>40.786300</td>\n      <td>-73.973990</td>\n    </tr>\n    <tr>\n      <th>3</th>\n      <td>40.704530</td>\n      <td>-73.903470</td>\n    </tr>\n    <tr>\n      <th>4</th>\n      <td>40.692954</td>\n      <td>-73.794684</td>\n    </tr>\n    <tr>\n      <th>5</th>\n      <td>40.676955</td>\n      <td>-73.899443</td>\n    </tr>\n    <tr>\n      <th>6</th>\n      <td>40.676982</td>\n      <td>-73.899192</td>\n    </tr>\n    <tr>\n      <th>7</th>\n      <td>40.667671</td>\n      <td>-73.987426</td>\n    </tr>\n    <tr>\n      <th>8</th>\n      <td>40.868704</td>\n      <td>-73.848901</td>\n    </tr>\n    <tr>\n      <th>9</th>\n      <td>40.742036</td>\n      <td>-73.715848</td>\n    </tr>\n  </tbody>\n</table>\n</div>"
          },
          "metadata": {}
        }
      ]
    },
    {
      "metadata": {
        "_uuid": "4ea01fdffbac100086dfc3bb7e61ad5245355353",
        "_cell_guid": "0db5ec23-bb71-4e0f-9369-d7b84809d405"
      },
      "cell_type": "markdown",
      "source": "Where can you find the most of your favorite type of tree?"
    },
    {
      "metadata": {
        "_uuid": "d597435820237905733ce8d5897a29f34af22dd7",
        "_cell_guid": "44cacead-3add-4047-bb10-b5f705b99656",
        "trusted": true
      },
      "cell_type": "code",
      "source": "query3 = \"\"\"SELECT\n  UPPER(spc_common) AS common_name,\n  ROUND(latitude, 1) AS lat,\n  ROUND(longitude, 1) AS long,\n  COUNT(*) AS tree_count\nFROM\n  `bigquery-public-data.new_york.tree_census_2015`\nGROUP BY\n  spc_common,\n  spc_latin,\n  lat,\n  long\nORDER BY\n  tree_count DESC;\n        \"\"\"\nresponse3 = nyc.query_to_pandas_safe(query3, max_gb_scanned=10)\nresponse3.head(15)",
      "execution_count": 9,
      "outputs": [
        {
          "output_type": "execute_result",
          "execution_count": 9,
          "data": {
            "text/plain": "         common_name   lat  long  tree_count\n0   LONDON PLANETREE  40.7 -73.9       12940\n1   LONDON PLANETREE  40.6 -74.0       12528\n2   LONDON PLANETREE  40.7 -73.8       11916\n3        HONEYLOCUST  40.7 -73.9       11658\n4       CALLERY PEAR  40.5 -74.2       11483\n5   LONDON PLANETREE  40.6 -73.9       10471\n6        HONEYLOCUST  40.8 -73.9       10096\n7            PIN OAK  40.7 -73.8        9056\n8        HONEYLOCUST  40.7 -74.0        8389\n9            PIN OAK  40.7 -73.9        7186\n10      NORWAY MAPLE  40.7 -73.8        7075\n11  LONDON PLANETREE  40.6 -74.1        6655\n12  LONDON PLANETREE  40.8 -73.9        6617\n13  LONDON PLANETREE  40.7 -74.0        6527\n14       HONEYLOCUST  40.7 -73.8        6249",
            "text/html": "<div>\n<style scoped>\n    .dataframe tbody tr th:only-of-type {\n        vertical-align: middle;\n    }\n\n    .dataframe tbody tr th {\n        vertical-align: top;\n    }\n\n    .dataframe thead th {\n        text-align: right;\n    }\n</style>\n<table border=\"1\" class=\"dataframe\">\n  <thead>\n    <tr style=\"text-align: right;\">\n      <th></th>\n      <th>common_name</th>\n      <th>lat</th>\n      <th>long</th>\n      <th>tree_count</th>\n    </tr>\n  </thead>\n  <tbody>\n    <tr>\n      <th>0</th>\n      <td>LONDON PLANETREE</td>\n      <td>40.7</td>\n      <td>-73.9</td>\n      <td>12940</td>\n    </tr>\n    <tr>\n      <th>1</th>\n      <td>LONDON PLANETREE</td>\n      <td>40.6</td>\n      <td>-74.0</td>\n      <td>12528</td>\n    </tr>\n    <tr>\n      <th>2</th>\n      <td>LONDON PLANETREE</td>\n      <td>40.7</td>\n      <td>-73.8</td>\n      <td>11916</td>\n    </tr>\n    <tr>\n      <th>3</th>\n      <td>HONEYLOCUST</td>\n      <td>40.7</td>\n      <td>-73.9</td>\n      <td>11658</td>\n    </tr>\n    <tr>\n      <th>4</th>\n      <td>CALLERY PEAR</td>\n      <td>40.5</td>\n      <td>-74.2</td>\n      <td>11483</td>\n    </tr>\n    <tr>\n      <th>5</th>\n      <td>LONDON PLANETREE</td>\n      <td>40.6</td>\n      <td>-73.9</td>\n      <td>10471</td>\n    </tr>\n    <tr>\n      <th>6</th>\n      <td>HONEYLOCUST</td>\n      <td>40.8</td>\n      <td>-73.9</td>\n      <td>10096</td>\n    </tr>\n    <tr>\n      <th>7</th>\n      <td>PIN OAK</td>\n      <td>40.7</td>\n      <td>-73.8</td>\n      <td>9056</td>\n    </tr>\n    <tr>\n      <th>8</th>\n      <td>HONEYLOCUST</td>\n      <td>40.7</td>\n      <td>-74.0</td>\n      <td>8389</td>\n    </tr>\n    <tr>\n      <th>9</th>\n      <td>PIN OAK</td>\n      <td>40.7</td>\n      <td>-73.9</td>\n      <td>7186</td>\n    </tr>\n    <tr>\n      <th>10</th>\n      <td>NORWAY MAPLE</td>\n      <td>40.7</td>\n      <td>-73.8</td>\n      <td>7075</td>\n    </tr>\n    <tr>\n      <th>11</th>\n      <td>LONDON PLANETREE</td>\n      <td>40.6</td>\n      <td>-74.1</td>\n      <td>6655</td>\n    </tr>\n    <tr>\n      <th>12</th>\n      <td>LONDON PLANETREE</td>\n      <td>40.8</td>\n      <td>-73.9</td>\n      <td>6617</td>\n    </tr>\n    <tr>\n      <th>13</th>\n      <td>LONDON PLANETREE</td>\n      <td>40.7</td>\n      <td>-74.0</td>\n      <td>6527</td>\n    </tr>\n    <tr>\n      <th>14</th>\n      <td>HONEYLOCUST</td>\n      <td>40.7</td>\n      <td>-73.8</td>\n      <td>6249</td>\n    </tr>\n  </tbody>\n</table>\n</div>"
          },
          "metadata": {}
        }
      ]
    },
    {
      "metadata": {
        "_uuid": "3651b70145f2b4a56aab82a76b5991ba1ae5f826",
        "_cell_guid": "01e0ffca-a4f9-4da7-a0e7-bca45e39b98d"
      },
      "cell_type": "markdown",
      "source": "What are the most popular types of tree in New York City?"
    },
    {
      "metadata": {
        "_uuid": "450d392be87f17bcf55e86d2ee1c42f6b24d539d",
        "_cell_guid": "87ba4e16-08e7-4325-b0ab-e35a0cf07479",
        "trusted": true
      },
      "cell_type": "code",
      "source": "query4 = \"\"\"SELECT\n  UPPER(spc_common) as common_name,\n  UPPER(spc_latin) as latin_name,\n  COUNT(*) AS tree_count\nFROM\n  `bigquery-public-data.new_york.tree_census_2015`\nGROUP BY\n  spc_common,\n  spc_latin\nORDER BY\n  tree_count DESC\nLIMIT\n  10;\n        \"\"\"\nresponse4 = nyc.query_to_pandas_safe(query4, max_gb_scanned=10)\nresponse4.head(15)",
      "execution_count": 10,
      "outputs": [
        {
          "output_type": "execute_result",
          "execution_count": 10,
          "data": {
            "text/plain": "         common_name                          latin_name  tree_count\n0   LONDON PLANETREE               PLATANUS X ACERIFOLIA       87014\n1        HONEYLOCUST  GLEDITSIA TRIACANTHOS VAR. INERMIS       64264\n2       CALLERY PEAR                    PYRUS CALLERYANA       58931\n3            PIN OAK                   QUERCUS PALUSTRIS       53185\n4       NORWAY MAPLE                    ACER PLATANOIDES       34189\n5                                                              31619\n6  LITTLELEAF LINDEN                       TILIA CORDATA       29742\n7             CHERRY                              PRUNUS       29279\n8   JAPANESE ZELKOVA                     ZELKOVA SERRATA       29258\n9             GINKGO                       GINKGO BILOBA       21024",
            "text/html": "<div>\n<style scoped>\n    .dataframe tbody tr th:only-of-type {\n        vertical-align: middle;\n    }\n\n    .dataframe tbody tr th {\n        vertical-align: top;\n    }\n\n    .dataframe thead th {\n        text-align: right;\n    }\n</style>\n<table border=\"1\" class=\"dataframe\">\n  <thead>\n    <tr style=\"text-align: right;\">\n      <th></th>\n      <th>common_name</th>\n      <th>latin_name</th>\n      <th>tree_count</th>\n    </tr>\n  </thead>\n  <tbody>\n    <tr>\n      <th>0</th>\n      <td>LONDON PLANETREE</td>\n      <td>PLATANUS X ACERIFOLIA</td>\n      <td>87014</td>\n    </tr>\n    <tr>\n      <th>1</th>\n      <td>HONEYLOCUST</td>\n      <td>GLEDITSIA TRIACANTHOS VAR. INERMIS</td>\n      <td>64264</td>\n    </tr>\n    <tr>\n      <th>2</th>\n      <td>CALLERY PEAR</td>\n      <td>PYRUS CALLERYANA</td>\n      <td>58931</td>\n    </tr>\n    <tr>\n      <th>3</th>\n      <td>PIN OAK</td>\n      <td>QUERCUS PALUSTRIS</td>\n      <td>53185</td>\n    </tr>\n    <tr>\n      <th>4</th>\n      <td>NORWAY MAPLE</td>\n      <td>ACER PLATANOIDES</td>\n      <td>34189</td>\n    </tr>\n    <tr>\n      <th>5</th>\n      <td></td>\n      <td></td>\n      <td>31619</td>\n    </tr>\n    <tr>\n      <th>6</th>\n      <td>LITTLELEAF LINDEN</td>\n      <td>TILIA CORDATA</td>\n      <td>29742</td>\n    </tr>\n    <tr>\n      <th>7</th>\n      <td>CHERRY</td>\n      <td>PRUNUS</td>\n      <td>29279</td>\n    </tr>\n    <tr>\n      <th>8</th>\n      <td>JAPANESE ZELKOVA</td>\n      <td>ZELKOVA SERRATA</td>\n      <td>29258</td>\n    </tr>\n    <tr>\n      <th>9</th>\n      <td>GINKGO</td>\n      <td>GINKGO BILOBA</td>\n      <td>21024</td>\n    </tr>\n  </tbody>\n</table>\n</div>"
          },
          "metadata": {}
        }
      ]
    },
    {
      "metadata": {
        "_uuid": "5122198ad12508dc52be0fe46cdd84981f511ee3",
        "_cell_guid": "97949f14-cb23-4f07-acf1-c25eb6c27a5b"
      },
      "cell_type": "markdown",
      "source": "How many times have animals injured cyclists in New York City?\n"
    },
    {
      "metadata": {
        "_uuid": "b79f5f5b997168585b09193b95df4c99d2b1afe8",
        "_cell_guid": "bdb6e0e4-619a-43fd-954f-919f93cbc2d5",
        "trusted": true
      },
      "cell_type": "code",
      "source": "query5 = \"\"\"SELECT\n  contributing_factor_vehicle_1,\n  number_of_cyclist_injured,\n  latitude,\n  longitude\nFROM\n  `bigquery-public-data.new_york.nypd_mv_collisions`\nWHERE\n  STRPOS(contributing_factor_vehicle_1,\"Animal\") > 0\n  AND number_of_cyclist_injured > 0;\n        \"\"\"\nresponse5 = nyc.query_to_pandas_safe(query5, max_gb_scanned=10)\nresponse5.head(15)",
      "execution_count": 11,
      "outputs": [
        {
          "output_type": "execute_result",
          "execution_count": 11,
          "data": {
            "text/plain": "  contributing_factor_vehicle_1  number_of_cyclist_injured   latitude  \\\n0                Animals Action                          1        NaN   \n1                Animals Action                          1        NaN   \n2                Animals Action                          1  40.798290   \n3                Animals Action                          1  40.779940   \n4                Animals Action                          1  40.640568   \n\n   longitude  \n0        NaN  \n1        NaN  \n2 -73.951840  \n3 -73.971030  \n4 -73.969167  ",
            "text/html": "<div>\n<style scoped>\n    .dataframe tbody tr th:only-of-type {\n        vertical-align: middle;\n    }\n\n    .dataframe tbody tr th {\n        vertical-align: top;\n    }\n\n    .dataframe thead th {\n        text-align: right;\n    }\n</style>\n<table border=\"1\" class=\"dataframe\">\n  <thead>\n    <tr style=\"text-align: right;\">\n      <th></th>\n      <th>contributing_factor_vehicle_1</th>\n      <th>number_of_cyclist_injured</th>\n      <th>latitude</th>\n      <th>longitude</th>\n    </tr>\n  </thead>\n  <tbody>\n    <tr>\n      <th>0</th>\n      <td>Animals Action</td>\n      <td>1</td>\n      <td>NaN</td>\n      <td>NaN</td>\n    </tr>\n    <tr>\n      <th>1</th>\n      <td>Animals Action</td>\n      <td>1</td>\n      <td>NaN</td>\n      <td>NaN</td>\n    </tr>\n    <tr>\n      <th>2</th>\n      <td>Animals Action</td>\n      <td>1</td>\n      <td>40.798290</td>\n      <td>-73.951840</td>\n    </tr>\n    <tr>\n      <th>3</th>\n      <td>Animals Action</td>\n      <td>1</td>\n      <td>40.779940</td>\n      <td>-73.971030</td>\n    </tr>\n    <tr>\n      <th>4</th>\n      <td>Animals Action</td>\n      <td>1</td>\n      <td>40.640568</td>\n      <td>-73.969167</td>\n    </tr>\n  </tbody>\n</table>\n</div>"
          },
          "metadata": {}
        }
      ]
    },
    {
      "metadata": {
        "_uuid": "75ce028d445fbc966c47f9d8af74e75b6aa32ac7",
        "_cell_guid": "ed34801e-9849-40da-9244-ef0f40571d98"
      },
      "cell_type": "markdown",
      "source": " How many motor vehicle accidents, injuries, and deaths are there per year in New York City?\n"
    },
    {
      "metadata": {
        "_uuid": "4c7df374f0bc0833593ab53b62fbe2e34554c3eb",
        "_cell_guid": "0c4ec054-d1a3-449f-a8ac-cb8e2e76a6af",
        "trusted": true
      },
      "cell_type": "code",
      "source": "query6 = \"\"\"SELECT\n  EXTRACT(YEAR FROM timestamp) AS Year,\n  COUNT(*) AS Accidents,\n  SUM( number_of_persons_injured ) AS Injuries,\n  SUM( number_of_persons_killed) AS Deaths\nFROM\n  `bigquery-public-data.new_york.nypd_mv_collisions`\nGROUP BY\n  Year\nORDER BY\n  Year ASC;\n        \"\"\"\nresponse6 = nyc.query_to_pandas_safe(query6, max_gb_scanned=10)\nresponse6.head(15)",
      "execution_count": 12,
      "outputs": [
        {
          "output_type": "execute_result",
          "execution_count": 12,
          "data": {
            "text/plain": "   Year  Accidents  Injuries  Deaths\n0  2012     100537     27451     137\n1  2013     203720     55121     297\n2  2014     206019     51216     262\n3  2015     217657     51354     243\n4  2016     227808     58888     237\n5  2017     229162     60043     247\n6  2018      12037      2826       7",
            "text/html": "<div>\n<style scoped>\n    .dataframe tbody tr th:only-of-type {\n        vertical-align: middle;\n    }\n\n    .dataframe tbody tr th {\n        vertical-align: top;\n    }\n\n    .dataframe thead th {\n        text-align: right;\n    }\n</style>\n<table border=\"1\" class=\"dataframe\">\n  <thead>\n    <tr style=\"text-align: right;\">\n      <th></th>\n      <th>Year</th>\n      <th>Accidents</th>\n      <th>Injuries</th>\n      <th>Deaths</th>\n    </tr>\n  </thead>\n  <tbody>\n    <tr>\n      <th>0</th>\n      <td>2012</td>\n      <td>100537</td>\n      <td>27451</td>\n      <td>137</td>\n    </tr>\n    <tr>\n      <th>1</th>\n      <td>2013</td>\n      <td>203720</td>\n      <td>55121</td>\n      <td>297</td>\n    </tr>\n    <tr>\n      <th>2</th>\n      <td>2014</td>\n      <td>206019</td>\n      <td>51216</td>\n      <td>262</td>\n    </tr>\n    <tr>\n      <th>3</th>\n      <td>2015</td>\n      <td>217657</td>\n      <td>51354</td>\n      <td>243</td>\n    </tr>\n    <tr>\n      <th>4</th>\n      <td>2016</td>\n      <td>227808</td>\n      <td>58888</td>\n      <td>237</td>\n    </tr>\n    <tr>\n      <th>5</th>\n      <td>2017</td>\n      <td>229162</td>\n      <td>60043</td>\n      <td>247</td>\n    </tr>\n    <tr>\n      <th>6</th>\n      <td>2018</td>\n      <td>12037</td>\n      <td>2826</td>\n      <td>7</td>\n    </tr>\n  </tbody>\n</table>\n</div>"
          },
          "metadata": {}
        }
      ]
    },
    {
      "metadata": {
        "_uuid": "c8222258c8205931f027871d97de84e279426c00",
        "_cell_guid": "38e9bbe1-c6cb-4c7c-9991-36a174a05dfe"
      },
      "cell_type": "markdown",
      "source": "![](https://cloud.google.com/blog/big-data/2017/01/images/148467900588042/nyc-dataset-4.png)\nhttps://cloud.google.com/blog/big-data/2017/01/images/148467900588042/nyc-dataset-4.png"
    },
    {
      "metadata": {
        "_uuid": "d440314051979d30355c09707b318d01775b2d84",
        "_cell_guid": "2442ed34-58b8-4659-91cb-2348e0b9606b"
      },
      "cell_type": "markdown",
      "source": "What causes these types of motor vehicle accidents?"
    },
    {
      "metadata": {
        "_uuid": "919d614fd34e811fbb41da22cb448ca49cb222cb",
        "_cell_guid": "8e49932d-efb7-4eb5-b850-bcf8c7d2d764",
        "trusted": true
      },
      "cell_type": "code",
      "source": "query7 = \"\"\"SELECT\n  contributing_factor_vehicle_1,\n  COUNT(*) AS accidents,\n  SUM(number_of_persons_injured) AS injuries,\n  SUM(number_of_persons_killed) AS deaths,\n  ROUND(100*(SUM( number_of_persons_killed) / COUNT(*)), 3) as pct_causing_death\nFROM\n  `bigquery-public-data.new_york.nypd_mv_collisions`\nGROUP BY\n  contributing_factor_vehicle_1\nORDER BY\n  accidents DESC,\n  pct_causing_death DESC;\n        \"\"\"\nresponse7 = nyc.query_to_pandas_safe(query7, max_gb_scanned=10)\nresponse7.head(15)",
      "execution_count": 13,
      "outputs": [
        {
          "output_type": "execute_result",
          "execution_count": 13,
          "data": {
            "text/plain": "     contributing_factor_vehicle_1  accidents  injuries  deaths  \\\n0                      Unspecified     575796    137512     637   \n1   Driver Inattention/Distraction     176170     45894     159   \n2    Failure to Yield Right-of-Way      57298     23475     105   \n3                  Fatigued/Drowsy      48495     12517       3   \n4                 Backing Unsafely      37916      3834      19   \n5                  Other Vehicular      36038      6922      18   \n6            Following Too Closely      31636      9849      17   \n7               Turning Improperly      29288      4155       6   \n8               Lost Consciousness      20261      2408      10   \n9      Traffic Control Disregarded      16190      9680     150   \n10         Prescription Medication      15904      3139       7   \n11             Driver Inexperience      15637      3659      19   \n12  Passing or Lane Usage Improper      14820      1905       8   \n13            Unsafe Lane Changing      12472      1783       1   \n14               Pavement Slippery      12188      3373       6   \n\n    pct_causing_death  \n0               0.111  \n1               0.090  \n2               0.183  \n3               0.006  \n4               0.050  \n5               0.050  \n6               0.054  \n7               0.020  \n8               0.049  \n9               0.926  \n10              0.044  \n11              0.122  \n12              0.054  \n13              0.008  \n14              0.049  ",
            "text/html": "<div>\n<style scoped>\n    .dataframe tbody tr th:only-of-type {\n        vertical-align: middle;\n    }\n\n    .dataframe tbody tr th {\n        vertical-align: top;\n    }\n\n    .dataframe thead th {\n        text-align: right;\n    }\n</style>\n<table border=\"1\" class=\"dataframe\">\n  <thead>\n    <tr style=\"text-align: right;\">\n      <th></th>\n      <th>contributing_factor_vehicle_1</th>\n      <th>accidents</th>\n      <th>injuries</th>\n      <th>deaths</th>\n      <th>pct_causing_death</th>\n    </tr>\n  </thead>\n  <tbody>\n    <tr>\n      <th>0</th>\n      <td>Unspecified</td>\n      <td>575796</td>\n      <td>137512</td>\n      <td>637</td>\n      <td>0.111</td>\n    </tr>\n    <tr>\n      <th>1</th>\n      <td>Driver Inattention/Distraction</td>\n      <td>176170</td>\n      <td>45894</td>\n      <td>159</td>\n      <td>0.090</td>\n    </tr>\n    <tr>\n      <th>2</th>\n      <td>Failure to Yield Right-of-Way</td>\n      <td>57298</td>\n      <td>23475</td>\n      <td>105</td>\n      <td>0.183</td>\n    </tr>\n    <tr>\n      <th>3</th>\n      <td>Fatigued/Drowsy</td>\n      <td>48495</td>\n      <td>12517</td>\n      <td>3</td>\n      <td>0.006</td>\n    </tr>\n    <tr>\n      <th>4</th>\n      <td>Backing Unsafely</td>\n      <td>37916</td>\n      <td>3834</td>\n      <td>19</td>\n      <td>0.050</td>\n    </tr>\n    <tr>\n      <th>5</th>\n      <td>Other Vehicular</td>\n      <td>36038</td>\n      <td>6922</td>\n      <td>18</td>\n      <td>0.050</td>\n    </tr>\n    <tr>\n      <th>6</th>\n      <td>Following Too Closely</td>\n      <td>31636</td>\n      <td>9849</td>\n      <td>17</td>\n      <td>0.054</td>\n    </tr>\n    <tr>\n      <th>7</th>\n      <td>Turning Improperly</td>\n      <td>29288</td>\n      <td>4155</td>\n      <td>6</td>\n      <td>0.020</td>\n    </tr>\n    <tr>\n      <th>8</th>\n      <td>Lost Consciousness</td>\n      <td>20261</td>\n      <td>2408</td>\n      <td>10</td>\n      <td>0.049</td>\n    </tr>\n    <tr>\n      <th>9</th>\n      <td>Traffic Control Disregarded</td>\n      <td>16190</td>\n      <td>9680</td>\n      <td>150</td>\n      <td>0.926</td>\n    </tr>\n    <tr>\n      <th>10</th>\n      <td>Prescription Medication</td>\n      <td>15904</td>\n      <td>3139</td>\n      <td>7</td>\n      <td>0.044</td>\n    </tr>\n    <tr>\n      <th>11</th>\n      <td>Driver Inexperience</td>\n      <td>15637</td>\n      <td>3659</td>\n      <td>19</td>\n      <td>0.122</td>\n    </tr>\n    <tr>\n      <th>12</th>\n      <td>Passing or Lane Usage Improper</td>\n      <td>14820</td>\n      <td>1905</td>\n      <td>8</td>\n      <td>0.054</td>\n    </tr>\n    <tr>\n      <th>13</th>\n      <td>Unsafe Lane Changing</td>\n      <td>12472</td>\n      <td>1783</td>\n      <td>1</td>\n      <td>0.008</td>\n    </tr>\n    <tr>\n      <th>14</th>\n      <td>Pavement Slippery</td>\n      <td>12188</td>\n      <td>3373</td>\n      <td>6</td>\n      <td>0.049</td>\n    </tr>\n  </tbody>\n</table>\n</div>"
          },
          "metadata": {}
        }
      ]
    },
    {
      "metadata": {
        "_uuid": "03378cca0a3b8566b9c62adc0c4e01bbcf8883cd",
        "_cell_guid": "7fa7dd00-0895-4e6d-8065-946ceb9be51c"
      },
      "cell_type": "markdown",
      "source": "![](https://cloud.google.com/blog/big-data/2017/01/images/148467900588042/nyc-dataset-5.png)\nhttps://cloud.google.com/blog/big-data/2017/01/images/148467900588042/nyc-dataset-5.png"
    },
    {
      "metadata": {
        "_uuid": "35b2403b47cd6e063f5b79a0a22dce41a937711f",
        "_cell_guid": "8e476d82-1c70-4dbd-83b9-bc78c64ce2ef"
      },
      "cell_type": "markdown",
      "source": "Where do these motor vehicle accidents occur?"
    },
    {
      "metadata": {
        "_uuid": "17930871fbfca5c81ddfa498a0d598f233b578ef",
        "_cell_guid": "7aa6cbf2-def4-47fd-8c3a-3adc73271afa",
        "trusted": true
      },
      "cell_type": "code",
      "source": "query8 = \"\"\"SELECT\n  borough,\n  COUNT(*) AS accidents,\n  SUM(number_of_persons_killed) AS deaths,\n  ROUND(100*SUM(number_of_persons_killed)/COUNT(*), 3) as pct_deaths\nFROM\n  `bigquery-public-data.new_york.nypd_mv_collisions`\nWHERE\n  borough != \"\"\nGROUP BY\n  borough\nORDER BY\n  accidents DESC;\n        \"\"\"\nresponse8 = nyc.query_to_pandas_safe(query8, max_gb_scanned=10)\nresponse8.head(15)",
      "execution_count": 14,
      "outputs": [
        {
          "output_type": "execute_result",
          "execution_count": 14,
          "data": {
            "text/plain": "         borough  accidents  deaths  pct_deaths\n0       BROOKLYN     263715     307       0.116\n1         QUEENS     224092     272       0.121\n2      MANHATTAN     215819     181       0.084\n3          BRONX     114287     130       0.114\n4  STATEN ISLAND      39435      54       0.137",
            "text/html": "<div>\n<style scoped>\n    .dataframe tbody tr th:only-of-type {\n        vertical-align: middle;\n    }\n\n    .dataframe tbody tr th {\n        vertical-align: top;\n    }\n\n    .dataframe thead th {\n        text-align: right;\n    }\n</style>\n<table border=\"1\" class=\"dataframe\">\n  <thead>\n    <tr style=\"text-align: right;\">\n      <th></th>\n      <th>borough</th>\n      <th>accidents</th>\n      <th>deaths</th>\n      <th>pct_deaths</th>\n    </tr>\n  </thead>\n  <tbody>\n    <tr>\n      <th>0</th>\n      <td>BROOKLYN</td>\n      <td>263715</td>\n      <td>307</td>\n      <td>0.116</td>\n    </tr>\n    <tr>\n      <th>1</th>\n      <td>QUEENS</td>\n      <td>224092</td>\n      <td>272</td>\n      <td>0.121</td>\n    </tr>\n    <tr>\n      <th>2</th>\n      <td>MANHATTAN</td>\n      <td>215819</td>\n      <td>181</td>\n      <td>0.084</td>\n    </tr>\n    <tr>\n      <th>3</th>\n      <td>BRONX</td>\n      <td>114287</td>\n      <td>130</td>\n      <td>0.114</td>\n    </tr>\n    <tr>\n      <th>4</th>\n      <td>STATEN ISLAND</td>\n      <td>39435</td>\n      <td>54</td>\n      <td>0.137</td>\n    </tr>\n  </tbody>\n</table>\n</div>"
          },
          "metadata": {}
        }
      ]
    },
    {
      "metadata": {
        "_uuid": "335eb18f2f73f5eeed0b10cedcca89ef7571f065",
        "_cell_guid": "401177f3-1f0b-42d7-a243-2106cad14287"
      },
      "cell_type": "markdown",
      "source": "![](https://cloud.google.com/blog/big-data/2017/01/images/148467900588042/nyc-dataset-6.png)\nhttps://cloud.google.com/blog/big-data/2017/01/images/148467900588042/nyc-dataset-6.png"
    },
    {
      "metadata": {
        "_uuid": "05a682d1c0a538b936fe30cc3368402d6611d5a2",
        "_cell_guid": "de25e0d8-1b46-41ec-a14c-c0daa8fef3a3"
      },
      "cell_type": "markdown",
      "source": "What is the ratio of motorist deaths to cyclist deaths?"
    },
    {
      "metadata": {
        "_uuid": "c0a55d7ffe5857d45935ddc22282c16849c5b5cb",
        "_cell_guid": "92884c9a-5a9f-486f-bd23-f67f335fe0df",
        "trusted": true
      },
      "cell_type": "code",
      "source": "query9 = \"\"\"SELECT\n  SUM(number_of_motorist_killed) AS motorist_deaths,\n  SUM(number_of_cyclist_killed) AS cyclist_deaths,\n  SUM(number_of_motorist_killed) / SUM(number_of_cyclist_killed) AS ratio\nFROM\n  `bigquery-public-data.new_york.nypd_mv_collisions`;\n        \"\"\"\nresponse9 = nyc.query_to_pandas_safe(query9, max_gb_scanned=10)\nresponse9.head(15)",
      "execution_count": 15,
      "outputs": [
        {
          "output_type": "execute_result",
          "execution_count": 15,
          "data": {
            "text/plain": "   motorist_deaths  cyclist_deaths  ratio\n0              544             100   5.44",
            "text/html": "<div>\n<style scoped>\n    .dataframe tbody tr th:only-of-type {\n        vertical-align: middle;\n    }\n\n    .dataframe tbody tr th {\n        vertical-align: top;\n    }\n\n    .dataframe thead th {\n        text-align: right;\n    }\n</style>\n<table border=\"1\" class=\"dataframe\">\n  <thead>\n    <tr style=\"text-align: right;\">\n      <th></th>\n      <th>motorist_deaths</th>\n      <th>cyclist_deaths</th>\n      <th>ratio</th>\n    </tr>\n  </thead>\n  <tbody>\n    <tr>\n      <th>0</th>\n      <td>544</td>\n      <td>100</td>\n      <td>5.44</td>\n    </tr>\n  </tbody>\n</table>\n</div>"
          },
          "metadata": {}
        }
      ]
    },
    {
      "metadata": {
        "_uuid": "0013591a3f35b488d7e1234ebeaab3157e504997",
        "_cell_guid": "00193251-0892-4d72-8a8c-85b167871687"
      },
      "cell_type": "markdown",
      "source": "What’s the Citi Bike record for the Longest Distance in the Shortest Time (on a route with at least 100 rides)?\n"
    },
    {
      "metadata": {
        "_uuid": "f918766c2516629c8cbd927782a8556f52e86d61",
        "_cell_guid": "1618c3f4-b096-426a-840c-3ceefe94e25e",
        "trusted": true
      },
      "cell_type": "code",
      "source": "query10 = \"\"\"SELECT\n  start_station_name,\n  end_station_name,\n  COUNT(*) trips,\n  ROUND(AVG(ACOS( SIN(start_station_latitude*ACOS(-1)/180)*SIN(end_station_latitude*ACOS(-1)/180) + COS(start_station_latitude*ACOS(-1)/180)*COS(end_station_latitude*ACOS(-1)/180) * COS(end_station_longitude*ACOS(-1)/180-start_station_longitude*ACOS(-1)/180) ) * 6371000)) AS distance,\n  MIN(tripduration) AS fastest_trip,\n  MAX(tripduration) AS slowest_trip,\n  ROUND(AVG(tripduration), 3) AS average_trip\nFROM\n  `bigquery-public-data.new_york.citibike_trips`\nWHERE\n  start_station_name != end_station_name\n  AND start_station_latitude != 0\n  AND end_station_latitude != 0\nGROUP BY\n  start_station_name,\n  end_station_name\nHAVING\n  trips > 100\nORDER BY\n  distance DESC\nLIMIT\n  10;\n        \"\"\"\nresponse10 = nyc.query_to_pandas_safe(query10, max_gb_scanned=10)\nresponse10.head(15)",
      "execution_count": 16,
      "outputs": [
        {
          "output_type": "execute_result",
          "execution_count": 16,
          "data": {
            "text/plain": "              start_station_name            end_station_name  trips  distance  \\\n0          Broadway & Battery Pl          W 84 St & Broadway    102    9640.0   \n1          Broadway & Battery Pl      Riverside Dr & W 82 St    133    9578.0   \n2         Riverside Dr & W 82 St       Broadway & Battery Pl    123    9578.0   \n3          Little West St & 1 Pl      Riverside Dr & W 82 St    231    9545.0   \n4         Riverside Dr & W 82 St       Little West St & 1 Pl    208    9545.0   \n5  Cumberland St & Lafayette Ave            11 Ave & W 59 St    181    9460.0   \n6     South End Ave & Liberty St      Riverside Dr & W 82 St    162    8904.0   \n7         Riverside Dr & W 82 St  South End Ave & Liberty St    120    8904.0   \n8             Broadway & W 58 St     Fulton St & Rockwell Pl    103    8785.0   \n9          Broadway & Battery Pl      Riverside Dr & W 72 St    116    8768.0   \n\n   fastest_trip  slowest_trip  average_trip  \n0          1775          3788      2361.118  \n1          1817          6480      2539.857  \n2          1602          4752      2242.000  \n3          1607         67970      2995.394  \n4          1653          5962      2534.986  \n5           604          3376      2298.740  \n6          1486          5380      2484.358  \n7          1409         25468      2783.950  \n8           447          5236      1017.117  \n9          1571         13839      2302.629  ",
            "text/html": "<div>\n<style scoped>\n    .dataframe tbody tr th:only-of-type {\n        vertical-align: middle;\n    }\n\n    .dataframe tbody tr th {\n        vertical-align: top;\n    }\n\n    .dataframe thead th {\n        text-align: right;\n    }\n</style>\n<table border=\"1\" class=\"dataframe\">\n  <thead>\n    <tr style=\"text-align: right;\">\n      <th></th>\n      <th>start_station_name</th>\n      <th>end_station_name</th>\n      <th>trips</th>\n      <th>distance</th>\n      <th>fastest_trip</th>\n      <th>slowest_trip</th>\n      <th>average_trip</th>\n    </tr>\n  </thead>\n  <tbody>\n    <tr>\n      <th>0</th>\n      <td>Broadway &amp; Battery Pl</td>\n      <td>W 84 St &amp; Broadway</td>\n      <td>102</td>\n      <td>9640.0</td>\n      <td>1775</td>\n      <td>3788</td>\n      <td>2361.118</td>\n    </tr>\n    <tr>\n      <th>1</th>\n      <td>Broadway &amp; Battery Pl</td>\n      <td>Riverside Dr &amp; W 82 St</td>\n      <td>133</td>\n      <td>9578.0</td>\n      <td>1817</td>\n      <td>6480</td>\n      <td>2539.857</td>\n    </tr>\n    <tr>\n      <th>2</th>\n      <td>Riverside Dr &amp; W 82 St</td>\n      <td>Broadway &amp; Battery Pl</td>\n      <td>123</td>\n      <td>9578.0</td>\n      <td>1602</td>\n      <td>4752</td>\n      <td>2242.000</td>\n    </tr>\n    <tr>\n      <th>3</th>\n      <td>Little West St &amp; 1 Pl</td>\n      <td>Riverside Dr &amp; W 82 St</td>\n      <td>231</td>\n      <td>9545.0</td>\n      <td>1607</td>\n      <td>67970</td>\n      <td>2995.394</td>\n    </tr>\n    <tr>\n      <th>4</th>\n      <td>Riverside Dr &amp; W 82 St</td>\n      <td>Little West St &amp; 1 Pl</td>\n      <td>208</td>\n      <td>9545.0</td>\n      <td>1653</td>\n      <td>5962</td>\n      <td>2534.986</td>\n    </tr>\n    <tr>\n      <th>5</th>\n      <td>Cumberland St &amp; Lafayette Ave</td>\n      <td>11 Ave &amp; W 59 St</td>\n      <td>181</td>\n      <td>9460.0</td>\n      <td>604</td>\n      <td>3376</td>\n      <td>2298.740</td>\n    </tr>\n    <tr>\n      <th>6</th>\n      <td>South End Ave &amp; Liberty St</td>\n      <td>Riverside Dr &amp; W 82 St</td>\n      <td>162</td>\n      <td>8904.0</td>\n      <td>1486</td>\n      <td>5380</td>\n      <td>2484.358</td>\n    </tr>\n    <tr>\n      <th>7</th>\n      <td>Riverside Dr &amp; W 82 St</td>\n      <td>South End Ave &amp; Liberty St</td>\n      <td>120</td>\n      <td>8904.0</td>\n      <td>1409</td>\n      <td>25468</td>\n      <td>2783.950</td>\n    </tr>\n    <tr>\n      <th>8</th>\n      <td>Broadway &amp; W 58 St</td>\n      <td>Fulton St &amp; Rockwell Pl</td>\n      <td>103</td>\n      <td>8785.0</td>\n      <td>447</td>\n      <td>5236</td>\n      <td>1017.117</td>\n    </tr>\n    <tr>\n      <th>9</th>\n      <td>Broadway &amp; Battery Pl</td>\n      <td>Riverside Dr &amp; W 72 St</td>\n      <td>116</td>\n      <td>8768.0</td>\n      <td>1571</td>\n      <td>13839</td>\n      <td>2302.629</td>\n    </tr>\n  </tbody>\n</table>\n</div>"
          },
          "metadata": {}
        }
      ]
    },
    {
      "metadata": {
        "_uuid": "639ec0fb2af3a661548791ba52d7e07c64e81aec",
        "_cell_guid": "bbddedd6-5524-4179-a975-714e53db7609"
      },
      "cell_type": "markdown",
      "source": "Are bikes or taxis faster?  Comparing the average duration of 5 of the most popular Citi Bike routes, to taxi journeys beginning and ending within an approximately 50-meter radius of the corresponding Citi Bike stations.\n\n"
    },
    {
      "metadata": {
        "_uuid": "cd4d7d99bf960b0c6c353b8aa1bd0fc59435c3b6",
        "_cell_guid": "eff858b8-af4f-43c1-8039-27c524bf2e1c",
        "trusted": true
      },
      "cell_type": "code",
      "source": "query11 = \"\"\"SELECT\n  start_station_name, end_station_name, avg_bike_duration, avg_taxi_duration, avg_taxi_fare\nFROM (\n  SELECT\n    start_station_name,\n    end_station_name,\n    ROUND(start_station_latitude, 3) AS ss_lat,\n    ROUND(start_station_longitude, 3) AS ss_long,\n    ROUND(end_station_latitude, 3) AS es_lat,\n    ROUND(end_station_longitude, 3) AS es_long,\n    AVG(tripduration) AS avg_bike_duration,\n    COUNT(*) AS bike_trips\n  FROM\n    `bigquery-public-data.new_york.citibike_trips`\n  WHERE \n    start_station_name != end_station_name\n  GROUP BY\n    start_station_name,\n    end_station_name,\n    ss_lat,\n    ss_long,\n    es_lat,\n    es_long\n  ORDER BY\n    bike_trips DESC\n  LIMIT\n    100 )a\nJOIN (\n  SELECT\n    ROUND(pickup_latitude, 3) AS pu_lat,\n    ROUND(pickup_longitude, 3) AS pu_long,\n    ROUND(dropoff_latitude, 3) AS do_lat,\n    ROUND(dropoff_longitude, 3) AS do_long,\n    AVG(UNIX_SECONDS(dropoff_datetime)-UNIX_SECONDS(pickup_datetime)) AS avg_taxi_duration,\n    AVG(fare_amount) as avg_taxi_fare,\n    COUNT(*) AS taxi_trips\n  FROM\n    `bigquery-public-data.new_york.tlc_yellow_trips_2016`\n  GROUP BY\n    pu_lat,\n    pu_long,\n    do_lat,\n    do_long)b\nON\n  a.ss_lat=b.pu_lat AND\n  a.es_lat=b.do_lat AND\n  a.ss_long=b.pu_long AND\n  a.es_long=b.do_long\nORDER BY\n  bike_trips DESC\nLIMIT 20;\n        \"\"\"\nresponse11 = nyc.query_to_pandas_safe(query11, max_gb_scanned=10)\nresponse11.head(20)",
      "execution_count": 17,
      "outputs": [
        {
          "output_type": "execute_result",
          "execution_count": 17,
          "data": {
            "text/plain": "                   start_station_name             end_station_name  \\\n0                    12 Ave & W 40 St        West St & Chambers St   \n1                     W 21 St & 6 Ave              9 Ave & W 22 St   \n2                     W 21 St & 6 Ave             W 22 St & 10 Ave   \n3                      West Thames St     Vesey Pl & River Terrace   \n4                   E 7 St & Avenue A        Lafayette St & E 8 St   \n5               West St & Chambers St             12 Ave & W 40 St   \n6   Grand Army Plaza & Central Park S           Broadway & W 60 St   \n7            E 43 St & Vanderbilt Ave              W 41 St & 8 Ave   \n8   Grand Army Plaza & Central Park S       Central Park S & 6 Ave   \n9                       Old Fulton St      Centre St & Chambers St   \n10                   W 22 St & 10 Ave              W 22 St & 8 Ave   \n11            Centre St & Chambers St  Cadman Plaza E & Tillary St   \n12           Vesey Pl & River Terrace               West Thames St   \n13              Pershing Square North              W 33 St & 7 Ave   \n14           Vesey Pl & River Terrace    Greenwich St & N Moore St   \n15          Greenwich St & N Moore St     Greenwich St & Warren St   \n16                    W 17 St & 8 Ave             W 20 St & 11 Ave   \n17              Pershing Square North              W 41 St & 8 Ave   \n18                   W 22 St & 10 Ave              W 21 St & 6 Ave   \n19             Central Park S & 6 Ave           Broadway & W 60 St   \n\n    avg_bike_duration  avg_taxi_duration  avg_taxi_fare  \n0         1477.337038        1634.000000      17.250000  \n1          326.776957         228.145455       5.040909  \n2          422.016836         359.525000       5.837500  \n3          460.212957         441.400000       6.500000  \n4          341.591626         403.909091       6.181818  \n5         1477.415645         924.000000      13.500000  \n6         1593.350834         432.989130       6.336957  \n7          423.401979        1102.701299       7.266234  \n8         3158.462496         417.416667       6.041667  \n9         1840.418319         528.500000       8.750000  \n10         228.138954         145.861111       5.083333  \n11        1770.654200         900.500000      11.750000  \n12         479.517693         295.500000       5.500000  \n13         518.718877         734.593138       7.705757  \n14         373.048328         350.000000       6.071429  \n15         267.792917         132.689655       3.603448  \n16         348.703906         336.173333       5.540000  \n17         478.190632         503.465753       6.893836  \n18         435.734608         267.111111       5.013889  \n19        2047.676189         266.317460       5.059524  ",
            "text/html": "<div>\n<style scoped>\n    .dataframe tbody tr th:only-of-type {\n        vertical-align: middle;\n    }\n\n    .dataframe tbody tr th {\n        vertical-align: top;\n    }\n\n    .dataframe thead th {\n        text-align: right;\n    }\n</style>\n<table border=\"1\" class=\"dataframe\">\n  <thead>\n    <tr style=\"text-align: right;\">\n      <th></th>\n      <th>start_station_name</th>\n      <th>end_station_name</th>\n      <th>avg_bike_duration</th>\n      <th>avg_taxi_duration</th>\n      <th>avg_taxi_fare</th>\n    </tr>\n  </thead>\n  <tbody>\n    <tr>\n      <th>0</th>\n      <td>12 Ave &amp; W 40 St</td>\n      <td>West St &amp; Chambers St</td>\n      <td>1477.337038</td>\n      <td>1634.000000</td>\n      <td>17.250000</td>\n    </tr>\n    <tr>\n      <th>1</th>\n      <td>W 21 St &amp; 6 Ave</td>\n      <td>9 Ave &amp; W 22 St</td>\n      <td>326.776957</td>\n      <td>228.145455</td>\n      <td>5.040909</td>\n    </tr>\n    <tr>\n      <th>2</th>\n      <td>W 21 St &amp; 6 Ave</td>\n      <td>W 22 St &amp; 10 Ave</td>\n      <td>422.016836</td>\n      <td>359.525000</td>\n      <td>5.837500</td>\n    </tr>\n    <tr>\n      <th>3</th>\n      <td>West Thames St</td>\n      <td>Vesey Pl &amp; River Terrace</td>\n      <td>460.212957</td>\n      <td>441.400000</td>\n      <td>6.500000</td>\n    </tr>\n    <tr>\n      <th>4</th>\n      <td>E 7 St &amp; Avenue A</td>\n      <td>Lafayette St &amp; E 8 St</td>\n      <td>341.591626</td>\n      <td>403.909091</td>\n      <td>6.181818</td>\n    </tr>\n    <tr>\n      <th>5</th>\n      <td>West St &amp; Chambers St</td>\n      <td>12 Ave &amp; W 40 St</td>\n      <td>1477.415645</td>\n      <td>924.000000</td>\n      <td>13.500000</td>\n    </tr>\n    <tr>\n      <th>6</th>\n      <td>Grand Army Plaza &amp; Central Park S</td>\n      <td>Broadway &amp; W 60 St</td>\n      <td>1593.350834</td>\n      <td>432.989130</td>\n      <td>6.336957</td>\n    </tr>\n    <tr>\n      <th>7</th>\n      <td>E 43 St &amp; Vanderbilt Ave</td>\n      <td>W 41 St &amp; 8 Ave</td>\n      <td>423.401979</td>\n      <td>1102.701299</td>\n      <td>7.266234</td>\n    </tr>\n    <tr>\n      <th>8</th>\n      <td>Grand Army Plaza &amp; Central Park S</td>\n      <td>Central Park S &amp; 6 Ave</td>\n      <td>3158.462496</td>\n      <td>417.416667</td>\n      <td>6.041667</td>\n    </tr>\n    <tr>\n      <th>9</th>\n      <td>Old Fulton St</td>\n      <td>Centre St &amp; Chambers St</td>\n      <td>1840.418319</td>\n      <td>528.500000</td>\n      <td>8.750000</td>\n    </tr>\n    <tr>\n      <th>10</th>\n      <td>W 22 St &amp; 10 Ave</td>\n      <td>W 22 St &amp; 8 Ave</td>\n      <td>228.138954</td>\n      <td>145.861111</td>\n      <td>5.083333</td>\n    </tr>\n    <tr>\n      <th>11</th>\n      <td>Centre St &amp; Chambers St</td>\n      <td>Cadman Plaza E &amp; Tillary St</td>\n      <td>1770.654200</td>\n      <td>900.500000</td>\n      <td>11.750000</td>\n    </tr>\n    <tr>\n      <th>12</th>\n      <td>Vesey Pl &amp; River Terrace</td>\n      <td>West Thames St</td>\n      <td>479.517693</td>\n      <td>295.500000</td>\n      <td>5.500000</td>\n    </tr>\n    <tr>\n      <th>13</th>\n      <td>Pershing Square North</td>\n      <td>W 33 St &amp; 7 Ave</td>\n      <td>518.718877</td>\n      <td>734.593138</td>\n      <td>7.705757</td>\n    </tr>\n    <tr>\n      <th>14</th>\n      <td>Vesey Pl &amp; River Terrace</td>\n      <td>Greenwich St &amp; N Moore St</td>\n      <td>373.048328</td>\n      <td>350.000000</td>\n      <td>6.071429</td>\n    </tr>\n    <tr>\n      <th>15</th>\n      <td>Greenwich St &amp; N Moore St</td>\n      <td>Greenwich St &amp; Warren St</td>\n      <td>267.792917</td>\n      <td>132.689655</td>\n      <td>3.603448</td>\n    </tr>\n    <tr>\n      <th>16</th>\n      <td>W 17 St &amp; 8 Ave</td>\n      <td>W 20 St &amp; 11 Ave</td>\n      <td>348.703906</td>\n      <td>336.173333</td>\n      <td>5.540000</td>\n    </tr>\n    <tr>\n      <th>17</th>\n      <td>Pershing Square North</td>\n      <td>W 41 St &amp; 8 Ave</td>\n      <td>478.190632</td>\n      <td>503.465753</td>\n      <td>6.893836</td>\n    </tr>\n    <tr>\n      <th>18</th>\n      <td>W 22 St &amp; 10 Ave</td>\n      <td>W 21 St &amp; 6 Ave</td>\n      <td>435.734608</td>\n      <td>267.111111</td>\n      <td>5.013889</td>\n    </tr>\n    <tr>\n      <th>19</th>\n      <td>Central Park S &amp; 6 Ave</td>\n      <td>Broadway &amp; W 60 St</td>\n      <td>2047.676189</td>\n      <td>266.317460</td>\n      <td>5.059524</td>\n    </tr>\n  </tbody>\n</table>\n</div>"
          },
          "metadata": {}
        }
      ]
    },
    {
      "metadata": {
        "_uuid": "bac8c51945176777cea9522a62a1864c8b376f09",
        "_cell_guid": "7fab22ff-c8fc-4083-a255-1dc762a2c39b"
      },
      "cell_type": "markdown",
      "source": "![](https://cloud.google.com/blog/big-data/2017/01/images/148467900588042/nyc-dataset-7.png)\nhttps://cloud.google.com/blog/big-data/2017/01/images/148467900588042/nyc-dataset-7.png"
    },
    {
      "metadata": {
        "_uuid": "78398b4d33c2ac3c1be5668fcaad5253084434c1",
        "_cell_guid": "d01ad344-ba43-428d-b20d-905002d6df07"
      },
      "cell_type": "markdown",
      "source": "What is the number of 311 requests related to ice cream trucks?\n"
    },
    {
      "metadata": {
        "_uuid": "b6fc74a9ce15103eaaf69a17e168d0904fc11f8a",
        "_cell_guid": "cc753b5d-1f8b-4bc3-a67f-86adb2a237a0",
        "trusted": true
      },
      "cell_type": "code",
      "source": "query12 = \"\"\"SELECT\n  COUNT(*) AS requests\nFROM\n  `bigquery-public-data.new_york.311_service_requests`\nWHERE\n  LOWER(descriptor) LIKE '%ice cream truck%';\n        \"\"\"\nresponse12 = nyc.query_to_pandas_safe(query12, max_gb_scanned=10)\nresponse12.head(20)",
      "execution_count": 18,
      "outputs": [
        {
          "output_type": "execute_result",
          "execution_count": 18,
          "data": {
            "text/plain": "   requests\n0     12659",
            "text/html": "<div>\n<style scoped>\n    .dataframe tbody tr th:only-of-type {\n        vertical-align: middle;\n    }\n\n    .dataframe tbody tr th {\n        vertical-align: top;\n    }\n\n    .dataframe thead th {\n        text-align: right;\n    }\n</style>\n<table border=\"1\" class=\"dataframe\">\n  <thead>\n    <tr style=\"text-align: right;\">\n      <th></th>\n      <th>requests</th>\n    </tr>\n  </thead>\n  <tbody>\n    <tr>\n      <th>0</th>\n      <td>12659</td>\n    </tr>\n  </tbody>\n</table>\n</div>"
          },
          "metadata": {}
        }
      ]
    },
    {
      "metadata": {
        "_uuid": "af4e5868cef80868c5eaa8706683d23648b2a8bb",
        "_cell_guid": "c419db4e-fcf6-4096-a9d8-a8e564e2758d"
      },
      "cell_type": "markdown",
      "source": "Which boroughs have the most 311 requests related to parties?\n"
    },
    {
      "metadata": {
        "_uuid": "1005d8abfc6cae06ca1ee641cf2673c998d1c321",
        "_cell_guid": "951ef309-4bf8-4ac0-8d3e-2e491b184f07",
        "trusted": true
      },
      "cell_type": "code",
      "source": "query13 = \"\"\"SELECT\n  borough,\n  COUNT(descriptor) AS parties\nFROM\n  `bigquery-public-data.new_york.311_service_requests`\nWHERE\n  LOWER(descriptor) LIKE '%party%'\nGROUP BY\n  borough\nORDER BY\n  parties DESC;\n        \"\"\"\nresponse13 = nyc.query_to_pandas_safe(query13, max_gb_scanned=10)\nresponse13.head(5)",
      "execution_count": 19,
      "outputs": [
        {
          "output_type": "execute_result",
          "execution_count": 19,
          "data": {
            "text/plain": "         borough  parties\n0       BROOKLYN   403971\n1      MANHATTAN   373242\n2          BRONX   275000\n3         QUEENS   239078\n4  STATEN ISLAND    34048",
            "text/html": "<div>\n<style scoped>\n    .dataframe tbody tr th:only-of-type {\n        vertical-align: middle;\n    }\n\n    .dataframe tbody tr th {\n        vertical-align: top;\n    }\n\n    .dataframe thead th {\n        text-align: right;\n    }\n</style>\n<table border=\"1\" class=\"dataframe\">\n  <thead>\n    <tr style=\"text-align: right;\">\n      <th></th>\n      <th>borough</th>\n      <th>parties</th>\n    </tr>\n  </thead>\n  <tbody>\n    <tr>\n      <th>0</th>\n      <td>BROOKLYN</td>\n      <td>403971</td>\n    </tr>\n    <tr>\n      <th>1</th>\n      <td>MANHATTAN</td>\n      <td>373242</td>\n    </tr>\n    <tr>\n      <th>2</th>\n      <td>BRONX</td>\n      <td>275000</td>\n    </tr>\n    <tr>\n      <th>3</th>\n      <td>QUEENS</td>\n      <td>239078</td>\n    </tr>\n    <tr>\n      <th>4</th>\n      <td>STATEN ISLAND</td>\n      <td>34048</td>\n    </tr>\n  </tbody>\n</table>\n</div>"
          },
          "metadata": {}
        }
      ]
    },
    {
      "metadata": {
        "_uuid": "c407a8f3b1d2d7b7b2026f6b3e253d0328d11577",
        "_cell_guid": "8deeaea5-384b-4663-a4ad-ea9cd993ec96"
      },
      "cell_type": "markdown",
      "source": "What days get the most 311 requests related to parties?\n"
    },
    {
      "metadata": {
        "_uuid": "f02f4536f30d557a90f837ac8ba486df0961954d",
        "_cell_guid": "c5c86a53-8003-490e-ad4a-c7bbf106617b",
        "trusted": true
      },
      "cell_type": "code",
      "source": "query14 = \"\"\"SELECT\n  extract(DAYOFWEEK\n  FROM\n    created_date) AS party_day,\n  borough,\n  COUNT(*) AS num_parties\nFROM\n  `bigquery-public-data.new_york.311_service_requests`\nWHERE\n  LOWER(descriptor) LIKE '%party%'\nGROUP BY\n  party_day,\n  borough\nORDER BY\n  num_parties DESC;\n        \"\"\"\nresponse14 = nyc.query_to_pandas_safe(query14, max_gb_scanned=10)\nresponse14.head(30)",
      "execution_count": 20,
      "outputs": [
        {
          "output_type": "execute_result",
          "execution_count": 20,
          "data": {
            "text/plain": "    party_day        borough  num_parties\n0           1       BROOKLYN       111114\n1           7       BROOKLYN       110643\n2           7      MANHATTAN        98680\n3           1      MANHATTAN        88933\n4           1         QUEENS        79136\n5           1          BRONX        76331\n6           7          BRONX        71942\n7           7         QUEENS        68763\n8           6      MANHATTAN        55288\n9           6       BROOKLYN        50587\n10          2       BROOKLYN        39650\n11          6          BRONX        37216\n12          5      MANHATTAN        36961\n13          2      MANHATTAN        33104\n14          5       BROOKLYN        32958\n15          4      MANHATTAN        31790\n16          4       BROOKLYN        30041\n17          3       BROOKLYN        28978\n18          3      MANHATTAN        28486\n19          6         QUEENS        26835\n20          2          BRONX        26100\n21          5          BRONX        22779\n22          2         QUEENS        20985\n23          4          BRONX        20655\n24          3          BRONX        19977\n25          5         QUEENS        16118\n26          4         QUEENS        13882\n27          3         QUEENS        13359\n28          7  STATEN ISLAND        10376\n29          1  STATEN ISLAND         8277",
            "text/html": "<div>\n<style scoped>\n    .dataframe tbody tr th:only-of-type {\n        vertical-align: middle;\n    }\n\n    .dataframe tbody tr th {\n        vertical-align: top;\n    }\n\n    .dataframe thead th {\n        text-align: right;\n    }\n</style>\n<table border=\"1\" class=\"dataframe\">\n  <thead>\n    <tr style=\"text-align: right;\">\n      <th></th>\n      <th>party_day</th>\n      <th>borough</th>\n      <th>num_parties</th>\n    </tr>\n  </thead>\n  <tbody>\n    <tr>\n      <th>0</th>\n      <td>1</td>\n      <td>BROOKLYN</td>\n      <td>111114</td>\n    </tr>\n    <tr>\n      <th>1</th>\n      <td>7</td>\n      <td>BROOKLYN</td>\n      <td>110643</td>\n    </tr>\n    <tr>\n      <th>2</th>\n      <td>7</td>\n      <td>MANHATTAN</td>\n      <td>98680</td>\n    </tr>\n    <tr>\n      <th>3</th>\n      <td>1</td>\n      <td>MANHATTAN</td>\n      <td>88933</td>\n    </tr>\n    <tr>\n      <th>4</th>\n      <td>1</td>\n      <td>QUEENS</td>\n      <td>79136</td>\n    </tr>\n    <tr>\n      <th>5</th>\n      <td>1</td>\n      <td>BRONX</td>\n      <td>76331</td>\n    </tr>\n    <tr>\n      <th>6</th>\n      <td>7</td>\n      <td>BRONX</td>\n      <td>71942</td>\n    </tr>\n    <tr>\n      <th>7</th>\n      <td>7</td>\n      <td>QUEENS</td>\n      <td>68763</td>\n    </tr>\n    <tr>\n      <th>8</th>\n      <td>6</td>\n      <td>MANHATTAN</td>\n      <td>55288</td>\n    </tr>\n    <tr>\n      <th>9</th>\n      <td>6</td>\n      <td>BROOKLYN</td>\n      <td>50587</td>\n    </tr>\n    <tr>\n      <th>10</th>\n      <td>2</td>\n      <td>BROOKLYN</td>\n      <td>39650</td>\n    </tr>\n    <tr>\n      <th>11</th>\n      <td>6</td>\n      <td>BRONX</td>\n      <td>37216</td>\n    </tr>\n    <tr>\n      <th>12</th>\n      <td>5</td>\n      <td>MANHATTAN</td>\n      <td>36961</td>\n    </tr>\n    <tr>\n      <th>13</th>\n      <td>2</td>\n      <td>MANHATTAN</td>\n      <td>33104</td>\n    </tr>\n    <tr>\n      <th>14</th>\n      <td>5</td>\n      <td>BROOKLYN</td>\n      <td>32958</td>\n    </tr>\n    <tr>\n      <th>15</th>\n      <td>4</td>\n      <td>MANHATTAN</td>\n      <td>31790</td>\n    </tr>\n    <tr>\n      <th>16</th>\n      <td>4</td>\n      <td>BROOKLYN</td>\n      <td>30041</td>\n    </tr>\n    <tr>\n      <th>17</th>\n      <td>3</td>\n      <td>BROOKLYN</td>\n      <td>28978</td>\n    </tr>\n    <tr>\n      <th>18</th>\n      <td>3</td>\n      <td>MANHATTAN</td>\n      <td>28486</td>\n    </tr>\n    <tr>\n      <th>19</th>\n      <td>6</td>\n      <td>QUEENS</td>\n      <td>26835</td>\n    </tr>\n    <tr>\n      <th>20</th>\n      <td>2</td>\n      <td>BRONX</td>\n      <td>26100</td>\n    </tr>\n    <tr>\n      <th>21</th>\n      <td>5</td>\n      <td>BRONX</td>\n      <td>22779</td>\n    </tr>\n    <tr>\n      <th>22</th>\n      <td>2</td>\n      <td>QUEENS</td>\n      <td>20985</td>\n    </tr>\n    <tr>\n      <th>23</th>\n      <td>4</td>\n      <td>BRONX</td>\n      <td>20655</td>\n    </tr>\n    <tr>\n      <th>24</th>\n      <td>3</td>\n      <td>BRONX</td>\n      <td>19977</td>\n    </tr>\n    <tr>\n      <th>25</th>\n      <td>5</td>\n      <td>QUEENS</td>\n      <td>16118</td>\n    </tr>\n    <tr>\n      <th>26</th>\n      <td>4</td>\n      <td>QUEENS</td>\n      <td>13882</td>\n    </tr>\n    <tr>\n      <th>27</th>\n      <td>3</td>\n      <td>QUEENS</td>\n      <td>13359</td>\n    </tr>\n    <tr>\n      <th>28</th>\n      <td>7</td>\n      <td>STATEN ISLAND</td>\n      <td>10376</td>\n    </tr>\n    <tr>\n      <th>29</th>\n      <td>1</td>\n      <td>STATEN ISLAND</td>\n      <td>8277</td>\n    </tr>\n  </tbody>\n</table>\n</div>"
          },
          "metadata": {}
        }
      ]
    },
    {
      "metadata": {
        "_uuid": "98beedc0895b561d3865845278bc5ba656b5c572",
        "_cell_guid": "338712c3-6ac1-4297-9f87-53261e98c55d"
      },
      "cell_type": "markdown",
      "source": "What is the most common factor in a motor vehicle collision in NYC?\n"
    },
    {
      "metadata": {
        "_uuid": "79332fd85dd6d7cbf63685f0e811503f651a37c1",
        "_cell_guid": "e9a5e637-081d-4e24-8bb8-2b7229a3d177",
        "trusted": true
      },
      "cell_type": "code",
      "source": "query15 = \"\"\"SELECT\n  contributing_factor_vehicle_1 AS collision_factor,\n  COUNT(*) num_collisions\nFROM\n  `bigquery-public-data.new_york.nypd_mv_collisions`\nWHERE\n  contributing_factor_vehicle_1 != \"Unspecified\"\n  AND contributing_factor_vehicle_1 != \"\"\nGROUP BY\n  1\nORDER BY\n  num_collisions DESC;\n        \"\"\"\nresponse15 = nyc.query_to_pandas_safe(query15, max_gb_scanned=10)\nresponse15.head(15)",
      "execution_count": 21,
      "outputs": [
        {
          "output_type": "execute_result",
          "execution_count": 21,
          "data": {
            "text/plain": "                  collision_factor  num_collisions\n0   Driver Inattention/Distraction          176170\n1    Failure to Yield Right-of-Way           57298\n2                  Fatigued/Drowsy           48495\n3                 Backing Unsafely           37916\n4                  Other Vehicular           36038\n5            Following Too Closely           31636\n6               Turning Improperly           29288\n7               Lost Consciousness           20261\n8      Traffic Control Disregarded           16190\n9          Prescription Medication           15904\n10             Driver Inexperience           15637\n11  Passing or Lane Usage Improper           14820\n12            Unsafe Lane Changing           12472\n13               Pavement Slippery           12188\n14         Outside Car Distraction           10978",
            "text/html": "<div>\n<style scoped>\n    .dataframe tbody tr th:only-of-type {\n        vertical-align: middle;\n    }\n\n    .dataframe tbody tr th {\n        vertical-align: top;\n    }\n\n    .dataframe thead th {\n        text-align: right;\n    }\n</style>\n<table border=\"1\" class=\"dataframe\">\n  <thead>\n    <tr style=\"text-align: right;\">\n      <th></th>\n      <th>collision_factor</th>\n      <th>num_collisions</th>\n    </tr>\n  </thead>\n  <tbody>\n    <tr>\n      <th>0</th>\n      <td>Driver Inattention/Distraction</td>\n      <td>176170</td>\n    </tr>\n    <tr>\n      <th>1</th>\n      <td>Failure to Yield Right-of-Way</td>\n      <td>57298</td>\n    </tr>\n    <tr>\n      <th>2</th>\n      <td>Fatigued/Drowsy</td>\n      <td>48495</td>\n    </tr>\n    <tr>\n      <th>3</th>\n      <td>Backing Unsafely</td>\n      <td>37916</td>\n    </tr>\n    <tr>\n      <th>4</th>\n      <td>Other Vehicular</td>\n      <td>36038</td>\n    </tr>\n    <tr>\n      <th>5</th>\n      <td>Following Too Closely</td>\n      <td>31636</td>\n    </tr>\n    <tr>\n      <th>6</th>\n      <td>Turning Improperly</td>\n      <td>29288</td>\n    </tr>\n    <tr>\n      <th>7</th>\n      <td>Lost Consciousness</td>\n      <td>20261</td>\n    </tr>\n    <tr>\n      <th>8</th>\n      <td>Traffic Control Disregarded</td>\n      <td>16190</td>\n    </tr>\n    <tr>\n      <th>9</th>\n      <td>Prescription Medication</td>\n      <td>15904</td>\n    </tr>\n    <tr>\n      <th>10</th>\n      <td>Driver Inexperience</td>\n      <td>15637</td>\n    </tr>\n    <tr>\n      <th>11</th>\n      <td>Passing or Lane Usage Improper</td>\n      <td>14820</td>\n    </tr>\n    <tr>\n      <th>12</th>\n      <td>Unsafe Lane Changing</td>\n      <td>12472</td>\n    </tr>\n    <tr>\n      <th>13</th>\n      <td>Pavement Slippery</td>\n      <td>12188</td>\n    </tr>\n    <tr>\n      <th>14</th>\n      <td>Outside Car Distraction</td>\n      <td>10978</td>\n    </tr>\n  </tbody>\n</table>\n</div>"
          },
          "metadata": {}
        }
      ]
    },
    {
      "metadata": {
        "_uuid": "a35857bfca46eb7919343f97eb78cc832d2d3656",
        "_cell_guid": "feefd887-3289-4051-aa56-64fa8f563dcf"
      },
      "cell_type": "markdown",
      "source": "What are the most dangerous streets for motor vehicle collisions in NYC?\n"
    },
    {
      "metadata": {
        "_uuid": "02a8c53d832aac4e1b9bc8b7b4fecdd5513b220b",
        "_cell_guid": "6288df6c-ed67-4b41-9e90-7ba29b50e9a0",
        "trusted": true
      },
      "cell_type": "code",
      "source": "query15 = \"\"\"SELECT\n  on_street_name,\n  SUM(number_of_persons_killed) AS deaths\nFROM\n  `bigquery-public-data.new_york.nypd_mv_collisions`\nWHERE\n  on_street_name <> ''\nGROUP BY\n  on_street_name\nORDER BY\n  deaths DESC\nLIMIT\n  30;\n        \"\"\"\nresponse15 = nyc.query_to_pandas_safe(query15, max_gb_scanned=10)\nresponse15.head(30)",
      "execution_count": 22,
      "outputs": [
        {
          "output_type": "execute_result",
          "execution_count": 22,
          "data": {
            "text/plain": "          on_street_name  deaths\n0               BROADWAY      23\n1        ATLANTIC AVENUE      22\n2       LINDEN BOULEVARD      16\n3        HYLAN BOULEVARD      16\n4     BRUCKNER BOULEVARD      15\n5               3 AVENUE      15\n6     NORTHERN BOULEVARD      15\n7     ROCKAWAY BOULEVARD      14\n8        FLATBUSH AVENUE      13\n9        GRAND CONCOURSE      12\n10      QUEENS BOULEVARD      12\n11        JAMAICA AVENUE      10\n12           BOSTON ROAD       9\n13   WOODHAVEN BOULEVARD       9\n14           WEST STREET       9\n15        WEBSTER AVENUE       9\n16   EAST TREMONT AVENUE       8\n17       EASTERN PARKWAY       8\n18        BEDFORD AVENUE       8\n19         OCEAN PARKWAY       8\n20         JEROME AVENUE       7\n21    WESTCHESTER AVENUE       7\n22   METROPOLITAN AVENUE       7\n23  NORTH CONDUIT AVENUE       7\n24          CANAL STREET       7\n25      AMSTERDAM AVENUE       7\n26     ASTORIA BOULEVARD       6\n27       NOSTRAND AVENUE       6\n28           MAIN STREET       6\n29     VICTORY BOULEVARD       6",
            "text/html": "<div>\n<style scoped>\n    .dataframe tbody tr th:only-of-type {\n        vertical-align: middle;\n    }\n\n    .dataframe tbody tr th {\n        vertical-align: top;\n    }\n\n    .dataframe thead th {\n        text-align: right;\n    }\n</style>\n<table border=\"1\" class=\"dataframe\">\n  <thead>\n    <tr style=\"text-align: right;\">\n      <th></th>\n      <th>on_street_name</th>\n      <th>deaths</th>\n    </tr>\n  </thead>\n  <tbody>\n    <tr>\n      <th>0</th>\n      <td>BROADWAY</td>\n      <td>23</td>\n    </tr>\n    <tr>\n      <th>1</th>\n      <td>ATLANTIC AVENUE</td>\n      <td>22</td>\n    </tr>\n    <tr>\n      <th>2</th>\n      <td>LINDEN BOULEVARD</td>\n      <td>16</td>\n    </tr>\n    <tr>\n      <th>3</th>\n      <td>HYLAN BOULEVARD</td>\n      <td>16</td>\n    </tr>\n    <tr>\n      <th>4</th>\n      <td>BRUCKNER BOULEVARD</td>\n      <td>15</td>\n    </tr>\n    <tr>\n      <th>5</th>\n      <td>3 AVENUE</td>\n      <td>15</td>\n    </tr>\n    <tr>\n      <th>6</th>\n      <td>NORTHERN BOULEVARD</td>\n      <td>15</td>\n    </tr>\n    <tr>\n      <th>7</th>\n      <td>ROCKAWAY BOULEVARD</td>\n      <td>14</td>\n    </tr>\n    <tr>\n      <th>8</th>\n      <td>FLATBUSH AVENUE</td>\n      <td>13</td>\n    </tr>\n    <tr>\n      <th>9</th>\n      <td>GRAND CONCOURSE</td>\n      <td>12</td>\n    </tr>\n    <tr>\n      <th>10</th>\n      <td>QUEENS BOULEVARD</td>\n      <td>12</td>\n    </tr>\n    <tr>\n      <th>11</th>\n      <td>JAMAICA AVENUE</td>\n      <td>10</td>\n    </tr>\n    <tr>\n      <th>12</th>\n      <td>BOSTON ROAD</td>\n      <td>9</td>\n    </tr>\n    <tr>\n      <th>13</th>\n      <td>WOODHAVEN BOULEVARD</td>\n      <td>9</td>\n    </tr>\n    <tr>\n      <th>14</th>\n      <td>WEST STREET</td>\n      <td>9</td>\n    </tr>\n    <tr>\n      <th>15</th>\n      <td>WEBSTER AVENUE</td>\n      <td>9</td>\n    </tr>\n    <tr>\n      <th>16</th>\n      <td>EAST TREMONT AVENUE</td>\n      <td>8</td>\n    </tr>\n    <tr>\n      <th>17</th>\n      <td>EASTERN PARKWAY</td>\n      <td>8</td>\n    </tr>\n    <tr>\n      <th>18</th>\n      <td>BEDFORD AVENUE</td>\n      <td>8</td>\n    </tr>\n    <tr>\n      <th>19</th>\n      <td>OCEAN PARKWAY</td>\n      <td>8</td>\n    </tr>\n    <tr>\n      <th>20</th>\n      <td>JEROME AVENUE</td>\n      <td>7</td>\n    </tr>\n    <tr>\n      <th>21</th>\n      <td>WESTCHESTER AVENUE</td>\n      <td>7</td>\n    </tr>\n    <tr>\n      <th>22</th>\n      <td>METROPOLITAN AVENUE</td>\n      <td>7</td>\n    </tr>\n    <tr>\n      <th>23</th>\n      <td>NORTH CONDUIT AVENUE</td>\n      <td>7</td>\n    </tr>\n    <tr>\n      <th>24</th>\n      <td>CANAL STREET</td>\n      <td>7</td>\n    </tr>\n    <tr>\n      <th>25</th>\n      <td>AMSTERDAM AVENUE</td>\n      <td>7</td>\n    </tr>\n    <tr>\n      <th>26</th>\n      <td>ASTORIA BOULEVARD</td>\n      <td>6</td>\n    </tr>\n    <tr>\n      <th>27</th>\n      <td>NOSTRAND AVENUE</td>\n      <td>6</td>\n    </tr>\n    <tr>\n      <th>28</th>\n      <td>MAIN STREET</td>\n      <td>6</td>\n    </tr>\n    <tr>\n      <th>29</th>\n      <td>VICTORY BOULEVARD</td>\n      <td>6</td>\n    </tr>\n  </tbody>\n</table>\n</div>"
          },
          "metadata": {}
        }
      ]
    },
    {
      "metadata": {
        "_uuid": "591cde3b5b265f8fa5669dde332f73daf6673b98",
        "_cell_guid": "ba8ec464-c04d-475a-9015-c0db146e71e1"
      },
      "cell_type": "markdown",
      "source": "What are the most popular Citi Bike stations?\n"
    },
    {
      "metadata": {
        "_uuid": "1c2d0fa15f1e6a2a24faaea4aebb8e37623d7aea",
        "_cell_guid": "2e45fcf3-5855-43c5-8075-ebb187e2112c",
        "trusted": true
      },
      "cell_type": "code",
      "source": "query16 = \"\"\"SELECT\n  start_station_name,\n  start_station_latitude,\n  start_station_longitude,\n  COUNT(*) AS num_trips\nFROM\n  `bigquery-public-data.new_york.citibike_trips`\nGROUP BY\n  1,\n  2,\n  3\nORDER BY\n  num_trips DESC\nLIMIT 10;\n        \"\"\"\nresponse16 = nyc.query_to_pandas_safe(query16, max_gb_scanned=10)\nresponse16.head(30)",
      "execution_count": 23,
      "outputs": [
        {
          "output_type": "execute_result",
          "execution_count": 23,
          "data": {
            "text/plain": "      start_station_name  start_station_latitude  start_station_longitude  \\\n0     E 17 St & Broadway               40.737050               -73.990093   \n1  Lafayette St & E 8 St               40.730287               -73.990765   \n2        W 21 St & 6 Ave               40.741740               -73.994156   \n3  West St & Chambers St               40.717548               -74.013221   \n4  Pershing Square North               40.751873               -73.977706   \n5     Broadway & E 14 St               40.734546               -73.990741   \n6     Broadway & E 22 St               40.740343               -73.989551   \n7        8 Ave & W 33 St               40.751551               -73.993934   \n8       W 20 St & 11 Ave               40.746745               -74.007756   \n9     Broadway & W 24 St               40.742354               -73.989151   \n\n   num_trips  \n0     291615  \n1     277060  \n2     275348  \n3     260911  \n4     246181  \n5     244420  \n6     237394  \n7     223970  \n8     211840  \n9     211713  ",
            "text/html": "<div>\n<style scoped>\n    .dataframe tbody tr th:only-of-type {\n        vertical-align: middle;\n    }\n\n    .dataframe tbody tr th {\n        vertical-align: top;\n    }\n\n    .dataframe thead th {\n        text-align: right;\n    }\n</style>\n<table border=\"1\" class=\"dataframe\">\n  <thead>\n    <tr style=\"text-align: right;\">\n      <th></th>\n      <th>start_station_name</th>\n      <th>start_station_latitude</th>\n      <th>start_station_longitude</th>\n      <th>num_trips</th>\n    </tr>\n  </thead>\n  <tbody>\n    <tr>\n      <th>0</th>\n      <td>E 17 St &amp; Broadway</td>\n      <td>40.737050</td>\n      <td>-73.990093</td>\n      <td>291615</td>\n    </tr>\n    <tr>\n      <th>1</th>\n      <td>Lafayette St &amp; E 8 St</td>\n      <td>40.730287</td>\n      <td>-73.990765</td>\n      <td>277060</td>\n    </tr>\n    <tr>\n      <th>2</th>\n      <td>W 21 St &amp; 6 Ave</td>\n      <td>40.741740</td>\n      <td>-73.994156</td>\n      <td>275348</td>\n    </tr>\n    <tr>\n      <th>3</th>\n      <td>West St &amp; Chambers St</td>\n      <td>40.717548</td>\n      <td>-74.013221</td>\n      <td>260911</td>\n    </tr>\n    <tr>\n      <th>4</th>\n      <td>Pershing Square North</td>\n      <td>40.751873</td>\n      <td>-73.977706</td>\n      <td>246181</td>\n    </tr>\n    <tr>\n      <th>5</th>\n      <td>Broadway &amp; E 14 St</td>\n      <td>40.734546</td>\n      <td>-73.990741</td>\n      <td>244420</td>\n    </tr>\n    <tr>\n      <th>6</th>\n      <td>Broadway &amp; E 22 St</td>\n      <td>40.740343</td>\n      <td>-73.989551</td>\n      <td>237394</td>\n    </tr>\n    <tr>\n      <th>7</th>\n      <td>8 Ave &amp; W 33 St</td>\n      <td>40.751551</td>\n      <td>-73.993934</td>\n      <td>223970</td>\n    </tr>\n    <tr>\n      <th>8</th>\n      <td>W 20 St &amp; 11 Ave</td>\n      <td>40.746745</td>\n      <td>-74.007756</td>\n      <td>211840</td>\n    </tr>\n    <tr>\n      <th>9</th>\n      <td>Broadway &amp; W 24 St</td>\n      <td>40.742354</td>\n      <td>-73.989151</td>\n      <td>211713</td>\n    </tr>\n  </tbody>\n</table>\n</div>"
          },
          "metadata": {}
        }
      ]
    },
    {
      "metadata": {
        "_uuid": "aae89e46199a866ea68f86da5b7cfbd29729c19f",
        "_cell_guid": "f7e687ec-e485-46b2-8fdc-c7ba3ad795e1"
      },
      "cell_type": "markdown",
      "source": "What are the most popular routes by subscriber type?\n"
    },
    {
      "metadata": {
        "_uuid": "bfccaa57bc46c84e32d870d34c1a90055006028d",
        "_cell_guid": "b3ba5294-272d-44b8-8c6e-2c3db98b8a52",
        "trusted": true
      },
      "cell_type": "code",
      "source": "query17 = \"\"\"SELECT\n  usertype,\n  CONCAT(start_station_name, \" to \", end_station_name) as route,\n  COUNT(*) as num_trips,\n  ROUND(AVG(cast(tripduration as int64) / 60),2) as duration\nFROM\n  `bigquery-public-data.new_york.citibike_trips`\nGROUP BY\n  start_station_name, end_station_name, usertype\nORDER BY\n  num_trips DESC\nLIMIT 10;\n        \"\"\"\nresponse17 = nyc.query_to_pandas_safe(query17, max_gb_scanned=10)\nresponse17.head(30)",
      "execution_count": 24,
      "outputs": [
        {
          "output_type": "execute_result",
          "execution_count": 24,
          "data": {
            "text/plain": "     usertype                                              route  num_trips  \\\n0    Customer   Central Park S & 6 Ave to Central Park S & 6 Ave      40009   \n1    Customer  Grand Army Plaza & Central Park S to Grand Arm...      15234   \n2    Customer  Centre St & Chambers St to Centre St & Chamber...      12466   \n3  Subscriber                 W 21 St & 6 Ave to 9 Ave & W 22 St      11594   \n4    Customer           Broadway & W 60 St to Broadway & W 60 St      10816   \n5  Subscriber                W 21 St & 6 Ave to W 22 St & 10 Ave      10451   \n6  Subscriber         E 7 St & Avenue A to Lafayette St & E 8 St       9639   \n7  Subscriber         West Thames St to Vesey Pl & River Terrace       9218   \n8  Subscriber                 W 17 St & 8 Ave to 8 Ave & W 31 St       8760   \n9  Subscriber        E 43 St & Vanderbilt Ave to W 41 St & 8 Ave       8743   \n\n   duration  \n0     50.89  \n1     52.99  \n2     35.65  \n3      5.35  \n4     52.36  \n5      6.95  \n6      5.59  \n7      6.67  \n8      6.43  \n9      7.04  ",
            "text/html": "<div>\n<style scoped>\n    .dataframe tbody tr th:only-of-type {\n        vertical-align: middle;\n    }\n\n    .dataframe tbody tr th {\n        vertical-align: top;\n    }\n\n    .dataframe thead th {\n        text-align: right;\n    }\n</style>\n<table border=\"1\" class=\"dataframe\">\n  <thead>\n    <tr style=\"text-align: right;\">\n      <th></th>\n      <th>usertype</th>\n      <th>route</th>\n      <th>num_trips</th>\n      <th>duration</th>\n    </tr>\n  </thead>\n  <tbody>\n    <tr>\n      <th>0</th>\n      <td>Customer</td>\n      <td>Central Park S &amp; 6 Ave to Central Park S &amp; 6 Ave</td>\n      <td>40009</td>\n      <td>50.89</td>\n    </tr>\n    <tr>\n      <th>1</th>\n      <td>Customer</td>\n      <td>Grand Army Plaza &amp; Central Park S to Grand Arm...</td>\n      <td>15234</td>\n      <td>52.99</td>\n    </tr>\n    <tr>\n      <th>2</th>\n      <td>Customer</td>\n      <td>Centre St &amp; Chambers St to Centre St &amp; Chamber...</td>\n      <td>12466</td>\n      <td>35.65</td>\n    </tr>\n    <tr>\n      <th>3</th>\n      <td>Subscriber</td>\n      <td>W 21 St &amp; 6 Ave to 9 Ave &amp; W 22 St</td>\n      <td>11594</td>\n      <td>5.35</td>\n    </tr>\n    <tr>\n      <th>4</th>\n      <td>Customer</td>\n      <td>Broadway &amp; W 60 St to Broadway &amp; W 60 St</td>\n      <td>10816</td>\n      <td>52.36</td>\n    </tr>\n    <tr>\n      <th>5</th>\n      <td>Subscriber</td>\n      <td>W 21 St &amp; 6 Ave to W 22 St &amp; 10 Ave</td>\n      <td>10451</td>\n      <td>6.95</td>\n    </tr>\n    <tr>\n      <th>6</th>\n      <td>Subscriber</td>\n      <td>E 7 St &amp; Avenue A to Lafayette St &amp; E 8 St</td>\n      <td>9639</td>\n      <td>5.59</td>\n    </tr>\n    <tr>\n      <th>7</th>\n      <td>Subscriber</td>\n      <td>West Thames St to Vesey Pl &amp; River Terrace</td>\n      <td>9218</td>\n      <td>6.67</td>\n    </tr>\n    <tr>\n      <th>8</th>\n      <td>Subscriber</td>\n      <td>W 17 St &amp; 8 Ave to 8 Ave &amp; W 31 St</td>\n      <td>8760</td>\n      <td>6.43</td>\n    </tr>\n    <tr>\n      <th>9</th>\n      <td>Subscriber</td>\n      <td>E 43 St &amp; Vanderbilt Ave to W 41 St &amp; 8 Ave</td>\n      <td>8743</td>\n      <td>7.04</td>\n    </tr>\n  </tbody>\n</table>\n</div>"
          },
          "metadata": {}
        }
      ]
    },
    {
      "metadata": {
        "_uuid": "025dd5b5d0bdefd0855cc74f8eb40af66756c3cb",
        "_cell_guid": "237bf27b-4d2e-4b20-92cb-1482c64f0391"
      },
      "cell_type": "markdown",
      "source": "What are the most popular citibike routes for women?"
    },
    {
      "metadata": {
        "_uuid": "366bb1ad12479580bdc5609a2e25907a08f27778",
        "_cell_guid": "e5b4e2b6-ffaf-4e2e-b824-fb9a9e5f65b3",
        "trusted": true
      },
      "cell_type": "code",
      "source": "query18 = \"\"\"SELECT\n  CONCAT(start_station_name, \" to \", end_station_name) AS route,\n  COUNT(*) AS num_trips\nFROM\n  `bigquery-public-data.new_york.citibike_trips`\nWHERE\n  gender = \"female\"\n  AND CAST(starttime AS string) LIKE '2016%'\nGROUP BY\n  start_station_name,\n  end_station_name\nORDER BY\n  num_trips DESC\nLIMIT\n  5;\n        \"\"\"\nresponse18 = nyc.query_to_pandas_safe(query18, max_gb_scanned=10)\nresponse18.head(30)",
      "execution_count": 25,
      "outputs": [
        {
          "output_type": "execute_result",
          "execution_count": 25,
          "data": {
            "text/plain": "                                               route  num_trips\n0                W 21 St & 6 Ave to W 22 St & 10 Ave        942\n1  N 6 St & Bedford Ave to Wythe Ave & Metropolit...        905\n2                 W 21 St & 6 Ave to 9 Ave & W 22 St        809\n3  Wythe Ave & Metropolitan Ave to N 6 St & Bedfo...        769\n4                W 22 St & 10 Ave to W 21 St & 6 Ave        765",
            "text/html": "<div>\n<style scoped>\n    .dataframe tbody tr th:only-of-type {\n        vertical-align: middle;\n    }\n\n    .dataframe tbody tr th {\n        vertical-align: top;\n    }\n\n    .dataframe thead th {\n        text-align: right;\n    }\n</style>\n<table border=\"1\" class=\"dataframe\">\n  <thead>\n    <tr style=\"text-align: right;\">\n      <th></th>\n      <th>route</th>\n      <th>num_trips</th>\n    </tr>\n  </thead>\n  <tbody>\n    <tr>\n      <th>0</th>\n      <td>W 21 St &amp; 6 Ave to W 22 St &amp; 10 Ave</td>\n      <td>942</td>\n    </tr>\n    <tr>\n      <th>1</th>\n      <td>N 6 St &amp; Bedford Ave to Wythe Ave &amp; Metropolit...</td>\n      <td>905</td>\n    </tr>\n    <tr>\n      <th>2</th>\n      <td>W 21 St &amp; 6 Ave to 9 Ave &amp; W 22 St</td>\n      <td>809</td>\n    </tr>\n    <tr>\n      <th>3</th>\n      <td>Wythe Ave &amp; Metropolitan Ave to N 6 St &amp; Bedfo...</td>\n      <td>769</td>\n    </tr>\n    <tr>\n      <th>4</th>\n      <td>W 22 St &amp; 10 Ave to W 21 St &amp; 6 Ave</td>\n      <td>765</td>\n    </tr>\n  </tbody>\n</table>\n</div>"
          },
          "metadata": {}
        }
      ]
    },
    {
      "metadata": {
        "_uuid": "2dbc3c49f7a8dfa2c0dd1b41ffdc78d52f47c0d3",
        "_cell_guid": "919ccdd1-8560-4177-9d2f-d029cc3794a6"
      },
      "cell_type": "markdown",
      "source": "What are the most popular citibike routes for men?"
    },
    {
      "metadata": {
        "_uuid": "137fd367edb6dd4a58fdcd188fce0ffc1eef86e2",
        "_cell_guid": "8caeef41-9326-4e89-a702-54fe8e5205cb",
        "trusted": true
      },
      "cell_type": "code",
      "source": "query19 = \"\"\"SELECT\n  CONCAT(start_station_name, \" to \", end_station_name) AS route,\n  COUNT(*) AS num_trips\nFROM\n  `bigquery-public-data.new_york.citibike_trips`\nWHERE\n  gender = \"male\"\n  AND CAST(starttime AS string) LIKE '2016%'\nGROUP BY\n  start_station_name,\n  end_station_name\nORDER BY\n  num_trips DESC\nLIMIT\n  5;\n        \"\"\"\nresponse19 = nyc.query_to_pandas_safe(query19, max_gb_scanned=10)\nresponse19.head(30)",
      "execution_count": 26,
      "outputs": [
        {
          "output_type": "execute_result",
          "execution_count": 26,
          "data": {
            "text/plain": "                                           route  num_trips\n0       Pershing Square North to W 33 St & 7 Ave       3355\n1       Pershing Square North to W 41 St & 8 Ave       3327\n2  Pershing Square North to E 24 St & Park Ave S       2923\n3    Pershing Square North to Broadway & W 32 St       2664\n4             W 21 St & 6 Ave to 9 Ave & W 22 St       2565",
            "text/html": "<div>\n<style scoped>\n    .dataframe tbody tr th:only-of-type {\n        vertical-align: middle;\n    }\n\n    .dataframe tbody tr th {\n        vertical-align: top;\n    }\n\n    .dataframe thead th {\n        text-align: right;\n    }\n</style>\n<table border=\"1\" class=\"dataframe\">\n  <thead>\n    <tr style=\"text-align: right;\">\n      <th></th>\n      <th>route</th>\n      <th>num_trips</th>\n    </tr>\n  </thead>\n  <tbody>\n    <tr>\n      <th>0</th>\n      <td>Pershing Square North to W 33 St &amp; 7 Ave</td>\n      <td>3355</td>\n    </tr>\n    <tr>\n      <th>1</th>\n      <td>Pershing Square North to W 41 St &amp; 8 Ave</td>\n      <td>3327</td>\n    </tr>\n    <tr>\n      <th>2</th>\n      <td>Pershing Square North to E 24 St &amp; Park Ave S</td>\n      <td>2923</td>\n    </tr>\n    <tr>\n      <th>3</th>\n      <td>Pershing Square North to Broadway &amp; W 32 St</td>\n      <td>2664</td>\n    </tr>\n    <tr>\n      <th>4</th>\n      <td>W 21 St &amp; 6 Ave to 9 Ave &amp; W 22 St</td>\n      <td>2565</td>\n    </tr>\n  </tbody>\n</table>\n</div>"
          },
          "metadata": {}
        }
      ]
    },
    {
      "metadata": {
        "_uuid": "4df25ffcb7bdd2b4c7daec6631f8ea6b7e40c0de",
        "_cell_guid": "43005973-e242-4bb9-aa82-5c5783279ffb"
      },
      "cell_type": "markdown",
      "source": "How many trips did Yellow taxis take each month in 2015?\n"
    },
    {
      "metadata": {
        "_uuid": "822dda3220c0486f184ff221bbfe0a6780a2b5cf",
        "_cell_guid": "56fb04dd-7843-469f-aa43-308a31393184",
        "trusted": true
      },
      "cell_type": "code",
      "source": "query20 = \"\"\"SELECT\n  TIMESTAMP_TRUNC(pickup_datetime,\n    MONTH) month,\n  COUNT(*) trips\nFROM\n  `bigquery-public-data.new_york.tlc_yellow_trips_2015`\nGROUP BY\n  1\nORDER BY\n  1;\n        \"\"\"\nresponse20 = nyc.query_to_pandas_safe(query20, max_gb_scanned=10)\nresponse20.head(30)",
      "execution_count": 27,
      "outputs": [
        {
          "output_type": "execute_result",
          "execution_count": 27,
          "data": {
            "text/plain": "                       month     trips\n0  2015-01-01 00:00:00+00:00  12748986\n1  2015-02-01 00:00:00+00:00  12450521\n2  2015-03-01 00:00:00+00:00  13351609\n3  2015-04-01 00:00:00+00:00  13071789\n4  2015-05-01 00:00:00+00:00  13158262\n5  2015-06-01 00:00:00+00:00  12324935\n6  2015-07-01 00:00:00+00:00  11562783\n7  2015-08-01 00:00:00+00:00  11130304\n8  2015-09-01 00:00:00+00:00  11225063\n9  2015-10-01 00:00:00+00:00  12315488\n10 2015-11-01 00:00:00+00:00  11312676\n11 2015-12-01 00:00:00+00:00  11460573",
            "text/html": "<div>\n<style scoped>\n    .dataframe tbody tr th:only-of-type {\n        vertical-align: middle;\n    }\n\n    .dataframe tbody tr th {\n        vertical-align: top;\n    }\n\n    .dataframe thead th {\n        text-align: right;\n    }\n</style>\n<table border=\"1\" class=\"dataframe\">\n  <thead>\n    <tr style=\"text-align: right;\">\n      <th></th>\n      <th>month</th>\n      <th>trips</th>\n    </tr>\n  </thead>\n  <tbody>\n    <tr>\n      <th>0</th>\n      <td>2015-01-01 00:00:00+00:00</td>\n      <td>12748986</td>\n    </tr>\n    <tr>\n      <th>1</th>\n      <td>2015-02-01 00:00:00+00:00</td>\n      <td>12450521</td>\n    </tr>\n    <tr>\n      <th>2</th>\n      <td>2015-03-01 00:00:00+00:00</td>\n      <td>13351609</td>\n    </tr>\n    <tr>\n      <th>3</th>\n      <td>2015-04-01 00:00:00+00:00</td>\n      <td>13071789</td>\n    </tr>\n    <tr>\n      <th>4</th>\n      <td>2015-05-01 00:00:00+00:00</td>\n      <td>13158262</td>\n    </tr>\n    <tr>\n      <th>5</th>\n      <td>2015-06-01 00:00:00+00:00</td>\n      <td>12324935</td>\n    </tr>\n    <tr>\n      <th>6</th>\n      <td>2015-07-01 00:00:00+00:00</td>\n      <td>11562783</td>\n    </tr>\n    <tr>\n      <th>7</th>\n      <td>2015-08-01 00:00:00+00:00</td>\n      <td>11130304</td>\n    </tr>\n    <tr>\n      <th>8</th>\n      <td>2015-09-01 00:00:00+00:00</td>\n      <td>11225063</td>\n    </tr>\n    <tr>\n      <th>9</th>\n      <td>2015-10-01 00:00:00+00:00</td>\n      <td>12315488</td>\n    </tr>\n    <tr>\n      <th>10</th>\n      <td>2015-11-01 00:00:00+00:00</td>\n      <td>11312676</td>\n    </tr>\n    <tr>\n      <th>11</th>\n      <td>2015-12-01 00:00:00+00:00</td>\n      <td>11460573</td>\n    </tr>\n  </tbody>\n</table>\n</div>"
          },
          "metadata": {}
        }
      ]
    },
    {
      "metadata": {
        "_uuid": "d24836bfdd2c0be27bf096c46706c3e92b4294c9",
        "_cell_guid": "6b2cf128-b33b-4b31-b6b6-71c922147c2c"
      },
      "cell_type": "markdown",
      "source": "What was the average speed of Yellow taxi trips in 2015?\n"
    },
    {
      "metadata": {
        "_uuid": "6d7b8f98339bf987f9fe18eabdb05750881e8e6d",
        "_cell_guid": "ad5ce756-390f-478d-8e36-7ee917d91915",
        "trusted": true
      },
      "cell_type": "code",
      "source": "query21 = \"\"\"SELECT\n  EXTRACT(HOUR\n  FROM\n    pickup_datetime) hour,\n  ROUND(AVG(trip_distance / TIMESTAMP_DIFF(dropoff_datetime,\n        pickup_datetime,\n        SECOND))*3600, 1) speed\nFROM\n  `bigquery-public-data.new_york.tlc_yellow_trips_2015`\nWHERE\n  trip_distance > 0\n  AND fare_amount/trip_distance BETWEEN 2\n  AND 10\n  AND dropoff_datetime > pickup_datetime\nGROUP BY\n  1\nORDER BY\n  1;\n        \"\"\"\nresponse21 = nyc.query_to_pandas_safe(query21, max_gb_scanned=10)\nresponse21.head(30)",
      "execution_count": 28,
      "outputs": [
        {
          "output_type": "execute_result",
          "execution_count": 28,
          "data": {
            "text/plain": "    hour  speed\n0      0   15.8\n1      1   16.3\n2      2   16.8\n3      3   17.5\n4      4   20.0\n5      5   21.6\n6      6   17.6\n7      7   13.7\n8      8   11.6\n9      9   11.4\n10    10   11.5\n11    11   11.3\n12    12   11.2\n13    13   11.3\n14    14   11.2\n15    15   11.0\n16    16   11.5\n17    17   11.2\n18    18   11.1\n19    19   11.8\n20    20   12.9\n21    21   13.6\n22    22   14.1\n23    23   14.9",
            "text/html": "<div>\n<style scoped>\n    .dataframe tbody tr th:only-of-type {\n        vertical-align: middle;\n    }\n\n    .dataframe tbody tr th {\n        vertical-align: top;\n    }\n\n    .dataframe thead th {\n        text-align: right;\n    }\n</style>\n<table border=\"1\" class=\"dataframe\">\n  <thead>\n    <tr style=\"text-align: right;\">\n      <th></th>\n      <th>hour</th>\n      <th>speed</th>\n    </tr>\n  </thead>\n  <tbody>\n    <tr>\n      <th>0</th>\n      <td>0</td>\n      <td>15.8</td>\n    </tr>\n    <tr>\n      <th>1</th>\n      <td>1</td>\n      <td>16.3</td>\n    </tr>\n    <tr>\n      <th>2</th>\n      <td>2</td>\n      <td>16.8</td>\n    </tr>\n    <tr>\n      <th>3</th>\n      <td>3</td>\n      <td>17.5</td>\n    </tr>\n    <tr>\n      <th>4</th>\n      <td>4</td>\n      <td>20.0</td>\n    </tr>\n    <tr>\n      <th>5</th>\n      <td>5</td>\n      <td>21.6</td>\n    </tr>\n    <tr>\n      <th>6</th>\n      <td>6</td>\n      <td>17.6</td>\n    </tr>\n    <tr>\n      <th>7</th>\n      <td>7</td>\n      <td>13.7</td>\n    </tr>\n    <tr>\n      <th>8</th>\n      <td>8</td>\n      <td>11.6</td>\n    </tr>\n    <tr>\n      <th>9</th>\n      <td>9</td>\n      <td>11.4</td>\n    </tr>\n    <tr>\n      <th>10</th>\n      <td>10</td>\n      <td>11.5</td>\n    </tr>\n    <tr>\n      <th>11</th>\n      <td>11</td>\n      <td>11.3</td>\n    </tr>\n    <tr>\n      <th>12</th>\n      <td>12</td>\n      <td>11.2</td>\n    </tr>\n    <tr>\n      <th>13</th>\n      <td>13</td>\n      <td>11.3</td>\n    </tr>\n    <tr>\n      <th>14</th>\n      <td>14</td>\n      <td>11.2</td>\n    </tr>\n    <tr>\n      <th>15</th>\n      <td>15</td>\n      <td>11.0</td>\n    </tr>\n    <tr>\n      <th>16</th>\n      <td>16</td>\n      <td>11.5</td>\n    </tr>\n    <tr>\n      <th>17</th>\n      <td>17</td>\n      <td>11.2</td>\n    </tr>\n    <tr>\n      <th>18</th>\n      <td>18</td>\n      <td>11.1</td>\n    </tr>\n    <tr>\n      <th>19</th>\n      <td>19</td>\n      <td>11.8</td>\n    </tr>\n    <tr>\n      <th>20</th>\n      <td>20</td>\n      <td>12.9</td>\n    </tr>\n    <tr>\n      <th>21</th>\n      <td>21</td>\n      <td>13.6</td>\n    </tr>\n    <tr>\n      <th>22</th>\n      <td>22</td>\n      <td>14.1</td>\n    </tr>\n    <tr>\n      <th>23</th>\n      <td>23</td>\n      <td>14.9</td>\n    </tr>\n  </tbody>\n</table>\n</div>"
          },
          "metadata": {}
        }
      ]
    },
    {
      "metadata": {
        "_uuid": "161ce1737280e7fa0aa579fb97271fb6e591b881",
        "_cell_guid": "98a22229-8a57-4760-9d5d-b359cfe35dec"
      },
      "cell_type": "markdown",
      "source": "What was the average speed of Yellow taxi trips in 2015 by day of week?\n"
    },
    {
      "metadata": {
        "_uuid": "e0cf62230d37dbd2e3a6a3b3b7c1df4301567d23",
        "_cell_guid": "12ec0777-129e-4803-a726-e8d1a0a04877",
        "trusted": true
      },
      "cell_type": "code",
      "source": "query22 = \"\"\"SELECT\n  EXTRACT(DAYOFWEEK\n  FROM\n    pickup_datetime) DAYOFWEEK,\n  ROUND(AVG(trip_distance / TIMESTAMP_DIFF(dropoff_datetime,\n        pickup_datetime,\n        SECOND))*3600, 1) speed\nFROM\n  `bigquery-public-data.new_york.tlc_yellow_trips_2015`\nWHERE\n  trip_distance > 0\n  AND fare_amount/trip_distance BETWEEN 2\n  AND 10\n  AND dropoff_datetime > pickup_datetime\nGROUP BY\n  1\nORDER BY\n  1;\n        \"\"\"\nresponse22 = nyc.query_to_pandas_safe(query22, max_gb_scanned=10)\nresponse22.head(30)",
      "execution_count": 29,
      "outputs": [
        {
          "output_type": "execute_result",
          "execution_count": 29,
          "data": {
            "text/plain": "   DAYOFWEEK  speed\n0          1   14.7\n1          2   13.4\n2          3   12.3\n3          4   12.2\n4          5   12.2\n5          6   12.3\n6          7   13.1",
            "text/html": "<div>\n<style scoped>\n    .dataframe tbody tr th:only-of-type {\n        vertical-align: middle;\n    }\n\n    .dataframe tbody tr th {\n        vertical-align: top;\n    }\n\n    .dataframe thead th {\n        text-align: right;\n    }\n</style>\n<table border=\"1\" class=\"dataframe\">\n  <thead>\n    <tr style=\"text-align: right;\">\n      <th></th>\n      <th>DAYOFWEEK</th>\n      <th>speed</th>\n    </tr>\n  </thead>\n  <tbody>\n    <tr>\n      <th>0</th>\n      <td>1</td>\n      <td>14.7</td>\n    </tr>\n    <tr>\n      <th>1</th>\n      <td>2</td>\n      <td>13.4</td>\n    </tr>\n    <tr>\n      <th>2</th>\n      <td>3</td>\n      <td>12.3</td>\n    </tr>\n    <tr>\n      <th>3</th>\n      <td>4</td>\n      <td>12.2</td>\n    </tr>\n    <tr>\n      <th>4</th>\n      <td>5</td>\n      <td>12.2</td>\n    </tr>\n    <tr>\n      <th>5</th>\n      <td>6</td>\n      <td>12.3</td>\n    </tr>\n    <tr>\n      <th>6</th>\n      <td>7</td>\n      <td>13.1</td>\n    </tr>\n  </tbody>\n</table>\n</div>"
          },
          "metadata": {}
        }
      ]
    },
    {
      "metadata": {
        "_uuid": "f6837ea85e3fa526b3f4ffc27e89ed643ab576b4",
        "collapsed": true,
        "_cell_guid": "70a415e5-3ad5-4200-8050-dc86a7446050",
        "trusted": true
      },
      "cell_type": "code",
      "source": "",
      "execution_count": null,
      "outputs": []
    }
  ],
  "metadata": {
    "language_info": {
      "name": "python",
      "version": "3.6.4",
      "mimetype": "text/x-python",
      "codemirror_mode": {
        "name": "ipython",
        "version": 3
      },
      "pygments_lexer": "ipython3",
      "nbconvert_exporter": "python",
      "file_extension": ".py"
    },
    "kernelspec": {
      "display_name": "Python 3",
      "language": "python",
      "name": "python3"
    }
  },
  "nbformat": 4,
  "nbformat_minor": 1
}