{
  "cells": [
    {
      "metadata": {
        "_cell_guid": "307eb20a-56a5-43b9-832b-a76b338ad5e3",
        "_uuid": "de5c8ef6d5d0ee22ec7e55b629d1c1f08d2b8efd"
      },
      "cell_type": "markdown",
      "source": "**How to Query the World Bank: Global Health, Nutrition, and Population Data (BigQuery Dataset)**"
    },
    {
      "metadata": {
        "collapsed": true,
        "_cell_guid": "b1076dfc-b9ad-4769-8c92-a6c4dae69d19",
        "_uuid": "8f2839f25d086af736a60e9eeb907d3b93b6e0e5",
        "trusted": true
      },
      "cell_type": "code",
      "source": "import bq_helper\nfrom bq_helper import BigQueryHelper\n# https://www.kaggle.com/sohier/introduction-to-the-bq-helper-package\nghnp = bq_helper.BigQueryHelper(active_project=\"bigquery-public-data\",\n                                   dataset_name=\"world_bank_health_population\")",
      "execution_count": 1,
      "outputs": []
    },
    {
      "metadata": {
        "_cell_guid": "b0442c95-01fa-4688-9a30-718347933e0f",
        "_uuid": "a3415035b50ece1df93c6573539798b929a597f5",
        "trusted": true
      },
      "cell_type": "code",
      "source": "bq_assistant = BigQueryHelper(\"bigquery-public-data\", \"world_bank_health_population\")\nbq_assistant.list_tables()",
      "execution_count": 2,
      "outputs": [
        {
          "output_type": "execute_result",
          "execution_count": 2,
          "data": {
            "text/plain": "['country_series_definitions',\n 'country_summary',\n 'health_nutrition_population',\n 'series_summary',\n 'series_times']"
          },
          "metadata": {}
        }
      ]
    },
    {
      "metadata": {
        "_cell_guid": "a2805b6e-5e32-484c-b1c7-a7e3d364ef35",
        "_uuid": "f6d79a4aae694e0bc61d4dbc4724005d913b9248",
        "trusted": true
      },
      "cell_type": "code",
      "source": "bq_assistant.head(\"health_nutrition_population\", num_rows=30)",
      "execution_count": 3,
      "outputs": [
        {
          "output_type": "execute_result",
          "execution_count": 3,
          "data": {
            "text/plain": "                                         country_name country_code  \\\n0          East Asia & Pacific (IDA & IBRD countries)          TEA   \n1                                              Mexico          MEX   \n2                                    Egypt, Arab Rep.          EGY   \n3                                        Small states          SST   \n4                                               Gabon          GAB   \n5                                         South Sudan          SSD   \n6                                                Mali          MLI   \n7                                                Togo          TGO   \n8                                             Bahrain          BHR   \n9                                               Libya          LBY   \n10                                           Thailand          THA   \n11                                            Georgia          GEO   \n12                                           Cameroon          CMR   \n13  Latin America & Caribbean (excluding high income)          LAC   \n14                                         Azerbaijan          AZE   \n15                                          Australia          AUS   \n16                                Lower middle income          LMC   \n17                                            Nigeria          NGA   \n18                                         Luxembourg          LUX   \n19                                          Guatemala          GTM   \n20                                         Madagascar          MDG   \n21                                          Indonesia          IDN   \n22                                           Slovenia          SVN   \n23                                              Japan          JPN   \n24                                            Lebanon          LBN   \n25                     Central Europe and the Baltics          CEB   \n26                                         Low income          LIC   \n27                                            Ireland          IRL   \n28                                Trinidad and Tobago          TTO   \n29                               Hong Kong SAR, China          HKG   \n\n                                       indicator_name     indicator_code  \\\n0                                  Labor force, total     SL.TLF.TOTL.IN   \n1      Unemployment, female (% of female labor force)  SL.UEM.TOTL.FE.ZS   \n2      Unemployment, female (% of female labor force)  SL.UEM.TOTL.FE.ZS   \n3   Diabetes prevalence (% of population ages 20 t...     SH.STA.DIAB.ZS   \n4          Unemployment, male (% of male labor force)  SL.UEM.TOTL.MA.ZS   \n5   Diabetes prevalence (% of population ages 20 t...     SH.STA.DIAB.ZS   \n6          Unemployment, male (% of male labor force)  SL.UEM.TOTL.MA.ZS   \n7                                  Labor force, total     SL.TLF.TOTL.IN   \n8          Unemployment, male (% of male labor force)  SL.UEM.TOTL.MA.ZS   \n9        Unemployment, total (% of total labor force)     SL.UEM.TOTL.ZS   \n10         Unemployment, male (% of male labor force)  SL.UEM.TOTL.MA.ZS   \n11       Labor force, female (% of total labor force)  SL.TLF.TOTL.FE.ZS   \n12     Unemployment, female (% of female labor force)  SL.UEM.TOTL.FE.ZS   \n13       Labor force, female (% of total labor force)  SL.TLF.TOTL.FE.ZS   \n14  Diabetes prevalence (% of population ages 20 t...     SH.STA.DIAB.ZS   \n15                                 Labor force, total     SL.TLF.TOTL.IN   \n16                                 Labor force, total     SL.TLF.TOTL.IN   \n17     Unemployment, female (% of female labor force)  SL.UEM.TOTL.FE.ZS   \n18         Unemployment, male (% of male labor force)  SL.UEM.TOTL.MA.ZS   \n19                                 Labor force, total     SL.TLF.TOTL.IN   \n20       Unemployment, total (% of total labor force)     SL.UEM.TOTL.ZS   \n21  Poverty headcount ratio at national poverty li...        SI.POV.NAHC   \n22       Unemployment, total (% of total labor force)     SL.UEM.TOTL.ZS   \n23                                 Labor force, total     SL.TLF.TOTL.IN   \n24     Unemployment, female (% of female labor force)  SL.UEM.TOTL.FE.ZS   \n25  Diabetes prevalence (% of population ages 20 t...     SH.STA.DIAB.ZS   \n26       Unemployment, total (% of total labor force)     SL.UEM.TOTL.ZS   \n27       Unemployment, total (% of total labor force)     SL.UEM.TOTL.ZS   \n28                                 Labor force, total     SL.TLF.TOTL.IN   \n29         Unemployment, male (% of male labor force)  SL.UEM.TOTL.MA.ZS   \n\n    year         value  \n0   2017  1.112519e+09  \n1   2017  3.900000e+00  \n2   2017  2.370000e+01  \n3   2017  9.369016e+00  \n4   2017  1.630000e+01  \n5   2017  1.043000e+01  \n6   2017  7.300000e+00  \n7   2017  3.533312e+06  \n8   2017  5.000000e-01  \n9   2017  1.770000e+01  \n10  2017  1.000000e+00  \n11  2017  4.565518e+01  \n12  2017  5.300000e+00  \n13  2017  4.099934e+01  \n14  2017  7.110000e+00  \n15  2017  1.283022e+07  \n16  2017  1.215871e+09  \n17  2017  6.600000e+00  \n18  2017  5.600000e+00  \n19  2017  6.812531e+06  \n20  2017  2.400000e+00  \n21  2017  1.060000e+01  \n22  2017  7.500000e+00  \n23  2017  6.642756e+07  \n24  2017  1.090000e+01  \n25  2017  6.862735e+00  \n26  2017  5.537822e+00  \n27  2017  6.200000e+00  \n28  2017  6.742470e+05  \n29  2017  3.900000e+00  ",
            "text/html": "<div>\n<style scoped>\n    .dataframe tbody tr th:only-of-type {\n        vertical-align: middle;\n    }\n\n    .dataframe tbody tr th {\n        vertical-align: top;\n    }\n\n    .dataframe thead th {\n        text-align: right;\n    }\n</style>\n<table border=\"1\" class=\"dataframe\">\n  <thead>\n    <tr style=\"text-align: right;\">\n      <th></th>\n      <th>country_name</th>\n      <th>country_code</th>\n      <th>indicator_name</th>\n      <th>indicator_code</th>\n      <th>year</th>\n      <th>value</th>\n    </tr>\n  </thead>\n  <tbody>\n    <tr>\n      <th>0</th>\n      <td>East Asia &amp; Pacific (IDA &amp; IBRD countries)</td>\n      <td>TEA</td>\n      <td>Labor force, total</td>\n      <td>SL.TLF.TOTL.IN</td>\n      <td>2017</td>\n      <td>1.112519e+09</td>\n    </tr>\n    <tr>\n      <th>1</th>\n      <td>Mexico</td>\n      <td>MEX</td>\n      <td>Unemployment, female (% of female labor force)</td>\n      <td>SL.UEM.TOTL.FE.ZS</td>\n      <td>2017</td>\n      <td>3.900000e+00</td>\n    </tr>\n    <tr>\n      <th>2</th>\n      <td>Egypt, Arab Rep.</td>\n      <td>EGY</td>\n      <td>Unemployment, female (% of female labor force)</td>\n      <td>SL.UEM.TOTL.FE.ZS</td>\n      <td>2017</td>\n      <td>2.370000e+01</td>\n    </tr>\n    <tr>\n      <th>3</th>\n      <td>Small states</td>\n      <td>SST</td>\n      <td>Diabetes prevalence (% of population ages 20 t...</td>\n      <td>SH.STA.DIAB.ZS</td>\n      <td>2017</td>\n      <td>9.369016e+00</td>\n    </tr>\n    <tr>\n      <th>4</th>\n      <td>Gabon</td>\n      <td>GAB</td>\n      <td>Unemployment, male (% of male labor force)</td>\n      <td>SL.UEM.TOTL.MA.ZS</td>\n      <td>2017</td>\n      <td>1.630000e+01</td>\n    </tr>\n    <tr>\n      <th>5</th>\n      <td>South Sudan</td>\n      <td>SSD</td>\n      <td>Diabetes prevalence (% of population ages 20 t...</td>\n      <td>SH.STA.DIAB.ZS</td>\n      <td>2017</td>\n      <td>1.043000e+01</td>\n    </tr>\n    <tr>\n      <th>6</th>\n      <td>Mali</td>\n      <td>MLI</td>\n      <td>Unemployment, male (% of male labor force)</td>\n      <td>SL.UEM.TOTL.MA.ZS</td>\n      <td>2017</td>\n      <td>7.300000e+00</td>\n    </tr>\n    <tr>\n      <th>7</th>\n      <td>Togo</td>\n      <td>TGO</td>\n      <td>Labor force, total</td>\n      <td>SL.TLF.TOTL.IN</td>\n      <td>2017</td>\n      <td>3.533312e+06</td>\n    </tr>\n    <tr>\n      <th>8</th>\n      <td>Bahrain</td>\n      <td>BHR</td>\n      <td>Unemployment, male (% of male labor force)</td>\n      <td>SL.UEM.TOTL.MA.ZS</td>\n      <td>2017</td>\n      <td>5.000000e-01</td>\n    </tr>\n    <tr>\n      <th>9</th>\n      <td>Libya</td>\n      <td>LBY</td>\n      <td>Unemployment, total (% of total labor force)</td>\n      <td>SL.UEM.TOTL.ZS</td>\n      <td>2017</td>\n      <td>1.770000e+01</td>\n    </tr>\n    <tr>\n      <th>10</th>\n      <td>Thailand</td>\n      <td>THA</td>\n      <td>Unemployment, male (% of male labor force)</td>\n      <td>SL.UEM.TOTL.MA.ZS</td>\n      <td>2017</td>\n      <td>1.000000e+00</td>\n    </tr>\n    <tr>\n      <th>11</th>\n      <td>Georgia</td>\n      <td>GEO</td>\n      <td>Labor force, female (% of total labor force)</td>\n      <td>SL.TLF.TOTL.FE.ZS</td>\n      <td>2017</td>\n      <td>4.565518e+01</td>\n    </tr>\n    <tr>\n      <th>12</th>\n      <td>Cameroon</td>\n      <td>CMR</td>\n      <td>Unemployment, female (% of female labor force)</td>\n      <td>SL.UEM.TOTL.FE.ZS</td>\n      <td>2017</td>\n      <td>5.300000e+00</td>\n    </tr>\n    <tr>\n      <th>13</th>\n      <td>Latin America &amp; Caribbean (excluding high income)</td>\n      <td>LAC</td>\n      <td>Labor force, female (% of total labor force)</td>\n      <td>SL.TLF.TOTL.FE.ZS</td>\n      <td>2017</td>\n      <td>4.099934e+01</td>\n    </tr>\n    <tr>\n      <th>14</th>\n      <td>Azerbaijan</td>\n      <td>AZE</td>\n      <td>Diabetes prevalence (% of population ages 20 t...</td>\n      <td>SH.STA.DIAB.ZS</td>\n      <td>2017</td>\n      <td>7.110000e+00</td>\n    </tr>\n    <tr>\n      <th>15</th>\n      <td>Australia</td>\n      <td>AUS</td>\n      <td>Labor force, total</td>\n      <td>SL.TLF.TOTL.IN</td>\n      <td>2017</td>\n      <td>1.283022e+07</td>\n    </tr>\n    <tr>\n      <th>16</th>\n      <td>Lower middle income</td>\n      <td>LMC</td>\n      <td>Labor force, total</td>\n      <td>SL.TLF.TOTL.IN</td>\n      <td>2017</td>\n      <td>1.215871e+09</td>\n    </tr>\n    <tr>\n      <th>17</th>\n      <td>Nigeria</td>\n      <td>NGA</td>\n      <td>Unemployment, female (% of female labor force)</td>\n      <td>SL.UEM.TOTL.FE.ZS</td>\n      <td>2017</td>\n      <td>6.600000e+00</td>\n    </tr>\n    <tr>\n      <th>18</th>\n      <td>Luxembourg</td>\n      <td>LUX</td>\n      <td>Unemployment, male (% of male labor force)</td>\n      <td>SL.UEM.TOTL.MA.ZS</td>\n      <td>2017</td>\n      <td>5.600000e+00</td>\n    </tr>\n    <tr>\n      <th>19</th>\n      <td>Guatemala</td>\n      <td>GTM</td>\n      <td>Labor force, total</td>\n      <td>SL.TLF.TOTL.IN</td>\n      <td>2017</td>\n      <td>6.812531e+06</td>\n    </tr>\n    <tr>\n      <th>20</th>\n      <td>Madagascar</td>\n      <td>MDG</td>\n      <td>Unemployment, total (% of total labor force)</td>\n      <td>SL.UEM.TOTL.ZS</td>\n      <td>2017</td>\n      <td>2.400000e+00</td>\n    </tr>\n    <tr>\n      <th>21</th>\n      <td>Indonesia</td>\n      <td>IDN</td>\n      <td>Poverty headcount ratio at national poverty li...</td>\n      <td>SI.POV.NAHC</td>\n      <td>2017</td>\n      <td>1.060000e+01</td>\n    </tr>\n    <tr>\n      <th>22</th>\n      <td>Slovenia</td>\n      <td>SVN</td>\n      <td>Unemployment, total (% of total labor force)</td>\n      <td>SL.UEM.TOTL.ZS</td>\n      <td>2017</td>\n      <td>7.500000e+00</td>\n    </tr>\n    <tr>\n      <th>23</th>\n      <td>Japan</td>\n      <td>JPN</td>\n      <td>Labor force, total</td>\n      <td>SL.TLF.TOTL.IN</td>\n      <td>2017</td>\n      <td>6.642756e+07</td>\n    </tr>\n    <tr>\n      <th>24</th>\n      <td>Lebanon</td>\n      <td>LBN</td>\n      <td>Unemployment, female (% of female labor force)</td>\n      <td>SL.UEM.TOTL.FE.ZS</td>\n      <td>2017</td>\n      <td>1.090000e+01</td>\n    </tr>\n    <tr>\n      <th>25</th>\n      <td>Central Europe and the Baltics</td>\n      <td>CEB</td>\n      <td>Diabetes prevalence (% of population ages 20 t...</td>\n      <td>SH.STA.DIAB.ZS</td>\n      <td>2017</td>\n      <td>6.862735e+00</td>\n    </tr>\n    <tr>\n      <th>26</th>\n      <td>Low income</td>\n      <td>LIC</td>\n      <td>Unemployment, total (% of total labor force)</td>\n      <td>SL.UEM.TOTL.ZS</td>\n      <td>2017</td>\n      <td>5.537822e+00</td>\n    </tr>\n    <tr>\n      <th>27</th>\n      <td>Ireland</td>\n      <td>IRL</td>\n      <td>Unemployment, total (% of total labor force)</td>\n      <td>SL.UEM.TOTL.ZS</td>\n      <td>2017</td>\n      <td>6.200000e+00</td>\n    </tr>\n    <tr>\n      <th>28</th>\n      <td>Trinidad and Tobago</td>\n      <td>TTO</td>\n      <td>Labor force, total</td>\n      <td>SL.TLF.TOTL.IN</td>\n      <td>2017</td>\n      <td>6.742470e+05</td>\n    </tr>\n    <tr>\n      <th>29</th>\n      <td>Hong Kong SAR, China</td>\n      <td>HKG</td>\n      <td>Unemployment, male (% of male labor force)</td>\n      <td>SL.UEM.TOTL.MA.ZS</td>\n      <td>2017</td>\n      <td>3.900000e+00</td>\n    </tr>\n  </tbody>\n</table>\n</div>"
          },
          "metadata": {}
        }
      ]
    },
    {
      "metadata": {
        "_cell_guid": "87e3e8b9-e8c4-48fd-99d3-a77034d474bf",
        "_uuid": "bbb18e3c781e1ce11b83342cc42b46b4eb4f1a81",
        "trusted": true
      },
      "cell_type": "code",
      "source": "bq_assistant.table_schema(\"health_nutrition_population\")",
      "execution_count": 4,
      "outputs": [
        {
          "output_type": "execute_result",
          "execution_count": 4,
          "data": {
            "text/plain": "[SchemaField('country_name', 'STRING', 'NULLABLE', '', ()),\n SchemaField('country_code', 'STRING', 'NULLABLE', '', ()),\n SchemaField('indicator_name', 'STRING', 'NULLABLE', '', ()),\n SchemaField('indicator_code', 'STRING', 'NULLABLE', '', ()),\n SchemaField('year', 'INTEGER', 'NULLABLE', '', ()),\n SchemaField('value', 'FLOAT', 'NULLABLE', '', ())]"
          },
          "metadata": {}
        }
      ]
    },
    {
      "metadata": {
        "_cell_guid": "ec2e26b9-885e-4f12-8d20-2f8c494d6f3e",
        "_uuid": "8eeda9ae334f9bc0dc313635abee9c9c0d582f6c"
      },
      "cell_type": "markdown",
      "source": "What’s the average age of first marriages for females around the world?\n\n"
    },
    {
      "metadata": {
        "_cell_guid": "ab7c4d65-3cc2-4192-992c-b030c33b2010",
        "_uuid": "f498dd0e54911bf273ae4a76fd6a2bdaebf96f15",
        "trusted": true
      },
      "cell_type": "code",
      "source": "query1 = \"\"\"\nSELECT\n  country_name,\n  ROUND(AVG(value),2) AS average\nFROM\n  `bigquery-public-data.world_bank_health_population.health_nutrition_population`\nWHERE\n  indicator_code = \"SP.DYN.SMAM.FE\"\n  AND year > 2000\nGROUP BY\n  country_name\nORDER BY\n  average\n;\n        \"\"\"\nresponse1 = ghnp.query_to_pandas_safe(query1)\nresponse1.head(50)",
      "execution_count": 5,
      "outputs": [
        {
          "output_type": "execute_result",
          "execution_count": 5,
          "data": {
            "text/plain": "                      country_name  average\n0                            Niger    16.43\n1         Central African Republic    17.15\n2                             Chad    18.30\n3                             Mali    18.67\n4                       Mozambique    18.76\n5                       Bangladesh    18.92\n6            Sao Tome and Principe    19.10\n7                      Afghanistan    19.23\n8                           Malawi    19.40\n9                       Madagascar    19.40\n10                     South Sudan    19.55\n11                    Burkina Faso    19.73\n12                          Guinea    19.95\n13                          Uganda    20.04\n14                           Nepal    20.07\n15                           Nauru    20.20\n16                           India    20.37\n17                         Somalia    20.40\n18                          Angola    20.40\n19               Equatorial Guinea    20.50\n20                           Benin    20.52\n21                    Sierra Leone    20.54\n22                         Eritrea    20.60\n23                       Nicaragua    20.63\n24                Congo, Dem. Rep.    20.75\n25                Marshall Islands    20.80\n26                        Zimbabwe    20.80\n27                        Tanzania    20.85\n28                        Ethiopia    20.87\n29                 Solomon Islands    20.90\n30                            Cuba    20.97\n31                   Cote d'Ivoire    21.00\n32                          Tuvalu    21.10\n33                         Lao PDR    21.10\n34              Dominican Republic    21.18\n35                        Honduras    21.20\n36  St. Vincent and the Grenadines    21.20\n37                          Zambia    21.30\n38                Papua New Guinea    21.40\n39                        Cameroon    21.48\n40                     Gambia, The    21.53\n41                        Kiribati    21.57\n42                          Guyana    21.57\n43                          Panama    21.60\n44                         Vanuatu    21.60\n45                         Nigeria    21.65\n46                        Barbados    21.70\n47                      Mauritania    21.75\n48                   Guinea-Bissau    21.75\n49                       Guatemala    21.80",
            "text/html": "<div>\n<style scoped>\n    .dataframe tbody tr th:only-of-type {\n        vertical-align: middle;\n    }\n\n    .dataframe tbody tr th {\n        vertical-align: top;\n    }\n\n    .dataframe thead th {\n        text-align: right;\n    }\n</style>\n<table border=\"1\" class=\"dataframe\">\n  <thead>\n    <tr style=\"text-align: right;\">\n      <th></th>\n      <th>country_name</th>\n      <th>average</th>\n    </tr>\n  </thead>\n  <tbody>\n    <tr>\n      <th>0</th>\n      <td>Niger</td>\n      <td>16.43</td>\n    </tr>\n    <tr>\n      <th>1</th>\n      <td>Central African Republic</td>\n      <td>17.15</td>\n    </tr>\n    <tr>\n      <th>2</th>\n      <td>Chad</td>\n      <td>18.30</td>\n    </tr>\n    <tr>\n      <th>3</th>\n      <td>Mali</td>\n      <td>18.67</td>\n    </tr>\n    <tr>\n      <th>4</th>\n      <td>Mozambique</td>\n      <td>18.76</td>\n    </tr>\n    <tr>\n      <th>5</th>\n      <td>Bangladesh</td>\n      <td>18.92</td>\n    </tr>\n    <tr>\n      <th>6</th>\n      <td>Sao Tome and Principe</td>\n      <td>19.10</td>\n    </tr>\n    <tr>\n      <th>7</th>\n      <td>Afghanistan</td>\n      <td>19.23</td>\n    </tr>\n    <tr>\n      <th>8</th>\n      <td>Malawi</td>\n      <td>19.40</td>\n    </tr>\n    <tr>\n      <th>9</th>\n      <td>Madagascar</td>\n      <td>19.40</td>\n    </tr>\n    <tr>\n      <th>10</th>\n      <td>South Sudan</td>\n      <td>19.55</td>\n    </tr>\n    <tr>\n      <th>11</th>\n      <td>Burkina Faso</td>\n      <td>19.73</td>\n    </tr>\n    <tr>\n      <th>12</th>\n      <td>Guinea</td>\n      <td>19.95</td>\n    </tr>\n    <tr>\n      <th>13</th>\n      <td>Uganda</td>\n      <td>20.04</td>\n    </tr>\n    <tr>\n      <th>14</th>\n      <td>Nepal</td>\n      <td>20.07</td>\n    </tr>\n    <tr>\n      <th>15</th>\n      <td>Nauru</td>\n      <td>20.20</td>\n    </tr>\n    <tr>\n      <th>16</th>\n      <td>India</td>\n      <td>20.37</td>\n    </tr>\n    <tr>\n      <th>17</th>\n      <td>Somalia</td>\n      <td>20.40</td>\n    </tr>\n    <tr>\n      <th>18</th>\n      <td>Angola</td>\n      <td>20.40</td>\n    </tr>\n    <tr>\n      <th>19</th>\n      <td>Equatorial Guinea</td>\n      <td>20.50</td>\n    </tr>\n    <tr>\n      <th>20</th>\n      <td>Benin</td>\n      <td>20.52</td>\n    </tr>\n    <tr>\n      <th>21</th>\n      <td>Sierra Leone</td>\n      <td>20.54</td>\n    </tr>\n    <tr>\n      <th>22</th>\n      <td>Eritrea</td>\n      <td>20.60</td>\n    </tr>\n    <tr>\n      <th>23</th>\n      <td>Nicaragua</td>\n      <td>20.63</td>\n    </tr>\n    <tr>\n      <th>24</th>\n      <td>Congo, Dem. Rep.</td>\n      <td>20.75</td>\n    </tr>\n    <tr>\n      <th>25</th>\n      <td>Marshall Islands</td>\n      <td>20.80</td>\n    </tr>\n    <tr>\n      <th>26</th>\n      <td>Zimbabwe</td>\n      <td>20.80</td>\n    </tr>\n    <tr>\n      <th>27</th>\n      <td>Tanzania</td>\n      <td>20.85</td>\n    </tr>\n    <tr>\n      <th>28</th>\n      <td>Ethiopia</td>\n      <td>20.87</td>\n    </tr>\n    <tr>\n      <th>29</th>\n      <td>Solomon Islands</td>\n      <td>20.90</td>\n    </tr>\n    <tr>\n      <th>30</th>\n      <td>Cuba</td>\n      <td>20.97</td>\n    </tr>\n    <tr>\n      <th>31</th>\n      <td>Cote d'Ivoire</td>\n      <td>21.00</td>\n    </tr>\n    <tr>\n      <th>32</th>\n      <td>Tuvalu</td>\n      <td>21.10</td>\n    </tr>\n    <tr>\n      <th>33</th>\n      <td>Lao PDR</td>\n      <td>21.10</td>\n    </tr>\n    <tr>\n      <th>34</th>\n      <td>Dominican Republic</td>\n      <td>21.18</td>\n    </tr>\n    <tr>\n      <th>35</th>\n      <td>Honduras</td>\n      <td>21.20</td>\n    </tr>\n    <tr>\n      <th>36</th>\n      <td>St. Vincent and the Grenadines</td>\n      <td>21.20</td>\n    </tr>\n    <tr>\n      <th>37</th>\n      <td>Zambia</td>\n      <td>21.30</td>\n    </tr>\n    <tr>\n      <th>38</th>\n      <td>Papua New Guinea</td>\n      <td>21.40</td>\n    </tr>\n    <tr>\n      <th>39</th>\n      <td>Cameroon</td>\n      <td>21.48</td>\n    </tr>\n    <tr>\n      <th>40</th>\n      <td>Gambia, The</td>\n      <td>21.53</td>\n    </tr>\n    <tr>\n      <th>41</th>\n      <td>Kiribati</td>\n      <td>21.57</td>\n    </tr>\n    <tr>\n      <th>42</th>\n      <td>Guyana</td>\n      <td>21.57</td>\n    </tr>\n    <tr>\n      <th>43</th>\n      <td>Panama</td>\n      <td>21.60</td>\n    </tr>\n    <tr>\n      <th>44</th>\n      <td>Vanuatu</td>\n      <td>21.60</td>\n    </tr>\n    <tr>\n      <th>45</th>\n      <td>Nigeria</td>\n      <td>21.65</td>\n    </tr>\n    <tr>\n      <th>46</th>\n      <td>Barbados</td>\n      <td>21.70</td>\n    </tr>\n    <tr>\n      <th>47</th>\n      <td>Mauritania</td>\n      <td>21.75</td>\n    </tr>\n    <tr>\n      <th>48</th>\n      <td>Guinea-Bissau</td>\n      <td>21.75</td>\n    </tr>\n    <tr>\n      <th>49</th>\n      <td>Guatemala</td>\n      <td>21.80</td>\n    </tr>\n  </tbody>\n</table>\n</div>"
          },
          "metadata": {}
        }
      ]
    },
    {
      "metadata": {
        "collapsed": true,
        "_cell_guid": "87ba4e16-08e7-4325-b0ab-e35a0cf07479",
        "_uuid": "450d392be87f17bcf55e86d2ee1c42f6b24d539d",
        "trusted": true
      },
      "cell_type": "code",
      "source": "",
      "execution_count": null,
      "outputs": []
    }
  ],
  "metadata": {
    "language_info": {
      "name": "python",
      "version": "3.6.4",
      "mimetype": "text/x-python",
      "codemirror_mode": {
        "name": "ipython",
        "version": 3
      },
      "pygments_lexer": "ipython3",
      "nbconvert_exporter": "python",
      "file_extension": ".py"
    },
    "kernelspec": {
      "display_name": "Python 3",
      "language": "python",
      "name": "python3"
    }
  },
  "nbformat": 4,
  "nbformat_minor": 1
}