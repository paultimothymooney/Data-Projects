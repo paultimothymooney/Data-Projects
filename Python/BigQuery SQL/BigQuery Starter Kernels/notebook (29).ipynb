{
  "cells": [
    {
      "metadata": {
        "_uuid": "de5c8ef6d5d0ee22ec7e55b629d1c1f08d2b8efd",
        "_cell_guid": "307eb20a-56a5-43b9-832b-a76b338ad5e3"
      },
      "cell_type": "markdown",
      "source": "**How to Query the Chicago Taxi Dataset (BigQuery)**"
    },
    {
      "metadata": {
        "_uuid": "8f2839f25d086af736a60e9eeb907d3b93b6e0e5",
        "_cell_guid": "b1076dfc-b9ad-4769-8c92-a6c4dae69d19",
        "collapsed": true,
        "trusted": true
      },
      "cell_type": "code",
      "source": "import bq_helper\nfrom bq_helper import BigQueryHelper\n# https://www.kaggle.com/sohier/introduction-to-the-bq-helper-package\nchicago_taxi = bq_helper.BigQueryHelper(active_project=\"bigquery-public-data\",\n                                   dataset_name=\"chicago_taxi_trips\")",
      "execution_count": 1,
      "outputs": []
    },
    {
      "metadata": {
        "_uuid": "a3415035b50ece1df93c6573539798b929a597f5",
        "_cell_guid": "b0442c95-01fa-4688-9a30-718347933e0f",
        "trusted": true
      },
      "cell_type": "code",
      "source": "bq_assistant = BigQueryHelper(\"bigquery-public-data\", \"chicago_taxi_trips\")\nbq_assistant.list_tables()",
      "execution_count": 2,
      "outputs": [
        {
          "output_type": "execute_result",
          "execution_count": 2,
          "data": {
            "text/plain": "['taxi_trips']"
          },
          "metadata": {}
        }
      ]
    },
    {
      "metadata": {
        "_uuid": "f6d79a4aae694e0bc61d4dbc4724005d913b9248",
        "_cell_guid": "a2805b6e-5e32-484c-b1c7-a7e3d364ef35",
        "trusted": true
      },
      "cell_type": "code",
      "source": "bq_assistant.head(\"taxi_trips\", num_rows=3)",
      "execution_count": 3,
      "outputs": [
        {
          "output_type": "execute_result",
          "execution_count": 3,
          "data": {
            "text/plain": "                                 unique_key  \\\n0  c63b0eac4ae81ec853c9301063ccd33980de19ad   \n1  979f6b589770f650a601ab5bd806399f0bb6fb8a   \n2  272e6d08a7bd88b024a8fe3955bb216f09a417d4   \n\n                                             taxi_id  \\\n0  dd6e5bcacd9a0f2cf09ca5ffe57409184500b08460811a...   \n1  6f2cc4053af60221e38f6ab9fd083abee209098b045aa1...   \n2  1e09e6453a168cabfcca5a4c9f4d1cb01fd4b38f58e2d9...   \n\n       trip_start_timestamp        trip_end_timestamp  trip_seconds  \\\n0 2014-05-29 09:45:00+00:00 2014-05-29 10:00:00+00:00          1080   \n1 2013-06-26 00:45:00+00:00 2013-06-26 01:00:00+00:00          1440   \n2 2013-11-07 12:00:00+00:00 2013-11-07 12:15:00+00:00           660   \n\n   trip_miles pickup_census_tract  dropoff_census_tract  \\\n0         0.0                None           17031839100   \n1        33.7                None           17031081300   \n2         0.0                None           17031281900   \n\n   pickup_community_area  dropoff_community_area  \\\n0                      6                      32   \n1                     76                       8   \n2                     33                      28   \n\n                   ...                   extras  trip_total  payment_type  \\\n0                  ...                      0.0       19.05   Credit Card   \n1                  ...                      2.0       69.84          Cash   \n2                  ...                      1.0       12.50   Credit Card   \n\n                             company  pickup_latitude pickup_longitude  \\\n0          Taxi Affiliation Services        41.943155       -87.640698   \n1                                           41.979071       -87.903040   \n2  Blue Ribbon Taxi Association Inc.        41.849247       -87.624135   \n\n                        pickup_location  dropoff_latitude  dropoff_longitude  \\\n0   POINT (-87.640698076 41.9431550855)         41.880994         -87.632746   \n1  POINT (-87.9030396611 41.9790708201)         41.898332         -87.620763   \n2  POINT (-87.6241352979 41.8492467545)         41.879255         -87.642649   \n\n                       dropoff_location  \n0  POINT (-87.6327464887 41.8809944707)  \n1  POINT (-87.6207628651 41.8983317935)  \n2   POINT (-87.642648998 41.8792550844)  \n\n[3 rows x 23 columns]",
            "text/html": "<div>\n<style scoped>\n    .dataframe tbody tr th:only-of-type {\n        vertical-align: middle;\n    }\n\n    .dataframe tbody tr th {\n        vertical-align: top;\n    }\n\n    .dataframe thead th {\n        text-align: right;\n    }\n</style>\n<table border=\"1\" class=\"dataframe\">\n  <thead>\n    <tr style=\"text-align: right;\">\n      <th></th>\n      <th>unique_key</th>\n      <th>taxi_id</th>\n      <th>trip_start_timestamp</th>\n      <th>trip_end_timestamp</th>\n      <th>trip_seconds</th>\n      <th>trip_miles</th>\n      <th>pickup_census_tract</th>\n      <th>dropoff_census_tract</th>\n      <th>pickup_community_area</th>\n      <th>dropoff_community_area</th>\n      <th>...</th>\n      <th>extras</th>\n      <th>trip_total</th>\n      <th>payment_type</th>\n      <th>company</th>\n      <th>pickup_latitude</th>\n      <th>pickup_longitude</th>\n      <th>pickup_location</th>\n      <th>dropoff_latitude</th>\n      <th>dropoff_longitude</th>\n      <th>dropoff_location</th>\n    </tr>\n  </thead>\n  <tbody>\n    <tr>\n      <th>0</th>\n      <td>c63b0eac4ae81ec853c9301063ccd33980de19ad</td>\n      <td>dd6e5bcacd9a0f2cf09ca5ffe57409184500b08460811a...</td>\n      <td>2014-05-29 09:45:00+00:00</td>\n      <td>2014-05-29 10:00:00+00:00</td>\n      <td>1080</td>\n      <td>0.0</td>\n      <td>None</td>\n      <td>17031839100</td>\n      <td>6</td>\n      <td>32</td>\n      <td>...</td>\n      <td>0.0</td>\n      <td>19.05</td>\n      <td>Credit Card</td>\n      <td>Taxi Affiliation Services</td>\n      <td>41.943155</td>\n      <td>-87.640698</td>\n      <td>POINT (-87.640698076 41.9431550855)</td>\n      <td>41.880994</td>\n      <td>-87.632746</td>\n      <td>POINT (-87.6327464887 41.8809944707)</td>\n    </tr>\n    <tr>\n      <th>1</th>\n      <td>979f6b589770f650a601ab5bd806399f0bb6fb8a</td>\n      <td>6f2cc4053af60221e38f6ab9fd083abee209098b045aa1...</td>\n      <td>2013-06-26 00:45:00+00:00</td>\n      <td>2013-06-26 01:00:00+00:00</td>\n      <td>1440</td>\n      <td>33.7</td>\n      <td>None</td>\n      <td>17031081300</td>\n      <td>76</td>\n      <td>8</td>\n      <td>...</td>\n      <td>2.0</td>\n      <td>69.84</td>\n      <td>Cash</td>\n      <td></td>\n      <td>41.979071</td>\n      <td>-87.903040</td>\n      <td>POINT (-87.9030396611 41.9790708201)</td>\n      <td>41.898332</td>\n      <td>-87.620763</td>\n      <td>POINT (-87.6207628651 41.8983317935)</td>\n    </tr>\n    <tr>\n      <th>2</th>\n      <td>272e6d08a7bd88b024a8fe3955bb216f09a417d4</td>\n      <td>1e09e6453a168cabfcca5a4c9f4d1cb01fd4b38f58e2d9...</td>\n      <td>2013-11-07 12:00:00+00:00</td>\n      <td>2013-11-07 12:15:00+00:00</td>\n      <td>660</td>\n      <td>0.0</td>\n      <td>None</td>\n      <td>17031281900</td>\n      <td>33</td>\n      <td>28</td>\n      <td>...</td>\n      <td>1.0</td>\n      <td>12.50</td>\n      <td>Credit Card</td>\n      <td>Blue Ribbon Taxi Association Inc.</td>\n      <td>41.849247</td>\n      <td>-87.624135</td>\n      <td>POINT (-87.6241352979 41.8492467545)</td>\n      <td>41.879255</td>\n      <td>-87.642649</td>\n      <td>POINT (-87.642648998 41.8792550844)</td>\n    </tr>\n  </tbody>\n</table>\n<p>3 rows × 23 columns</p>\n</div>"
          },
          "metadata": {}
        }
      ]
    },
    {
      "metadata": {
        "_kg_hide-output": true,
        "_uuid": "bbb18e3c781e1ce11b83342cc42b46b4eb4f1a81",
        "_cell_guid": "87e3e8b9-e8c4-48fd-99d3-a77034d474bf",
        "trusted": true
      },
      "cell_type": "code",
      "source": "bq_assistant.table_schema(\"taxi_trips\")",
      "execution_count": 4,
      "outputs": [
        {
          "output_type": "execute_result",
          "execution_count": 4,
          "data": {
            "text/plain": "[SchemaField('unique_key', 'STRING', 'REQUIRED', 'Unique identifier for the trip.', ()),\n SchemaField('taxi_id', 'STRING', 'REQUIRED', 'A unique identifier for the taxi.', ()),\n SchemaField('trip_start_timestamp', 'TIMESTAMP', 'NULLABLE', 'When the trip started, rounded to the nearest 15 minutes.', ()),\n SchemaField('trip_end_timestamp', 'TIMESTAMP', 'NULLABLE', 'When the trip ended, rounded to the nearest 15 minutes.', ()),\n SchemaField('trip_seconds', 'INTEGER', 'NULLABLE', 'Time of the trip in seconds.', ()),\n SchemaField('trip_miles', 'FLOAT', 'NULLABLE', 'Distance of the trip in miles.', ()),\n SchemaField('pickup_census_tract', 'INTEGER', 'NULLABLE', 'The Census Tract where the trip began. For privacy, this Census Tract is not shown for some trips.', ()),\n SchemaField('dropoff_census_tract', 'INTEGER', 'NULLABLE', 'The Census Tract where the trip ended. For privacy, this Census Tract is not shown for some trips.', ()),\n SchemaField('pickup_community_area', 'INTEGER', 'NULLABLE', 'The Community Area where the trip began.', ()),\n SchemaField('dropoff_community_area', 'INTEGER', 'NULLABLE', 'The Community Area where the trip ended.', ()),\n SchemaField('fare', 'FLOAT', 'NULLABLE', 'The fare for the trip.', ()),\n SchemaField('tips', 'FLOAT', 'NULLABLE', 'The tip for the trip. Cash tips generally will not be recorded.', ()),\n SchemaField('tolls', 'FLOAT', 'NULLABLE', 'The tolls for the trip.', ()),\n SchemaField('extras', 'FLOAT', 'NULLABLE', 'Extra charges for the trip.', ()),\n SchemaField('trip_total', 'FLOAT', 'NULLABLE', 'Total cost of the trip, the total of the fare, tips, tolls, and extras.', ()),\n SchemaField('payment_type', 'STRING', 'NULLABLE', 'Type of payment for the trip.', ()),\n SchemaField('company', 'STRING', 'NULLABLE', 'The taxi company.', ()),\n SchemaField('pickup_latitude', 'FLOAT', 'NULLABLE', 'The latitude of the center of the pickup census tract or the community area if the census tract has been hidden for privacy.', ()),\n SchemaField('pickup_longitude', 'FLOAT', 'NULLABLE', 'The longitude of the center of the pickup census tract or the community area if the census tract has been hidden for privacy.', ()),\n SchemaField('pickup_location', 'STRING', 'NULLABLE', 'The location of the center of the pickup census tract or the community area if the census tract has been hidden for privacy.', ()),\n SchemaField('dropoff_latitude', 'FLOAT', 'NULLABLE', 'The latitude of the center of the dropoff census tract or the community area if the census tract has been hidden for privacy.', ()),\n SchemaField('dropoff_longitude', 'FLOAT', 'NULLABLE', 'The longitude of the center of the dropoff census tract or the community area if the census tract has been hidden for privacy.', ()),\n SchemaField('dropoff_location', 'STRING', 'NULLABLE', 'The location of the center of the dropoff census tract or the community area if the census tract has been hidden for privacy.', ())]"
          },
          "metadata": {}
        }
      ]
    },
    {
      "metadata": {
        "_uuid": "8eeda9ae334f9bc0dc313635abee9c9c0d582f6c",
        "_cell_guid": "ec2e26b9-885e-4f12-8d20-2f8c494d6f3e"
      },
      "cell_type": "markdown",
      "source": "What are the maximum, minimum and average fares for rides lasting 10 minutes or more?\n"
    },
    {
      "metadata": {
        "_uuid": "f498dd0e54911bf273ae4a76fd6a2bdaebf96f15",
        "_cell_guid": "ab7c4d65-3cc2-4192-992c-b030c33b2010",
        "trusted": true
      },
      "cell_type": "code",
      "source": "query1 = \"\"\"SELECT\n  EXTRACT(DAYOFWEEK FROM trip_start_timestamp) AS day,\n  FORMAT('%3.2f', MAX(fare)) AS maximum_fare,\n  FORMAT('%3.2f', MIN(fare)) AS minimum_fare,\n  FORMAT('%3.2f', AVG(fare)) AS avg_fare,\n  FORMAT('%3.2f', STDDEV(fare)) AS std_dev_fare,\n  COUNT(1) AS rides\nFROM\n  `bigquery-public-data.chicago_taxi_trips.taxi_trips`\nWHERE\n  trip_seconds >= 600\nGROUP BY\n  day\nORDER BY\n  day\n        \"\"\"\nresponse1 = chicago_taxi.query_to_pandas_safe(query1, max_gb_scanned=10)\nresponse1.head(10)",
      "execution_count": 5,
      "outputs": [
        {
          "output_type": "execute_result",
          "execution_count": 5,
          "data": {
            "text/plain": "   day maximum_fare minimum_fare avg_fare std_dev_fare    rides\n0    1      9900.41         0.00    18.48        53.30  5466828\n1    2      9900.42         0.00    19.91        59.87  5028575\n2    3      9900.41         0.00    18.68        57.43  5295719\n3    4      9825.04         0.00    18.70        60.21  5667210\n4    5      9702.08         0.00    18.45        55.54  6187603\n5    6      9900.45         0.00    17.39        59.58  7172208\n6    7      9900.21         0.00    15.59        53.57  6910394",
            "text/html": "<div>\n<style scoped>\n    .dataframe tbody tr th:only-of-type {\n        vertical-align: middle;\n    }\n\n    .dataframe tbody tr th {\n        vertical-align: top;\n    }\n\n    .dataframe thead th {\n        text-align: right;\n    }\n</style>\n<table border=\"1\" class=\"dataframe\">\n  <thead>\n    <tr style=\"text-align: right;\">\n      <th></th>\n      <th>day</th>\n      <th>maximum_fare</th>\n      <th>minimum_fare</th>\n      <th>avg_fare</th>\n      <th>std_dev_fare</th>\n      <th>rides</th>\n    </tr>\n  </thead>\n  <tbody>\n    <tr>\n      <th>0</th>\n      <td>1</td>\n      <td>9900.41</td>\n      <td>0.00</td>\n      <td>18.48</td>\n      <td>53.30</td>\n      <td>5466828</td>\n    </tr>\n    <tr>\n      <th>1</th>\n      <td>2</td>\n      <td>9900.42</td>\n      <td>0.00</td>\n      <td>19.91</td>\n      <td>59.87</td>\n      <td>5028575</td>\n    </tr>\n    <tr>\n      <th>2</th>\n      <td>3</td>\n      <td>9900.41</td>\n      <td>0.00</td>\n      <td>18.68</td>\n      <td>57.43</td>\n      <td>5295719</td>\n    </tr>\n    <tr>\n      <th>3</th>\n      <td>4</td>\n      <td>9825.04</td>\n      <td>0.00</td>\n      <td>18.70</td>\n      <td>60.21</td>\n      <td>5667210</td>\n    </tr>\n    <tr>\n      <th>4</th>\n      <td>5</td>\n      <td>9702.08</td>\n      <td>0.00</td>\n      <td>18.45</td>\n      <td>55.54</td>\n      <td>6187603</td>\n    </tr>\n    <tr>\n      <th>5</th>\n      <td>6</td>\n      <td>9900.45</td>\n      <td>0.00</td>\n      <td>17.39</td>\n      <td>59.58</td>\n      <td>7172208</td>\n    </tr>\n    <tr>\n      <th>6</th>\n      <td>7</td>\n      <td>9900.21</td>\n      <td>0.00</td>\n      <td>15.59</td>\n      <td>53.57</td>\n      <td>6910394</td>\n    </tr>\n  </tbody>\n</table>\n</div>"
          },
          "metadata": {}
        }
      ]
    },
    {
      "metadata": {
        "_uuid": "ef06f0f96cdffd2af224c796a423304f914d7da9",
        "_cell_guid": "e53dbcf0-eaba-474f-b83c-fa7fc5e69a81"
      },
      "cell_type": "markdown",
      "source": "Which drop-off areas have the highest average tip?\n"
    },
    {
      "metadata": {
        "_uuid": "77d0841a15c7675c6e2506e02762ed6892629d59",
        "_cell_guid": "f9ea65cb-a34a-4e54-b7dd-8eb964aba953",
        "trusted": true
      },
      "cell_type": "code",
      "source": "query2 = \"\"\"SELECT\n  dropoff_community_area,\n  FORMAT('%3.2f', AVG(tips)) AS average_tip,\n  FORMAT('%3.2f', MAX(tips)) AS max_tip\nFROM\n  `bigquery-public-data.chicago_taxi_trips.taxi_trips`\nWHERE\n  dropoff_community_area IS NOT NULL\nGROUP BY\n  dropoff_community_area\nORDER BY\n  average_tip DESC\nLIMIT\n  10\n        \"\"\"\nresponse2 = chicago_taxi.query_to_pandas_safe(query2, max_gb_scanned=10)\nresponse2.head(10)",
      "execution_count": 6,
      "outputs": [
        {
          "output_type": "execute_result",
          "execution_count": 6,
          "data": {
            "text/plain": "   dropoff_community_area average_tip max_tip\n0                      76        3.54  596.85\n1                      72        3.27   80.00\n2                      56        3.00  285.00\n3                      74        2.39  150.00\n4                      75        2.00   75.00\n5                       9        1.72   74.75\n6                      41        1.69   97.00\n7                      64        1.63  100.00\n8                      55        1.56   27.90\n9                      42        1.37   90.00",
            "text/html": "<div>\n<style scoped>\n    .dataframe tbody tr th:only-of-type {\n        vertical-align: middle;\n    }\n\n    .dataframe tbody tr th {\n        vertical-align: top;\n    }\n\n    .dataframe thead th {\n        text-align: right;\n    }\n</style>\n<table border=\"1\" class=\"dataframe\">\n  <thead>\n    <tr style=\"text-align: right;\">\n      <th></th>\n      <th>dropoff_community_area</th>\n      <th>average_tip</th>\n      <th>max_tip</th>\n    </tr>\n  </thead>\n  <tbody>\n    <tr>\n      <th>0</th>\n      <td>76</td>\n      <td>3.54</td>\n      <td>596.85</td>\n    </tr>\n    <tr>\n      <th>1</th>\n      <td>72</td>\n      <td>3.27</td>\n      <td>80.00</td>\n    </tr>\n    <tr>\n      <th>2</th>\n      <td>56</td>\n      <td>3.00</td>\n      <td>285.00</td>\n    </tr>\n    <tr>\n      <th>3</th>\n      <td>74</td>\n      <td>2.39</td>\n      <td>150.00</td>\n    </tr>\n    <tr>\n      <th>4</th>\n      <td>75</td>\n      <td>2.00</td>\n      <td>75.00</td>\n    </tr>\n    <tr>\n      <th>5</th>\n      <td>9</td>\n      <td>1.72</td>\n      <td>74.75</td>\n    </tr>\n    <tr>\n      <th>6</th>\n      <td>41</td>\n      <td>1.69</td>\n      <td>97.00</td>\n    </tr>\n    <tr>\n      <th>7</th>\n      <td>64</td>\n      <td>1.63</td>\n      <td>100.00</td>\n    </tr>\n    <tr>\n      <th>8</th>\n      <td>55</td>\n      <td>1.56</td>\n      <td>27.90</td>\n    </tr>\n    <tr>\n      <th>9</th>\n      <td>42</td>\n      <td>1.37</td>\n      <td>90.00</td>\n    </tr>\n  </tbody>\n</table>\n</div>"
          },
          "metadata": {}
        }
      ]
    },
    {
      "metadata": {
        "_uuid": "03b7f712e458da8be3ad91b4a96b7dad4f282e3b",
        "_cell_guid": "e5ea144c-7388-4dbd-99ce-c144d75855a4"
      },
      "cell_type": "markdown",
      "source": "How does trip duration affect fare rates for trips lasting less than 90 minutes?\n"
    },
    {
      "metadata": {
        "_uuid": "d597435820237905733ce8d5897a29f34af22dd7",
        "_cell_guid": "44cacead-3add-4047-bb10-b5f705b99656",
        "trusted": true
      },
      "cell_type": "code",
      "source": "query3 = \"\"\"SELECT\n  FORMAT('%02.0fm to %02.0fm', min_minutes, max_minutes) AS minutes_range,\n  SUM(trips) AS total_trips,\n  FORMAT('%3.2f', SUM(total_fare) / SUM(trips)) AS average_fare\nFROM (\n  SELECT\n    MIN(duration_in_minutes) OVER (quantiles) AS min_minutes,\n    MAX(duration_in_minutes) OVER (quantiles) AS max_minutes,\n    SUM(trips) AS trips,\n    SUM(total_fare) AS total_fare\n  FROM (\n    SELECT\n      ROUND(trip_seconds / 60) AS duration_in_minutes,\n      NTILE(10) OVER (ORDER BY trip_seconds / 60) AS quantile,\n      COUNT(1) AS trips,\n      SUM(fare) AS total_fare\n    FROM\n      `bigquery-public-data.chicago_taxi_trips.taxi_trips`\n    WHERE\n      ROUND(trip_seconds / 60) BETWEEN 1 AND 90\n    GROUP BY\n      trip_seconds,\n      duration_in_minutes )\n  GROUP BY\n    duration_in_minutes,\n    quantile\n  WINDOW quantiles AS (PARTITION BY quantile)\n  )\nGROUP BY\n  minutes_range\nORDER BY\n  Minutes_range\n        \"\"\"\nresponse3 = chicago_taxi.query_to_pandas_safe(query3, max_gb_scanned=10)\nresponse3.head(10)",
      "execution_count": 7,
      "outputs": [
        {
          "output_type": "execute_result",
          "execution_count": 7,
          "data": {
            "text/plain": "  minutes_range  total_trips average_fare\n0    01m to 07m     29462275         6.17\n1    07m to 14m     26605869         9.20\n2    14m to 20m     12461147        14.31\n3    20m to 27m      5275740        24.01\n4    27m to 33m      3402285        29.82\n5    33m to 40m      1936548        34.17\n6    40m to 47m      1188024        36.99\n7    47m to 55m       816889        39.27\n8    55m to 66m       524929        41.88\n9    66m to 90m       363612        46.60",
            "text/html": "<div>\n<style scoped>\n    .dataframe tbody tr th:only-of-type {\n        vertical-align: middle;\n    }\n\n    .dataframe tbody tr th {\n        vertical-align: top;\n    }\n\n    .dataframe thead th {\n        text-align: right;\n    }\n</style>\n<table border=\"1\" class=\"dataframe\">\n  <thead>\n    <tr style=\"text-align: right;\">\n      <th></th>\n      <th>minutes_range</th>\n      <th>total_trips</th>\n      <th>average_fare</th>\n    </tr>\n  </thead>\n  <tbody>\n    <tr>\n      <th>0</th>\n      <td>01m to 07m</td>\n      <td>29462275</td>\n      <td>6.17</td>\n    </tr>\n    <tr>\n      <th>1</th>\n      <td>07m to 14m</td>\n      <td>26605869</td>\n      <td>9.20</td>\n    </tr>\n    <tr>\n      <th>2</th>\n      <td>14m to 20m</td>\n      <td>12461147</td>\n      <td>14.31</td>\n    </tr>\n    <tr>\n      <th>3</th>\n      <td>20m to 27m</td>\n      <td>5275740</td>\n      <td>24.01</td>\n    </tr>\n    <tr>\n      <th>4</th>\n      <td>27m to 33m</td>\n      <td>3402285</td>\n      <td>29.82</td>\n    </tr>\n    <tr>\n      <th>5</th>\n      <td>33m to 40m</td>\n      <td>1936548</td>\n      <td>34.17</td>\n    </tr>\n    <tr>\n      <th>6</th>\n      <td>40m to 47m</td>\n      <td>1188024</td>\n      <td>36.99</td>\n    </tr>\n    <tr>\n      <th>7</th>\n      <td>47m to 55m</td>\n      <td>816889</td>\n      <td>39.27</td>\n    </tr>\n    <tr>\n      <th>8</th>\n      <td>55m to 66m</td>\n      <td>524929</td>\n      <td>41.88</td>\n    </tr>\n    <tr>\n      <th>9</th>\n      <td>66m to 90m</td>\n      <td>363612</td>\n      <td>46.60</td>\n    </tr>\n  </tbody>\n</table>\n</div>"
          },
          "metadata": {}
        }
      ]
    },
    {
      "metadata": {
        "_uuid": "450d392be87f17bcf55e86d2ee1c42f6b24d539d",
        "_cell_guid": "87ba4e16-08e7-4325-b0ab-e35a0cf07479",
        "collapsed": true
      },
      "cell_type": "markdown",
      "source": "![](https://cloud.google.com/bigquery/images/chicago-taxi-fares-by-duration.png)\nhttps://cloud.google.com/bigquery/images/chicago-taxi-fares-by-duration.png"
    },
    {
      "metadata": {
        "_uuid": "b79f5f5b997168585b09193b95df4c99d2b1afe8",
        "_cell_guid": "bdb6e0e4-619a-43fd-954f-919f93cbc2d5",
        "collapsed": true,
        "trusted": true
      },
      "cell_type": "code",
      "source": "",
      "execution_count": null,
      "outputs": []
    }
  ],
  "metadata": {
    "kernelspec": {
      "display_name": "Python 3",
      "language": "python",
      "name": "python3"
    },
    "language_info": {
      "name": "python",
      "version": "3.6.4",
      "mimetype": "text/x-python",
      "codemirror_mode": {
        "name": "ipython",
        "version": 3
      },
      "pygments_lexer": "ipython3",
      "nbconvert_exporter": "python",
      "file_extension": ".py"
    }
  },
  "nbformat": 4,
  "nbformat_minor": 1
}