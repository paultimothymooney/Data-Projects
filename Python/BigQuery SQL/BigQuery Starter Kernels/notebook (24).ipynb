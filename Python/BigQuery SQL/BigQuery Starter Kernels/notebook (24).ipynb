{
  "cells": [
    {
      "metadata": {
        "_uuid": "de5c8ef6d5d0ee22ec7e55b629d1c1f08d2b8efd",
        "_cell_guid": "307eb20a-56a5-43b9-832b-a76b338ad5e3"
      },
      "cell_type": "markdown",
      "source": "**How to Query the Daily NOAA Global Historical Climatology Network Weather Data (BigQuery Dataset)**"
    },
    {
      "metadata": {
        "collapsed": true,
        "_uuid": "8f2839f25d086af736a60e9eeb907d3b93b6e0e5",
        "_cell_guid": "b1076dfc-b9ad-4769-8c92-a6c4dae69d19",
        "trusted": true
      },
      "cell_type": "code",
      "source": "import bq_helper\nfrom bq_helper import BigQueryHelper\n# https://www.kaggle.com/sohier/introduction-to-the-bq-helper-package\nnoaa = bq_helper.BigQueryHelper(active_project=\"bigquery-public-data\",\n                                   dataset_name=\"ghcn_d\")",
      "execution_count": 1,
      "outputs": []
    },
    {
      "metadata": {
        "_kg_hide-output": true,
        "_uuid": "a3415035b50ece1df93c6573539798b929a597f5",
        "_cell_guid": "b0442c95-01fa-4688-9a30-718347933e0f",
        "trusted": true
      },
      "cell_type": "code",
      "source": "bq_assistant = BigQueryHelper(\"bigquery-public-data\", \"ghcn_d\")\nbq_assistant.list_tables()",
      "execution_count": 2,
      "outputs": [
        {
          "output_type": "execute_result",
          "execution_count": 2,
          "data": {
            "text/plain": "['ghcnd_1763',\n 'ghcnd_1764',\n 'ghcnd_1765',\n 'ghcnd_1766',\n 'ghcnd_1767',\n 'ghcnd_1768',\n 'ghcnd_1769',\n 'ghcnd_1770',\n 'ghcnd_1771',\n 'ghcnd_1772',\n 'ghcnd_1773',\n 'ghcnd_1774',\n 'ghcnd_1775',\n 'ghcnd_1776',\n 'ghcnd_1777',\n 'ghcnd_1778',\n 'ghcnd_1779',\n 'ghcnd_1780',\n 'ghcnd_1781',\n 'ghcnd_1782',\n 'ghcnd_1783',\n 'ghcnd_1784',\n 'ghcnd_1785',\n 'ghcnd_1786',\n 'ghcnd_1787',\n 'ghcnd_1788',\n 'ghcnd_1789',\n 'ghcnd_1790',\n 'ghcnd_1791',\n 'ghcnd_1792',\n 'ghcnd_1793',\n 'ghcnd_1794',\n 'ghcnd_1795',\n 'ghcnd_1796',\n 'ghcnd_1797',\n 'ghcnd_1798',\n 'ghcnd_1799',\n 'ghcnd_1800',\n 'ghcnd_1801',\n 'ghcnd_1802',\n 'ghcnd_1803',\n 'ghcnd_1804',\n 'ghcnd_1805',\n 'ghcnd_1806',\n 'ghcnd_1807',\n 'ghcnd_1808',\n 'ghcnd_1809',\n 'ghcnd_1810',\n 'ghcnd_1811',\n 'ghcnd_1812',\n 'ghcnd_1813',\n 'ghcnd_1814',\n 'ghcnd_1815',\n 'ghcnd_1816',\n 'ghcnd_1817',\n 'ghcnd_1818',\n 'ghcnd_1819',\n 'ghcnd_1820',\n 'ghcnd_1821',\n 'ghcnd_1822',\n 'ghcnd_1823',\n 'ghcnd_1824',\n 'ghcnd_1825',\n 'ghcnd_1826',\n 'ghcnd_1827',\n 'ghcnd_1828',\n 'ghcnd_1829',\n 'ghcnd_1830',\n 'ghcnd_1831',\n 'ghcnd_1832',\n 'ghcnd_1833',\n 'ghcnd_1834',\n 'ghcnd_1835',\n 'ghcnd_1836',\n 'ghcnd_1837',\n 'ghcnd_1838',\n 'ghcnd_1839',\n 'ghcnd_1840',\n 'ghcnd_1841',\n 'ghcnd_1842',\n 'ghcnd_1843',\n 'ghcnd_1844',\n 'ghcnd_1845',\n 'ghcnd_1846',\n 'ghcnd_1847',\n 'ghcnd_1848',\n 'ghcnd_1849',\n 'ghcnd_1850',\n 'ghcnd_1851',\n 'ghcnd_1852',\n 'ghcnd_1853',\n 'ghcnd_1854',\n 'ghcnd_1855',\n 'ghcnd_1856',\n 'ghcnd_1857',\n 'ghcnd_1858',\n 'ghcnd_1859',\n 'ghcnd_1860',\n 'ghcnd_1861',\n 'ghcnd_1862',\n 'ghcnd_1863',\n 'ghcnd_1864',\n 'ghcnd_1865',\n 'ghcnd_1866',\n 'ghcnd_1867',\n 'ghcnd_1868',\n 'ghcnd_1869',\n 'ghcnd_1870',\n 'ghcnd_1871',\n 'ghcnd_1872',\n 'ghcnd_1873',\n 'ghcnd_1874',\n 'ghcnd_1875',\n 'ghcnd_1876',\n 'ghcnd_1877',\n 'ghcnd_1878',\n 'ghcnd_1879',\n 'ghcnd_1880',\n 'ghcnd_1881',\n 'ghcnd_1882',\n 'ghcnd_1883',\n 'ghcnd_1884',\n 'ghcnd_1885',\n 'ghcnd_1886',\n 'ghcnd_1887',\n 'ghcnd_1888',\n 'ghcnd_1889',\n 'ghcnd_1890',\n 'ghcnd_1891',\n 'ghcnd_1892',\n 'ghcnd_1893',\n 'ghcnd_1894',\n 'ghcnd_1895',\n 'ghcnd_1896',\n 'ghcnd_1897',\n 'ghcnd_1898',\n 'ghcnd_1899',\n 'ghcnd_1900',\n 'ghcnd_1901',\n 'ghcnd_1902',\n 'ghcnd_1903',\n 'ghcnd_1904',\n 'ghcnd_1905',\n 'ghcnd_1906',\n 'ghcnd_1907',\n 'ghcnd_1908',\n 'ghcnd_1909',\n 'ghcnd_1910',\n 'ghcnd_1911',\n 'ghcnd_1912',\n 'ghcnd_1913',\n 'ghcnd_1914',\n 'ghcnd_1915',\n 'ghcnd_1916',\n 'ghcnd_1917',\n 'ghcnd_1918',\n 'ghcnd_1919',\n 'ghcnd_1920',\n 'ghcnd_1921',\n 'ghcnd_1922',\n 'ghcnd_1923',\n 'ghcnd_1924',\n 'ghcnd_1925',\n 'ghcnd_1926',\n 'ghcnd_1927',\n 'ghcnd_1928',\n 'ghcnd_1929',\n 'ghcnd_1930',\n 'ghcnd_1931',\n 'ghcnd_1932',\n 'ghcnd_1933',\n 'ghcnd_1934',\n 'ghcnd_1935',\n 'ghcnd_1936',\n 'ghcnd_1937',\n 'ghcnd_1938',\n 'ghcnd_1939',\n 'ghcnd_1940',\n 'ghcnd_1941',\n 'ghcnd_1942',\n 'ghcnd_1943',\n 'ghcnd_1944',\n 'ghcnd_1945',\n 'ghcnd_1946',\n 'ghcnd_1947',\n 'ghcnd_1948',\n 'ghcnd_1949',\n 'ghcnd_1950',\n 'ghcnd_1951',\n 'ghcnd_1952',\n 'ghcnd_1953',\n 'ghcnd_1954',\n 'ghcnd_1955',\n 'ghcnd_1956',\n 'ghcnd_1957',\n 'ghcnd_1958',\n 'ghcnd_1959',\n 'ghcnd_1960',\n 'ghcnd_1961',\n 'ghcnd_1962',\n 'ghcnd_1963',\n 'ghcnd_1964',\n 'ghcnd_1965',\n 'ghcnd_1966',\n 'ghcnd_1967',\n 'ghcnd_1968',\n 'ghcnd_1969',\n 'ghcnd_1970',\n 'ghcnd_1971',\n 'ghcnd_1972',\n 'ghcnd_1973',\n 'ghcnd_1974',\n 'ghcnd_1975',\n 'ghcnd_1976',\n 'ghcnd_1977',\n 'ghcnd_1978',\n 'ghcnd_1979',\n 'ghcnd_1980',\n 'ghcnd_1981',\n 'ghcnd_1982',\n 'ghcnd_1983',\n 'ghcnd_1984',\n 'ghcnd_1985',\n 'ghcnd_1986',\n 'ghcnd_1987',\n 'ghcnd_1988',\n 'ghcnd_1989',\n 'ghcnd_1990',\n 'ghcnd_1991',\n 'ghcnd_1992',\n 'ghcnd_1993',\n 'ghcnd_1994',\n 'ghcnd_1995',\n 'ghcnd_1996',\n 'ghcnd_1997',\n 'ghcnd_1998',\n 'ghcnd_1999',\n 'ghcnd_2000',\n 'ghcnd_2001',\n 'ghcnd_2002',\n 'ghcnd_2003',\n 'ghcnd_2004',\n 'ghcnd_2005',\n 'ghcnd_2006',\n 'ghcnd_2007',\n 'ghcnd_2008',\n 'ghcnd_2009',\n 'ghcnd_2010',\n 'ghcnd_2011',\n 'ghcnd_2012',\n 'ghcnd_2013',\n 'ghcnd_2014',\n 'ghcnd_2015',\n 'ghcnd_2016',\n 'ghcnd_2017',\n 'ghcnd_2018',\n 'ghcnd_countries',\n 'ghcnd_inventory',\n 'ghcnd_states',\n 'ghcnd_stations',\n 'ghcnd_yyyy_schema']"
          },
          "metadata": {}
        }
      ]
    },
    {
      "metadata": {
        "_uuid": "f6d79a4aae694e0bc61d4dbc4724005d913b9248",
        "_cell_guid": "a2805b6e-5e32-484c-b1c7-a7e3d364ef35",
        "trusted": true
      },
      "cell_type": "code",
      "source": "bq_assistant.head(\"ghcnd_2018\", num_rows=3)",
      "execution_count": 3,
      "outputs": [
        {
          "output_type": "execute_result",
          "execution_count": 3,
          "data": {
            "text/plain": "            id        date element  value mflag qflag sflag  time\n0  USC00360868  2018-04-21    PRCP    0.0                 H  0800\n1  USC00415427  2018-04-21    PRCP    0.0                 H  0800\n2  USC00473636  2018-04-21    PRCP    0.0                 H  0700",
            "text/html": "<div>\n<style scoped>\n    .dataframe tbody tr th:only-of-type {\n        vertical-align: middle;\n    }\n\n    .dataframe tbody tr th {\n        vertical-align: top;\n    }\n\n    .dataframe thead th {\n        text-align: right;\n    }\n</style>\n<table border=\"1\" class=\"dataframe\">\n  <thead>\n    <tr style=\"text-align: right;\">\n      <th></th>\n      <th>id</th>\n      <th>date</th>\n      <th>element</th>\n      <th>value</th>\n      <th>mflag</th>\n      <th>qflag</th>\n      <th>sflag</th>\n      <th>time</th>\n    </tr>\n  </thead>\n  <tbody>\n    <tr>\n      <th>0</th>\n      <td>USC00360868</td>\n      <td>2018-04-21</td>\n      <td>PRCP</td>\n      <td>0.0</td>\n      <td></td>\n      <td></td>\n      <td>H</td>\n      <td>0800</td>\n    </tr>\n    <tr>\n      <th>1</th>\n      <td>USC00415427</td>\n      <td>2018-04-21</td>\n      <td>PRCP</td>\n      <td>0.0</td>\n      <td></td>\n      <td></td>\n      <td>H</td>\n      <td>0800</td>\n    </tr>\n    <tr>\n      <th>2</th>\n      <td>USC00473636</td>\n      <td>2018-04-21</td>\n      <td>PRCP</td>\n      <td>0.0</td>\n      <td></td>\n      <td></td>\n      <td>H</td>\n      <td>0700</td>\n    </tr>\n  </tbody>\n</table>\n</div>"
          },
          "metadata": {}
        }
      ]
    },
    {
      "metadata": {
        "_kg_hide-output": true,
        "_uuid": "bbb18e3c781e1ce11b83342cc42b46b4eb4f1a81",
        "_cell_guid": "87e3e8b9-e8c4-48fd-99d3-a77034d474bf",
        "trusted": true
      },
      "cell_type": "code",
      "source": "bq_assistant.table_schema(\"ghcnd_2018\")",
      "execution_count": 4,
      "outputs": [
        {
          "output_type": "execute_result",
          "execution_count": 4,
          "data": {
            "text/plain": "[SchemaField('id', 'STRING', 'REQUIRED', '', ()),\n SchemaField('date', 'DATE', 'NULLABLE', '', ()),\n SchemaField('element', 'STRING', 'NULLABLE', '', ()),\n SchemaField('value', 'FLOAT', 'NULLABLE', '', ()),\n SchemaField('mflag', 'STRING', 'NULLABLE', '', ()),\n SchemaField('qflag', 'STRING', 'NULLABLE', '', ()),\n SchemaField('sflag', 'STRING', 'NULLABLE', '', ()),\n SchemaField('time', 'STRING', 'NULLABLE', '', ())]"
          },
          "metadata": {}
        }
      ]
    },
    {
      "metadata": {
        "_uuid": "8eeda9ae334f9bc0dc313635abee9c9c0d582f6c",
        "_cell_guid": "ec2e26b9-885e-4f12-8d20-2f8c494d6f3e"
      },
      "cell_type": "markdown",
      "source": "Find weather stations close to a specific location?  In this case, we are searching for stations close to Chicago (latitude=41.88, longitude=-87.63).\n\n"
    },
    {
      "metadata": {
        "_uuid": "f498dd0e54911bf273ae4a76fd6a2bdaebf96f15",
        "_cell_guid": "ab7c4d65-3cc2-4192-992c-b030c33b2010",
        "trusted": true
      },
      "cell_type": "code",
      "source": "query1 = \"\"\"SELECT\n  id,\n  name,\n  state,\n  latitude,\n  longitude\nFROM\n  `bigquery-public-data.ghcn_d.ghcnd_stations`\nWHERE\n  latitude > 41.7\n  AND latitude < 42\n  AND longitude > -87.7\n  AND longitude < -87.5;\n        \"\"\"\nresponse1 = noaa.query_to_pandas_safe(query1)\nresponse1.head(10)",
      "execution_count": 5,
      "outputs": [
        {
          "output_type": "execute_result",
          "execution_count": 5,
          "data": {
            "text/plain": "            id                        name state  latitude  longitude\n0  USC00111564    \"CHICAGO S WTR FILT PLT\"    IL   41.7500   -87.5500\n1  US1ILCK0204  \"BOOT CAMP-CHICAGO 4.2 SW\"    IL   41.8421   -87.6891\n2  US1ILCK0151     \"EVERGREEN PARK 0.5 NE\"    IL   41.7274   -87.6949\n3  USC00111562      \"CHICAGO SAN DIST OFC\"    IL   41.9000   -87.6333\n4  US1ILCK0240           \"CHICAGO 2.7 WNW\"    IL   41.9018   -87.6726\n5  US1ILCK0179           \"CHICAGO 4.8 NNW\"    IL   41.9481   -87.6588\n6  US1ILCK0097           \"CHICAGO 6.8 NNE\"    IL   41.9301   -87.6393\n7  US1ILCK0104        \"LINCOLNWOOD 5.1 SE\"    IL   41.9494   -87.6703\n8  USC00111584         \"CHICAGO WB CITY 2\"    IL   41.8833   -87.6333\n9  USC00111526        \"CHICAGO GRANT PARK\"    IL   41.8833   -87.6167",
            "text/html": "<div>\n<style scoped>\n    .dataframe tbody tr th:only-of-type {\n        vertical-align: middle;\n    }\n\n    .dataframe tbody tr th {\n        vertical-align: top;\n    }\n\n    .dataframe thead th {\n        text-align: right;\n    }\n</style>\n<table border=\"1\" class=\"dataframe\">\n  <thead>\n    <tr style=\"text-align: right;\">\n      <th></th>\n      <th>id</th>\n      <th>name</th>\n      <th>state</th>\n      <th>latitude</th>\n      <th>longitude</th>\n    </tr>\n  </thead>\n  <tbody>\n    <tr>\n      <th>0</th>\n      <td>USC00111564</td>\n      <td>\"CHICAGO S WTR FILT PLT\"</td>\n      <td>IL</td>\n      <td>41.7500</td>\n      <td>-87.5500</td>\n    </tr>\n    <tr>\n      <th>1</th>\n      <td>US1ILCK0204</td>\n      <td>\"BOOT CAMP-CHICAGO 4.2 SW\"</td>\n      <td>IL</td>\n      <td>41.8421</td>\n      <td>-87.6891</td>\n    </tr>\n    <tr>\n      <th>2</th>\n      <td>US1ILCK0151</td>\n      <td>\"EVERGREEN PARK 0.5 NE\"</td>\n      <td>IL</td>\n      <td>41.7274</td>\n      <td>-87.6949</td>\n    </tr>\n    <tr>\n      <th>3</th>\n      <td>USC00111562</td>\n      <td>\"CHICAGO SAN DIST OFC\"</td>\n      <td>IL</td>\n      <td>41.9000</td>\n      <td>-87.6333</td>\n    </tr>\n    <tr>\n      <th>4</th>\n      <td>US1ILCK0240</td>\n      <td>\"CHICAGO 2.7 WNW\"</td>\n      <td>IL</td>\n      <td>41.9018</td>\n      <td>-87.6726</td>\n    </tr>\n    <tr>\n      <th>5</th>\n      <td>US1ILCK0179</td>\n      <td>\"CHICAGO 4.8 NNW\"</td>\n      <td>IL</td>\n      <td>41.9481</td>\n      <td>-87.6588</td>\n    </tr>\n    <tr>\n      <th>6</th>\n      <td>US1ILCK0097</td>\n      <td>\"CHICAGO 6.8 NNE\"</td>\n      <td>IL</td>\n      <td>41.9301</td>\n      <td>-87.6393</td>\n    </tr>\n    <tr>\n      <th>7</th>\n      <td>US1ILCK0104</td>\n      <td>\"LINCOLNWOOD 5.1 SE\"</td>\n      <td>IL</td>\n      <td>41.9494</td>\n      <td>-87.6703</td>\n    </tr>\n    <tr>\n      <th>8</th>\n      <td>USC00111584</td>\n      <td>\"CHICAGO WB CITY 2\"</td>\n      <td>IL</td>\n      <td>41.8833</td>\n      <td>-87.6333</td>\n    </tr>\n    <tr>\n      <th>9</th>\n      <td>USC00111526</td>\n      <td>\"CHICAGO GRANT PARK\"</td>\n      <td>IL</td>\n      <td>41.8833</td>\n      <td>-87.6167</td>\n    </tr>\n  </tbody>\n</table>\n</div>"
          },
          "metadata": {}
        }
      ]
    },
    {
      "metadata": {
        "_uuid": "ef06f0f96cdffd2af224c796a423304f914d7da9",
        "_cell_guid": "e53dbcf0-eaba-474f-b83c-fa7fc5e69a81"
      },
      "cell_type": "markdown",
      "source": "Daily rainfall amounts at specific station?  Here, we are obtaining rainfall (in mm) for all days in 2015 from a weather station in Chicago whose id is provided in the query (the station corresponds to O’Hare airport)."
    },
    {
      "metadata": {
        "_uuid": "77d0841a15c7675c6e2506e02762ed6892629d59",
        "_cell_guid": "f9ea65cb-a34a-4e54-b7dd-8eb964aba953",
        "trusted": true
      },
      "cell_type": "code",
      "source": "query2 = \"\"\"SELECT\n  wx.date,\n  wx.value/10.0 AS prcp\nFROM\n  `bigquery-public-data.ghcn_d.ghcnd_2015` AS wx\nWHERE\n  id = 'USW00094846'\n  AND qflag IS NULL\n  AND element = 'PRCP'\nORDER BY wx.date;\n        \"\"\"\nresponse2 = noaa.query_to_pandas_safe(query2, max_gb_scanned=10)\nresponse2.head(10)",
      "execution_count": 6,
      "outputs": [
        {
          "output_type": "execute_result",
          "execution_count": 6,
          "data": {
            "text/plain": "         date  prcp\n0  2015-01-01   0.0\n1  2015-01-02   0.0\n2  2015-01-03  14.5\n3  2015-01-04   3.3\n4  2015-01-05   3.8\n5  2015-01-06   0.3\n6  2015-01-07   0.0\n7  2015-01-08   1.5\n8  2015-01-09   0.0\n9  2015-01-10   0.0",
            "text/html": "<div>\n<style scoped>\n    .dataframe tbody tr th:only-of-type {\n        vertical-align: middle;\n    }\n\n    .dataframe tbody tr th {\n        vertical-align: top;\n    }\n\n    .dataframe thead th {\n        text-align: right;\n    }\n</style>\n<table border=\"1\" class=\"dataframe\">\n  <thead>\n    <tr style=\"text-align: right;\">\n      <th></th>\n      <th>date</th>\n      <th>prcp</th>\n    </tr>\n  </thead>\n  <tbody>\n    <tr>\n      <th>0</th>\n      <td>2015-01-01</td>\n      <td>0.0</td>\n    </tr>\n    <tr>\n      <th>1</th>\n      <td>2015-01-02</td>\n      <td>0.0</td>\n    </tr>\n    <tr>\n      <th>2</th>\n      <td>2015-01-03</td>\n      <td>14.5</td>\n    </tr>\n    <tr>\n      <th>3</th>\n      <td>2015-01-04</td>\n      <td>3.3</td>\n    </tr>\n    <tr>\n      <th>4</th>\n      <td>2015-01-05</td>\n      <td>3.8</td>\n    </tr>\n    <tr>\n      <th>5</th>\n      <td>2015-01-06</td>\n      <td>0.3</td>\n    </tr>\n    <tr>\n      <th>6</th>\n      <td>2015-01-07</td>\n      <td>0.0</td>\n    </tr>\n    <tr>\n      <th>7</th>\n      <td>2015-01-08</td>\n      <td>1.5</td>\n    </tr>\n    <tr>\n      <th>8</th>\n      <td>2015-01-09</td>\n      <td>0.0</td>\n    </tr>\n    <tr>\n      <th>9</th>\n      <td>2015-01-10</td>\n      <td>0.0</td>\n    </tr>\n  </tbody>\n</table>\n</div>"
          },
          "metadata": {}
        }
      ]
    },
    {
      "metadata": {
        "_uuid": "03b7f712e458da8be3ad91b4a96b7dad4f282e3b",
        "_cell_guid": "e5ea144c-7388-4dbd-99ce-c144d75855a4"
      },
      "cell_type": "markdown",
      "source": "Weather for the past two weeks?  Pulling daily min/max temperature (in Celsius) and rainfall (in mm) for the past 14 days."
    },
    {
      "metadata": {
        "_uuid": "d597435820237905733ce8d5897a29f34af22dd7",
        "_cell_guid": "44cacead-3add-4047-bb10-b5f705b99656",
        "trusted": true
      },
      "cell_type": "code",
      "source": "query3 = \"\"\"SELECT\n  date,\n  MAX(prcp) AS prcp,\n  MAX(tmin) AS tmin,\n  MAX(tmax) AS tmax\nFROM (\n  SELECT\n    wx.date AS date,\n    IF (wx.element = 'PRCP', wx.value/10, NULL) AS prcp,\n    IF (wx.element = 'TMIN', wx.value/10, NULL) AS tmin,\n    IF (wx.element = 'TMAX', wx.value/10, NULL) AS tmax\n  FROM\n    `bigquery-public-data.ghcn_d.ghcnd_2018` AS wx\n  WHERE\n    id = 'USW00094846'\n    AND DATE_DIFF(CURRENT_DATE(), wx.date, DAY) < 15\n)\nGROUP BY\n  date\nORDER BY\n  date ASC;\n        \"\"\"\nresponse3 = noaa.query_to_pandas_safe(query3, max_gb_scanned=10)\nresponse3.head(10)",
      "execution_count": 7,
      "outputs": [
        {
          "output_type": "execute_result",
          "execution_count": 7,
          "data": {
            "text/plain": "         date  prcp  tmin  tmax\n0  2018-04-09   3.3  -1.1   3.9\n1  2018-04-10   0.0  -2.2   7.8\n2  2018-04-11   1.3   3.9  18.9\n3  2018-04-12   0.8   5.6  22.8\n4  2018-04-13   1.8   3.9   8.3\n5  2018-04-14  24.4   2.2   3.9\n6  2018-04-15  18.8  -2.2   2.8\n7  2018-04-16   0.3  -2.8   1.7\n8  2018-04-17   0.0  -1.7   6.1\n9  2018-04-18  10.4  -1.1   2.8",
            "text/html": "<div>\n<style scoped>\n    .dataframe tbody tr th:only-of-type {\n        vertical-align: middle;\n    }\n\n    .dataframe tbody tr th {\n        vertical-align: top;\n    }\n\n    .dataframe thead th {\n        text-align: right;\n    }\n</style>\n<table border=\"1\" class=\"dataframe\">\n  <thead>\n    <tr style=\"text-align: right;\">\n      <th></th>\n      <th>date</th>\n      <th>prcp</th>\n      <th>tmin</th>\n      <th>tmax</th>\n    </tr>\n  </thead>\n  <tbody>\n    <tr>\n      <th>0</th>\n      <td>2018-04-09</td>\n      <td>3.3</td>\n      <td>-1.1</td>\n      <td>3.9</td>\n    </tr>\n    <tr>\n      <th>1</th>\n      <td>2018-04-10</td>\n      <td>0.0</td>\n      <td>-2.2</td>\n      <td>7.8</td>\n    </tr>\n    <tr>\n      <th>2</th>\n      <td>2018-04-11</td>\n      <td>1.3</td>\n      <td>3.9</td>\n      <td>18.9</td>\n    </tr>\n    <tr>\n      <th>3</th>\n      <td>2018-04-12</td>\n      <td>0.8</td>\n      <td>5.6</td>\n      <td>22.8</td>\n    </tr>\n    <tr>\n      <th>4</th>\n      <td>2018-04-13</td>\n      <td>1.8</td>\n      <td>3.9</td>\n      <td>8.3</td>\n    </tr>\n    <tr>\n      <th>5</th>\n      <td>2018-04-14</td>\n      <td>24.4</td>\n      <td>2.2</td>\n      <td>3.9</td>\n    </tr>\n    <tr>\n      <th>6</th>\n      <td>2018-04-15</td>\n      <td>18.8</td>\n      <td>-2.2</td>\n      <td>2.8</td>\n    </tr>\n    <tr>\n      <th>7</th>\n      <td>2018-04-16</td>\n      <td>0.3</td>\n      <td>-2.8</td>\n      <td>1.7</td>\n    </tr>\n    <tr>\n      <th>8</th>\n      <td>2018-04-17</td>\n      <td>0.0</td>\n      <td>-1.7</td>\n      <td>6.1</td>\n    </tr>\n    <tr>\n      <th>9</th>\n      <td>2018-04-18</td>\n      <td>10.4</td>\n      <td>-1.1</td>\n      <td>2.8</td>\n    </tr>\n  </tbody>\n</table>\n</div>"
          },
          "metadata": {}
        }
      ]
    },
    {
      "metadata": {
        "collapsed": true,
        "_uuid": "450d392be87f17bcf55e86d2ee1c42f6b24d539d",
        "_cell_guid": "87ba4e16-08e7-4325-b0ab-e35a0cf07479",
        "trusted": true
      },
      "cell_type": "code",
      "source": "",
      "execution_count": null,
      "outputs": []
    },
    {
      "metadata": {
        "collapsed": true,
        "_uuid": "b79f5f5b997168585b09193b95df4c99d2b1afe8",
        "_cell_guid": "bdb6e0e4-619a-43fd-954f-919f93cbc2d5",
        "trusted": true
      },
      "cell_type": "code",
      "source": "",
      "execution_count": null,
      "outputs": []
    }
  ],
  "metadata": {
    "language_info": {
      "name": "python",
      "version": "3.6.4",
      "mimetype": "text/x-python",
      "codemirror_mode": {
        "name": "ipython",
        "version": 3
      },
      "pygments_lexer": "ipython3",
      "nbconvert_exporter": "python",
      "file_extension": ".py"
    },
    "kernelspec": {
      "display_name": "Python 3",
      "language": "python",
      "name": "python3"
    }
  },
  "nbformat": 4,
  "nbformat_minor": 1
}