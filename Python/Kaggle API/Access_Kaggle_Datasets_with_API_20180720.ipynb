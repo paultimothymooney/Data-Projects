{
  "nbformat": 4,
  "nbformat_minor": 0,
  "metadata": {
    "colab": {
      "name": "Access Kaggle Datasets with API 20180720.ipynb",
      "version": "0.3.2",
      "views": {},
      "default_view": {},
      "provenance": [
        {
          "file_id": "1dPczMOztSI0ycZEKTergpkbUdQ-w_Hru",
          "timestamp": 1531237412156
        }
      ]
    },
    "kernelspec": {
      "name": "python3",
      "display_name": "Python 3"
    },
    "accelerator": "GPU"
  },
  "cells": [
    {
      "metadata": {
        "id": "YJcW6KhihwVH",
        "colab_type": "code",
        "colab": {
          "autoexec": {
            "startup": false,
            "wait_interval": 0
          }
        }
      },
      "cell_type": "code",
      "source": [
        "# Before proceeding, make sure that file \"kaggle.json\" is in a folder titled \"content\" within your Google Drive.\n",
        "# See the following link for more detail: https://github.com/Kaggle/kaggle-api"
      ],
      "execution_count": 0,
      "outputs": []
    },
    {
      "metadata": {
        "id": "WVYL8daw8Gy8",
        "colab_type": "code",
        "colab": {
          "autoexec": {
            "startup": false,
            "wait_interval": 0
          },
          "base_uri": "https://localhost:8080/",
          "height": 136
        },
        "outputId": "5cbf0dd5-0324-498e-9cbe-5a389b574cce",
        "executionInfo": {
          "status": "ok",
          "timestamp": 1532121031642,
          "user_tz": 360,
          "elapsed": 30903,
          "user": {
            "displayName": "Paul Mooney",
            "photoUrl": "//lh5.googleusercontent.com/-Kkau81pertU/AAAAAAAAAAI/AAAAAAAAAAs/VX4UX1bKxhA/s50-c-k-no/photo.jpg",
            "userId": "112513795371060054402"
          }
        }
      },
      "cell_type": "code",
      "source": [
        "!apt-get install -y -qq software-properties-common python-software-properties module-init-tools\n",
        "!add-apt-repository -y ppa:alessandro-strada/ppa 2>&1 > /dev/null\n",
        "!apt-get update -qq 2>&1 > /dev/null\n",
        "!apt-get -y install -qq google-drive-ocamlfuse fuse\n",
        "from google.colab import auth\n",
        "auth.authenticate_user()\n",
        "from oauth2client.client import GoogleCredentials\n",
        "creds = GoogleCredentials.get_application_default()\n",
        "import getpass\n",
        "!google-drive-ocamlfuse -headless -id={creds.client_id} -secret={creds.client_secret} < /dev/null 2>&1 | grep URL\n",
        "vcode = getpass.getpass()\n",
        "!echo {vcode} | google-drive-ocamlfuse -headless -id={creds.client_id} -secret={creds.client_secret}"
      ],
      "execution_count": 2,
      "outputs": [
        {
          "output_type": "stream",
          "text": [
            "gpg: keybox '/tmp/tmpe217w4cm/pubring.gpg' created\n",
            "gpg: /tmp/tmpe217w4cm/trustdb.gpg: trustdb created\n",
            "gpg: key AD5F235DF639B041: public key \"Launchpad PPA for Alessandro Strada\" imported\n",
            "gpg: Total number processed: 1\n",
            "gpg:               imported: 1\n",
            "Warning: apt-key output should not be parsed (stdout is not a terminal)\n",
            "··········\n"
          ],
          "name": "stdout"
        }
      ]
    },
    {
      "metadata": {
        "id": "ssnRc3Va8PSL",
        "colab_type": "code",
        "colab": {
          "autoexec": {
            "startup": false,
            "wait_interval": 0
          },
          "base_uri": "https://localhost:8080/",
          "height": 51
        },
        "outputId": "03ef1b32-f4e0-41fc-aa6b-0b31b63eefe8",
        "executionInfo": {
          "status": "ok",
          "timestamp": 1532121035114,
          "user_tz": 360,
          "elapsed": 3454,
          "user": {
            "displayName": "Paul Mooney",
            "photoUrl": "//lh5.googleusercontent.com/-Kkau81pertU/AAAAAAAAAAI/AAAAAAAAAAs/VX4UX1bKxhA/s50-c-k-no/photo.jpg",
            "userId": "112513795371060054402"
          }
        }
      },
      "cell_type": "code",
      "source": [
        "!mkdir -p drive\n",
        "!google-drive-ocamlfuse drive"
      ],
      "execution_count": 3,
      "outputs": [
        {
          "output_type": "stream",
          "text": [
            "fuse: mountpoint is not empty\r\n",
            "fuse: if you are sure this is safe, use the 'nonempty' mount option\r\n"
          ],
          "name": "stdout"
        }
      ]
    },
    {
      "metadata": {
        "id": "Ebb2ur668k5r",
        "colab_type": "code",
        "colab": {
          "autoexec": {
            "startup": false,
            "wait_interval": 0
          },
          "base_uri": "https://localhost:8080/",
          "height": 170
        },
        "outputId": "a925629d-9af9-4da8-e5f7-a6521a5659f3",
        "executionInfo": {
          "status": "ok",
          "timestamp": 1532121037602,
          "user_tz": 360,
          "elapsed": 2477,
          "user": {
            "displayName": "Paul Mooney",
            "photoUrl": "//lh5.googleusercontent.com/-Kkau81pertU/AAAAAAAAAAI/AAAAAAAAAAs/VX4UX1bKxhA/s50-c-k-no/photo.jpg",
            "userId": "112513795371060054402"
          }
        }
      },
      "cell_type": "code",
      "source": [
        "!pip install kaggle"
      ],
      "execution_count": 4,
      "outputs": [
        {
          "output_type": "stream",
          "text": [
            "Requirement already satisfied: kaggle in /usr/local/lib/python3.6/dist-packages (1.4.2)\n",
            "Requirement already satisfied: python-dateutil in /usr/local/lib/python3.6/dist-packages (from kaggle) (2.5.3)\n",
            "Requirement already satisfied: six>=1.10 in /usr/local/lib/python3.6/dist-packages (from kaggle) (1.11.0)\n",
            "Requirement already satisfied: tqdm in /usr/local/lib/python3.6/dist-packages (from kaggle) (4.23.4)\n",
            "Requirement already satisfied: urllib3<1.23.0,>=1.15 in /usr/local/lib/python3.6/dist-packages (from kaggle) (1.22)\n",
            "Requirement already satisfied: requests in /usr/local/lib/python3.6/dist-packages (from kaggle) (2.18.4)\n",
            "Requirement already satisfied: certifi in /usr/local/lib/python3.6/dist-packages (from kaggle) (2018.4.16)\n",
            "Requirement already satisfied: chardet<3.1.0,>=3.0.2 in /usr/local/lib/python3.6/dist-packages (from requests->kaggle) (3.0.4)\n",
            "Requirement already satisfied: idna<2.7,>=2.5 in /usr/local/lib/python3.6/dist-packages (from requests->kaggle) (2.6)\n"
          ],
          "name": "stdout"
        }
      ]
    },
    {
      "metadata": {
        "id": "iI3XlqclY2Lu",
        "colab_type": "code",
        "colab": {
          "autoexec": {
            "startup": false,
            "wait_interval": 0
          },
          "base_uri": "https://localhost:8080/",
          "height": 34
        },
        "outputId": "4fc455cc-8ae1-4cfe-d344-89f19ecc16e7",
        "executionInfo": {
          "status": "ok",
          "timestamp": 1532121038767,
          "user_tz": 360,
          "elapsed": 1148,
          "user": {
            "displayName": "Paul Mooney",
            "photoUrl": "//lh5.googleusercontent.com/-Kkau81pertU/AAAAAAAAAAI/AAAAAAAAAAs/VX4UX1bKxhA/s50-c-k-no/photo.jpg",
            "userId": "112513795371060054402"
          }
        }
      },
      "cell_type": "code",
      "source": [
        "from googleapiclient.discovery import build\n",
        "import io, os\n",
        "from googleapiclient.http import MediaIoBaseDownload\n",
        "from google.colab import auth\n",
        "\n",
        "auth.authenticate_user()\n",
        "\n",
        "drive_service = build('drive', 'v3')\n",
        "results = drive_service.files().list(\n",
        "        q=\"name = 'kaggle.json'\", fields=\"files(id)\").execute()\n",
        "kaggle_api_key = results.get('files', [])\n",
        "\n",
        "filename = \"/content/kaggle.json\"\n",
        "os.makedirs(os.path.dirname(filename), exist_ok=True)\n",
        "\n",
        "request = drive_service.files().get_media(fileId=kaggle_api_key[0]['id'])\n",
        "fh = io.FileIO(filename, 'wb')\n",
        "downloader = MediaIoBaseDownload(fh, request)\n",
        "done = False\n",
        "while done is False:\n",
        "    status, done = downloader.next_chunk()\n",
        "    print(\"Download %d%%.\" % int(status.progress() * 100))\n",
        "os.chmod(filename, 600)\n"
      ],
      "execution_count": 5,
      "outputs": [
        {
          "output_type": "stream",
          "text": [
            "Download 100%.\n"
          ],
          "name": "stdout"
        }
      ]
    },
    {
      "metadata": {
        "id": "4JPhQgIFDIBm",
        "colab_type": "code",
        "colab": {
          "autoexec": {
            "startup": false,
            "wait_interval": 0
          }
        }
      },
      "cell_type": "code",
      "source": [
        "!mkdir -p ~/.kaggle\n"
      ],
      "execution_count": 0,
      "outputs": []
    },
    {
      "metadata": {
        "id": "8wBRhE-wyOu-",
        "colab_type": "code",
        "colab": {
          "autoexec": {
            "startup": false,
            "wait_interval": 0
          }
        }
      },
      "cell_type": "code",
      "source": [
        "!cp kaggle.json ~/.kaggle/\n",
        "\n"
      ],
      "execution_count": 0,
      "outputs": []
    },
    {
      "metadata": {
        "id": "JmEoKWrpy0Bl",
        "colab_type": "code",
        "colab": {
          "autoexec": {
            "startup": false,
            "wait_interval": 0
          },
          "base_uri": "https://localhost:8080/",
          "height": 34
        },
        "outputId": "9f3259a7-0461-4ee9-ff69-9440683e3a05",
        "executionInfo": {
          "status": "ok",
          "timestamp": 1532121043126,
          "user_tz": 360,
          "elapsed": 1361,
          "user": {
            "displayName": "Paul Mooney",
            "photoUrl": "//lh5.googleusercontent.com/-Kkau81pertU/AAAAAAAAAAI/AAAAAAAAAAs/VX4UX1bKxhA/s50-c-k-no/photo.jpg",
            "userId": "112513795371060054402"
          }
        }
      },
      "cell_type": "code",
      "source": [
        "!ls -lha kaggle.json"
      ],
      "execution_count": 8,
      "outputs": [
        {
          "output_type": "stream",
          "text": [
            "---x-wx--T 1 root root 73 Jul 20 21:10 kaggle.json\r\n"
          ],
          "name": "stdout"
        }
      ]
    },
    {
      "metadata": {
        "id": "a4xqNIYhyXQD",
        "colab_type": "code",
        "colab": {
          "autoexec": {
            "startup": false,
            "wait_interval": 0
          }
        }
      },
      "cell_type": "code",
      "source": [
        "!chmod 600 /content/.kaggle/kaggle.json"
      ],
      "execution_count": 0,
      "outputs": []
    },
    {
      "metadata": {
        "id": "zAai5UE5y9oZ",
        "colab_type": "code",
        "colab": {
          "autoexec": {
            "startup": false,
            "wait_interval": 0
          },
          "base_uri": "https://localhost:8080/",
          "height": 411
        },
        "outputId": "e875f093-5c21-4c02-a74e-bd1c14aeeb56",
        "executionInfo": {
          "status": "ok",
          "timestamp": 1532121047844,
          "user_tz": 360,
          "elapsed": 3186,
          "user": {
            "displayName": "Paul Mooney",
            "photoUrl": "//lh5.googleusercontent.com/-Kkau81pertU/AAAAAAAAAAI/AAAAAAAAAAs/VX4UX1bKxhA/s50-c-k-no/photo.jpg",
            "userId": "112513795371060054402"
          }
        }
      },
      "cell_type": "code",
      "source": [
        "!kaggle datasets list"
      ],
      "execution_count": 10,
      "outputs": [
        {
          "output_type": "stream",
          "text": [
            "ref                                                          title                                                size  lastUpdated          downloadCount  \r\n",
            "-----------------------------------------------------------  --------------------------------------------------  -----  -------------------  -------------  \r\n",
            "mathan/fifa-2018-match-statistics                            Predict FIFA 2018 Man of the Match                    4KB  2018-07-18 08:29:22           2051  \r\n",
            "passnyc/data-science-for-good                                PASSNYC: Data Science for Good Challenge            164KB  2018-06-26 17:36:48           3838  \r\n",
            "slothkong/10-monkey-species                                  10 Monkey Species                                   547MB  2018-06-28 01:38:58           1943  \r\n",
            "open-powerlifting/powerlifting-database                      Powerlifting Database                                 9MB  2018-02-02 16:42:51           1614  \r\n",
            "abecklas/fifa-world-cup                                      FIFA World Cup                                      349KB  2018-04-23 13:40:35          14247  \r\n",
            "decide-soluciones/air-quality-madrid                         Air Quality in Madrid (2001-2018)                   151MB  2018-06-18 13:18:22            592  \r\n",
            "heesoo37/120-years-of-olympic-history-athletes-and-results   120 years of Olympic history: athletes and results    5MB  2018-06-15 06:10:41           1253  \r\n",
            "city-of-seattle/seattle-trade-permits                        Seattle Trade Permits                                13MB  2018-07-20 02:04:58             42  \r\n",
            "ramamet4/app-store-apple-data-set-10k-apps                   Mobile App Store ( 7200 apps)                         6MB  2018-06-10 07:04:28           2341  \r\n",
            "meganrisdal/la-county-restaurant-inspections-and-violations  LA County Restaurant Inspections and Violations      19MB  2018-04-19 17:33:03            326  \r\n",
            "niyamatalmass/google-job-skills                              Google Job Skills                                   407KB  2018-01-07 06:01:20           2796  \r\n",
            "nicapotato/womens-ecommerce-clothing-reviews                 Women's E-Commerce Clothing Reviews                   3MB  2018-02-03 19:59:19           3547  \r\n",
            "shrutimehta/zomato-restaurants-data                          Zomato Restaurants Data                               5MB  2018-03-13 04:56:25           6958  \r\n",
            "slonsky/boxing-bouts                                         Boxing bouts                                          5MB  2018-04-11 13:41:01            836  \r\n",
            "alxmamaev/flowers-recognition                                Flowers Recognition                                 225MB  2018-06-28 01:34:18           3165  \r\n",
            "mboaglio/simplifiedhuarus                                    Simplified Human Activity Recognition w/Smartphone    5MB  2018-01-04 18:28:35            675  \r\n",
            "yingwurenjian/chicago-divvy-bicycle-sharing-data             Chicago Divvy Bicycle Sharing Data                  629MB  2018-02-26 19:21:31           1121  \r\n",
            "thec03u5/seinfeld-chronicles                                 Seinfeld Chronicles                                   1MB  2018-03-01 12:04:29            823  \r\n",
            "new-york-city/ny-daily-inmates-in-custody                    NY Daily Inmates In Custody                         324KB  2018-07-20 05:56:35            163  \r\n",
            "rtatman/british-birdsong-dataset                             British Birdsong Dataset                            633MB  2017-11-16 21:51:07            315  \r\n"
          ],
          "name": "stdout"
        }
      ]
    },
    {
      "metadata": {
        "id": "XarJL1u_88wD",
        "colab_type": "code",
        "colab": {
          "autoexec": {
            "startup": false,
            "wait_interval": 0
          },
          "base_uri": "https://localhost:8080/",
          "height": 119
        },
        "outputId": "ce7ea1c8-cd09-4542-8eb3-28d520b5f6f1",
        "executionInfo": {
          "status": "ok",
          "timestamp": 1532121049912,
          "user_tz": 360,
          "elapsed": 2053,
          "user": {
            "displayName": "Paul Mooney",
            "photoUrl": "//lh5.googleusercontent.com/-Kkau81pertU/AAAAAAAAAAI/AAAAAAAAAAs/VX4UX1bKxhA/s50-c-k-no/photo.jpg",
            "userId": "112513795371060054402"
          }
        }
      },
      "cell_type": "code",
      "source": [
        "!kaggle competitions files -c whale-categorization-playground\n"
      ],
      "execution_count": 11,
      "outputs": [
        {
          "output_type": "stream",
          "text": [
            "name                    size  creationDate         \r\n",
            "---------------------  -----  -------------------  \r\n",
            "sample_submission.csv  960KB  2018-01-09 20:44:50  \r\n",
            "train.csv              221KB  2018-01-09 20:45:02  \r\n",
            "test.zip               405MB  2018-01-09 20:46:03  \r\n",
            "train.zip              260MB  2018-01-09 20:45:52  \r\n"
          ],
          "name": "stdout"
        }
      ]
    },
    {
      "metadata": {
        "id": "NQng1QZ0AmqG",
        "colab_type": "code",
        "colab": {
          "autoexec": {
            "startup": false,
            "wait_interval": 0
          }
        }
      },
      "cell_type": "code",
      "source": [
        ""
      ],
      "execution_count": 0,
      "outputs": []
    }
  ]
}