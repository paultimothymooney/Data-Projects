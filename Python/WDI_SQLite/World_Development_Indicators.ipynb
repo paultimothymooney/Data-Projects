{
  "cells": [
    {
      "metadata": {
        "_uuid": "695db1bd865ffab6b697b629b456c1e3ea8f8af5"
      },
      "cell_type": "markdown",
      "source": "**World Development Indicators: SQL/seaborn\n**\n* Credit: Many of the functions are adaptions from: https://www.kaggle.com/arthurtok/sql-and-python-primer-bokeh-plotly"
    },
    {
      "metadata": {
        "_uuid": "db3fe7e26cefcc7c5891f920b4569df16f020f09"
      },
      "cell_type": "markdown",
      "source": "*Step 1: Import Libraries*"
    },
    {
      "metadata": {
        "_cell_guid": "603ac829-1c3f-457b-af13-1843ca3623ab",
        "_uuid": "c22f0180e4220330d4ae8e9ff27c13b880ab12a6",
        "trusted": true,
        "_kg_hide-input": true
      },
      "cell_type": "code",
      "source": "import pandas as pd\nimport numpy as np\nimport matplotlib.pyplot as plt\nimport seaborn as sns\nimport sqlite3\nimport os\n%matplotlib inline\nimport warnings",
      "execution_count": null,
      "outputs": []
    },
    {
      "metadata": {
        "_uuid": "66dc998a9126b6c5aa94d578742b09c2cd591c62"
      },
      "cell_type": "markdown",
      "source": "*Step 2: Connect to Database and Create a Cursor Object*"
    },
    {
      "metadata": {
        "collapsed": true,
        "_cell_guid": "e0f50c77-bb82-47a9-9aaf-a30e1368ba62",
        "_uuid": "0bdca815e5d4b9993375447ed07e59c8a687fd07",
        "trusted": true
      },
      "cell_type": "code",
      "source": "conn = sqlite3.connect('../input/database.sqlite')\nc = conn.cursor()",
      "execution_count": null,
      "outputs": []
    },
    {
      "metadata": {
        "_uuid": "d87f3778b4ebe88482e0dea391c081ce07b24e53"
      },
      "cell_type": "markdown",
      "source": "*Step 3: Explore Data*"
    },
    {
      "metadata": {
        "_cell_guid": "a44b08a4-d6b2-4f58-a463-e554f926b777",
        "_uuid": "b7f5c5278d0fdc5203e8b2fa6769fac7614435f3",
        "trusted": true
      },
      "cell_type": "code",
      "source": "for row in c.execute(\n                    # SQL statement \n                    \"\"\"\n                        SELECT   * \n                        FROM     Country \n                        LIMIT    1\n                        \n                     \"\"\" ):\n    print(row)",
      "execution_count": null,
      "outputs": []
    },
    {
      "metadata": {
        "_cell_guid": "3a3b49a4-286e-4568-aedb-66c70c08a63c",
        "_uuid": "823c17486a1fa7924b44009943148b024c23133d",
        "trusted": true
      },
      "cell_type": "code",
      "source": "Country = pd.read_sql(\n                       \"\"\"\n                       \n                        SELECT  * \n                        FROM    Country\n                        \n                       \"\"\", con=conn)\nCountry.head(3)",
      "execution_count": null,
      "outputs": []
    },
    {
      "metadata": {
        "_cell_guid": "3d769a99-1b67-4452-be8e-a04ad1e13072",
        "_uuid": "91cd53761ac27f54dd97713002e53cee5a4f1d84",
        "trusted": true
      },
      "cell_type": "code",
      "source": "pd.read_sql(\n            \"\"\"\n                SELECT   * \n                FROM     Country \n                LIMIT    3 \n                \n            \"\"\", con=conn)",
      "execution_count": null,
      "outputs": []
    },
    {
      "metadata": {
        "_cell_guid": "3d2b5f5f-2e3d-47d5-8a9a-c59d65998ab4",
        "_uuid": "99b5ed7bb13009b8dbad713ddbc66b892f5ff003",
        "trusted": true
      },
      "cell_type": "code",
      "source": "pd.read_sql(\n        \"\"\" \n            SELECT   * \n            FROM     Country \n            WHERE    CountryCode = 'USA'\n            \n        \"\"\", con=conn)\n# same as \n# Country[Country['CountryCode'] == 'USA']",
      "execution_count": null,
      "outputs": []
    },
    {
      "metadata": {
        "_cell_guid": "6b7eb107-f440-4206-8fba-2ef249ac176b",
        "_uuid": "155c60f4892e6e50ddb055254ba9f6cfeae1b160",
        "trusted": true
      },
      "cell_type": "code",
      "source": "pd.read_sql(\n        \"\"\" \n            SELECT      Region\n                        ,COUNT(*) AS [Count]\n            FROM        Country \n            GROUP BY    Region\n            ORDER BY    2 DESC\n        \"\"\", con=conn)",
      "execution_count": null,
      "outputs": []
    },
    {
      "metadata": {
        "_cell_guid": "27f316a9-667e-4298-bfb7-0b1ed39af439",
        "_uuid": "6508d7776b1acd3bc0d778ed9c39ff25300aa355",
        "trusted": true
      },
      "cell_type": "code",
      "source": "# LEFT JOIN\npd.read_sql(\n        \"\"\" \n           \n            SELECT      A.CountryCode\n                        ,B.ShortName\n                        ,B.CurrencyUnit\n                        ,B.IncomeGroup\n            FROM       ( \n                            -- First subquery (i.e the Left table)\n                            \n                           SELECT      CountryCode\n                                        ,ShortName\n                                        ,CurrencyUnit\n                                        ,IncomeGroup\n                           FROM        Country\n                           WHERE       CountryCode IN ('USA','MEX', 'GBR', 'FRA')\n                        ) AS A\n            LEFT JOIN   (\n                            -- Second subquery (i.e the right table )\n                            \n                            SELECT      CountryCode\n                                        ,ShortName\n                                        ,CurrencyUnit\n                                        ,IncomeGroup\n                            FROM        Country AS A\n                            WHERE       CountryCode IN ('USA','MEX', 'URY', 'BEL')\n                            \n                          ) AS B\n            ON          A.CountryCode = B.CountryCode    \n            \n        \"\"\", con=conn)",
      "execution_count": null,
      "outputs": []
    },
    {
      "metadata": {
        "_cell_guid": "12cb7f85-79d3-4a09-b4dc-a6c997786441",
        "_uuid": "92734da00c0b42b57826e602d7a7db8817922f9a",
        "trusted": true
      },
      "cell_type": "code",
      "source": "# UNION \npd.read_sql(\n        \"\"\" \n                           SELECT      CountryCode\n                                        ,ShortName\n                                        ,CurrencyUnit\n                                        ,IncomeGroup\n                           FROM        Country\n                           WHERE       CountryCode IN ('USA','MEX', 'GBR', 'FRA')\n                       \n                           UNION\n                           \n                           SELECT      CountryCode\n                                        ,ShortName\n                                        ,CurrencyUnit\n                                        ,IncomeGroup\n                           FROM        Country AS A\n                           WHERE       CountryCode IN ('USA','MEX', 'URY', 'BEL')\n            \n        \"\"\", con=conn)",
      "execution_count": null,
      "outputs": []
    },
    {
      "metadata": {
        "_cell_guid": "377e2f2c-4dd9-472d-82eb-f784532e5cdc",
        "_uuid": "3663d33316e861e39db5dbb77676abbf682c3c22",
        "trusted": true
      },
      "cell_type": "code",
      "source": "# INTERSECT \npd.read_sql(\n        \"\"\" \n                           SELECT      CountryCode\n                                        ,ShortName\n                                        ,CurrencyUnit\n                                        ,IncomeGroup\n                           FROM        Country\n                           WHERE       CountryCode IN ('USA','MEX', 'GBR', 'FRA')\n                       \n                           INTERSECT\n                           \n                           SELECT      CountryCode\n                                        ,ShortName\n                                        ,CurrencyUnit\n                                        ,IncomeGroup\n                           FROM        Country AS A\n                           WHERE       CountryCode IN ('USA','MEX', 'URY', 'BEL')\n            \n        \"\"\", con=conn)",
      "execution_count": null,
      "outputs": []
    },
    {
      "metadata": {
        "_uuid": "e37b705d5b624371945075f057e2e03d84034e11"
      },
      "cell_type": "markdown",
      "source": "*Step 4: Visualize Data (https://www.kaggle.com/arthurtok/sql-and-python-primer-bokeh-plotly)*"
    },
    {
      "metadata": {
        "_cell_guid": "1964f530-a809-429f-878a-5c13939a2f4a",
        "_uuid": "c8201bb4ae7f15010959f3409b44e620a17f219f",
        "trusted": true,
        "_kg_hide-input": true
      },
      "cell_type": "code",
      "source": "Indicators = pd.read_sql(\"\"\" SELECT   * \n                             FROM     Indicators \n                             WHERE    IndicatorCode IN \n                                      (  'AG.LND.PRCP.MM, AG.LND.FRST.K2'\n                                       , 'EG.ELC.ACCS.ZS', 'EG.ELC.FOSL.ZS'\n                                       , 'EN.POP.DNST', 'SG.VAW.REAS.ZS'\n                                       , 'SM.POP.NETM', 'SP.POP.65UP.TO.ZS'\n                                       , 'FI.RES.TOTL.DT.ZS', 'GC.DOD.TOTL.GD.ZS'\n                                       , 'MS.MIL.XPND.GD.ZS','SI.POV.GINI'\n                                       , 'IP.JRN.ARTC.SC', 'SE.ADT.1524.LT.ZS'\n                                      )  \n                        \"\"\", con=conn)\n#Regions = ['ARB', 'EUU', 'LCN' , 'NAC',  'EAS', 'SSF', 'World']\ngini = Indicators[Indicators['IndicatorCode']== 'SI.POV.GINI']\ngini.CountryCode.unique()\n\n# Plotting a Subplot of the Seaborn regplot\nf, ((ax1, ax2, ax3), (ax4,ax5,ax6), (ax7, ax8, ax9)) = plt.subplots(3,3,figsize=(12,10))\n\n# Plot of GINI index of China\npoints = ax1.scatter(gini[gini['CountryCode'] == 'CHN'][\"Year\"], gini[gini['CountryCode'] == 'CHN'][\"Value\"],\n                     c=gini[gini['CountryCode'] == 'CHN'][\"Value\"], s=100, cmap=\"viridis\")\nsns.regplot(\"Year\", \"Value\", data=gini[gini['CountryCode'] == 'CHN'], ax=ax1)\nax1.set_title(\"GINI Index of China\")\n\n# Plot of GINI of Argentina\npoints = ax2.scatter(gini[gini['CountryCode'] == 'ARG'][\"Year\"], gini[gini['CountryCode'] == 'ARG'][\"Value\"],\n                     c=gini[gini['CountryCode'] == 'ARG'][\"Value\"], s=85, cmap=\"viridis\")\nsns.regplot(\"Year\", \"Value\", data=gini[gini['CountryCode'] == 'ARG'], ax=ax2)\nax2.set_title(\"GINI Index of Argentina\")\n\npoints = ax3.scatter(gini[gini['CountryCode'] == 'UGA'][\"Year\"], gini[gini['CountryCode'] == 'UGA'][\"Value\"],\n                     c=gini[gini['CountryCode'] == 'UGA'][\"Value\"], s=100, cmap=\"afmhot\")\nsns.regplot(\"Year\", \"Value\", data=gini[gini['CountryCode'] == 'UGA'], ax=ax3)\nax3.set_title(\"GINI Index of Uganda\")\n\npoints = ax4.scatter(gini[gini['CountryCode'] == 'USA'][\"Year\"], gini[gini['CountryCode'] == 'USA'][\"Value\"],\n                     c=gini[gini['CountryCode'] == 'USA'][\"Value\"], s=100, cmap=\"Purples_r\")\nsns.regplot(\"Year\", \"Value\", data=gini[gini['CountryCode'] == 'USA'], ax=ax4)\nax4.set_title(\"GINI Index of USA\")\n\npoints = ax5.scatter(gini[gini['CountryCode'] == 'COL'][\"Year\"], gini[gini['CountryCode'] == 'COL'][\"Value\"],\n                     c=gini[gini['CountryCode'] == 'COL'][\"Value\"], s=100, cmap=\"YlOrBr\")\nsns.regplot(\"Year\", \"Value\", data=gini[gini['CountryCode'] == 'COL'], ax=ax5)\nax5.set_title(\"GINI Index of Colombia\")\n\npoints = ax6.scatter(gini[gini['CountryCode'] == 'RWA'][\"Year\"], gini[gini['CountryCode'] == 'RWA'][\"Value\"],\n                     c=gini[gini['CountryCode'] == 'RWA'][\"Value\"], s=100, cmap=\"Blues\")\nsns.regplot(\"Year\", \"Value\", data=gini[gini['CountryCode'] == 'RWA'], ax=ax6)\nax6.set_title(\"GINI Index of Rwanda\")\n\npoints = ax7.scatter(gini[gini['CountryCode'] == 'RUS'][\"Year\"], gini[gini['CountryCode'] == 'RUS'][\"Value\"],\n                     c=gini[gini['CountryCode'] == 'RUS'][\"Value\"], s=100, cmap=\"Blues\")\nsns.regplot(\"Year\", \"Value\", data=gini[gini['CountryCode'] == 'RUS'], ax=ax7)\nax7.set_title(\"GINI Index of Russia\")\n\npoints = ax8.scatter(gini[gini['CountryCode'] == 'ECU'][\"Year\"], gini[gini['CountryCode'] == 'ECU'][\"Value\"],\n                     c=gini[gini['CountryCode'] == 'ECU'][\"Value\"], s=100, cmap=\"winter\")\nsns.regplot(\"Year\", \"Value\", data=gini[gini['CountryCode'] == 'ECU'], ax=ax8)\nax8.set_title(\"GINI Index of Ecuador\")\n\npoints = ax9.scatter(gini[gini['CountryCode'] == 'CAF'][\"Year\"], gini[gini['CountryCode'] == 'CAF'][\"Value\"],\n                     c=gini[gini['CountryCode'] == 'CAF'][\"Value\"], s=100, cmap=\"magma\")\nsns.regplot(\"Year\", \"Value\", data=gini[gini['CountryCode'] == 'CAF'], ax=ax9)\nax9.set_title(\"GINI Index of Central African Republic\")\nsns.set_style(style=\"dark\")\nplt.tight_layout()",
      "execution_count": null,
      "outputs": []
    },
    {
      "metadata": {
        "collapsed": true,
        "_cell_guid": "6680c306-1f75-4c7e-9b07-e4fa613c3cd3",
        "_uuid": "bd4f7dc2b993bccae0629f40f0f8e40ba8f478a5",
        "trusted": false
      },
      "cell_type": "markdown",
      "source": "**GINI Index Features:**\n\nAG.LND.PRCP.MM : Average precipitation in depth (mm per year)\n\nEG.ELC.ACCS.ZS : Access to electricity (% of population)\n\nEG.ELC.FOSL.ZS : Electricity production from oil, gas and coal sources (% of total)\n\nSG.VAW.REAS.ZS : Women who believe that a husband is justified in beating his wife (any of the five reasons)\n\nSM.POP.NETM : Net migration"
    },
    {
      "metadata": {
        "_uuid": "c026aa03918af3c5cfdb6b1a677277c191615249"
      },
      "cell_type": "markdown",
      "source": ""
    }
  ],
  "metadata": {
    "kernelspec": {
      "display_name": "Python 3",
      "language": "python",
      "name": "python3"
    },
    "language_info": {
      "name": "python",
      "version": "3.6.4",
      "mimetype": "text/x-python",
      "codemirror_mode": {
        "name": "ipython",
        "version": 3
      },
      "pygments_lexer": "ipython3",
      "nbconvert_exporter": "python",
      "file_extension": ".py"
    }
  },
  "nbformat": 4,
  "nbformat_minor": 1
}