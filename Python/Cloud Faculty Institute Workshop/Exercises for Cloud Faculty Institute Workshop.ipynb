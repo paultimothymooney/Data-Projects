{
  "cells": [
    {
      "metadata": {
        "_uuid": "ec1bc96c0d06a4cb8ee82be5fdebefd4091c4547"
      },
      "cell_type": "markdown",
      "source": "**Cloud Faculty Institute Workshop 6/22/2018\n**\n\n* Kaggle InClass Competitions and Kaggle Kernels"
    },
    {
      "metadata": {
        "_uuid": "8f2839f25d086af736a60e9eeb907d3b93b6e0e5",
        "_cell_guid": "b1076dfc-b9ad-4769-8c92-a6c4dae69d19",
        "trusted": true,
        "collapsed": true
      },
      "cell_type": "markdown",
      "source": "The goal of this exercise is to familiarize you with: (1) Kaggle; (2) Kaggle Kernels; and (3) Kaggle InClass Competitions.\n* [Kaggle](https://www.kaggle.com/) is a place to share data science [projects](https://www.kaggle.com/explore-projects).\n* [Kernels](https://www.kaggle.com/new-project) is a platform for hosting [reproducible data projects](https://openreview.net/pdf?id=B1eYYK5QgX).\n* [InClass Competitions](https://www.kaggle.com/inclass) are self-service data science [competitions](https://www.kaggle.com/challenge-yourself)."
    },
    {
      "metadata": {
        "_cell_guid": "79c7e3d0-c299-4dcb-8224-4455121ee9b0",
        "collapsed": true,
        "_uuid": "d629ff2d2480ee46fbb7e2d37f6b5fab8052498a",
        "trusted": false
      },
      "cell_type": "markdown",
      "source": "**Assignment #1:\n**\n\n1. Signup for an account on [Kaggle](https://www.kaggle.com/).\n1. Navigate to the [Cloud Faculty Institute Workshop InClass Competition](https://www.kaggle.com/c/cloud-faculty-institute-workshop).\n1. Briefly review the [starter kernel](https://www.kaggle.com/paultimothymooney/how-to-participate-in-inclass-competitions). ([Python](https://www.kaggle.com/paultimothymooney/predict-diabetes-with-python-starter-kernel)/[R](https://www.kaggle.com/paultimothymooney/predict-diabetes-with-r-starter-kernel))"
    },
    {
      "metadata": {
        "_uuid": "54648e818a188d76a02cecbe31fe68894d4172d3"
      },
      "cell_type": "markdown",
      "source": "**Assignment #2:\n**\n\n1. Click on the \"Fork Notebook\" button in the top right corner of the [starter kernel](https://www.kaggle.com/paultimothymooney/how-to-participate-in-inclass-competitions). ([Python](https://www.kaggle.com/paultimothymooney/predict-diabetes-with-python-starter-kernel)/[R](https://www.kaggle.com/paultimothymooney/predict-diabetes-with-r-starter-kernel))\n1. Run your new fork by pressing the \"Fast Forward\" button in the bottom left corner of the kernel editor.\n1. Commit your kernel by pressing the \"Commit & Run\" button in the top right corner of the kernel editor.\n1. Click on the \"View Snapshot\" button after waiting for the kernel to finish running.\n1. Click on the \"Output\" tab then find your submission file and click \"Submit to Competition\".\n"
    },
    {
      "metadata": {
        "_uuid": "09aa16bf444f1475c37ac5425720124babf4cc0b"
      },
      "cell_type": "markdown",
      "source": "**Extra Credit #1:\n**\n\n1. Click on the \"Fork Notebook\" button in the top right corner of the [starter kernel](https://www.kaggle.com/paultimothymooney/how-to-participate-in-inclass-competitions). ([Python](https://www.kaggle.com/paultimothymooney/predict-diabetes-with-python-starter-kernel)/[R](https://www.kaggle.com/paultimothymooney/predict-diabetes-with-r-starter-kernel))\n1. Modify the code to make improvements to the benchmark model. \n1. Submit your results to the InClass competition.  Were you able to improve the model?\n\nHint: \nThe easiest change to make would be to drop fewer features.  Another easy improvement would be to use a more sophisticated model such as [RandomForest](http://scikit-learn.org/stable/modules/generated/sklearn.ensemble.RandomForestClassifier.html) or [XGBoost](http://xgboost.readthedocs.io/en/latest/get_started/).\n"
    },
    {
      "metadata": {
        "_uuid": "8e79ecc196e161e951ace726f1e9ca0941663f93"
      },
      "cell_type": "markdown",
      "source": "**Extra Credit #2:\n**\n\n1. Navigate to the [Cloud Faculty Institute Workshop InClass Competition](https://www.kaggle.com/c/cloud-faculty-institute-workshop).\n1. Click on the \"Kernels\" tab and then click on the \"New Kernel\" button in the top right corner.\n1. Select that you want to create a new notebook then wait for the kernel editor to load.\n1. Use the dropdown menu to switch between Python and R according to your preference.\n1. Build an original machine learning model.  Try to predict diabetes from medical records.\n1. Submit your results to the InClass competition.  Try to get a higher score than your neighbor!\n\nHint: Find inspiration from the [work of others](https://www.kaggle.com/uciml/pima-indians-diabetes-database/kernels)."
    },
    {
      "metadata": {
        "_uuid": "2553f1914ee1000bd63072f71cc7c65da1e917d5"
      },
      "cell_type": "markdown",
      "source": "**Extra Credit #3:\n**\n\n1. Identify an ML-friendly [dataset](https://www.kaggle.com/datasets)\n1. Split the dataset into training and testing subsets.\n1. Create an answer key and a sample submission file.\n1. Set up your own [InClass competition](https://www.kaggle.com/inclass) on Kaggle.\n\nHint: See the [How to prepare data for InClass competitions](https://www.kaggle.com/paultimothymooney/how-to-setup-an-inclass-competition) kernel.\n"
    }
  ],
  "metadata": {
    "kernelspec": {
      "display_name": "Python 3",
      "language": "python",
      "name": "python3"
    },
    "language_info": {
      "name": "python",
      "version": "3.6.5",
      "mimetype": "text/x-python",
      "codemirror_mode": {
        "name": "ipython",
        "version": 3
      },
      "pygments_lexer": "ipython3",
      "nbconvert_exporter": "python",
      "file_extension": ".py"
    }
  },
  "nbformat": 4,
  "nbformat_minor": 1
}