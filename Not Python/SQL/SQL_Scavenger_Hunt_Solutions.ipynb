{
  "cells": [
    {
      "metadata": {
        "_uuid": "19addd521511deb0d7a8aa9ad52478f44fbdd4e3",
        "_cell_guid": "30d6554c-a0a5-438f-962e-ab268f19c199"
      },
      "cell_type": "markdown",
      "source": "**SQL Scavenger Hunt Solutions**"
    },
    {
      "metadata": {
        "_uuid": "06884a97e2c8f52a8cab2638ce62372fc206e282",
        "_cell_guid": "20a77835-1fd0-45a0-b6d5-4f6a538a5ca4"
      },
      "cell_type": "markdown",
      "source": "Here you will find solutions for the [SQL Scavenger Hunt](https://www.kaggle.com/rtatman/sql-scavenger-hunt-handbook).  \nOriginal Assignments: [Day 1](https://www.kaggle.com/rtatman/sql-scavenger-hunt-day-1),\n[Day 2](https://www.kaggle.com/rtatman/sql-scavenger-hunt-day-2),\n[Day 3](https://www.kaggle.com/rtatman/sql-scavenger-hunt-day-3),\n[Day 4](https://www.kaggle.com/rtatman/sql-scavenger-hunt-day-4),\n[Day 5](https://www.kaggle.com/rtatman/sql-scavenger-hunt-day-5).\n"
    },
    {
      "metadata": {
        "_uuid": "93d8eae63fb2b975b9019dfa48b5f8d2ddda2769",
        "_cell_guid": "cf473791-a4e1-4855-9a1d-aa179f3945cd",
        "collapsed": true,
        "trusted": true
      },
      "cell_type": "code",
      "source": "import bq_helper\nopen_aq = bq_helper.BigQueryHelper(active_project=\"bigquery-public-data\",\n                                   dataset_name=\"openaq\")\nhacker_news = bq_helper.BigQueryHelper(active_project=\"bigquery-public-data\",\n                                   dataset_name=\"hacker_news\")\naccidents = bq_helper.BigQueryHelper(active_project=\"bigquery-public-data\",\n                                   dataset_name=\"nhtsa_traffic_fatalities\")\nbitcoin_blockchain = bq_helper.BigQueryHelper(active_project=\"bigquery-public-data\",\n                                              dataset_name=\"bitcoin_blockchain\")\ngithub = bq_helper.BigQueryHelper(active_project=\"bigquery-public-data\",\n                                              dataset_name=\"github_repos\")",
      "execution_count": 1,
      "outputs": []
    },
    {
      "metadata": {
        "_uuid": "88e7568da907aa19b7902c5a2a43c38aceae94ad",
        "_cell_guid": "c49b05f1-eff6-48c2-b4be-5d60d13182ca",
        "collapsed": true
      },
      "cell_type": "markdown",
      "source": "**Day 1: Air Quality Data\n**\n\nWhich countries use a unit other than ppm to measure any type of pollution? (Hint: to get rows where the value isn't something, use \"!=\")\n\nWhich pollutants have a value of exactly 0?"
    },
    {
      "metadata": {
        "_uuid": "2e65ba22ab41b6dd640e406f724be3fe29ac8826",
        "_cell_guid": "689c83d9-ef89-4ca8-ac08-0d535bae9fb6",
        "trusted": true
      },
      "cell_type": "code",
      "source": "query1A = \"\"\"SELECT distinct country\n            FROM `bigquery-public-data.openaq.global_air_quality`\n            WHERE unit != 'ppm'\n        \"\"\"\nresponse1A = open_aq.query_to_pandas_safe(query1A)\nresponse1A.head(5)",
      "execution_count": 2,
      "outputs": [
        {
          "output_type": "execute_result",
          "execution_count": 2,
          "data": {
            "text/plain": "  country\n0      US\n1      FR\n2      TH\n3      IN\n4      NL",
            "text/html": "<div>\n<style>\n    .dataframe thead tr:only-child th {\n        text-align: right;\n    }\n\n    .dataframe thead th {\n        text-align: left;\n    }\n\n    .dataframe tbody tr th {\n        vertical-align: top;\n    }\n</style>\n<table border=\"1\" class=\"dataframe\">\n  <thead>\n    <tr style=\"text-align: right;\">\n      <th></th>\n      <th>country</th>\n    </tr>\n  </thead>\n  <tbody>\n    <tr>\n      <th>0</th>\n      <td>US</td>\n    </tr>\n    <tr>\n      <th>1</th>\n      <td>FR</td>\n    </tr>\n    <tr>\n      <th>2</th>\n      <td>TH</td>\n    </tr>\n    <tr>\n      <th>3</th>\n      <td>IN</td>\n    </tr>\n    <tr>\n      <th>4</th>\n      <td>NL</td>\n    </tr>\n  </tbody>\n</table>\n</div>"
          },
          "metadata": {}
        }
      ]
    },
    {
      "metadata": {
        "_uuid": "0fb603e19efbb147c91ee2225ad67b5a09dd1625",
        "_cell_guid": "d533162d-9a12-409e-a6d6-2aeb32397020",
        "trusted": true
      },
      "cell_type": "code",
      "source": "query1B = \"\"\"SELECT distinct pollutant\n            FROM `bigquery-public-data.openaq.global_air_quality`\n            WHERE value = 0\n        \"\"\"\nresult1B = open_aq.query_to_pandas_safe(query1B)\nresult1B.head(5)",
      "execution_count": 3,
      "outputs": [
        {
          "output_type": "execute_result",
          "execution_count": 3,
          "data": {
            "text/plain": "  pollutant\n0      pm25\n1       so2\n2       no2\n3        o3\n4        co",
            "text/html": "<div>\n<style>\n    .dataframe thead tr:only-child th {\n        text-align: right;\n    }\n\n    .dataframe thead th {\n        text-align: left;\n    }\n\n    .dataframe tbody tr th {\n        vertical-align: top;\n    }\n</style>\n<table border=\"1\" class=\"dataframe\">\n  <thead>\n    <tr style=\"text-align: right;\">\n      <th></th>\n      <th>pollutant</th>\n    </tr>\n  </thead>\n  <tbody>\n    <tr>\n      <th>0</th>\n      <td>pm25</td>\n    </tr>\n    <tr>\n      <th>1</th>\n      <td>so2</td>\n    </tr>\n    <tr>\n      <th>2</th>\n      <td>no2</td>\n    </tr>\n    <tr>\n      <th>3</th>\n      <td>o3</td>\n    </tr>\n    <tr>\n      <th>4</th>\n      <td>co</td>\n    </tr>\n  </tbody>\n</table>\n</div>"
          },
          "metadata": {}
        }
      ]
    },
    {
      "metadata": {
        "_uuid": "a61223d1d7f4a6d4319443a6ed5e4e43d3831e04",
        "_cell_guid": "39804444-6b83-4e8f-acd1-a5a541b67dfb",
        "collapsed": true
      },
      "cell_type": "markdown",
      "source": "**Day 2: Hacker News Data\n**\n\nHow many stories (use the \"id\" column) are there of each type (in the \"type\" column) in the full table?\n\nHow many comments have been deleted? (If a comment was deleted the \"deleted\" column in the comments table will have the value \"True\".)\n\nOptional extra credit: read about aggregate functions other than COUNT() and modify one of the queries you wrote above to use a different aggregate function."
    },
    {
      "metadata": {
        "_uuid": "f537719f2867e10367394cce4a8893d04f579209",
        "_cell_guid": "03ac0a77-3fb8-4430-9ea9-312450010006",
        "trusted": true
      },
      "cell_type": "code",
      "source": "query2A = \"\"\"\nSELECT type,COUNT(id) AS count\nFROM `bigquery-public-data.hacker_news.full`\nGROUP BY type\nORDER BY count DESC\n\"\"\"\nresult2A = hacker_news.query_to_pandas_safe(query2A)\nresult2A.head(5)",
      "execution_count": 4,
      "outputs": [
        {
          "output_type": "execute_result",
          "execution_count": 4,
          "data": {
            "text/plain": "      type     count\n0  comment  13534262\n1    story   2852337\n2  pollopt     11806\n3      job     10192\n4     poll      1728",
            "text/html": "<div>\n<style>\n    .dataframe thead tr:only-child th {\n        text-align: right;\n    }\n\n    .dataframe thead th {\n        text-align: left;\n    }\n\n    .dataframe tbody tr th {\n        vertical-align: top;\n    }\n</style>\n<table border=\"1\" class=\"dataframe\">\n  <thead>\n    <tr style=\"text-align: right;\">\n      <th></th>\n      <th>type</th>\n      <th>count</th>\n    </tr>\n  </thead>\n  <tbody>\n    <tr>\n      <th>0</th>\n      <td>comment</td>\n      <td>13534262</td>\n    </tr>\n    <tr>\n      <th>1</th>\n      <td>story</td>\n      <td>2852337</td>\n    </tr>\n    <tr>\n      <th>2</th>\n      <td>pollopt</td>\n      <td>11806</td>\n    </tr>\n    <tr>\n      <th>3</th>\n      <td>job</td>\n      <td>10192</td>\n    </tr>\n    <tr>\n      <th>4</th>\n      <td>poll</td>\n      <td>1728</td>\n    </tr>\n  </tbody>\n</table>\n</div>"
          },
          "metadata": {}
        }
      ]
    },
    {
      "metadata": {
        "_uuid": "b1a587f85f443f5b3daa9798719beb2740419d83",
        "_cell_guid": "6555f945-cd72-4d99-8845-f697e4300af2",
        "trusted": true
      },
      "cell_type": "code",
      "source": "query2B = \"\"\"\nSELECT COUNT(deleted) AS Number_of_Deleted_Comments\nFROM `bigquery-public-data.hacker_news.comments`\n\"\"\"\nresult2B = hacker_news.query_to_pandas_safe(query2B)\nresult2B.head(5)",
      "execution_count": 5,
      "outputs": [
        {
          "output_type": "execute_result",
          "execution_count": 5,
          "data": {
            "text/plain": "   Number_of_Deleted_Comments\n0                      227736",
            "text/html": "<div>\n<style>\n    .dataframe thead tr:only-child th {\n        text-align: right;\n    }\n\n    .dataframe thead th {\n        text-align: left;\n    }\n\n    .dataframe tbody tr th {\n        vertical-align: top;\n    }\n</style>\n<table border=\"1\" class=\"dataframe\">\n  <thead>\n    <tr style=\"text-align: right;\">\n      <th></th>\n      <th>Number_of_Deleted_Comments</th>\n    </tr>\n  </thead>\n  <tbody>\n    <tr>\n      <th>0</th>\n      <td>227736</td>\n    </tr>\n  </tbody>\n</table>\n</div>"
          },
          "metadata": {}
        }
      ]
    },
    {
      "metadata": {
        "_uuid": "6e163089330951b8f7aefabab61d04e181fe29ce",
        "_cell_guid": "11a9b166-85c2-4e63-9fc7-54d0927fea41",
        "trusted": true
      },
      "cell_type": "code",
      "source": "query2C = \"\"\"SELECT author, \n            AVG(ranking)\n            FROM `bigquery-public-data.hacker_news.comments`\n            GROUP BY author\n            ORDER BY AVG(ranking) DESC\n        \"\"\"\nresult2C = hacker_news.query_to_pandas_safe(query2C)\nresult2C.head(5)\n",
      "execution_count": 6,
      "outputs": [
        {
          "output_type": "execute_result",
          "execution_count": 6,
          "data": {
            "text/plain": "       author     f0_\n0    mehmet51  1310.0\n1        kiki  1309.0\n2     heather  1308.0\n3       Arpad  1307.0\n4  mdnajim859  1305.0",
            "text/html": "<div>\n<style>\n    .dataframe thead tr:only-child th {\n        text-align: right;\n    }\n\n    .dataframe thead th {\n        text-align: left;\n    }\n\n    .dataframe tbody tr th {\n        vertical-align: top;\n    }\n</style>\n<table border=\"1\" class=\"dataframe\">\n  <thead>\n    <tr style=\"text-align: right;\">\n      <th></th>\n      <th>author</th>\n      <th>f0_</th>\n    </tr>\n  </thead>\n  <tbody>\n    <tr>\n      <th>0</th>\n      <td>mehmet51</td>\n      <td>1310.0</td>\n    </tr>\n    <tr>\n      <th>1</th>\n      <td>kiki</td>\n      <td>1309.0</td>\n    </tr>\n    <tr>\n      <th>2</th>\n      <td>heather</td>\n      <td>1308.0</td>\n    </tr>\n    <tr>\n      <th>3</th>\n      <td>Arpad</td>\n      <td>1307.0</td>\n    </tr>\n    <tr>\n      <th>4</th>\n      <td>mdnajim859</td>\n      <td>1305.0</td>\n    </tr>\n  </tbody>\n</table>\n</div>"
          },
          "metadata": {}
        }
      ]
    },
    {
      "metadata": {
        "_uuid": "a94c22c7a3766280723cf58d41d75e135624fa80",
        "_cell_guid": "5c519fd0-72f8-4454-b9f3-2b728d42c57a"
      },
      "cell_type": "markdown",
      "source": "**Day 3: Traffic Fatality Data\n**\n\nWhich hours of the day do the most accidents occur during?\n\nWhich state has the most hit and runs?\n"
    },
    {
      "metadata": {
        "_uuid": "f8f99490631e9c37d65d40db2a09935432032d9c",
        "_cell_guid": "d239f4f2-dd99-4745-8c73-be94ce02ab8a",
        "trusted": true
      },
      "cell_type": "code",
      "source": "query3A =     \"\"\" \n                                SELECT  DATE(timestamp_of_crash),\n                                        EXTRACT(HOUR FROM timestamp_of_crash) AS `Hour`,\n                                        COUNT(consecutive_number) AS `Accidents`\n                                FROM `bigquery-public-data.nhtsa_traffic_fatalities.accident_2015`\n                                GROUP BY  timestamp_of_crash\n                                ORDER BY  COUNT(consecutive_number) DESC                                        \n                               \"\"\"\nresult3A = accidents.query_to_pandas_safe(query3A)\nresult3A.head(10)",
      "execution_count": 7,
      "outputs": [
        {
          "output_type": "execute_result",
          "execution_count": 7,
          "data": {
            "text/plain": "          f0_  Hour  Accidents\n0  2015-10-24    18          4\n1  2015-10-21     0          4\n2  2015-12-31    22          4\n3  2015-12-22     0          4\n4  2015-10-26    13          3\n5  2015-07-14    18          3\n6  2015-12-23    15          3\n7  2015-06-15     0          3\n8  2015-07-04    19          3\n9  2015-07-04    19          3",
            "text/html": "<div>\n<style>\n    .dataframe thead tr:only-child th {\n        text-align: right;\n    }\n\n    .dataframe thead th {\n        text-align: left;\n    }\n\n    .dataframe tbody tr th {\n        vertical-align: top;\n    }\n</style>\n<table border=\"1\" class=\"dataframe\">\n  <thead>\n    <tr style=\"text-align: right;\">\n      <th></th>\n      <th>f0_</th>\n      <th>Hour</th>\n      <th>Accidents</th>\n    </tr>\n  </thead>\n  <tbody>\n    <tr>\n      <th>0</th>\n      <td>2015-10-24</td>\n      <td>18</td>\n      <td>4</td>\n    </tr>\n    <tr>\n      <th>1</th>\n      <td>2015-10-21</td>\n      <td>0</td>\n      <td>4</td>\n    </tr>\n    <tr>\n      <th>2</th>\n      <td>2015-12-31</td>\n      <td>22</td>\n      <td>4</td>\n    </tr>\n    <tr>\n      <th>3</th>\n      <td>2015-12-22</td>\n      <td>0</td>\n      <td>4</td>\n    </tr>\n    <tr>\n      <th>4</th>\n      <td>2015-10-26</td>\n      <td>13</td>\n      <td>3</td>\n    </tr>\n    <tr>\n      <th>5</th>\n      <td>2015-07-14</td>\n      <td>18</td>\n      <td>3</td>\n    </tr>\n    <tr>\n      <th>6</th>\n      <td>2015-12-23</td>\n      <td>15</td>\n      <td>3</td>\n    </tr>\n    <tr>\n      <th>7</th>\n      <td>2015-06-15</td>\n      <td>0</td>\n      <td>3</td>\n    </tr>\n    <tr>\n      <th>8</th>\n      <td>2015-07-04</td>\n      <td>19</td>\n      <td>3</td>\n    </tr>\n    <tr>\n      <th>9</th>\n      <td>2015-07-04</td>\n      <td>19</td>\n      <td>3</td>\n    </tr>\n  </tbody>\n</table>\n</div>"
          },
          "metadata": {}
        }
      ]
    },
    {
      "metadata": {
        "_uuid": "ab8e239aeaa029ec58b1858048303b60a186b9f6",
        "_cell_guid": "aaff6200-e60d-450e-8d75-ef2192c38bec",
        "trusted": true
      },
      "cell_type": "code",
      "source": "query3B =     \"\"\" \n                                SELECT registration_state_name AS `State`,\n                                                COUNT(consecutive_number) AS `HitAndRuns`\n                                FROM `bigquery-public-data.nhtsa_traffic_fatalities.vehicle_2015`\n                                WHERE hit_and_run LIKE \"Yes\" AND registration_state_name NOT LIKE \"Unknown\"\n                                GROUP BY  registration_state_name\n                                ORDER BY  COUNT(consecutive_number) DESC                                        \n                               \"\"\"\nresult3B = accidents.query_to_pandas_safe(query3B)\nresult3B.head(10)",
      "execution_count": 8,
      "outputs": [
        {
          "output_type": "execute_result",
          "execution_count": 8,
          "data": {
            "text/plain": "            State  HitAndRuns\n0      California         155\n1         Florida          96\n2           Texas          86\n3        New York          38\n4        Michigan          33\n5         Arizona          31\n6  North Carolina          30\n7       Wisconsin          29\n8    Pennsylvania          26\n9         Georgia          26",
            "text/html": "<div>\n<style>\n    .dataframe thead tr:only-child th {\n        text-align: right;\n    }\n\n    .dataframe thead th {\n        text-align: left;\n    }\n\n    .dataframe tbody tr th {\n        vertical-align: top;\n    }\n</style>\n<table border=\"1\" class=\"dataframe\">\n  <thead>\n    <tr style=\"text-align: right;\">\n      <th></th>\n      <th>State</th>\n      <th>HitAndRuns</th>\n    </tr>\n  </thead>\n  <tbody>\n    <tr>\n      <th>0</th>\n      <td>California</td>\n      <td>155</td>\n    </tr>\n    <tr>\n      <th>1</th>\n      <td>Florida</td>\n      <td>96</td>\n    </tr>\n    <tr>\n      <th>2</th>\n      <td>Texas</td>\n      <td>86</td>\n    </tr>\n    <tr>\n      <th>3</th>\n      <td>New York</td>\n      <td>38</td>\n    </tr>\n    <tr>\n      <th>4</th>\n      <td>Michigan</td>\n      <td>33</td>\n    </tr>\n    <tr>\n      <th>5</th>\n      <td>Arizona</td>\n      <td>31</td>\n    </tr>\n    <tr>\n      <th>6</th>\n      <td>North Carolina</td>\n      <td>30</td>\n    </tr>\n    <tr>\n      <th>7</th>\n      <td>Wisconsin</td>\n      <td>29</td>\n    </tr>\n    <tr>\n      <th>8</th>\n      <td>Pennsylvania</td>\n      <td>26</td>\n    </tr>\n    <tr>\n      <th>9</th>\n      <td>Georgia</td>\n      <td>26</td>\n    </tr>\n  </tbody>\n</table>\n</div>"
          },
          "metadata": {}
        }
      ]
    },
    {
      "metadata": {
        "_uuid": "7084bf178e7a191d47ddcc68fb786190965df82f",
        "_cell_guid": "1c976458-90dc-4506-859b-8caa62b76d41"
      },
      "cell_type": "markdown",
      "source": "**Day 4: Bitcoin Data\n**\n\nHow many Bitcoin transactions were made each day in 2017?\n\nHow many blocks are associated with each merkle root?\n"
    },
    {
      "metadata": {
        "_uuid": "dc66b80daaa5d1d42d406b9245edde9c313f3055",
        "_cell_guid": "0bf41aa7-65dc-47b3-a1d8-b040bc0ea21d",
        "trusted": true
      },
      "cell_type": "code",
      "source": "query4A = \"\"\" WITH time AS \n            (\n                SELECT TIMESTAMP_MILLIS(timestamp) AS trans_time,\n                    transaction_id\n                FROM `bigquery-public-data.bitcoin_blockchain.transactions`\n            )\n            SELECT COUNT(transaction_id) AS transactions,\n                EXTRACT(DAY FROM trans_time) AS day,\n                EXTRACT(MONTH FROM trans_time) AS month,\n                EXTRACT(YEAR FROM trans_time) AS year\n            FROM time\n            WHERE EXTRACT(YEAR FROM trans_time) = 2017\n            GROUP BY year, month, day \n            ORDER BY year, month, day\n        \"\"\"\nresult4A = bitcoin_blockchain.query_to_pandas_safe(query4A, max_gb_scanned=21)\nprint(result4A.head(5))\nimport matplotlib.pyplot as plt\nplt.plot(result4A.transactions)\nplt.title(\"Daily Bitcoin Transcations in 2017\")",
      "execution_count": 9,
      "outputs": [
        {
          "output_type": "stream",
          "text": "   transactions  day  month  year\n0        180502    1      1  2017\n1        290951    2      1  2017\n2        301664    3      1  2017\n3        328642    4      1  2017\n4        288501    5      1  2017\n",
          "name": "stdout"
        },
        {
          "output_type": "execute_result",
          "execution_count": 9,
          "data": {
            "text/plain": "Text(0.5,1,'Daily Bitcoin Transcations in 2017')"
          },
          "metadata": {}
        },
        {
          "output_type": "display_data",
          "data": {
            "text/plain": "<matplotlib.figure.Figure at 0x7f43d51add30>",
            "image/png": "[encoded data removed]"
          },
          "metadata": {}
        }
      ]
    },
    {
      "metadata": {
        "_uuid": "1b4d6895426d1ace586ba9e22b7887b397db7b97",
        "_cell_guid": "c71195ff-0d41-4245-8725-4e44fcd39699",
        "trusted": true
      },
      "cell_type": "code",
      "source": "query4B=\"\"\"SELECT COUNT(block_id) AS Number_of_Blocks, Merkle_Root\n           FROM `bigquery-public-data.bitcoin_blockchain.blocks`\n           GROUP BY Merkle_Root\n           ORDER BY Number_of_Blocks\n        \"\"\"\nresult4B = bitcoin_blockchain.query_to_pandas(query4B)\nresult4B.head(10)",
      "execution_count": 10,
      "outputs": [
        {
          "output_type": "execute_result",
          "execution_count": 10,
          "data": {
            "text/plain": "   Number_of_Blocks                                        Merkle_Root\n0                 1  03dffbf0b2b7187ade919dd69bf925b6a8810c2e0d4048...\n1                 1  8e96527e80b4d34ddc4648603b95ca3015b8186eb3c93c...\n2                 1  89687d202e53bf59af734f402c50a36731c38168f5acbd...\n3                 1  075d0c4df55b3f2d164afdff8f603d9b87831e2a3fc381...\n4                 1  8bf5f651dffefa07fa1edc0d2bc93ece4a6133e367d40e...\n5                 1  ad439588f3d3ab938c9cce735ded67845fedc0f0f0908e...\n6                 1  a851c2520e90850d2dfe5e27e44113642618a167e209d4...\n7                 1  c659e9c71f7cb0479e193ff1b6801c41adf86123a62f92...\n8                 1  e494c605b80639ef87ae0a868383ad5ee1c3baa46dc217...\n9                 1  25aa44b91f5c6fbb53c0f8a89073d74c0280d441577ea8...",
            "text/html": "<div>\n<style>\n    .dataframe thead tr:only-child th {\n        text-align: right;\n    }\n\n    .dataframe thead th {\n        text-align: left;\n    }\n\n    .dataframe tbody tr th {\n        vertical-align: top;\n    }\n</style>\n<table border=\"1\" class=\"dataframe\">\n  <thead>\n    <tr style=\"text-align: right;\">\n      <th></th>\n      <th>Number_of_Blocks</th>\n      <th>Merkle_Root</th>\n    </tr>\n  </thead>\n  <tbody>\n    <tr>\n      <th>0</th>\n      <td>1</td>\n      <td>03dffbf0b2b7187ade919dd69bf925b6a8810c2e0d4048...</td>\n    </tr>\n    <tr>\n      <th>1</th>\n      <td>1</td>\n      <td>8e96527e80b4d34ddc4648603b95ca3015b8186eb3c93c...</td>\n    </tr>\n    <tr>\n      <th>2</th>\n      <td>1</td>\n      <td>89687d202e53bf59af734f402c50a36731c38168f5acbd...</td>\n    </tr>\n    <tr>\n      <th>3</th>\n      <td>1</td>\n      <td>075d0c4df55b3f2d164afdff8f603d9b87831e2a3fc381...</td>\n    </tr>\n    <tr>\n      <th>4</th>\n      <td>1</td>\n      <td>8bf5f651dffefa07fa1edc0d2bc93ece4a6133e367d40e...</td>\n    </tr>\n    <tr>\n      <th>5</th>\n      <td>1</td>\n      <td>ad439588f3d3ab938c9cce735ded67845fedc0f0f0908e...</td>\n    </tr>\n    <tr>\n      <th>6</th>\n      <td>1</td>\n      <td>a851c2520e90850d2dfe5e27e44113642618a167e209d4...</td>\n    </tr>\n    <tr>\n      <th>7</th>\n      <td>1</td>\n      <td>c659e9c71f7cb0479e193ff1b6801c41adf86123a62f92...</td>\n    </tr>\n    <tr>\n      <th>8</th>\n      <td>1</td>\n      <td>e494c605b80639ef87ae0a868383ad5ee1c3baa46dc217...</td>\n    </tr>\n    <tr>\n      <th>9</th>\n      <td>1</td>\n      <td>25aa44b91f5c6fbb53c0f8a89073d74c0280d441577ea8...</td>\n    </tr>\n  </tbody>\n</table>\n</div>"
          },
          "metadata": {}
        }
      ]
    },
    {
      "metadata": {
        "_uuid": "88987d730711d02aa041605812d0ce7ab48e0ff9",
        "_cell_guid": "67e4b71f-83bc-4d09-bb88-4e9510464f5e"
      },
      "cell_type": "markdown",
      "source": "**Day 5: GitHub Data\n**\n\nHow many commits (recorded in the \"sample_commits\" table) have been made in repos written in the Python programming language?\n"
    },
    {
      "metadata": {
        "_uuid": "f3bbe7dac0475220a60eddb8aaecb566140f8aec",
        "_cell_guid": "6dfe0264-6ce5-4ebd-b41c-34013659b46a",
        "trusted": true
      },
      "cell_type": "code",
      "source": "query5A = (\"\"\"\n        SELECT COUNT(commit) AS Total_Number_of_Commits_in_Python\n        FROM `bigquery-public-data.github_repos.sample_commits` AS sc\n        INNER JOIN `bigquery-public-data.github_repos.sample_files` AS sf \n            ON sc.repo_name = sf.repo_name\n            WHERE sf.path LIKE '%.py'        \n        \"\"\")\nresult5A = bitcoin_blockchain.query_to_pandas(query5A)\nresult5A.head(10)",
      "execution_count": 11,
      "outputs": [
        {
          "output_type": "execute_result",
          "execution_count": 11,
          "data": {
            "text/plain": "   Total_Number_of_Commits_in_Python\n0                           31695737",
            "text/html": "<div>\n<style>\n    .dataframe thead tr:only-child th {\n        text-align: right;\n    }\n\n    .dataframe thead th {\n        text-align: left;\n    }\n\n    .dataframe tbody tr th {\n        vertical-align: top;\n    }\n</style>\n<table border=\"1\" class=\"dataframe\">\n  <thead>\n    <tr style=\"text-align: right;\">\n      <th></th>\n      <th>Total_Number_of_Commits_in_Python</th>\n    </tr>\n  </thead>\n  <tbody>\n    <tr>\n      <th>0</th>\n      <td>31695737</td>\n    </tr>\n  </tbody>\n</table>\n</div>"
          },
          "metadata": {}
        }
      ]
    },
    {
      "metadata": {
        "_uuid": "d1aab39c4496dda1b573f4380a4c72cbf6f964b9",
        "_cell_guid": "6c4300a1-d3f2-4473-95d1-d94b0818f23f",
        "scrolled": false,
        "trusted": true
      },
      "cell_type": "code",
      "source": "query5B=\"\"\"with temp AS\n             (SELECT sf.path AS path, sc.commit AS commit, sc.repo_name AS Repository_Name\n              FROM `bigquery-public-data.github_repos.sample_files` AS sf\n              INNER JOIN `bigquery-public-data.github_repos.sample_commits` AS sc \n              ON sf.repo_name = sc.repo_name\n              WHERE path LIKE '%.py'\n            )\n            SELECT count(commit) AS Number_of_Commits_in_Python, Repository_Name\n            FROM temp\n            GROUP BY Repository_Name \n            ORDER BY Number_of_Commits_in_Python DESC\n            \"\"\"\nresult5B = bitcoin_blockchain.query_to_pandas(query5B)\nresult5B",
      "execution_count": 12,
      "outputs": [
        {
          "output_type": "execute_result",
          "execution_count": 12,
          "data": {
            "text/plain": "   Number_of_Commits_in_Python        Repository_Name\n0                     23501556         torvalds/linux\n1                      4128858  tensorflow/tensorflow\n2                      4044664            apple/swift\n3                        13750         facebook/react\n4                         6909       Microsoft/vscode",
            "text/html": "<div>\n<style>\n    .dataframe thead tr:only-child th {\n        text-align: right;\n    }\n\n    .dataframe thead th {\n        text-align: left;\n    }\n\n    .dataframe tbody tr th {\n        vertical-align: top;\n    }\n</style>\n<table border=\"1\" class=\"dataframe\">\n  <thead>\n    <tr style=\"text-align: right;\">\n      <th></th>\n      <th>Number_of_Commits_in_Python</th>\n      <th>Repository_Name</th>\n    </tr>\n  </thead>\n  <tbody>\n    <tr>\n      <th>0</th>\n      <td>23501556</td>\n      <td>torvalds/linux</td>\n    </tr>\n    <tr>\n      <th>1</th>\n      <td>4128858</td>\n      <td>tensorflow/tensorflow</td>\n    </tr>\n    <tr>\n      <th>2</th>\n      <td>4044664</td>\n      <td>apple/swift</td>\n    </tr>\n    <tr>\n      <th>3</th>\n      <td>13750</td>\n      <td>facebook/react</td>\n    </tr>\n    <tr>\n      <th>4</th>\n      <td>6909</td>\n      <td>Microsoft/vscode</td>\n    </tr>\n  </tbody>\n</table>\n</div>"
          },
          "metadata": {}
        }
      ]
    },
    {
      "metadata": {
        "_uuid": "2f82c0f993423f2bbee479c27ff8e2e2af723aeb",
        "_cell_guid": "728cbbaa-ff61-441f-bfe4-dcf5c14cfb66",
        "collapsed": true,
        "trusted": true
      },
      "cell_type": "code",
      "source": "",
      "execution_count": null,
      "outputs": []
    },
    {
      "metadata": {
        "_uuid": "e03f378f7ef3bdda51bfcbad849cc976e5479e0f",
        "_cell_guid": "266904db-c073-454e-8fde-4008f2bfd85b",
        "collapsed": true,
        "trusted": true
      },
      "cell_type": "code",
      "source": "",
      "execution_count": null,
      "outputs": []
    }
  ],
  "metadata": {
    "language_info": {
      "name": "python",
      "version": "3.6.4",
      "mimetype": "text/x-python",
      "codemirror_mode": {
        "name": "ipython",
        "version": 3
      },
      "pygments_lexer": "ipython3",
      "nbconvert_exporter": "python",
      "file_extension": ".py"
    },
    "kernelspec": {
      "display_name": "Python 3",
      "language": "python",
      "name": "python3"
    }
  },
  "nbformat": 4,
  "nbformat_minor": 1
}