{
  "cells": [
    {
      "metadata": {
        "_uuid": "e660f53afc4ad9ea178a50e770086c570254b5ee",
        "_cell_guid": "a7082462-c468-4948-a09e-8e971bfbc66a"
      },
      "cell_type": "markdown",
      "source": "**How to Query the Chicago Crime Dataset (BigQuery)**"
    },
    {
      "metadata": {
        "_uuid": "8f2839f25d086af736a60e9eeb907d3b93b6e0e5",
        "_cell_guid": "b1076dfc-b9ad-4769-8c92-a6c4dae69d19",
        "collapsed": true,
        "trusted": true
      },
      "cell_type": "code",
      "source": "import bq_helper\nfrom bq_helper import BigQueryHelper\n# https://www.kaggle.com/sohier/introduction-to-the-bq-helper-package\nchicago_crime = bq_helper.BigQueryHelper(active_project=\"bigquery-public-data\",\n                                   dataset_name=\"chicago_crime\")",
      "execution_count": 1,
      "outputs": []
    },
    {
      "metadata": {
        "_uuid": "ff48bda88377e6ddef973738f366dabaee88464e",
        "_cell_guid": "faf3dc52-1921-4238-b627-9d738e891fac",
        "trusted": true
      },
      "cell_type": "code",
      "source": "bq_assistant = BigQueryHelper(\"bigquery-public-data\", \"chicago_crime\")\nbq_assistant.list_tables()",
      "execution_count": 2,
      "outputs": [
        {
          "output_type": "execute_result",
          "execution_count": 2,
          "data": {
            "text/plain": "['crime']"
          },
          "metadata": {}
        }
      ]
    },
    {
      "metadata": {
        "_uuid": "1a6a818dcf49098dc7a9f3289a128e1d65cfca52",
        "_cell_guid": "8178d370-55ca-4d66-b7cf-88e0cefd0066",
        "trusted": true
      },
      "cell_type": "code",
      "source": "bq_assistant.head(\"crime\", num_rows=3)",
      "execution_count": 3,
      "outputs": [
        {
          "output_type": "execute_result",
          "execution_count": 3,
          "data": {
            "text/plain": "   unique_key case_number                      date                 block  \\\n0     6445963    HP518816 2008-08-17 04:00:00+00:00  060XX S NORMANDY AVE   \n1     3563797    HK648922 2004-09-25 03:30:00+00:00   091XX S SAGINAW AVE   \n2     3024782    HJ730100 2003-08-13 08:45:00+00:00  091XX S PHILLIPS AVE   \n\n   iucr        primary_type                                     description  \\\n0  1365   CRIMINAL TRESPASS                                    TO RESIDENCE   \n1  0497             BATTERY  AGGRAVATED DOMESTIC BATTERY: OTHER DANG WEAPON   \n2  1242  DECEPTIVE PRACTICE                                  COMPUTER FRAUD   \n\n  location_description  arrest  domestic              ...                ward  \\\n0            RESIDENCE   False     False              ...                  23   \n1            RESIDENCE   False      True              ...                   7   \n2            RESIDENCE   False     False              ...                   7   \n\n   community_area  fbi_code  x_coordinate y_coordinate  year  \\\n0              64        26     1132775.0    1863699.0  2008   \n1              48       04B     1195470.0    1844867.0  2004   \n2              48        11     1194092.0    1844784.0  2003   \n\n                 updated_on   latitude  longitude  \\\n0 2018-02-28 15:56:25+00:00  41.782212 -87.788763   \n1 2018-02-28 15:56:25+00:00  41.729216 -87.559529   \n2 2018-02-10 15:50:01+00:00  41.729022 -87.564579   \n\n                        location  \n0  (41.782211969, -87.788763243)  \n1  (41.729216041, -87.559528902)  \n2  (41.729022164, -87.564579481)  \n\n[3 rows x 22 columns]",
            "text/html": "<div>\n<style scoped>\n    .dataframe tbody tr th:only-of-type {\n        vertical-align: middle;\n    }\n\n    .dataframe tbody tr th {\n        vertical-align: top;\n    }\n\n    .dataframe thead th {\n        text-align: right;\n    }\n</style>\n<table border=\"1\" class=\"dataframe\">\n  <thead>\n    <tr style=\"text-align: right;\">\n      <th></th>\n      <th>unique_key</th>\n      <th>case_number</th>\n      <th>date</th>\n      <th>block</th>\n      <th>iucr</th>\n      <th>primary_type</th>\n      <th>description</th>\n      <th>location_description</th>\n      <th>arrest</th>\n      <th>domestic</th>\n      <th>...</th>\n      <th>ward</th>\n      <th>community_area</th>\n      <th>fbi_code</th>\n      <th>x_coordinate</th>\n      <th>y_coordinate</th>\n      <th>year</th>\n      <th>updated_on</th>\n      <th>latitude</th>\n      <th>longitude</th>\n      <th>location</th>\n    </tr>\n  </thead>\n  <tbody>\n    <tr>\n      <th>0</th>\n      <td>6445963</td>\n      <td>HP518816</td>\n      <td>2008-08-17 04:00:00+00:00</td>\n      <td>060XX S NORMANDY AVE</td>\n      <td>1365</td>\n      <td>CRIMINAL TRESPASS</td>\n      <td>TO RESIDENCE</td>\n      <td>RESIDENCE</td>\n      <td>False</td>\n      <td>False</td>\n      <td>...</td>\n      <td>23</td>\n      <td>64</td>\n      <td>26</td>\n      <td>1132775.0</td>\n      <td>1863699.0</td>\n      <td>2008</td>\n      <td>2018-02-28 15:56:25+00:00</td>\n      <td>41.782212</td>\n      <td>-87.788763</td>\n      <td>(41.782211969, -87.788763243)</td>\n    </tr>\n    <tr>\n      <th>1</th>\n      <td>3563797</td>\n      <td>HK648922</td>\n      <td>2004-09-25 03:30:00+00:00</td>\n      <td>091XX S SAGINAW AVE</td>\n      <td>0497</td>\n      <td>BATTERY</td>\n      <td>AGGRAVATED DOMESTIC BATTERY: OTHER DANG WEAPON</td>\n      <td>RESIDENCE</td>\n      <td>False</td>\n      <td>True</td>\n      <td>...</td>\n      <td>7</td>\n      <td>48</td>\n      <td>04B</td>\n      <td>1195470.0</td>\n      <td>1844867.0</td>\n      <td>2004</td>\n      <td>2018-02-28 15:56:25+00:00</td>\n      <td>41.729216</td>\n      <td>-87.559529</td>\n      <td>(41.729216041, -87.559528902)</td>\n    </tr>\n    <tr>\n      <th>2</th>\n      <td>3024782</td>\n      <td>HJ730100</td>\n      <td>2003-08-13 08:45:00+00:00</td>\n      <td>091XX S PHILLIPS AVE</td>\n      <td>1242</td>\n      <td>DECEPTIVE PRACTICE</td>\n      <td>COMPUTER FRAUD</td>\n      <td>RESIDENCE</td>\n      <td>False</td>\n      <td>False</td>\n      <td>...</td>\n      <td>7</td>\n      <td>48</td>\n      <td>11</td>\n      <td>1194092.0</td>\n      <td>1844784.0</td>\n      <td>2003</td>\n      <td>2018-02-10 15:50:01+00:00</td>\n      <td>41.729022</td>\n      <td>-87.564579</td>\n      <td>(41.729022164, -87.564579481)</td>\n    </tr>\n  </tbody>\n</table>\n<p>3 rows × 22 columns</p>\n</div>"
          },
          "metadata": {}
        }
      ]
    },
    {
      "metadata": {
        "_uuid": "a24291522f4e546b62e9383ae00f77d9ce6368de",
        "_cell_guid": "2019672f-ed04-44d6-8ea9-9f8ff0eac999",
        "_kg_hide-output": true,
        "trusted": true
      },
      "cell_type": "code",
      "source": "bq_assistant.table_schema(\"crime\")",
      "execution_count": 4,
      "outputs": [
        {
          "output_type": "execute_result",
          "execution_count": 4,
          "data": {
            "text/plain": "[SchemaField('unique_key', 'INTEGER', 'REQUIRED', 'Unique identifier for the record.', ()),\n SchemaField('case_number', 'STRING', 'NULLABLE', 'The Chicago Police Department RD Number (Records Division Number), which is unique to the incident.', ()),\n SchemaField('date', 'TIMESTAMP', 'NULLABLE', 'Date when the incident occurred. this is sometimes a best estimate.', ()),\n SchemaField('block', 'STRING', 'NULLABLE', 'The partially redacted address where the incident occurred, placing it on the same block as the actual address.', ()),\n SchemaField('iucr', 'STRING', 'NULLABLE', 'The Illinois Unifrom Crime Reporting code. This is directly linked to the Primary Type and Description. See the list of IUCR codes at https://data.cityofchicago.org/d/c7ck-438e.', ()),\n SchemaField('primary_type', 'STRING', 'NULLABLE', 'The primary description of the IUCR code.', ()),\n SchemaField('description', 'STRING', 'NULLABLE', 'The secondary description of the IUCR code, a subcategory of the primary description.', ()),\n SchemaField('location_description', 'STRING', 'NULLABLE', 'Description of the location where the incident occurred.', ()),\n SchemaField('arrest', 'BOOLEAN', 'NULLABLE', 'Indicates whether an arrest was made.', ()),\n SchemaField('domestic', 'BOOLEAN', 'NULLABLE', 'Indicates whether the incident was domestic-related as defined by the Illinois Domestic Violence Act.', ()),\n SchemaField('beat', 'INTEGER', 'NULLABLE', 'Indicates the beat where the incident occurred. A beat is the smallest police geographic area – each beat has a dedicated police beat car. Three to five beats make up a police sector, and three sectors make up a police district. The Chicago Police Department has 22 police districts. See the beats at https://data.cityofchicago.org/d/aerh-rz74.', ()),\n SchemaField('district', 'INTEGER', 'NULLABLE', 'Indicates the police district where the incident occurred. See the districts at https://data.cityofchicago.org/d/fthy-xz3r.', ()),\n SchemaField('ward', 'INTEGER', 'NULLABLE', 'The ward (City Council district) where the incident occurred. See the wards at https://data.cityofchicago.org/d/sp34-6z76.', ()),\n SchemaField('community_area', 'INTEGER', 'NULLABLE', 'Indicates the community area where the incident occurred. Chicago has 77 community areas. See the community areas at https://data.cityofchicago.org/d/cauq-8yn6.', ()),\n SchemaField('fbi_code', 'STRING', 'NULLABLE', \"Indicates the crime classification as outlined in the FBI's National Incident-Based Reporting System (NIBRS). See the Chicago Police Department listing of these classifications at http://gis.chicagopolice.org/clearmap_crime_sums/crime_types.html.\", ()),\n SchemaField('x_coordinate', 'FLOAT', 'NULLABLE', 'The x coordinate of the location where the incident occurred in State Plane Illinois East NAD 1983 projection. This location is shifted from the actual location for partial redaction but falls on the same block.', ()),\n SchemaField('y_coordinate', 'FLOAT', 'NULLABLE', 'The y coordinate of the location where the incident occurred in State Plane Illinois East NAD 1983 projection. This location is shifted from the actual location for partial redaction but falls on the same block.', ()),\n SchemaField('year', 'INTEGER', 'NULLABLE', 'Year the incident occurred.', ()),\n SchemaField('updated_on', 'TIMESTAMP', 'NULLABLE', 'Date and time the record was last updated.', ()),\n SchemaField('latitude', 'FLOAT', 'NULLABLE', 'The latitude of the location where the incident occurred. This location is shifted from the actual location for partial redaction but falls on the same block.', ()),\n SchemaField('longitude', 'FLOAT', 'NULLABLE', 'The longitude of the location where the incident occurred. This location is shifted from the actual location for partial redaction but falls on the same block.', ()),\n SchemaField('location', 'STRING', 'NULLABLE', 'The location where the incident occurred in a format that allows for creation of maps and other geographic operations on this data portal. This location is shifted from the actual location for partial redaction but falls on the same block.', ())]"
          },
          "metadata": {}
        }
      ]
    },
    {
      "metadata": {
        "_uuid": "4d1459635075242a3e7fe04379ed8fb56c224b8b",
        "_cell_guid": "c4942c81-2a06-4793-a0e0-3bf767b073ec"
      },
      "cell_type": "markdown",
      "source": "What categories of crime exhibited the greatest year-over-year increase between 2015 and 2016?\n"
    },
    {
      "metadata": {
        "_uuid": "a91c85c1a9ddc073a82c8666a246198d005b12de",
        "_cell_guid": "0866daed-5211-4f2c-9fc5-3123cc8dae38",
        "trusted": true
      },
      "cell_type": "code",
      "source": "query1 = \"\"\"SELECT\n  primary_type,\n  description,\n  COUNTIF(year = 2015) AS arrests_2015,\n  COUNTIF(year = 2016) AS arrests_2016,\n  FORMAT('%3.2f', (COUNTIF(year = 2016) - COUNTIF(year = 2015)) / COUNTIF(year = 2015)*100) AS pct_change_2015_to_2016\nFROM\n  `bigquery-public-data.chicago_crime.crime`\nWHERE\n  arrest = TRUE\n  AND year IN (2015,\n    2016)\nGROUP BY\n  primary_type,\n  description\nHAVING\n  COUNTIF(year = 2015) > 100\nORDER BY\n  (COUNTIF(year = 2016) - COUNTIF(year = 2015)) / COUNTIF(year = 2015) DESC\n        \"\"\"\nresponse1 = chicago_crime.query_to_pandas_safe(query1)\nresponse1.head(10)",
      "execution_count": 5,
      "outputs": [
        {
          "output_type": "execute_result",
          "execution_count": 5,
          "data": {
            "text/plain": "           primary_type                 description  arrests_2015  \\\n0         OTHER OFFENSE   VEHICLE TITLE/REG OFFENSE           288   \n1         OTHER OFFENSE    FALSE/STOLEN/ALTERED TRP           299   \n2              HOMICIDE         FIRST DEGREE MURDER           171   \n3             NARCOTICS     FOUND SUSPECT NARCOTICS           651   \n4               ASSAULT         AGGRAVATED: HANDGUN           468   \n5   MOTOR VEHICLE THEFT                  AUTOMOBILE           779   \n6               ROBBERY              ARMED: HANDGUN           231   \n7  LIQUOR LAW VIOLATION    LIQUOR LICENSE VIOLATION           134   \n8   MOTOR VEHICLE THEFT  THEFT/RECOVERY: AUTOMOBILE           164   \n9         OTHER OFFENSE       OTHER VEHICLE OFFENSE           194   \n\n   arrests_2016 pct_change_2015_to_2016  \n0           418                   45.14  \n1           418                   39.80  \n2           230                   34.50  \n3           842                   29.34  \n4           523                   11.75  \n5           864                   10.91  \n6           249                    7.79  \n7           144                    7.46  \n8           171                    4.27  \n9           202                    4.12  ",
            "text/html": "<div>\n<style scoped>\n    .dataframe tbody tr th:only-of-type {\n        vertical-align: middle;\n    }\n\n    .dataframe tbody tr th {\n        vertical-align: top;\n    }\n\n    .dataframe thead th {\n        text-align: right;\n    }\n</style>\n<table border=\"1\" class=\"dataframe\">\n  <thead>\n    <tr style=\"text-align: right;\">\n      <th></th>\n      <th>primary_type</th>\n      <th>description</th>\n      <th>arrests_2015</th>\n      <th>arrests_2016</th>\n      <th>pct_change_2015_to_2016</th>\n    </tr>\n  </thead>\n  <tbody>\n    <tr>\n      <th>0</th>\n      <td>OTHER OFFENSE</td>\n      <td>VEHICLE TITLE/REG OFFENSE</td>\n      <td>288</td>\n      <td>418</td>\n      <td>45.14</td>\n    </tr>\n    <tr>\n      <th>1</th>\n      <td>OTHER OFFENSE</td>\n      <td>FALSE/STOLEN/ALTERED TRP</td>\n      <td>299</td>\n      <td>418</td>\n      <td>39.80</td>\n    </tr>\n    <tr>\n      <th>2</th>\n      <td>HOMICIDE</td>\n      <td>FIRST DEGREE MURDER</td>\n      <td>171</td>\n      <td>230</td>\n      <td>34.50</td>\n    </tr>\n    <tr>\n      <th>3</th>\n      <td>NARCOTICS</td>\n      <td>FOUND SUSPECT NARCOTICS</td>\n      <td>651</td>\n      <td>842</td>\n      <td>29.34</td>\n    </tr>\n    <tr>\n      <th>4</th>\n      <td>ASSAULT</td>\n      <td>AGGRAVATED: HANDGUN</td>\n      <td>468</td>\n      <td>523</td>\n      <td>11.75</td>\n    </tr>\n    <tr>\n      <th>5</th>\n      <td>MOTOR VEHICLE THEFT</td>\n      <td>AUTOMOBILE</td>\n      <td>779</td>\n      <td>864</td>\n      <td>10.91</td>\n    </tr>\n    <tr>\n      <th>6</th>\n      <td>ROBBERY</td>\n      <td>ARMED: HANDGUN</td>\n      <td>231</td>\n      <td>249</td>\n      <td>7.79</td>\n    </tr>\n    <tr>\n      <th>7</th>\n      <td>LIQUOR LAW VIOLATION</td>\n      <td>LIQUOR LICENSE VIOLATION</td>\n      <td>134</td>\n      <td>144</td>\n      <td>7.46</td>\n    </tr>\n    <tr>\n      <th>8</th>\n      <td>MOTOR VEHICLE THEFT</td>\n      <td>THEFT/RECOVERY: AUTOMOBILE</td>\n      <td>164</td>\n      <td>171</td>\n      <td>4.27</td>\n    </tr>\n    <tr>\n      <th>9</th>\n      <td>OTHER OFFENSE</td>\n      <td>OTHER VEHICLE OFFENSE</td>\n      <td>194</td>\n      <td>202</td>\n      <td>4.12</td>\n    </tr>\n  </tbody>\n</table>\n</div>"
          },
          "metadata": {}
        }
      ]
    },
    {
      "metadata": {
        "_uuid": "6fc7410c1b1260765b2f359b986e2c682ffab217",
        "_cell_guid": "65cee8ab-42d4-47bd-bfba-c8d009f310ce"
      },
      "cell_type": "markdown",
      "source": "Which month generally has the greatest number of motor vehicle thefts?\n"
    },
    {
      "metadata": {
        "_uuid": "bdfb39018567730c9ab81a6e6fbc56a63de1a944",
        "_cell_guid": "dea75fc4-a5bc-4e6f-a05f-6411845d38ff",
        "trusted": true
      },
      "cell_type": "code",
      "source": "query2 = \"\"\"SELECT\n  year,\n  month,\n  incidents\nFROM (\n  SELECT\n    year,\n    EXTRACT(MONTH\n    FROM\n      date) AS month,\n    COUNT(1) AS incidents,\n    RANK() OVER (PARTITION BY year ORDER BY COUNT(1) DESC) AS ranking\n  FROM\n    `bigquery-public-data.chicago_crime.crime`\n  WHERE\n    primary_type = 'MOTOR VEHICLE THEFT'\n    AND year <= 2016\n  GROUP BY\n    year,\n    month )\nWHERE\n  ranking = 1\nORDER BY\n  year DESC\n        \"\"\"\nresponse2 = chicago_crime.query_to_pandas_safe(query2)\nresponse2.head(10)",
      "execution_count": 6,
      "outputs": [
        {
          "output_type": "execute_result",
          "execution_count": 6,
          "data": {
            "text/plain": "   year  month  incidents\n0  2016     12       1109\n1  2015      8        968\n2  2014     10        922\n3  2013      1       1470\n4  2012      6       1469\n5  2011      1       1862\n6  2010     12       1880\n7  2009     12       1539\n8  2008      7       2015\n9  2007     10       1709",
            "text/html": "<div>\n<style scoped>\n    .dataframe tbody tr th:only-of-type {\n        vertical-align: middle;\n    }\n\n    .dataframe tbody tr th {\n        vertical-align: top;\n    }\n\n    .dataframe thead th {\n        text-align: right;\n    }\n</style>\n<table border=\"1\" class=\"dataframe\">\n  <thead>\n    <tr style=\"text-align: right;\">\n      <th></th>\n      <th>year</th>\n      <th>month</th>\n      <th>incidents</th>\n    </tr>\n  </thead>\n  <tbody>\n    <tr>\n      <th>0</th>\n      <td>2016</td>\n      <td>12</td>\n      <td>1109</td>\n    </tr>\n    <tr>\n      <th>1</th>\n      <td>2015</td>\n      <td>8</td>\n      <td>968</td>\n    </tr>\n    <tr>\n      <th>2</th>\n      <td>2014</td>\n      <td>10</td>\n      <td>922</td>\n    </tr>\n    <tr>\n      <th>3</th>\n      <td>2013</td>\n      <td>1</td>\n      <td>1470</td>\n    </tr>\n    <tr>\n      <th>4</th>\n      <td>2012</td>\n      <td>6</td>\n      <td>1469</td>\n    </tr>\n    <tr>\n      <th>5</th>\n      <td>2011</td>\n      <td>1</td>\n      <td>1862</td>\n    </tr>\n    <tr>\n      <th>6</th>\n      <td>2010</td>\n      <td>12</td>\n      <td>1880</td>\n    </tr>\n    <tr>\n      <th>7</th>\n      <td>2009</td>\n      <td>12</td>\n      <td>1539</td>\n    </tr>\n    <tr>\n      <th>8</th>\n      <td>2008</td>\n      <td>7</td>\n      <td>2015</td>\n    </tr>\n    <tr>\n      <th>9</th>\n      <td>2007</td>\n      <td>10</td>\n      <td>1709</td>\n    </tr>\n  </tbody>\n</table>\n</div>"
          },
          "metadata": {}
        }
      ]
    }
  ],
  "metadata": {
    "kernelspec": {
      "display_name": "Python 3",
      "language": "python",
      "name": "python3"
    },
    "language_info": {
      "name": "python",
      "version": "3.6.4",
      "mimetype": "text/x-python",
      "codemirror_mode": {
        "name": "ipython",
        "version": 3
      },
      "pygments_lexer": "ipython3",
      "nbconvert_exporter": "python",
      "file_extension": ".py"
    }
  },
  "nbformat": 4,
  "nbformat_minor": 1
}