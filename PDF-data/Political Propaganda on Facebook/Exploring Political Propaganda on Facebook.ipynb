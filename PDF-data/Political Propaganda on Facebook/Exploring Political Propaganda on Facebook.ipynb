{
  "cells": [
    {
      "metadata": {
        "_cell_guid": "79c7e3d0-c299-4dcb-8224-4455121ee9b0",
        "_uuid": "d629ff2d2480ee46fbb7e2d37f6b5fab8052498a",
        "trusted": true,
        "collapsed": true
      },
      "cell_type": "markdown",
      "source": "**Exploring Political Propaganda on Facebook**"
    },
    {
      "metadata": {
        "_uuid": "3a30344b3ab4f60eceaf79002bc4b937bb053507"
      },
      "cell_type": "markdown",
      "source": "The Internet Research Agency (IRA) is a notorious Russian “troll” farm that has the strategic goal of sowing discord in the U.S. political system.  IRA activity on Facebook includes purchasing at least 3,393 advertisements and targeting them towards 11.4 million Americans.\n\nThe House Intelligence Committee recently released some of these Facebook Ads as a public dataset:\nhttps://democrats-intelligence.house.gov/social-media-content/."
    },
    {
      "metadata": {
        "_uuid": "837606cde30b2615deacb8d31700ae09b7c00ffb"
      },
      "cell_type": "markdown",
      "source": "TL;DR:  Most of the Facebook advertisements that were purchased by the IRA simply seek to expose and enlarge cultural and political divisions in America.  The target audience appears to be people on both sides of various civil rights issues such as Black Lives Matter and LBGT/Pride.  Many of the advertisements are inflammatory and offensive and some might be surprised that the content was allowed on an advertising platform in the first place.  If you find this type of content offensive please do not proceed!"
    },
    {
      "metadata": {
        "trusted": true,
        "_uuid": "7d37e7e4c4ce81c6d74954aa979bf7930d65e5dd",
        "_kg_hide-input": true,
        "_kg_hide-output": false
      },
      "cell_type": "code",
      "source": "import numpy as np\nimport pandas as pd\nimport matplotlib.pyplot as plt\nfrom IPython.core import display as ICD\nfrom torchvision import transforms\nimport imageio\nimport PIL\nimport cv2\nimport os\nfrom glob import glob\nimport shutil\nimport random\nimport zipfile\npath = \"../input/russian political influence campaigns/Russian Political Influence Campaigns/Supplementary Data/From Russian Ad Explorer/images.zip\"\nwith zipfile.ZipFile(path,\"r\") as z:\n    z.extractall(\".\")",
      "execution_count": null,
      "outputs": []
    },
    {
      "metadata": {
        "_kg_hide-input": true,
        "trusted": true,
        "_uuid": "abfa2f7e5aa379c7cb240ba2603a3ae9c588f4c2"
      },
      "cell_type": "code",
      "source": "dataPath = '../input/russian political influence campaigns/Russian Political Influence Campaigns/Supplementary Data/From Data World/FacebookAds.csv'\ndataset = pd.read_csv(dataPath)\nadCount = dataset['Clicks'].count()\nAdSpendCount = dataset['AdSpend'].sum()\nAdSpendCountDol = AdSpendCount/63\nclickCount = dataset['Clicks'].sum()\nclickCountPerAd = clickCount/adCount\nClickRatioDol = AdSpendCountDol/clickCount\nAdSpendCountRatio = AdSpendCountDol/adCount\nprint('Total # of Ads Purchased by IRA between 2015 to 2017:',adCount)\nprint('Total $ Spent by IRA between 2015 to 2017: $',AdSpendCountDol)\nprint('Avg Cost per Ad: $',AdSpendCountRatio)\nprint('Avg # of Clicks Per Ad: ',clickCountPerAd)\nprint('Avg Cost per Click: $',ClickRatioDol)",
      "execution_count": null,
      "outputs": []
    },
    {
      "metadata": {
        "_uuid": "d86cb18f72738b7d83832f686cf1d356cce81aeb"
      },
      "cell_type": "markdown",
      "source": "Some of the advertisements are in support of Donald Trump."
    },
    {
      "metadata": {
        "trusted": true,
        "_uuid": "e1ce024e07b4cec11b5fdaf7b55c7b2df21170af",
        "_kg_hide-input": true
      },
      "cell_type": "code",
      "source": "def load_image(path, size):\n    img = PIL.Image.open(path)\n    normalise = transforms.ToTensor()\n    img_tensor = normalise(img).unsqueeze(0)\n    img_np = img_tensor.numpy()\n    return img, img_tensor, img_np\ninputImage = 'images/2016-06/P10002392.-000.png'\ninput_img, input_tensor, input_np = load_image(inputImage, size=[1024, 1024])\ninput_img",
      "execution_count": null,
      "outputs": []
    },
    {
      "metadata": {
        "_uuid": "6af66d6c745b4f226c3d51f174ddcbe73e2beef1"
      },
      "cell_type": "markdown",
      "source": "But most of the advertisements simply seek to highlight cultural and political divisions --  with the strategic goal of sowing discord in the U.S. political system."
    },
    {
      "metadata": {
        "_kg_hide-input": true,
        "trusted": true,
        "scrolled": true,
        "_uuid": "b6bb714f4c965b39b84650ddcf8b652a4af6f731"
      },
      "cell_type": "code",
      "source": "inputImage = 'images/2015-06/P10002571.-001.png'\ninput_img, input_tensor, input_np = load_image(inputImage, size=[1024, 1024])\ninput_img",
      "execution_count": null,
      "outputs": []
    },
    {
      "metadata": {
        "_kg_hide-input": true,
        "trusted": true,
        "_uuid": "31cbf60cd41f7c400f6dd2cbf49d9962afb34cc3"
      },
      "cell_type": "code",
      "source": "inputImage = 'images/2016-12/P10006344.-000.png'\ninput_img, input_tensor, input_np = load_image(inputImage, size=[1024, 1024])\ninput_img",
      "execution_count": null,
      "outputs": []
    },
    {
      "metadata": {
        "_kg_hide-input": true,
        "trusted": true,
        "_uuid": "3f2c439d2b27cd7fa1bf1ad227974f9be1afe804"
      },
      "cell_type": "code",
      "source": "inputImage = 'images/2017-05/P10000708.-000.png'\ninput_img, input_tensor, input_np = load_image(inputImage, size=[1024, 1024])\ninput_img",
      "execution_count": null,
      "outputs": []
    },
    {
      "metadata": {
        "_kg_hide-input": true,
        "trusted": true,
        "_uuid": "5ce93847330deed344d43af211d84d0e6a5b244d"
      },
      "cell_type": "code",
      "source": "inputImage = 'images/2017-05/P10005183.-000.png'\ninput_img, input_tensor, input_np = load_image(inputImage, size=[1024, 1024])\ninput_img2=np.asarray(input_img)\nimageio.imwrite('outfile.jpg', input_img2)\ninput_img",
      "execution_count": null,
      "outputs": []
    },
    {
      "metadata": {
        "_uuid": "500bb90681aa2da2adabe4d2b3ee9cfdfa77d996"
      },
      "cell_type": "markdown",
      "source": "Here is a sampling of the paid Facebook advertisements:"
    },
    {
      "metadata": {
        "trusted": true,
        "_uuid": "8a054f14a205f21c0658ade1a73abc2e31e75cdd",
        "_kg_hide-input": true
      },
      "cell_type": "code",
      "source": "multipleImages = glob('images/2016-06/**')\ndef plotImages(path,begin,end):\n    i_ = 0\n    plt.rcParams['figure.figsize'] = (25.0, 25.0)\n    plt.subplots_adjust(wspace=0, hspace=0)\n    for l in multipleImages[begin:end]:\n        im = cv2.imread(l)\n        im = cv2.resize(im, (1024, 1024)) \n        plt.subplot(3, 3, i_+1)\n        plt.imshow(cv2.cvtColor(im, cv2.COLOR_BGR2RGB)); plt.axis('off')\n        i_ += 1\n    plt.show()\nplotImages(multipleImages,0,9)  \nplotImages(multipleImages,9,18)  \nplotImages(multipleImages,18,27)  ",
      "execution_count": null,
      "outputs": []
    },
    {
      "metadata": {
        "trusted": true,
        "_uuid": "6052a3e64a745bf3fe8264fd913ccb556702a21f",
        "_kg_hide-input": true
      },
      "cell_type": "code",
      "source": "multipleImages = glob('images/2016-12/**')\nplotImages(multipleImages,0,9)  \nplotImages(multipleImages,9,18)  \nplotImages(multipleImages,18,27) ",
      "execution_count": null,
      "outputs": []
    },
    {
      "metadata": {
        "_kg_hide-input": true,
        "trusted": true,
        "_uuid": "d953bc6c52d9a31bd549fad7f743cf472dda66a3"
      },
      "cell_type": "code",
      "source": "multipleImages = glob('images/2017-03/**')\nplotImages(multipleImages,0,9)  \nplotImages(multipleImages,9,18)  \nplotImages(multipleImages,18,27) ",
      "execution_count": null,
      "outputs": []
    },
    {
      "metadata": {
        "trusted": true,
        "_uuid": "e049a58a38cf97192bc2420db207890a3b20544c",
        "_kg_hide-input": true,
        "scrolled": false
      },
      "cell_type": "code",
      "source": "multipleImages = glob('images/2017-04/**')\nplotImages(multipleImages,0,9)  \nplotImages(multipleImages,9,18)  \nplotImages(multipleImages,18,27) ",
      "execution_count": null,
      "outputs": []
    },
    {
      "metadata": {
        "_kg_hide-input": true,
        "trusted": true,
        "_uuid": "e7cbcb0b220ec44c1cdd017c7e1c4da986f95fad"
      },
      "cell_type": "code",
      "source": "print('Groups Targeted -- # of Ads Targeted at Specific Groups\\n')\ngroupCounts = dataset['FriendsOfConnections'].value_counts()\ngroupCounts2 = dataset['PeopleWhoMatch'].value_counts()\nprint(groupCounts.head(5),'\\n\\n',groupCounts2.head(5),'\\n')\npath = 'images'\nshutil.rmtree(path)",
      "execution_count": null,
      "outputs": []
    },
    {
      "metadata": {
        "_uuid": "1cff34caa75e1e97d9de6810a0b2ea67b16ef3e2"
      },
      "cell_type": "markdown",
      "source": "TL;DR:  Most of the Facebook advertisements that were purchased by the IRA simply seek to expose and enlarge cultural and political divisions in America.  The target audience appears to be people on both sides of various civil rights issues such as Black Lives Matter and LBGT/Pride.  Many of the advertisements are inflammatory and offensive and some might be surprised that the content was allowed on an advertising platform in the first place.  If you find this type of content offensive please do not proceed!"
    },
    {
      "metadata": {
        "_uuid": "b1ef83b4276b6a92c8105f094edb55dfc03c4ca5"
      },
      "cell_type": "markdown",
      "source": "In the future I want to examine this dataset in more detail."
    }
  ],
  "metadata": {
    "kernelspec": {
      "display_name": "Python 3",
      "language": "python",
      "name": "python3"
    },
    "language_info": {
      "name": "python",
      "version": "3.6.6",
      "mimetype": "text/x-python",
      "codemirror_mode": {
        "name": "ipython",
        "version": 3
      },
      "pygments_lexer": "ipython3",
      "nbconvert_exporter": "python",
      "file_extension": ".py"
    }
  },
  "nbformat": 4,
  "nbformat_minor": 1
}